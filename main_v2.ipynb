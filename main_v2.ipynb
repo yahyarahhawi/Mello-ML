{
 "cells": [
  {
   "cell_type": "markdown",
   "metadata": {},
   "source": [
    "# Mello ML - Dual Vector System Demonstration\n",
    "\n",
    "This notebook demonstrates the complete dual-vector pipeline:\n",
    "1. Create a population with synthetic users\n",
    "2. Load and process a real user from frontend JSON\n",
    "3. Visualize embeddings using UMAP and PCA\n",
    "\n",
    "## Architecture Overview\n",
    "- **Interests Vector**: 3072 dimensions\n",
    "- **Personality Vector**: 3840 dimensions (5 traits × 768 each)\n",
    "- **Combined Vector**: 6912 dimensions total"
   ]
  },
  {
   "cell_type": "code",
   "execution_count": 1,
   "metadata": {},
   "outputs": [
    {
     "name": "stderr",
     "output_type": "stream",
     "text": [
      "/Users/yahyarahhawi/miniforge3/envs/ml/lib/python3.12/site-packages/tqdm/auto.py:21: TqdmWarning: IProgress not found. Please update jupyter and ipywidgets. See https://ipywidgets.readthedocs.io/en/stable/user_install.html\n",
      "  from .autonotebook import tqdm as notebook_tqdm\n"
     ]
    },
    {
     "name": "stdout",
     "output_type": "stream",
     "text": [
      "✅ Imports successful! Ready to start the dual-vector pipeline.\n"
     ]
    }
   ],
   "source": [
    "# Import required libraries\n",
    "import json\n",
    "import numpy as np\n",
    "import matplotlib.pyplot as plt\n",
    "import seaborn as sns\n",
    "from sklearn.decomposition import PCA\n",
    "import umap\n",
    "import logging\n",
    "import warnings\n",
    "from pathlib import Path\n",
    "\n",
    "# Import our custom classes\n",
    "from user import User\n",
    "from population import Population\n",
    "from profile_generator import ProfileGenerator\n",
    "from embedding_generator import EmbeddingGenerator\n",
    "from dual_vector_utils import process_frontend_json_to_user\n",
    "\n",
    "# Set up plotting style\n",
    "plt.style.use('seaborn-v0_8')\n",
    "sns.set_palette(\"husl\")\n",
    "warnings.filterwarnings('ignore')\n",
    "\n",
    "# Set up logging\n",
    "logging.basicConfig(level=logging.INFO)\n",
    "logger = logging.getLogger(__name__)\n",
    "\n",
    "print(\"✅ Imports successful! Ready to start the dual-vector pipeline.\")"
   ]
  },
  {
   "cell_type": "markdown",
   "metadata": {},
   "source": [
    "## Step 1: Create Population with Synthetic Users\n",
    "\n",
    "Generate a diverse population of synthetic users with different personality types and interests."
   ]
  },
  {
   "cell_type": "code",
   "execution_count": null,
   "metadata": {},
   "outputs": [
    {
     "name": "stderr",
     "output_type": "stream",
     "text": [
      "INFO:profile_generator:Building JSON manually for Richard Stewart (Low Neuroticism, High Openness...)\n"
     ]
    },
    {
     "name": "stdout",
     "output_type": "stream",
     "text": [
      "Initializing AI generators...\n",
      "📝 Profile Generator: google/gemini-2.0-flash-001\n",
      "🔢 Embedding Generator: gemini-embedding-001 (3072D)\n",
      "\n",
      "🤖 Generating synthetic users with DUAL-VECTOR ONLY...\n",
      "This may take a few minutes due to API calls...\n",
      "\n",
      "🎭 Generating 100 synthetic users with dual-vector profiles...\n",
      "   Generating user 1/100...\n"
     ]
    },
    {
     "name": "stderr",
     "output_type": "stream",
     "text": [
      "INFO:profile_generator:Successfully built complete JSON for Richard Stewart\n",
      "INFO:profile_generator:Created synthetic user from JSON: Richard Stewart\n"
     ]
    },
    {
     "name": "stdout",
     "output_type": "stream",
     "text": [
      "   Processing Richard Stewart through dual-vector pipeline...\n"
     ]
    },
    {
     "name": "stderr",
     "output_type": "stream",
     "text": [
      "INFO:profile_generator:Generated interests profile for Richard Stewart\n",
      "INFO:profile_generator:Generated Openness profile for Richard Stewart\n",
      "INFO:profile_generator:Generated Conscientiousness profile for Richard Stewart\n",
      "INFO:profile_generator:Generated Extraversion profile for Richard Stewart\n",
      "INFO:profile_generator:Generated Agreeableness profile for Richard Stewart\n",
      "INFO:profile_generator:Generated Neuroticism profile for Richard Stewart\n",
      "INFO:profile_generator:Generated all personality profiles for Richard Stewart\n",
      "INFO:embedding_generator:Generated interests embedding for Richard Stewart (shape: (3072,))\n",
      "INFO:embedding_generator:Generated personality embedding for Richard Stewart (shape: (3840,))\n",
      "INFO:profile_generator:Building JSON manually for James Rodriguez (Low Openness, Low Neuroticism ...)\n"
     ]
    },
    {
     "name": "stdout",
     "output_type": "stream",
     "text": [
      "   ✅ Successfully processed Richard Stewart with dual vectors only\n",
      "   Generating user 2/100...\n"
     ]
    },
    {
     "name": "stderr",
     "output_type": "stream",
     "text": [
      "INFO:profile_generator:Successfully built complete JSON for James Rodriguez\n",
      "INFO:profile_generator:Created synthetic user from JSON: James Rodriguez\n"
     ]
    },
    {
     "name": "stdout",
     "output_type": "stream",
     "text": [
      "   Processing James Rodriguez through dual-vector pipeline...\n"
     ]
    },
    {
     "name": "stderr",
     "output_type": "stream",
     "text": [
      "INFO:profile_generator:Generated interests profile for James Rodriguez\n",
      "INFO:profile_generator:Generated Openness profile for James Rodriguez\n",
      "INFO:profile_generator:Generated Conscientiousness profile for James Rodriguez\n",
      "INFO:profile_generator:Generated Extraversion profile for James Rodriguez\n",
      "INFO:profile_generator:Generated Agreeableness profile for James Rodriguez\n",
      "INFO:profile_generator:Generated Neuroticism profile for James Rodriguez\n",
      "INFO:profile_generator:Generated all personality profiles for James Rodriguez\n",
      "INFO:embedding_generator:Generated interests embedding for James Rodriguez (shape: (3072,))\n",
      "INFO:embedding_generator:Generated personality embedding for James Rodriguez (shape: (3840,))\n",
      "INFO:profile_generator:Building JSON manually for Christian Powell (Low Neuroticism, High Extraver...)\n"
     ]
    },
    {
     "name": "stdout",
     "output_type": "stream",
     "text": [
      "   ✅ Successfully processed James Rodriguez with dual vectors only\n",
      "   Generating user 3/100...\n"
     ]
    },
    {
     "name": "stderr",
     "output_type": "stream",
     "text": [
      "INFO:profile_generator:Successfully built complete JSON for Christian Powell\n",
      "INFO:profile_generator:Created synthetic user from JSON: Christian Powell\n"
     ]
    },
    {
     "name": "stdout",
     "output_type": "stream",
     "text": [
      "   Processing Christian Powell through dual-vector pipeline...\n"
     ]
    },
    {
     "name": "stderr",
     "output_type": "stream",
     "text": [
      "INFO:profile_generator:Generated interests profile for Christian Powell\n",
      "INFO:profile_generator:Generated Openness profile for Christian Powell\n",
      "INFO:profile_generator:Generated Conscientiousness profile for Christian Powell\n",
      "INFO:profile_generator:Generated Extraversion profile for Christian Powell\n",
      "INFO:profile_generator:Generated Agreeableness profile for Christian Powell\n",
      "INFO:profile_generator:Generated Neuroticism profile for Christian Powell\n",
      "INFO:profile_generator:Generated all personality profiles for Christian Powell\n",
      "INFO:embedding_generator:Generated interests embedding for Christian Powell (shape: (3072,))\n",
      "INFO:embedding_generator:Generated personality embedding for Christian Powell (shape: (3840,))\n",
      "INFO:profile_generator:Building JSON manually for Lindsay Davis (High Extraversion, High Consci...)\n"
     ]
    },
    {
     "name": "stdout",
     "output_type": "stream",
     "text": [
      "   ✅ Successfully processed Christian Powell with dual vectors only\n",
      "   Generating user 4/100...\n"
     ]
    },
    {
     "name": "stderr",
     "output_type": "stream",
     "text": [
      "INFO:profile_generator:Successfully built complete JSON for Lindsay Davis\n",
      "INFO:profile_generator:Created synthetic user from JSON: Lindsay Davis\n"
     ]
    },
    {
     "name": "stdout",
     "output_type": "stream",
     "text": [
      "   Processing Lindsay Davis through dual-vector pipeline...\n"
     ]
    },
    {
     "name": "stderr",
     "output_type": "stream",
     "text": [
      "INFO:profile_generator:Generated interests profile for Lindsay Davis\n",
      "INFO:profile_generator:Generated Openness profile for Lindsay Davis\n",
      "INFO:profile_generator:Generated Conscientiousness profile for Lindsay Davis\n",
      "INFO:profile_generator:Generated Extraversion profile for Lindsay Davis\n",
      "INFO:profile_generator:Generated Agreeableness profile for Lindsay Davis\n",
      "INFO:profile_generator:Generated Neuroticism profile for Lindsay Davis\n",
      "INFO:profile_generator:Generated all personality profiles for Lindsay Davis\n",
      "INFO:embedding_generator:Generated interests embedding for Lindsay Davis (shape: (3072,))\n",
      "INFO:embedding_generator:Generated personality embedding for Lindsay Davis (shape: (3840,))\n",
      "INFO:profile_generator:Building JSON manually for Kelsey Smith (High Neuroticism, High Conscie...)\n"
     ]
    },
    {
     "name": "stdout",
     "output_type": "stream",
     "text": [
      "   ✅ Successfully processed Lindsay Davis with dual vectors only\n",
      "   Generating user 5/100...\n"
     ]
    },
    {
     "name": "stderr",
     "output_type": "stream",
     "text": [
      "INFO:profile_generator:Successfully built complete JSON for Kelsey Smith\n",
      "INFO:profile_generator:Created synthetic user from JSON: Kelsey Smith\n"
     ]
    },
    {
     "name": "stdout",
     "output_type": "stream",
     "text": [
      "   Processing Kelsey Smith through dual-vector pipeline...\n"
     ]
    },
    {
     "name": "stderr",
     "output_type": "stream",
     "text": [
      "INFO:profile_generator:Generated interests profile for Kelsey Smith\n",
      "INFO:profile_generator:Generated Openness profile for Kelsey Smith\n",
      "INFO:profile_generator:Generated Conscientiousness profile for Kelsey Smith\n",
      "INFO:profile_generator:Generated Extraversion profile for Kelsey Smith\n",
      "INFO:profile_generator:Generated Agreeableness profile for Kelsey Smith\n",
      "INFO:profile_generator:Generated Neuroticism profile for Kelsey Smith\n",
      "INFO:profile_generator:Generated all personality profiles for Kelsey Smith\n",
      "INFO:embedding_generator:Generated interests embedding for Kelsey Smith (shape: (3072,))\n",
      "INFO:embedding_generator:Generated personality embedding for Kelsey Smith (shape: (3840,))\n",
      "INFO:profile_generator:Building JSON manually for Bradley Sanchez (Low Openness, Low Agreeablenes...)\n"
     ]
    },
    {
     "name": "stdout",
     "output_type": "stream",
     "text": [
      "   ✅ Successfully processed Kelsey Smith with dual vectors only\n",
      "   Generating user 6/100...\n"
     ]
    },
    {
     "name": "stderr",
     "output_type": "stream",
     "text": [
      "INFO:profile_generator:Successfully built complete JSON for Bradley Sanchez\n",
      "INFO:profile_generator:Created synthetic user from JSON: Bradley Sanchez\n"
     ]
    },
    {
     "name": "stdout",
     "output_type": "stream",
     "text": [
      "   Processing Bradley Sanchez through dual-vector pipeline...\n"
     ]
    },
    {
     "name": "stderr",
     "output_type": "stream",
     "text": [
      "INFO:profile_generator:Generated interests profile for Bradley Sanchez\n",
      "INFO:profile_generator:Generated Openness profile for Bradley Sanchez\n",
      "INFO:profile_generator:Generated Conscientiousness profile for Bradley Sanchez\n",
      "INFO:profile_generator:Generated Extraversion profile for Bradley Sanchez\n",
      "INFO:profile_generator:Generated Agreeableness profile for Bradley Sanchez\n",
      "INFO:profile_generator:Generated Neuroticism profile for Bradley Sanchez\n",
      "INFO:profile_generator:Generated all personality profiles for Bradley Sanchez\n",
      "INFO:embedding_generator:Generated interests embedding for Bradley Sanchez (shape: (3072,))\n",
      "INFO:embedding_generator:Generated personality embedding for Bradley Sanchez (shape: (3840,))\n",
      "INFO:profile_generator:Building JSON manually for Christopher Beard (Low Agreeableness, High Consci...)\n"
     ]
    },
    {
     "name": "stdout",
     "output_type": "stream",
     "text": [
      "   ✅ Successfully processed Bradley Sanchez with dual vectors only\n",
      "   Generating user 7/100...\n"
     ]
    },
    {
     "name": "stderr",
     "output_type": "stream",
     "text": [
      "INFO:profile_generator:Successfully built complete JSON for Christopher Beard\n",
      "INFO:profile_generator:Created synthetic user from JSON: Christopher Beard\n"
     ]
    },
    {
     "name": "stdout",
     "output_type": "stream",
     "text": [
      "   Processing Christopher Beard through dual-vector pipeline...\n"
     ]
    },
    {
     "name": "stderr",
     "output_type": "stream",
     "text": [
      "INFO:profile_generator:Generated interests profile for Christopher Beard\n",
      "INFO:profile_generator:Generated Openness profile for Christopher Beard\n",
      "INFO:profile_generator:Generated Conscientiousness profile for Christopher Beard\n",
      "INFO:profile_generator:Generated Extraversion profile for Christopher Beard\n",
      "INFO:profile_generator:Generated Agreeableness profile for Christopher Beard\n",
      "INFO:profile_generator:Generated Neuroticism profile for Christopher Beard\n",
      "INFO:profile_generator:Generated all personality profiles for Christopher Beard\n",
      "INFO:embedding_generator:Generated interests embedding for Christopher Beard (shape: (3072,))\n",
      "INFO:embedding_generator:Generated personality embedding for Christopher Beard (shape: (3840,))\n",
      "INFO:profile_generator:Building JSON manually for Caitlyn Williams (High Openness, Low Agreeablene...)\n"
     ]
    },
    {
     "name": "stdout",
     "output_type": "stream",
     "text": [
      "   ✅ Successfully processed Christopher Beard with dual vectors only\n",
      "   Generating user 8/100...\n"
     ]
    },
    {
     "name": "stderr",
     "output_type": "stream",
     "text": [
      "INFO:profile_generator:Successfully built complete JSON for Caitlyn Williams\n",
      "INFO:profile_generator:Created synthetic user from JSON: Caitlyn Williams\n"
     ]
    },
    {
     "name": "stdout",
     "output_type": "stream",
     "text": [
      "   Processing Caitlyn Williams through dual-vector pipeline...\n"
     ]
    },
    {
     "name": "stderr",
     "output_type": "stream",
     "text": [
      "INFO:profile_generator:Generated interests profile for Caitlyn Williams\n",
      "INFO:profile_generator:Generated Openness profile for Caitlyn Williams\n",
      "INFO:profile_generator:Generated Conscientiousness profile for Caitlyn Williams\n",
      "INFO:profile_generator:Generated Extraversion profile for Caitlyn Williams\n",
      "INFO:profile_generator:Generated Agreeableness profile for Caitlyn Williams\n",
      "INFO:profile_generator:Generated Neuroticism profile for Caitlyn Williams\n",
      "INFO:profile_generator:Generated all personality profiles for Caitlyn Williams\n",
      "INFO:embedding_generator:Generated interests embedding for Caitlyn Williams (shape: (3072,))\n",
      "INFO:embedding_generator:Generated personality embedding for Caitlyn Williams (shape: (3840,))\n",
      "INFO:profile_generator:Building JSON manually for Robert Lewis (High Conscientiousness, High A...)\n"
     ]
    },
    {
     "name": "stdout",
     "output_type": "stream",
     "text": [
      "   ✅ Successfully processed Caitlyn Williams with dual vectors only\n",
      "   Generating user 9/100...\n"
     ]
    },
    {
     "name": "stderr",
     "output_type": "stream",
     "text": [
      "INFO:profile_generator:Successfully built complete JSON for Robert Lewis\n",
      "INFO:profile_generator:Created synthetic user from JSON: Robert Lewis\n"
     ]
    },
    {
     "name": "stdout",
     "output_type": "stream",
     "text": [
      "   Processing Robert Lewis through dual-vector pipeline...\n"
     ]
    },
    {
     "name": "stderr",
     "output_type": "stream",
     "text": [
      "INFO:profile_generator:Generated interests profile for Robert Lewis\n",
      "INFO:profile_generator:Generated Openness profile for Robert Lewis\n",
      "INFO:profile_generator:Generated Conscientiousness profile for Robert Lewis\n",
      "INFO:profile_generator:Generated Extraversion profile for Robert Lewis\n",
      "INFO:profile_generator:Generated Agreeableness profile for Robert Lewis\n",
      "INFO:profile_generator:Generated Neuroticism profile for Robert Lewis\n",
      "INFO:profile_generator:Generated all personality profiles for Robert Lewis\n",
      "INFO:embedding_generator:Generated interests embedding for Robert Lewis (shape: (3072,))\n",
      "INFO:embedding_generator:Generated personality embedding for Robert Lewis (shape: (3840,))\n",
      "INFO:profile_generator:Building JSON manually for Shawn Reed (Low Openness, High Agreeablene...)\n"
     ]
    },
    {
     "name": "stdout",
     "output_type": "stream",
     "text": [
      "   ✅ Successfully processed Robert Lewis with dual vectors only\n",
      "   Generating user 10/100...\n"
     ]
    },
    {
     "name": "stderr",
     "output_type": "stream",
     "text": [
      "INFO:profile_generator:Successfully built complete JSON for Shawn Reed\n",
      "INFO:profile_generator:Created synthetic user from JSON: Shawn Reed\n"
     ]
    },
    {
     "name": "stdout",
     "output_type": "stream",
     "text": [
      "   Processing Shawn Reed through dual-vector pipeline...\n"
     ]
    },
    {
     "name": "stderr",
     "output_type": "stream",
     "text": [
      "INFO:profile_generator:Generated interests profile for Shawn Reed\n",
      "INFO:profile_generator:Generated Openness profile for Shawn Reed\n",
      "INFO:profile_generator:Generated Conscientiousness profile for Shawn Reed\n",
      "INFO:profile_generator:Generated Extraversion profile for Shawn Reed\n",
      "INFO:profile_generator:Generated Agreeableness profile for Shawn Reed\n",
      "INFO:profile_generator:Generated Neuroticism profile for Shawn Reed\n",
      "INFO:profile_generator:Generated all personality profiles for Shawn Reed\n",
      "INFO:embedding_generator:Generated interests embedding for Shawn Reed (shape: (3072,))\n",
      "INFO:embedding_generator:Generated personality embedding for Shawn Reed (shape: (3840,))\n",
      "INFO:profile_generator:Building JSON manually for Adam Walker (Low Extraversion, Low Conscien...)\n"
     ]
    },
    {
     "name": "stdout",
     "output_type": "stream",
     "text": [
      "   ✅ Successfully processed Shawn Reed with dual vectors only\n",
      "   Generating user 11/100...\n"
     ]
    },
    {
     "name": "stderr",
     "output_type": "stream",
     "text": [
      "INFO:profile_generator:Successfully built complete JSON for Adam Walker\n",
      "INFO:profile_generator:Created synthetic user from JSON: Adam Walker\n"
     ]
    },
    {
     "name": "stdout",
     "output_type": "stream",
     "text": [
      "   Processing Adam Walker through dual-vector pipeline...\n"
     ]
    },
    {
     "name": "stderr",
     "output_type": "stream",
     "text": [
      "INFO:profile_generator:Generated interests profile for Adam Walker\n",
      "INFO:profile_generator:Generated Openness profile for Adam Walker\n",
      "INFO:profile_generator:Generated Conscientiousness profile for Adam Walker\n",
      "INFO:profile_generator:Generated Extraversion profile for Adam Walker\n",
      "INFO:profile_generator:Generated Agreeableness profile for Adam Walker\n",
      "INFO:profile_generator:Generated Neuroticism profile for Adam Walker\n",
      "INFO:profile_generator:Generated all personality profiles for Adam Walker\n",
      "INFO:embedding_generator:Generated interests embedding for Adam Walker (shape: (3072,))\n",
      "INFO:embedding_generator:Generated personality embedding for Adam Walker (shape: (3840,))\n",
      "INFO:profile_generator:Building JSON manually for Lauren Jacobs (Low Extraversion, Low Conscien...)\n"
     ]
    },
    {
     "name": "stdout",
     "output_type": "stream",
     "text": [
      "   ✅ Successfully processed Adam Walker with dual vectors only\n",
      "   Generating user 12/100...\n"
     ]
    },
    {
     "name": "stderr",
     "output_type": "stream",
     "text": [
      "INFO:profile_generator:Successfully built complete JSON for Lauren Jacobs\n",
      "INFO:profile_generator:Created synthetic user from JSON: Lauren Jacobs\n"
     ]
    },
    {
     "name": "stdout",
     "output_type": "stream",
     "text": [
      "   Processing Lauren Jacobs through dual-vector pipeline...\n"
     ]
    },
    {
     "name": "stderr",
     "output_type": "stream",
     "text": [
      "INFO:profile_generator:Generated interests profile for Lauren Jacobs\n",
      "INFO:profile_generator:Generated Openness profile for Lauren Jacobs\n",
      "INFO:profile_generator:Generated Conscientiousness profile for Lauren Jacobs\n",
      "INFO:profile_generator:Generated Extraversion profile for Lauren Jacobs\n",
      "INFO:profile_generator:Generated Agreeableness profile for Lauren Jacobs\n",
      "INFO:profile_generator:Generated Neuroticism profile for Lauren Jacobs\n",
      "INFO:profile_generator:Generated all personality profiles for Lauren Jacobs\n",
      "INFO:embedding_generator:Generated interests embedding for Lauren Jacobs (shape: (3072,))\n",
      "INFO:embedding_generator:Generated personality embedding for Lauren Jacobs (shape: (3840,))\n",
      "INFO:profile_generator:Building JSON manually for Richard Huerta (Low Neuroticism, Low Agreeable...)\n"
     ]
    },
    {
     "name": "stdout",
     "output_type": "stream",
     "text": [
      "   ✅ Successfully processed Lauren Jacobs with dual vectors only\n",
      "   Generating user 13/100...\n"
     ]
    },
    {
     "name": "stderr",
     "output_type": "stream",
     "text": [
      "INFO:profile_generator:Successfully built complete JSON for Richard Huerta\n",
      "INFO:profile_generator:Created synthetic user from JSON: Richard Huerta\n"
     ]
    },
    {
     "name": "stdout",
     "output_type": "stream",
     "text": [
      "   Processing Richard Huerta through dual-vector pipeline...\n"
     ]
    },
    {
     "name": "stderr",
     "output_type": "stream",
     "text": [
      "INFO:profile_generator:Generated interests profile for Richard Huerta\n",
      "INFO:profile_generator:Generated Openness profile for Richard Huerta\n",
      "INFO:profile_generator:Generated Conscientiousness profile for Richard Huerta\n",
      "INFO:profile_generator:Generated Extraversion profile for Richard Huerta\n",
      "INFO:profile_generator:Generated Agreeableness profile for Richard Huerta\n",
      "INFO:profile_generator:Generated Neuroticism profile for Richard Huerta\n",
      "INFO:profile_generator:Generated all personality profiles for Richard Huerta\n",
      "INFO:embedding_generator:Generated interests embedding for Richard Huerta (shape: (3072,))\n",
      "INFO:embedding_generator:Generated personality embedding for Richard Huerta (shape: (3840,))\n",
      "INFO:profile_generator:Building JSON manually for Danielle Nelson (High Openness, High Extraversi...)\n"
     ]
    },
    {
     "name": "stdout",
     "output_type": "stream",
     "text": [
      "   ✅ Successfully processed Richard Huerta with dual vectors only\n",
      "   Generating user 14/100...\n"
     ]
    },
    {
     "name": "stderr",
     "output_type": "stream",
     "text": [
      "INFO:profile_generator:Successfully built complete JSON for Danielle Nelson\n",
      "INFO:profile_generator:Created synthetic user from JSON: Danielle Nelson\n"
     ]
    },
    {
     "name": "stdout",
     "output_type": "stream",
     "text": [
      "   Processing Danielle Nelson through dual-vector pipeline...\n"
     ]
    },
    {
     "name": "stderr",
     "output_type": "stream",
     "text": [
      "INFO:profile_generator:Generated interests profile for Danielle Nelson\n",
      "INFO:profile_generator:Generated Openness profile for Danielle Nelson\n",
      "INFO:profile_generator:Generated Conscientiousness profile for Danielle Nelson\n",
      "INFO:profile_generator:Generated Extraversion profile for Danielle Nelson\n",
      "INFO:profile_generator:Generated Agreeableness profile for Danielle Nelson\n",
      "INFO:profile_generator:Generated Neuroticism profile for Danielle Nelson\n",
      "INFO:profile_generator:Generated all personality profiles for Danielle Nelson\n",
      "INFO:embedding_generator:Generated interests embedding for Danielle Nelson (shape: (3072,))\n",
      "INFO:embedding_generator:Generated personality embedding for Danielle Nelson (shape: (3840,))\n",
      "INFO:profile_generator:Building JSON manually for Emily Dixon (High Agreeableness, High Extra...)\n"
     ]
    },
    {
     "name": "stdout",
     "output_type": "stream",
     "text": [
      "   ✅ Successfully processed Danielle Nelson with dual vectors only\n",
      "   Generating user 15/100...\n"
     ]
    },
    {
     "name": "stderr",
     "output_type": "stream",
     "text": [
      "INFO:profile_generator:Successfully built complete JSON for Emily Dixon\n",
      "INFO:profile_generator:Created synthetic user from JSON: Emily Dixon\n"
     ]
    },
    {
     "name": "stdout",
     "output_type": "stream",
     "text": [
      "   Processing Emily Dixon through dual-vector pipeline...\n"
     ]
    },
    {
     "name": "stderr",
     "output_type": "stream",
     "text": [
      "INFO:profile_generator:Generated interests profile for Emily Dixon\n",
      "INFO:profile_generator:Generated Openness profile for Emily Dixon\n",
      "INFO:profile_generator:Generated Conscientiousness profile for Emily Dixon\n",
      "INFO:profile_generator:Generated Extraversion profile for Emily Dixon\n",
      "INFO:profile_generator:Generated Agreeableness profile for Emily Dixon\n",
      "INFO:profile_generator:Generated Neuroticism profile for Emily Dixon\n",
      "INFO:profile_generator:Generated all personality profiles for Emily Dixon\n",
      "INFO:embedding_generator:Generated interests embedding for Emily Dixon (shape: (3072,))\n",
      "INFO:embedding_generator:Generated personality embedding for Emily Dixon (shape: (3840,))\n",
      "INFO:profile_generator:Building JSON manually for Grace Brown MD (Low Conscientiousness, Low Agr...)\n"
     ]
    },
    {
     "name": "stdout",
     "output_type": "stream",
     "text": [
      "   ✅ Successfully processed Emily Dixon with dual vectors only\n",
      "   Generating user 16/100...\n"
     ]
    },
    {
     "name": "stderr",
     "output_type": "stream",
     "text": [
      "INFO:profile_generator:Successfully built complete JSON for Grace Brown MD\n",
      "INFO:profile_generator:Created synthetic user from JSON: Grace Brown MD\n"
     ]
    },
    {
     "name": "stdout",
     "output_type": "stream",
     "text": [
      "   Processing Grace Brown MD through dual-vector pipeline...\n"
     ]
    },
    {
     "name": "stderr",
     "output_type": "stream",
     "text": [
      "INFO:profile_generator:Generated interests profile for Grace Brown MD\n",
      "INFO:profile_generator:Generated Openness profile for Grace Brown MD\n",
      "INFO:profile_generator:Generated Conscientiousness profile for Grace Brown MD\n",
      "INFO:profile_generator:Generated Extraversion profile for Grace Brown MD\n",
      "INFO:profile_generator:Generated Agreeableness profile for Grace Brown MD\n",
      "INFO:profile_generator:Generated Neuroticism profile for Grace Brown MD\n",
      "INFO:profile_generator:Generated all personality profiles for Grace Brown MD\n",
      "INFO:embedding_generator:Generated interests embedding for Grace Brown MD (shape: (3072,))\n",
      "INFO:embedding_generator:Generated personality embedding for Grace Brown MD (shape: (3840,))\n",
      "INFO:profile_generator:Building JSON manually for Glen Johnson (Low Extraversion, High Conscie...)\n"
     ]
    },
    {
     "name": "stdout",
     "output_type": "stream",
     "text": [
      "   ✅ Successfully processed Grace Brown MD with dual vectors only\n",
      "   Generating user 17/100...\n"
     ]
    },
    {
     "name": "stderr",
     "output_type": "stream",
     "text": [
      "INFO:profile_generator:Successfully built complete JSON for Glen Johnson\n",
      "INFO:profile_generator:Created synthetic user from JSON: Glen Johnson\n"
     ]
    },
    {
     "name": "stdout",
     "output_type": "stream",
     "text": [
      "   Processing Glen Johnson through dual-vector pipeline...\n"
     ]
    },
    {
     "name": "stderr",
     "output_type": "stream",
     "text": [
      "INFO:profile_generator:Generated interests profile for Glen Johnson\n",
      "INFO:profile_generator:Generated Openness profile for Glen Johnson\n",
      "INFO:profile_generator:Generated Conscientiousness profile for Glen Johnson\n",
      "INFO:profile_generator:Generated Extraversion profile for Glen Johnson\n",
      "INFO:profile_generator:Generated Agreeableness profile for Glen Johnson\n",
      "INFO:profile_generator:Generated Neuroticism profile for Glen Johnson\n",
      "INFO:profile_generator:Generated all personality profiles for Glen Johnson\n",
      "INFO:embedding_generator:Generated interests embedding for Glen Johnson (shape: (3072,))\n",
      "INFO:embedding_generator:Generated personality embedding for Glen Johnson (shape: (3840,))\n",
      "INFO:profile_generator:Building JSON manually for Justin Bailey (Low Conscientiousness, Low Agr...)\n"
     ]
    },
    {
     "name": "stdout",
     "output_type": "stream",
     "text": [
      "   ✅ Successfully processed Glen Johnson with dual vectors only\n",
      "   Generating user 18/100...\n"
     ]
    },
    {
     "name": "stderr",
     "output_type": "stream",
     "text": [
      "INFO:profile_generator:Successfully built complete JSON for Justin Bailey\n",
      "INFO:profile_generator:Created synthetic user from JSON: Justin Bailey\n"
     ]
    },
    {
     "name": "stdout",
     "output_type": "stream",
     "text": [
      "   Processing Justin Bailey through dual-vector pipeline...\n"
     ]
    },
    {
     "name": "stderr",
     "output_type": "stream",
     "text": [
      "INFO:profile_generator:Generated interests profile for Justin Bailey\n",
      "INFO:profile_generator:Generated Openness profile for Justin Bailey\n",
      "INFO:profile_generator:Generated Conscientiousness profile for Justin Bailey\n",
      "INFO:profile_generator:Generated Extraversion profile for Justin Bailey\n",
      "INFO:profile_generator:Generated Agreeableness profile for Justin Bailey\n",
      "INFO:profile_generator:Generated Neuroticism profile for Justin Bailey\n",
      "INFO:profile_generator:Generated all personality profiles for Justin Bailey\n",
      "INFO:embedding_generator:Generated interests embedding for Justin Bailey (shape: (3072,))\n",
      "INFO:embedding_generator:Generated personality embedding for Justin Bailey (shape: (3840,))\n",
      "INFO:profile_generator:Building JSON manually for Nancy Davis (Low Openness, High Conscientio...)\n"
     ]
    },
    {
     "name": "stdout",
     "output_type": "stream",
     "text": [
      "   ✅ Successfully processed Justin Bailey with dual vectors only\n",
      "   Generating user 19/100...\n"
     ]
    },
    {
     "name": "stderr",
     "output_type": "stream",
     "text": [
      "INFO:profile_generator:Successfully built complete JSON for Nancy Davis\n",
      "INFO:profile_generator:Created synthetic user from JSON: Nancy Davis\n"
     ]
    },
    {
     "name": "stdout",
     "output_type": "stream",
     "text": [
      "   Processing Nancy Davis through dual-vector pipeline...\n"
     ]
    },
    {
     "name": "stderr",
     "output_type": "stream",
     "text": [
      "INFO:profile_generator:Generated interests profile for Nancy Davis\n",
      "INFO:profile_generator:Generated Openness profile for Nancy Davis\n",
      "INFO:profile_generator:Generated Conscientiousness profile for Nancy Davis\n",
      "INFO:profile_generator:Generated Extraversion profile for Nancy Davis\n",
      "INFO:profile_generator:Generated Agreeableness profile for Nancy Davis\n",
      "INFO:profile_generator:Generated Neuroticism profile for Nancy Davis\n",
      "INFO:profile_generator:Generated all personality profiles for Nancy Davis\n",
      "INFO:embedding_generator:Generated interests embedding for Nancy Davis (shape: (3072,))\n",
      "INFO:embedding_generator:Generated personality embedding for Nancy Davis (shape: (3840,))\n",
      "INFO:profile_generator:Building JSON manually for John Jones (High Conscientiousness, Low Op...)\n"
     ]
    },
    {
     "name": "stdout",
     "output_type": "stream",
     "text": [
      "   ✅ Successfully processed Nancy Davis with dual vectors only\n",
      "   Generating user 20/100...\n"
     ]
    },
    {
     "name": "stderr",
     "output_type": "stream",
     "text": [
      "INFO:profile_generator:Successfully built complete JSON for John Jones\n",
      "INFO:profile_generator:Created synthetic user from JSON: John Jones\n"
     ]
    },
    {
     "name": "stdout",
     "output_type": "stream",
     "text": [
      "   Processing John Jones through dual-vector pipeline...\n"
     ]
    },
    {
     "name": "stderr",
     "output_type": "stream",
     "text": [
      "INFO:profile_generator:Generated interests profile for John Jones\n",
      "INFO:profile_generator:Generated Openness profile for John Jones\n",
      "INFO:profile_generator:Generated Conscientiousness profile for John Jones\n",
      "INFO:profile_generator:Generated Extraversion profile for John Jones\n",
      "INFO:profile_generator:Generated Agreeableness profile for John Jones\n",
      "INFO:profile_generator:Generated Neuroticism profile for John Jones\n",
      "INFO:profile_generator:Generated all personality profiles for John Jones\n",
      "INFO:embedding_generator:Generated interests embedding for John Jones (shape: (3072,))\n",
      "INFO:embedding_generator:Generated personality embedding for John Jones (shape: (3840,))\n",
      "INFO:profile_generator:Building JSON manually for Paige Allen (High Conscientiousness, Low Ne...)\n"
     ]
    },
    {
     "name": "stdout",
     "output_type": "stream",
     "text": [
      "   ✅ Successfully processed John Jones with dual vectors only\n",
      "   Generating user 21/100...\n"
     ]
    },
    {
     "name": "stderr",
     "output_type": "stream",
     "text": [
      "INFO:profile_generator:Successfully built complete JSON for Paige Allen\n",
      "INFO:profile_generator:Created synthetic user from JSON: Paige Allen\n"
     ]
    },
    {
     "name": "stdout",
     "output_type": "stream",
     "text": [
      "   Processing Paige Allen through dual-vector pipeline...\n"
     ]
    },
    {
     "name": "stderr",
     "output_type": "stream",
     "text": [
      "INFO:profile_generator:Generated interests profile for Paige Allen\n",
      "INFO:profile_generator:Generated Openness profile for Paige Allen\n",
      "INFO:profile_generator:Generated Conscientiousness profile for Paige Allen\n",
      "INFO:profile_generator:Generated Extraversion profile for Paige Allen\n",
      "INFO:profile_generator:Generated Agreeableness profile for Paige Allen\n",
      "INFO:profile_generator:Generated Neuroticism profile for Paige Allen\n",
      "INFO:profile_generator:Generated all personality profiles for Paige Allen\n",
      "INFO:embedding_generator:Generated interests embedding for Paige Allen (shape: (3072,))\n",
      "INFO:embedding_generator:Generated personality embedding for Paige Allen (shape: (3840,))\n",
      "INFO:profile_generator:Building JSON manually for Maureen Smith (Low Extraversion, High Conscie...)\n"
     ]
    },
    {
     "name": "stdout",
     "output_type": "stream",
     "text": [
      "   ✅ Successfully processed Paige Allen with dual vectors only\n",
      "   Generating user 22/100...\n"
     ]
    },
    {
     "name": "stderr",
     "output_type": "stream",
     "text": [
      "INFO:profile_generator:Successfully built complete JSON for Maureen Smith\n",
      "INFO:profile_generator:Created synthetic user from JSON: Maureen Smith\n"
     ]
    },
    {
     "name": "stdout",
     "output_type": "stream",
     "text": [
      "   Processing Maureen Smith through dual-vector pipeline...\n"
     ]
    },
    {
     "name": "stderr",
     "output_type": "stream",
     "text": [
      "INFO:profile_generator:Generated interests profile for Maureen Smith\n",
      "INFO:profile_generator:Generated Openness profile for Maureen Smith\n",
      "INFO:profile_generator:Generated Conscientiousness profile for Maureen Smith\n",
      "INFO:profile_generator:Generated Extraversion profile for Maureen Smith\n",
      "INFO:profile_generator:Generated Agreeableness profile for Maureen Smith\n",
      "INFO:profile_generator:Generated Neuroticism profile for Maureen Smith\n",
      "INFO:profile_generator:Generated all personality profiles for Maureen Smith\n",
      "INFO:embedding_generator:Generated interests embedding for Maureen Smith (shape: (3072,))\n",
      "INFO:embedding_generator:Generated personality embedding for Maureen Smith (shape: (3840,))\n",
      "INFO:profile_generator:Building JSON manually for James Avila (High Extraversion, High Agreea...)\n"
     ]
    },
    {
     "name": "stdout",
     "output_type": "stream",
     "text": [
      "   ✅ Successfully processed Maureen Smith with dual vectors only\n",
      "   Generating user 23/100...\n"
     ]
    },
    {
     "name": "stderr",
     "output_type": "stream",
     "text": [
      "INFO:profile_generator:Successfully built complete JSON for James Avila\n",
      "INFO:profile_generator:Created synthetic user from JSON: James Avila\n"
     ]
    },
    {
     "name": "stdout",
     "output_type": "stream",
     "text": [
      "   Processing James Avila through dual-vector pipeline...\n"
     ]
    },
    {
     "name": "stderr",
     "output_type": "stream",
     "text": [
      "INFO:profile_generator:Generated interests profile for James Avila\n",
      "INFO:profile_generator:Generated Openness profile for James Avila\n",
      "INFO:profile_generator:Generated Conscientiousness profile for James Avila\n",
      "INFO:profile_generator:Generated Extraversion profile for James Avila\n",
      "INFO:profile_generator:Generated Agreeableness profile for James Avila\n",
      "INFO:profile_generator:Generated Neuroticism profile for James Avila\n",
      "INFO:profile_generator:Generated all personality profiles for James Avila\n",
      "INFO:embedding_generator:Generated interests embedding for James Avila (shape: (3072,))\n",
      "INFO:embedding_generator:Generated personality embedding for James Avila (shape: (3840,))\n",
      "INFO:profile_generator:Building JSON manually for Shawn Strong (High Extraversion, Low Conscie...)\n"
     ]
    },
    {
     "name": "stdout",
     "output_type": "stream",
     "text": [
      "   ✅ Successfully processed James Avila with dual vectors only\n",
      "   Generating user 24/100...\n"
     ]
    },
    {
     "name": "stderr",
     "output_type": "stream",
     "text": [
      "INFO:profile_generator:Successfully built complete JSON for Shawn Strong\n",
      "INFO:profile_generator:Created synthetic user from JSON: Shawn Strong\n"
     ]
    },
    {
     "name": "stdout",
     "output_type": "stream",
     "text": [
      "   Processing Shawn Strong through dual-vector pipeline...\n"
     ]
    },
    {
     "name": "stderr",
     "output_type": "stream",
     "text": [
      "INFO:profile_generator:Generated interests profile for Shawn Strong\n",
      "INFO:profile_generator:Generated Openness profile for Shawn Strong\n",
      "INFO:profile_generator:Generated Conscientiousness profile for Shawn Strong\n",
      "INFO:profile_generator:Generated Extraversion profile for Shawn Strong\n",
      "INFO:profile_generator:Generated Agreeableness profile for Shawn Strong\n",
      "INFO:profile_generator:Generated Neuroticism profile for Shawn Strong\n",
      "INFO:profile_generator:Generated all personality profiles for Shawn Strong\n",
      "INFO:embedding_generator:Generated interests embedding for Shawn Strong (shape: (3072,))\n",
      "INFO:embedding_generator:Generated personality embedding for Shawn Strong (shape: (3840,))\n",
      "INFO:profile_generator:Building JSON manually for Misty Alexander (Low Extraversion, Low Conscien...)\n"
     ]
    },
    {
     "name": "stdout",
     "output_type": "stream",
     "text": [
      "   ✅ Successfully processed Shawn Strong with dual vectors only\n",
      "   Generating user 25/100...\n"
     ]
    },
    {
     "name": "stderr",
     "output_type": "stream",
     "text": [
      "INFO:profile_generator:Successfully built complete JSON for Misty Alexander\n",
      "INFO:profile_generator:Created synthetic user from JSON: Misty Alexander\n"
     ]
    },
    {
     "name": "stdout",
     "output_type": "stream",
     "text": [
      "   Processing Misty Alexander through dual-vector pipeline...\n"
     ]
    },
    {
     "name": "stderr",
     "output_type": "stream",
     "text": [
      "INFO:profile_generator:Generated interests profile for Misty Alexander\n",
      "INFO:profile_generator:Generated Openness profile for Misty Alexander\n",
      "INFO:profile_generator:Generated Conscientiousness profile for Misty Alexander\n",
      "INFO:profile_generator:Generated Extraversion profile for Misty Alexander\n",
      "INFO:profile_generator:Generated Agreeableness profile for Misty Alexander\n",
      "INFO:profile_generator:Generated Neuroticism profile for Misty Alexander\n",
      "INFO:profile_generator:Generated all personality profiles for Misty Alexander\n",
      "INFO:embedding_generator:Generated interests embedding for Misty Alexander (shape: (3072,))\n",
      "INFO:embedding_generator:Generated personality embedding for Misty Alexander (shape: (3840,))\n",
      "INFO:profile_generator:Building JSON manually for Jasmine Rich (High Neuroticism, High Agreeab...)\n"
     ]
    },
    {
     "name": "stdout",
     "output_type": "stream",
     "text": [
      "   ✅ Successfully processed Misty Alexander with dual vectors only\n",
      "   Generating user 26/100...\n"
     ]
    },
    {
     "name": "stderr",
     "output_type": "stream",
     "text": [
      "INFO:profile_generator:Successfully built complete JSON for Jasmine Rich\n",
      "INFO:profile_generator:Created synthetic user from JSON: Jasmine Rich\n"
     ]
    },
    {
     "name": "stdout",
     "output_type": "stream",
     "text": [
      "   Processing Jasmine Rich through dual-vector pipeline...\n"
     ]
    },
    {
     "name": "stderr",
     "output_type": "stream",
     "text": [
      "INFO:profile_generator:Generated interests profile for Jasmine Rich\n",
      "INFO:profile_generator:Generated Openness profile for Jasmine Rich\n",
      "INFO:profile_generator:Generated Conscientiousness profile for Jasmine Rich\n",
      "INFO:profile_generator:Generated Extraversion profile for Jasmine Rich\n",
      "INFO:profile_generator:Generated Agreeableness profile for Jasmine Rich\n",
      "INFO:profile_generator:Generated Neuroticism profile for Jasmine Rich\n",
      "INFO:profile_generator:Generated all personality profiles for Jasmine Rich\n",
      "INFO:embedding_generator:Generated interests embedding for Jasmine Rich (shape: (3072,))\n",
      "INFO:embedding_generator:Generated personality embedding for Jasmine Rich (shape: (3840,))\n",
      "INFO:profile_generator:Building JSON manually for Walter Carey (Low Conscientiousness, High Op...)\n"
     ]
    },
    {
     "name": "stdout",
     "output_type": "stream",
     "text": [
      "   ✅ Successfully processed Jasmine Rich with dual vectors only\n",
      "   Generating user 27/100...\n"
     ]
    },
    {
     "name": "stderr",
     "output_type": "stream",
     "text": [
      "INFO:profile_generator:Successfully built complete JSON for Walter Carey\n",
      "INFO:profile_generator:Created synthetic user from JSON: Walter Carey\n"
     ]
    },
    {
     "name": "stdout",
     "output_type": "stream",
     "text": [
      "   Processing Walter Carey through dual-vector pipeline...\n"
     ]
    },
    {
     "name": "stderr",
     "output_type": "stream",
     "text": [
      "INFO:profile_generator:Generated interests profile for Walter Carey\n",
      "INFO:profile_generator:Generated Openness profile for Walter Carey\n",
      "INFO:profile_generator:Generated Conscientiousness profile for Walter Carey\n",
      "INFO:profile_generator:Generated Extraversion profile for Walter Carey\n",
      "INFO:profile_generator:Generated Agreeableness profile for Walter Carey\n",
      "INFO:profile_generator:Generated Neuroticism profile for Walter Carey\n",
      "INFO:profile_generator:Generated all personality profiles for Walter Carey\n",
      "INFO:embedding_generator:Generated interests embedding for Walter Carey (shape: (3072,))\n",
      "INFO:embedding_generator:Generated personality embedding for Walter Carey (shape: (3840,))\n",
      "INFO:profile_generator:Building JSON manually for Ashley Leonard (Low Agreeableness, High Extrav...)\n"
     ]
    },
    {
     "name": "stdout",
     "output_type": "stream",
     "text": [
      "   ✅ Successfully processed Walter Carey with dual vectors only\n",
      "   Generating user 28/100...\n"
     ]
    },
    {
     "name": "stderr",
     "output_type": "stream",
     "text": [
      "INFO:profile_generator:Successfully built complete JSON for Ashley Leonard\n",
      "INFO:profile_generator:Created synthetic user from JSON: Ashley Leonard\n"
     ]
    },
    {
     "name": "stdout",
     "output_type": "stream",
     "text": [
      "   Processing Ashley Leonard through dual-vector pipeline...\n"
     ]
    },
    {
     "name": "stderr",
     "output_type": "stream",
     "text": [
      "INFO:profile_generator:Generated interests profile for Ashley Leonard\n",
      "INFO:profile_generator:Generated Openness profile for Ashley Leonard\n",
      "INFO:profile_generator:Generated Conscientiousness profile for Ashley Leonard\n",
      "INFO:profile_generator:Generated Extraversion profile for Ashley Leonard\n",
      "INFO:profile_generator:Generated Agreeableness profile for Ashley Leonard\n",
      "INFO:profile_generator:Generated Neuroticism profile for Ashley Leonard\n",
      "INFO:profile_generator:Generated all personality profiles for Ashley Leonard\n",
      "INFO:embedding_generator:Generated interests embedding for Ashley Leonard (shape: (3072,))\n",
      "INFO:embedding_generator:Generated personality embedding for Ashley Leonard (shape: (3840,))\n",
      "INFO:profile_generator:Building JSON manually for James Foster (Low Neuroticism, Low Agreeable...)\n"
     ]
    },
    {
     "name": "stdout",
     "output_type": "stream",
     "text": [
      "   ✅ Successfully processed Ashley Leonard with dual vectors only\n",
      "   Generating user 29/100...\n"
     ]
    },
    {
     "name": "stderr",
     "output_type": "stream",
     "text": [
      "INFO:profile_generator:Successfully built complete JSON for James Foster\n",
      "INFO:profile_generator:Created synthetic user from JSON: James Foster\n"
     ]
    },
    {
     "name": "stdout",
     "output_type": "stream",
     "text": [
      "   Processing James Foster through dual-vector pipeline...\n"
     ]
    },
    {
     "name": "stderr",
     "output_type": "stream",
     "text": [
      "INFO:profile_generator:Generated interests profile for James Foster\n",
      "INFO:profile_generator:Generated Openness profile for James Foster\n",
      "INFO:profile_generator:Generated Conscientiousness profile for James Foster\n",
      "INFO:profile_generator:Generated Extraversion profile for James Foster\n",
      "INFO:profile_generator:Generated Agreeableness profile for James Foster\n",
      "INFO:profile_generator:Generated Neuroticism profile for James Foster\n",
      "INFO:profile_generator:Generated all personality profiles for James Foster\n",
      "INFO:embedding_generator:Generated interests embedding for James Foster (shape: (3072,))\n",
      "INFO:embedding_generator:Generated personality embedding for James Foster (shape: (3840,))\n",
      "INFO:profile_generator:Building JSON manually for Heather Mitchell (Low Neuroticism, High Extraver...)\n"
     ]
    },
    {
     "name": "stdout",
     "output_type": "stream",
     "text": [
      "   ✅ Successfully processed James Foster with dual vectors only\n",
      "   Generating user 30/100...\n"
     ]
    },
    {
     "name": "stderr",
     "output_type": "stream",
     "text": [
      "INFO:profile_generator:Successfully built complete JSON for Heather Mitchell\n",
      "INFO:profile_generator:Created synthetic user from JSON: Heather Mitchell\n"
     ]
    },
    {
     "name": "stdout",
     "output_type": "stream",
     "text": [
      "   Processing Heather Mitchell through dual-vector pipeline...\n"
     ]
    },
    {
     "name": "stderr",
     "output_type": "stream",
     "text": [
      "INFO:profile_generator:Generated interests profile for Heather Mitchell\n",
      "INFO:profile_generator:Generated Openness profile for Heather Mitchell\n",
      "INFO:profile_generator:Generated Conscientiousness profile for Heather Mitchell\n",
      "INFO:profile_generator:Generated Extraversion profile for Heather Mitchell\n",
      "INFO:profile_generator:Generated Agreeableness profile for Heather Mitchell\n",
      "INFO:profile_generator:Generated Neuroticism profile for Heather Mitchell\n",
      "INFO:profile_generator:Generated all personality profiles for Heather Mitchell\n",
      "INFO:embedding_generator:Generated interests embedding for Heather Mitchell (shape: (3072,))\n",
      "INFO:embedding_generator:Generated personality embedding for Heather Mitchell (shape: (3840,))\n",
      "INFO:profile_generator:Building JSON manually for Laura Sutton (High Conscientiousness, Low Ne...)\n"
     ]
    },
    {
     "name": "stdout",
     "output_type": "stream",
     "text": [
      "   ✅ Successfully processed Heather Mitchell with dual vectors only\n",
      "   Generating user 31/100...\n"
     ]
    },
    {
     "name": "stderr",
     "output_type": "stream",
     "text": [
      "INFO:profile_generator:Successfully built complete JSON for Laura Sutton\n",
      "INFO:profile_generator:Created synthetic user from JSON: Laura Sutton\n"
     ]
    },
    {
     "name": "stdout",
     "output_type": "stream",
     "text": [
      "   Processing Laura Sutton through dual-vector pipeline...\n"
     ]
    },
    {
     "name": "stderr",
     "output_type": "stream",
     "text": [
      "INFO:profile_generator:Generated interests profile for Laura Sutton\n",
      "INFO:profile_generator:Generated Openness profile for Laura Sutton\n",
      "INFO:profile_generator:Generated Conscientiousness profile for Laura Sutton\n",
      "INFO:profile_generator:Generated Extraversion profile for Laura Sutton\n",
      "INFO:profile_generator:Generated Agreeableness profile for Laura Sutton\n",
      "INFO:profile_generator:Generated Neuroticism profile for Laura Sutton\n",
      "INFO:profile_generator:Generated all personality profiles for Laura Sutton\n",
      "INFO:embedding_generator:Generated interests embedding for Laura Sutton (shape: (3072,))\n",
      "INFO:embedding_generator:Generated personality embedding for Laura Sutton (shape: (3840,))\n",
      "INFO:profile_generator:Building JSON manually for Andrew Palmer (High Neuroticism, Low Extraver...)\n"
     ]
    },
    {
     "name": "stdout",
     "output_type": "stream",
     "text": [
      "   ✅ Successfully processed Laura Sutton with dual vectors only\n",
      "   Generating user 32/100...\n"
     ]
    },
    {
     "name": "stderr",
     "output_type": "stream",
     "text": [
      "INFO:profile_generator:Successfully built complete JSON for Andrew Palmer\n",
      "INFO:profile_generator:Created synthetic user from JSON: Andrew Palmer\n"
     ]
    },
    {
     "name": "stdout",
     "output_type": "stream",
     "text": [
      "   Processing Andrew Palmer through dual-vector pipeline...\n"
     ]
    },
    {
     "name": "stderr",
     "output_type": "stream",
     "text": [
      "INFO:profile_generator:Generated interests profile for Andrew Palmer\n",
      "INFO:profile_generator:Generated Openness profile for Andrew Palmer\n",
      "INFO:profile_generator:Generated Conscientiousness profile for Andrew Palmer\n",
      "INFO:profile_generator:Generated Extraversion profile for Andrew Palmer\n",
      "INFO:profile_generator:Generated Agreeableness profile for Andrew Palmer\n",
      "INFO:profile_generator:Generated Neuroticism profile for Andrew Palmer\n",
      "INFO:profile_generator:Generated all personality profiles for Andrew Palmer\n",
      "INFO:embedding_generator:Generated interests embedding for Andrew Palmer (shape: (3072,))\n",
      "INFO:embedding_generator:Generated personality embedding for Andrew Palmer (shape: (3840,))\n",
      "INFO:profile_generator:Building JSON manually for Sara Williams (Low Agreeableness, High Consci...)\n"
     ]
    },
    {
     "name": "stdout",
     "output_type": "stream",
     "text": [
      "   ✅ Successfully processed Andrew Palmer with dual vectors only\n",
      "   Generating user 33/100...\n"
     ]
    },
    {
     "name": "stderr",
     "output_type": "stream",
     "text": [
      "INFO:profile_generator:Successfully built complete JSON for Sara Williams\n",
      "INFO:profile_generator:Created synthetic user from JSON: Sara Williams\n"
     ]
    },
    {
     "name": "stdout",
     "output_type": "stream",
     "text": [
      "   Processing Sara Williams through dual-vector pipeline...\n"
     ]
    },
    {
     "name": "stderr",
     "output_type": "stream",
     "text": [
      "INFO:profile_generator:Generated interests profile for Sara Williams\n",
      "INFO:profile_generator:Generated Openness profile for Sara Williams\n",
      "INFO:profile_generator:Generated Conscientiousness profile for Sara Williams\n",
      "INFO:profile_generator:Generated Extraversion profile for Sara Williams\n",
      "INFO:profile_generator:Generated Agreeableness profile for Sara Williams\n",
      "INFO:profile_generator:Generated Neuroticism profile for Sara Williams\n",
      "INFO:profile_generator:Generated all personality profiles for Sara Williams\n",
      "INFO:embedding_generator:Generated interests embedding for Sara Williams (shape: (3072,))\n",
      "INFO:embedding_generator:Generated personality embedding for Sara Williams (shape: (3840,))\n",
      "INFO:profile_generator:Building JSON manually for Wanda Jones (Low Agreeableness, Low Neuroti...)\n"
     ]
    },
    {
     "name": "stdout",
     "output_type": "stream",
     "text": [
      "   ✅ Successfully processed Sara Williams with dual vectors only\n",
      "   Generating user 34/100...\n"
     ]
    },
    {
     "name": "stderr",
     "output_type": "stream",
     "text": [
      "INFO:profile_generator:Successfully built complete JSON for Wanda Jones\n",
      "INFO:profile_generator:Created synthetic user from JSON: Wanda Jones\n"
     ]
    },
    {
     "name": "stdout",
     "output_type": "stream",
     "text": [
      "   Processing Wanda Jones through dual-vector pipeline...\n"
     ]
    },
    {
     "name": "stderr",
     "output_type": "stream",
     "text": [
      "INFO:profile_generator:Generated interests profile for Wanda Jones\n",
      "INFO:profile_generator:Generated Openness profile for Wanda Jones\n",
      "INFO:profile_generator:Generated Conscientiousness profile for Wanda Jones\n",
      "INFO:profile_generator:Generated Extraversion profile for Wanda Jones\n",
      "INFO:profile_generator:Generated Agreeableness profile for Wanda Jones\n",
      "INFO:profile_generator:Generated Neuroticism profile for Wanda Jones\n",
      "INFO:profile_generator:Generated all personality profiles for Wanda Jones\n",
      "INFO:embedding_generator:Generated interests embedding for Wanda Jones (shape: (3072,))\n",
      "INFO:embedding_generator:Generated personality embedding for Wanda Jones (shape: (3840,))\n",
      "INFO:profile_generator:Building JSON manually for Chris Glenn (Low Openness, Low Neuroticism ...)\n"
     ]
    },
    {
     "name": "stdout",
     "output_type": "stream",
     "text": [
      "   ✅ Successfully processed Wanda Jones with dual vectors only\n",
      "   Generating user 35/100...\n"
     ]
    },
    {
     "name": "stderr",
     "output_type": "stream",
     "text": [
      "INFO:profile_generator:Successfully built complete JSON for Chris Glenn\n",
      "INFO:profile_generator:Created synthetic user from JSON: Chris Glenn\n"
     ]
    },
    {
     "name": "stdout",
     "output_type": "stream",
     "text": [
      "   Processing Chris Glenn through dual-vector pipeline...\n"
     ]
    },
    {
     "name": "stderr",
     "output_type": "stream",
     "text": [
      "INFO:profile_generator:Generated interests profile for Chris Glenn\n",
      "INFO:profile_generator:Generated Openness profile for Chris Glenn\n",
      "INFO:profile_generator:Generated Conscientiousness profile for Chris Glenn\n",
      "INFO:profile_generator:Generated Extraversion profile for Chris Glenn\n",
      "INFO:profile_generator:Generated Agreeableness profile for Chris Glenn\n",
      "INFO:profile_generator:Generated Neuroticism profile for Chris Glenn\n",
      "INFO:profile_generator:Generated all personality profiles for Chris Glenn\n",
      "INFO:embedding_generator:Generated interests embedding for Chris Glenn (shape: (3072,))\n",
      "INFO:embedding_generator:Generated personality embedding for Chris Glenn (shape: (3840,))\n",
      "INFO:profile_generator:Building JSON manually for Grace Gonzalez (High variability complex: show...)\n"
     ]
    },
    {
     "name": "stdout",
     "output_type": "stream",
     "text": [
      "   ✅ Successfully processed Chris Glenn with dual vectors only\n",
      "   Generating user 36/100...\n"
     ]
    },
    {
     "name": "stderr",
     "output_type": "stream",
     "text": [
      "INFO:profile_generator:Successfully built complete JSON for Grace Gonzalez\n",
      "INFO:profile_generator:Created synthetic user from JSON: Grace Gonzalez\n"
     ]
    },
    {
     "name": "stdout",
     "output_type": "stream",
     "text": [
      "   Processing Grace Gonzalez through dual-vector pipeline...\n"
     ]
    },
    {
     "name": "stderr",
     "output_type": "stream",
     "text": [
      "INFO:profile_generator:Generated interests profile for Grace Gonzalez\n",
      "INFO:profile_generator:Generated Openness profile for Grace Gonzalez\n",
      "INFO:profile_generator:Generated Conscientiousness profile for Grace Gonzalez\n",
      "INFO:profile_generator:Generated Extraversion profile for Grace Gonzalez\n",
      "INFO:profile_generator:Generated Agreeableness profile for Grace Gonzalez\n",
      "INFO:profile_generator:Generated Neuroticism profile for Grace Gonzalez\n",
      "INFO:profile_generator:Generated all personality profiles for Grace Gonzalez\n",
      "INFO:embedding_generator:Generated interests embedding for Grace Gonzalez (shape: (3072,))\n",
      "INFO:embedding_generator:Generated personality embedding for Grace Gonzalez (shape: (3840,))\n",
      "INFO:profile_generator:Building JSON manually for Vincent Black (High Openness, High Agreeablen...)\n"
     ]
    },
    {
     "name": "stdout",
     "output_type": "stream",
     "text": [
      "   ✅ Successfully processed Grace Gonzalez with dual vectors only\n",
      "   Generating user 37/100...\n"
     ]
    },
    {
     "name": "stderr",
     "output_type": "stream",
     "text": [
      "INFO:profile_generator:Successfully built complete JSON for Vincent Black\n",
      "INFO:profile_generator:Created synthetic user from JSON: Vincent Black\n"
     ]
    },
    {
     "name": "stdout",
     "output_type": "stream",
     "text": [
      "   Processing Vincent Black through dual-vector pipeline...\n"
     ]
    },
    {
     "name": "stderr",
     "output_type": "stream",
     "text": [
      "INFO:profile_generator:Generated interests profile for Vincent Black\n",
      "INFO:profile_generator:Generated Openness profile for Vincent Black\n",
      "INFO:profile_generator:Generated Conscientiousness profile for Vincent Black\n",
      "INFO:profile_generator:Generated Extraversion profile for Vincent Black\n",
      "INFO:profile_generator:Generated Agreeableness profile for Vincent Black\n",
      "INFO:profile_generator:Generated Neuroticism profile for Vincent Black\n",
      "INFO:profile_generator:Generated all personality profiles for Vincent Black\n",
      "INFO:embedding_generator:Generated interests embedding for Vincent Black (shape: (3072,))\n",
      "INFO:embedding_generator:Generated personality embedding for Vincent Black (shape: (3840,))\n",
      "INFO:profile_generator:Building JSON manually for Lynn Foster (High Neuroticism, Low Agreeabl...)\n"
     ]
    },
    {
     "name": "stdout",
     "output_type": "stream",
     "text": [
      "   ✅ Successfully processed Vincent Black with dual vectors only\n",
      "   Generating user 38/100...\n"
     ]
    },
    {
     "name": "stderr",
     "output_type": "stream",
     "text": [
      "INFO:profile_generator:Successfully built complete JSON for Lynn Foster\n",
      "INFO:profile_generator:Created synthetic user from JSON: Lynn Foster\n"
     ]
    },
    {
     "name": "stdout",
     "output_type": "stream",
     "text": [
      "   Processing Lynn Foster through dual-vector pipeline...\n"
     ]
    },
    {
     "name": "stderr",
     "output_type": "stream",
     "text": [
      "INFO:profile_generator:Generated interests profile for Lynn Foster\n",
      "INFO:profile_generator:Generated Openness profile for Lynn Foster\n",
      "INFO:profile_generator:Generated Conscientiousness profile for Lynn Foster\n",
      "INFO:profile_generator:Generated Extraversion profile for Lynn Foster\n",
      "INFO:profile_generator:Generated Agreeableness profile for Lynn Foster\n",
      "INFO:profile_generator:Generated Neuroticism profile for Lynn Foster\n",
      "INFO:profile_generator:Generated all personality profiles for Lynn Foster\n",
      "INFO:embedding_generator:Generated interests embedding for Lynn Foster (shape: (3072,))\n",
      "INFO:embedding_generator:Generated personality embedding for Lynn Foster (shape: (3840,))\n",
      "INFO:profile_generator:Building JSON manually for James Ortiz (Low Agreeableness, High Extrav...)\n"
     ]
    },
    {
     "name": "stdout",
     "output_type": "stream",
     "text": [
      "   ✅ Successfully processed Lynn Foster with dual vectors only\n",
      "   Generating user 39/100...\n"
     ]
    },
    {
     "name": "stderr",
     "output_type": "stream",
     "text": [
      "INFO:profile_generator:Successfully built complete JSON for James Ortiz\n",
      "INFO:profile_generator:Created synthetic user from JSON: James Ortiz\n"
     ]
    },
    {
     "name": "stdout",
     "output_type": "stream",
     "text": [
      "   Processing James Ortiz through dual-vector pipeline...\n"
     ]
    },
    {
     "name": "stderr",
     "output_type": "stream",
     "text": [
      "INFO:profile_generator:Generated interests profile for James Ortiz\n",
      "INFO:profile_generator:Generated Openness profile for James Ortiz\n",
      "INFO:profile_generator:Generated Conscientiousness profile for James Ortiz\n",
      "INFO:profile_generator:Generated Extraversion profile for James Ortiz\n",
      "INFO:profile_generator:Generated Agreeableness profile for James Ortiz\n",
      "INFO:profile_generator:Generated Neuroticism profile for James Ortiz\n",
      "INFO:profile_generator:Generated all personality profiles for James Ortiz\n",
      "INFO:embedding_generator:Generated interests embedding for James Ortiz (shape: (3072,))\n",
      "INFO:embedding_generator:Generated personality embedding for James Ortiz (shape: (3840,))\n",
      "INFO:profile_generator:Building JSON manually for Susan Camacho (Low Agreeableness, Low Extrave...)\n"
     ]
    },
    {
     "name": "stdout",
     "output_type": "stream",
     "text": [
      "   ✅ Successfully processed James Ortiz with dual vectors only\n",
      "   Generating user 40/100...\n"
     ]
    },
    {
     "name": "stderr",
     "output_type": "stream",
     "text": [
      "INFO:profile_generator:Successfully built complete JSON for Susan Camacho\n",
      "INFO:profile_generator:Created synthetic user from JSON: Susan Camacho\n"
     ]
    },
    {
     "name": "stdout",
     "output_type": "stream",
     "text": [
      "   Processing Susan Camacho through dual-vector pipeline...\n"
     ]
    },
    {
     "name": "stderr",
     "output_type": "stream",
     "text": [
      "INFO:profile_generator:Generated interests profile for Susan Camacho\n",
      "INFO:profile_generator:Generated Openness profile for Susan Camacho\n",
      "INFO:profile_generator:Generated Conscientiousness profile for Susan Camacho\n",
      "INFO:profile_generator:Generated Extraversion profile for Susan Camacho\n",
      "INFO:profile_generator:Generated Agreeableness profile for Susan Camacho\n",
      "INFO:profile_generator:Generated Neuroticism profile for Susan Camacho\n",
      "INFO:profile_generator:Generated all personality profiles for Susan Camacho\n",
      "INFO:embedding_generator:Generated interests embedding for Susan Camacho (shape: (3072,))\n",
      "INFO:embedding_generator:Generated personality embedding for Susan Camacho (shape: (3840,))\n",
      "INFO:profile_generator:Building JSON manually for Michelle Thomas (Low Extraversion, Low Agreeabl...)\n"
     ]
    },
    {
     "name": "stdout",
     "output_type": "stream",
     "text": [
      "   ✅ Successfully processed Susan Camacho with dual vectors only\n",
      "   Generating user 41/100...\n"
     ]
    },
    {
     "name": "stderr",
     "output_type": "stream",
     "text": [
      "INFO:profile_generator:Successfully built complete JSON for Michelle Thomas\n",
      "INFO:profile_generator:Created synthetic user from JSON: Michelle Thomas\n"
     ]
    },
    {
     "name": "stdout",
     "output_type": "stream",
     "text": [
      "   Processing Michelle Thomas through dual-vector pipeline...\n"
     ]
    },
    {
     "name": "stderr",
     "output_type": "stream",
     "text": [
      "INFO:profile_generator:Generated interests profile for Michelle Thomas\n",
      "INFO:profile_generator:Generated Openness profile for Michelle Thomas\n",
      "INFO:profile_generator:Generated Conscientiousness profile for Michelle Thomas\n",
      "INFO:profile_generator:Generated Extraversion profile for Michelle Thomas\n",
      "INFO:profile_generator:Generated Agreeableness profile for Michelle Thomas\n",
      "INFO:profile_generator:Generated Neuroticism profile for Michelle Thomas\n",
      "INFO:profile_generator:Generated all personality profiles for Michelle Thomas\n",
      "INFO:embedding_generator:Generated interests embedding for Michelle Thomas (shape: (3072,))\n",
      "INFO:embedding_generator:Generated personality embedding for Michelle Thomas (shape: (3840,))\n",
      "INFO:profile_generator:Building JSON manually for Emma Brown (High Conscientiousness, Low Op...)\n"
     ]
    },
    {
     "name": "stdout",
     "output_type": "stream",
     "text": [
      "   ✅ Successfully processed Michelle Thomas with dual vectors only\n",
      "   Generating user 42/100...\n"
     ]
    },
    {
     "name": "stderr",
     "output_type": "stream",
     "text": [
      "INFO:profile_generator:Successfully built complete JSON for Emma Brown\n",
      "INFO:profile_generator:Created synthetic user from JSON: Emma Brown\n"
     ]
    },
    {
     "name": "stdout",
     "output_type": "stream",
     "text": [
      "   Processing Emma Brown through dual-vector pipeline...\n"
     ]
    },
    {
     "name": "stderr",
     "output_type": "stream",
     "text": [
      "INFO:profile_generator:Generated interests profile for Emma Brown\n",
      "INFO:profile_generator:Generated Openness profile for Emma Brown\n",
      "INFO:profile_generator:Generated Conscientiousness profile for Emma Brown\n",
      "INFO:profile_generator:Generated Extraversion profile for Emma Brown\n",
      "INFO:profile_generator:Generated Agreeableness profile for Emma Brown\n",
      "INFO:profile_generator:Generated Neuroticism profile for Emma Brown\n",
      "INFO:profile_generator:Generated all personality profiles for Emma Brown\n",
      "INFO:embedding_generator:Generated interests embedding for Emma Brown (shape: (3072,))\n",
      "INFO:embedding_generator:Generated personality embedding for Emma Brown (shape: (3840,))\n",
      "INFO:profile_generator:Building JSON manually for Richard Roth (High Extraversion, Low Agreeab...)\n"
     ]
    },
    {
     "name": "stdout",
     "output_type": "stream",
     "text": [
      "   ✅ Successfully processed Emma Brown with dual vectors only\n",
      "   Generating user 43/100...\n"
     ]
    },
    {
     "name": "stderr",
     "output_type": "stream",
     "text": [
      "INFO:profile_generator:Successfully built complete JSON for Richard Roth\n",
      "INFO:profile_generator:Created synthetic user from JSON: Richard Roth\n"
     ]
    },
    {
     "name": "stdout",
     "output_type": "stream",
     "text": [
      "   Processing Richard Roth through dual-vector pipeline...\n"
     ]
    },
    {
     "name": "stderr",
     "output_type": "stream",
     "text": [
      "INFO:profile_generator:Generated interests profile for Richard Roth\n",
      "INFO:profile_generator:Generated Openness profile for Richard Roth\n",
      "INFO:profile_generator:Generated Conscientiousness profile for Richard Roth\n",
      "INFO:profile_generator:Generated Extraversion profile for Richard Roth\n",
      "INFO:profile_generator:Generated Agreeableness profile for Richard Roth\n",
      "INFO:profile_generator:Generated Neuroticism profile for Richard Roth\n",
      "INFO:profile_generator:Generated all personality profiles for Richard Roth\n",
      "INFO:embedding_generator:Generated interests embedding for Richard Roth (shape: (3072,))\n",
      "INFO:embedding_generator:Generated personality embedding for Richard Roth (shape: (3840,))\n",
      "INFO:profile_generator:Building JSON manually for Jessica Matthews (High Agreeableness, High Extra...)\n"
     ]
    },
    {
     "name": "stdout",
     "output_type": "stream",
     "text": [
      "   ✅ Successfully processed Richard Roth with dual vectors only\n",
      "   Generating user 44/100...\n"
     ]
    },
    {
     "name": "stderr",
     "output_type": "stream",
     "text": [
      "INFO:profile_generator:Successfully built complete JSON for Jessica Matthews\n",
      "INFO:profile_generator:Created synthetic user from JSON: Jessica Matthews\n"
     ]
    },
    {
     "name": "stdout",
     "output_type": "stream",
     "text": [
      "   Processing Jessica Matthews through dual-vector pipeline...\n"
     ]
    },
    {
     "name": "stderr",
     "output_type": "stream",
     "text": [
      "INFO:profile_generator:Generated interests profile for Jessica Matthews\n",
      "INFO:profile_generator:Generated Openness profile for Jessica Matthews\n",
      "INFO:profile_generator:Generated Conscientiousness profile for Jessica Matthews\n",
      "INFO:profile_generator:Generated Extraversion profile for Jessica Matthews\n",
      "INFO:profile_generator:Generated Agreeableness profile for Jessica Matthews\n",
      "INFO:profile_generator:Generated Neuroticism profile for Jessica Matthews\n",
      "INFO:profile_generator:Generated all personality profiles for Jessica Matthews\n",
      "INFO:embedding_generator:Generated interests embedding for Jessica Matthews (shape: (3072,))\n",
      "INFO:embedding_generator:Generated personality embedding for Jessica Matthews (shape: (3840,))\n",
      "INFO:profile_generator:Building JSON manually for Bryan Barrett (Low Agreeableness, High Consci...)\n"
     ]
    },
    {
     "name": "stdout",
     "output_type": "stream",
     "text": [
      "   ✅ Successfully processed Jessica Matthews with dual vectors only\n",
      "   Generating user 45/100...\n"
     ]
    },
    {
     "name": "stderr",
     "output_type": "stream",
     "text": [
      "INFO:profile_generator:Successfully built complete JSON for Bryan Barrett\n",
      "INFO:profile_generator:Created synthetic user from JSON: Bryan Barrett\n"
     ]
    },
    {
     "name": "stdout",
     "output_type": "stream",
     "text": [
      "   Processing Bryan Barrett through dual-vector pipeline...\n"
     ]
    },
    {
     "name": "stderr",
     "output_type": "stream",
     "text": [
      "INFO:profile_generator:Generated interests profile for Bryan Barrett\n",
      "INFO:profile_generator:Generated Openness profile for Bryan Barrett\n",
      "INFO:profile_generator:Generated Conscientiousness profile for Bryan Barrett\n",
      "INFO:profile_generator:Generated Extraversion profile for Bryan Barrett\n",
      "INFO:profile_generator:Generated Agreeableness profile for Bryan Barrett\n",
      "INFO:profile_generator:Generated Neuroticism profile for Bryan Barrett\n",
      "INFO:profile_generator:Generated all personality profiles for Bryan Barrett\n",
      "INFO:embedding_generator:Generated interests embedding for Bryan Barrett (shape: (3072,))\n",
      "INFO:embedding_generator:Generated personality embedding for Bryan Barrett (shape: (3840,))\n",
      "INFO:profile_generator:Building JSON manually for William Rosario (High Openness, High Agreeablen...)\n"
     ]
    },
    {
     "name": "stdout",
     "output_type": "stream",
     "text": [
      "   ✅ Successfully processed Bryan Barrett with dual vectors only\n",
      "   Generating user 46/100...\n"
     ]
    },
    {
     "name": "stderr",
     "output_type": "stream",
     "text": [
      "INFO:profile_generator:Successfully built complete JSON for William Rosario\n",
      "INFO:profile_generator:Created synthetic user from JSON: William Rosario\n"
     ]
    },
    {
     "name": "stdout",
     "output_type": "stream",
     "text": [
      "   Processing William Rosario through dual-vector pipeline...\n"
     ]
    },
    {
     "name": "stderr",
     "output_type": "stream",
     "text": [
      "INFO:profile_generator:Generated interests profile for William Rosario\n",
      "INFO:profile_generator:Generated Openness profile for William Rosario\n",
      "INFO:profile_generator:Generated Conscientiousness profile for William Rosario\n",
      "INFO:profile_generator:Generated Extraversion profile for William Rosario\n",
      "INFO:profile_generator:Generated Agreeableness profile for William Rosario\n",
      "INFO:profile_generator:Generated Neuroticism profile for William Rosario\n",
      "INFO:profile_generator:Generated all personality profiles for William Rosario\n",
      "INFO:embedding_generator:Generated interests embedding for William Rosario (shape: (3072,))\n",
      "INFO:embedding_generator:Generated personality embedding for William Rosario (shape: (3840,))\n",
      "INFO:profile_generator:Building JSON manually for Denise Stewart (Balanced moderate: moderate on...)\n"
     ]
    },
    {
     "name": "stdout",
     "output_type": "stream",
     "text": [
      "   ✅ Successfully processed William Rosario with dual vectors only\n",
      "   Generating user 47/100...\n"
     ]
    },
    {
     "name": "stderr",
     "output_type": "stream",
     "text": [
      "INFO:profile_generator:Successfully built complete JSON for Denise Stewart\n",
      "INFO:profile_generator:Created synthetic user from JSON: Denise Stewart\n"
     ]
    },
    {
     "name": "stdout",
     "output_type": "stream",
     "text": [
      "   Processing Denise Stewart through dual-vector pipeline...\n"
     ]
    },
    {
     "name": "stderr",
     "output_type": "stream",
     "text": [
      "INFO:profile_generator:Generated interests profile for Denise Stewart\n",
      "INFO:profile_generator:Generated Openness profile for Denise Stewart\n",
      "INFO:profile_generator:Generated Conscientiousness profile for Denise Stewart\n",
      "INFO:profile_generator:Generated Extraversion profile for Denise Stewart\n",
      "INFO:profile_generator:Generated Agreeableness profile for Denise Stewart\n",
      "INFO:profile_generator:Generated Neuroticism profile for Denise Stewart\n",
      "INFO:profile_generator:Generated all personality profiles for Denise Stewart\n",
      "INFO:embedding_generator:Generated interests embedding for Denise Stewart (shape: (3072,))\n",
      "INFO:embedding_generator:Generated personality embedding for Denise Stewart (shape: (3840,))\n",
      "INFO:profile_generator:Building JSON manually for Crystal Wilkerson (High Openness, High Extraversi...)\n"
     ]
    },
    {
     "name": "stdout",
     "output_type": "stream",
     "text": [
      "   ✅ Successfully processed Denise Stewart with dual vectors only\n",
      "   Generating user 48/100...\n"
     ]
    },
    {
     "name": "stderr",
     "output_type": "stream",
     "text": [
      "INFO:profile_generator:Successfully built complete JSON for Crystal Wilkerson\n",
      "INFO:profile_generator:Created synthetic user from JSON: Crystal Wilkerson\n"
     ]
    },
    {
     "name": "stdout",
     "output_type": "stream",
     "text": [
      "   Processing Crystal Wilkerson through dual-vector pipeline...\n"
     ]
    },
    {
     "name": "stderr",
     "output_type": "stream",
     "text": [
      "INFO:profile_generator:Generated interests profile for Crystal Wilkerson\n",
      "INFO:profile_generator:Generated Openness profile for Crystal Wilkerson\n",
      "INFO:profile_generator:Generated Conscientiousness profile for Crystal Wilkerson\n",
      "INFO:profile_generator:Generated Extraversion profile for Crystal Wilkerson\n",
      "INFO:profile_generator:Generated Agreeableness profile for Crystal Wilkerson\n",
      "INFO:profile_generator:Generated Neuroticism profile for Crystal Wilkerson\n",
      "INFO:profile_generator:Generated all personality profiles for Crystal Wilkerson\n",
      "INFO:embedding_generator:Generated interests embedding for Crystal Wilkerson (shape: (3072,))\n",
      "INFO:embedding_generator:Generated personality embedding for Crystal Wilkerson (shape: (3840,))\n",
      "INFO:profile_generator:Building JSON manually for Sarah Esparza (Low Extraversion, Low Conscien...)\n"
     ]
    },
    {
     "name": "stdout",
     "output_type": "stream",
     "text": [
      "   ✅ Successfully processed Crystal Wilkerson with dual vectors only\n",
      "   Generating user 49/100...\n"
     ]
    },
    {
     "name": "stderr",
     "output_type": "stream",
     "text": [
      "INFO:profile_generator:Successfully built complete JSON for Sarah Esparza\n",
      "INFO:profile_generator:Created synthetic user from JSON: Sarah Esparza\n"
     ]
    },
    {
     "name": "stdout",
     "output_type": "stream",
     "text": [
      "   Processing Sarah Esparza through dual-vector pipeline...\n"
     ]
    },
    {
     "name": "stderr",
     "output_type": "stream",
     "text": [
      "INFO:profile_generator:Generated interests profile for Sarah Esparza\n",
      "INFO:profile_generator:Generated Openness profile for Sarah Esparza\n",
      "INFO:profile_generator:Generated Conscientiousness profile for Sarah Esparza\n",
      "INFO:profile_generator:Generated Extraversion profile for Sarah Esparza\n",
      "INFO:profile_generator:Generated Agreeableness profile for Sarah Esparza\n",
      "INFO:profile_generator:Generated Neuroticism profile for Sarah Esparza\n",
      "INFO:profile_generator:Generated all personality profiles for Sarah Esparza\n",
      "INFO:embedding_generator:Generated interests embedding for Sarah Esparza (shape: (3072,))\n",
      "INFO:embedding_generator:Generated personality embedding for Sarah Esparza (shape: (3840,))\n",
      "INFO:profile_generator:Building JSON manually for Andrew Jacobs (Low Extraversion, Low Conscien...)\n"
     ]
    },
    {
     "name": "stdout",
     "output_type": "stream",
     "text": [
      "   ✅ Successfully processed Sarah Esparza with dual vectors only\n",
      "   Generating user 50/100...\n"
     ]
    },
    {
     "name": "stderr",
     "output_type": "stream",
     "text": [
      "INFO:profile_generator:Successfully built complete JSON for Andrew Jacobs\n",
      "INFO:profile_generator:Created synthetic user from JSON: Andrew Jacobs\n"
     ]
    },
    {
     "name": "stdout",
     "output_type": "stream",
     "text": [
      "   Processing Andrew Jacobs through dual-vector pipeline...\n"
     ]
    },
    {
     "name": "stderr",
     "output_type": "stream",
     "text": [
      "INFO:profile_generator:Generated interests profile for Andrew Jacobs\n",
      "INFO:profile_generator:Generated Openness profile for Andrew Jacobs\n",
      "INFO:profile_generator:Generated Conscientiousness profile for Andrew Jacobs\n",
      "INFO:profile_generator:Generated Extraversion profile for Andrew Jacobs\n",
      "INFO:profile_generator:Generated Agreeableness profile for Andrew Jacobs\n",
      "INFO:profile_generator:Generated Neuroticism profile for Andrew Jacobs\n",
      "INFO:profile_generator:Generated all personality profiles for Andrew Jacobs\n",
      "INFO:embedding_generator:Generated interests embedding for Andrew Jacobs (shape: (3072,))\n",
      "INFO:embedding_generator:Generated personality embedding for Andrew Jacobs (shape: (3840,))\n",
      "INFO:profile_generator:Building JSON manually for Adam Soto (Low Openness, Low Agreeablenes...)\n"
     ]
    },
    {
     "name": "stdout",
     "output_type": "stream",
     "text": [
      "   ✅ Successfully processed Andrew Jacobs with dual vectors only\n",
      "   Generating user 51/100...\n"
     ]
    },
    {
     "name": "stderr",
     "output_type": "stream",
     "text": [
      "INFO:profile_generator:Successfully built complete JSON for Adam Soto\n",
      "INFO:profile_generator:Created synthetic user from JSON: Adam Soto\n"
     ]
    },
    {
     "name": "stdout",
     "output_type": "stream",
     "text": [
      "   Processing Adam Soto through dual-vector pipeline...\n"
     ]
    },
    {
     "name": "stderr",
     "output_type": "stream",
     "text": [
      "INFO:profile_generator:Generated interests profile for Adam Soto\n",
      "INFO:profile_generator:Generated Openness profile for Adam Soto\n",
      "INFO:profile_generator:Generated Conscientiousness profile for Adam Soto\n",
      "INFO:profile_generator:Generated Extraversion profile for Adam Soto\n",
      "INFO:profile_generator:Generated Agreeableness profile for Adam Soto\n",
      "INFO:profile_generator:Generated Neuroticism profile for Adam Soto\n",
      "INFO:profile_generator:Generated all personality profiles for Adam Soto\n",
      "INFO:embedding_generator:Generated interests embedding for Adam Soto (shape: (3072,))\n",
      "INFO:embedding_generator:Generated personality embedding for Adam Soto (shape: (3840,))\n",
      "INFO:profile_generator:Building JSON manually for Mr. Frank Russell DVM (High Agreeableness, Low Extrav...)\n"
     ]
    },
    {
     "name": "stdout",
     "output_type": "stream",
     "text": [
      "   ✅ Successfully processed Adam Soto with dual vectors only\n",
      "   Generating user 52/100...\n"
     ]
    },
    {
     "name": "stderr",
     "output_type": "stream",
     "text": [
      "INFO:profile_generator:Successfully built complete JSON for Mr. Frank Russell DVM\n",
      "INFO:profile_generator:Created synthetic user from JSON: Mr. Frank Russell DVM\n"
     ]
    },
    {
     "name": "stdout",
     "output_type": "stream",
     "text": [
      "   Processing Mr. Frank Russell DVM through dual-vector pipeline...\n"
     ]
    },
    {
     "name": "stderr",
     "output_type": "stream",
     "text": [
      "INFO:profile_generator:Generated interests profile for Mr. Frank Russell DVM\n",
      "INFO:profile_generator:Generated Openness profile for Mr. Frank Russell DVM\n",
      "INFO:profile_generator:Generated Conscientiousness profile for Mr. Frank Russell DVM\n",
      "INFO:profile_generator:Generated Extraversion profile for Mr. Frank Russell DVM\n",
      "INFO:profile_generator:Generated Agreeableness profile for Mr. Frank Russell DVM\n",
      "INFO:profile_generator:Generated Neuroticism profile for Mr. Frank Russell DVM\n",
      "INFO:profile_generator:Generated all personality profiles for Mr. Frank Russell DVM\n",
      "INFO:embedding_generator:Generated interests embedding for Mr. Frank Russell DVM (shape: (3072,))\n",
      "INFO:embedding_generator:Generated personality embedding for Mr. Frank Russell DVM (shape: (3840,))\n",
      "INFO:profile_generator:Building JSON manually for Jonathan Brewer (High Extraversion, High Agreea...)\n"
     ]
    },
    {
     "name": "stdout",
     "output_type": "stream",
     "text": [
      "   ✅ Successfully processed Mr. Frank Russell DVM with dual vectors only\n",
      "   Generating user 53/100...\n"
     ]
    },
    {
     "name": "stderr",
     "output_type": "stream",
     "text": [
      "INFO:profile_generator:Successfully built complete JSON for Jonathan Brewer\n",
      "INFO:profile_generator:Created synthetic user from JSON: Jonathan Brewer\n"
     ]
    },
    {
     "name": "stdout",
     "output_type": "stream",
     "text": [
      "   Processing Jonathan Brewer through dual-vector pipeline...\n"
     ]
    },
    {
     "name": "stderr",
     "output_type": "stream",
     "text": [
      "INFO:profile_generator:Generated interests profile for Jonathan Brewer\n",
      "INFO:profile_generator:Generated Openness profile for Jonathan Brewer\n",
      "INFO:profile_generator:Generated Conscientiousness profile for Jonathan Brewer\n",
      "INFO:profile_generator:Generated Extraversion profile for Jonathan Brewer\n",
      "INFO:profile_generator:Generated Agreeableness profile for Jonathan Brewer\n",
      "INFO:profile_generator:Generated Neuroticism profile for Jonathan Brewer\n",
      "INFO:profile_generator:Generated all personality profiles for Jonathan Brewer\n",
      "INFO:embedding_generator:Generated interests embedding for Jonathan Brewer (shape: (3072,))\n",
      "INFO:embedding_generator:Generated personality embedding for Jonathan Brewer (shape: (3840,))\n",
      "INFO:profile_generator:Building JSON manually for Carolyn Adams MD (Low Conscientiousness, Low Neu...)\n"
     ]
    },
    {
     "name": "stdout",
     "output_type": "stream",
     "text": [
      "   ✅ Successfully processed Jonathan Brewer with dual vectors only\n",
      "   Generating user 54/100...\n"
     ]
    },
    {
     "name": "stderr",
     "output_type": "stream",
     "text": [
      "INFO:profile_generator:Successfully built complete JSON for Carolyn Adams MD\n",
      "INFO:profile_generator:Created synthetic user from JSON: Carolyn Adams MD\n"
     ]
    },
    {
     "name": "stdout",
     "output_type": "stream",
     "text": [
      "   Processing Carolyn Adams MD through dual-vector pipeline...\n"
     ]
    },
    {
     "name": "stderr",
     "output_type": "stream",
     "text": [
      "INFO:profile_generator:Generated interests profile for Carolyn Adams MD\n",
      "INFO:profile_generator:Generated Openness profile for Carolyn Adams MD\n",
      "INFO:profile_generator:Generated Conscientiousness profile for Carolyn Adams MD\n",
      "INFO:profile_generator:Generated Extraversion profile for Carolyn Adams MD\n",
      "INFO:profile_generator:Generated Agreeableness profile for Carolyn Adams MD\n",
      "INFO:profile_generator:Generated Neuroticism profile for Carolyn Adams MD\n",
      "INFO:profile_generator:Generated all personality profiles for Carolyn Adams MD\n",
      "INFO:embedding_generator:Generated interests embedding for Carolyn Adams MD (shape: (3072,))\n",
      "INFO:embedding_generator:Generated personality embedding for Carolyn Adams MD (shape: (3840,))\n",
      "INFO:profile_generator:Building JSON manually for Jonathan Lamb (High Agreeableness, Low Extrav...)\n"
     ]
    },
    {
     "name": "stdout",
     "output_type": "stream",
     "text": [
      "   ✅ Successfully processed Carolyn Adams MD with dual vectors only\n",
      "   Generating user 55/100...\n"
     ]
    },
    {
     "name": "stderr",
     "output_type": "stream",
     "text": [
      "INFO:profile_generator:Successfully built complete JSON for Jonathan Lamb\n",
      "INFO:profile_generator:Created synthetic user from JSON: Jonathan Lamb\n"
     ]
    },
    {
     "name": "stdout",
     "output_type": "stream",
     "text": [
      "   Processing Jonathan Lamb through dual-vector pipeline...\n"
     ]
    },
    {
     "name": "stderr",
     "output_type": "stream",
     "text": [
      "INFO:profile_generator:Generated interests profile for Jonathan Lamb\n",
      "INFO:profile_generator:Generated Openness profile for Jonathan Lamb\n",
      "INFO:profile_generator:Generated Conscientiousness profile for Jonathan Lamb\n",
      "INFO:profile_generator:Generated Extraversion profile for Jonathan Lamb\n",
      "INFO:profile_generator:Generated Agreeableness profile for Jonathan Lamb\n",
      "INFO:profile_generator:Generated Neuroticism profile for Jonathan Lamb\n",
      "INFO:profile_generator:Generated all personality profiles for Jonathan Lamb\n",
      "INFO:embedding_generator:Generated interests embedding for Jonathan Lamb (shape: (3072,))\n",
      "INFO:embedding_generator:Generated personality embedding for Jonathan Lamb (shape: (3840,))\n",
      "INFO:profile_generator:Building JSON manually for Ashley Wood (High Openness, High Conscienti...)\n"
     ]
    },
    {
     "name": "stdout",
     "output_type": "stream",
     "text": [
      "   ✅ Successfully processed Jonathan Lamb with dual vectors only\n",
      "   Generating user 56/100...\n"
     ]
    },
    {
     "name": "stderr",
     "output_type": "stream",
     "text": [
      "INFO:profile_generator:Successfully built complete JSON for Ashley Wood\n",
      "INFO:profile_generator:Created synthetic user from JSON: Ashley Wood\n"
     ]
    },
    {
     "name": "stdout",
     "output_type": "stream",
     "text": [
      "   Processing Ashley Wood through dual-vector pipeline...\n"
     ]
    },
    {
     "name": "stderr",
     "output_type": "stream",
     "text": [
      "INFO:profile_generator:Generated interests profile for Ashley Wood\n",
      "INFO:profile_generator:Generated Openness profile for Ashley Wood\n",
      "INFO:profile_generator:Generated Conscientiousness profile for Ashley Wood\n",
      "INFO:profile_generator:Generated Extraversion profile for Ashley Wood\n",
      "INFO:profile_generator:Generated Agreeableness profile for Ashley Wood\n",
      "INFO:profile_generator:Generated Neuroticism profile for Ashley Wood\n",
      "INFO:profile_generator:Generated all personality profiles for Ashley Wood\n",
      "INFO:embedding_generator:Generated interests embedding for Ashley Wood (shape: (3072,))\n",
      "INFO:embedding_generator:Generated personality embedding for Ashley Wood (shape: (3840,))\n",
      "INFO:profile_generator:Building JSON manually for Caleb Tanner (High Agreeableness, High Consc...)\n"
     ]
    },
    {
     "name": "stdout",
     "output_type": "stream",
     "text": [
      "   ✅ Successfully processed Ashley Wood with dual vectors only\n",
      "   Generating user 57/100...\n"
     ]
    },
    {
     "name": "stderr",
     "output_type": "stream",
     "text": [
      "INFO:profile_generator:Successfully built complete JSON for Caleb Tanner\n",
      "INFO:profile_generator:Created synthetic user from JSON: Caleb Tanner\n"
     ]
    },
    {
     "name": "stdout",
     "output_type": "stream",
     "text": [
      "   Processing Caleb Tanner through dual-vector pipeline...\n"
     ]
    },
    {
     "name": "stderr",
     "output_type": "stream",
     "text": [
      "INFO:profile_generator:Generated interests profile for Caleb Tanner\n",
      "INFO:profile_generator:Generated Openness profile for Caleb Tanner\n",
      "INFO:profile_generator:Generated Conscientiousness profile for Caleb Tanner\n",
      "INFO:profile_generator:Generated Extraversion profile for Caleb Tanner\n",
      "INFO:profile_generator:Generated Agreeableness profile for Caleb Tanner\n",
      "INFO:profile_generator:Generated Neuroticism profile for Caleb Tanner\n",
      "INFO:profile_generator:Generated all personality profiles for Caleb Tanner\n",
      "INFO:embedding_generator:Generated interests embedding for Caleb Tanner (shape: (3072,))\n",
      "INFO:embedding_generator:Generated personality embedding for Caleb Tanner (shape: (3840,))\n",
      "INFO:profile_generator:Building JSON manually for Linda Hendrix (Low Conscientiousness, High Ex...)\n"
     ]
    },
    {
     "name": "stdout",
     "output_type": "stream",
     "text": [
      "   ✅ Successfully processed Caleb Tanner with dual vectors only\n",
      "   Generating user 58/100...\n"
     ]
    },
    {
     "name": "stderr",
     "output_type": "stream",
     "text": [
      "INFO:profile_generator:Successfully built complete JSON for Linda Hendrix\n",
      "INFO:profile_generator:Created synthetic user from JSON: Linda Hendrix\n"
     ]
    },
    {
     "name": "stdout",
     "output_type": "stream",
     "text": [
      "   Processing Linda Hendrix through dual-vector pipeline...\n"
     ]
    },
    {
     "name": "stderr",
     "output_type": "stream",
     "text": [
      "INFO:profile_generator:Generated interests profile for Linda Hendrix\n",
      "INFO:profile_generator:Generated Openness profile for Linda Hendrix\n",
      "INFO:profile_generator:Generated Conscientiousness profile for Linda Hendrix\n",
      "INFO:profile_generator:Generated Extraversion profile for Linda Hendrix\n",
      "INFO:profile_generator:Generated Agreeableness profile for Linda Hendrix\n",
      "INFO:profile_generator:Generated Neuroticism profile for Linda Hendrix\n",
      "INFO:profile_generator:Generated all personality profiles for Linda Hendrix\n",
      "INFO:embedding_generator:Generated interests embedding for Linda Hendrix (shape: (3072,))\n",
      "INFO:embedding_generator:Generated personality embedding for Linda Hendrix (shape: (3840,))\n",
      "INFO:profile_generator:Building JSON manually for Sean Johnson (Low Extraversion, Low Agreeabl...)\n"
     ]
    },
    {
     "name": "stdout",
     "output_type": "stream",
     "text": [
      "   ✅ Successfully processed Linda Hendrix with dual vectors only\n",
      "   Generating user 59/100...\n"
     ]
    },
    {
     "name": "stderr",
     "output_type": "stream",
     "text": [
      "INFO:profile_generator:Successfully built complete JSON for Sean Johnson\n",
      "INFO:profile_generator:Created synthetic user from JSON: Sean Johnson\n"
     ]
    },
    {
     "name": "stdout",
     "output_type": "stream",
     "text": [
      "   Processing Sean Johnson through dual-vector pipeline...\n"
     ]
    },
    {
     "name": "stderr",
     "output_type": "stream",
     "text": [
      "INFO:profile_generator:Generated interests profile for Sean Johnson\n",
      "INFO:profile_generator:Generated Openness profile for Sean Johnson\n",
      "INFO:profile_generator:Generated Conscientiousness profile for Sean Johnson\n",
      "INFO:profile_generator:Generated Extraversion profile for Sean Johnson\n",
      "INFO:profile_generator:Generated Agreeableness profile for Sean Johnson\n",
      "INFO:profile_generator:Generated Neuroticism profile for Sean Johnson\n",
      "INFO:profile_generator:Generated all personality profiles for Sean Johnson\n",
      "INFO:embedding_generator:Generated interests embedding for Sean Johnson (shape: (3072,))\n",
      "INFO:embedding_generator:Generated personality embedding for Sean Johnson (shape: (3840,))\n",
      "INFO:profile_generator:Building JSON manually for Bryan Bryant (High Conscientiousness, High A...)\n"
     ]
    },
    {
     "name": "stdout",
     "output_type": "stream",
     "text": [
      "   ✅ Successfully processed Sean Johnson with dual vectors only\n",
      "   Generating user 60/100...\n"
     ]
    },
    {
     "name": "stderr",
     "output_type": "stream",
     "text": [
      "INFO:profile_generator:Successfully built complete JSON for Bryan Bryant\n",
      "INFO:profile_generator:Created synthetic user from JSON: Bryan Bryant\n"
     ]
    },
    {
     "name": "stdout",
     "output_type": "stream",
     "text": [
      "   Processing Bryan Bryant through dual-vector pipeline...\n"
     ]
    },
    {
     "name": "stderr",
     "output_type": "stream",
     "text": [
      "INFO:profile_generator:Generated interests profile for Bryan Bryant\n",
      "INFO:profile_generator:Generated Openness profile for Bryan Bryant\n",
      "INFO:profile_generator:Generated Conscientiousness profile for Bryan Bryant\n",
      "INFO:profile_generator:Generated Extraversion profile for Bryan Bryant\n",
      "INFO:profile_generator:Generated Agreeableness profile for Bryan Bryant\n",
      "INFO:profile_generator:Generated Neuroticism profile for Bryan Bryant\n",
      "INFO:profile_generator:Generated all personality profiles for Bryan Bryant\n",
      "INFO:embedding_generator:Generated interests embedding for Bryan Bryant (shape: (3072,))\n",
      "INFO:embedding_generator:Generated personality embedding for Bryan Bryant (shape: (3840,))\n",
      "INFO:profile_generator:Building JSON manually for Jay Duke (High Extraversion, High Agreea...)\n"
     ]
    },
    {
     "name": "stdout",
     "output_type": "stream",
     "text": [
      "   ✅ Successfully processed Bryan Bryant with dual vectors only\n",
      "   Generating user 61/100...\n"
     ]
    },
    {
     "name": "stderr",
     "output_type": "stream",
     "text": [
      "INFO:profile_generator:Successfully built complete JSON for Jay Duke\n",
      "INFO:profile_generator:Created synthetic user from JSON: Jay Duke\n"
     ]
    },
    {
     "name": "stdout",
     "output_type": "stream",
     "text": [
      "   Processing Jay Duke through dual-vector pipeline...\n"
     ]
    },
    {
     "name": "stderr",
     "output_type": "stream",
     "text": [
      "INFO:profile_generator:Generated interests profile for Jay Duke\n",
      "INFO:profile_generator:Generated Openness profile for Jay Duke\n",
      "INFO:profile_generator:Generated Conscientiousness profile for Jay Duke\n",
      "INFO:profile_generator:Generated Extraversion profile for Jay Duke\n",
      "INFO:profile_generator:Generated Agreeableness profile for Jay Duke\n",
      "INFO:profile_generator:Generated Neuroticism profile for Jay Duke\n",
      "INFO:profile_generator:Generated all personality profiles for Jay Duke\n",
      "INFO:embedding_generator:Generated interests embedding for Jay Duke (shape: (3072,))\n",
      "INFO:embedding_generator:Generated personality embedding for Jay Duke (shape: (3840,))\n",
      "INFO:profile_generator:Building JSON manually for Devon Whitaker (Low Openness, High Extraversio...)\n"
     ]
    },
    {
     "name": "stdout",
     "output_type": "stream",
     "text": [
      "   ✅ Successfully processed Jay Duke with dual vectors only\n",
      "   Generating user 62/100...\n"
     ]
    },
    {
     "name": "stderr",
     "output_type": "stream",
     "text": [
      "INFO:profile_generator:Successfully built complete JSON for Devon Whitaker\n",
      "INFO:profile_generator:Created synthetic user from JSON: Devon Whitaker\n"
     ]
    },
    {
     "name": "stdout",
     "output_type": "stream",
     "text": [
      "   Processing Devon Whitaker through dual-vector pipeline...\n"
     ]
    },
    {
     "name": "stderr",
     "output_type": "stream",
     "text": [
      "INFO:profile_generator:Generated interests profile for Devon Whitaker\n",
      "INFO:profile_generator:Generated Openness profile for Devon Whitaker\n",
      "INFO:profile_generator:Generated Conscientiousness profile for Devon Whitaker\n",
      "INFO:profile_generator:Generated Extraversion profile for Devon Whitaker\n",
      "INFO:profile_generator:Generated Agreeableness profile for Devon Whitaker\n",
      "INFO:profile_generator:Generated Neuroticism profile for Devon Whitaker\n",
      "INFO:profile_generator:Generated all personality profiles for Devon Whitaker\n",
      "INFO:embedding_generator:Generated interests embedding for Devon Whitaker (shape: (3072,))\n",
      "INFO:embedding_generator:Generated personality embedding for Devon Whitaker (shape: (3840,))\n",
      "INFO:profile_generator:Building JSON manually for James Castillo (High Conscientiousness, Low Op...)\n"
     ]
    },
    {
     "name": "stdout",
     "output_type": "stream",
     "text": [
      "   ✅ Successfully processed Devon Whitaker with dual vectors only\n",
      "   Generating user 63/100...\n"
     ]
    },
    {
     "name": "stderr",
     "output_type": "stream",
     "text": [
      "INFO:profile_generator:Successfully built complete JSON for James Castillo\n",
      "INFO:profile_generator:Created synthetic user from JSON: James Castillo\n"
     ]
    },
    {
     "name": "stdout",
     "output_type": "stream",
     "text": [
      "   Processing James Castillo through dual-vector pipeline...\n"
     ]
    },
    {
     "name": "stderr",
     "output_type": "stream",
     "text": [
      "INFO:profile_generator:Generated interests profile for James Castillo\n",
      "INFO:profile_generator:Generated Openness profile for James Castillo\n",
      "INFO:profile_generator:Generated Conscientiousness profile for James Castillo\n",
      "INFO:profile_generator:Generated Extraversion profile for James Castillo\n",
      "INFO:profile_generator:Generated Agreeableness profile for James Castillo\n",
      "INFO:profile_generator:Generated Neuroticism profile for James Castillo\n",
      "INFO:profile_generator:Generated all personality profiles for James Castillo\n",
      "INFO:embedding_generator:Generated interests embedding for James Castillo (shape: (3072,))\n",
      "INFO:embedding_generator:Generated personality embedding for James Castillo (shape: (3840,))\n",
      "INFO:profile_generator:Building JSON manually for Nancy Yates (High Openness, High Extraversi...)\n"
     ]
    },
    {
     "name": "stdout",
     "output_type": "stream",
     "text": [
      "   ✅ Successfully processed James Castillo with dual vectors only\n",
      "   Generating user 64/100...\n"
     ]
    },
    {
     "name": "stderr",
     "output_type": "stream",
     "text": [
      "INFO:profile_generator:Successfully built complete JSON for Nancy Yates\n",
      "INFO:profile_generator:Created synthetic user from JSON: Nancy Yates\n"
     ]
    },
    {
     "name": "stdout",
     "output_type": "stream",
     "text": [
      "   Processing Nancy Yates through dual-vector pipeline...\n"
     ]
    },
    {
     "name": "stderr",
     "output_type": "stream",
     "text": [
      "INFO:profile_generator:Generated interests profile for Nancy Yates\n",
      "INFO:profile_generator:Generated Openness profile for Nancy Yates\n",
      "INFO:profile_generator:Generated Conscientiousness profile for Nancy Yates\n",
      "INFO:profile_generator:Generated Extraversion profile for Nancy Yates\n",
      "INFO:profile_generator:Generated Agreeableness profile for Nancy Yates\n",
      "INFO:profile_generator:Generated Neuroticism profile for Nancy Yates\n",
      "INFO:profile_generator:Generated all personality profiles for Nancy Yates\n",
      "INFO:embedding_generator:Generated interests embedding for Nancy Yates (shape: (3072,))\n",
      "INFO:embedding_generator:Generated personality embedding for Nancy Yates (shape: (3840,))\n",
      "INFO:profile_generator:Building JSON manually for Gary Lane (High Openness, High Extraversi...)\n"
     ]
    },
    {
     "name": "stdout",
     "output_type": "stream",
     "text": [
      "   ✅ Successfully processed Nancy Yates with dual vectors only\n",
      "   Generating user 65/100...\n"
     ]
    },
    {
     "name": "stderr",
     "output_type": "stream",
     "text": [
      "INFO:profile_generator:Successfully built complete JSON for Gary Lane\n",
      "INFO:profile_generator:Created synthetic user from JSON: Gary Lane\n"
     ]
    },
    {
     "name": "stdout",
     "output_type": "stream",
     "text": [
      "   Processing Gary Lane through dual-vector pipeline...\n"
     ]
    },
    {
     "name": "stderr",
     "output_type": "stream",
     "text": [
      "INFO:profile_generator:Generated interests profile for Gary Lane\n",
      "INFO:profile_generator:Generated Openness profile for Gary Lane\n",
      "INFO:profile_generator:Generated Conscientiousness profile for Gary Lane\n",
      "INFO:profile_generator:Generated Extraversion profile for Gary Lane\n",
      "INFO:profile_generator:Generated Agreeableness profile for Gary Lane\n",
      "INFO:profile_generator:Generated Neuroticism profile for Gary Lane\n",
      "INFO:profile_generator:Generated all personality profiles for Gary Lane\n",
      "INFO:embedding_generator:Generated interests embedding for Gary Lane (shape: (3072,))\n",
      "INFO:embedding_generator:Generated personality embedding for Gary Lane (shape: (3840,))\n",
      "INFO:profile_generator:Building JSON manually for Marcus Salinas (Low Conscientiousness, Low Neu...)\n"
     ]
    },
    {
     "name": "stdout",
     "output_type": "stream",
     "text": [
      "   ✅ Successfully processed Gary Lane with dual vectors only\n",
      "   Generating user 66/100...\n"
     ]
    },
    {
     "name": "stderr",
     "output_type": "stream",
     "text": [
      "INFO:profile_generator:Successfully built complete JSON for Marcus Salinas\n",
      "INFO:profile_generator:Created synthetic user from JSON: Marcus Salinas\n"
     ]
    },
    {
     "name": "stdout",
     "output_type": "stream",
     "text": [
      "   Processing Marcus Salinas through dual-vector pipeline...\n"
     ]
    },
    {
     "name": "stderr",
     "output_type": "stream",
     "text": [
      "INFO:profile_generator:Generated interests profile for Marcus Salinas\n",
      "INFO:profile_generator:Generated Openness profile for Marcus Salinas\n",
      "INFO:profile_generator:Generated Conscientiousness profile for Marcus Salinas\n",
      "INFO:profile_generator:Generated Extraversion profile for Marcus Salinas\n",
      "INFO:profile_generator:Generated Agreeableness profile for Marcus Salinas\n",
      "INFO:profile_generator:Generated Neuroticism profile for Marcus Salinas\n",
      "INFO:profile_generator:Generated all personality profiles for Marcus Salinas\n",
      "INFO:embedding_generator:Generated interests embedding for Marcus Salinas (shape: (3072,))\n",
      "INFO:embedding_generator:Generated personality embedding for Marcus Salinas (shape: (3840,))\n",
      "INFO:profile_generator:Building JSON manually for Anthony Stewart (High Extraversion, High Agreea...)\n"
     ]
    },
    {
     "name": "stdout",
     "output_type": "stream",
     "text": [
      "   ✅ Successfully processed Marcus Salinas with dual vectors only\n",
      "   Generating user 67/100...\n"
     ]
    },
    {
     "name": "stderr",
     "output_type": "stream",
     "text": [
      "INFO:profile_generator:Successfully built complete JSON for Anthony Stewart\n",
      "INFO:profile_generator:Created synthetic user from JSON: Anthony Stewart\n"
     ]
    },
    {
     "name": "stdout",
     "output_type": "stream",
     "text": [
      "   Processing Anthony Stewart through dual-vector pipeline...\n"
     ]
    },
    {
     "name": "stderr",
     "output_type": "stream",
     "text": [
      "INFO:profile_generator:Generated interests profile for Anthony Stewart\n",
      "INFO:profile_generator:Generated Openness profile for Anthony Stewart\n",
      "INFO:profile_generator:Generated Conscientiousness profile for Anthony Stewart\n",
      "INFO:profile_generator:Generated Extraversion profile for Anthony Stewart\n",
      "INFO:profile_generator:Generated Agreeableness profile for Anthony Stewart\n",
      "INFO:profile_generator:Generated Neuroticism profile for Anthony Stewart\n",
      "INFO:profile_generator:Generated all personality profiles for Anthony Stewart\n",
      "INFO:embedding_generator:Generated interests embedding for Anthony Stewart (shape: (3072,))\n",
      "INFO:embedding_generator:Generated personality embedding for Anthony Stewart (shape: (3840,))\n",
      "INFO:profile_generator:Building JSON manually for Melissa Herrera (High Openness, High Conscienti...)\n"
     ]
    },
    {
     "name": "stdout",
     "output_type": "stream",
     "text": [
      "   ✅ Successfully processed Anthony Stewart with dual vectors only\n",
      "   Generating user 68/100...\n"
     ]
    },
    {
     "name": "stderr",
     "output_type": "stream",
     "text": [
      "INFO:profile_generator:Successfully built complete JSON for Melissa Herrera\n",
      "INFO:profile_generator:Created synthetic user from JSON: Melissa Herrera\n"
     ]
    },
    {
     "name": "stdout",
     "output_type": "stream",
     "text": [
      "   Processing Melissa Herrera through dual-vector pipeline...\n"
     ]
    },
    {
     "name": "stderr",
     "output_type": "stream",
     "text": [
      "INFO:profile_generator:Generated interests profile for Melissa Herrera\n",
      "INFO:profile_generator:Generated Openness profile for Melissa Herrera\n",
      "INFO:profile_generator:Generated Conscientiousness profile for Melissa Herrera\n",
      "INFO:profile_generator:Generated Extraversion profile for Melissa Herrera\n",
      "INFO:profile_generator:Generated Agreeableness profile for Melissa Herrera\n",
      "INFO:profile_generator:Generated Neuroticism profile for Melissa Herrera\n",
      "INFO:profile_generator:Generated all personality profiles for Melissa Herrera\n",
      "INFO:embedding_generator:Generated interests embedding for Melissa Herrera (shape: (3072,))\n",
      "INFO:embedding_generator:Generated personality embedding for Melissa Herrera (shape: (3840,))\n",
      "INFO:profile_generator:Building JSON manually for Amber Martin (Low Neuroticism, High Openness...)\n"
     ]
    },
    {
     "name": "stdout",
     "output_type": "stream",
     "text": [
      "   ✅ Successfully processed Melissa Herrera with dual vectors only\n",
      "   Generating user 69/100...\n"
     ]
    },
    {
     "name": "stderr",
     "output_type": "stream",
     "text": [
      "INFO:profile_generator:Successfully built complete JSON for Amber Martin\n",
      "INFO:profile_generator:Created synthetic user from JSON: Amber Martin\n"
     ]
    },
    {
     "name": "stdout",
     "output_type": "stream",
     "text": [
      "   Processing Amber Martin through dual-vector pipeline...\n"
     ]
    },
    {
     "name": "stderr",
     "output_type": "stream",
     "text": [
      "INFO:profile_generator:Generated interests profile for Amber Martin\n",
      "INFO:profile_generator:Generated Openness profile for Amber Martin\n",
      "INFO:profile_generator:Generated Conscientiousness profile for Amber Martin\n",
      "INFO:profile_generator:Generated Extraversion profile for Amber Martin\n",
      "INFO:profile_generator:Generated Agreeableness profile for Amber Martin\n",
      "INFO:profile_generator:Generated Neuroticism profile for Amber Martin\n",
      "INFO:profile_generator:Generated all personality profiles for Amber Martin\n",
      "INFO:embedding_generator:Generated interests embedding for Amber Martin (shape: (3072,))\n",
      "INFO:embedding_generator:Generated personality embedding for Amber Martin (shape: (3840,))\n",
      "INFO:profile_generator:Building JSON manually for Donald Martin (Low Openness, Low Neuroticism ...)\n"
     ]
    },
    {
     "name": "stdout",
     "output_type": "stream",
     "text": [
      "   ✅ Successfully processed Amber Martin with dual vectors only\n",
      "   Generating user 70/100...\n"
     ]
    },
    {
     "name": "stderr",
     "output_type": "stream",
     "text": [
      "INFO:profile_generator:Successfully built complete JSON for Donald Martin\n",
      "INFO:profile_generator:Created synthetic user from JSON: Donald Martin\n"
     ]
    },
    {
     "name": "stdout",
     "output_type": "stream",
     "text": [
      "   Processing Donald Martin through dual-vector pipeline...\n"
     ]
    },
    {
     "name": "stderr",
     "output_type": "stream",
     "text": [
      "INFO:profile_generator:Generated interests profile for Donald Martin\n",
      "INFO:profile_generator:Generated Openness profile for Donald Martin\n",
      "INFO:profile_generator:Generated Conscientiousness profile for Donald Martin\n",
      "INFO:profile_generator:Generated Extraversion profile for Donald Martin\n",
      "INFO:profile_generator:Generated Agreeableness profile for Donald Martin\n",
      "INFO:profile_generator:Generated Neuroticism profile for Donald Martin\n",
      "INFO:profile_generator:Generated all personality profiles for Donald Martin\n",
      "INFO:embedding_generator:Generated interests embedding for Donald Martin (shape: (3072,))\n",
      "INFO:embedding_generator:Generated personality embedding for Donald Martin (shape: (3840,))\n",
      "INFO:profile_generator:Building JSON manually for Crystal Hart (Balanced moderate: moderate on...)\n"
     ]
    },
    {
     "name": "stdout",
     "output_type": "stream",
     "text": [
      "   ✅ Successfully processed Donald Martin with dual vectors only\n",
      "   Generating user 71/100...\n"
     ]
    },
    {
     "name": "stderr",
     "output_type": "stream",
     "text": [
      "INFO:profile_generator:Successfully built complete JSON for Crystal Hart\n",
      "INFO:profile_generator:Created synthetic user from JSON: Crystal Hart\n"
     ]
    },
    {
     "name": "stdout",
     "output_type": "stream",
     "text": [
      "   Processing Crystal Hart through dual-vector pipeline...\n"
     ]
    },
    {
     "name": "stderr",
     "output_type": "stream",
     "text": [
      "INFO:profile_generator:Generated interests profile for Crystal Hart\n",
      "INFO:profile_generator:Generated Openness profile for Crystal Hart\n",
      "INFO:profile_generator:Generated Conscientiousness profile for Crystal Hart\n",
      "INFO:profile_generator:Generated Extraversion profile for Crystal Hart\n",
      "INFO:profile_generator:Generated Agreeableness profile for Crystal Hart\n",
      "INFO:profile_generator:Generated Neuroticism profile for Crystal Hart\n",
      "INFO:profile_generator:Generated all personality profiles for Crystal Hart\n",
      "INFO:embedding_generator:Generated interests embedding for Crystal Hart (shape: (3072,))\n",
      "INFO:embedding_generator:Generated personality embedding for Crystal Hart (shape: (3840,))\n",
      "INFO:profile_generator:Building JSON manually for Veronica Peters (Low Conscientiousness, High Op...)\n"
     ]
    },
    {
     "name": "stdout",
     "output_type": "stream",
     "text": [
      "   ✅ Successfully processed Crystal Hart with dual vectors only\n",
      "   Generating user 72/100...\n"
     ]
    },
    {
     "name": "stderr",
     "output_type": "stream",
     "text": [
      "INFO:profile_generator:Successfully built complete JSON for Veronica Peters\n",
      "INFO:profile_generator:Created synthetic user from JSON: Veronica Peters\n"
     ]
    },
    {
     "name": "stdout",
     "output_type": "stream",
     "text": [
      "   Processing Veronica Peters through dual-vector pipeline...\n"
     ]
    },
    {
     "name": "stderr",
     "output_type": "stream",
     "text": [
      "INFO:profile_generator:Generated interests profile for Veronica Peters\n",
      "INFO:profile_generator:Generated Openness profile for Veronica Peters\n",
      "INFO:profile_generator:Generated Conscientiousness profile for Veronica Peters\n",
      "INFO:profile_generator:Generated Extraversion profile for Veronica Peters\n",
      "INFO:profile_generator:Generated Agreeableness profile for Veronica Peters\n",
      "INFO:profile_generator:Generated Neuroticism profile for Veronica Peters\n",
      "INFO:profile_generator:Generated all personality profiles for Veronica Peters\n",
      "INFO:embedding_generator:Generated interests embedding for Veronica Peters (shape: (3072,))\n",
      "INFO:embedding_generator:Generated personality embedding for Veronica Peters (shape: (3840,))\n",
      "INFO:profile_generator:Building JSON manually for Haley Pena (High Conscientiousness, High N...)\n"
     ]
    },
    {
     "name": "stdout",
     "output_type": "stream",
     "text": [
      "   ✅ Successfully processed Veronica Peters with dual vectors only\n",
      "   Generating user 73/100...\n"
     ]
    },
    {
     "name": "stderr",
     "output_type": "stream",
     "text": [
      "INFO:profile_generator:Successfully built complete JSON for Haley Pena\n",
      "INFO:profile_generator:Created synthetic user from JSON: Haley Pena\n"
     ]
    },
    {
     "name": "stdout",
     "output_type": "stream",
     "text": [
      "   Processing Haley Pena through dual-vector pipeline...\n"
     ]
    },
    {
     "name": "stderr",
     "output_type": "stream",
     "text": [
      "INFO:profile_generator:Generated interests profile for Haley Pena\n",
      "INFO:profile_generator:Generated Openness profile for Haley Pena\n",
      "INFO:profile_generator:Generated Conscientiousness profile for Haley Pena\n",
      "INFO:profile_generator:Generated Extraversion profile for Haley Pena\n",
      "INFO:profile_generator:Generated Agreeableness profile for Haley Pena\n",
      "INFO:profile_generator:Generated Neuroticism profile for Haley Pena\n",
      "INFO:profile_generator:Generated all personality profiles for Haley Pena\n",
      "INFO:embedding_generator:Generated interests embedding for Haley Pena (shape: (3072,))\n",
      "INFO:embedding_generator:Generated personality embedding for Haley Pena (shape: (3840,))\n",
      "INFO:profile_generator:Building JSON manually for Chelsea Jenkins (High Agreeableness, High Consc...)\n"
     ]
    },
    {
     "name": "stdout",
     "output_type": "stream",
     "text": [
      "   ✅ Successfully processed Haley Pena with dual vectors only\n",
      "   Generating user 74/100...\n"
     ]
    },
    {
     "name": "stderr",
     "output_type": "stream",
     "text": [
      "INFO:profile_generator:Successfully built complete JSON for Chelsea Jenkins\n",
      "INFO:profile_generator:Created synthetic user from JSON: Chelsea Jenkins\n"
     ]
    },
    {
     "name": "stdout",
     "output_type": "stream",
     "text": [
      "   Processing Chelsea Jenkins through dual-vector pipeline...\n"
     ]
    },
    {
     "name": "stderr",
     "output_type": "stream",
     "text": [
      "INFO:profile_generator:Generated interests profile for Chelsea Jenkins\n",
      "INFO:profile_generator:Generated Openness profile for Chelsea Jenkins\n",
      "INFO:profile_generator:Generated Conscientiousness profile for Chelsea Jenkins\n",
      "INFO:profile_generator:Generated Extraversion profile for Chelsea Jenkins\n",
      "INFO:profile_generator:Generated Agreeableness profile for Chelsea Jenkins\n",
      "INFO:profile_generator:Generated Neuroticism profile for Chelsea Jenkins\n",
      "INFO:profile_generator:Generated all personality profiles for Chelsea Jenkins\n",
      "INFO:embedding_generator:Generated interests embedding for Chelsea Jenkins (shape: (3072,))\n",
      "INFO:embedding_generator:Generated personality embedding for Chelsea Jenkins (shape: (3840,))\n",
      "INFO:profile_generator:Building JSON manually for Thomas Mullins (Low Openness, Low Neuroticism ...)\n"
     ]
    },
    {
     "name": "stdout",
     "output_type": "stream",
     "text": [
      "   ✅ Successfully processed Chelsea Jenkins with dual vectors only\n",
      "   Generating user 75/100...\n"
     ]
    },
    {
     "name": "stderr",
     "output_type": "stream",
     "text": [
      "INFO:profile_generator:Successfully built complete JSON for Thomas Mullins\n",
      "INFO:profile_generator:Created synthetic user from JSON: Thomas Mullins\n"
     ]
    },
    {
     "name": "stdout",
     "output_type": "stream",
     "text": [
      "   Processing Thomas Mullins through dual-vector pipeline...\n"
     ]
    },
    {
     "name": "stderr",
     "output_type": "stream",
     "text": [
      "INFO:profile_generator:Generated interests profile for Thomas Mullins\n",
      "INFO:profile_generator:Generated Openness profile for Thomas Mullins\n",
      "INFO:profile_generator:Generated Conscientiousness profile for Thomas Mullins\n",
      "INFO:profile_generator:Generated Extraversion profile for Thomas Mullins\n",
      "INFO:profile_generator:Generated Agreeableness profile for Thomas Mullins\n",
      "INFO:profile_generator:Generated Neuroticism profile for Thomas Mullins\n",
      "INFO:profile_generator:Generated all personality profiles for Thomas Mullins\n",
      "INFO:embedding_generator:Generated interests embedding for Thomas Mullins (shape: (3072,))\n",
      "INFO:embedding_generator:Generated personality embedding for Thomas Mullins (shape: (3840,))\n",
      "INFO:profile_generator:Building JSON manually for Jason Williams (Low Conscientiousness, Low Neu...)\n"
     ]
    },
    {
     "name": "stdout",
     "output_type": "stream",
     "text": [
      "   ✅ Successfully processed Thomas Mullins with dual vectors only\n",
      "   Generating user 76/100...\n"
     ]
    },
    {
     "name": "stderr",
     "output_type": "stream",
     "text": [
      "INFO:profile_generator:Successfully built complete JSON for Jason Williams\n",
      "INFO:profile_generator:Created synthetic user from JSON: Jason Williams\n"
     ]
    },
    {
     "name": "stdout",
     "output_type": "stream",
     "text": [
      "   Processing Jason Williams through dual-vector pipeline...\n"
     ]
    },
    {
     "name": "stderr",
     "output_type": "stream",
     "text": [
      "INFO:profile_generator:Generated interests profile for Jason Williams\n",
      "INFO:profile_generator:Generated Openness profile for Jason Williams\n",
      "INFO:profile_generator:Generated Conscientiousness profile for Jason Williams\n",
      "INFO:profile_generator:Generated Extraversion profile for Jason Williams\n",
      "INFO:profile_generator:Generated Agreeableness profile for Jason Williams\n",
      "INFO:profile_generator:Generated Neuroticism profile for Jason Williams\n",
      "INFO:profile_generator:Generated all personality profiles for Jason Williams\n",
      "INFO:embedding_generator:Generated interests embedding for Jason Williams (shape: (3072,))\n",
      "INFO:embedding_generator:Generated personality embedding for Jason Williams (shape: (3840,))\n",
      "INFO:profile_generator:Building JSON manually for Nicole Mccormick (High Extraversion, Low Conscie...)\n"
     ]
    },
    {
     "name": "stdout",
     "output_type": "stream",
     "text": [
      "   ✅ Successfully processed Jason Williams with dual vectors only\n",
      "   Generating user 77/100...\n"
     ]
    },
    {
     "name": "stderr",
     "output_type": "stream",
     "text": [
      "INFO:profile_generator:Successfully built complete JSON for Nicole Mccormick\n",
      "INFO:profile_generator:Created synthetic user from JSON: Nicole Mccormick\n"
     ]
    },
    {
     "name": "stdout",
     "output_type": "stream",
     "text": [
      "   Processing Nicole Mccormick through dual-vector pipeline...\n"
     ]
    },
    {
     "name": "stderr",
     "output_type": "stream",
     "text": [
      "INFO:profile_generator:Generated interests profile for Nicole Mccormick\n",
      "INFO:profile_generator:Generated Openness profile for Nicole Mccormick\n",
      "INFO:profile_generator:Generated Conscientiousness profile for Nicole Mccormick\n",
      "INFO:profile_generator:Generated Extraversion profile for Nicole Mccormick\n",
      "INFO:profile_generator:Generated Agreeableness profile for Nicole Mccormick\n",
      "INFO:profile_generator:Generated Neuroticism profile for Nicole Mccormick\n",
      "INFO:profile_generator:Generated all personality profiles for Nicole Mccormick\n",
      "INFO:embedding_generator:Generated interests embedding for Nicole Mccormick (shape: (3072,))\n",
      "INFO:embedding_generator:Generated personality embedding for Nicole Mccormick (shape: (3840,))\n",
      "INFO:profile_generator:Building JSON manually for James Guerrero (High Agreeableness, Low Extrav...)\n"
     ]
    },
    {
     "name": "stdout",
     "output_type": "stream",
     "text": [
      "   ✅ Successfully processed Nicole Mccormick with dual vectors only\n",
      "   Generating user 78/100...\n"
     ]
    },
    {
     "name": "stderr",
     "output_type": "stream",
     "text": [
      "INFO:profile_generator:Successfully built complete JSON for James Guerrero\n",
      "INFO:profile_generator:Created synthetic user from JSON: James Guerrero\n"
     ]
    },
    {
     "name": "stdout",
     "output_type": "stream",
     "text": [
      "   Processing James Guerrero through dual-vector pipeline...\n"
     ]
    },
    {
     "name": "stderr",
     "output_type": "stream",
     "text": [
      "INFO:profile_generator:Generated interests profile for James Guerrero\n",
      "INFO:profile_generator:Generated Openness profile for James Guerrero\n",
      "INFO:profile_generator:Generated Conscientiousness profile for James Guerrero\n",
      "INFO:profile_generator:Generated Extraversion profile for James Guerrero\n",
      "INFO:profile_generator:Generated Agreeableness profile for James Guerrero\n",
      "INFO:profile_generator:Generated Neuroticism profile for James Guerrero\n",
      "INFO:profile_generator:Generated all personality profiles for James Guerrero\n",
      "INFO:embedding_generator:Generated interests embedding for James Guerrero (shape: (3072,))\n",
      "INFO:embedding_generator:Generated personality embedding for James Guerrero (shape: (3840,))\n",
      "INFO:profile_generator:Building JSON manually for Matthew Mays (Low Extraversion, High Opennes...)\n"
     ]
    },
    {
     "name": "stdout",
     "output_type": "stream",
     "text": [
      "   ✅ Successfully processed James Guerrero with dual vectors only\n",
      "   Generating user 79/100...\n"
     ]
    },
    {
     "name": "stderr",
     "output_type": "stream",
     "text": [
      "INFO:profile_generator:Successfully built complete JSON for Matthew Mays\n",
      "INFO:profile_generator:Created synthetic user from JSON: Matthew Mays\n"
     ]
    },
    {
     "name": "stdout",
     "output_type": "stream",
     "text": [
      "   Processing Matthew Mays through dual-vector pipeline...\n"
     ]
    },
    {
     "name": "stderr",
     "output_type": "stream",
     "text": [
      "INFO:profile_generator:Generated interests profile for Matthew Mays\n",
      "INFO:profile_generator:Generated Openness profile for Matthew Mays\n",
      "INFO:profile_generator:Generated Conscientiousness profile for Matthew Mays\n",
      "INFO:profile_generator:Generated Extraversion profile for Matthew Mays\n",
      "INFO:profile_generator:Generated Agreeableness profile for Matthew Mays\n",
      "INFO:profile_generator:Generated Neuroticism profile for Matthew Mays\n",
      "INFO:profile_generator:Generated all personality profiles for Matthew Mays\n",
      "INFO:embedding_generator:Generated interests embedding for Matthew Mays (shape: (3072,))\n",
      "INFO:embedding_generator:Generated personality embedding for Matthew Mays (shape: (3840,))\n",
      "INFO:profile_generator:Building JSON manually for Miguel Berry (Low Extraversion, High Agreeab...)\n"
     ]
    },
    {
     "name": "stdout",
     "output_type": "stream",
     "text": [
      "   ✅ Successfully processed Matthew Mays with dual vectors only\n",
      "   Generating user 80/100...\n"
     ]
    },
    {
     "name": "stderr",
     "output_type": "stream",
     "text": [
      "INFO:profile_generator:Successfully built complete JSON for Miguel Berry\n",
      "INFO:profile_generator:Created synthetic user from JSON: Miguel Berry\n"
     ]
    },
    {
     "name": "stdout",
     "output_type": "stream",
     "text": [
      "   Processing Miguel Berry through dual-vector pipeline...\n"
     ]
    },
    {
     "name": "stderr",
     "output_type": "stream",
     "text": [
      "INFO:profile_generator:Generated interests profile for Miguel Berry\n",
      "INFO:profile_generator:Generated Openness profile for Miguel Berry\n",
      "INFO:profile_generator:Generated Conscientiousness profile for Miguel Berry\n",
      "INFO:profile_generator:Generated Extraversion profile for Miguel Berry\n",
      "INFO:profile_generator:Generated Agreeableness profile for Miguel Berry\n",
      "INFO:profile_generator:Generated Neuroticism profile for Miguel Berry\n",
      "INFO:profile_generator:Generated all personality profiles for Miguel Berry\n",
      "INFO:embedding_generator:Generated interests embedding for Miguel Berry (shape: (3072,))\n",
      "INFO:embedding_generator:Generated personality embedding for Miguel Berry (shape: (3840,))\n",
      "INFO:profile_generator:Building JSON manually for Edward Mitchell (High Conscientiousness, High N...)\n"
     ]
    },
    {
     "name": "stdout",
     "output_type": "stream",
     "text": [
      "   ✅ Successfully processed Miguel Berry with dual vectors only\n",
      "   Generating user 81/100...\n"
     ]
    },
    {
     "name": "stderr",
     "output_type": "stream",
     "text": [
      "INFO:profile_generator:Successfully built complete JSON for Edward Mitchell\n",
      "INFO:profile_generator:Created synthetic user from JSON: Edward Mitchell\n"
     ]
    },
    {
     "name": "stdout",
     "output_type": "stream",
     "text": [
      "   Processing Edward Mitchell through dual-vector pipeline...\n"
     ]
    },
    {
     "name": "stderr",
     "output_type": "stream",
     "text": [
      "INFO:profile_generator:Generated interests profile for Edward Mitchell\n",
      "INFO:profile_generator:Generated Openness profile for Edward Mitchell\n",
      "INFO:profile_generator:Generated Conscientiousness profile for Edward Mitchell\n",
      "INFO:profile_generator:Generated Extraversion profile for Edward Mitchell\n",
      "INFO:profile_generator:Generated Agreeableness profile for Edward Mitchell\n",
      "INFO:profile_generator:Generated Neuroticism profile for Edward Mitchell\n",
      "INFO:profile_generator:Generated all personality profiles for Edward Mitchell\n",
      "INFO:embedding_generator:Generated interests embedding for Edward Mitchell (shape: (3072,))\n",
      "INFO:embedding_generator:Generated personality embedding for Edward Mitchell (shape: (3840,))\n",
      "INFO:profile_generator:Building JSON manually for Joseph Fox (Low Extraversion, Low Agreeabl...)\n"
     ]
    },
    {
     "name": "stdout",
     "output_type": "stream",
     "text": [
      "   ✅ Successfully processed Edward Mitchell with dual vectors only\n",
      "   Generating user 82/100...\n"
     ]
    },
    {
     "name": "stderr",
     "output_type": "stream",
     "text": [
      "INFO:profile_generator:Successfully built complete JSON for Joseph Fox\n",
      "INFO:profile_generator:Created synthetic user from JSON: Joseph Fox\n"
     ]
    },
    {
     "name": "stdout",
     "output_type": "stream",
     "text": [
      "   Processing Joseph Fox through dual-vector pipeline...\n"
     ]
    },
    {
     "name": "stderr",
     "output_type": "stream",
     "text": [
      "INFO:profile_generator:Generated interests profile for Joseph Fox\n",
      "INFO:profile_generator:Generated Openness profile for Joseph Fox\n",
      "INFO:profile_generator:Generated Conscientiousness profile for Joseph Fox\n",
      "INFO:profile_generator:Generated Extraversion profile for Joseph Fox\n",
      "INFO:profile_generator:Generated Agreeableness profile for Joseph Fox\n",
      "INFO:profile_generator:Generated Neuroticism profile for Joseph Fox\n",
      "INFO:profile_generator:Generated all personality profiles for Joseph Fox\n",
      "INFO:embedding_generator:Generated interests embedding for Joseph Fox (shape: (3072,))\n",
      "INFO:embedding_generator:Generated personality embedding for Joseph Fox (shape: (3840,))\n",
      "INFO:profile_generator:Building JSON manually for Laura Arnold (Low Openness, High Extraversio...)\n"
     ]
    },
    {
     "name": "stdout",
     "output_type": "stream",
     "text": [
      "   ✅ Successfully processed Joseph Fox with dual vectors only\n",
      "   Generating user 83/100...\n"
     ]
    },
    {
     "name": "stderr",
     "output_type": "stream",
     "text": [
      "INFO:profile_generator:Successfully built complete JSON for Laura Arnold\n",
      "INFO:profile_generator:Created synthetic user from JSON: Laura Arnold\n"
     ]
    },
    {
     "name": "stdout",
     "output_type": "stream",
     "text": [
      "   Processing Laura Arnold through dual-vector pipeline...\n"
     ]
    },
    {
     "name": "stderr",
     "output_type": "stream",
     "text": [
      "INFO:profile_generator:Generated interests profile for Laura Arnold\n",
      "INFO:profile_generator:Generated Openness profile for Laura Arnold\n",
      "INFO:profile_generator:Generated Conscientiousness profile for Laura Arnold\n",
      "INFO:profile_generator:Generated Extraversion profile for Laura Arnold\n",
      "INFO:profile_generator:Generated Agreeableness profile for Laura Arnold\n",
      "INFO:profile_generator:Generated Neuroticism profile for Laura Arnold\n",
      "INFO:profile_generator:Generated all personality profiles for Laura Arnold\n",
      "INFO:embedding_generator:Generated interests embedding for Laura Arnold (shape: (3072,))\n",
      "INFO:embedding_generator:Generated personality embedding for Laura Arnold (shape: (3840,))\n",
      "INFO:profile_generator:Building JSON manually for Steven Brown (High Openness, High Neuroticis...)\n"
     ]
    },
    {
     "name": "stdout",
     "output_type": "stream",
     "text": [
      "   ✅ Successfully processed Laura Arnold with dual vectors only\n",
      "   Generating user 84/100...\n"
     ]
    },
    {
     "name": "stderr",
     "output_type": "stream",
     "text": [
      "INFO:profile_generator:Successfully built complete JSON for Steven Brown\n",
      "INFO:profile_generator:Created synthetic user from JSON: Steven Brown\n"
     ]
    },
    {
     "name": "stdout",
     "output_type": "stream",
     "text": [
      "   Processing Steven Brown through dual-vector pipeline...\n"
     ]
    },
    {
     "name": "stderr",
     "output_type": "stream",
     "text": [
      "INFO:profile_generator:Generated interests profile for Steven Brown\n",
      "INFO:profile_generator:Generated Openness profile for Steven Brown\n",
      "INFO:profile_generator:Generated Conscientiousness profile for Steven Brown\n",
      "INFO:profile_generator:Generated Extraversion profile for Steven Brown\n",
      "INFO:profile_generator:Generated Agreeableness profile for Steven Brown\n",
      "INFO:profile_generator:Generated Neuroticism profile for Steven Brown\n",
      "INFO:profile_generator:Generated all personality profiles for Steven Brown\n",
      "INFO:embedding_generator:Generated interests embedding for Steven Brown (shape: (3072,))\n",
      "INFO:embedding_generator:Generated personality embedding for Steven Brown (shape: (3840,))\n",
      "INFO:profile_generator:Building JSON manually for Gregory Price (Low Neuroticism, Low Agreeable...)\n"
     ]
    },
    {
     "name": "stdout",
     "output_type": "stream",
     "text": [
      "   ✅ Successfully processed Steven Brown with dual vectors only\n",
      "   Generating user 85/100...\n"
     ]
    },
    {
     "name": "stderr",
     "output_type": "stream",
     "text": [
      "INFO:profile_generator:Successfully built complete JSON for Gregory Price\n",
      "INFO:profile_generator:Created synthetic user from JSON: Gregory Price\n"
     ]
    },
    {
     "name": "stdout",
     "output_type": "stream",
     "text": [
      "   Processing Gregory Price through dual-vector pipeline...\n"
     ]
    },
    {
     "name": "stderr",
     "output_type": "stream",
     "text": [
      "INFO:profile_generator:Generated interests profile for Gregory Price\n",
      "INFO:profile_generator:Generated Openness profile for Gregory Price\n",
      "INFO:profile_generator:Generated Conscientiousness profile for Gregory Price\n",
      "INFO:profile_generator:Generated Extraversion profile for Gregory Price\n",
      "INFO:profile_generator:Generated Agreeableness profile for Gregory Price\n",
      "INFO:profile_generator:Generated Neuroticism profile for Gregory Price\n",
      "INFO:profile_generator:Generated all personality profiles for Gregory Price\n",
      "INFO:embedding_generator:Generated interests embedding for Gregory Price (shape: (3072,))\n",
      "INFO:embedding_generator:Generated personality embedding for Gregory Price (shape: (3840,))\n",
      "INFO:profile_generator:Building JSON manually for Brian Ramirez (High Extraversion, Low Agreeab...)\n"
     ]
    },
    {
     "name": "stdout",
     "output_type": "stream",
     "text": [
      "   ✅ Successfully processed Gregory Price with dual vectors only\n",
      "   Generating user 86/100...\n"
     ]
    },
    {
     "name": "stderr",
     "output_type": "stream",
     "text": [
      "INFO:profile_generator:Successfully built complete JSON for Brian Ramirez\n",
      "INFO:profile_generator:Created synthetic user from JSON: Brian Ramirez\n"
     ]
    },
    {
     "name": "stdout",
     "output_type": "stream",
     "text": [
      "   Processing Brian Ramirez through dual-vector pipeline...\n"
     ]
    },
    {
     "name": "stderr",
     "output_type": "stream",
     "text": [
      "INFO:profile_generator:Generated interests profile for Brian Ramirez\n",
      "INFO:profile_generator:Generated Openness profile for Brian Ramirez\n",
      "INFO:profile_generator:Generated Conscientiousness profile for Brian Ramirez\n",
      "INFO:profile_generator:Generated Extraversion profile for Brian Ramirez\n",
      "INFO:profile_generator:Generated Agreeableness profile for Brian Ramirez\n",
      "INFO:profile_generator:Generated Neuroticism profile for Brian Ramirez\n",
      "INFO:profile_generator:Generated all personality profiles for Brian Ramirez\n",
      "INFO:embedding_generator:Generated interests embedding for Brian Ramirez (shape: (3072,))\n",
      "INFO:embedding_generator:Generated personality embedding for Brian Ramirez (shape: (3840,))\n",
      "INFO:profile_generator:Building JSON manually for Carla Myers (Low Openness, High Extraversio...)\n"
     ]
    },
    {
     "name": "stdout",
     "output_type": "stream",
     "text": [
      "   ✅ Successfully processed Brian Ramirez with dual vectors only\n",
      "   Generating user 87/100...\n"
     ]
    },
    {
     "name": "stderr",
     "output_type": "stream",
     "text": [
      "INFO:profile_generator:Successfully built complete JSON for Carla Myers\n",
      "INFO:profile_generator:Created synthetic user from JSON: Carla Myers\n"
     ]
    },
    {
     "name": "stdout",
     "output_type": "stream",
     "text": [
      "   Processing Carla Myers through dual-vector pipeline...\n"
     ]
    },
    {
     "name": "stderr",
     "output_type": "stream",
     "text": [
      "INFO:profile_generator:Generated interests profile for Carla Myers\n",
      "INFO:profile_generator:Generated Openness profile for Carla Myers\n",
      "INFO:profile_generator:Generated Conscientiousness profile for Carla Myers\n",
      "INFO:profile_generator:Generated Extraversion profile for Carla Myers\n",
      "INFO:profile_generator:Generated Agreeableness profile for Carla Myers\n",
      "INFO:profile_generator:Generated Neuroticism profile for Carla Myers\n",
      "INFO:profile_generator:Generated all personality profiles for Carla Myers\n",
      "INFO:embedding_generator:Generated interests embedding for Carla Myers (shape: (3072,))\n",
      "INFO:embedding_generator:Generated personality embedding for Carla Myers (shape: (3840,))\n",
      "INFO:profile_generator:Building JSON manually for Rachel Adams (High Neuroticism, High Extrave...)\n"
     ]
    },
    {
     "name": "stdout",
     "output_type": "stream",
     "text": [
      "   ✅ Successfully processed Carla Myers with dual vectors only\n",
      "   Generating user 88/100...\n"
     ]
    },
    {
     "name": "stderr",
     "output_type": "stream",
     "text": [
      "INFO:profile_generator:Successfully built complete JSON for Rachel Adams\n",
      "INFO:profile_generator:Created synthetic user from JSON: Rachel Adams\n"
     ]
    },
    {
     "name": "stdout",
     "output_type": "stream",
     "text": [
      "   Processing Rachel Adams through dual-vector pipeline...\n"
     ]
    },
    {
     "name": "stderr",
     "output_type": "stream",
     "text": [
      "INFO:profile_generator:Generated interests profile for Rachel Adams\n",
      "INFO:profile_generator:Generated Openness profile for Rachel Adams\n",
      "INFO:profile_generator:Generated Conscientiousness profile for Rachel Adams\n",
      "INFO:profile_generator:Generated Extraversion profile for Rachel Adams\n",
      "INFO:profile_generator:Generated Agreeableness profile for Rachel Adams\n",
      "INFO:profile_generator:Generated Neuroticism profile for Rachel Adams\n",
      "INFO:profile_generator:Generated all personality profiles for Rachel Adams\n",
      "INFO:embedding_generator:Generated interests embedding for Rachel Adams (shape: (3072,))\n",
      "INFO:embedding_generator:Generated personality embedding for Rachel Adams (shape: (3840,))\n",
      "INFO:profile_generator:Building JSON manually for Nathan Miranda (Low Extraversion, Low Conscien...)\n"
     ]
    },
    {
     "name": "stdout",
     "output_type": "stream",
     "text": [
      "   ✅ Successfully processed Rachel Adams with dual vectors only\n",
      "   Generating user 89/100...\n"
     ]
    },
    {
     "name": "stderr",
     "output_type": "stream",
     "text": [
      "INFO:profile_generator:Successfully built complete JSON for Nathan Miranda\n",
      "INFO:profile_generator:Created synthetic user from JSON: Nathan Miranda\n"
     ]
    },
    {
     "name": "stdout",
     "output_type": "stream",
     "text": [
      "   Processing Nathan Miranda through dual-vector pipeline...\n"
     ]
    },
    {
     "name": "stderr",
     "output_type": "stream",
     "text": [
      "INFO:profile_generator:Generated interests profile for Nathan Miranda\n"
     ]
    }
   ],
   "source": [
    "# Initialize generators\n",
    "print(\"Initializing AI generators...\")\n",
    "profile_generator = ProfileGenerator()\n",
    "embedding_generator = EmbeddingGenerator()\n",
    "\n",
    "print(f\"📝 Profile Generator: {profile_generator.taste_profile_model}\")\n",
    "print(f\"🔢 Embedding Generator: {embedding_generator.model_name} ({embedding_generator.embedding_dimensions}D)\")\n",
    "\n",
    "# Create population\n",
    "population = Population(\"Mello Campus Community\")\n",
    "\n",
    "# Generate synthetic users with dual-vector profiles (NO LEGACY PROCESSING)\n",
    "print(\"\\n🤖 Generating synthetic users with DUAL-VECTOR ONLY...\")\n",
    "print(\"This may take a few minutes due to API calls...\")\n",
    "\n",
    "# Generate synthetic users using ONLY the dual-vector approach\n",
    "num_synthetic_users = 100  # Reduced for testing\n",
    "successful_users = 0\n",
    "\n",
    "def progress_callback(current, total):\n",
    "    percent = (current / total) * 100\n",
    "    print(f\"Progress: {current}/{total} ({percent:.1f}%)\")\n",
    "\n",
    "print(f\"\\n🎭 Generating {num_synthetic_users} synthetic users with dual-vector profiles...\")\n",
    "for i in range(num_synthetic_users):\n",
    "    try:\n",
    "        # Generate a synthetic user with realistic JSON structure\n",
    "        print(f\"   Generating user {i+1}/{num_synthetic_users}...\")\n",
    "        synthetic_user = profile_generator.generate_synthetic_user()\n",
    "        \n",
    "        if synthetic_user:\n",
    "            print(f\"   Processing {synthetic_user.name} through dual-vector pipeline...\")\n",
    "            \n",
    "            # Generate ONLY dual profiles (interests + personality)\n",
    "            profile_success = profile_generator.generate_dual_profiles(synthetic_user)\n",
    "            \n",
    "            if profile_success:\n",
    "                # Generate ONLY dual embeddings (3072 + 3840 dims)\n",
    "                embedding_success = embedding_generator.embed_user_dual(synthetic_user)\n",
    "                \n",
    "                if embedding_success:\n",
    "                    # Remove any legacy embedding if it exists\n",
    "                    if hasattr(synthetic_user, 'embedding'):\n",
    "                        delattr(synthetic_user, 'embedding')\n",
    "                    if hasattr(synthetic_user, 'taste_profile'):\n",
    "                        delattr(synthetic_user, 'taste_profile')\n",
    "                    \n",
    "                    population.add_user(synthetic_user)\n",
    "                    successful_users += 1\n",
    "                    print(f\"   ✅ Successfully processed {synthetic_user.name} with dual vectors only\")\n",
    "                else:\n",
    "                    print(f\"   ❌ Failed to generate dual embeddings for {synthetic_user.name}\")\n",
    "            else:\n",
    "                print(f\"   ❌ Failed to generate dual profiles for {synthetic_user.name}\")\n",
    "        else:\n",
    "            print(f\"   ❌ Failed to generate synthetic user {i+1}\")\n",
    "            \n",
    "    except Exception as e:\n",
    "        print(f\"   ❌ Error generating user {i+1}: {e}\")\n",
    "\n",
    "print(f\"\\n🎯 Generated {successful_users}/{num_synthetic_users} synthetic users with DUAL VECTORS ONLY\")\n",
    "print(f\"📊 Population stats: {population.get_statistics()}\")\n",
    "\n",
    "# Verify no legacy data exists\n",
    "print(f\"\\n🔍 Verification - checking for legacy data...\")\n",
    "legacy_count = 0\n",
    "for user in population.users:\n",
    "    if hasattr(user, 'embedding') or hasattr(user, 'taste_profile'):\n",
    "        legacy_count += 1\n",
    "\n",
    "print(f\"   Users with legacy data: {legacy_count} (should be 0)\")\n",
    "print(f\"   Users with dual embeddings: {len(population.get_users_with_embeddings('dual'))}\")\n",
    "print(\"✅ Dual-vector only generation complete!\")"
   ]
  },
  {
   "cell_type": "markdown",
   "metadata": {},
   "source": [
    "## Step 2: Load Real User from Frontend JSON\n",
    "\n",
    "Load a real user profile from the React frontend JSON format and add them to the population."
   ]
  },
  {
   "cell_type": "code",
   "execution_count": 18,
   "metadata": {},
   "outputs": [
    {
     "ename": "AttributeError",
     "evalue": "module 'population' has no attribute 'get_user'",
     "output_type": "error",
     "traceback": [
      "\u001b[31m---------------------------------------------------------------------------\u001b[39m",
      "\u001b[31mAttributeError\u001b[39m                            Traceback (most recent call last)",
      "\u001b[36mCell\u001b[39m\u001b[36m \u001b[39m\u001b[32mIn[18]\u001b[39m\u001b[32m, line 1\u001b[39m\n\u001b[32m----> \u001b[39m\u001b[32m1\u001b[39m \u001b[43mpopulation\u001b[49m\u001b[43m.\u001b[49m\u001b[43mget_user\u001b[49m(\u001b[33m\"\u001b[39m\u001b[33mYahya Rahhawi\u001b[39m\u001b[33m\"\u001b[39m)\n",
      "\u001b[31mAttributeError\u001b[39m: module 'population' has no attribute 'get_user'"
     ]
    }
   ],
   "source": [
    "population.get_user(\"Yahya Rahhawi\")"
   ]
  },
  {
   "cell_type": "code",
   "execution_count": 4,
   "metadata": {},
   "outputs": [
    {
     "name": "stderr",
     "output_type": "stream",
     "text": [
      "INFO:population:Saved population 'Mello Campus Community' with 6 users to main_population.json\n"
     ]
    }
   ],
   "source": [
    "population.save_to_json(\"main_population.json\")"
   ]
  },
  {
   "cell_type": "code",
   "execution_count": 9,
   "metadata": {},
   "outputs": [
    {
     "name": "stderr",
     "output_type": "stream",
     "text": [
      "INFO:dual_vector_utils:Created user: Yahya Rahhawi\n"
     ]
    },
    {
     "name": "stdout",
     "output_type": "stream",
     "text": [
      "🔄 Loading user from frontend JSON...\n",
      "🚀 Running complete dual-vector pipeline...\n",
      "   1. Creating user from JSON...\n"
     ]
    },
    {
     "name": "stderr",
     "output_type": "stream",
     "text": [
      "INFO:profile_generator:Generated interests profile for Yahya Rahhawi\n",
      "INFO:profile_generator:Generated Openness profile for Yahya Rahhawi\n",
      "INFO:profile_generator:Generated Conscientiousness profile for Yahya Rahhawi\n",
      "INFO:profile_generator:Generated Extraversion profile for Yahya Rahhawi\n",
      "INFO:profile_generator:Generated Agreeableness profile for Yahya Rahhawi\n",
      "INFO:profile_generator:Generated Neuroticism profile for Yahya Rahhawi\n",
      "INFO:profile_generator:Generated all personality profiles for Yahya Rahhawi\n",
      "INFO:dual_vector_utils:Generated profiles for Yahya Rahhawi\n",
      "WARNING:embedding_generator:Rate limit hit. Waiting 2s before retry 1/3\n",
      "WARNING:embedding_generator:Rate limit hit. Waiting 4s before retry 2/3\n",
      "WARNING:embedding_generator:Rate limit hit. Waiting 8s before retry 3/3\n",
      "ERROR:embedding_generator:Failed to generate interests embedding for Yahya Rahhawi: Failed to generate Gemini embedding after 3 attempts\n",
      "WARNING:embedding_generator:Rate limit hit. Waiting 2s before retry 1/3\n",
      "WARNING:embedding_generator:Rate limit hit. Waiting 4s before retry 2/3\n",
      "WARNING:embedding_generator:Rate limit hit. Waiting 8s before retry 3/3\n",
      "ERROR:embedding_generator:Failed to generate personality embedding for Yahya Rahhawi: Failed to generate Gemini embedding after 3 attempts\n",
      "INFO:dual_vector_utils:Generated embeddings for Yahya Rahhawi\n",
      "WARNING:population:User with name 'Yahya Rahhawi' already exists in population\n"
     ]
    },
    {
     "name": "stdout",
     "output_type": "stream",
     "text": [
      "✅ Processed user: User(name='Yahya Rahhawi', books=5, interests_profile=Yes, personality_profile=Yes, interests_emb=No, personality_emb=No, special=True)⭐\n",
      "📊 Interests profile length: 799 chars\n",
      "📊 Personality profiles: 5 traits\n",
      "🔢 Interests embedding: None\n",
      "🔢 Personality embedding: None\n",
      "\n",
      "👥 Added user to population. Total users: 15\n",
      "\n",
      "📖 Interests Profile Preview:\n",
      "   They are deeply philosophical and intellectually curious, drawn to works that explore profound questions of morality, existence, and social responsibility. They exhibit a strong interest in social jus...\n",
      "\n",
      "🧠 Personality Profiles Preview:\n",
      "   Openness: They appreciate familiarity and predictability in many aspects of their life, and readily stick to e...\n",
      "   Conscientiousness: This person plans some things ahead, evidenced by packing for trips well in advance and setting mult...\n"
     ]
    }
   ],
   "source": [
    "# Load and process the frontend JSON user\n",
    "sample_json_path = \"personality-json/mello-profile-yahya-rahhawi-2025-08-15 (1).json\"\n",
    "print(\"🔄 Loading user from frontend JSON...\")\n",
    "\n",
    "with open(sample_json_path, 'r') as f:\n",
    "    frontend_json_data = json.load(f)\n",
    "\n",
    "# Process the user through the complete dual-vector pipeline\n",
    "print(\"🚀 Running complete dual-vector pipeline...\")\n",
    "print(\"   1. Creating user from JSON...\")\n",
    "frontend_user = process_frontend_json_to_user(\n",
    "    frontend_json_data, \n",
    "    profile_generator, \n",
    "    embedding_generator,\n",
    "    generate_profiles=True,\n",
    "    generate_embeddings=True\n",
    ")\n",
    "\n",
    "# Mark as special user for visualization\n",
    "frontend_user.special = True\n",
    "\n",
    "print(f\"✅ Processed user: {frontend_user}\")\n",
    "print(f\"📊 Interests profile length: {len(frontend_user.interests_profile) if frontend_user.interests_profile else 0} chars\")\n",
    "print(f\"📊 Personality profiles: {len(frontend_user.personality_profile) if frontend_user.personality_profile else 0} traits\")\n",
    "print(f\"🔢 Interests embedding: {frontend_user.interests_embedding.shape if frontend_user.interests_embedding is not None else 'None'}\")\n",
    "print(f\"🔢 Personality embedding: {frontend_user.personality_embedding.shape if frontend_user.personality_embedding is not None else 'None'}\")\n",
    "\n",
    "# Add to population\n",
    "population.add_user(frontend_user)\n",
    "print(f\"\\n👥 Added user to population. Total users: {len(population)}\")\n",
    "\n",
    "# Show a preview of the generated profiles\n",
    "if frontend_user.interests_profile:\n",
    "    print(f\"\\n📖 Interests Profile Preview:\")\n",
    "    print(f\"   {frontend_user.interests_profile[:200]}...\")\n",
    "\n",
    "if frontend_user.personality_profile:\n",
    "    print(f\"\\n🧠 Personality Profiles Preview:\")\n",
    "    for trait, description in list(frontend_user.personality_profile.items())[:2]:\n",
    "        print(f\"   {trait}: {description[:100]}...\")"
   ]
  },
  {
   "cell_type": "markdown",
   "metadata": {},
   "source": [
    "## Step 3: Visualize Embeddings\n",
    "\n",
    "Create visualizations using UMAP and PCA for different embedding types:\n",
    "1. Individual personality trait vectors\n",
    "2. Concatenated personality vector\n",
    "3. Interests vector\n",
    "4. Combined vector (interests + personality)"
   ]
  },
  {
   "cell_type": "code",
   "execution_count": 5,
   "metadata": {},
   "outputs": [
    {
     "name": "stdout",
     "output_type": "stream",
     "text": [
      "📊 Preparing embedding data for visualization...\n",
      "👥 Found 6 users with dual embeddings\n",
      "📏 Embedding shapes:\n",
      "   Interests: (6, 3072)\n",
      "   Personality: (6, 3840)\n",
      "   Combined: (6, 6912)\n",
      "   Openness: (6, 768)\n",
      "   Conscientiousness: (6, 768)\n",
      "   Extraversion: (6, 768)\n",
      "   Agreeableness: (6, 768)\n",
      "   Neuroticism: (6, 768)\n",
      "✅ Data preparation complete!\n"
     ]
    }
   ],
   "source": [
    "# Prepare data for visualization\n",
    "print(\"📊 Preparing embedding data for visualization...\")\n",
    "\n",
    "# Filter users with dual embeddings\n",
    "dual_users = population.get_users_with_embeddings('dual')\n",
    "print(f\"👥 Found {len(dual_users)} users with dual embeddings\")\n",
    "\n",
    "if len(dual_users) < 3:\n",
    "    print(\"⚠️  Need at least 3 users with dual embeddings for meaningful visualization\")\n",
    "    print(\"   Continuing with available users...\")\n",
    "\n",
    "# Extract embeddings and metadata\n",
    "user_names = [user.name for user in dual_users]\n",
    "user_types = ['Frontend User' if user.special else 'Synthetic User' for user in dual_users]\n",
    "colors = ['red' if user.special else 'blue' for user in dual_users]\n",
    "\n",
    "# Get embedding matrices\n",
    "interests_matrix = np.array([user.interests_embedding for user in dual_users])\n",
    "personality_matrix = np.array([user.personality_embedding for user in dual_users])\n",
    "combined_matrix = np.concatenate([interests_matrix, personality_matrix], axis=1)\n",
    "\n",
    "print(f\"📏 Embedding shapes:\")\n",
    "print(f\"   Interests: {interests_matrix.shape}\")\n",
    "print(f\"   Personality: {personality_matrix.shape}\")\n",
    "print(f\"   Combined: {combined_matrix.shape}\")\n",
    "\n",
    "# Extract individual trait embeddings (768 dims each)\n",
    "trait_names = ['Openness', 'Conscientiousness', 'Extraversion', 'Agreeableness', 'Neuroticism']\n",
    "trait_matrices = {}\n",
    "\n",
    "for i, trait in enumerate(trait_names):\n",
    "    start_idx = i * 768\n",
    "    end_idx = (i + 1) * 768\n",
    "    trait_matrices[trait] = personality_matrix[:, start_idx:end_idx]\n",
    "    print(f\"   {trait}: {trait_matrices[trait].shape}\")\n",
    "\n",
    "print(\"✅ Data preparation complete!\")"
   ]
  },
  {
   "cell_type": "code",
   "execution_count": 6,
   "metadata": {},
   "outputs": [
    {
     "name": "stdout",
     "output_type": "stream",
     "text": [
      "🗺️  Creating UMAP visualizations...\n",
      "📊 Visualizing 6 users with dual embeddings\n",
      "🔧 UMAP parameters: n_neighbors=5, min_dist=0.1\n",
      "   Processing Interests ((6, 3072))...\n"
     ]
    },
    {
     "name": "stderr",
     "output_type": "stream",
     "text": [
      "OMP: Info #276: omp_set_nested routine deprecated, please use omp_set_max_active_levels instead.\n"
     ]
    },
    {
     "name": "stdout",
     "output_type": "stream",
     "text": [
      "   Processing Personality (Full) ((6, 3840))...\n",
      "   Processing Combined ((6, 6912))...\n",
      "   Processing Openness ((6, 768))...\n",
      "   Processing Conscientiousness ((6, 768))...\n",
      "   Processing Extraversion ((6, 768))...\n",
      "   Processing Agreeableness ((6, 768))...\n",
      "   Processing Neuroticism ((6, 768))...\n"
     ]
    },
    {
     "data": {
      "image/png": "[encoded data removed]",
      "text/plain": [
       "<Figure size 2000x1800 with 8 Axes>"
      ]
     },
     "metadata": {},
     "output_type": "display_data"
    },
    {
     "name": "stdout",
     "output_type": "stream",
     "text": [
      "✅ UMAP visualizations complete!\n",
      "\n",
      "📈 Creating backup PCA visualizations...\n"
     ]
    },
    {
     "data": {
      "image/png": "[encoded data removed]",
      "text/plain": [
       "<Figure size 1500x1200 with 4 Axes>"
      ]
     },
     "metadata": {},
     "output_type": "display_data"
    },
    {
     "name": "stdout",
     "output_type": "stream",
     "text": [
      "✅ PCA backup visualizations complete!\n"
     ]
    }
   ],
   "source": [
    "print(\"🗺️  Creating UMAP visualizations...\")\n",
    "\n",
    "# Check number of users and adjust parameters accordingly\n",
    "n_users = len(dual_users)\n",
    "print(f\"📊 Visualizing {n_users} users with dual embeddings\")\n",
    "\n",
    "if n_users < 3:\n",
    "    print(\"⚠️  Need at least 3 users for UMAP visualization\")\n",
    "else:\n",
    "    # Set up UMAP parameters based on data size\n",
    "    n_neighbors = min(15, max(2, n_users - 1))  # Much smaller neighbors for small datasets\n",
    "\n",
    "    umap_params = {\n",
    "        'n_neighbors': n_neighbors,\n",
    "        'min_dist': 0.1,\n",
    "        'metric': 'cosine',\n",
    "        'random_state': 42,\n",
    "        'n_components': 2,\n",
    "        'densmap': False,  # Disable for better stability\n",
    "        'low_memory': True  # Use low memory mode\n",
    "    }\n",
    "\n",
    "    print(f\"🔧 UMAP parameters: n_neighbors={n_neighbors}, min_dist=0.1\")\n",
    "\n",
    "    # Create a large figure with subplots\n",
    "    fig, axes = plt.subplots(3, 3, figsize=(20, 18))\n",
    "    fig.suptitle(f'UMAP Embeddings Visualization - Mello Dual Vector System ({n_users} users)', fontsize=16, y=0.95)\n",
    "\n",
    "    # Define the embeddings to visualize\n",
    "    embeddings_to_plot = {\n",
    "        'Interests': interests_matrix,\n",
    "        'Personality (Full)': personality_matrix,\n",
    "        'Combined': combined_matrix,\n",
    "        'Openness': trait_matrices['Openness'],\n",
    "        'Conscientiousness': trait_matrices['Conscientiousness'],\n",
    "        'Extraversion': trait_matrices['Extraversion'],\n",
    "        'Agreeableness': trait_matrices['Agreeableness'],\n",
    "        'Neuroticism': trait_matrices['Neuroticism']\n",
    "    }\n",
    "\n",
    "    # Create UMAP plots\n",
    "    plot_idx = 0\n",
    "    for name, matrix in embeddings_to_plot.items():\n",
    "        if plot_idx >= 8:  # Only plot first 8\n",
    "            break\n",
    "\n",
    "        row = plot_idx // 3\n",
    "        col = plot_idx % 3\n",
    "        ax = axes[row, col]\n",
    "\n",
    "        try:\n",
    "            print(f\"   Processing {name} ({matrix.shape})...\")\n",
    "\n",
    "            # Additional check for matrix validity\n",
    "            if matrix.shape[0] < 2:\n",
    "                ax.text(0.5, 0.5, f'Need at least 2 users\\nHave: {matrix.shape[0]}',\n",
    "                        ha='center', va='center', transform=ax.transAxes)\n",
    "                ax.set_title(f'{name} UMAP - Insufficient Data')\n",
    "                plot_idx += 1\n",
    "                continue\n",
    "\n",
    "            # Adjust n_neighbors for this specific matrix if needed\n",
    "            current_params = umap_params.copy()\n",
    "            current_params['n_neighbors'] = min(current_params['n_neighbors'], matrix.shape[0] - 1)\n",
    "\n",
    "            # Fit UMAP with error handling\n",
    "            reducer = umap.UMAP(**current_params)\n",
    "            embedding_2d = reducer.fit_transform(matrix)\n",
    "\n",
    "            # Create scatter plot\n",
    "            unique_types = list(set(user_types))\n",
    "            for user_type in unique_types:\n",
    "                mask = np.array(user_types) == user_type\n",
    "                color = 'red' if user_type == 'Frontend User' else 'blue'\n",
    "                ax.scatter(embedding_2d[mask, 0], embedding_2d[mask, 1],\n",
    "                        c=color, alpha=0.7, s=60, label=user_type)\n",
    "\n",
    "            # Annotate points with user names (fewer labels for clarity)\n",
    "            if n_users <= 20:  # Only show names for small datasets\n",
    "                for i, (x, y, user_name) in enumerate(zip(embedding_2d[:, 0], embedding_2d[:, 1], user_names)):\n",
    "                    short_name = user_name[:8] + '...' if len(user_name) > 8 else user_name\n",
    "                    ax.annotate(short_name, (x, y), xytext=(3, 3), textcoords='offset points',\n",
    "                                fontsize=7, alpha=0.7)\n",
    "\n",
    "            ax.set_title(f'{name} UMAP\\n({matrix.shape[1]}D → 2D)', fontsize=10)\n",
    "            ax.set_xlabel('UMAP 1')\n",
    "            ax.set_ylabel('UMAP 2')\n",
    "            ax.grid(True, alpha=0.3)\n",
    "\n",
    "            if plot_idx == 0:  # Add legend to first plot\n",
    "                ax.legend()\n",
    "\n",
    "        except Exception as e:\n",
    "            error_msg = str(e)\n",
    "            if 'scipy' in error_msg or 'eigh' in error_msg:\n",
    "                # Specific error message for UMAP issues\n",
    "                ax.text(0.5, 0.5, f'UMAP Error:\\nToo few samples for\\nthis embedding type\\n({matrix.shape[0]} users)',\n",
    "                        ha='center', va='center', transform=ax.transAxes, fontsize=9)\n",
    "            else:\n",
    "                ax.text(0.5, 0.5, f'Error: {error_msg[:50]}...',\n",
    "                        ha='center', va='center', transform=ax.transAxes, fontsize=8)\n",
    "            ax.set_title(f'{name} UMAP - Error')\n",
    "            print(f\"   ❌ Error with {name}: {error_msg}\")\n",
    "\n",
    "        plot_idx += 1\n",
    "\n",
    "    # Remove unused subplots\n",
    "    for idx in range(plot_idx, 9):\n",
    "        row = idx // 3\n",
    "        col = idx % 3\n",
    "        if row < 3 and col < 3:\n",
    "            axes[row, col].remove()\n",
    "\n",
    "    plt.tight_layout()\n",
    "    plt.savefig('umap_embeddings_visualization.png', dpi=300, bbox_inches='tight')\n",
    "    plt.show()\n",
    "\n",
    "    print(\"✅ UMAP visualizations complete!\")\n",
    "\n",
    "# Alternative: Simple PCA visualization if UMAP fails\n",
    "print(\"\\n📈 Creating backup PCA visualizations...\")\n",
    "\n",
    "try:\n",
    "    from sklearn.decomposition import PCA\n",
    "\n",
    "    # Create simpler PCA plots\n",
    "    fig, axes = plt.subplots(2, 2, figsize=(15, 12))\n",
    "    fig.suptitle(f'PCA Embeddings Visualization - Backup Method ({n_users} users)', fontsize=14)\n",
    "\n",
    "    simple_embeddings = {\n",
    "        'Interests': interests_matrix,\n",
    "        'Personality': personality_matrix,\n",
    "        'Combined': combined_matrix,\n",
    "        'Openness': trait_matrices['Openness']\n",
    "    }\n",
    "\n",
    "    for idx, (name, matrix) in enumerate(simple_embeddings.items()):\n",
    "        if idx >= 4:\n",
    "            break\n",
    "\n",
    "        row = idx // 2\n",
    "        col = idx % 2\n",
    "        ax = axes[row, col]\n",
    "\n",
    "        try:\n",
    "            # PCA is more stable than UMAP\n",
    "            pca = PCA(n_components=2, random_state=42)\n",
    "            embedding_2d = pca.fit_transform(matrix)\n",
    "\n",
    "            # Plot\n",
    "            unique_types = list(set(user_types))\n",
    "            for user_type in unique_types:\n",
    "                mask = np.array(user_types) == user_type\n",
    "                color = 'red' if user_type == 'Frontend User' else 'blue'\n",
    "                ax.scatter(embedding_2d[mask, 0], embedding_2d[mask, 1],\n",
    "                        c=color, alpha=0.7, s=60, label=user_type)\n",
    "\n",
    "            # Explained variance\n",
    "            explained_var = pca.explained_variance_ratio_\n",
    "            ax.set_title(f'{name} PCA\\nExplained: {explained_var[0]:.1%}, {explained_var[1]:.1%}')\n",
    "            ax.set_xlabel(f'PC1 ({explained_var[0]:.1%})')\n",
    "            ax.set_ylabel(f'PC2 ({explained_var[1]:.1%})')\n",
    "            ax.grid(True, alpha=0.3)\n",
    "\n",
    "            if idx == 0:\n",
    "                ax.legend()\n",
    "\n",
    "        except Exception as e:\n",
    "            ax.text(0.5, 0.5, f'PCA Error: {str(e)[:30]}...',\n",
    "                    ha='center', va='center', transform=ax.transAxes)\n",
    "            ax.set_title(f'{name} PCA - Error')\n",
    "\n",
    "    plt.tight_layout()\n",
    "    plt.savefig('pca_embeddings_backup.png', dpi=300, bbox_inches='tight')\n",
    "    plt.show()\n",
    "\n",
    "    print(\"✅ PCA backup visualizations complete!\")\n",
    "\n",
    "except ImportError:\n",
    "    print(\"⚠️  Scikit-learn not available for PCA backup\")"
   ]
  },
  {
   "cell_type": "code",
   "execution_count": null,
   "metadata": {},
   "outputs": [],
   "source": [
    "# PCA Visualizations\n",
    "print(\"📈 Creating PCA visualizations...\")\n",
    "\n",
    "# Create a large figure with subplots\n",
    "fig, axes = plt.subplots(3, 3, figsize=(20, 18))\n",
    "fig.suptitle('PCA Embeddings Visualization - Mello Dual Vector System', fontsize=16, y=0.95)\n",
    "\n",
    "# Create PCA plots\n",
    "plot_idx = 0\n",
    "for name, matrix in embeddings_to_plot.items():\n",
    "    if plot_idx >= 8:  # Only plot first 8\n",
    "        break\n",
    "        \n",
    "    row = plot_idx // 3\n",
    "    col = plot_idx % 3\n",
    "    ax = axes[row, col]\n",
    "    \n",
    "    try:\n",
    "        # Fit PCA\n",
    "        pca = PCA(n_components=2, random_state=42)\n",
    "        embedding_2d = pca.fit_transform(matrix)\n",
    "        \n",
    "        # Create scatter plot\n",
    "        for user_type in set(user_types):\n",
    "            mask = np.array(user_types) == user_type\n",
    "            color = 'red' if user_type == 'Frontend User' else 'blue'\n",
    "            ax.scatter(embedding_2d[mask, 0], embedding_2d[mask, 1], \n",
    "                      c=color, alpha=0.7, s=60, label=user_type)\n",
    "        \n",
    "        # Annotate points with user names\n",
    "        for i, (x, y, name) in enumerate(zip(embedding_2d[:, 0], embedding_2d[:, 1], user_names)):\n",
    "            ax.annotate(name[:8] + '...' if len(name) > 8 else name, \n",
    "                       (x, y), xytext=(3, 3), textcoords='offset points', \n",
    "                       fontsize=8, alpha=0.8)\n",
    "        \n",
    "        # Calculate explained variance\n",
    "        explained_var = pca.explained_variance_ratio_\n",
    "        \n",
    "        ax.set_title(f'{name} PCA\\nExplained Variance: {explained_var[0]:.1%}, {explained_var[1]:.1%}', \n",
    "                    fontsize=10)\n",
    "        ax.set_xlabel(f'PC1 ({explained_var[0]:.1%})')\n",
    "        ax.set_ylabel(f'PC2 ({explained_var[1]:.1%})')\n",
    "        ax.grid(True, alpha=0.3)\n",
    "        \n",
    "        if plot_idx == 0:  # Add legend to first plot\n",
    "            ax.legend()\n",
    "            \n",
    "    except Exception as e:\n",
    "        ax.text(0.5, 0.5, f'Error: {str(e)[:50]}...', \n",
    "               ha='center', va='center', transform=ax.transAxes)\n",
    "        ax.set_title(f'{name} PCA - Error')\n",
    "    \n",
    "    plot_idx += 1\n",
    "\n",
    "# Remove the last subplot if not used\n",
    "if plot_idx == 8:\n",
    "    axes[2, 2].remove()\n",
    "\n",
    "plt.tight_layout()\n",
    "plt.savefig('pca_embeddings_visualization.png', dpi=300, bbox_inches='tight')\n",
    "plt.show()\n",
    "\n",
    "print(\"✅ PCA visualizations complete!\")"
   ]
  },
  {
   "cell_type": "markdown",
   "metadata": {},
   "source": [
    "## Embedding Analysis Summary\n",
    "\n",
    "Generate insights about the embedding space and user similarities."
   ]
  },
  {
   "cell_type": "code",
   "execution_count": null,
   "metadata": {},
   "outputs": [],
   "source": [
    "# Analyze similarities and create summary\n",
    "print(\"📊 Embedding Analysis Summary\")\n",
    "print(\"=\" * 50)\n",
    "\n",
    "# Population statistics\n",
    "stats = population.get_statistics()\n",
    "print(f\"\\n👥 Population Overview:\")\n",
    "print(f\"   Total Users: {stats['total_users']}\")\n",
    "print(f\"   Users with Dual Embeddings: {stats['users_with_dual_embeddings']}\")\n",
    "print(f\"   Users with Dual Profiles: {stats['users_with_dual_profiles']}\")\n",
    "print(f\"   Interests Embedding Dimension: {stats['interests_embedding_dimension']}\")\n",
    "print(f\"   Personality Embedding Dimension: {stats['personality_embedding_dimension']}\")\n",
    "\n",
    "# Find most similar users to the frontend user\n",
    "if len(dual_users) > 1:\n",
    "    print(f\"\\n🔍 Most Similar Users to {frontend_user.name}:\")\n",
    "    \n",
    "    similarity_modes = ['interests', 'personality', 'combined']\n",
    "    for mode in similarity_modes:\n",
    "        try:\n",
    "            matches = population.find_similar_users(frontend_user, top_k=3, mode=mode)\n",
    "            print(f\"\\n   {mode.title()} Similarity:\")\n",
    "            for i, (user, similarity) in enumerate(matches[:3], 1):\n",
    "                print(f\"      {i}. {user.name}: {similarity:.3f}\")\n",
    "        except Exception as e:\n",
    "            print(f\"   {mode}: Error - {e}\")\n",
    "\n",
    "# Embedding variance analysis\n",
    "print(f\"\\n📈 Embedding Variance Analysis:\")\n",
    "embedding_types = {\n",
    "    'Interests': interests_matrix,\n",
    "    'Personality': personality_matrix,\n",
    "    'Combined': combined_matrix\n",
    "}\n",
    "\n",
    "for name, matrix in embedding_types.items():\n",
    "    if matrix.shape[0] > 1:  # Need at least 2 users\n",
    "        variance = np.var(matrix, axis=0)\n",
    "        mean_variance = np.mean(variance)\n",
    "        print(f\"   {name}: Mean variance = {mean_variance:.6f}\")\n",
    "\n",
    "# Personality trait analysis\n",
    "print(f\"\\n🧠 Personality Trait Variance:\")\n",
    "for trait, matrix in trait_matrices.items():\n",
    "    if matrix.shape[0] > 1:\n",
    "        variance = np.var(matrix, axis=0)\n",
    "        mean_variance = np.mean(variance)\n",
    "        print(f\"   {trait}: Mean variance = {mean_variance:.6f}\")\n",
    "\n",
    "print(f\"\\n✅ Analysis complete! Visualizations saved as PNG files.\")\n",
    "print(f\"📁 Files created:\")\n",
    "print(f\"   - umap_embeddings_visualization.png\")\n",
    "print(f\"   - pca_embeddings_visualization.png\")\n",
    "print(f\"   - {sample_json_path}\")"
   ]
  },
  {
   "cell_type": "markdown",
   "metadata": {},
   "source": [
    "## Conclusion\n",
    "\n",
    "This notebook demonstrated the complete Mello dual-vector system:\n",
    "\n",
    "### Key Features Implemented:\n",
    "1. **Dual Embedding Architecture**: 3072D interests + 3840D personality (5 traits × 768D)\n",
    "2. **Frontend Integration**: Seamless loading of React form data\n",
    "3. **AI Profile Generation**: LLM-generated interests and personality descriptions\n",
    "4. **Multi-Modal Similarity**: Separate matching for interests, personality, and combined\n",
    "5. **Advanced Visualization**: UMAP and PCA for different embedding spaces\n",
    "\n",
    "### Visualization Insights:\n",
    "- **Individual Traits**: Each Big 5 trait creates distinct clustering patterns\n",
    "- **Personality vs Interests**: Different embedding spaces capture different aspects of user preferences\n",
    "- **Combined Space**: Provides comprehensive user representation for matching\n",
    "- **Frontend User**: Real user data integrates seamlessly with synthetic population\n",
    "\n",
    "This system enables sophisticated campus social discovery based on deep cultural and personality compatibility."
   ]
  }
 ],
 "metadata": {
  "kernelspec": {
   "display_name": "ml",
   "language": "python",
   "name": "python3"
  },
  "language_info": {
   "codemirror_mode": {
    "name": "ipython",
    "version": 3
   },
   "file_extension": ".py",
   "mimetype": "text/x-python",
   "name": "python",
   "nbconvert_exporter": "python",
   "pygments_lexer": "ipython3",
   "version": "3.12.0"
  }
 },
 "nbformat": 4,
 "nbformat_minor": 4
}
