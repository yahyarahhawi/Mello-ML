{
 "cells": [
  {
   "cell_type": "markdown",
   "metadata": {},
   "source": [
    "# Mello ML - Fresh Unified Personality System\n",
    "\n",
    "This notebook demonstrates the complete pipeline:\n",
    "- **Unified personality approach**: Cultural data informs personality traits\n",
    "- **768D embeddings**: Interests + 5 personality traits\n",
    "- **50 archetypes**: Diverse synthetic user generation\n",
    "- **Real user support**: Load from JSON files\n",
    "- **2D visualization**: PCA and UMAP plotting"
   ]
  },
  {
   "cell_type": "markdown",
   "metadata": {},
   "source": [
    "## 📦 Imports and Setup"
   ]
  },
  {
   "cell_type": "code",
   "execution_count": 1,
   "metadata": {},
   "outputs": [
    {
     "name": "stderr",
     "output_type": "stream",
     "text": [
      "/Users/yahyarahhawi/miniforge3/envs/ml/lib/python3.12/site-packages/tqdm/auto.py:21: TqdmWarning: IProgress not found. Please update jupyter and ipywidgets. See https://ipywidgets.readthedocs.io/en/stable/user_install.html\n",
      "  from .autonotebook import tqdm as notebook_tqdm\n"
     ]
    },
    {
     "name": "stdout",
     "output_type": "stream",
     "text": [
      "🚀 Initializing Mello ML Components...\n",
      "✅ Components initialized:\n",
      "   📝 ProfileGenerator: google/gemini-2.5-flash\n",
      "   🔢 EmbeddingGenerator: EmbeddingGenerator(model=text-embedding-004, dims=768, requests=0)\n",
      "   📊 Architecture: 768D interests + 5×768D traits = 4608D combined\n",
      "   🎭 Archetypes available: 50\n",
      "   📏 Similarity metric: Euclidean Distance (L2 norm, normalized, 0=different, 1=identical)\n",
      "   🎨 Visualization: Interactive Plotly interface\n"
     ]
    }
   ],
   "source": [
    "%load_ext autoreload\n",
    "%autoreload 2\n",
    "# Interactive Plotly visualizations\n",
    "import warnings\n",
    "warnings.filterwarnings('ignore', category=UserWarning)\n",
    "\n",
    "# Core imports - Plotly for interactive visualization\n",
    "import numpy as np\n",
    "import plotly.graph_objects as go\n",
    "import plotly.express as px\n",
    "from plotly.subplots import make_subplots\n",
    "import logging\n",
    "from IPython.display import display, HTML\n",
    "\n",
    "# Fresh system components\n",
    "from user import User\n",
    "from profile_generator import ProfileGenerator\n",
    "from embedding_generator import EmbeddingGenerator\n",
    "from population import Population\n",
    "from visualizer import Visualizer\n",
    "\n",
    "# Configure logging\n",
    "logging.basicConfig(level=logging.WARNING)  # Reduce noise\n",
    "\n",
    "# Initialize components\n",
    "print(\"🚀 Initializing Mello ML Components...\")\n",
    "profile_generator = ProfileGenerator()\n",
    "embedding_generator = EmbeddingGenerator()\n",
    "population = Population(\"Mello Campus Population\")\n",
    "visualizer = Visualizer()\n",
    "\n",
    "print(f\"✅ Components initialized:\")\n",
    "print(f\"   📝 ProfileGenerator: {profile_generator.model}\")\n",
    "print(f\"   🔢 EmbeddingGenerator: {embedding_generator}\")\n",
    "print(f\"   📊 Architecture: 768D interests + 5×768D traits = 4608D combined\")\n",
    "print(f\"   🎭 Archetypes available: {len(profile_generator.archetypes)}\")\n",
    "print(f\"   📏 Similarity metric: Euclidean Distance (L2 norm, normalized, 0=different, 1=identical)\")\n",
    "print(f\"   🎨 Visualization: Interactive Plotly interface\")"
   ]
  },
  {
   "cell_type": "markdown",
   "metadata": {},
   "source": [
    "## 🎭 Generate 50 Synthetic Users\n",
    "\n",
    "Creates diverse synthetic users using 50 personality archetypes with unified personality profiling."
   ]
  },
  {
   "cell_type": "code",
   "execution_count": 2,
   "metadata": {},
   "outputs": [
    {
     "name": "stdout",
     "output_type": "stream",
     "text": [
      "🎭 Generating 50 synthetic users with unified personality approach...\n",
      "This may take several minutes due to API calls...\n",
      "\n",
      "   Generating user 1/5... "
     ]
    },
    {
     "ename": "KeyboardInterrupt",
     "evalue": "",
     "output_type": "error",
     "traceback": [
      "\u001b[31m---------------------------------------------------------------------------\u001b[39m",
      "\u001b[31mKeyboardInterrupt\u001b[39m                         Traceback (most recent call last)",
      "\u001b[36mCell\u001b[39m\u001b[36m \u001b[39m\u001b[32mIn[2]\u001b[39m\u001b[32m, line 13\u001b[39m\n\u001b[32m      9\u001b[39m \u001b[38;5;28mprint\u001b[39m(\u001b[33mf\u001b[39m\u001b[33m\"\u001b[39m\u001b[33m   Generating user \u001b[39m\u001b[38;5;132;01m{\u001b[39;00mi+\u001b[32m1\u001b[39m\u001b[38;5;132;01m}\u001b[39;00m\u001b[33m/\u001b[39m\u001b[38;5;132;01m{\u001b[39;00mtarget_count\u001b[38;5;132;01m}\u001b[39;00m\u001b[33m...\u001b[39m\u001b[33m\"\u001b[39m, end=\u001b[33m\"\u001b[39m\u001b[33m \u001b[39m\u001b[33m\"\u001b[39m)\n\u001b[32m     11\u001b[39m \u001b[38;5;28;01mtry\u001b[39;00m:\n\u001b[32m     12\u001b[39m     \u001b[38;5;66;03m# Generate synthetic user data\u001b[39;00m\n\u001b[32m---> \u001b[39m\u001b[32m13\u001b[39m     user_data = \u001b[43mprofile_generator\u001b[49m\u001b[43m.\u001b[49m\u001b[43mgenerate_synthetic_user_data\u001b[49m\u001b[43m(\u001b[49m\u001b[43m)\u001b[49m\n\u001b[32m     15\u001b[39m     \u001b[38;5;28;01mif\u001b[39;00m user_data:\n\u001b[32m     16\u001b[39m         \u001b[38;5;66;03m# Create user from generated data\u001b[39;00m\n\u001b[32m     17\u001b[39m         user = User.from_json_data(user_data)\n",
      "\u001b[36mFile \u001b[39m\u001b[32m~/Developer/Mello/Mello-ML/profile_generator.py:259\u001b[39m, in \u001b[36mProfileGenerator.generate_synthetic_user_data\u001b[39m\u001b[34m(self, archetype)\u001b[39m\n\u001b[32m    249\u001b[39m \u001b[38;5;66;03m# Generate profile section\u001b[39;00m\n\u001b[32m    250\u001b[39m profile_prompt = \u001b[33mf\u001b[39m\u001b[33m\"\"\"\u001b[39m\u001b[33mGenerate profile data for a college student who is: \u001b[39m\u001b[38;5;132;01m{\u001b[39;00marchetype\u001b[38;5;132;01m}\u001b[39;00m\n\u001b[32m    251\u001b[39m \u001b[33m\u001b[39m\n\u001b[32m    252\u001b[39m \u001b[33mFormat exactly:\u001b[39m\n\u001b[32m   (...)\u001b[39m\u001b[32m    256\u001b[39m \u001b[33mbio: [2-3 sentences in their authentic voice]\u001b[39m\n\u001b[32m    257\u001b[39m \u001b[33minterests: [5-7 interests as comma-separated list]\u001b[39m\u001b[33m\"\"\"\u001b[39m\n\u001b[32m--> \u001b[39m\u001b[32m259\u001b[39m profile_response = \u001b[38;5;28;43mself\u001b[39;49m\u001b[43m.\u001b[49m\u001b[43m_make_api_call\u001b[49m\u001b[43m(\u001b[49m\u001b[43mprofile_prompt\u001b[49m\u001b[43m,\u001b[49m\u001b[43m \u001b[49m\u001b[43mmax_tokens\u001b[49m\u001b[43m=\u001b[49m\u001b[32;43m200\u001b[39;49m\u001b[43m,\u001b[49m\u001b[43m \u001b[49m\u001b[43mtemperature\u001b[49m\u001b[43m=\u001b[49m\u001b[32;43m1.0\u001b[39;49m\u001b[43m,\u001b[49m\u001b[43m \u001b[49m\u001b[43mmodel\u001b[49m\u001b[43m=\u001b[49m\u001b[38;5;28;43mself\u001b[39;49m\u001b[43m.\u001b[49m\u001b[43muser_generation_model\u001b[49m\u001b[43m)\u001b[49m\n\u001b[32m    260\u001b[39m \u001b[38;5;28;01mif\u001b[39;00m \u001b[38;5;129;01mnot\u001b[39;00m profile_response:\n\u001b[32m    261\u001b[39m     \u001b[38;5;28;01mreturn\u001b[39;00m \u001b[38;5;28;01mNone\u001b[39;00m\n",
      "\u001b[36mFile \u001b[39m\u001b[32m~/Developer/Mello/Mello-ML/profile_generator.py:211\u001b[39m, in \u001b[36mProfileGenerator._make_api_call\u001b[39m\u001b[34m(self, prompt, max_tokens, temperature, model)\u001b[39m\n\u001b[32m    207\u001b[39m \u001b[38;5;28;01mtry\u001b[39;00m:\n\u001b[32m    208\u001b[39m     \u001b[38;5;66;03m# Add small delay to avoid rate limits\u001b[39;00m\n\u001b[32m    209\u001b[39m     time.sleep(random.uniform(\u001b[32m0.5\u001b[39m, \u001b[32m1.5\u001b[39m))\n\u001b[32m--> \u001b[39m\u001b[32m211\u001b[39m     response = \u001b[43mrequests\u001b[49m\u001b[43m.\u001b[49m\u001b[43mpost\u001b[49m\u001b[43m(\u001b[49m\n\u001b[32m    212\u001b[39m \u001b[43m        \u001b[49m\u001b[33;43m\"\u001b[39;49m\u001b[33;43mhttps://openrouter.ai/api/v1/chat/completions\u001b[39;49m\u001b[33;43m\"\u001b[39;49m\u001b[43m,\u001b[49m\n\u001b[32m    213\u001b[39m \u001b[43m        \u001b[49m\u001b[43mheaders\u001b[49m\u001b[43m=\u001b[49m\u001b[43mheaders\u001b[49m\u001b[43m,\u001b[49m\n\u001b[32m    214\u001b[39m \u001b[43m        \u001b[49m\u001b[43mjson\u001b[49m\u001b[43m=\u001b[49m\u001b[43mdata\u001b[49m\u001b[43m,\u001b[49m\n\u001b[32m    215\u001b[39m \u001b[43m        \u001b[49m\u001b[43mtimeout\u001b[49m\u001b[43m=\u001b[49m\u001b[32;43m30\u001b[39;49m\n\u001b[32m    216\u001b[39m \u001b[43m    \u001b[49m\u001b[43m)\u001b[49m\n\u001b[32m    217\u001b[39m     response.raise_for_status()\n\u001b[32m    219\u001b[39m     result = response.json()\n",
      "\u001b[36mFile \u001b[39m\u001b[32m~/miniforge3/envs/ml/lib/python3.12/site-packages/requests/api.py:115\u001b[39m, in \u001b[36mpost\u001b[39m\u001b[34m(url, data, json, **kwargs)\u001b[39m\n\u001b[32m    103\u001b[39m \u001b[38;5;28;01mdef\u001b[39;00m \u001b[34mpost\u001b[39m(url, data=\u001b[38;5;28;01mNone\u001b[39;00m, json=\u001b[38;5;28;01mNone\u001b[39;00m, **kwargs):\n\u001b[32m    104\u001b[39m \u001b[38;5;250m    \u001b[39m\u001b[33mr\u001b[39m\u001b[33;03m\"\"\"Sends a POST request.\u001b[39;00m\n\u001b[32m    105\u001b[39m \n\u001b[32m    106\u001b[39m \u001b[33;03m    :param url: URL for the new :class:`Request` object.\u001b[39;00m\n\u001b[32m   (...)\u001b[39m\u001b[32m    112\u001b[39m \u001b[33;03m    :rtype: requests.Response\u001b[39;00m\n\u001b[32m    113\u001b[39m \u001b[33;03m    \"\"\"\u001b[39;00m\n\u001b[32m--> \u001b[39m\u001b[32m115\u001b[39m     \u001b[38;5;28;01mreturn\u001b[39;00m \u001b[43mrequest\u001b[49m\u001b[43m(\u001b[49m\u001b[33;43m\"\u001b[39;49m\u001b[33;43mpost\u001b[39;49m\u001b[33;43m\"\u001b[39;49m\u001b[43m,\u001b[49m\u001b[43m \u001b[49m\u001b[43murl\u001b[49m\u001b[43m,\u001b[49m\u001b[43m \u001b[49m\u001b[43mdata\u001b[49m\u001b[43m=\u001b[49m\u001b[43mdata\u001b[49m\u001b[43m,\u001b[49m\u001b[43m \u001b[49m\u001b[43mjson\u001b[49m\u001b[43m=\u001b[49m\u001b[43mjson\u001b[49m\u001b[43m,\u001b[49m\u001b[43m \u001b[49m\u001b[43m*\u001b[49m\u001b[43m*\u001b[49m\u001b[43mkwargs\u001b[49m\u001b[43m)\u001b[49m\n",
      "\u001b[36mFile \u001b[39m\u001b[32m~/miniforge3/envs/ml/lib/python3.12/site-packages/requests/api.py:59\u001b[39m, in \u001b[36mrequest\u001b[39m\u001b[34m(method, url, **kwargs)\u001b[39m\n\u001b[32m     55\u001b[39m \u001b[38;5;66;03m# By using the 'with' statement we are sure the session is closed, thus we\u001b[39;00m\n\u001b[32m     56\u001b[39m \u001b[38;5;66;03m# avoid leaving sockets open which can trigger a ResourceWarning in some\u001b[39;00m\n\u001b[32m     57\u001b[39m \u001b[38;5;66;03m# cases, and look like a memory leak in others.\u001b[39;00m\n\u001b[32m     58\u001b[39m \u001b[38;5;28;01mwith\u001b[39;00m sessions.Session() \u001b[38;5;28;01mas\u001b[39;00m session:\n\u001b[32m---> \u001b[39m\u001b[32m59\u001b[39m     \u001b[38;5;28;01mreturn\u001b[39;00m \u001b[43msession\u001b[49m\u001b[43m.\u001b[49m\u001b[43mrequest\u001b[49m\u001b[43m(\u001b[49m\u001b[43mmethod\u001b[49m\u001b[43m=\u001b[49m\u001b[43mmethod\u001b[49m\u001b[43m,\u001b[49m\u001b[43m \u001b[49m\u001b[43murl\u001b[49m\u001b[43m=\u001b[49m\u001b[43murl\u001b[49m\u001b[43m,\u001b[49m\u001b[43m \u001b[49m\u001b[43m*\u001b[49m\u001b[43m*\u001b[49m\u001b[43mkwargs\u001b[49m\u001b[43m)\u001b[49m\n",
      "\u001b[36mFile \u001b[39m\u001b[32m~/miniforge3/envs/ml/lib/python3.12/site-packages/requests/sessions.py:589\u001b[39m, in \u001b[36mSession.request\u001b[39m\u001b[34m(self, method, url, params, data, headers, cookies, files, auth, timeout, allow_redirects, proxies, hooks, stream, verify, cert, json)\u001b[39m\n\u001b[32m    584\u001b[39m send_kwargs = {\n\u001b[32m    585\u001b[39m     \u001b[33m\"\u001b[39m\u001b[33mtimeout\u001b[39m\u001b[33m\"\u001b[39m: timeout,\n\u001b[32m    586\u001b[39m     \u001b[33m\"\u001b[39m\u001b[33mallow_redirects\u001b[39m\u001b[33m\"\u001b[39m: allow_redirects,\n\u001b[32m    587\u001b[39m }\n\u001b[32m    588\u001b[39m send_kwargs.update(settings)\n\u001b[32m--> \u001b[39m\u001b[32m589\u001b[39m resp = \u001b[38;5;28;43mself\u001b[39;49m\u001b[43m.\u001b[49m\u001b[43msend\u001b[49m\u001b[43m(\u001b[49m\u001b[43mprep\u001b[49m\u001b[43m,\u001b[49m\u001b[43m \u001b[49m\u001b[43m*\u001b[49m\u001b[43m*\u001b[49m\u001b[43msend_kwargs\u001b[49m\u001b[43m)\u001b[49m\n\u001b[32m    591\u001b[39m \u001b[38;5;28;01mreturn\u001b[39;00m resp\n",
      "\u001b[36mFile \u001b[39m\u001b[32m~/miniforge3/envs/ml/lib/python3.12/site-packages/requests/sessions.py:746\u001b[39m, in \u001b[36mSession.send\u001b[39m\u001b[34m(self, request, **kwargs)\u001b[39m\n\u001b[32m    743\u001b[39m         \u001b[38;5;28;01mpass\u001b[39;00m\n\u001b[32m    745\u001b[39m \u001b[38;5;28;01mif\u001b[39;00m \u001b[38;5;129;01mnot\u001b[39;00m stream:\n\u001b[32m--> \u001b[39m\u001b[32m746\u001b[39m     \u001b[43mr\u001b[49m\u001b[43m.\u001b[49m\u001b[43mcontent\u001b[49m\n\u001b[32m    748\u001b[39m \u001b[38;5;28;01mreturn\u001b[39;00m r\n",
      "\u001b[36mFile \u001b[39m\u001b[32m~/miniforge3/envs/ml/lib/python3.12/site-packages/requests/models.py:902\u001b[39m, in \u001b[36mResponse.content\u001b[39m\u001b[34m(self)\u001b[39m\n\u001b[32m    900\u001b[39m         \u001b[38;5;28mself\u001b[39m._content = \u001b[38;5;28;01mNone\u001b[39;00m\n\u001b[32m    901\u001b[39m     \u001b[38;5;28;01melse\u001b[39;00m:\n\u001b[32m--> \u001b[39m\u001b[32m902\u001b[39m         \u001b[38;5;28mself\u001b[39m._content = \u001b[33;43mb\u001b[39;49m\u001b[33;43m\"\u001b[39;49m\u001b[33;43m\"\u001b[39;49m\u001b[43m.\u001b[49m\u001b[43mjoin\u001b[49m\u001b[43m(\u001b[49m\u001b[38;5;28;43mself\u001b[39;49m\u001b[43m.\u001b[49m\u001b[43miter_content\u001b[49m\u001b[43m(\u001b[49m\u001b[43mCONTENT_CHUNK_SIZE\u001b[49m\u001b[43m)\u001b[49m\u001b[43m)\u001b[49m \u001b[38;5;129;01mor\u001b[39;00m \u001b[33mb\u001b[39m\u001b[33m\"\u001b[39m\u001b[33m\"\u001b[39m\n\u001b[32m    904\u001b[39m \u001b[38;5;28mself\u001b[39m._content_consumed = \u001b[38;5;28;01mTrue\u001b[39;00m\n\u001b[32m    905\u001b[39m \u001b[38;5;66;03m# don't need to release the connection; that's been handled by urllib3\u001b[39;00m\n\u001b[32m    906\u001b[39m \u001b[38;5;66;03m# since we exhausted the data.\u001b[39;00m\n",
      "\u001b[36mFile \u001b[39m\u001b[32m~/miniforge3/envs/ml/lib/python3.12/site-packages/requests/models.py:820\u001b[39m, in \u001b[36mResponse.iter_content.<locals>.generate\u001b[39m\u001b[34m()\u001b[39m\n\u001b[32m    818\u001b[39m \u001b[38;5;28;01mif\u001b[39;00m \u001b[38;5;28mhasattr\u001b[39m(\u001b[38;5;28mself\u001b[39m.raw, \u001b[33m\"\u001b[39m\u001b[33mstream\u001b[39m\u001b[33m\"\u001b[39m):\n\u001b[32m    819\u001b[39m     \u001b[38;5;28;01mtry\u001b[39;00m:\n\u001b[32m--> \u001b[39m\u001b[32m820\u001b[39m         \u001b[38;5;28;01myield from\u001b[39;00m \u001b[38;5;28mself\u001b[39m.raw.stream(chunk_size, decode_content=\u001b[38;5;28;01mTrue\u001b[39;00m)\n\u001b[32m    821\u001b[39m     \u001b[38;5;28;01mexcept\u001b[39;00m ProtocolError \u001b[38;5;28;01mas\u001b[39;00m e:\n\u001b[32m    822\u001b[39m         \u001b[38;5;28;01mraise\u001b[39;00m ChunkedEncodingError(e)\n",
      "\u001b[36mFile \u001b[39m\u001b[32m~/miniforge3/envs/ml/lib/python3.12/site-packages/urllib3/response.py:1040\u001b[39m, in \u001b[36mHTTPResponse.stream\u001b[39m\u001b[34m(self, amt, decode_content)\u001b[39m\n\u001b[32m   1024\u001b[39m \u001b[38;5;250m\u001b[39m\u001b[33;03m\"\"\"\u001b[39;00m\n\u001b[32m   1025\u001b[39m \u001b[33;03mA generator wrapper for the read() method. A call will block until\u001b[39;00m\n\u001b[32m   1026\u001b[39m \u001b[33;03m``amt`` bytes have been read from the connection or until the\u001b[39;00m\n\u001b[32m   (...)\u001b[39m\u001b[32m   1037\u001b[39m \u001b[33;03m    'content-encoding' header.\u001b[39;00m\n\u001b[32m   1038\u001b[39m \u001b[33;03m\"\"\"\u001b[39;00m\n\u001b[32m   1039\u001b[39m \u001b[38;5;28;01mif\u001b[39;00m \u001b[38;5;28mself\u001b[39m.chunked \u001b[38;5;129;01mand\u001b[39;00m \u001b[38;5;28mself\u001b[39m.supports_chunked_reads():\n\u001b[32m-> \u001b[39m\u001b[32m1040\u001b[39m     \u001b[38;5;28;01myield from\u001b[39;00m \u001b[38;5;28mself\u001b[39m.read_chunked(amt, decode_content=decode_content)\n\u001b[32m   1041\u001b[39m \u001b[38;5;28;01melse\u001b[39;00m:\n\u001b[32m   1042\u001b[39m     \u001b[38;5;28;01mwhile\u001b[39;00m \u001b[38;5;129;01mnot\u001b[39;00m is_fp_closed(\u001b[38;5;28mself\u001b[39m._fp) \u001b[38;5;129;01mor\u001b[39;00m \u001b[38;5;28mlen\u001b[39m(\u001b[38;5;28mself\u001b[39m._decoded_buffer) > \u001b[32m0\u001b[39m:\n",
      "\u001b[36mFile \u001b[39m\u001b[32m~/miniforge3/envs/ml/lib/python3.12/site-packages/urllib3/response.py:1184\u001b[39m, in \u001b[36mHTTPResponse.read_chunked\u001b[39m\u001b[34m(self, amt, decode_content)\u001b[39m\n\u001b[32m   1181\u001b[39m     \u001b[38;5;28;01mreturn\u001b[39;00m \u001b[38;5;28;01mNone\u001b[39;00m\n\u001b[32m   1183\u001b[39m \u001b[38;5;28;01mwhile\u001b[39;00m \u001b[38;5;28;01mTrue\u001b[39;00m:\n\u001b[32m-> \u001b[39m\u001b[32m1184\u001b[39m     \u001b[38;5;28;43mself\u001b[39;49m\u001b[43m.\u001b[49m\u001b[43m_update_chunk_length\u001b[49m\u001b[43m(\u001b[49m\u001b[43m)\u001b[49m\n\u001b[32m   1185\u001b[39m     \u001b[38;5;28;01mif\u001b[39;00m \u001b[38;5;28mself\u001b[39m.chunk_left == \u001b[32m0\u001b[39m:\n\u001b[32m   1186\u001b[39m         \u001b[38;5;28;01mbreak\u001b[39;00m\n",
      "\u001b[36mFile \u001b[39m\u001b[32m~/miniforge3/envs/ml/lib/python3.12/site-packages/urllib3/response.py:1108\u001b[39m, in \u001b[36mHTTPResponse._update_chunk_length\u001b[39m\u001b[34m(self)\u001b[39m\n\u001b[32m   1106\u001b[39m \u001b[38;5;28;01mif\u001b[39;00m \u001b[38;5;28mself\u001b[39m.chunk_left \u001b[38;5;129;01mis\u001b[39;00m \u001b[38;5;129;01mnot\u001b[39;00m \u001b[38;5;28;01mNone\u001b[39;00m:\n\u001b[32m   1107\u001b[39m     \u001b[38;5;28;01mreturn\u001b[39;00m \u001b[38;5;28;01mNone\u001b[39;00m\n\u001b[32m-> \u001b[39m\u001b[32m1108\u001b[39m line = \u001b[38;5;28;43mself\u001b[39;49m\u001b[43m.\u001b[49m\u001b[43m_fp\u001b[49m\u001b[43m.\u001b[49m\u001b[43mfp\u001b[49m\u001b[43m.\u001b[49m\u001b[43mreadline\u001b[49m\u001b[43m(\u001b[49m\u001b[43m)\u001b[49m  \u001b[38;5;66;03m# type: ignore[union-attr]\u001b[39;00m\n\u001b[32m   1109\u001b[39m line = line.split(\u001b[33mb\u001b[39m\u001b[33m\"\u001b[39m\u001b[33m;\u001b[39m\u001b[33m\"\u001b[39m, \u001b[32m1\u001b[39m)[\u001b[32m0\u001b[39m]\n\u001b[32m   1110\u001b[39m \u001b[38;5;28;01mtry\u001b[39;00m:\n",
      "\u001b[36mFile \u001b[39m\u001b[32m~/miniforge3/envs/ml/lib/python3.12/socket.py:707\u001b[39m, in \u001b[36mSocketIO.readinto\u001b[39m\u001b[34m(self, b)\u001b[39m\n\u001b[32m    705\u001b[39m \u001b[38;5;28;01mwhile\u001b[39;00m \u001b[38;5;28;01mTrue\u001b[39;00m:\n\u001b[32m    706\u001b[39m     \u001b[38;5;28;01mtry\u001b[39;00m:\n\u001b[32m--> \u001b[39m\u001b[32m707\u001b[39m         \u001b[38;5;28;01mreturn\u001b[39;00m \u001b[38;5;28;43mself\u001b[39;49m\u001b[43m.\u001b[49m\u001b[43m_sock\u001b[49m\u001b[43m.\u001b[49m\u001b[43mrecv_into\u001b[49m\u001b[43m(\u001b[49m\u001b[43mb\u001b[49m\u001b[43m)\u001b[49m\n\u001b[32m    708\u001b[39m     \u001b[38;5;28;01mexcept\u001b[39;00m timeout:\n\u001b[32m    709\u001b[39m         \u001b[38;5;28mself\u001b[39m._timeout_occurred = \u001b[38;5;28;01mTrue\u001b[39;00m\n",
      "\u001b[36mFile \u001b[39m\u001b[32m~/miniforge3/envs/ml/lib/python3.12/ssl.py:1249\u001b[39m, in \u001b[36mSSLSocket.recv_into\u001b[39m\u001b[34m(self, buffer, nbytes, flags)\u001b[39m\n\u001b[32m   1245\u001b[39m     \u001b[38;5;28;01mif\u001b[39;00m flags != \u001b[32m0\u001b[39m:\n\u001b[32m   1246\u001b[39m         \u001b[38;5;28;01mraise\u001b[39;00m \u001b[38;5;167;01mValueError\u001b[39;00m(\n\u001b[32m   1247\u001b[39m           \u001b[33m\"\u001b[39m\u001b[33mnon-zero flags not allowed in calls to recv_into() on \u001b[39m\u001b[38;5;132;01m%s\u001b[39;00m\u001b[33m\"\u001b[39m %\n\u001b[32m   1248\u001b[39m           \u001b[38;5;28mself\u001b[39m.\u001b[34m__class__\u001b[39m)\n\u001b[32m-> \u001b[39m\u001b[32m1249\u001b[39m     \u001b[38;5;28;01mreturn\u001b[39;00m \u001b[38;5;28;43mself\u001b[39;49m\u001b[43m.\u001b[49m\u001b[43mread\u001b[49m\u001b[43m(\u001b[49m\u001b[43mnbytes\u001b[49m\u001b[43m,\u001b[49m\u001b[43m \u001b[49m\u001b[43mbuffer\u001b[49m\u001b[43m)\u001b[49m\n\u001b[32m   1250\u001b[39m \u001b[38;5;28;01melse\u001b[39;00m:\n\u001b[32m   1251\u001b[39m     \u001b[38;5;28;01mreturn\u001b[39;00m \u001b[38;5;28msuper\u001b[39m().recv_into(buffer, nbytes, flags)\n",
      "\u001b[36mFile \u001b[39m\u001b[32m~/miniforge3/envs/ml/lib/python3.12/ssl.py:1105\u001b[39m, in \u001b[36mSSLSocket.read\u001b[39m\u001b[34m(self, len, buffer)\u001b[39m\n\u001b[32m   1103\u001b[39m \u001b[38;5;28;01mtry\u001b[39;00m:\n\u001b[32m   1104\u001b[39m     \u001b[38;5;28;01mif\u001b[39;00m buffer \u001b[38;5;129;01mis\u001b[39;00m \u001b[38;5;129;01mnot\u001b[39;00m \u001b[38;5;28;01mNone\u001b[39;00m:\n\u001b[32m-> \u001b[39m\u001b[32m1105\u001b[39m         \u001b[38;5;28;01mreturn\u001b[39;00m \u001b[38;5;28;43mself\u001b[39;49m\u001b[43m.\u001b[49m\u001b[43m_sslobj\u001b[49m\u001b[43m.\u001b[49m\u001b[43mread\u001b[49m\u001b[43m(\u001b[49m\u001b[38;5;28;43mlen\u001b[39;49m\u001b[43m,\u001b[49m\u001b[43m \u001b[49m\u001b[43mbuffer\u001b[49m\u001b[43m)\u001b[49m\n\u001b[32m   1106\u001b[39m     \u001b[38;5;28;01melse\u001b[39;00m:\n\u001b[32m   1107\u001b[39m         \u001b[38;5;28;01mreturn\u001b[39;00m \u001b[38;5;28mself\u001b[39m._sslobj.read(\u001b[38;5;28mlen\u001b[39m)\n",
      "\u001b[31mKeyboardInterrupt\u001b[39m: "
     ]
    }
   ],
   "source": [
    "print(\"🎭 Generating 50 synthetic users with unified personality approach...\")\n",
    "print(\"This may take several minutes due to API calls...\")\n",
    "print()\n",
    "\n",
    "synthetic_users_generated = 0\n",
    "target_count = 5\n",
    "\n",
    "for i in range(target_count):\n",
    "    print(f\"   Generating user {i+1}/{target_count}...\", end=\" \")\n",
    "    \n",
    "    try:\n",
    "        # Generate synthetic user data\n",
    "        user_data = profile_generator.generate_synthetic_user_data()\n",
    "        \n",
    "        if user_data:\n",
    "            # Create user from generated data\n",
    "            user = User.from_json_data(user_data)\n",
    "            \n",
    "            # Generate unified profiles (interests + personality)\n",
    "            profiles_success = profile_generator.generate_complete_profiles(user)\n",
    "            \n",
    "            if profiles_success:\n",
    "                # Generate embeddings (768D each)\n",
    "                embeddings_success = embedding_generator.embed_user_complete(user)\n",
    "                \n",
    "                if embeddings_success:\n",
    "                    population.add_user(user)\n",
    "                    synthetic_users_generated += 1\n",
    "                    archetype = user_data.get('metadata', {}).get('archetype', 'Unknown')\n",
    "                    print(f\"✅ {user.name} ({archetype[:30]}...)\")\n",
    "                else:\n",
    "                    print(f\"❌ Failed embeddings\")\n",
    "            else:\n",
    "                print(f\"❌ Failed profiles\")\n",
    "        else:\n",
    "            print(f\"❌ Failed data generation\")\n",
    "    \n",
    "    except Exception as e:\n",
    "        print(f\"❌ Error: {e}\")\n",
    "    \n",
    "    # Progress update every 10 users\n",
    "    if (i + 1) % 10 == 0:\n",
    "        print(f\"\\n📈 Progress: {synthetic_users_generated}/{i + 1} users completed\\n\")\n",
    "\n",
    "print(f\"\\n🎉 Synthetic user generation complete!\")\n",
    "print(f\"✅ Successfully generated: {synthetic_users_generated}/{target_count} users\")\n",
    "print(f\"📊 Success rate: {synthetic_users_generated/target_count*100:.1f}%\")\n",
    "print(f\"👥 Population size: {len(population)} users\")"
   ]
  },
  {
   "cell_type": "markdown",
   "metadata": {},
   "source": [
    "## 👤 Load Real User\n",
    "\n",
    "Loads a real user from JSON file and processes through the same pipeline."
   ]
  },
  {
   "cell_type": "code",
   "execution_count": 3,
   "metadata": {},
   "outputs": [
    {
     "name": "stdout",
     "output_type": "stream",
     "text": [
      "👤 Loading real user from: yahya_profile.json\n",
      "✅ Loaded user: Yahya Rahhawi\n",
      "   Major: Computer science, Philosophy\n",
      "   Bio: I like philosophy, A.I, volleyball, soccer, watching movies and TV shows, and photography...\n",
      "   Interests: philosophy, sports, computer science, machine learning, reading\n",
      "\n",
      "🔄 Processing Yahya Rahhawi through unified pipeline...\n",
      "   1. Generating unified interests profile from cultural preferences...\n",
      "   ✅ Generated unified profiles\n",
      "   📖 Interests profile: This individual possesses a profoundly introspective and analytical mind, constantly grappling with the fundamental questions of existence, morality, ...\n",
      "   🧠 Personality traits: ['Openness', 'Conscientiousness', 'Extraversion', 'Agreeableness', 'Neuroticism']\n",
      "   2. Generating 768D embeddings...\n",
      "   ✅ Generated embeddings (6 × 768D)\n",
      "   🔢 Combined embedding shape: (4608,)\n",
      "   ✅ Added to population\n",
      "\n",
      "👥 Final population: 6 users\n",
      "📊 Users with embeddings: 6\n"
     ]
    }
   ],
   "source": [
    "# Load real user from JSON file\n",
    "real_user_path = \"yahya_profile.json\"\n",
    "\n",
    "print(f\"👤 Loading real user from: {real_user_path}\")\n",
    "\n",
    "try:\n",
    "    # Load user from JSON\n",
    "    real_user = User.from_json_file(real_user_path)\n",
    "    real_user.special = True  # Mark as special for visualization\n",
    "    \n",
    "    print(f\"✅ Loaded user: {real_user.name}\")\n",
    "    print(f\"   Major: {real_user.profile_data.get('major', 'Unknown')}\")\n",
    "    print(f\"   Bio: {real_user.profile_data.get('bio', 'No bio')[:100]}...\")\n",
    "    print(f\"   Interests: {', '.join(real_user.profile_data.get('interests', [])[:5])}\")\n",
    "    \n",
    "    # Generate unified personality profile from cultural data\n",
    "    print(f\"\\n🔄 Processing {real_user.name} through unified pipeline...\")\n",
    "    print(f\"   1. Generating unified interests profile from cultural preferences...\")\n",
    "    \n",
    "    profiles_success = profile_generator.generate_complete_profiles(real_user)\n",
    "    \n",
    "    if profiles_success:\n",
    "        print(f\"   ✅ Generated unified profiles\")\n",
    "        \n",
    "        # Show profile preview\n",
    "        if real_user.interests_profile:\n",
    "            print(f\"   📖 Interests profile: {real_user.interests_profile[:150]}...\")\n",
    "        \n",
    "        if real_user.personality_profiles:\n",
    "            print(f\"   🧠 Personality traits: {list(real_user.personality_profiles.keys())}\")\n",
    "        \n",
    "        # Generate embeddings\n",
    "        print(f\"   2. Generating 768D embeddings...\")\n",
    "        embeddings_success = embedding_generator.embed_user_complete(real_user)\n",
    "        \n",
    "        if embeddings_success:\n",
    "            print(f\"   ✅ Generated embeddings (6 × 768D)\")\n",
    "            \n",
    "            # Verify embedding dimensions\n",
    "            combined = real_user.get_combined_embedding()\n",
    "            if combined is not None:\n",
    "                print(f\"   🔢 Combined embedding shape: {combined.shape}\")\n",
    "            \n",
    "            # Add to population\n",
    "            population.add_user(real_user)\n",
    "            print(f\"   ✅ Added to population\")\n",
    "            \n",
    "        else:\n",
    "            print(f\"   ❌ Failed to generate embeddings\")\n",
    "    else:\n",
    "        print(f\"   ❌ Failed to generate profiles\")\n",
    "\n",
    "except FileNotFoundError:\n",
    "    print(f\"❌ File not found: {real_user_path}\")\n",
    "    print(f\"   Please ensure the JSON file exists in the correct location\")\n",
    "except Exception as e:\n",
    "    print(f\"❌ Error loading real user: {e}\")\n",
    "\n",
    "print(f\"\\n👥 Final population: {len(population)} users\")\n",
    "print(f\"📊 Users with embeddings: {len(population.get_users_with_embeddings())}\")"
   ]
  },
  {
   "cell_type": "code",
   "execution_count": 3,
   "metadata": {},
   "outputs": [],
   "source": [
    "population = Population()\n",
    "population = population.load_from_json(\"mello_population.json\")"
   ]
  },
  {
   "cell_type": "markdown",
   "metadata": {},
   "source": [
    "## 📊 Population Statistics\n",
    "\n",
    "Analyze the generated population and embedding quality."
   ]
  },
  {
   "cell_type": "code",
   "execution_count": 4,
   "metadata": {},
   "outputs": [
    {
     "name": "stdout",
     "output_type": "stream",
     "text": [
      "📊 Population Statistics\n",
      "==============================\n",
      "Total Users: 6\n",
      "Users with Profiles: 6\n",
      "Users with Embeddings: 6\n",
      "\n",
      "🔢 Embedding Dimensions:\n",
      "   interests_dims: 768D\n",
      "   trait_dims:\n",
      "     Openness: 768D\n",
      "     Conscientiousness: 768D\n",
      "     Extraversion: 768D\n",
      "     Agreeableness: 768D\n",
      "     Neuroticism: 768D\n",
      "   combined_dims: 4608D\n",
      "\n",
      "⭐ Special Users: 1\n",
      "   Yahya Rahhawi - Computer science, Philosophy\n",
      "\n",
      "🎯 Embedding Modes Available:\n",
      "   combined: 6 users, 4608D\n",
      "   interests: 6 users, 768D\n",
      "   Openness: 6 users, 768D\n",
      "   Conscientiousness: 6 users, 768D\n",
      "   Extraversion: 6 users, 768D\n",
      "   Agreeableness: 6 users, 768D\n",
      "   Neuroticism: 6 users, 768D\n"
     ]
    }
   ],
   "source": [
    "# Get population statistics\n",
    "stats = population.get_statistics()\n",
    "\n",
    "print(\"📊 Population Statistics\")\n",
    "print(\"=\" * 30)\n",
    "#print(f\"Population Name: {stats['population_name']}\")\n",
    "print(f\"Total Users: {stats['total_users']}\")\n",
    "print(f\"Users with Profiles: {stats['users_with_profiles']}\")\n",
    "print(f\"Users with Embeddings: {stats['users_with_embeddings']}\")\n",
    "\n",
    "if stats['embedding_stats']:\n",
    "    print(f\"\\n🔢 Embedding Dimensions:\")\n",
    "    for key, value in stats['embedding_stats'].items():\n",
    "        if isinstance(value, int):\n",
    "            print(f\"   {key}: {value}D\")\n",
    "        elif isinstance(value, dict):\n",
    "            print(f\"   {key}:\")\n",
    "            for trait, dims in value.items():\n",
    "                print(f\"     {trait}: {dims}D\")\n",
    "\n",
    "# Find special users\n",
    "special_users = [user for user in population.users if user.special]\n",
    "print(f\"\\n⭐ Special Users: {len(special_users)}\")\n",
    "for user in special_users:\n",
    "    print(f\"   {user.name} - {user.profile_data.get('major', 'Unknown major')}\")\n",
    "\n",
    "# Embedding summary\n",
    "embedding_summary = visualizer.create_embedding_summary(population)\n",
    "print(f\"\\n🎯 Embedding Modes Available:\")\n",
    "for mode, info in embedding_summary['embedding_modes'].items():\n",
    "    if 'users_count' in info and info['users_count'] > 0:\n",
    "        print(f\"   {mode}: {info['users_count']} users, {info.get('dimensions', '?')}D\")"
   ]
  },
  {
   "cell_type": "markdown",
   "metadata": {},
   "source": [
    "## 🔍 Similarity Analysis\n",
    "\n",
    "Test similarity search with the real user (if loaded)."
   ]
  },
  {
   "cell_type": "code",
   "execution_count": 5,
   "metadata": {},
   "outputs": [
    {
     "name": "stdout",
     "output_type": "stream",
     "text": [
      "🔍 Similarity Analysis for Yahya Rahhawi\n",
      "==================================================\n",
      "\n",
      "🎯 Most Similar Users (Combined Embeddings):\n",
      "   1. Willie Reid: 0.994 (timeless classicist who values enduring ...)\n",
      "   2. John Freeman: 0.994 (nostalgic traditionalist preferring time...)\n",
      "   3. Amy Small: 0.994 (social activist interested in diverse vo...)\n",
      "   4. Kimberly Jackson: 0.994 (methodical planner who enjoys structured...)\n",
      "   5. Amy Mcdonald: 0.994 (fantasy escapist who prefers magical wor...)\n",
      "\n",
      "📚 Most Similar Users (Interests Only):\n",
      "   1. Willie Reid: 0.987 (timeless classicist who values enduring ...)\n",
      "   2. Amy Small: 0.986 (social activist interested in diverse vo...)\n",
      "   3. John Freeman: 0.985 (nostalgic traditionalist preferring time...)\n",
      "   4. Kimberly Jackson: 0.984 (methodical planner who enjoys structured...)\n",
      "   5. Amy Mcdonald: 0.983 (fantasy escapist who prefers magical wor...)\n",
      "\n",
      "🧠 Trait-Specific Most Similar Users:\n",
      "   Openness: John Freeman (0.989)\n",
      "   Conscientiousness: Amy Small (0.986)\n",
      "   Extraversion: Willie Reid (0.988)\n",
      "   Agreeableness: Willie Reid (0.987)\n",
      "   Neuroticism: Kimberly Jackson (0.987)\n"
     ]
    }
   ],
   "source": [
    "# Find the real user for similarity testing\n",
    "real_user = None\n",
    "for user in population.users:\n",
    "    if user.special:\n",
    "        real_user = user\n",
    "        break\n",
    "\n",
    "if real_user and len(population.get_users_with_embeddings()) >= 5:\n",
    "    print(f\"🔍 Similarity Analysis for {real_user.name}\")\n",
    "    print(\"=\" * 50)\n",
    "    \n",
    "    # Combined similarity (all embeddings)\n",
    "    print(f\"\\n🎯 Most Similar Users (Combined Embeddings):\")\n",
    "    similar_combined = population.find_similar_users(real_user, mode='combined', top_k=5)\n",
    "    \n",
    "    for i, (similar_user, score) in enumerate(similar_combined, 1):\n",
    "        archetype = similar_user.metadata.get('original_data', {}).get('metadata', {}).get('archetype', 'Unknown')\n",
    "        print(f\"   {i}. {similar_user.name}: {score:.3f} ({archetype[:40]}...)\")\n",
    "    \n",
    "    # Interests similarity\n",
    "    print(f\"\\n📚 Most Similar Users (Interests Only):\")\n",
    "    similar_interests = population.find_similar_users(real_user, mode='interests', top_k=5)\n",
    "    \n",
    "    for i, (similar_user, score) in enumerate(similar_interests, 1):\n",
    "        archetype = similar_user.metadata.get('original_data', {}).get('metadata', {}).get('archetype', 'Unknown')\n",
    "        print(f\"   {i}. {similar_user.name}: {score:.3f} ({archetype[:40]}...)\")\n",
    "    \n",
    "    # Trait-specific similarities\n",
    "    print(f\"\\n🧠 Trait-Specific Most Similar Users:\")\n",
    "    traits = ['Openness', 'Conscientiousness', 'Extraversion', 'Agreeableness', 'Neuroticism']\n",
    "    \n",
    "    for trait in traits:\n",
    "        try:\n",
    "            similar_trait = population.find_similar_users(real_user, mode=trait, top_k=1)\n",
    "            if similar_trait:\n",
    "                most_similar, score = similar_trait[0]\n",
    "                print(f\"   {trait}: {most_similar.name} ({score:.3f})\")\n",
    "        except Exception as e:\n",
    "            print(f\"   {trait}: Error - {str(e)[:50]}...\")\n",
    "\n",
    "else:\n",
    "    print(f\"⚠️  Cannot perform similarity analysis:\")\n",
    "    if not real_user:\n",
    "        print(f\"   - No real user loaded (special=True)\")\n",
    "    if len(population.get_users_with_embeddings()) < 5:\n",
    "        print(f\"   - Need at least 5 users with embeddings (have {len(population.get_users_with_embeddings())})\")"
   ]
  },
  {
   "cell_type": "code",
   "execution_count": 6,
   "metadata": {},
   "outputs": [
    {
     "name": "stdout",
     "output_type": "stream",
     "text": [
      "📊 Interactive Plotly Population Visualization\n",
      "Users with embeddings: 6\n",
      "Similarity metric: Euclidean Distance (L2 norm, normalized)\n",
      "\n",
      "📚 Creating Plotly PCA - Interests Embeddings (768D → 2D):\n"
     ]
    },
    {
     "data": {
      "application/vnd.plotly.v1+json": {
       "config": {
        "plotlyServerURL": "https://plot.ly"
       },
       "data": [
        {
         "hovertemplate": "<b>%{hovertext}</b><extra></extra>",
         "hovertext": [
          "Amy Small",
          "Amy Mcdonald",
          "Willie Reid",
          "John Freeman",
          "Kimberly Jackson"
         ],
         "marker": {
          "color": "lightblue",
          "line": {
           "color": "darkblue",
           "width": 1
          },
          "opacity": 0.7,
          "size": 8
         },
         "mode": "markers",
         "name": "Users (5)",
         "type": "scatter",
         "x": {
          "bdata": "/lrnQSrROsDS/kCRX4ohQPL3muMw5yJAeYx3vgGjMEDNwnse9fsAQA==",
          "dtype": "f8"
         },
         "y": {
          "bdata": "mCFspQ7xGEBd5gep7TA2QO/ZbKv58SvARGyiMX4PHkBBs4xvxtQzwA==",
          "dtype": "f8"
         }
        },
        {
         "hovertemplate": "<b>%{hovertext}</b><extra></extra>",
         "hovertext": [
          "Yahya Rahhawi"
         ],
         "marker": {
          "color": "red",
          "line": {
           "color": "darkred",
           "width": 2
          },
          "opacity": 0.9,
          "size": 15,
          "symbol": "star"
         },
         "mode": "markers",
         "name": "Special Users (1)",
         "type": "scatter",
         "x": {
          "bdata": "bUqbtTxUJMA=",
          "dtype": "f8"
         },
         "y": {
          "bdata": "yUxDzGwaAcA=",
          "dtype": "f8"
         }
        }
       ],
       "layout": {
        "annotations": [
         {
          "bgcolor": "rgba(255,255,255,0.8)",
          "bordercolor": "rgba(0,0,0,0.5)",
          "borderwidth": 1,
          "font": {
           "size": 12
          },
          "showarrow": false,
          "text": "Total variance explained: 53.2%<br>Similarity metric: Euclidean Distance",
          "x": 0.02,
          "xanchor": "left",
          "xref": "paper",
          "y": 0.98,
          "yanchor": "top",
          "yref": "paper"
         }
        ],
        "height": 640,
        "hovermode": "closest",
        "showlegend": true,
        "template": {
         "data": {
          "bar": [
           {
            "error_x": {
             "color": "#2a3f5f"
            },
            "error_y": {
             "color": "#2a3f5f"
            },
            "marker": {
             "line": {
              "color": "#E5ECF6",
              "width": 0.5
             },
             "pattern": {
              "fillmode": "overlay",
              "size": 10,
              "solidity": 0.2
             }
            },
            "type": "bar"
           }
          ],
          "barpolar": [
           {
            "marker": {
             "line": {
              "color": "#E5ECF6",
              "width": 0.5
             },
             "pattern": {
              "fillmode": "overlay",
              "size": 10,
              "solidity": 0.2
             }
            },
            "type": "barpolar"
           }
          ],
          "carpet": [
           {
            "aaxis": {
             "endlinecolor": "#2a3f5f",
             "gridcolor": "white",
             "linecolor": "white",
             "minorgridcolor": "white",
             "startlinecolor": "#2a3f5f"
            },
            "baxis": {
             "endlinecolor": "#2a3f5f",
             "gridcolor": "white",
             "linecolor": "white",
             "minorgridcolor": "white",
             "startlinecolor": "#2a3f5f"
            },
            "type": "carpet"
           }
          ],
          "choropleth": [
           {
            "colorbar": {
             "outlinewidth": 0,
             "ticks": ""
            },
            "type": "choropleth"
           }
          ],
          "contour": [
           {
            "colorbar": {
             "outlinewidth": 0,
             "ticks": ""
            },
            "colorscale": [
             [
              0,
              "#0d0887"
             ],
             [
              0.1111111111111111,
              "#46039f"
             ],
             [
              0.2222222222222222,
              "#7201a8"
             ],
             [
              0.3333333333333333,
              "#9c179e"
             ],
             [
              0.4444444444444444,
              "#bd3786"
             ],
             [
              0.5555555555555556,
              "#d8576b"
             ],
             [
              0.6666666666666666,
              "#ed7953"
             ],
             [
              0.7777777777777778,
              "#fb9f3a"
             ],
             [
              0.8888888888888888,
              "#fdca26"
             ],
             [
              1,
              "#f0f921"
             ]
            ],
            "type": "contour"
           }
          ],
          "contourcarpet": [
           {
            "colorbar": {
             "outlinewidth": 0,
             "ticks": ""
            },
            "type": "contourcarpet"
           }
          ],
          "heatmap": [
           {
            "colorbar": {
             "outlinewidth": 0,
             "ticks": ""
            },
            "colorscale": [
             [
              0,
              "#0d0887"
             ],
             [
              0.1111111111111111,
              "#46039f"
             ],
             [
              0.2222222222222222,
              "#7201a8"
             ],
             [
              0.3333333333333333,
              "#9c179e"
             ],
             [
              0.4444444444444444,
              "#bd3786"
             ],
             [
              0.5555555555555556,
              "#d8576b"
             ],
             [
              0.6666666666666666,
              "#ed7953"
             ],
             [
              0.7777777777777778,
              "#fb9f3a"
             ],
             [
              0.8888888888888888,
              "#fdca26"
             ],
             [
              1,
              "#f0f921"
             ]
            ],
            "type": "heatmap"
           }
          ],
          "histogram": [
           {
            "marker": {
             "pattern": {
              "fillmode": "overlay",
              "size": 10,
              "solidity": 0.2
             }
            },
            "type": "histogram"
           }
          ],
          "histogram2d": [
           {
            "colorbar": {
             "outlinewidth": 0,
             "ticks": ""
            },
            "colorscale": [
             [
              0,
              "#0d0887"
             ],
             [
              0.1111111111111111,
              "#46039f"
             ],
             [
              0.2222222222222222,
              "#7201a8"
             ],
             [
              0.3333333333333333,
              "#9c179e"
             ],
             [
              0.4444444444444444,
              "#bd3786"
             ],
             [
              0.5555555555555556,
              "#d8576b"
             ],
             [
              0.6666666666666666,
              "#ed7953"
             ],
             [
              0.7777777777777778,
              "#fb9f3a"
             ],
             [
              0.8888888888888888,
              "#fdca26"
             ],
             [
              1,
              "#f0f921"
             ]
            ],
            "type": "histogram2d"
           }
          ],
          "histogram2dcontour": [
           {
            "colorbar": {
             "outlinewidth": 0,
             "ticks": ""
            },
            "colorscale": [
             [
              0,
              "#0d0887"
             ],
             [
              0.1111111111111111,
              "#46039f"
             ],
             [
              0.2222222222222222,
              "#7201a8"
             ],
             [
              0.3333333333333333,
              "#9c179e"
             ],
             [
              0.4444444444444444,
              "#bd3786"
             ],
             [
              0.5555555555555556,
              "#d8576b"
             ],
             [
              0.6666666666666666,
              "#ed7953"
             ],
             [
              0.7777777777777778,
              "#fb9f3a"
             ],
             [
              0.8888888888888888,
              "#fdca26"
             ],
             [
              1,
              "#f0f921"
             ]
            ],
            "type": "histogram2dcontour"
           }
          ],
          "mesh3d": [
           {
            "colorbar": {
             "outlinewidth": 0,
             "ticks": ""
            },
            "type": "mesh3d"
           }
          ],
          "parcoords": [
           {
            "line": {
             "colorbar": {
              "outlinewidth": 0,
              "ticks": ""
             }
            },
            "type": "parcoords"
           }
          ],
          "pie": [
           {
            "automargin": true,
            "type": "pie"
           }
          ],
          "scatter": [
           {
            "fillpattern": {
             "fillmode": "overlay",
             "size": 10,
             "solidity": 0.2
            },
            "type": "scatter"
           }
          ],
          "scatter3d": [
           {
            "line": {
             "colorbar": {
              "outlinewidth": 0,
              "ticks": ""
             }
            },
            "marker": {
             "colorbar": {
              "outlinewidth": 0,
              "ticks": ""
             }
            },
            "type": "scatter3d"
           }
          ],
          "scattercarpet": [
           {
            "marker": {
             "colorbar": {
              "outlinewidth": 0,
              "ticks": ""
             }
            },
            "type": "scattercarpet"
           }
          ],
          "scattergeo": [
           {
            "marker": {
             "colorbar": {
              "outlinewidth": 0,
              "ticks": ""
             }
            },
            "type": "scattergeo"
           }
          ],
          "scattergl": [
           {
            "marker": {
             "colorbar": {
              "outlinewidth": 0,
              "ticks": ""
             }
            },
            "type": "scattergl"
           }
          ],
          "scattermap": [
           {
            "marker": {
             "colorbar": {
              "outlinewidth": 0,
              "ticks": ""
             }
            },
            "type": "scattermap"
           }
          ],
          "scattermapbox": [
           {
            "marker": {
             "colorbar": {
              "outlinewidth": 0,
              "ticks": ""
             }
            },
            "type": "scattermapbox"
           }
          ],
          "scatterpolar": [
           {
            "marker": {
             "colorbar": {
              "outlinewidth": 0,
              "ticks": ""
             }
            },
            "type": "scatterpolar"
           }
          ],
          "scatterpolargl": [
           {
            "marker": {
             "colorbar": {
              "outlinewidth": 0,
              "ticks": ""
             }
            },
            "type": "scatterpolargl"
           }
          ],
          "scatterternary": [
           {
            "marker": {
             "colorbar": {
              "outlinewidth": 0,
              "ticks": ""
             }
            },
            "type": "scatterternary"
           }
          ],
          "surface": [
           {
            "colorbar": {
             "outlinewidth": 0,
             "ticks": ""
            },
            "colorscale": [
             [
              0,
              "#0d0887"
             ],
             [
              0.1111111111111111,
              "#46039f"
             ],
             [
              0.2222222222222222,
              "#7201a8"
             ],
             [
              0.3333333333333333,
              "#9c179e"
             ],
             [
              0.4444444444444444,
              "#bd3786"
             ],
             [
              0.5555555555555556,
              "#d8576b"
             ],
             [
              0.6666666666666666,
              "#ed7953"
             ],
             [
              0.7777777777777778,
              "#fb9f3a"
             ],
             [
              0.8888888888888888,
              "#fdca26"
             ],
             [
              1,
              "#f0f921"
             ]
            ],
            "type": "surface"
           }
          ],
          "table": [
           {
            "cells": {
             "fill": {
              "color": "#EBF0F8"
             },
             "line": {
              "color": "white"
             }
            },
            "header": {
             "fill": {
              "color": "#C8D4E3"
             },
             "line": {
              "color": "white"
             }
            },
            "type": "table"
           }
          ]
         },
         "layout": {
          "annotationdefaults": {
           "arrowcolor": "#2a3f5f",
           "arrowhead": 0,
           "arrowwidth": 1
          },
          "autotypenumbers": "strict",
          "coloraxis": {
           "colorbar": {
            "outlinewidth": 0,
            "ticks": ""
           }
          },
          "colorscale": {
           "diverging": [
            [
             0,
             "#8e0152"
            ],
            [
             0.1,
             "#c51b7d"
            ],
            [
             0.2,
             "#de77ae"
            ],
            [
             0.3,
             "#f1b6da"
            ],
            [
             0.4,
             "#fde0ef"
            ],
            [
             0.5,
             "#f7f7f7"
            ],
            [
             0.6,
             "#e6f5d0"
            ],
            [
             0.7,
             "#b8e186"
            ],
            [
             0.8,
             "#7fbc41"
            ],
            [
             0.9,
             "#4d9221"
            ],
            [
             1,
             "#276419"
            ]
           ],
           "sequential": [
            [
             0,
             "#0d0887"
            ],
            [
             0.1111111111111111,
             "#46039f"
            ],
            [
             0.2222222222222222,
             "#7201a8"
            ],
            [
             0.3333333333333333,
             "#9c179e"
            ],
            [
             0.4444444444444444,
             "#bd3786"
            ],
            [
             0.5555555555555556,
             "#d8576b"
            ],
            [
             0.6666666666666666,
             "#ed7953"
            ],
            [
             0.7777777777777778,
             "#fb9f3a"
            ],
            [
             0.8888888888888888,
             "#fdca26"
            ],
            [
             1,
             "#f0f921"
            ]
           ],
           "sequentialminus": [
            [
             0,
             "#0d0887"
            ],
            [
             0.1111111111111111,
             "#46039f"
            ],
            [
             0.2222222222222222,
             "#7201a8"
            ],
            [
             0.3333333333333333,
             "#9c179e"
            ],
            [
             0.4444444444444444,
             "#bd3786"
            ],
            [
             0.5555555555555556,
             "#d8576b"
            ],
            [
             0.6666666666666666,
             "#ed7953"
            ],
            [
             0.7777777777777778,
             "#fb9f3a"
            ],
            [
             0.8888888888888888,
             "#fdca26"
            ],
            [
             1,
             "#f0f921"
            ]
           ]
          },
          "colorway": [
           "#636efa",
           "#EF553B",
           "#00cc96",
           "#ab63fa",
           "#FFA15A",
           "#19d3f3",
           "#FF6692",
           "#B6E880",
           "#FF97FF",
           "#FECB52"
          ],
          "font": {
           "color": "#2a3f5f"
          },
          "geo": {
           "bgcolor": "white",
           "lakecolor": "white",
           "landcolor": "#E5ECF6",
           "showlakes": true,
           "showland": true,
           "subunitcolor": "white"
          },
          "hoverlabel": {
           "align": "left"
          },
          "hovermode": "closest",
          "mapbox": {
           "style": "light"
          },
          "paper_bgcolor": "white",
          "plot_bgcolor": "#E5ECF6",
          "polar": {
           "angularaxis": {
            "gridcolor": "white",
            "linecolor": "white",
            "ticks": ""
           },
           "bgcolor": "#E5ECF6",
           "radialaxis": {
            "gridcolor": "white",
            "linecolor": "white",
            "ticks": ""
           }
          },
          "scene": {
           "xaxis": {
            "backgroundcolor": "#E5ECF6",
            "gridcolor": "white",
            "gridwidth": 2,
            "linecolor": "white",
            "showbackground": true,
            "ticks": "",
            "zerolinecolor": "white"
           },
           "yaxis": {
            "backgroundcolor": "#E5ECF6",
            "gridcolor": "white",
            "gridwidth": 2,
            "linecolor": "white",
            "showbackground": true,
            "ticks": "",
            "zerolinecolor": "white"
           },
           "zaxis": {
            "backgroundcolor": "#E5ECF6",
            "gridcolor": "white",
            "gridwidth": 2,
            "linecolor": "white",
            "showbackground": true,
            "ticks": "",
            "zerolinecolor": "white"
           }
          },
          "shapedefaults": {
           "line": {
            "color": "#2a3f5f"
           }
          },
          "ternary": {
           "aaxis": {
            "gridcolor": "white",
            "linecolor": "white",
            "ticks": ""
           },
           "baxis": {
            "gridcolor": "white",
            "linecolor": "white",
            "ticks": ""
           },
           "bgcolor": "#E5ECF6",
           "caxis": {
            "gridcolor": "white",
            "linecolor": "white",
            "ticks": ""
           }
          },
          "title": {
           "x": 0.05
          },
          "xaxis": {
           "automargin": true,
           "gridcolor": "white",
           "linecolor": "white",
           "ticks": "",
           "title": {
            "standoff": 15
           },
           "zerolinecolor": "white",
           "zerolinewidth": 2
          },
          "yaxis": {
           "automargin": true,
           "gridcolor": "white",
           "linecolor": "white",
           "ticks": "",
           "title": {
            "standoff": 15
           },
           "zerolinecolor": "white",
           "zerolinewidth": 2
          }
         }
        },
        "title": {
         "text": "PCA Visualization - Interests Embeddings<br>Mello Campus Population (6 users)"
        },
        "width": 960,
        "xaxis": {
         "title": {
          "text": "PC1 (27.6% variance)"
         }
        },
        "yaxis": {
         "title": {
          "text": "PC2 (25.6% variance)"
         }
        }
       }
      }
     },
     "metadata": {},
     "output_type": "display_data"
    },
    {
     "name": "stdout",
     "output_type": "stream",
     "text": [
      "✅ Plotly interests PCA complete\n",
      "\n",
      "🧠 Creating Plotly PCA - Combined Personality Traits (3840D → 2D):\n"
     ]
    },
    {
     "data": {
      "application/vnd.plotly.v1+json": {
       "config": {
        "plotlyServerURL": "https://plot.ly"
       },
       "data": [
        {
         "hovertemplate": "<b>%{hovertext}</b><extra></extra>",
         "hovertext": [
          "Amy Small",
          "Amy Mcdonald",
          "Willie Reid",
          "John Freeman",
          "Kimberly Jackson"
         ],
         "marker": {
          "color": "lightgreen",
          "line": {
           "color": "darkgreen",
           "width": 1
          },
          "opacity": 0.7,
          "size": 8
         },
         "mode": "markers",
         "name": "Users (5)",
         "type": "scatter",
         "x": {
          "bdata": "rfd2C16UNMDxWB8cOe9JQEUh8YUjvBTAi4/Q7723M8BZY/c7ROM9QA==",
          "dtype": "f8"
         },
         "y": {
          "bdata": "QrKC6H9dRUDOiSoo9Fw1wAUM2nmyxS7AUL9FRX1CMEAYsLd0EXw1QA==",
          "dtype": "f8"
         }
        },
        {
         "hovertemplate": "<b>%{hovertext}</b><extra></extra>",
         "hovertext": [
          "Yahya Rahhawi"
         ],
         "marker": {
          "color": "red",
          "line": {
           "color": "darkred",
           "width": 2
          },
          "opacity": 0.9,
          "size": 15,
          "symbol": "star"
         },
         "mode": "markers",
         "name": "Special Users (1)",
         "type": "scatter",
         "x": {
          "bdata": "4iK5y0gjQsA=",
          "dtype": "f8"
         },
         "y": {
          "bdata": "EKL1kuDcRcA=",
          "dtype": "f8"
         }
        }
       ],
       "layout": {
        "annotations": [
         {
          "bgcolor": "rgba(255,255,255,0.8)",
          "bordercolor": "rgba(0,0,0,0.5)",
          "borderwidth": 1,
          "font": {
           "size": 12
          },
          "showarrow": false,
          "text": "Total variance explained: 47.3%<br>Similarity metric: Euclidean Distance<br>Dimensions: 5 traits × 768D = 3840D",
          "x": 0.02,
          "xanchor": "left",
          "xref": "paper",
          "y": 0.98,
          "yanchor": "top",
          "yref": "paper"
         }
        ],
        "height": 640,
        "hovermode": "closest",
        "showlegend": true,
        "template": {
         "data": {
          "bar": [
           {
            "error_x": {
             "color": "#2a3f5f"
            },
            "error_y": {
             "color": "#2a3f5f"
            },
            "marker": {
             "line": {
              "color": "#E5ECF6",
              "width": 0.5
             },
             "pattern": {
              "fillmode": "overlay",
              "size": 10,
              "solidity": 0.2
             }
            },
            "type": "bar"
           }
          ],
          "barpolar": [
           {
            "marker": {
             "line": {
              "color": "#E5ECF6",
              "width": 0.5
             },
             "pattern": {
              "fillmode": "overlay",
              "size": 10,
              "solidity": 0.2
             }
            },
            "type": "barpolar"
           }
          ],
          "carpet": [
           {
            "aaxis": {
             "endlinecolor": "#2a3f5f",
             "gridcolor": "white",
             "linecolor": "white",
             "minorgridcolor": "white",
             "startlinecolor": "#2a3f5f"
            },
            "baxis": {
             "endlinecolor": "#2a3f5f",
             "gridcolor": "white",
             "linecolor": "white",
             "minorgridcolor": "white",
             "startlinecolor": "#2a3f5f"
            },
            "type": "carpet"
           }
          ],
          "choropleth": [
           {
            "colorbar": {
             "outlinewidth": 0,
             "ticks": ""
            },
            "type": "choropleth"
           }
          ],
          "contour": [
           {
            "colorbar": {
             "outlinewidth": 0,
             "ticks": ""
            },
            "colorscale": [
             [
              0,
              "#0d0887"
             ],
             [
              0.1111111111111111,
              "#46039f"
             ],
             [
              0.2222222222222222,
              "#7201a8"
             ],
             [
              0.3333333333333333,
              "#9c179e"
             ],
             [
              0.4444444444444444,
              "#bd3786"
             ],
             [
              0.5555555555555556,
              "#d8576b"
             ],
             [
              0.6666666666666666,
              "#ed7953"
             ],
             [
              0.7777777777777778,
              "#fb9f3a"
             ],
             [
              0.8888888888888888,
              "#fdca26"
             ],
             [
              1,
              "#f0f921"
             ]
            ],
            "type": "contour"
           }
          ],
          "contourcarpet": [
           {
            "colorbar": {
             "outlinewidth": 0,
             "ticks": ""
            },
            "type": "contourcarpet"
           }
          ],
          "heatmap": [
           {
            "colorbar": {
             "outlinewidth": 0,
             "ticks": ""
            },
            "colorscale": [
             [
              0,
              "#0d0887"
             ],
             [
              0.1111111111111111,
              "#46039f"
             ],
             [
              0.2222222222222222,
              "#7201a8"
             ],
             [
              0.3333333333333333,
              "#9c179e"
             ],
             [
              0.4444444444444444,
              "#bd3786"
             ],
             [
              0.5555555555555556,
              "#d8576b"
             ],
             [
              0.6666666666666666,
              "#ed7953"
             ],
             [
              0.7777777777777778,
              "#fb9f3a"
             ],
             [
              0.8888888888888888,
              "#fdca26"
             ],
             [
              1,
              "#f0f921"
             ]
            ],
            "type": "heatmap"
           }
          ],
          "histogram": [
           {
            "marker": {
             "pattern": {
              "fillmode": "overlay",
              "size": 10,
              "solidity": 0.2
             }
            },
            "type": "histogram"
           }
          ],
          "histogram2d": [
           {
            "colorbar": {
             "outlinewidth": 0,
             "ticks": ""
            },
            "colorscale": [
             [
              0,
              "#0d0887"
             ],
             [
              0.1111111111111111,
              "#46039f"
             ],
             [
              0.2222222222222222,
              "#7201a8"
             ],
             [
              0.3333333333333333,
              "#9c179e"
             ],
             [
              0.4444444444444444,
              "#bd3786"
             ],
             [
              0.5555555555555556,
              "#d8576b"
             ],
             [
              0.6666666666666666,
              "#ed7953"
             ],
             [
              0.7777777777777778,
              "#fb9f3a"
             ],
             [
              0.8888888888888888,
              "#fdca26"
             ],
             [
              1,
              "#f0f921"
             ]
            ],
            "type": "histogram2d"
           }
          ],
          "histogram2dcontour": [
           {
            "colorbar": {
             "outlinewidth": 0,
             "ticks": ""
            },
            "colorscale": [
             [
              0,
              "#0d0887"
             ],
             [
              0.1111111111111111,
              "#46039f"
             ],
             [
              0.2222222222222222,
              "#7201a8"
             ],
             [
              0.3333333333333333,
              "#9c179e"
             ],
             [
              0.4444444444444444,
              "#bd3786"
             ],
             [
              0.5555555555555556,
              "#d8576b"
             ],
             [
              0.6666666666666666,
              "#ed7953"
             ],
             [
              0.7777777777777778,
              "#fb9f3a"
             ],
             [
              0.8888888888888888,
              "#fdca26"
             ],
             [
              1,
              "#f0f921"
             ]
            ],
            "type": "histogram2dcontour"
           }
          ],
          "mesh3d": [
           {
            "colorbar": {
             "outlinewidth": 0,
             "ticks": ""
            },
            "type": "mesh3d"
           }
          ],
          "parcoords": [
           {
            "line": {
             "colorbar": {
              "outlinewidth": 0,
              "ticks": ""
             }
            },
            "type": "parcoords"
           }
          ],
          "pie": [
           {
            "automargin": true,
            "type": "pie"
           }
          ],
          "scatter": [
           {
            "fillpattern": {
             "fillmode": "overlay",
             "size": 10,
             "solidity": 0.2
            },
            "type": "scatter"
           }
          ],
          "scatter3d": [
           {
            "line": {
             "colorbar": {
              "outlinewidth": 0,
              "ticks": ""
             }
            },
            "marker": {
             "colorbar": {
              "outlinewidth": 0,
              "ticks": ""
             }
            },
            "type": "scatter3d"
           }
          ],
          "scattercarpet": [
           {
            "marker": {
             "colorbar": {
              "outlinewidth": 0,
              "ticks": ""
             }
            },
            "type": "scattercarpet"
           }
          ],
          "scattergeo": [
           {
            "marker": {
             "colorbar": {
              "outlinewidth": 0,
              "ticks": ""
             }
            },
            "type": "scattergeo"
           }
          ],
          "scattergl": [
           {
            "marker": {
             "colorbar": {
              "outlinewidth": 0,
              "ticks": ""
             }
            },
            "type": "scattergl"
           }
          ],
          "scattermap": [
           {
            "marker": {
             "colorbar": {
              "outlinewidth": 0,
              "ticks": ""
             }
            },
            "type": "scattermap"
           }
          ],
          "scattermapbox": [
           {
            "marker": {
             "colorbar": {
              "outlinewidth": 0,
              "ticks": ""
             }
            },
            "type": "scattermapbox"
           }
          ],
          "scatterpolar": [
           {
            "marker": {
             "colorbar": {
              "outlinewidth": 0,
              "ticks": ""
             }
            },
            "type": "scatterpolar"
           }
          ],
          "scatterpolargl": [
           {
            "marker": {
             "colorbar": {
              "outlinewidth": 0,
              "ticks": ""
             }
            },
            "type": "scatterpolargl"
           }
          ],
          "scatterternary": [
           {
            "marker": {
             "colorbar": {
              "outlinewidth": 0,
              "ticks": ""
             }
            },
            "type": "scatterternary"
           }
          ],
          "surface": [
           {
            "colorbar": {
             "outlinewidth": 0,
             "ticks": ""
            },
            "colorscale": [
             [
              0,
              "#0d0887"
             ],
             [
              0.1111111111111111,
              "#46039f"
             ],
             [
              0.2222222222222222,
              "#7201a8"
             ],
             [
              0.3333333333333333,
              "#9c179e"
             ],
             [
              0.4444444444444444,
              "#bd3786"
             ],
             [
              0.5555555555555556,
              "#d8576b"
             ],
             [
              0.6666666666666666,
              "#ed7953"
             ],
             [
              0.7777777777777778,
              "#fb9f3a"
             ],
             [
              0.8888888888888888,
              "#fdca26"
             ],
             [
              1,
              "#f0f921"
             ]
            ],
            "type": "surface"
           }
          ],
          "table": [
           {
            "cells": {
             "fill": {
              "color": "#EBF0F8"
             },
             "line": {
              "color": "white"
             }
            },
            "header": {
             "fill": {
              "color": "#C8D4E3"
             },
             "line": {
              "color": "white"
             }
            },
            "type": "table"
           }
          ]
         },
         "layout": {
          "annotationdefaults": {
           "arrowcolor": "#2a3f5f",
           "arrowhead": 0,
           "arrowwidth": 1
          },
          "autotypenumbers": "strict",
          "coloraxis": {
           "colorbar": {
            "outlinewidth": 0,
            "ticks": ""
           }
          },
          "colorscale": {
           "diverging": [
            [
             0,
             "#8e0152"
            ],
            [
             0.1,
             "#c51b7d"
            ],
            [
             0.2,
             "#de77ae"
            ],
            [
             0.3,
             "#f1b6da"
            ],
            [
             0.4,
             "#fde0ef"
            ],
            [
             0.5,
             "#f7f7f7"
            ],
            [
             0.6,
             "#e6f5d0"
            ],
            [
             0.7,
             "#b8e186"
            ],
            [
             0.8,
             "#7fbc41"
            ],
            [
             0.9,
             "#4d9221"
            ],
            [
             1,
             "#276419"
            ]
           ],
           "sequential": [
            [
             0,
             "#0d0887"
            ],
            [
             0.1111111111111111,
             "#46039f"
            ],
            [
             0.2222222222222222,
             "#7201a8"
            ],
            [
             0.3333333333333333,
             "#9c179e"
            ],
            [
             0.4444444444444444,
             "#bd3786"
            ],
            [
             0.5555555555555556,
             "#d8576b"
            ],
            [
             0.6666666666666666,
             "#ed7953"
            ],
            [
             0.7777777777777778,
             "#fb9f3a"
            ],
            [
             0.8888888888888888,
             "#fdca26"
            ],
            [
             1,
             "#f0f921"
            ]
           ],
           "sequentialminus": [
            [
             0,
             "#0d0887"
            ],
            [
             0.1111111111111111,
             "#46039f"
            ],
            [
             0.2222222222222222,
             "#7201a8"
            ],
            [
             0.3333333333333333,
             "#9c179e"
            ],
            [
             0.4444444444444444,
             "#bd3786"
            ],
            [
             0.5555555555555556,
             "#d8576b"
            ],
            [
             0.6666666666666666,
             "#ed7953"
            ],
            [
             0.7777777777777778,
             "#fb9f3a"
            ],
            [
             0.8888888888888888,
             "#fdca26"
            ],
            [
             1,
             "#f0f921"
            ]
           ]
          },
          "colorway": [
           "#636efa",
           "#EF553B",
           "#00cc96",
           "#ab63fa",
           "#FFA15A",
           "#19d3f3",
           "#FF6692",
           "#B6E880",
           "#FF97FF",
           "#FECB52"
          ],
          "font": {
           "color": "#2a3f5f"
          },
          "geo": {
           "bgcolor": "white",
           "lakecolor": "white",
           "landcolor": "#E5ECF6",
           "showlakes": true,
           "showland": true,
           "subunitcolor": "white"
          },
          "hoverlabel": {
           "align": "left"
          },
          "hovermode": "closest",
          "mapbox": {
           "style": "light"
          },
          "paper_bgcolor": "white",
          "plot_bgcolor": "#E5ECF6",
          "polar": {
           "angularaxis": {
            "gridcolor": "white",
            "linecolor": "white",
            "ticks": ""
           },
           "bgcolor": "#E5ECF6",
           "radialaxis": {
            "gridcolor": "white",
            "linecolor": "white",
            "ticks": ""
           }
          },
          "scene": {
           "xaxis": {
            "backgroundcolor": "#E5ECF6",
            "gridcolor": "white",
            "gridwidth": 2,
            "linecolor": "white",
            "showbackground": true,
            "ticks": "",
            "zerolinecolor": "white"
           },
           "yaxis": {
            "backgroundcolor": "#E5ECF6",
            "gridcolor": "white",
            "gridwidth": 2,
            "linecolor": "white",
            "showbackground": true,
            "ticks": "",
            "zerolinecolor": "white"
           },
           "zaxis": {
            "backgroundcolor": "#E5ECF6",
            "gridcolor": "white",
            "gridwidth": 2,
            "linecolor": "white",
            "showbackground": true,
            "ticks": "",
            "zerolinecolor": "white"
           }
          },
          "shapedefaults": {
           "line": {
            "color": "#2a3f5f"
           }
          },
          "ternary": {
           "aaxis": {
            "gridcolor": "white",
            "linecolor": "white",
            "ticks": ""
           },
           "baxis": {
            "gridcolor": "white",
            "linecolor": "white",
            "ticks": ""
           },
           "bgcolor": "#E5ECF6",
           "caxis": {
            "gridcolor": "white",
            "linecolor": "white",
            "ticks": ""
           }
          },
          "title": {
           "x": 0.05
          },
          "xaxis": {
           "automargin": true,
           "gridcolor": "white",
           "linecolor": "white",
           "ticks": "",
           "title": {
            "standoff": 15
           },
           "zerolinecolor": "white",
           "zerolinewidth": 2
          },
          "yaxis": {
           "automargin": true,
           "gridcolor": "white",
           "linecolor": "white",
           "ticks": "",
           "title": {
            "standoff": 15
           },
           "zerolinecolor": "white",
           "zerolinewidth": 2
          }
         }
        },
        "title": {
         "text": "PCA Visualization - Personality Traits Embeddings<br>Mello Campus Population (6 users)"
        },
        "width": 960,
        "xaxis": {
         "title": {
          "text": "PC1 (24.9% variance)"
         }
        },
        "yaxis": {
         "title": {
          "text": "PC2 (22.4% variance)"
         }
        }
       }
      }
     },
     "metadata": {},
     "output_type": "display_data"
    },
    {
     "name": "stdout",
     "output_type": "stream",
     "text": [
      "✅ Plotly personality traits PCA complete\n",
      "\n",
      "📖 Visualization Guide:\n",
      "   📚 Interests PCA: Cultural preferences embeddings (books, movies, music)\n",
      "   🧠 Personality PCA: Big 5 personality traits embeddings (Openness, Conscientiousness, etc.)\n",
      "   ⭐ Red stars: Real users (special)\n",
      "   🔵 Blue/Green dots: Synthetic users\n",
      "   📏 Similarity: Euclidean distance (1.0 = identical, 0.0 = different)\n",
      "   🎨 Interactive: Hover for names, zoom, pan to explore\n"
     ]
    }
   ],
   "source": [
    "# Interactive Plotly Visualizations\n",
    "users_with_embeddings = population.get_users_with_embeddings()\n",
    "\n",
    "print(f\"📊 Interactive Plotly Population Visualization\")\n",
    "print(f\"Users with embeddings: {len(users_with_embeddings)}\")\n",
    "print(f\"Similarity metric: Euclidean Distance (L2 norm, normalized)\")\n",
    "print()\n",
    "\n",
    "if len(users_with_embeddings) >= 3:\n",
    "    \n",
    "    # 📚 Plotly PCA Visualization - Interests Only\n",
    "    print(f\"📚 Creating Plotly PCA - Interests Embeddings (768D → 2D):\")\n",
    "    try:\n",
    "        fig_interests = visualizer.plot_population_pca(\n",
    "            population, \n",
    "            mode='interests', \n",
    "            highlight_special=True, \n",
    "            figsize=(12, 8)\n",
    "        )\n",
    "        fig_interests.show()\n",
    "        print(f\"✅ Plotly interests PCA complete\")\n",
    "        \n",
    "    except Exception as e:\n",
    "        print(f\"❌ Interests PCA failed: {e}\")\n",
    "    \n",
    "    print()\n",
    "    \n",
    "    # 🧠 Plotly PCA Visualization - Combined Personality Traits\n",
    "    print(f\"🧠 Creating Plotly PCA - Combined Personality Traits (3840D → 2D):\")\n",
    "    try:\n",
    "        # Get combined personality embedding (all 5 traits)\n",
    "        from sklearn.decomposition import PCA\n",
    "        from sklearn.preprocessing import StandardScaler\n",
    "        import plotly.graph_objects as go\n",
    "        import numpy as np\n",
    "        \n",
    "        # Get users with complete personality embeddings\n",
    "        personality_users = []\n",
    "        personality_embeddings = []\n",
    "        \n",
    "        for user in users_with_embeddings:\n",
    "            trait_embeddings = []\n",
    "            has_all_traits = True\n",
    "            \n",
    "            for trait in ['Openness', 'Conscientiousness', 'Extraversion', 'Agreeableness', 'Neuroticism']:\n",
    "                trait_emb = getattr(user, f'{trait.lower()}_embedding', None)\n",
    "                if trait_emb is not None:\n",
    "                    trait_embeddings.append(trait_emb)\n",
    "                else:\n",
    "                    has_all_traits = False\n",
    "                    break\n",
    "            \n",
    "            if has_all_traits:\n",
    "                personality_users.append(user)\n",
    "                combined_personality = np.concatenate(trait_embeddings)\n",
    "                personality_embeddings.append(combined_personality)\n",
    "        \n",
    "        if len(personality_embeddings) >= 3:\n",
    "            personality_matrix = np.array(personality_embeddings)\n",
    "            \n",
    "            # Apply PCA to personality embeddings\n",
    "            scaler = StandardScaler()\n",
    "            embeddings_scaled = scaler.fit_transform(personality_matrix)\n",
    "            pca = PCA(n_components=2)\n",
    "            embeddings_2d = pca.fit_transform(embeddings_scaled)\n",
    "            \n",
    "            # Create Plotly figure for personality\n",
    "            fig_personality = go.Figure()\n",
    "            \n",
    "            # Separate special and regular users\n",
    "            special_indices = []\n",
    "            regular_indices = []\n",
    "            \n",
    "            for i, user in enumerate(personality_users):\n",
    "                if user.special:\n",
    "                    special_indices.append(i)\n",
    "                else:\n",
    "                    regular_indices.append(i)\n",
    "            \n",
    "            # Plot regular users\n",
    "            if regular_indices:\n",
    "                regular_coords = embeddings_2d[regular_indices]\n",
    "                regular_names = [personality_users[i].name for i in regular_indices]\n",
    "                \n",
    "                fig_personality.add_trace(go.Scatter(\n",
    "                    x=regular_coords[:, 0],\n",
    "                    y=regular_coords[:, 1],\n",
    "                    mode='markers',\n",
    "                    marker=dict(size=8, color='lightgreen', opacity=0.7, line=dict(width=1, color='darkgreen')),\n",
    "                    name=f'Users ({len(regular_indices)})',\n",
    "                    hovertext=regular_names,\n",
    "                    hovertemplate='<b>%{hovertext}</b><extra></extra>'\n",
    "                ))\n",
    "            \n",
    "            # Plot special users\n",
    "            if special_indices:\n",
    "                special_coords = embeddings_2d[special_indices]\n",
    "                special_names = [personality_users[i].name for i in special_indices]\n",
    "                \n",
    "                fig_personality.add_trace(go.Scatter(\n",
    "                    x=special_coords[:, 0],\n",
    "                    y=special_coords[:, 1],\n",
    "                    mode='markers',\n",
    "                    marker=dict(size=15, color='red', opacity=0.9, symbol='star', line=dict(width=2, color='darkred')),\n",
    "                    name=f'Special Users ({len(special_indices)})',\n",
    "                    hovertext=special_names,\n",
    "                    hovertemplate='<b>%{hovertext}</b><extra></extra>'\n",
    "                ))\n",
    "            \n",
    "            # Update layout\n",
    "            total_variance = pca.explained_variance_ratio_[:2].sum()\n",
    "            fig_personality.update_layout(\n",
    "                title=f'PCA Visualization - Personality Traits Embeddings<br>{population.name} ({len(personality_users)} users)',\n",
    "                xaxis_title=f'PC1 ({pca.explained_variance_ratio_[0]:.1%} variance)',\n",
    "                yaxis_title=f'PC2 ({pca.explained_variance_ratio_[1]:.1%} variance)',\n",
    "                hovermode='closest',\n",
    "                showlegend=True,\n",
    "                width=960,\n",
    "                height=640,\n",
    "                annotations=[\n",
    "                    dict(\n",
    "                        text=f'Total variance explained: {total_variance:.1%}<br>Similarity metric: Euclidean Distance<br>Dimensions: 5 traits × 768D = 3840D',\n",
    "                        xref=\"paper\", yref=\"paper\",\n",
    "                        x=0.02, y=0.98, xanchor='left', yanchor='top',\n",
    "                        showarrow=False,\n",
    "                        font=dict(size=12),\n",
    "                        bgcolor=\"rgba(255,255,255,0.8)\",\n",
    "                        bordercolor=\"rgba(0,0,0,0.5)\",\n",
    "                        borderwidth=1\n",
    "                    )\n",
    "                ]\n",
    "            )\n",
    "            \n",
    "            fig_personality.show()\n",
    "            print(f\"✅ Plotly personality traits PCA complete\")\n",
    "        else:\n",
    "            print(f\"❌ Need at least 3 users with complete personality embeddings, got {len(personality_embeddings)}\")\n",
    "        \n",
    "    except Exception as e:\n",
    "        print(f\"❌ Personality PCA failed: {e}\")\n",
    "\n",
    "else:\n",
    "    print(f\"⚠️  Need at least 3 users with embeddings for visualization\")\n",
    "    print(f\"   Current: {len(users_with_embeddings)} users\")\n",
    "    print(f\"   Generate more synthetic users in the previous cell\")\n",
    "\n",
    "print(f\"\\n📖 Visualization Guide:\")\n",
    "print(f\"   📚 Interests PCA: Cultural preferences embeddings (books, movies, music)\")\n",
    "print(f\"   🧠 Personality PCA: Big 5 personality traits embeddings (Openness, Conscientiousness, etc.)\")\n",
    "print(f\"   ⭐ Red stars: Real users (special)\")\n",
    "print(f\"   🔵 Blue/Green dots: Synthetic users\")\n",
    "print(f\"   📏 Similarity: Euclidean distance (1.0 = identical, 0.0 = different)\")\n",
    "print(f\"   🎨 Interactive: Hover for names, zoom, pan to explore\")"
   ]
  },
  {
   "cell_type": "markdown",
   "metadata": {},
   "source": [
    "## 💾 Save Population\n",
    "\n",
    "Save the complete population for future use."
   ]
  },
  {
   "cell_type": "code",
   "execution_count": 7,
   "metadata": {},
   "outputs": [
    {
     "name": "stdout",
     "output_type": "stream",
     "text": [
      "💾 Saving population to mello_population.json...\n",
      "✅ Population saved successfully\n",
      "   File size: 738,622 bytes (0.7 MB)\n",
      "   Users saved: 6\n",
      "   Users with embeddings: 6\n",
      "\n",
      "🎉 Notebook complete!\n",
      "📊 Final Statistics:\n",
      "   Population: 6 users\n",
      "   Architecture: 768D interests + 5×768D traits\n",
      "   Approach: Unified personality profiling\n",
      "   Embeddings: 6 users ready\n"
     ]
    }
   ],
   "source": [
    "# Save population to JSON\n",
    "save_path = \"mello_population.json\"\n",
    "\n",
    "print(f\"💾 Saving population to {save_path}...\")\n",
    "\n",
    "try:\n",
    "    population.save_to_json(save_path)\n",
    "    print(f\"✅ Population saved successfully\")\n",
    "    \n",
    "    # Show file info\n",
    "    import os\n",
    "    file_size = os.path.getsize(save_path)\n",
    "    print(f\"   File size: {file_size:,} bytes ({file_size/1024/1024:.1f} MB)\")\n",
    "    print(f\"   Users saved: {len(population)}\")\n",
    "    print(f\"   Users with embeddings: {len(population.get_users_with_embeddings())}\")\n",
    "    \n",
    "except Exception as e:\n",
    "    print(f\"❌ Failed to save population: {e}\")\n",
    "\n",
    "print(f\"\\n🎉 Notebook complete!\")\n",
    "print(f\"📊 Final Statistics:\")\n",
    "print(f\"   Population: {len(population)} users\")\n",
    "print(f\"   Architecture: 768D interests + 5×768D traits\")\n",
    "print(f\"   Approach: Unified personality profiling\")\n",
    "print(f\"   Embeddings: {len(population.get_users_with_embeddings())} users ready\")"
   ]
  },
  {
   "cell_type": "code",
   "execution_count": null,
   "metadata": {},
   "outputs": [],
   "source": []
  }
 ],
 "metadata": {
  "kernelspec": {
   "display_name": "Python 3",
   "language": "python",
   "name": "python3"
  },
  "language_info": {
   "codemirror_mode": {
    "name": "ipython",
    "version": 3
   },
   "file_extension": ".py",
   "mimetype": "text/x-python",
   "name": "python",
   "nbconvert_exporter": "python",
   "pygments_lexer": "ipython3",
   "version": "3.8.5"
  }
 },
 "nbformat": 4,
 "nbformat_minor": 4
}
