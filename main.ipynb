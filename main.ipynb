{
 "cells": [
  {
   "cell_type": "markdown",
   "metadata": {},
   "source": [
    "# Mello ML Pipeline - Complete Demonstration\n",
    "\n",
    "This notebook demonstrates the complete Mello ML pipeline using the new object-oriented architecture.\n",
    "\n",
    "## Features Demonstrated:\n",
    "- 🧑‍💻 Creating and managing individual users\n",
    "- 📚 Generating synthetic user data with AI\n",
    "- 💭 Generating taste profiles from book preferences\n",
    "- 🔢 Creating embeddings from taste descriptions\n",
    "- 👥 Managing populations of users\n",
    "- 📊 Applying UMAP, t-SNE, and PCA dimensionality reduction\n",
    "- 📈 Interactive visualization of user personalities\n",
    "- 🔍 Finding similar users and adding new users to populations\n",
    "- 💾 Saving and loading data"
   ]
  },
  {
   "cell_type": "markdown",
   "metadata": {},
   "source": [
    "## Setup and Imports"
   ]
  },
  {
   "cell_type": "code",
   "execution_count": 1,
   "metadata": {},
   "outputs": [],
   "source": [
    "%load_ext autoreload\n",
    "%autoreload 2"
   ]
  },
  {
   "cell_type": "code",
   "execution_count": 2,
   "metadata": {},
   "outputs": [
    {
     "name": "stderr",
     "output_type": "stream",
     "text": [
      "/Users/yahyarahhawi/miniforge3/envs/ml/lib/python3.12/site-packages/tqdm/auto.py:21: TqdmWarning: IProgress not found. Please update jupyter and ipywidgets. See https://ipywidgets.readthedocs.io/en/stable/user_install.html\n",
      "  from .autonotebook import tqdm as notebook_tqdm\n"
     ]
    },
    {
     "name": "stdout",
     "output_type": "stream",
     "text": [
      "✅ All imports successful!\n",
      "🚀 Ready to demonstrate the Mello ML pipeline\n"
     ]
    }
   ],
   "source": [
    "# Standard imports\n",
    "import numpy as np\n",
    "import pandas as pd\n",
    "import matplotlib.pyplot as plt\n",
    "import logging\n",
    "import json\n",
    "from pathlib import Path\n",
    "\n",
    "# Set up logging\n",
    "logging.basicConfig(level=logging.INFO, format='%(asctime)s - %(levelname)s - %(message)s')\n",
    "logger = logging.getLogger(__name__)\n",
    "\n",
    "# Import our custom classes\n",
    "from user import User, UserPreferences, BookRating\n",
    "from population import Population\n",
    "from profile_generator import ProfileGenerator\n",
    "from embedding_generator import EmbeddingGenerator\n",
    "from visualizer import Visualizer\n",
    "\n",
    "print(\"✅ All imports successful!\")\n",
    "print(\"🚀 Ready to demonstrate the Mello ML pipeline\")"
   ]
  },
  {
   "cell_type": "markdown",
   "metadata": {},
   "source": [
    "## 1. Creating Individual Users\n",
    "\n",
    "Let's start by creating a few individual users manually to understand the User class."
   ]
  },
  {
   "cell_type": "code",
   "execution_count": 3,
   "metadata": {},
   "outputs": [
    {
     "name": "stdout",
     "output_type": "stream",
     "text": [
      "User(name='Alice Johnson', books=5, taste_profile=No, embedding=No, special=False)\n",
      "\n",
      "Book summary:\n",
      "Alice Johnson's book preferences:\n",
      "- The Bell Jar by Sylvia Plath: 5.0/5 stars\n",
      "- Norwegian Wood by Haruki Murakami: 4.5/5 stars\n",
      "- The Catcher in the Rye by J.D. Salinger: 4.0/5 stars\n",
      "- Sapiens by Yuval Noah Harari: 4.5/5 stars\n",
      "- The Power of Now by Eckhart Tolle: 3.5/5 stars\n",
      "\n"
     ]
    }
   ],
   "source": [
    "# Create a new user\n",
    "user1 = User(name=\"Alice Johnson\")\n",
    "\n",
    "# Add some books\n",
    "user1.add_book(\"The Bell Jar\", \"Sylvia Plath\", 5.0, \"Fiction\")\n",
    "user1.add_book(\"Norwegian Wood\", \"Haruki Murakami\", 4.5, \"Fiction\")\n",
    "user1.add_book(\"The Catcher in the Rye\", \"J.D. Salinger\", 4.0, \"Fiction\")\n",
    "user1.add_book(\"Sapiens\", \"Yuval Noah Harari\", 4.5, \"Non-fiction\")\n",
    "user1.add_book(\"The Power of Now\", \"Eckhart Tolle\", 3.5, \"Self-help\")\n",
    "\n",
    "print(user1)\n",
    "print(\"\\nBook summary:\")\n",
    "print(user1.get_books_summary())"
   ]
  },
  {
   "cell_type": "code",
   "execution_count": 4,
   "metadata": {},
   "outputs": [
    {
     "name": "stdout",
     "output_type": "stream",
     "text": [
      "User(name='Bob Smith', books=5, taste_profile=No, embedding=No, special=False)\n",
      "\n",
      "Book summary:\n",
      "Bob Smith's book preferences:\n",
      "- Dune by Frank Herbert: 5.0/5 stars\n",
      "- 1984 by George Orwell: 4.5/5 stars\n",
      "- The Foundation by Isaac Asimov: 4.5/5 stars\n",
      "- Thinking, Fast and Slow by Daniel Kahneman: 4.0/5 stars\n",
      "- The Art of War by Sun Tzu: 3.5/5 stars\n",
      "\n"
     ]
    }
   ],
   "source": [
    "# Create another user with different preferences\n",
    "user2 = User(name=\"Bob Smith\")\n",
    "\n",
    "user2.add_book(\"Dune\", \"Frank Herbert\", 5.0, \"Science Fiction\")\n",
    "user2.add_book(\"1984\", \"George Orwell\", 4.5, \"Dystopian\")\n",
    "user2.add_book(\"The Foundation\", \"Isaac Asimov\", 4.5, \"Science Fiction\")\n",
    "user2.add_book(\"Thinking, Fast and Slow\", \"Daniel Kahneman\", 4.0, \"Psychology\")\n",
    "user2.add_book(\"The Art of War\", \"Sun Tzu\", 3.5, \"Philosophy\")\n",
    "\n",
    "print(user2)\n",
    "print(\"\\nBook summary:\")\n",
    "print(user2.get_books_summary())"
   ]
  },
  {
   "cell_type": "markdown",
   "metadata": {},
   "source": [
    "## 2. Generating Synthetic Users with AI\n",
    "\n",
    "Now let's use the ProfileGenerator to create realistic synthetic users."
   ]
  },
  {
   "cell_type": "code",
   "execution_count": 5,
   "metadata": {},
   "outputs": [
    {
     "name": "stdout",
     "output_type": "stream",
     "text": [
      "Profile Generator: ProfileGenerator(requests=0, archetypes=50)\n",
      "Available personality archetypes: 50\n",
      "\n",
      "Some personality types:\n",
      "  1. Academic philosopher who loves ancient wisdom and existential questions\n",
      "  2. Tech entrepreneur fascinated by science fiction and innovation\n",
      "  3. Environmental activist drawn to nature writing and climate literature\n",
      "  4. History buff obsessed with biographical accounts and war narratives\n",
      "  5. Psychology student interested in human behavior and self-help\n"
     ]
    }
   ],
   "source": [
    "# Initialize the profile generator\n",
    "profile_gen = ProfileGenerator()\n",
    "\n",
    "print(f\"Profile Generator: {profile_gen}\")\n",
    "print(f\"Available personality archetypes: {len(profile_gen.personality_archetypes)}\")\n",
    "print(\"\\nSome personality types:\")\n",
    "for i, archetype in enumerate(profile_gen.personality_archetypes[:5]):\n",
    "    print(f\"  {i+1}. {archetype}\")"
   ]
  },
  {
   "cell_type": "code",
   "execution_count": 6,
   "metadata": {},
   "outputs": [
    {
     "name": "stdout",
     "output_type": "stream",
     "text": [
      "🤖 Generating a synthetic user...\n"
     ]
    },
    {
     "name": "stderr",
     "output_type": "stream",
     "text": [
      "2025-08-15 01:57:21,269 - INFO - Generated synthetic user: Gina Aguirre (introspective literary enthusiast)\n"
     ]
    },
    {
     "name": "stdout",
     "output_type": "stream",
     "text": [
      "\n",
      "✅ Generated: User(name='Gina Aguirre', books=20, taste_profile=No, embedding=No, special=False)\n",
      "📚 Number of books: 20\n",
      "🎭 Personality type: introspective literary enthusiast\n",
      "\n",
      "📖 First 5 books:\n",
      "  1. The Brothers Karamazov by Fyodor Dostoevsky - 5.0/5 (Fiction)\n",
      "  2. Leaves of Grass by Walt Whitman - 4.8/5 (Poetry)\n",
      "  3. Man's Search for Meaning by Viktor Frankl - 4.7/5 (Non-fiction (Psychology))\n",
      "  4. The Master and Margarita by Mikhail Bulgakov - 4.6/5 (Fiction)\n",
      "  5. Walden by Henry David Thoreau - 4.5/5 (Non-fiction (Nature/Philosophy))\n"
     ]
    }
   ],
   "source": [
    "# Generate a single synthetic user\n",
    "print(\"🤖 Generating a synthetic user...\")\n",
    "synthetic_user = profile_gen.generate_synthetic_user(\"introspective literary enthusiast\")\n",
    "\n",
    "if synthetic_user:\n",
    "    print(f\"\\n✅ Generated: {synthetic_user}\")\n",
    "    print(f\"📚 Number of books: {len(synthetic_user.preferences.books)}\")\n",
    "    print(f\"🎭 Personality type: {synthetic_user.metadata.get('personality_type', 'Unknown')}\")\n",
    "    \n",
    "    print(\"\\n📖 First 5 books:\")\n",
    "    for i, book in enumerate(synthetic_user.preferences.books[:5]):\n",
    "        print(f\"  {i+1}. {book.title} by {book.author} - {book.rating}/5 ({book.genre})\")\n",
    "else:\n",
    "    print(\"❌ Failed to generate synthetic user\")"
   ]
  },
  {
   "cell_type": "markdown",
   "metadata": {},
   "source": [
    "## 3. Generating Taste Profiles\n",
    "\n",
    "Let's generate AI-powered personality descriptions based on book preferences."
   ]
  },
  {
   "cell_type": "code",
   "execution_count": 7,
   "metadata": {},
   "outputs": [
    {
     "name": "stdout",
     "output_type": "stream",
     "text": [
      "🧠 Generating taste profile for Alice...\n"
     ]
    },
    {
     "name": "stderr",
     "output_type": "stream",
     "text": [
      "2025-08-15 01:57:39,166 - INFO - Generated taste profile for Alice Johnson\n"
     ]
    },
    {
     "name": "stdout",
     "output_type": "stream",
     "text": [
      "\n",
      "✅ Taste Profile Generated!\n",
      "\n",
      "📝 Alice's Taste Profile:\n",
      "This person exhibits a thoughtful and introspective nature, demonstrated by their literary preferences spanning fiction, non-fiction, and self-help. They appreciate narratives exploring individual experiences and emotions, suggesting an empathetic and emotionally intelligent approach to understanding the world. A preference for intellectual non-fiction indicates a curious and analytical mind, drawn to understanding broader societal and historical contexts. A potential interest in personal growth and self-improvement is also evident. They likely possess a balanced perspective, blending emotional sensitivity with analytical thinking. Their decision-making probably leans towards well-reasoned choices, incorporating both personal values and objective information. While appreciative of fictional works, they show ambition for deeper understanding with their non-fiction selections. Socially, they may display carefulness and insight,\n"
     ]
    }
   ],
   "source": [
    "# Generate taste profile for our manually created user\n",
    "print(\"🧠 Generating taste profile for Alice...\")\n",
    "success = profile_gen.generate_taste_profile(user1)\n",
    "\n",
    "if success:\n",
    "    print(\"\\n✅ Taste Profile Generated!\")\n",
    "    print(f\"\\n📝 Alice's Taste Profile:\")\n",
    "    print(f\"{user1.taste_profile}\")\n",
    "else:\n",
    "    print(\"❌ Failed to generate taste profile\")"
   ]
  },
  {
   "cell_type": "code",
   "execution_count": 8,
   "metadata": {},
   "outputs": [
    {
     "name": "stdout",
     "output_type": "stream",
     "text": [
      "🧠 Generating taste profile for synthetic user...\n"
     ]
    },
    {
     "name": "stderr",
     "output_type": "stream",
     "text": [
      "2025-08-15 01:57:55,422 - INFO - Generated taste profile for Gina Aguirre\n"
     ]
    },
    {
     "name": "stdout",
     "output_type": "stream",
     "text": [
      "\n",
      "✅ Taste Profile Generated for Gina Aguirre!\n",
      "\n",
      "📝 Gina Aguirre's Taste Profile:\n",
      "This person possesses a thoughtful and introspective nature, demonstrated by a clear preference for both profound literary works and philosophical explorations. They are drawn to narratives that delve into the complexities of the human condition, valuing emotional depth and intellectual stimulation in their reading choices. Highly valuing meaning and purpose, they demonstrate a keen interest in existential themes and the search for understanding in both personal and universal contexts. This indicates their empathetic and reflective spirit, likely leading them to engage compassionately with others, valuing authenticity and holding meaningful dialogue. Further, the blend of fiction and non-fiction demonstrates a curious mind that seeks balanced perspectives and deep learning, blending emotional understanding with a firm commitment to intellectual inquiry.\n"
     ]
    }
   ],
   "source": [
    "# Generate taste profile for the synthetic user\n",
    "if synthetic_user:\n",
    "    print(\"🧠 Generating taste profile for synthetic user...\")\n",
    "    success = profile_gen.generate_taste_profile(synthetic_user)\n",
    "    \n",
    "    if success:\n",
    "        print(f\"\\n✅ Taste Profile Generated for {synthetic_user.name}!\")\n",
    "        print(f\"\\n📝 {synthetic_user.name}'s Taste Profile:\")\n",
    "        print(f\"{synthetic_user.taste_profile}\")\n",
    "    else:\n",
    "        print(\"❌ Failed to generate taste profile\")"
   ]
  },
  {
   "cell_type": "markdown",
   "metadata": {},
   "source": [
    "## 4. Generating Embeddings\n",
    "\n",
    "Now let's convert taste profiles into vector embeddings."
   ]
  },
  {
   "cell_type": "code",
   "execution_count": 9,
   "metadata": {},
   "outputs": [
    {
     "name": "stderr",
     "output_type": "stream",
     "text": [
      "2025-08-15 01:57:57,019 - WARNING - User with name 'Yahya Rahhawi' already exists in population\n",
      "2025-08-15 01:57:57,020 - WARNING - User with name 'Yahya Rahhawi' already exists in population\n",
      "2025-08-15 01:57:57,020 - INFO - Loaded population 'Generated Population (200 users)' with 209 users\n"
     ]
    },
    {
     "name": "stdout",
     "output_type": "stream",
     "text": [
      "Embedding Generator: EmbeddingGenerator(provider=gemini, model=gemini-embedding-001, dims=3072, requests=0)\n",
      "Model: gemini-embedding-001\n",
      "Dimensions: 3072\n"
     ]
    }
   ],
   "source": [
    "# Initialize the embedding generator\n",
    "pop = Population()\n",
    "pop.load_from_json(\"demo_population.json\")\n",
    "embedding_gen = EmbeddingGenerator()\n",
    "\n",
    "print(f\"Embedding Generator: {embedding_gen}\")\n",
    "print(f\"Model: {embedding_gen.model_name}\")\n",
    "print(f\"Dimensions: {embedding_gen.embedding_dimensions}\")"
   ]
  },
  {
   "cell_type": "code",
   "execution_count": 10,
   "metadata": {},
   "outputs": [
    {
     "name": "stdout",
     "output_type": "stream",
     "text": [
      "🔢 Generating embedding for Alice...\n"
     ]
    },
    {
     "name": "stderr",
     "output_type": "stream",
     "text": [
      "2025-08-15 01:58:02,384 - INFO - Generated embedding for user Alice Johnson\n"
     ]
    },
    {
     "name": "stdout",
     "output_type": "stream",
     "text": [
      "✅ Embedding generated!\n",
      "📊 Embedding shape: (3072,)\n",
      "📊 First 10 values: [-0.00460049 -0.02884815  0.01740649 -0.05061968 -0.00018011 -0.00686283\n",
      " -0.00341175  0.0148003  -0.00543704 -0.01034395]\n"
     ]
    }
   ],
   "source": [
    "# Generate embedding for Alice\n",
    "if user1.taste_profile:\n",
    "    print(\"🔢 Generating embedding for Alice...\")\n",
    "    success = embedding_gen.embed_user(user1)\n",
    "    \n",
    "    if success:\n",
    "        print(\"✅ Embedding generated!\")\n",
    "        print(f\"📊 Embedding shape: {user1.embedding.shape}\")\n",
    "        print(f\"📊 First 10 values: {user1.embedding[:10]}\")\n",
    "    else:\n",
    "        print(\"❌ Failed to generate embedding\")\n",
    "else:\n",
    "    print(\"⚠️ Alice needs a taste profile first\")"
   ]
  },
  {
   "cell_type": "code",
   "execution_count": 11,
   "metadata": {},
   "outputs": [
    {
     "name": "stdout",
     "output_type": "stream",
     "text": [
      "🔢 Generating embedding for test description...\n",
      "📝 Description: They love philosophical novels that explore existential themes and enjoy books that challenge conventional thinking.\n",
      "\n",
      "✅ Embedding generated!\n",
      "📊 Shape: (3072,)\n",
      "📊 First 10 values: [ 3.57252940e-05 -3.16982940e-02  2.54228300e-02 -4.99543920e-02\n",
      "  8.85931300e-03  1.03857440e-02 -1.59768240e-02 -1.96687800e-03\n",
      "  1.54259745e-02 -8.40698600e-03]\n"
     ]
    }
   ],
   "source": [
    "# Test embedding a custom text\n",
    "test_description = \"They love philosophical novels that explore existential themes and enjoy books that challenge conventional thinking.\"\n",
    "\n",
    "print(f\"🔢 Generating embedding for test description...\")\n",
    "print(f\"📝 Description: {test_description}\")\n",
    "\n",
    "try:\n",
    "    test_embedding = embedding_gen.embed_text(test_description)\n",
    "    print(f\"\\n✅ Embedding generated!\")\n",
    "    print(f\"📊 Shape: {test_embedding.shape}\")\n",
    "    print(f\"📊 First 10 values: {test_embedding[:10]}\")\n",
    "except Exception as e:\n",
    "    print(f\"❌ Error: {e}\")"
   ]
  },
  {
   "cell_type": "markdown",
   "metadata": {},
   "source": [
    "## 5. Creating and Managing Populations\n",
    "\n",
    "Let's create a population and add multiple users to it."
   ]
  },
  {
   "cell_type": "code",
   "execution_count": 12,
   "metadata": {},
   "outputs": [
    {
     "name": "stdout",
     "output_type": "stream",
     "text": [
      "Population: Population(name='Demo Population', users=3)\n",
      "\n",
      "📊 Population Statistics:\n",
      "  total_users: 3\n",
      "  special_users: 0\n",
      "  regular_users: 3\n",
      "  users_with_embeddings: 1\n",
      "  users_with_taste_profiles: 2\n",
      "  total_books_rated: 30\n",
      "  avg_books_per_user: 10.0\n",
      "  embedding_dimension: 768\n",
      "  avg_rating: 4.4366666666666665\n",
      "  min_rating: 3.5\n",
      "  max_rating: 5.0\n",
      "  rating_std: 0.40123420702737805\n"
     ]
    }
   ],
   "source": [
    "# Create a new population\n",
    "population = Population(\"Demo Population\")\n",
    "\n",
    "# Add our manually created users\n",
    "population.add_user(user1)\n",
    "population.add_user(user2)\n",
    "\n",
    "# Add the synthetic user if it exists\n",
    "if synthetic_user:\n",
    "    population.add_user(synthetic_user)\n",
    "\n",
    "print(f\"Population: {population}\")\n",
    "print(f\"\\n📊 Population Statistics:\")\n",
    "stats = population.get_statistics()\n",
    "for key, value in stats.items():\n",
    "    print(f\"  {key}: {value}\")"
   ]
  },
  {
   "cell_type": "code",
   "execution_count": 12,
   "metadata": {},
   "outputs": [
    {
     "name": "stderr",
     "output_type": "stream",
     "text": [
      "2025-08-15 01:58:48,291 - INFO - Generating 200 synthetic users...\n"
     ]
    },
    {
     "name": "stdout",
     "output_type": "stream",
     "text": [
      "🏭 Generating a population of 10 synthetic users...\n"
     ]
    },
    {
     "name": "stderr",
     "output_type": "stream",
     "text": [
      "2025-08-15 01:58:53,128 - INFO - Generated synthetic user: Travis Williams (Minimalist drawn to simplicity, productivity, and intentional living)\n"
     ]
    },
    {
     "name": "stdout",
     "output_type": "stream",
     "text": [
      "Progress: 1/200 users generated\n"
     ]
    },
    {
     "name": "stderr",
     "output_type": "stream",
     "text": [
      "2025-08-15 01:58:58,724 - INFO - Generated synthetic user: James Carroll (Chef passionate about food culture, recipes, and culinary history)\n"
     ]
    },
    {
     "name": "stdout",
     "output_type": "stream",
     "text": [
      "Progress: 2/200 users generated\n"
     ]
    },
    {
     "name": "stderr",
     "output_type": "stream",
     "text": [
      "2025-08-15 01:59:04,284 - INFO - Generated synthetic user: Denise Parker (Educator interested in learning theory and child development)\n"
     ]
    },
    {
     "name": "stdout",
     "output_type": "stream",
     "text": [
      "Progress: 3/200 users generated\n"
     ]
    },
    {
     "name": "stderr",
     "output_type": "stream",
     "text": [
      "2025-08-15 01:59:08,565 - INFO - Generated synthetic user: Thomas Lee (Intellectual who enjoys complex, philosophical, and theoretical works)\n"
     ]
    },
    {
     "name": "stdout",
     "output_type": "stream",
     "text": [
      "Progress: 4/200 users generated\n"
     ]
    },
    {
     "name": "stderr",
     "output_type": "stream",
     "text": [
      "2025-08-15 01:59:12,825 - INFO - Generated synthetic user: Alicia Padilla (Working parent seeking practical advice and quick fiction escapes)\n"
     ]
    },
    {
     "name": "stdout",
     "output_type": "stream",
     "text": [
      "Progress: 5/200 users generated\n"
     ]
    },
    {
     "name": "stderr",
     "output_type": "stream",
     "text": [
      "2025-08-15 01:59:19,031 - INFO - Generated synthetic user: Andrea Gomez (New parent reading about child-rearing and family dynamics)\n"
     ]
    },
    {
     "name": "stdout",
     "output_type": "stream",
     "text": [
      "Progress: 6/200 users generated\n"
     ]
    },
    {
     "name": "stderr",
     "output_type": "stream",
     "text": [
      "2025-08-15 01:59:25,080 - INFO - Generated synthetic user: Regina Holmes (LGBTQ+ reader exploring queer literature and identity stories)\n"
     ]
    },
    {
     "name": "stdout",
     "output_type": "stream",
     "text": [
      "Progress: 7/200 users generated\n"
     ]
    },
    {
     "name": "stderr",
     "output_type": "stream",
     "text": [
      "2025-08-15 01:59:29,950 - INFO - Generated synthetic user: Ashley Howell (Fantasy escapist who lives in magical worlds and epic adventures)\n"
     ]
    },
    {
     "name": "stdout",
     "output_type": "stream",
     "text": [
      "Progress: 8/200 users generated\n"
     ]
    },
    {
     "name": "stderr",
     "output_type": "stream",
     "text": [
      "2025-08-15 01:59:34,454 - INFO - Generated synthetic user: Stacey Harrison (Nostalgic reader who gravitates toward historical and vintage settings)\n"
     ]
    },
    {
     "name": "stdout",
     "output_type": "stream",
     "text": [
      "Progress: 9/200 users generated\n"
     ]
    },
    {
     "name": "stderr",
     "output_type": "stream",
     "text": [
      "2025-08-15 01:59:39,577 - INFO - Generated synthetic user: Edward Hudson (Travel enthusiast who reads memoirs and cultural explorations)\n",
      "2025-08-15 01:59:39,578 - INFO - Generated 10/10 users\n"
     ]
    },
    {
     "name": "stdout",
     "output_type": "stream",
     "text": [
      "Progress: 10/200 users generated\n"
     ]
    },
    {
     "name": "stderr",
     "output_type": "stream",
     "text": [
      "2025-08-15 01:59:45,182 - INFO - Generated synthetic user: Edwin Allison (Religious conservative who prefers faith-based and moral literature)\n"
     ]
    },
    {
     "name": "stdout",
     "output_type": "stream",
     "text": [
      "Progress: 11/200 users generated\n"
     ]
    },
    {
     "name": "stderr",
     "output_type": "stream",
     "text": [
      "2025-08-15 01:59:49,791 - INFO - Generated synthetic user: Jason Miller (Empath who connects deeply with emotional and relationship-focused books)\n"
     ]
    },
    {
     "name": "stdout",
     "output_type": "stream",
     "text": [
      "Progress: 12/200 users generated\n"
     ]
    },
    {
     "name": "stderr",
     "output_type": "stream",
     "text": [
      "2025-08-15 01:59:56,135 - INFO - Generated synthetic user: Brittany Johnson (Extrovert drawn to adventure stories and social narratives)\n"
     ]
    },
    {
     "name": "stdout",
     "output_type": "stream",
     "text": [
      "Progress: 13/200 users generated\n"
     ]
    },
    {
     "name": "stderr",
     "output_type": "stream",
     "text": [
      "2025-08-15 02:00:01,721 - INFO - Generated synthetic user: Javier Johnson (Art lover reading about creativity, design, and aesthetics)\n"
     ]
    },
    {
     "name": "stdout",
     "output_type": "stream",
     "text": [
      "Progress: 14/200 users generated\n"
     ]
    },
    {
     "name": "stderr",
     "output_type": "stream",
     "text": [
      "2025-08-15 02:00:06,933 - INFO - Generated synthetic user: Lisa Wilson (Educator interested in learning theory and child development)\n"
     ]
    },
    {
     "name": "stdout",
     "output_type": "stream",
     "text": [
      "Progress: 15/200 users generated\n"
     ]
    },
    {
     "name": "stderr",
     "output_type": "stream",
     "text": [
      "2025-08-15 02:00:12,093 - INFO - Generated synthetic user: Brian Robinson (Empath who connects deeply with emotional and relationship-focused books)\n"
     ]
    },
    {
     "name": "stdout",
     "output_type": "stream",
     "text": [
      "Progress: 16/200 users generated\n"
     ]
    },
    {
     "name": "stderr",
     "output_type": "stream",
     "text": [
      "2025-08-15 02:00:17,031 - INFO - Generated synthetic user: Kendra Nguyen (Science nerd passionate about physics, biology, and research)\n"
     ]
    },
    {
     "name": "stdout",
     "output_type": "stream",
     "text": [
      "Progress: 17/200 users generated\n"
     ]
    },
    {
     "name": "stderr",
     "output_type": "stream",
     "text": [
      "2025-08-15 02:00:23,998 - INFO - Generated synthetic user: Charles Aguirre (Chronic illness warrior seeking medical narratives and inspiration)\n"
     ]
    },
    {
     "name": "stdout",
     "output_type": "stream",
     "text": [
      "Progress: 18/200 users generated\n"
     ]
    },
    {
     "name": "stderr",
     "output_type": "stream",
     "text": [
      "2025-08-15 02:00:29,643 - INFO - Generated synthetic user: John Johnson (New parent reading about child-rearing and family dynamics)\n"
     ]
    },
    {
     "name": "stdout",
     "output_type": "stream",
     "text": [
      "Progress: 19/200 users generated\n"
     ]
    },
    {
     "name": "stderr",
     "output_type": "stream",
     "text": [
      "2025-08-15 02:00:35,497 - INFO - Generated synthetic user: Jennifer Kennedy (Small town resident who loves community-focused and rural narratives)\n",
      "2025-08-15 02:00:35,498 - INFO - Generated 20/20 users\n"
     ]
    },
    {
     "name": "stdout",
     "output_type": "stream",
     "text": [
      "Progress: 20/200 users generated\n"
     ]
    },
    {
     "name": "stderr",
     "output_type": "stream",
     "text": [
      "2025-08-15 02:00:40,794 - INFO - Generated synthetic user: Tammy Patel (Environmental activist drawn to nature writing and climate literature)\n"
     ]
    },
    {
     "name": "stdout",
     "output_type": "stream",
     "text": [
      "Progress: 21/200 users generated\n"
     ]
    },
    {
     "name": "stderr",
     "output_type": "stream",
     "text": [
      "2025-08-15 02:00:45,330 - INFO - Generated synthetic user: John Baker (Curious generalist who reads widely across all genres and topics)\n"
     ]
    },
    {
     "name": "stdout",
     "output_type": "stream",
     "text": [
      "Progress: 22/200 users generated\n"
     ]
    },
    {
     "name": "stderr",
     "output_type": "stream",
     "text": [
      "2025-08-15 02:00:50,412 - INFO - Generated synthetic user: Justin Vargas (Liberal progressive reading about social change and activism)\n"
     ]
    },
    {
     "name": "stdout",
     "output_type": "stream",
     "text": [
      "Progress: 23/200 users generated\n"
     ]
    },
    {
     "name": "stderr",
     "output_type": "stream",
     "text": [
      "2025-08-15 02:00:55,742 - INFO - Generated synthetic user: Scott Dennis (Social media influencer reading about marketing and personal branding)\n"
     ]
    },
    {
     "name": "stdout",
     "output_type": "stream",
     "text": [
      "Progress: 24/200 users generated\n"
     ]
    },
    {
     "name": "stderr",
     "output_type": "stream",
     "text": [
      "2025-08-15 02:01:00,946 - INFO - Generated synthetic user: William Miles (Environmental activist drawn to nature writing and climate literature)\n"
     ]
    },
    {
     "name": "stdout",
     "output_type": "stream",
     "text": [
      "Progress: 25/200 users generated\n"
     ]
    },
    {
     "name": "stderr",
     "output_type": "stream",
     "text": [
      "2025-08-15 02:01:07,289 - INFO - Generated synthetic user: Lance Taylor (Skeptic drawn to investigative journalism and fact-based narratives)\n"
     ]
    },
    {
     "name": "stdout",
     "output_type": "stream",
     "text": [
      "Progress: 26/200 users generated\n"
     ]
    },
    {
     "name": "stderr",
     "output_type": "stream",
     "text": [
      "2025-08-15 02:01:12,808 - INFO - Generated synthetic user: Allison Martinez (Science nerd passionate about physics, biology, and research)\n"
     ]
    },
    {
     "name": "stdout",
     "output_type": "stream",
     "text": [
      "Progress: 27/200 users generated\n"
     ]
    },
    {
     "name": "stderr",
     "output_type": "stream",
     "text": [
      "2025-08-15 02:01:19,727 - INFO - Generated synthetic user: George Williams (Social justice advocate reading about inequality and activism)\n"
     ]
    },
    {
     "name": "stdout",
     "output_type": "stream",
     "text": [
      "Progress: 28/200 users generated\n"
     ]
    },
    {
     "name": "stderr",
     "output_type": "stream",
     "text": [
      "2025-08-15 02:01:24,491 - INFO - Generated synthetic user: Julia Reeves (Art lover reading about creativity, design, and aesthetics)\n"
     ]
    },
    {
     "name": "stdout",
     "output_type": "stream",
     "text": [
      "Progress: 29/200 users generated\n"
     ]
    },
    {
     "name": "stderr",
     "output_type": "stream",
     "text": [
      "2025-08-15 02:01:29,468 - INFO - Generated synthetic user: Zoe Rodriguez (Tech entrepreneur fascinated by science fiction and innovation)\n",
      "2025-08-15 02:01:29,469 - INFO - Generated 30/30 users\n"
     ]
    },
    {
     "name": "stdout",
     "output_type": "stream",
     "text": [
      "Progress: 30/200 users generated\n"
     ]
    },
    {
     "name": "stderr",
     "output_type": "stream",
     "text": [
      "2025-08-15 02:01:35,223 - INFO - Generated synthetic user: Gwendolyn Wang (Musician who reads about music theory, biographies, and culture)\n"
     ]
    },
    {
     "name": "stdout",
     "output_type": "stream",
     "text": [
      "Progress: 31/200 users generated\n"
     ]
    },
    {
     "name": "stderr",
     "output_type": "stream",
     "text": [
      "2025-08-15 02:01:40,449 - INFO - Generated synthetic user: Kevin Boyd (Pessimist attracted to dark, realistic, and challenging literature)\n"
     ]
    },
    {
     "name": "stdout",
     "output_type": "stream",
     "text": [
      "Progress: 32/200 users generated\n"
     ]
    },
    {
     "name": "stderr",
     "output_type": "stream",
     "text": [
      "2025-08-15 02:01:46,341 - INFO - Generated synthetic user: Amanda Reynolds (Social media influencer reading about marketing and personal branding)\n"
     ]
    },
    {
     "name": "stdout",
     "output_type": "stream",
     "text": [
      "Progress: 33/200 users generated\n"
     ]
    },
    {
     "name": "stderr",
     "output_type": "stream",
     "text": [
      "2025-08-15 02:01:51,649 - INFO - Generated synthetic user: Ashley Taylor (Extrovert drawn to adventure stories and social narratives)\n"
     ]
    },
    {
     "name": "stdout",
     "output_type": "stream",
     "text": [
      "Progress: 34/200 users generated\n"
     ]
    },
    {
     "name": "stderr",
     "output_type": "stream",
     "text": [
      "2025-08-15 02:01:55,973 - INFO - Generated synthetic user: Dawn Waters (Nostalgic reader who gravitates toward historical and vintage settings)\n"
     ]
    },
    {
     "name": "stdout",
     "output_type": "stream",
     "text": [
      "Progress: 35/200 users generated\n"
     ]
    },
    {
     "name": "stderr",
     "output_type": "stream",
     "text": [
      "2025-08-15 02:02:01,226 - INFO - Generated synthetic user: Ashley Hanna (Optimist who seeks uplifting, inspirational, and hopeful stories)\n"
     ]
    },
    {
     "name": "stdout",
     "output_type": "stream",
     "text": [
      "Progress: 36/200 users generated\n"
     ]
    },
    {
     "name": "stderr",
     "output_type": "stream",
     "text": [
      "2025-08-15 02:02:06,547 - INFO - Generated synthetic user: Richard Holloway Jr. (Practical person who prefers how-to guides and actionable advice)\n"
     ]
    },
    {
     "name": "stdout",
     "output_type": "stream",
     "text": [
      "Progress: 37/200 users generated\n"
     ]
    },
    {
     "name": "stderr",
     "output_type": "stream",
     "text": [
      "2025-08-15 02:02:11,037 - INFO - Generated synthetic user: Jeffery Campbell (Pessimist attracted to dark, realistic, and challenging literature)\n"
     ]
    },
    {
     "name": "stdout",
     "output_type": "stream",
     "text": [
      "Progress: 38/200 users generated\n"
     ]
    },
    {
     "name": "stderr",
     "output_type": "stream",
     "text": [
      "2025-08-15 02:02:17,044 - INFO - Generated synthetic user: Daniel Smith (Military veteran interested in war stories and brotherhood tales)\n"
     ]
    },
    {
     "name": "stdout",
     "output_type": "stream",
     "text": [
      "Progress: 39/200 users generated\n"
     ]
    },
    {
     "name": "stderr",
     "output_type": "stream",
     "text": [
      "2025-08-15 02:02:22,916 - INFO - Generated synthetic user: Patrick Walter (Spiritual seeker exploring religious texts and meditation guides)\n",
      "2025-08-15 02:02:22,918 - INFO - Generated 40/40 users\n"
     ]
    },
    {
     "name": "stdout",
     "output_type": "stream",
     "text": [
      "Progress: 40/200 users generated\n"
     ]
    },
    {
     "name": "stderr",
     "output_type": "stream",
     "text": [
      "2025-08-15 02:02:27,951 - INFO - Generated synthetic user: Sherry Myers (Practical person who prefers how-to guides and actionable advice)\n"
     ]
    },
    {
     "name": "stdout",
     "output_type": "stream",
     "text": [
      "Progress: 41/200 users generated\n"
     ]
    },
    {
     "name": "stderr",
     "output_type": "stream",
     "text": [
      "2025-08-15 02:02:33,074 - INFO - Generated synthetic user: Nicholas Wilson (College student exploring identity through coming-of-age stories)\n"
     ]
    },
    {
     "name": "stdout",
     "output_type": "stream",
     "text": [
      "Progress: 42/200 users generated\n"
     ]
    },
    {
     "name": "stderr",
     "output_type": "stream",
     "text": [
      "2025-08-15 02:02:39,848 - INFO - Generated synthetic user: Kara Scott (Urban professional reading about city life and career advancement)\n"
     ]
    },
    {
     "name": "stdout",
     "output_type": "stream",
     "text": [
      "Progress: 43/200 users generated\n"
     ]
    },
    {
     "name": "stderr",
     "output_type": "stream",
     "text": [
      "2025-08-15 02:02:45,718 - INFO - Generated synthetic user: Priscilla Kim (LGBTQ+ reader exploring queer literature and identity stories)\n"
     ]
    },
    {
     "name": "stdout",
     "output_type": "stream",
     "text": [
      "Progress: 44/200 users generated\n"
     ]
    },
    {
     "name": "stderr",
     "output_type": "stream",
     "text": [
      "2025-08-15 02:02:50,591 - INFO - Generated synthetic user: Robert Gonzalez (Immigrant reader connecting with stories of displacement and belonging)\n"
     ]
    },
    {
     "name": "stdout",
     "output_type": "stream",
     "text": [
      "Progress: 45/200 users generated\n"
     ]
    },
    {
     "name": "stderr",
     "output_type": "stream",
     "text": [
      "2025-08-15 02:02:57,301 - INFO - Generated synthetic user: Carol Butler (Liberal progressive reading about social change and activism)\n"
     ]
    },
    {
     "name": "stdout",
     "output_type": "stream",
     "text": [
      "Progress: 46/200 users generated\n"
     ]
    },
    {
     "name": "stderr",
     "output_type": "stream",
     "text": [
      "2025-08-15 02:03:02,048 - INFO - Generated synthetic user: Mark Medina (Travel enthusiast who reads memoirs and cultural explorations)\n"
     ]
    },
    {
     "name": "stdout",
     "output_type": "stream",
     "text": [
      "Progress: 47/200 users generated\n"
     ]
    },
    {
     "name": "stderr",
     "output_type": "stream",
     "text": [
      "2025-08-15 02:03:07,023 - INFO - Generated synthetic user: Gabrielle Campbell (Minimalist drawn to simplicity, productivity, and intentional living)\n"
     ]
    },
    {
     "name": "stdout",
     "output_type": "stream",
     "text": [
      "Progress: 48/200 users generated\n"
     ]
    },
    {
     "name": "stderr",
     "output_type": "stream",
     "text": [
      "2025-08-15 02:03:12,565 - INFO - Generated synthetic user: Ralph Ruiz (Chronic illness warrior seeking medical narratives and inspiration)\n"
     ]
    },
    {
     "name": "stdout",
     "output_type": "stream",
     "text": [
      "Progress: 49/200 users generated\n"
     ]
    },
    {
     "name": "stderr",
     "output_type": "stream",
     "text": [
      "2025-08-15 02:03:17,389 - INFO - Generated synthetic user: Tiffany Ellis (Introvert who loves quiet character studies and introspective novels)\n",
      "2025-08-15 02:03:17,390 - INFO - Generated 50/50 users\n"
     ]
    },
    {
     "name": "stdout",
     "output_type": "stream",
     "text": [
      "Progress: 50/200 users generated\n"
     ]
    },
    {
     "name": "stderr",
     "output_type": "stream",
     "text": [
      "2025-08-15 02:03:22,562 - INFO - Generated synthetic user: Cassandra Collins (Tech entrepreneur fascinated by science fiction and innovation)\n"
     ]
    },
    {
     "name": "stdout",
     "output_type": "stream",
     "text": [
      "Progress: 51/200 users generated\n"
     ]
    },
    {
     "name": "stderr",
     "output_type": "stream",
     "text": [
      "2025-08-15 02:03:27,259 - INFO - Generated synthetic user: Kimberly Huang (Anxious person seeking comfort in gentle, predictable stories)\n"
     ]
    },
    {
     "name": "stdout",
     "output_type": "stream",
     "text": [
      "Progress: 52/200 users generated\n"
     ]
    },
    {
     "name": "stderr",
     "output_type": "stream",
     "text": [
      "2025-08-15 02:03:33,088 - INFO - Generated synthetic user: Joseph Martinez (Chef passionate about food culture, recipes, and culinary history)\n"
     ]
    },
    {
     "name": "stdout",
     "output_type": "stream",
     "text": [
      "Progress: 53/200 users generated\n"
     ]
    },
    {
     "name": "stderr",
     "output_type": "stream",
     "text": [
      "2025-08-15 02:03:39,453 - INFO - Generated synthetic user: Lori Coleman (Military veteran interested in war stories and brotherhood tales)\n"
     ]
    },
    {
     "name": "stdout",
     "output_type": "stream",
     "text": [
      "Progress: 54/200 users generated\n"
     ]
    },
    {
     "name": "stderr",
     "output_type": "stream",
     "text": [
      "2025-08-15 02:03:45,204 - INFO - Generated synthetic user: Derrick Hensley (Mystery lover addicted to crime fiction and psychological thrillers)\n"
     ]
    },
    {
     "name": "stdout",
     "output_type": "stream",
     "text": [
      "Progress: 55/200 users generated\n"
     ]
    },
    {
     "name": "stderr",
     "output_type": "stream",
     "text": [
      "2025-08-15 02:03:50,746 - INFO - Generated synthetic user: Sean Brown (Chef passionate about food culture, recipes, and culinary history)\n"
     ]
    },
    {
     "name": "stdout",
     "output_type": "stream",
     "text": [
      "Progress: 56/200 users generated\n"
     ]
    },
    {
     "name": "stderr",
     "output_type": "stream",
     "text": [
      "2025-08-15 02:03:55,089 - INFO - Generated synthetic user: Stephanie Ruiz (Fantasy escapist who lives in magical worlds and epic adventures)\n"
     ]
    },
    {
     "name": "stdout",
     "output_type": "stream",
     "text": [
      "Progress: 57/200 users generated\n"
     ]
    },
    {
     "name": "stderr",
     "output_type": "stream",
     "text": [
      "2025-08-15 02:04:00,314 - INFO - Generated synthetic user: Christopher Walsh (Anxious person seeking comfort in gentle, predictable stories)\n"
     ]
    },
    {
     "name": "stdout",
     "output_type": "stream",
     "text": [
      "Progress: 58/200 users generated\n"
     ]
    },
    {
     "name": "stderr",
     "output_type": "stream",
     "text": [
      "2025-08-15 02:04:06,166 - INFO - Generated synthetic user: Jeremy Ortiz (Minimalist drawn to simplicity, productivity, and intentional living)\n"
     ]
    },
    {
     "name": "stdout",
     "output_type": "stream",
     "text": [
      "Progress: 59/200 users generated\n"
     ]
    },
    {
     "name": "stderr",
     "output_type": "stream",
     "text": [
      "2025-08-15 02:04:11,766 - INFO - Generated synthetic user: Melanie Garrett (Extrovert drawn to adventure stories and social narratives)\n",
      "2025-08-15 02:04:11,766 - INFO - Generated 60/60 users\n"
     ]
    },
    {
     "name": "stdout",
     "output_type": "stream",
     "text": [
      "Progress: 60/200 users generated\n"
     ]
    },
    {
     "name": "stderr",
     "output_type": "stream",
     "text": [
      "2025-08-15 02:04:16,693 - INFO - Generated synthetic user: Christina Whitaker (Spiritual seeker exploring religious texts and meditation guides)\n"
     ]
    },
    {
     "name": "stdout",
     "output_type": "stream",
     "text": [
      "Progress: 61/200 users generated\n"
     ]
    },
    {
     "name": "stderr",
     "output_type": "stream",
     "text": [
      "2025-08-15 02:04:21,814 - INFO - Generated synthetic user: Mr. Darren Mccann II (Specialist who deep-dives into one particular subject or genre)\n"
     ]
    },
    {
     "name": "stdout",
     "output_type": "stream",
     "text": [
      "Progress: 62/200 users generated\n"
     ]
    },
    {
     "name": "stderr",
     "output_type": "stream",
     "text": [
      "2025-08-15 02:04:27,564 - INFO - Generated synthetic user: George Taylor (Political junkie reading about governance, policy, and current events)\n"
     ]
    },
    {
     "name": "stdout",
     "output_type": "stream",
     "text": [
      "Progress: 63/200 users generated\n"
     ]
    },
    {
     "name": "stderr",
     "output_type": "stream",
     "text": [
      "2025-08-15 02:04:34,476 - INFO - Generated synthetic user: Jenna Drake (Chronic illness warrior seeking medical narratives and inspiration)\n"
     ]
    },
    {
     "name": "stdout",
     "output_type": "stream",
     "text": [
      "Progress: 64/200 users generated\n"
     ]
    },
    {
     "name": "stderr",
     "output_type": "stream",
     "text": [
      "2025-08-15 02:04:39,322 - INFO - Generated synthetic user: Ann Ashley (Futurist fascinated by dystopian and speculative fiction)\n"
     ]
    },
    {
     "name": "stdout",
     "output_type": "stream",
     "text": [
      "Progress: 65/200 users generated\n"
     ]
    },
    {
     "name": "stderr",
     "output_type": "stream",
     "text": [
      "2025-08-15 02:04:43,870 - INFO - Generated synthetic user: Raymond Jones (Creative writer who devours literary fiction and poetry)\n"
     ]
    },
    {
     "name": "stdout",
     "output_type": "stream",
     "text": [
      "Progress: 66/200 users generated\n"
     ]
    },
    {
     "name": "stderr",
     "output_type": "stream",
     "text": [
      "2025-08-15 02:04:48,759 - INFO - Generated synthetic user: Mary Glenn (Mystery lover addicted to crime fiction and psychological thrillers)\n"
     ]
    },
    {
     "name": "stdout",
     "output_type": "stream",
     "text": [
      "Progress: 67/200 users generated\n"
     ]
    },
    {
     "name": "stderr",
     "output_type": "stream",
     "text": [
      "2025-08-15 02:04:53,535 - INFO - Generated synthetic user: Andrew Johnson (Intellectual who enjoys complex, philosophical, and theoretical works)\n"
     ]
    },
    {
     "name": "stdout",
     "output_type": "stream",
     "text": [
      "Progress: 68/200 users generated\n"
     ]
    },
    {
     "name": "stderr",
     "output_type": "stream",
     "text": [
      "2025-08-15 02:04:58,930 - INFO - Generated synthetic user: Mary Thomas (Retired teacher who enjoys cozy mysteries and gentle fiction)\n"
     ]
    },
    {
     "name": "stdout",
     "output_type": "stream",
     "text": [
      "Progress: 69/200 users generated\n"
     ]
    },
    {
     "name": "stderr",
     "output_type": "stream",
     "text": [
      "2025-08-15 02:05:04,335 - INFO - Generated synthetic user: Elizabeth Contreras (Working parent seeking practical advice and quick fiction escapes)\n",
      "2025-08-15 02:05:04,336 - INFO - Generated 70/70 users\n"
     ]
    },
    {
     "name": "stdout",
     "output_type": "stream",
     "text": [
      "Progress: 70/200 users generated\n"
     ]
    },
    {
     "name": "stderr",
     "output_type": "stream",
     "text": [
      "2025-08-15 02:05:10,391 - INFO - Generated synthetic user: Sandra Lewis (Environmental activist drawn to nature writing and climate literature)\n"
     ]
    },
    {
     "name": "stdout",
     "output_type": "stream",
     "text": [
      "Progress: 71/200 users generated\n"
     ]
    },
    {
     "name": "stderr",
     "output_type": "stream",
     "text": [
      "2025-08-15 02:05:18,070 - INFO - Generated synthetic user: Leslie Joseph (Religious conservative who prefers faith-based and moral literature)\n"
     ]
    },
    {
     "name": "stdout",
     "output_type": "stream",
     "text": [
      "Progress: 72/200 users generated\n"
     ]
    },
    {
     "name": "stderr",
     "output_type": "stream",
     "text": [
      "2025-08-15 02:05:24,854 - INFO - Generated synthetic user: Jack Reynolds (Musician who reads about music theory, biographies, and culture)\n"
     ]
    },
    {
     "name": "stdout",
     "output_type": "stream",
     "text": [
      "Progress: 73/200 users generated\n"
     ]
    },
    {
     "name": "stderr",
     "output_type": "stream",
     "text": [
      "2025-08-15 02:05:31,696 - INFO - Generated synthetic user: Lisa Peterson (Anxious person seeking comfort in gentle, predictable stories)\n"
     ]
    },
    {
     "name": "stdout",
     "output_type": "stream",
     "text": [
      "Progress: 74/200 users generated\n"
     ]
    },
    {
     "name": "stderr",
     "output_type": "stream",
     "text": [
      "2025-08-15 02:05:37,811 - INFO - Generated synthetic user: Fernando Pacheco (Social justice advocate reading about inequality and activism)\n"
     ]
    },
    {
     "name": "stdout",
     "output_type": "stream",
     "text": [
      "Progress: 75/200 users generated\n"
     ]
    },
    {
     "name": "stderr",
     "output_type": "stream",
     "text": [
      "2025-08-15 02:05:43,597 - INFO - Generated synthetic user: Ryan Mason (Retired teacher who enjoys cozy mysteries and gentle fiction)\n"
     ]
    },
    {
     "name": "stdout",
     "output_type": "stream",
     "text": [
      "Progress: 76/200 users generated\n"
     ]
    },
    {
     "name": "stderr",
     "output_type": "stream",
     "text": [
      "2025-08-15 02:05:49,234 - INFO - Generated synthetic user: Janet Bruce (Art lover reading about creativity, design, and aesthetics)\n"
     ]
    },
    {
     "name": "stdout",
     "output_type": "stream",
     "text": [
      "Progress: 77/200 users generated\n"
     ]
    },
    {
     "name": "stderr",
     "output_type": "stream",
     "text": [
      "2025-08-15 02:05:54,113 - INFO - Generated synthetic user: Benjamin Hardy (Creative writer who devours literary fiction and poetry)\n"
     ]
    },
    {
     "name": "stdout",
     "output_type": "stream",
     "text": [
      "Progress: 78/200 users generated\n"
     ]
    },
    {
     "name": "stderr",
     "output_type": "stream",
     "text": [
      "2025-08-15 02:05:58,824 - INFO - Generated synthetic user: Elizabeth Gentry (Urban professional reading about city life and career advancement)\n"
     ]
    },
    {
     "name": "stdout",
     "output_type": "stream",
     "text": [
      "Progress: 79/200 users generated\n"
     ]
    },
    {
     "name": "stderr",
     "output_type": "stream",
     "text": [
      "2025-08-15 02:06:05,179 - INFO - Generated synthetic user: Bryan Carrillo (Chronic illness warrior seeking medical narratives and inspiration)\n",
      "2025-08-15 02:06:05,180 - INFO - Generated 80/80 users\n"
     ]
    },
    {
     "name": "stdout",
     "output_type": "stream",
     "text": [
      "Progress: 80/200 users generated\n"
     ]
    },
    {
     "name": "stderr",
     "output_type": "stream",
     "text": [
      "2025-08-15 02:06:10,335 - INFO - Generated synthetic user: Joseph Wagner (Intellectual who enjoys complex, philosophical, and theoretical works)\n"
     ]
    },
    {
     "name": "stdout",
     "output_type": "stream",
     "text": [
      "Progress: 81/200 users generated\n"
     ]
    },
    {
     "name": "stderr",
     "output_type": "stream",
     "text": [
      "2025-08-15 02:06:15,139 - INFO - Generated synthetic user: Sydney Moody (Musician who reads about music theory, biographies, and culture)\n"
     ]
    },
    {
     "name": "stdout",
     "output_type": "stream",
     "text": [
      "Progress: 82/200 users generated\n"
     ]
    },
    {
     "name": "stderr",
     "output_type": "stream",
     "text": [
      "2025-08-15 02:06:19,842 - INFO - Generated synthetic user: Carrie Rowland (Nostalgic reader who gravitates toward historical and vintage settings)\n"
     ]
    },
    {
     "name": "stdout",
     "output_type": "stream",
     "text": [
      "Progress: 83/200 users generated\n"
     ]
    },
    {
     "name": "stderr",
     "output_type": "stream",
     "text": [
      "2025-08-15 02:06:24,743 - INFO - Generated synthetic user: John Ward (Risk-taker who enjoys intense, challenging, and provocative books)\n"
     ]
    },
    {
     "name": "stdout",
     "output_type": "stream",
     "text": [
      "Progress: 84/200 users generated\n"
     ]
    },
    {
     "name": "stderr",
     "output_type": "stream",
     "text": [
      "2025-08-15 02:06:29,431 - INFO - Generated synthetic user: James Flores (Curious generalist who reads widely across all genres and topics)\n"
     ]
    },
    {
     "name": "stdout",
     "output_type": "stream",
     "text": [
      "Progress: 85/200 users generated\n"
     ]
    },
    {
     "name": "stderr",
     "output_type": "stream",
     "text": [
      "2025-08-15 02:06:34,522 - INFO - Generated synthetic user: Mariah Morris (Science nerd passionate about physics, biology, and research)\n"
     ]
    },
    {
     "name": "stdout",
     "output_type": "stream",
     "text": [
      "Progress: 86/200 users generated\n"
     ]
    },
    {
     "name": "stderr",
     "output_type": "stream",
     "text": [
      "2025-08-15 02:06:40,133 - INFO - Generated synthetic user: Mackenzie Hansen (Retired teacher who enjoys cozy mysteries and gentle fiction)\n"
     ]
    },
    {
     "name": "stdout",
     "output_type": "stream",
     "text": [
      "Progress: 87/200 users generated\n"
     ]
    },
    {
     "name": "stderr",
     "output_type": "stream",
     "text": [
      "2025-08-15 02:06:46,194 - INFO - Generated synthetic user: Denise Bailey (Psychology student interested in human behavior and self-help)\n"
     ]
    },
    {
     "name": "stdout",
     "output_type": "stream",
     "text": [
      "Progress: 88/200 users generated\n"
     ]
    },
    {
     "name": "stderr",
     "output_type": "stream",
     "text": [
      "2025-08-15 02:06:51,453 - INFO - Generated synthetic user: Ryan Jackson (Specialist who deep-dives into one particular subject or genre)\n"
     ]
    },
    {
     "name": "stdout",
     "output_type": "stream",
     "text": [
      "Progress: 89/200 users generated\n"
     ]
    },
    {
     "name": "stderr",
     "output_type": "stream",
     "text": [
      "2025-08-15 02:06:55,920 - INFO - Generated synthetic user: Bradley Hernandez (Optimist who seeks uplifting, inspirational, and hopeful stories)\n",
      "2025-08-15 02:06:55,922 - INFO - Generated 90/90 users\n"
     ]
    },
    {
     "name": "stdout",
     "output_type": "stream",
     "text": [
      "Progress: 90/200 users generated\n"
     ]
    },
    {
     "name": "stderr",
     "output_type": "stream",
     "text": [
      "2025-08-15 02:07:00,522 - INFO - Generated synthetic user: Hayley Brown (Practical person who prefers how-to guides and actionable advice)\n"
     ]
    },
    {
     "name": "stdout",
     "output_type": "stream",
     "text": [
      "Progress: 91/200 users generated\n"
     ]
    },
    {
     "name": "stderr",
     "output_type": "stream",
     "text": [
      "2025-08-15 02:07:06,448 - INFO - Generated synthetic user: Tiffany Maxwell (Liberal progressive reading about social change and activism)\n"
     ]
    },
    {
     "name": "stdout",
     "output_type": "stream",
     "text": [
      "Progress: 92/200 users generated\n"
     ]
    },
    {
     "name": "stderr",
     "output_type": "stream",
     "text": [
      "2025-08-15 02:07:11,173 - INFO - Generated synthetic user: Whitney Marks (Chef passionate about food culture, recipes, and culinary history)\n"
     ]
    },
    {
     "name": "stdout",
     "output_type": "stream",
     "text": [
      "Progress: 93/200 users generated\n"
     ]
    },
    {
     "name": "stderr",
     "output_type": "stream",
     "text": [
      "2025-08-15 02:07:16,040 - INFO - Generated synthetic user: Krista Gibbs (Minimalist drawn to simplicity, productivity, and intentional living)\n"
     ]
    },
    {
     "name": "stdout",
     "output_type": "stream",
     "text": [
      "Progress: 94/200 users generated\n"
     ]
    },
    {
     "name": "stderr",
     "output_type": "stream",
     "text": [
      "2025-08-15 02:07:21,148 - INFO - Generated synthetic user: Sarah Fernandez (Romance reader who enjoys contemporary and historical love stories)\n"
     ]
    },
    {
     "name": "stdout",
     "output_type": "stream",
     "text": [
      "Progress: 95/200 users generated\n"
     ]
    },
    {
     "name": "stderr",
     "output_type": "stream",
     "text": [
      "2025-08-15 02:07:26,140 - INFO - Generated synthetic user: Jennifer Stevenson (Futurist fascinated by dystopian and speculative fiction)\n"
     ]
    },
    {
     "name": "stdout",
     "output_type": "stream",
     "text": [
      "Progress: 96/200 users generated\n"
     ]
    },
    {
     "name": "stderr",
     "output_type": "stream",
     "text": [
      "2025-08-15 02:07:31,823 - INFO - Generated synthetic user: Maria Fox (Recovering addict finding strength in memoirs and recovery literature)\n"
     ]
    },
    {
     "name": "stdout",
     "output_type": "stream",
     "text": [
      "Progress: 97/200 users generated\n"
     ]
    },
    {
     "name": "stderr",
     "output_type": "stream",
     "text": [
      "2025-08-15 02:07:36,581 - INFO - Generated synthetic user: Jennifer Brown (Academic philosopher who loves ancient wisdom and existential questions)\n"
     ]
    },
    {
     "name": "stdout",
     "output_type": "stream",
     "text": [
      "Progress: 98/200 users generated\n"
     ]
    },
    {
     "name": "stderr",
     "output_type": "stream",
     "text": [
      "2025-08-15 02:07:41,383 - INFO - Generated synthetic user: Kim Miles (Mystery lover addicted to crime fiction and psychological thrillers)\n"
     ]
    },
    {
     "name": "stdout",
     "output_type": "stream",
     "text": [
      "Progress: 99/200 users generated\n"
     ]
    },
    {
     "name": "stderr",
     "output_type": "stream",
     "text": [
      "2025-08-15 02:07:47,446 - INFO - Generated synthetic user: Rebecca Smith (Small town resident who loves community-focused and rural narratives)\n",
      "2025-08-15 02:07:47,447 - INFO - Generated 100/100 users\n"
     ]
    },
    {
     "name": "stdout",
     "output_type": "stream",
     "text": [
      "Progress: 100/200 users generated\n"
     ]
    },
    {
     "name": "stderr",
     "output_type": "stream",
     "text": [
      "2025-08-15 02:07:53,203 - INFO - Generated synthetic user: Theresa Ray (Immigrant reader connecting with stories of displacement and belonging)\n"
     ]
    },
    {
     "name": "stdout",
     "output_type": "stream",
     "text": [
      "Progress: 101/200 users generated\n"
     ]
    },
    {
     "name": "stderr",
     "output_type": "stream",
     "text": [
      "2025-08-15 02:07:58,778 - INFO - Generated synthetic user: Jeffery Young (Curious generalist who reads widely across all genres and topics)\n"
     ]
    },
    {
     "name": "stdout",
     "output_type": "stream",
     "text": [
      "Progress: 102/200 users generated\n"
     ]
    },
    {
     "name": "stderr",
     "output_type": "stream",
     "text": [
      "2025-08-15 02:08:04,267 - INFO - Generated synthetic user: Jeffrey Galvan (Business professional focused on leadership and strategy books)\n"
     ]
    },
    {
     "name": "stdout",
     "output_type": "stream",
     "text": [
      "Progress: 103/200 users generated\n"
     ]
    },
    {
     "name": "stderr",
     "output_type": "stream",
     "text": [
      "2025-08-15 02:08:08,850 - INFO - Generated synthetic user: Stephanie Thomas (Academic philosopher who loves ancient wisdom and existential questions)\n"
     ]
    },
    {
     "name": "stdout",
     "output_type": "stream",
     "text": [
      "Progress: 104/200 users generated\n"
     ]
    },
    {
     "name": "stderr",
     "output_type": "stream",
     "text": [
      "2025-08-15 02:08:13,386 - INFO - Generated synthetic user: Denise Ferguson (Urban professional reading about city life and career advancement)\n"
     ]
    },
    {
     "name": "stdout",
     "output_type": "stream",
     "text": [
      "Progress: 105/200 users generated\n"
     ]
    },
    {
     "name": "stderr",
     "output_type": "stream",
     "text": [
      "2025-08-15 02:08:18,134 - INFO - Generated synthetic user: Logan Gray (Introvert who loves quiet character studies and introspective novels)\n"
     ]
    },
    {
     "name": "stdout",
     "output_type": "stream",
     "text": [
      "Progress: 106/200 users generated\n"
     ]
    },
    {
     "name": "stderr",
     "output_type": "stream",
     "text": [
      "2025-08-15 02:08:23,970 - INFO - Generated synthetic user: Don Jones (Urban professional reading about city life and career advancement)\n"
     ]
    },
    {
     "name": "stdout",
     "output_type": "stream",
     "text": [
      "Progress: 107/200 users generated\n"
     ]
    },
    {
     "name": "stderr",
     "output_type": "stream",
     "text": [
      "2025-08-15 02:08:28,485 - INFO - Generated synthetic user: Brandon Thomas (Introvert who loves quiet character studies and introspective novels)\n"
     ]
    },
    {
     "name": "stdout",
     "output_type": "stream",
     "text": [
      "Progress: 108/200 users generated\n"
     ]
    },
    {
     "name": "stderr",
     "output_type": "stream",
     "text": [
      "2025-08-15 02:08:33,575 - INFO - Generated synthetic user: Nina Wood (Retired teacher who enjoys cozy mysteries and gentle fiction)\n"
     ]
    },
    {
     "name": "stdout",
     "output_type": "stream",
     "text": [
      "Progress: 109/200 users generated\n"
     ]
    },
    {
     "name": "stderr",
     "output_type": "stream",
     "text": [
      "2025-08-15 02:08:40,067 - INFO - Generated synthetic user: Jordan Aguirre (Skeptic drawn to investigative journalism and fact-based narratives)\n",
      "2025-08-15 02:08:40,068 - INFO - Generated 110/110 users\n"
     ]
    },
    {
     "name": "stdout",
     "output_type": "stream",
     "text": [
      "Progress: 110/200 users generated\n"
     ]
    },
    {
     "name": "stderr",
     "output_type": "stream",
     "text": [
      "2025-08-15 02:08:45,546 - INFO - Generated synthetic user: Troy Sullivan (History buff obsessed with biographical accounts and war narratives)\n"
     ]
    },
    {
     "name": "stdout",
     "output_type": "stream",
     "text": [
      "Progress: 111/200 users generated\n"
     ]
    },
    {
     "name": "stderr",
     "output_type": "stream",
     "text": [
      "2025-08-15 02:08:51,899 - INFO - Generated synthetic user: Carol Walker (Health enthusiast focused on nutrition, fitness, and wellness)\n"
     ]
    },
    {
     "name": "stdout",
     "output_type": "stream",
     "text": [
      "Progress: 112/200 users generated\n"
     ]
    },
    {
     "name": "stderr",
     "output_type": "stream",
     "text": [
      "2025-08-15 02:08:57,875 - INFO - Generated synthetic user: Tamara Fuentes (Health enthusiast focused on nutrition, fitness, and wellness)\n"
     ]
    },
    {
     "name": "stdout",
     "output_type": "stream",
     "text": [
      "Progress: 113/200 users generated\n"
     ]
    },
    {
     "name": "stderr",
     "output_type": "stream",
     "text": [
      "2025-08-15 02:09:02,564 - INFO - Generated synthetic user: Jessica Ballard (Fantasy escapist who lives in magical worlds and epic adventures)\n"
     ]
    },
    {
     "name": "stdout",
     "output_type": "stream",
     "text": [
      "Progress: 114/200 users generated\n"
     ]
    },
    {
     "name": "stderr",
     "output_type": "stream",
     "text": [
      "2025-08-15 02:09:07,316 - INFO - Generated synthetic user: Courtney Bernard (College student exploring identity through coming-of-age stories)\n"
     ]
    },
    {
     "name": "stdout",
     "output_type": "stream",
     "text": [
      "Progress: 115/200 users generated\n"
     ]
    },
    {
     "name": "stderr",
     "output_type": "stream",
     "text": [
      "2025-08-15 02:09:12,583 - INFO - Generated synthetic user: Thomas Ortega (Political junkie reading about governance, policy, and current events)\n"
     ]
    },
    {
     "name": "stdout",
     "output_type": "stream",
     "text": [
      "Progress: 116/200 users generated\n"
     ]
    },
    {
     "name": "stderr",
     "output_type": "stream",
     "text": [
      "2025-08-15 02:09:17,375 - INFO - Generated synthetic user: Lucas Robinson (Tech entrepreneur fascinated by science fiction and innovation)\n"
     ]
    },
    {
     "name": "stdout",
     "output_type": "stream",
     "text": [
      "Progress: 117/200 users generated\n"
     ]
    },
    {
     "name": "stderr",
     "output_type": "stream",
     "text": [
      "2025-08-15 02:09:22,156 - INFO - Generated synthetic user: David Church (Empath who connects deeply with emotional and relationship-focused books)\n"
     ]
    },
    {
     "name": "stdout",
     "output_type": "stream",
     "text": [
      "Progress: 118/200 users generated\n"
     ]
    },
    {
     "name": "stderr",
     "output_type": "stream",
     "text": [
      "2025-08-15 02:09:26,988 - INFO - Generated synthetic user: Ariel Hughes (Travel enthusiast who reads memoirs and cultural explorations)\n"
     ]
    },
    {
     "name": "stdout",
     "output_type": "stream",
     "text": [
      "Progress: 119/200 users generated\n"
     ]
    },
    {
     "name": "stderr",
     "output_type": "stream",
     "text": [
      "2025-08-15 02:09:32,387 - INFO - Generated synthetic user: Michael Arnold (Science nerd passionate about physics, biology, and research)\n",
      "2025-08-15 02:09:32,389 - INFO - Generated 120/120 users\n"
     ]
    },
    {
     "name": "stdout",
     "output_type": "stream",
     "text": [
      "Progress: 120/200 users generated\n"
     ]
    },
    {
     "name": "stderr",
     "output_type": "stream",
     "text": [
      "2025-08-15 02:09:36,728 - INFO - Generated synthetic user: Megan Tucker (Specialist who deep-dives into one particular subject or genre)\n"
     ]
    },
    {
     "name": "stdout",
     "output_type": "stream",
     "text": [
      "Progress: 121/200 users generated\n"
     ]
    },
    {
     "name": "stderr",
     "output_type": "stream",
     "text": [
      "2025-08-15 02:09:41,520 - INFO - Generated synthetic user: Tammy Scott (Romance reader who enjoys contemporary and historical love stories)\n"
     ]
    },
    {
     "name": "stdout",
     "output_type": "stream",
     "text": [
      "Progress: 122/200 users generated\n"
     ]
    },
    {
     "name": "stderr",
     "output_type": "stream",
     "text": [
      "2025-08-15 02:09:46,666 - INFO - Generated synthetic user: Kevin Jacobs (Health enthusiast focused on nutrition, fitness, and wellness)\n"
     ]
    },
    {
     "name": "stdout",
     "output_type": "stream",
     "text": [
      "Progress: 123/200 users generated\n"
     ]
    },
    {
     "name": "stderr",
     "output_type": "stream",
     "text": [
      "2025-08-15 02:09:50,747 - INFO - Generated synthetic user: Briana Steele (Mystery lover addicted to crime fiction and psychological thrillers)\n"
     ]
    },
    {
     "name": "stdout",
     "output_type": "stream",
     "text": [
      "Progress: 124/200 users generated\n"
     ]
    },
    {
     "name": "stderr",
     "output_type": "stream",
     "text": [
      "2025-08-15 02:09:56,768 - INFO - Generated synthetic user: Gina Burnett (New parent reading about child-rearing and family dynamics)\n"
     ]
    },
    {
     "name": "stdout",
     "output_type": "stream",
     "text": [
      "Progress: 125/200 users generated\n"
     ]
    },
    {
     "name": "stderr",
     "output_type": "stream",
     "text": [
      "2025-08-15 02:10:01,959 - INFO - Generated synthetic user: Ian Bryant (Risk-taker who enjoys intense, challenging, and provocative books)\n"
     ]
    },
    {
     "name": "stdout",
     "output_type": "stream",
     "text": [
      "Progress: 126/200 users generated\n"
     ]
    },
    {
     "name": "stderr",
     "output_type": "stream",
     "text": [
      "2025-08-15 02:10:08,123 - INFO - Generated synthetic user: Catherine Moore (Political junkie reading about governance, policy, and current events)\n"
     ]
    },
    {
     "name": "stdout",
     "output_type": "stream",
     "text": [
      "Progress: 127/200 users generated\n"
     ]
    },
    {
     "name": "stderr",
     "output_type": "stream",
     "text": [
      "2025-08-15 02:10:13,067 - INFO - Generated synthetic user: Joshua Vazquez (College student exploring identity through coming-of-age stories)\n"
     ]
    },
    {
     "name": "stdout",
     "output_type": "stream",
     "text": [
      "Progress: 128/200 users generated\n"
     ]
    },
    {
     "name": "stderr",
     "output_type": "stream",
     "text": [
      "2025-08-15 02:10:18,591 - INFO - Generated synthetic user: Bryan Davis (Business professional focused on leadership and strategy books)\n"
     ]
    },
    {
     "name": "stdout",
     "output_type": "stream",
     "text": [
      "Progress: 129/200 users generated\n"
     ]
    },
    {
     "name": "stderr",
     "output_type": "stream",
     "text": [
      "2025-08-15 02:10:24,350 - INFO - Generated synthetic user: Jennifer Reed (Small town resident who loves community-focused and rural narratives)\n",
      "2025-08-15 02:10:24,351 - INFO - Generated 130/130 users\n"
     ]
    },
    {
     "name": "stdout",
     "output_type": "stream",
     "text": [
      "Progress: 130/200 users generated\n"
     ]
    },
    {
     "name": "stderr",
     "output_type": "stream",
     "text": [
      "2025-08-15 02:10:29,563 - INFO - Generated synthetic user: Shaun Hawkins (Business professional focused on leadership and strategy books)\n"
     ]
    },
    {
     "name": "stdout",
     "output_type": "stream",
     "text": [
      "Progress: 131/200 users generated\n"
     ]
    },
    {
     "name": "stderr",
     "output_type": "stream",
     "text": [
      "2025-08-15 02:10:35,119 - INFO - Generated synthetic user: Shannon Gardner (Religious conservative who prefers faith-based and moral literature)\n"
     ]
    },
    {
     "name": "stdout",
     "output_type": "stream",
     "text": [
      "Progress: 132/200 users generated\n"
     ]
    },
    {
     "name": "stderr",
     "output_type": "stream",
     "text": [
      "2025-08-15 02:10:39,987 - INFO - Generated synthetic user: Christina Jackson (Nostalgic reader who gravitates toward historical and vintage settings)\n"
     ]
    },
    {
     "name": "stdout",
     "output_type": "stream",
     "text": [
      "Progress: 133/200 users generated\n"
     ]
    },
    {
     "name": "stderr",
     "output_type": "stream",
     "text": [
      "2025-08-15 02:10:44,786 - INFO - Generated synthetic user: Daniel Gutierrez (History buff obsessed with biographical accounts and war narratives)\n"
     ]
    },
    {
     "name": "stdout",
     "output_type": "stream",
     "text": [
      "Progress: 134/200 users generated\n"
     ]
    },
    {
     "name": "stderr",
     "output_type": "stream",
     "text": [
      "2025-08-15 02:10:50,994 - INFO - Generated synthetic user: Deanna Riddle (LGBTQ+ reader exploring queer literature and identity stories)\n"
     ]
    },
    {
     "name": "stdout",
     "output_type": "stream",
     "text": [
      "Progress: 135/200 users generated\n"
     ]
    },
    {
     "name": "stderr",
     "output_type": "stream",
     "text": [
      "2025-08-15 02:10:56,764 - INFO - Generated synthetic user: Isaiah Bush (Educator interested in learning theory and child development)\n"
     ]
    },
    {
     "name": "stdout",
     "output_type": "stream",
     "text": [
      "Progress: 136/200 users generated\n"
     ]
    },
    {
     "name": "stderr",
     "output_type": "stream",
     "text": [
      "2025-08-15 02:11:02,600 - INFO - Generated synthetic user: Andrea Lee (Health enthusiast focused on nutrition, fitness, and wellness)\n"
     ]
    },
    {
     "name": "stdout",
     "output_type": "stream",
     "text": [
      "Progress: 137/200 users generated\n"
     ]
    },
    {
     "name": "stderr",
     "output_type": "stream",
     "text": [
      "2025-08-15 02:11:07,003 - INFO - Generated synthetic user: Kyle Anderson (Empath who connects deeply with emotional and relationship-focused books)\n"
     ]
    },
    {
     "name": "stdout",
     "output_type": "stream",
     "text": [
      "Progress: 138/200 users generated\n"
     ]
    },
    {
     "name": "stderr",
     "output_type": "stream",
     "text": [
      "2025-08-15 02:11:12,814 - INFO - Generated synthetic user: Craig Chen (Social justice advocate reading about inequality and activism)\n"
     ]
    },
    {
     "name": "stdout",
     "output_type": "stream",
     "text": [
      "Progress: 139/200 users generated\n"
     ]
    },
    {
     "name": "stderr",
     "output_type": "stream",
     "text": [
      "2025-08-15 02:11:17,638 - INFO - Generated synthetic user: Phillip Petersen (Optimist who seeks uplifting, inspirational, and hopeful stories)\n",
      "2025-08-15 02:11:17,639 - INFO - Generated 140/140 users\n"
     ]
    },
    {
     "name": "stdout",
     "output_type": "stream",
     "text": [
      "Progress: 140/200 users generated\n"
     ]
    },
    {
     "name": "stderr",
     "output_type": "stream",
     "text": [
      "2025-08-15 02:11:22,244 - INFO - Generated synthetic user: Cindy Bean (College student exploring identity through coming-of-age stories)\n"
     ]
    },
    {
     "name": "stdout",
     "output_type": "stream",
     "text": [
      "Progress: 141/200 users generated\n"
     ]
    },
    {
     "name": "stderr",
     "output_type": "stream",
     "text": [
      "2025-08-15 02:11:28,175 - INFO - Generated synthetic user: Shawn Mitchell (Liberal progressive reading about social change and activism)\n"
     ]
    },
    {
     "name": "stdout",
     "output_type": "stream",
     "text": [
      "Progress: 142/200 users generated\n"
     ]
    },
    {
     "name": "stderr",
     "output_type": "stream",
     "text": [
      "2025-08-15 02:11:34,140 - INFO - Generated synthetic user: Richard Nixon (History buff obsessed with biographical accounts and war narratives)\n"
     ]
    },
    {
     "name": "stdout",
     "output_type": "stream",
     "text": [
      "Progress: 143/200 users generated\n"
     ]
    },
    {
     "name": "stderr",
     "output_type": "stream",
     "text": [
      "2025-08-15 02:11:38,994 - INFO - Generated synthetic user: Jeffrey Alvarez (Creative writer who devours literary fiction and poetry)\n"
     ]
    },
    {
     "name": "stdout",
     "output_type": "stream",
     "text": [
      "Progress: 144/200 users generated\n"
     ]
    },
    {
     "name": "stderr",
     "output_type": "stream",
     "text": [
      "2025-08-15 02:11:44,119 - INFO - Generated synthetic user: Daniel Ware (Extrovert drawn to adventure stories and social narratives)\n"
     ]
    },
    {
     "name": "stdout",
     "output_type": "stream",
     "text": [
      "Progress: 145/200 users generated\n"
     ]
    },
    {
     "name": "stderr",
     "output_type": "stream",
     "text": [
      "2025-08-15 02:11:49,922 - INFO - Generated synthetic user: Stacey Hudson (Art lover reading about creativity, design, and aesthetics)\n"
     ]
    },
    {
     "name": "stdout",
     "output_type": "stream",
     "text": [
      "Progress: 146/200 users generated\n"
     ]
    },
    {
     "name": "stderr",
     "output_type": "stream",
     "text": [
      "2025-08-15 02:11:55,464 - INFO - Generated synthetic user: Amanda Barry PhD (Business professional focused on leadership and strategy books)\n"
     ]
    },
    {
     "name": "stdout",
     "output_type": "stream",
     "text": [
      "Progress: 147/200 users generated\n"
     ]
    },
    {
     "name": "stderr",
     "output_type": "stream",
     "text": [
      "2025-08-15 02:12:00,781 - INFO - Generated synthetic user: Michael Mullen (Anxious person seeking comfort in gentle, predictable stories)\n"
     ]
    },
    {
     "name": "stdout",
     "output_type": "stream",
     "text": [
      "Progress: 148/200 users generated\n"
     ]
    },
    {
     "name": "stderr",
     "output_type": "stream",
     "text": [
      "2025-08-15 02:12:07,564 - INFO - Generated synthetic user: Amber Lopez (Recovering addict finding strength in memoirs and recovery literature)\n"
     ]
    },
    {
     "name": "stdout",
     "output_type": "stream",
     "text": [
      "Progress: 149/200 users generated\n"
     ]
    },
    {
     "name": "stderr",
     "output_type": "stream",
     "text": [
      "2025-08-15 02:12:11,833 - INFO - Generated synthetic user: Noah Webb (Specialist who deep-dives into one particular subject or genre)\n",
      "2025-08-15 02:12:11,834 - INFO - Generated 150/150 users\n"
     ]
    },
    {
     "name": "stdout",
     "output_type": "stream",
     "text": [
      "Progress: 150/200 users generated\n"
     ]
    },
    {
     "name": "stderr",
     "output_type": "stream",
     "text": [
      "2025-08-15 02:12:16,418 - INFO - Generated synthetic user: Darrell Morales (Creative writer who devours literary fiction and poetry)\n"
     ]
    },
    {
     "name": "stdout",
     "output_type": "stream",
     "text": [
      "Progress: 151/200 users generated\n"
     ]
    },
    {
     "name": "stderr",
     "output_type": "stream",
     "text": [
      "2025-08-15 02:12:22,146 - INFO - Generated synthetic user: Christopher Jones (Skeptic drawn to investigative journalism and fact-based narratives)\n"
     ]
    },
    {
     "name": "stdout",
     "output_type": "stream",
     "text": [
      "Progress: 152/200 users generated\n"
     ]
    },
    {
     "name": "stderr",
     "output_type": "stream",
     "text": [
      "2025-08-15 02:12:27,499 - INFO - Generated synthetic user: Karl Richmond (Military veteran interested in war stories and brotherhood tales)\n"
     ]
    },
    {
     "name": "stdout",
     "output_type": "stream",
     "text": [
      "Progress: 153/200 users generated\n"
     ]
    },
    {
     "name": "stderr",
     "output_type": "stream",
     "text": [
      "2025-08-15 02:12:32,225 - INFO - Generated synthetic user: Jeffrey Jackson (Tech entrepreneur fascinated by science fiction and innovation)\n"
     ]
    },
    {
     "name": "stdout",
     "output_type": "stream",
     "text": [
      "Progress: 154/200 users generated\n"
     ]
    },
    {
     "name": "stderr",
     "output_type": "stream",
     "text": [
      "2025-08-15 02:12:37,552 - INFO - Generated synthetic user: Anna Santana (Psychology student interested in human behavior and self-help)\n"
     ]
    },
    {
     "name": "stdout",
     "output_type": "stream",
     "text": [
      "Progress: 155/200 users generated\n"
     ]
    },
    {
     "name": "stderr",
     "output_type": "stream",
     "text": [
      "2025-08-15 02:12:43,291 - INFO - Generated synthetic user: Stephen Mcclure (Working parent seeking practical advice and quick fiction escapes)\n"
     ]
    },
    {
     "name": "stdout",
     "output_type": "stream",
     "text": [
      "Progress: 156/200 users generated\n"
     ]
    },
    {
     "name": "stderr",
     "output_type": "stream",
     "text": [
      "2025-08-15 02:12:47,963 - INFO - Generated synthetic user: Kelsey Valdez (Spiritual seeker exploring religious texts and meditation guides)\n"
     ]
    },
    {
     "name": "stdout",
     "output_type": "stream",
     "text": [
      "Progress: 157/200 users generated\n"
     ]
    },
    {
     "name": "stderr",
     "output_type": "stream",
     "text": [
      "2025-08-15 02:12:52,682 - INFO - Generated synthetic user: Robert Phillips (Immigrant reader connecting with stories of displacement and belonging)\n"
     ]
    },
    {
     "name": "stdout",
     "output_type": "stream",
     "text": [
      "Progress: 158/200 users generated\n"
     ]
    },
    {
     "name": "stderr",
     "output_type": "stream",
     "text": [
      "2025-08-15 02:12:57,399 - INFO - Generated synthetic user: Denise Howard (Pessimist attracted to dark, realistic, and challenging literature)\n"
     ]
    },
    {
     "name": "stdout",
     "output_type": "stream",
     "text": [
      "Progress: 159/200 users generated\n"
     ]
    },
    {
     "name": "stderr",
     "output_type": "stream",
     "text": [
      "2025-08-15 02:13:02,592 - INFO - Generated synthetic user: Jocelyn Nguyen (Dreamer who loves magical realism and imaginative storytelling)\n",
      "2025-08-15 02:13:02,593 - INFO - Generated 160/160 users\n"
     ]
    },
    {
     "name": "stdout",
     "output_type": "stream",
     "text": [
      "Progress: 160/200 users generated\n"
     ]
    },
    {
     "name": "stderr",
     "output_type": "stream",
     "text": [
      "2025-08-15 02:13:07,633 - INFO - Generated synthetic user: Hannah White (Romance reader who enjoys contemporary and historical love stories)\n"
     ]
    },
    {
     "name": "stdout",
     "output_type": "stream",
     "text": [
      "Progress: 161/200 users generated\n"
     ]
    },
    {
     "name": "stderr",
     "output_type": "stream",
     "text": [
      "2025-08-15 02:13:12,922 - INFO - Generated synthetic user: Victoria Cummings (History buff obsessed with biographical accounts and war narratives)\n"
     ]
    },
    {
     "name": "stdout",
     "output_type": "stream",
     "text": [
      "Progress: 162/200 users generated\n"
     ]
    },
    {
     "name": "stderr",
     "output_type": "stream",
     "text": [
      "2025-08-15 02:13:18,348 - INFO - Generated synthetic user: Maurice Evans (Psychology student interested in human behavior and self-help)\n"
     ]
    },
    {
     "name": "stdout",
     "output_type": "stream",
     "text": [
      "Progress: 163/200 users generated\n"
     ]
    },
    {
     "name": "stderr",
     "output_type": "stream",
     "text": [
      "2025-08-15 02:13:23,054 - INFO - Generated synthetic user: Heather Moore (Academic philosopher who loves ancient wisdom and existential questions)\n"
     ]
    },
    {
     "name": "stdout",
     "output_type": "stream",
     "text": [
      "Progress: 164/200 users generated\n"
     ]
    },
    {
     "name": "stderr",
     "output_type": "stream",
     "text": [
      "2025-08-15 02:13:28,710 - INFO - Generated synthetic user: Michael Jones (Military veteran interested in war stories and brotherhood tales)\n"
     ]
    },
    {
     "name": "stdout",
     "output_type": "stream",
     "text": [
      "Progress: 165/200 users generated\n"
     ]
    },
    {
     "name": "stderr",
     "output_type": "stream",
     "text": [
      "2025-08-15 02:13:32,629 - INFO - Generated synthetic user: Christopher Hammond (Risk-taker who enjoys intense, challenging, and provocative books)\n"
     ]
    },
    {
     "name": "stdout",
     "output_type": "stream",
     "text": [
      "Progress: 166/200 users generated\n"
     ]
    },
    {
     "name": "stderr",
     "output_type": "stream",
     "text": [
      "2025-08-15 02:13:37,842 - INFO - Generated synthetic user: Breanna Barr (Introvert who loves quiet character studies and introspective novels)\n"
     ]
    },
    {
     "name": "stdout",
     "output_type": "stream",
     "text": [
      "Progress: 167/200 users generated\n"
     ]
    },
    {
     "name": "stderr",
     "output_type": "stream",
     "text": [
      "2025-08-15 02:13:43,242 - INFO - Generated synthetic user: Oscar Spencer (Small town resident who loves community-focused and rural narratives)\n"
     ]
    },
    {
     "name": "stdout",
     "output_type": "stream",
     "text": [
      "Progress: 168/200 users generated\n"
     ]
    },
    {
     "name": "stderr",
     "output_type": "stream",
     "text": [
      "2025-08-15 02:13:47,657 - INFO - Generated synthetic user: Timothy Summers (Dreamer who loves magical realism and imaginative storytelling)\n"
     ]
    },
    {
     "name": "stdout",
     "output_type": "stream",
     "text": [
      "Progress: 169/200 users generated\n"
     ]
    },
    {
     "name": "stderr",
     "output_type": "stream",
     "text": [
      "2025-08-15 02:13:52,690 - INFO - Generated synthetic user: Holly Wang (Fantasy escapist who lives in magical worlds and epic adventures)\n",
      "2025-08-15 02:13:52,691 - INFO - Generated 170/170 users\n"
     ]
    },
    {
     "name": "stdout",
     "output_type": "stream",
     "text": [
      "Progress: 170/200 users generated\n"
     ]
    },
    {
     "name": "stderr",
     "output_type": "stream",
     "text": [
      "2025-08-15 02:13:58,858 - INFO - Generated synthetic user: Rachel Lucero (Skeptic drawn to investigative journalism and fact-based narratives)\n"
     ]
    },
    {
     "name": "stdout",
     "output_type": "stream",
     "text": [
      "Progress: 171/200 users generated\n"
     ]
    },
    {
     "name": "stderr",
     "output_type": "stream",
     "text": [
      "2025-08-15 02:14:04,749 - INFO - Generated synthetic user: Christina Mason (Travel enthusiast who reads memoirs and cultural explorations)\n"
     ]
    },
    {
     "name": "stdout",
     "output_type": "stream",
     "text": [
      "Progress: 172/200 users generated\n"
     ]
    },
    {
     "name": "stderr",
     "output_type": "stream",
     "text": [
      "2025-08-15 02:14:10,945 - INFO - Generated synthetic user: Debbie Robinson (LGBTQ+ reader exploring queer literature and identity stories)\n"
     ]
    },
    {
     "name": "stdout",
     "output_type": "stream",
     "text": [
      "Progress: 173/200 users generated\n"
     ]
    },
    {
     "name": "stderr",
     "output_type": "stream",
     "text": [
      "2025-08-15 02:14:15,839 - INFO - Generated synthetic user: Christopher Ray (Romance reader who enjoys contemporary and historical love stories)\n"
     ]
    },
    {
     "name": "stdout",
     "output_type": "stream",
     "text": [
      "Progress: 174/200 users generated\n"
     ]
    },
    {
     "name": "stderr",
     "output_type": "stream",
     "text": [
      "2025-08-15 02:14:21,819 - INFO - Generated synthetic user: Thomas Schneider (Musician who reads about music theory, biographies, and culture)\n"
     ]
    },
    {
     "name": "stdout",
     "output_type": "stream",
     "text": [
      "Progress: 175/200 users generated\n"
     ]
    },
    {
     "name": "stderr",
     "output_type": "stream",
     "text": [
      "2025-08-15 02:14:27,144 - INFO - Generated synthetic user: Bruce Hernandez (Dreamer who loves magical realism and imaginative storytelling)\n"
     ]
    },
    {
     "name": "stdout",
     "output_type": "stream",
     "text": [
      "Progress: 176/200 users generated\n"
     ]
    },
    {
     "name": "stderr",
     "output_type": "stream",
     "text": [
      "2025-08-15 02:14:31,603 - INFO - Generated synthetic user: Heather Green (Academic philosopher who loves ancient wisdom and existential questions)\n"
     ]
    },
    {
     "name": "stdout",
     "output_type": "stream",
     "text": [
      "Progress: 177/200 users generated\n"
     ]
    },
    {
     "name": "stderr",
     "output_type": "stream",
     "text": [
      "2025-08-15 02:14:36,817 - INFO - Generated synthetic user: Pamela Rodriguez (Pessimist attracted to dark, realistic, and challenging literature)\n"
     ]
    },
    {
     "name": "stdout",
     "output_type": "stream",
     "text": [
      "Progress: 178/200 users generated\n"
     ]
    },
    {
     "name": "stderr",
     "output_type": "stream",
     "text": [
      "2025-08-15 02:14:41,388 - INFO - Generated synthetic user: Shannon Meyer (Dreamer who loves magical realism and imaginative storytelling)\n"
     ]
    },
    {
     "name": "stdout",
     "output_type": "stream",
     "text": [
      "Progress: 179/200 users generated\n"
     ]
    },
    {
     "name": "stderr",
     "output_type": "stream",
     "text": [
      "2025-08-15 02:14:47,673 - INFO - Generated synthetic user: Theresa Hall (Recovering addict finding strength in memoirs and recovery literature)\n",
      "2025-08-15 02:14:47,674 - INFO - Generated 180/180 users\n"
     ]
    },
    {
     "name": "stdout",
     "output_type": "stream",
     "text": [
      "Progress: 180/200 users generated\n"
     ]
    },
    {
     "name": "stderr",
     "output_type": "stream",
     "text": [
      "2025-08-15 02:14:53,101 - INFO - Generated synthetic user: Holly Thompson (Futurist fascinated by dystopian and speculative fiction)\n"
     ]
    },
    {
     "name": "stdout",
     "output_type": "stream",
     "text": [
      "Progress: 181/200 users generated\n"
     ]
    },
    {
     "name": "stderr",
     "output_type": "stream",
     "text": [
      "2025-08-15 02:14:59,053 - INFO - Generated synthetic user: Lee Velez (Practical person who prefers how-to guides and actionable advice)\n"
     ]
    },
    {
     "name": "stdout",
     "output_type": "stream",
     "text": [
      "Progress: 182/200 users generated\n"
     ]
    },
    {
     "name": "stderr",
     "output_type": "stream",
     "text": [
      "2025-08-15 02:15:05,256 - INFO - Generated synthetic user: Mrs. Mallory Harrington (Environmental activist drawn to nature writing and climate literature)\n"
     ]
    },
    {
     "name": "stdout",
     "output_type": "stream",
     "text": [
      "Progress: 183/200 users generated\n"
     ]
    },
    {
     "name": "stderr",
     "output_type": "stream",
     "text": [
      "2025-08-15 02:15:10,496 - INFO - Generated synthetic user: Carla Smith (Optimist who seeks uplifting, inspirational, and hopeful stories)\n"
     ]
    },
    {
     "name": "stdout",
     "output_type": "stream",
     "text": [
      "Progress: 184/200 users generated\n"
     ]
    },
    {
     "name": "stderr",
     "output_type": "stream",
     "text": [
      "2025-08-15 02:15:15,124 - INFO - Generated synthetic user: Robert Nelson (Curious generalist who reads widely across all genres and topics)\n"
     ]
    },
    {
     "name": "stdout",
     "output_type": "stream",
     "text": [
      "Progress: 185/200 users generated\n"
     ]
    },
    {
     "name": "stderr",
     "output_type": "stream",
     "text": [
      "2025-08-15 02:15:21,171 - INFO - Generated synthetic user: Victoria Reilly (Religious conservative who prefers faith-based and moral literature)\n"
     ]
    },
    {
     "name": "stdout",
     "output_type": "stream",
     "text": [
      "Progress: 186/200 users generated\n"
     ]
    },
    {
     "name": "stderr",
     "output_type": "stream",
     "text": [
      "2025-08-15 02:15:26,232 - INFO - Generated synthetic user: Stephen Brady (Risk-taker who enjoys intense, challenging, and provocative books)\n"
     ]
    },
    {
     "name": "stdout",
     "output_type": "stream",
     "text": [
      "Progress: 187/200 users generated\n"
     ]
    },
    {
     "name": "stderr",
     "output_type": "stream",
     "text": [
      "2025-08-15 02:15:30,580 - INFO - Generated synthetic user: Jamie Blankenship (Futurist fascinated by dystopian and speculative fiction)\n"
     ]
    },
    {
     "name": "stdout",
     "output_type": "stream",
     "text": [
      "Progress: 188/200 users generated\n"
     ]
    },
    {
     "name": "stderr",
     "output_type": "stream",
     "text": [
      "2025-08-15 02:15:35,849 - INFO - Generated synthetic user: Benjamin Owens (Social media influencer reading about marketing and personal branding)\n"
     ]
    },
    {
     "name": "stdout",
     "output_type": "stream",
     "text": [
      "Progress: 189/200 users generated\n"
     ]
    },
    {
     "name": "stderr",
     "output_type": "stream",
     "text": [
      "2025-08-15 02:15:42,619 - INFO - Generated synthetic user: Sonya Scott (New parent reading about child-rearing and family dynamics)\n",
      "2025-08-15 02:15:42,620 - INFO - Generated 190/190 users\n"
     ]
    },
    {
     "name": "stdout",
     "output_type": "stream",
     "text": [
      "Progress: 190/200 users generated\n"
     ]
    },
    {
     "name": "stderr",
     "output_type": "stream",
     "text": [
      "2025-08-15 02:15:47,790 - INFO - Generated synthetic user: Kayla Smith (Psychology student interested in human behavior and self-help)\n"
     ]
    },
    {
     "name": "stdout",
     "output_type": "stream",
     "text": [
      "Progress: 191/200 users generated\n"
     ]
    },
    {
     "name": "stderr",
     "output_type": "stream",
     "text": [
      "2025-08-15 02:15:52,585 - INFO - Generated synthetic user: Ryan Mason (Intellectual who enjoys complex, philosophical, and theoretical works)\n",
      "2025-08-15 02:15:52,586 - WARNING - User with name 'Ryan Mason' already exists in population\n"
     ]
    },
    {
     "name": "stdout",
     "output_type": "stream",
     "text": [
      "Progress: 192/200 users generated\n"
     ]
    },
    {
     "name": "stderr",
     "output_type": "stream",
     "text": [
      "2025-08-15 02:15:58,032 - INFO - Generated synthetic user: Jean Phillips (Educator interested in learning theory and child development)\n"
     ]
    },
    {
     "name": "stdout",
     "output_type": "stream",
     "text": [
      "Progress: 193/200 users generated\n"
     ]
    },
    {
     "name": "stderr",
     "output_type": "stream",
     "text": [
      "2025-08-15 02:16:04,235 - INFO - Generated synthetic user: Kimberly Russell (Political junkie reading about governance, policy, and current events)\n"
     ]
    },
    {
     "name": "stdout",
     "output_type": "stream",
     "text": [
      "Progress: 194/200 users generated\n"
     ]
    },
    {
     "name": "stderr",
     "output_type": "stream",
     "text": [
      "2025-08-15 02:16:09,795 - INFO - Generated synthetic user: Anthony Kent (Social media influencer reading about marketing and personal branding)\n"
     ]
    },
    {
     "name": "stdout",
     "output_type": "stream",
     "text": [
      "Progress: 195/200 users generated\n"
     ]
    },
    {
     "name": "stderr",
     "output_type": "stream",
     "text": [
      "2025-08-15 02:16:14,926 - INFO - Generated synthetic user: Tom Brown (Immigrant reader connecting with stories of displacement and belonging)\n"
     ]
    },
    {
     "name": "stdout",
     "output_type": "stream",
     "text": [
      "Progress: 196/200 users generated\n"
     ]
    },
    {
     "name": "stderr",
     "output_type": "stream",
     "text": [
      "2025-08-15 02:16:20,201 - INFO - Generated synthetic user: Susan Gibson (Spiritual seeker exploring religious texts and meditation guides)\n"
     ]
    },
    {
     "name": "stdout",
     "output_type": "stream",
     "text": [
      "Progress: 197/200 users generated\n"
     ]
    },
    {
     "name": "stderr",
     "output_type": "stream",
     "text": [
      "2025-08-15 02:16:26,194 - INFO - Generated synthetic user: Brianna Chandler (Recovering addict finding strength in memoirs and recovery literature)\n"
     ]
    },
    {
     "name": "stdout",
     "output_type": "stream",
     "text": [
      "Progress: 198/200 users generated\n"
     ]
    },
    {
     "name": "stderr",
     "output_type": "stream",
     "text": [
      "2025-08-15 02:16:31,741 - INFO - Generated synthetic user: Nicole Cooper (Social justice advocate reading about inequality and activism)\n"
     ]
    },
    {
     "name": "stdout",
     "output_type": "stream",
     "text": [
      "Progress: 199/200 users generated\n"
     ]
    },
    {
     "name": "stderr",
     "output_type": "stream",
     "text": [
      "2025-08-15 02:16:37,448 - INFO - Generated synthetic user: Catherine Dunn (Working parent seeking practical advice and quick fiction escapes)\n",
      "2025-08-15 02:16:37,449 - INFO - Generated 200/200 users\n",
      "2025-08-15 02:16:37,449 - INFO - Successfully generated 200/200 users\n"
     ]
    },
    {
     "name": "stdout",
     "output_type": "stream",
     "text": [
      "Progress: 200/200 users generated\n",
      "\n",
      "✅ Generated population: Population(name='Generated Population (200 users)', users=200)\n",
      "\n",
      "📊 Population Statistics:\n",
      "  total_users: 200\n",
      "  special_users: 0\n",
      "  regular_users: 200\n",
      "  users_with_embeddings: 0\n",
      "  users_with_taste_profiles: 0\n",
      "  total_books_rated: 4000\n",
      "  avg_books_per_user: 20.0\n",
      "  embedding_dimension: None\n",
      "  avg_rating: 4.337325000000001\n",
      "  min_rating: 1.0\n",
      "  max_rating: 5.0\n",
      "  rating_std: 0.5755383083470639\n"
     ]
    }
   ],
   "source": [
    "# Generate a small population of synthetic users\n",
    "print(\"🏭 Generating a population of 10 synthetic users...\")\n",
    "\n",
    "def progress_callback(current, total):\n",
    "    print(f\"Progress: {current}/{total} users generated\")\n",
    "\n",
    "synthetic_population = profile_gen.generate_population(size=200, progress_callback=progress_callback)\n",
    "\n",
    "print(f\"\\n✅ Generated population: {synthetic_population}\")\n",
    "print(f\"\\n📊 Population Statistics:\")\n",
    "stats = synthetic_population.get_statistics()\n",
    "for key, value in stats.items():\n",
    "    print(f\"  {key}: {value}\")"
   ]
  },
  {
   "cell_type": "code",
   "execution_count": 13,
   "metadata": {},
   "outputs": [
    {
     "name": "stderr",
     "output_type": "stream",
     "text": [
      "2025-08-15 02:16:37,490 - INFO - Generating taste profiles for 200 users\n"
     ]
    },
    {
     "name": "stdout",
     "output_type": "stream",
     "text": [
      "🧠 Generating taste profiles for the population...\n"
     ]
    },
    {
     "name": "stderr",
     "output_type": "stream",
     "text": [
      "2025-08-15 02:16:40,961 - INFO - Generated taste profile for Travis Williams\n"
     ]
    },
    {
     "name": "stdout",
     "output_type": "stream",
     "text": [
      "Progress: 1/200 users generated\n"
     ]
    },
    {
     "name": "stderr",
     "output_type": "stream",
     "text": [
      "2025-08-15 02:16:44,137 - INFO - Generated taste profile for James Carroll\n"
     ]
    },
    {
     "name": "stdout",
     "output_type": "stream",
     "text": [
      "Progress: 2/200 users generated\n"
     ]
    },
    {
     "name": "stderr",
     "output_type": "stream",
     "text": [
      "2025-08-15 02:16:47,184 - INFO - Generated taste profile for Denise Parker\n"
     ]
    },
    {
     "name": "stdout",
     "output_type": "stream",
     "text": [
      "Progress: 3/200 users generated\n"
     ]
    },
    {
     "name": "stderr",
     "output_type": "stream",
     "text": [
      "2025-08-15 02:16:49,891 - INFO - Generated taste profile for Thomas Lee\n"
     ]
    },
    {
     "name": "stdout",
     "output_type": "stream",
     "text": [
      "Progress: 4/200 users generated\n"
     ]
    },
    {
     "name": "stderr",
     "output_type": "stream",
     "text": [
      "2025-08-15 02:16:52,364 - INFO - Generated taste profile for Alicia Padilla\n"
     ]
    },
    {
     "name": "stdout",
     "output_type": "stream",
     "text": [
      "Progress: 5/200 users generated\n"
     ]
    },
    {
     "name": "stderr",
     "output_type": "stream",
     "text": [
      "2025-08-15 02:16:55,416 - INFO - Generated taste profile for Andrea Gomez\n"
     ]
    },
    {
     "name": "stdout",
     "output_type": "stream",
     "text": [
      "Progress: 6/200 users generated\n"
     ]
    },
    {
     "name": "stderr",
     "output_type": "stream",
     "text": [
      "2025-08-15 02:16:58,739 - INFO - Generated taste profile for Regina Holmes\n"
     ]
    },
    {
     "name": "stdout",
     "output_type": "stream",
     "text": [
      "Progress: 7/200 users generated\n"
     ]
    },
    {
     "name": "stderr",
     "output_type": "stream",
     "text": [
      "2025-08-15 02:17:01,130 - INFO - Generated taste profile for Ashley Howell\n"
     ]
    },
    {
     "name": "stdout",
     "output_type": "stream",
     "text": [
      "Progress: 8/200 users generated\n"
     ]
    },
    {
     "name": "stderr",
     "output_type": "stream",
     "text": [
      "2025-08-15 02:17:03,635 - INFO - Generated taste profile for Stacey Harrison\n"
     ]
    },
    {
     "name": "stdout",
     "output_type": "stream",
     "text": [
      "Progress: 9/200 users generated\n"
     ]
    },
    {
     "name": "stderr",
     "output_type": "stream",
     "text": [
      "2025-08-15 02:17:06,337 - INFO - Generated taste profile for Edward Hudson\n"
     ]
    },
    {
     "name": "stdout",
     "output_type": "stream",
     "text": [
      "Progress: 10/200 users generated\n"
     ]
    },
    {
     "name": "stderr",
     "output_type": "stream",
     "text": [
      "2025-08-15 02:17:09,174 - INFO - Generated taste profile for Edwin Allison\n"
     ]
    },
    {
     "name": "stdout",
     "output_type": "stream",
     "text": [
      "Progress: 11/200 users generated\n"
     ]
    },
    {
     "name": "stderr",
     "output_type": "stream",
     "text": [
      "2025-08-15 02:17:11,450 - INFO - Generated taste profile for Jason Miller\n"
     ]
    },
    {
     "name": "stdout",
     "output_type": "stream",
     "text": [
      "Progress: 12/200 users generated\n"
     ]
    },
    {
     "name": "stderr",
     "output_type": "stream",
     "text": [
      "2025-08-15 02:17:14,720 - INFO - Generated taste profile for Brittany Johnson\n"
     ]
    },
    {
     "name": "stdout",
     "output_type": "stream",
     "text": [
      "Progress: 13/200 users generated\n"
     ]
    },
    {
     "name": "stderr",
     "output_type": "stream",
     "text": [
      "2025-08-15 02:17:17,088 - INFO - Generated taste profile for Javier Johnson\n"
     ]
    },
    {
     "name": "stdout",
     "output_type": "stream",
     "text": [
      "Progress: 14/200 users generated\n"
     ]
    },
    {
     "name": "stderr",
     "output_type": "stream",
     "text": [
      "2025-08-15 02:17:20,054 - INFO - Generated taste profile for Lisa Wilson\n"
     ]
    },
    {
     "name": "stdout",
     "output_type": "stream",
     "text": [
      "Progress: 15/200 users generated\n"
     ]
    },
    {
     "name": "stderr",
     "output_type": "stream",
     "text": [
      "2025-08-15 02:17:22,618 - INFO - Generated taste profile for Brian Robinson\n"
     ]
    },
    {
     "name": "stdout",
     "output_type": "stream",
     "text": [
      "Progress: 16/200 users generated\n"
     ]
    },
    {
     "name": "stderr",
     "output_type": "stream",
     "text": [
      "2025-08-15 02:17:26,011 - INFO - Generated taste profile for Kendra Nguyen\n"
     ]
    },
    {
     "name": "stdout",
     "output_type": "stream",
     "text": [
      "Progress: 17/200 users generated\n"
     ]
    },
    {
     "name": "stderr",
     "output_type": "stream",
     "text": [
      "2025-08-15 02:17:28,684 - INFO - Generated taste profile for Charles Aguirre\n"
     ]
    },
    {
     "name": "stdout",
     "output_type": "stream",
     "text": [
      "Progress: 18/200 users generated\n"
     ]
    },
    {
     "name": "stderr",
     "output_type": "stream",
     "text": [
      "2025-08-15 02:17:31,507 - INFO - Generated taste profile for John Johnson\n"
     ]
    },
    {
     "name": "stdout",
     "output_type": "stream",
     "text": [
      "Progress: 19/200 users generated\n"
     ]
    },
    {
     "name": "stderr",
     "output_type": "stream",
     "text": [
      "2025-08-15 02:17:34,145 - INFO - Generated taste profile for Jennifer Kennedy\n"
     ]
    },
    {
     "name": "stdout",
     "output_type": "stream",
     "text": [
      "Progress: 20/200 users generated\n"
     ]
    },
    {
     "name": "stderr",
     "output_type": "stream",
     "text": [
      "2025-08-15 02:17:36,687 - INFO - Generated taste profile for Tammy Patel\n"
     ]
    },
    {
     "name": "stdout",
     "output_type": "stream",
     "text": [
      "Progress: 21/200 users generated\n"
     ]
    },
    {
     "name": "stderr",
     "output_type": "stream",
     "text": [
      "2025-08-15 02:17:39,928 - INFO - Generated taste profile for John Baker\n"
     ]
    },
    {
     "name": "stdout",
     "output_type": "stream",
     "text": [
      "Progress: 22/200 users generated\n"
     ]
    },
    {
     "name": "stderr",
     "output_type": "stream",
     "text": [
      "2025-08-15 02:17:42,284 - INFO - Generated taste profile for Justin Vargas\n"
     ]
    },
    {
     "name": "stdout",
     "output_type": "stream",
     "text": [
      "Progress: 23/200 users generated\n"
     ]
    },
    {
     "name": "stderr",
     "output_type": "stream",
     "text": [
      "2025-08-15 02:17:45,539 - INFO - Generated taste profile for Scott Dennis\n"
     ]
    },
    {
     "name": "stdout",
     "output_type": "stream",
     "text": [
      "Progress: 24/200 users generated\n"
     ]
    },
    {
     "name": "stderr",
     "output_type": "stream",
     "text": [
      "2025-08-15 02:17:48,349 - INFO - Generated taste profile for William Miles\n"
     ]
    },
    {
     "name": "stdout",
     "output_type": "stream",
     "text": [
      "Progress: 25/200 users generated\n"
     ]
    },
    {
     "name": "stderr",
     "output_type": "stream",
     "text": [
      "2025-08-15 02:17:50,962 - INFO - Generated taste profile for Lance Taylor\n"
     ]
    },
    {
     "name": "stdout",
     "output_type": "stream",
     "text": [
      "Progress: 26/200 users generated\n"
     ]
    },
    {
     "name": "stderr",
     "output_type": "stream",
     "text": [
      "2025-08-15 02:17:53,668 - INFO - Generated taste profile for Allison Martinez\n"
     ]
    },
    {
     "name": "stdout",
     "output_type": "stream",
     "text": [
      "Progress: 27/200 users generated\n"
     ]
    },
    {
     "name": "stderr",
     "output_type": "stream",
     "text": [
      "2025-08-15 02:17:56,628 - INFO - Generated taste profile for George Williams\n"
     ]
    },
    {
     "name": "stdout",
     "output_type": "stream",
     "text": [
      "Progress: 28/200 users generated\n"
     ]
    },
    {
     "name": "stderr",
     "output_type": "stream",
     "text": [
      "2025-08-15 02:17:59,134 - INFO - Generated taste profile for Julia Reeves\n"
     ]
    },
    {
     "name": "stdout",
     "output_type": "stream",
     "text": [
      "Progress: 29/200 users generated\n"
     ]
    },
    {
     "name": "stderr",
     "output_type": "stream",
     "text": [
      "2025-08-15 02:18:02,046 - INFO - Generated taste profile for Zoe Rodriguez\n"
     ]
    },
    {
     "name": "stdout",
     "output_type": "stream",
     "text": [
      "Progress: 30/200 users generated\n"
     ]
    },
    {
     "name": "stderr",
     "output_type": "stream",
     "text": [
      "2025-08-15 02:18:05,011 - INFO - Generated taste profile for Gwendolyn Wang\n"
     ]
    },
    {
     "name": "stdout",
     "output_type": "stream",
     "text": [
      "Progress: 31/200 users generated\n"
     ]
    },
    {
     "name": "stderr",
     "output_type": "stream",
     "text": [
      "2025-08-15 02:18:07,805 - INFO - Generated taste profile for Kevin Boyd\n"
     ]
    },
    {
     "name": "stdout",
     "output_type": "stream",
     "text": [
      "Progress: 32/200 users generated\n"
     ]
    },
    {
     "name": "stderr",
     "output_type": "stream",
     "text": [
      "2025-08-15 02:18:11,067 - INFO - Generated taste profile for Amanda Reynolds\n"
     ]
    },
    {
     "name": "stdout",
     "output_type": "stream",
     "text": [
      "Progress: 33/200 users generated\n"
     ]
    },
    {
     "name": "stderr",
     "output_type": "stream",
     "text": [
      "2025-08-15 02:18:13,835 - INFO - Generated taste profile for Ashley Taylor\n"
     ]
    },
    {
     "name": "stdout",
     "output_type": "stream",
     "text": [
      "Progress: 34/200 users generated\n"
     ]
    },
    {
     "name": "stderr",
     "output_type": "stream",
     "text": [
      "2025-08-15 02:18:16,444 - INFO - Generated taste profile for Dawn Waters\n"
     ]
    },
    {
     "name": "stdout",
     "output_type": "stream",
     "text": [
      "Progress: 35/200 users generated\n"
     ]
    },
    {
     "name": "stderr",
     "output_type": "stream",
     "text": [
      "2025-08-15 02:18:19,329 - INFO - Generated taste profile for Ashley Hanna\n"
     ]
    },
    {
     "name": "stdout",
     "output_type": "stream",
     "text": [
      "Progress: 36/200 users generated\n"
     ]
    },
    {
     "name": "stderr",
     "output_type": "stream",
     "text": [
      "2025-08-15 02:18:22,406 - INFO - Generated taste profile for Richard Holloway Jr.\n"
     ]
    },
    {
     "name": "stdout",
     "output_type": "stream",
     "text": [
      "Progress: 37/200 users generated\n"
     ]
    },
    {
     "name": "stderr",
     "output_type": "stream",
     "text": [
      "2025-08-15 02:18:24,747 - INFO - Generated taste profile for Jeffery Campbell\n"
     ]
    },
    {
     "name": "stdout",
     "output_type": "stream",
     "text": [
      "Progress: 38/200 users generated\n"
     ]
    },
    {
     "name": "stderr",
     "output_type": "stream",
     "text": [
      "2025-08-15 02:18:27,890 - INFO - Generated taste profile for Daniel Smith\n"
     ]
    },
    {
     "name": "stdout",
     "output_type": "stream",
     "text": [
      "Progress: 39/200 users generated\n"
     ]
    },
    {
     "name": "stderr",
     "output_type": "stream",
     "text": [
      "2025-08-15 02:18:30,871 - INFO - Generated taste profile for Patrick Walter\n"
     ]
    },
    {
     "name": "stdout",
     "output_type": "stream",
     "text": [
      "Progress: 40/200 users generated\n"
     ]
    },
    {
     "name": "stderr",
     "output_type": "stream",
     "text": [
      "2025-08-15 02:18:33,929 - INFO - Generated taste profile for Sherry Myers\n"
     ]
    },
    {
     "name": "stdout",
     "output_type": "stream",
     "text": [
      "Progress: 41/200 users generated\n"
     ]
    },
    {
     "name": "stderr",
     "output_type": "stream",
     "text": [
      "2025-08-15 02:18:36,931 - INFO - Generated taste profile for Nicholas Wilson\n"
     ]
    },
    {
     "name": "stdout",
     "output_type": "stream",
     "text": [
      "Progress: 42/200 users generated\n"
     ]
    },
    {
     "name": "stderr",
     "output_type": "stream",
     "text": [
      "2025-08-15 02:18:39,825 - INFO - Generated taste profile for Kara Scott\n"
     ]
    },
    {
     "name": "stdout",
     "output_type": "stream",
     "text": [
      "Progress: 43/200 users generated\n"
     ]
    },
    {
     "name": "stderr",
     "output_type": "stream",
     "text": [
      "2025-08-15 02:18:42,492 - INFO - Generated taste profile for Priscilla Kim\n"
     ]
    },
    {
     "name": "stdout",
     "output_type": "stream",
     "text": [
      "Progress: 44/200 users generated\n"
     ]
    },
    {
     "name": "stderr",
     "output_type": "stream",
     "text": [
      "2025-08-15 02:18:45,344 - INFO - Generated taste profile for Robert Gonzalez\n"
     ]
    },
    {
     "name": "stdout",
     "output_type": "stream",
     "text": [
      "Progress: 45/200 users generated\n"
     ]
    },
    {
     "name": "stderr",
     "output_type": "stream",
     "text": [
      "2025-08-15 02:18:48,368 - INFO - Generated taste profile for Carol Butler\n"
     ]
    },
    {
     "name": "stdout",
     "output_type": "stream",
     "text": [
      "Progress: 46/200 users generated\n"
     ]
    },
    {
     "name": "stderr",
     "output_type": "stream",
     "text": [
      "2025-08-15 02:18:51,636 - INFO - Generated taste profile for Mark Medina\n"
     ]
    },
    {
     "name": "stdout",
     "output_type": "stream",
     "text": [
      "Progress: 47/200 users generated\n"
     ]
    },
    {
     "name": "stderr",
     "output_type": "stream",
     "text": [
      "2025-08-15 02:18:54,871 - INFO - Generated taste profile for Gabrielle Campbell\n"
     ]
    },
    {
     "name": "stdout",
     "output_type": "stream",
     "text": [
      "Progress: 48/200 users generated\n"
     ]
    },
    {
     "name": "stderr",
     "output_type": "stream",
     "text": [
      "2025-08-15 02:18:57,462 - INFO - Generated taste profile for Ralph Ruiz\n"
     ]
    },
    {
     "name": "stdout",
     "output_type": "stream",
     "text": [
      "Progress: 49/200 users generated\n"
     ]
    },
    {
     "name": "stderr",
     "output_type": "stream",
     "text": [
      "2025-08-15 02:19:00,588 - INFO - Generated taste profile for Tiffany Ellis\n"
     ]
    },
    {
     "name": "stdout",
     "output_type": "stream",
     "text": [
      "Progress: 50/200 users generated\n"
     ]
    },
    {
     "name": "stderr",
     "output_type": "stream",
     "text": [
      "2025-08-15 02:19:03,394 - INFO - Generated taste profile for Cassandra Collins\n"
     ]
    },
    {
     "name": "stdout",
     "output_type": "stream",
     "text": [
      "Progress: 51/200 users generated\n"
     ]
    },
    {
     "name": "stderr",
     "output_type": "stream",
     "text": [
      "2025-08-15 02:19:06,401 - INFO - Generated taste profile for Kimberly Huang\n"
     ]
    },
    {
     "name": "stdout",
     "output_type": "stream",
     "text": [
      "Progress: 52/200 users generated\n"
     ]
    },
    {
     "name": "stderr",
     "output_type": "stream",
     "text": [
      "2025-08-15 02:19:10,066 - INFO - Generated taste profile for Joseph Martinez\n"
     ]
    },
    {
     "name": "stdout",
     "output_type": "stream",
     "text": [
      "Progress: 53/200 users generated\n"
     ]
    },
    {
     "name": "stderr",
     "output_type": "stream",
     "text": [
      "2025-08-15 02:19:13,616 - INFO - Generated taste profile for Lori Coleman\n"
     ]
    },
    {
     "name": "stdout",
     "output_type": "stream",
     "text": [
      "Progress: 54/200 users generated\n"
     ]
    },
    {
     "name": "stderr",
     "output_type": "stream",
     "text": [
      "2025-08-15 02:19:16,512 - INFO - Generated taste profile for Derrick Hensley\n"
     ]
    },
    {
     "name": "stdout",
     "output_type": "stream",
     "text": [
      "Progress: 55/200 users generated\n"
     ]
    },
    {
     "name": "stderr",
     "output_type": "stream",
     "text": [
      "2025-08-15 02:19:19,669 - INFO - Generated taste profile for Sean Brown\n"
     ]
    },
    {
     "name": "stdout",
     "output_type": "stream",
     "text": [
      "Progress: 56/200 users generated\n"
     ]
    },
    {
     "name": "stderr",
     "output_type": "stream",
     "text": [
      "2025-08-15 02:19:23,211 - INFO - Generated taste profile for Stephanie Ruiz\n"
     ]
    },
    {
     "name": "stdout",
     "output_type": "stream",
     "text": [
      "Progress: 57/200 users generated\n"
     ]
    },
    {
     "name": "stderr",
     "output_type": "stream",
     "text": [
      "2025-08-15 02:19:26,701 - INFO - Generated taste profile for Christopher Walsh\n"
     ]
    },
    {
     "name": "stdout",
     "output_type": "stream",
     "text": [
      "Progress: 58/200 users generated\n"
     ]
    },
    {
     "name": "stderr",
     "output_type": "stream",
     "text": [
      "2025-08-15 02:19:29,790 - INFO - Generated taste profile for Jeremy Ortiz\n"
     ]
    },
    {
     "name": "stdout",
     "output_type": "stream",
     "text": [
      "Progress: 59/200 users generated\n"
     ]
    },
    {
     "name": "stderr",
     "output_type": "stream",
     "text": [
      "2025-08-15 02:19:32,221 - INFO - Generated taste profile for Melanie Garrett\n"
     ]
    },
    {
     "name": "stdout",
     "output_type": "stream",
     "text": [
      "Progress: 60/200 users generated\n"
     ]
    },
    {
     "name": "stderr",
     "output_type": "stream",
     "text": [
      "2025-08-15 02:19:35,393 - INFO - Generated taste profile for Christina Whitaker\n"
     ]
    },
    {
     "name": "stdout",
     "output_type": "stream",
     "text": [
      "Progress: 61/200 users generated\n"
     ]
    },
    {
     "name": "stderr",
     "output_type": "stream",
     "text": [
      "2025-08-15 02:19:38,429 - INFO - Generated taste profile for Mr. Darren Mccann II\n"
     ]
    },
    {
     "name": "stdout",
     "output_type": "stream",
     "text": [
      "Progress: 62/200 users generated\n"
     ]
    },
    {
     "name": "stderr",
     "output_type": "stream",
     "text": [
      "2025-08-15 02:19:42,635 - INFO - Generated taste profile for George Taylor\n"
     ]
    },
    {
     "name": "stdout",
     "output_type": "stream",
     "text": [
      "Progress: 63/200 users generated\n"
     ]
    },
    {
     "name": "stderr",
     "output_type": "stream",
     "text": [
      "2025-08-15 02:19:46,316 - INFO - Generated taste profile for Jenna Drake\n"
     ]
    },
    {
     "name": "stdout",
     "output_type": "stream",
     "text": [
      "Progress: 64/200 users generated\n"
     ]
    },
    {
     "name": "stderr",
     "output_type": "stream",
     "text": [
      "2025-08-15 02:19:50,337 - INFO - Generated taste profile for Ann Ashley\n"
     ]
    },
    {
     "name": "stdout",
     "output_type": "stream",
     "text": [
      "Progress: 65/200 users generated\n"
     ]
    },
    {
     "name": "stderr",
     "output_type": "stream",
     "text": [
      "2025-08-15 02:19:52,790 - INFO - Generated taste profile for Raymond Jones\n"
     ]
    },
    {
     "name": "stdout",
     "output_type": "stream",
     "text": [
      "Progress: 66/200 users generated\n"
     ]
    },
    {
     "name": "stderr",
     "output_type": "stream",
     "text": [
      "2025-08-15 02:19:55,753 - INFO - Generated taste profile for Mary Glenn\n"
     ]
    },
    {
     "name": "stdout",
     "output_type": "stream",
     "text": [
      "Progress: 67/200 users generated\n"
     ]
    },
    {
     "name": "stderr",
     "output_type": "stream",
     "text": [
      "2025-08-15 02:19:59,298 - INFO - Generated taste profile for Andrew Johnson\n"
     ]
    },
    {
     "name": "stdout",
     "output_type": "stream",
     "text": [
      "Progress: 68/200 users generated\n"
     ]
    },
    {
     "name": "stderr",
     "output_type": "stream",
     "text": [
      "2025-08-15 02:20:01,702 - INFO - Generated taste profile for Mary Thomas\n"
     ]
    },
    {
     "name": "stdout",
     "output_type": "stream",
     "text": [
      "Progress: 69/200 users generated\n"
     ]
    },
    {
     "name": "stderr",
     "output_type": "stream",
     "text": [
      "2025-08-15 02:20:04,731 - INFO - Generated taste profile for Elizabeth Contreras\n"
     ]
    },
    {
     "name": "stdout",
     "output_type": "stream",
     "text": [
      "Progress: 70/200 users generated\n"
     ]
    },
    {
     "name": "stderr",
     "output_type": "stream",
     "text": [
      "2025-08-15 02:20:07,711 - INFO - Generated taste profile for Sandra Lewis\n"
     ]
    },
    {
     "name": "stdout",
     "output_type": "stream",
     "text": [
      "Progress: 71/200 users generated\n"
     ]
    },
    {
     "name": "stderr",
     "output_type": "stream",
     "text": [
      "2025-08-15 02:20:11,129 - INFO - Generated taste profile for Leslie Joseph\n"
     ]
    },
    {
     "name": "stdout",
     "output_type": "stream",
     "text": [
      "Progress: 72/200 users generated\n"
     ]
    },
    {
     "name": "stderr",
     "output_type": "stream",
     "text": [
      "2025-08-15 02:20:13,855 - INFO - Generated taste profile for Jack Reynolds\n"
     ]
    },
    {
     "name": "stdout",
     "output_type": "stream",
     "text": [
      "Progress: 73/200 users generated\n"
     ]
    },
    {
     "name": "stderr",
     "output_type": "stream",
     "text": [
      "2025-08-15 02:20:17,107 - INFO - Generated taste profile for Lisa Peterson\n"
     ]
    },
    {
     "name": "stdout",
     "output_type": "stream",
     "text": [
      "Progress: 74/200 users generated\n"
     ]
    },
    {
     "name": "stderr",
     "output_type": "stream",
     "text": [
      "2025-08-15 02:20:19,590 - INFO - Generated taste profile for Fernando Pacheco\n"
     ]
    },
    {
     "name": "stdout",
     "output_type": "stream",
     "text": [
      "Progress: 75/200 users generated\n"
     ]
    },
    {
     "name": "stderr",
     "output_type": "stream",
     "text": [
      "2025-08-15 02:20:22,876 - INFO - Generated taste profile for Ryan Mason\n"
     ]
    },
    {
     "name": "stdout",
     "output_type": "stream",
     "text": [
      "Progress: 76/200 users generated\n"
     ]
    },
    {
     "name": "stderr",
     "output_type": "stream",
     "text": [
      "2025-08-15 02:20:25,889 - INFO - Generated taste profile for Janet Bruce\n"
     ]
    },
    {
     "name": "stdout",
     "output_type": "stream",
     "text": [
      "Progress: 77/200 users generated\n"
     ]
    },
    {
     "name": "stderr",
     "output_type": "stream",
     "text": [
      "2025-08-15 02:20:29,285 - INFO - Generated taste profile for Benjamin Hardy\n"
     ]
    },
    {
     "name": "stdout",
     "output_type": "stream",
     "text": [
      "Progress: 78/200 users generated\n"
     ]
    },
    {
     "name": "stderr",
     "output_type": "stream",
     "text": [
      "2025-08-15 02:20:32,022 - INFO - Generated taste profile for Elizabeth Gentry\n"
     ]
    },
    {
     "name": "stdout",
     "output_type": "stream",
     "text": [
      "Progress: 79/200 users generated\n"
     ]
    },
    {
     "name": "stderr",
     "output_type": "stream",
     "text": [
      "2025-08-15 02:20:35,526 - INFO - Generated taste profile for Bryan Carrillo\n"
     ]
    },
    {
     "name": "stdout",
     "output_type": "stream",
     "text": [
      "Progress: 80/200 users generated\n"
     ]
    },
    {
     "name": "stderr",
     "output_type": "stream",
     "text": [
      "2025-08-15 02:20:38,573 - INFO - Generated taste profile for Joseph Wagner\n"
     ]
    },
    {
     "name": "stdout",
     "output_type": "stream",
     "text": [
      "Progress: 81/200 users generated\n"
     ]
    },
    {
     "name": "stderr",
     "output_type": "stream",
     "text": [
      "2025-08-15 02:20:42,097 - INFO - Generated taste profile for Sydney Moody\n"
     ]
    },
    {
     "name": "stdout",
     "output_type": "stream",
     "text": [
      "Progress: 82/200 users generated\n"
     ]
    },
    {
     "name": "stderr",
     "output_type": "stream",
     "text": [
      "2025-08-15 02:20:44,602 - INFO - Generated taste profile for Carrie Rowland\n"
     ]
    },
    {
     "name": "stdout",
     "output_type": "stream",
     "text": [
      "Progress: 83/200 users generated\n"
     ]
    },
    {
     "name": "stderr",
     "output_type": "stream",
     "text": [
      "2025-08-15 02:20:47,108 - INFO - Generated taste profile for John Ward\n"
     ]
    },
    {
     "name": "stdout",
     "output_type": "stream",
     "text": [
      "Progress: 84/200 users generated\n"
     ]
    },
    {
     "name": "stderr",
     "output_type": "stream",
     "text": [
      "2025-08-15 02:20:50,151 - INFO - Generated taste profile for James Flores\n"
     ]
    },
    {
     "name": "stdout",
     "output_type": "stream",
     "text": [
      "Progress: 85/200 users generated\n"
     ]
    },
    {
     "name": "stderr",
     "output_type": "stream",
     "text": [
      "2025-08-15 02:20:53,251 - INFO - Generated taste profile for Mariah Morris\n"
     ]
    },
    {
     "name": "stdout",
     "output_type": "stream",
     "text": [
      "Progress: 86/200 users generated\n"
     ]
    },
    {
     "name": "stderr",
     "output_type": "stream",
     "text": [
      "2025-08-15 02:20:56,186 - INFO - Generated taste profile for Mackenzie Hansen\n"
     ]
    },
    {
     "name": "stdout",
     "output_type": "stream",
     "text": [
      "Progress: 87/200 users generated\n"
     ]
    },
    {
     "name": "stderr",
     "output_type": "stream",
     "text": [
      "2025-08-15 02:20:59,143 - INFO - Generated taste profile for Denise Bailey\n"
     ]
    },
    {
     "name": "stdout",
     "output_type": "stream",
     "text": [
      "Progress: 88/200 users generated\n"
     ]
    },
    {
     "name": "stderr",
     "output_type": "stream",
     "text": [
      "2025-08-15 02:21:02,164 - INFO - Generated taste profile for Ryan Jackson\n"
     ]
    },
    {
     "name": "stdout",
     "output_type": "stream",
     "text": [
      "Progress: 89/200 users generated\n"
     ]
    },
    {
     "name": "stderr",
     "output_type": "stream",
     "text": [
      "2025-08-15 02:21:05,154 - INFO - Generated taste profile for Bradley Hernandez\n"
     ]
    },
    {
     "name": "stdout",
     "output_type": "stream",
     "text": [
      "Progress: 90/200 users generated\n"
     ]
    },
    {
     "name": "stderr",
     "output_type": "stream",
     "text": [
      "2025-08-15 02:21:08,142 - INFO - Generated taste profile for Hayley Brown\n"
     ]
    },
    {
     "name": "stdout",
     "output_type": "stream",
     "text": [
      "Progress: 91/200 users generated\n"
     ]
    },
    {
     "name": "stderr",
     "output_type": "stream",
     "text": [
      "2025-08-15 02:21:10,349 - INFO - Generated taste profile for Tiffany Maxwell\n"
     ]
    },
    {
     "name": "stdout",
     "output_type": "stream",
     "text": [
      "Progress: 92/200 users generated\n"
     ]
    },
    {
     "name": "stderr",
     "output_type": "stream",
     "text": [
      "2025-08-15 02:21:13,343 - INFO - Generated taste profile for Whitney Marks\n"
     ]
    },
    {
     "name": "stdout",
     "output_type": "stream",
     "text": [
      "Progress: 93/200 users generated\n"
     ]
    },
    {
     "name": "stderr",
     "output_type": "stream",
     "text": [
      "2025-08-15 02:21:16,800 - INFO - Generated taste profile for Krista Gibbs\n"
     ]
    },
    {
     "name": "stdout",
     "output_type": "stream",
     "text": [
      "Progress: 94/200 users generated\n"
     ]
    },
    {
     "name": "stderr",
     "output_type": "stream",
     "text": [
      "2025-08-15 02:21:19,277 - INFO - Generated taste profile for Sarah Fernandez\n"
     ]
    },
    {
     "name": "stdout",
     "output_type": "stream",
     "text": [
      "Progress: 95/200 users generated\n"
     ]
    },
    {
     "name": "stderr",
     "output_type": "stream",
     "text": [
      "2025-08-15 02:21:22,693 - INFO - Generated taste profile for Jennifer Stevenson\n"
     ]
    },
    {
     "name": "stdout",
     "output_type": "stream",
     "text": [
      "Progress: 96/200 users generated\n"
     ]
    },
    {
     "name": "stderr",
     "output_type": "stream",
     "text": [
      "2025-08-15 02:21:26,126 - INFO - Generated taste profile for Maria Fox\n"
     ]
    },
    {
     "name": "stdout",
     "output_type": "stream",
     "text": [
      "Progress: 97/200 users generated\n"
     ]
    },
    {
     "name": "stderr",
     "output_type": "stream",
     "text": [
      "2025-08-15 02:21:32,177 - INFO - Generated taste profile for Jennifer Brown\n"
     ]
    },
    {
     "name": "stdout",
     "output_type": "stream",
     "text": [
      "Progress: 98/200 users generated\n"
     ]
    },
    {
     "name": "stderr",
     "output_type": "stream",
     "text": [
      "2025-08-15 02:21:35,340 - INFO - Generated taste profile for Kim Miles\n"
     ]
    },
    {
     "name": "stdout",
     "output_type": "stream",
     "text": [
      "Progress: 99/200 users generated\n"
     ]
    },
    {
     "name": "stderr",
     "output_type": "stream",
     "text": [
      "2025-08-15 02:21:38,190 - INFO - Generated taste profile for Rebecca Smith\n"
     ]
    },
    {
     "name": "stdout",
     "output_type": "stream",
     "text": [
      "Progress: 100/200 users generated\n"
     ]
    },
    {
     "name": "stderr",
     "output_type": "stream",
     "text": [
      "2025-08-15 02:21:41,066 - INFO - Generated taste profile for Theresa Ray\n"
     ]
    },
    {
     "name": "stdout",
     "output_type": "stream",
     "text": [
      "Progress: 101/200 users generated\n"
     ]
    },
    {
     "name": "stderr",
     "output_type": "stream",
     "text": [
      "2025-08-15 02:21:44,048 - INFO - Generated taste profile for Jeffery Young\n"
     ]
    },
    {
     "name": "stdout",
     "output_type": "stream",
     "text": [
      "Progress: 102/200 users generated\n"
     ]
    },
    {
     "name": "stderr",
     "output_type": "stream",
     "text": [
      "2025-08-15 02:21:47,066 - INFO - Generated taste profile for Jeffrey Galvan\n"
     ]
    },
    {
     "name": "stdout",
     "output_type": "stream",
     "text": [
      "Progress: 103/200 users generated\n"
     ]
    },
    {
     "name": "stderr",
     "output_type": "stream",
     "text": [
      "2025-08-15 02:21:49,396 - INFO - Generated taste profile for Stephanie Thomas\n"
     ]
    },
    {
     "name": "stdout",
     "output_type": "stream",
     "text": [
      "Progress: 104/200 users generated\n"
     ]
    },
    {
     "name": "stderr",
     "output_type": "stream",
     "text": [
      "2025-08-15 02:21:52,350 - INFO - Generated taste profile for Denise Ferguson\n"
     ]
    },
    {
     "name": "stdout",
     "output_type": "stream",
     "text": [
      "Progress: 105/200 users generated\n"
     ]
    },
    {
     "name": "stderr",
     "output_type": "stream",
     "text": [
      "2025-08-15 02:21:55,542 - INFO - Generated taste profile for Logan Gray\n"
     ]
    },
    {
     "name": "stdout",
     "output_type": "stream",
     "text": [
      "Progress: 106/200 users generated\n"
     ]
    },
    {
     "name": "stderr",
     "output_type": "stream",
     "text": [
      "2025-08-15 02:21:58,014 - INFO - Generated taste profile for Don Jones\n"
     ]
    },
    {
     "name": "stdout",
     "output_type": "stream",
     "text": [
      "Progress: 107/200 users generated\n"
     ]
    },
    {
     "name": "stderr",
     "output_type": "stream",
     "text": [
      "2025-08-15 02:22:01,375 - INFO - Generated taste profile for Brandon Thomas\n"
     ]
    },
    {
     "name": "stdout",
     "output_type": "stream",
     "text": [
      "Progress: 108/200 users generated\n"
     ]
    },
    {
     "name": "stderr",
     "output_type": "stream",
     "text": [
      "2025-08-15 02:22:04,593 - INFO - Generated taste profile for Nina Wood\n"
     ]
    },
    {
     "name": "stdout",
     "output_type": "stream",
     "text": [
      "Progress: 109/200 users generated\n"
     ]
    },
    {
     "name": "stderr",
     "output_type": "stream",
     "text": [
      "2025-08-15 02:22:08,148 - INFO - Generated taste profile for Jordan Aguirre\n"
     ]
    },
    {
     "name": "stdout",
     "output_type": "stream",
     "text": [
      "Progress: 110/200 users generated\n"
     ]
    },
    {
     "name": "stderr",
     "output_type": "stream",
     "text": [
      "2025-08-15 02:22:11,637 - INFO - Generated taste profile for Troy Sullivan\n"
     ]
    },
    {
     "name": "stdout",
     "output_type": "stream",
     "text": [
      "Progress: 111/200 users generated\n"
     ]
    },
    {
     "name": "stderr",
     "output_type": "stream",
     "text": [
      "2025-08-15 02:22:14,727 - INFO - Generated taste profile for Carol Walker\n"
     ]
    },
    {
     "name": "stdout",
     "output_type": "stream",
     "text": [
      "Progress: 112/200 users generated\n"
     ]
    },
    {
     "name": "stderr",
     "output_type": "stream",
     "text": [
      "2025-08-15 02:22:17,634 - INFO - Generated taste profile for Tamara Fuentes\n"
     ]
    },
    {
     "name": "stdout",
     "output_type": "stream",
     "text": [
      "Progress: 113/200 users generated\n"
     ]
    },
    {
     "name": "stderr",
     "output_type": "stream",
     "text": [
      "2025-08-15 02:22:20,365 - INFO - Generated taste profile for Jessica Ballard\n"
     ]
    },
    {
     "name": "stdout",
     "output_type": "stream",
     "text": [
      "Progress: 114/200 users generated\n"
     ]
    },
    {
     "name": "stderr",
     "output_type": "stream",
     "text": [
      "2025-08-15 02:22:23,574 - INFO - Generated taste profile for Courtney Bernard\n"
     ]
    },
    {
     "name": "stdout",
     "output_type": "stream",
     "text": [
      "Progress: 115/200 users generated\n"
     ]
    },
    {
     "name": "stderr",
     "output_type": "stream",
     "text": [
      "2025-08-15 02:22:26,457 - INFO - Generated taste profile for Thomas Ortega\n"
     ]
    },
    {
     "name": "stdout",
     "output_type": "stream",
     "text": [
      "Progress: 116/200 users generated\n"
     ]
    },
    {
     "name": "stderr",
     "output_type": "stream",
     "text": [
      "2025-08-15 02:22:28,948 - INFO - Generated taste profile for Lucas Robinson\n"
     ]
    },
    {
     "name": "stdout",
     "output_type": "stream",
     "text": [
      "Progress: 117/200 users generated\n"
     ]
    },
    {
     "name": "stderr",
     "output_type": "stream",
     "text": [
      "2025-08-15 02:22:31,551 - INFO - Generated taste profile for David Church\n"
     ]
    },
    {
     "name": "stdout",
     "output_type": "stream",
     "text": [
      "Progress: 118/200 users generated\n"
     ]
    },
    {
     "name": "stderr",
     "output_type": "stream",
     "text": [
      "2025-08-15 02:22:34,463 - INFO - Generated taste profile for Ariel Hughes\n"
     ]
    },
    {
     "name": "stdout",
     "output_type": "stream",
     "text": [
      "Progress: 119/200 users generated\n"
     ]
    },
    {
     "name": "stderr",
     "output_type": "stream",
     "text": [
      "2025-08-15 02:22:37,988 - INFO - Generated taste profile for Michael Arnold\n"
     ]
    },
    {
     "name": "stdout",
     "output_type": "stream",
     "text": [
      "Progress: 120/200 users generated\n"
     ]
    },
    {
     "name": "stderr",
     "output_type": "stream",
     "text": [
      "2025-08-15 02:22:41,178 - INFO - Generated taste profile for Megan Tucker\n"
     ]
    },
    {
     "name": "stdout",
     "output_type": "stream",
     "text": [
      "Progress: 121/200 users generated\n"
     ]
    },
    {
     "name": "stderr",
     "output_type": "stream",
     "text": [
      "2025-08-15 02:22:44,043 - INFO - Generated taste profile for Tammy Scott\n"
     ]
    },
    {
     "name": "stdout",
     "output_type": "stream",
     "text": [
      "Progress: 122/200 users generated\n"
     ]
    },
    {
     "name": "stderr",
     "output_type": "stream",
     "text": [
      "2025-08-15 02:22:47,488 - INFO - Generated taste profile for Kevin Jacobs\n"
     ]
    },
    {
     "name": "stdout",
     "output_type": "stream",
     "text": [
      "Progress: 123/200 users generated\n"
     ]
    },
    {
     "name": "stderr",
     "output_type": "stream",
     "text": [
      "2025-08-15 02:22:50,475 - INFO - Generated taste profile for Briana Steele\n"
     ]
    },
    {
     "name": "stdout",
     "output_type": "stream",
     "text": [
      "Progress: 124/200 users generated\n"
     ]
    },
    {
     "name": "stderr",
     "output_type": "stream",
     "text": [
      "2025-08-15 02:22:54,283 - INFO - Generated taste profile for Gina Burnett\n"
     ]
    },
    {
     "name": "stdout",
     "output_type": "stream",
     "text": [
      "Progress: 125/200 users generated\n"
     ]
    },
    {
     "name": "stderr",
     "output_type": "stream",
     "text": [
      "2025-08-15 02:22:57,596 - INFO - Generated taste profile for Ian Bryant\n"
     ]
    },
    {
     "name": "stdout",
     "output_type": "stream",
     "text": [
      "Progress: 126/200 users generated\n"
     ]
    },
    {
     "name": "stderr",
     "output_type": "stream",
     "text": [
      "2025-08-15 02:23:00,061 - INFO - Generated taste profile for Catherine Moore\n"
     ]
    },
    {
     "name": "stdout",
     "output_type": "stream",
     "text": [
      "Progress: 127/200 users generated\n"
     ]
    },
    {
     "name": "stderr",
     "output_type": "stream",
     "text": [
      "2025-08-15 02:23:02,866 - INFO - Generated taste profile for Joshua Vazquez\n"
     ]
    },
    {
     "name": "stdout",
     "output_type": "stream",
     "text": [
      "Progress: 128/200 users generated\n"
     ]
    },
    {
     "name": "stderr",
     "output_type": "stream",
     "text": [
      "2025-08-15 02:23:05,873 - INFO - Generated taste profile for Bryan Davis\n"
     ]
    },
    {
     "name": "stdout",
     "output_type": "stream",
     "text": [
      "Progress: 129/200 users generated\n"
     ]
    },
    {
     "name": "stderr",
     "output_type": "stream",
     "text": [
      "2025-08-15 02:23:08,591 - INFO - Generated taste profile for Jennifer Reed\n"
     ]
    },
    {
     "name": "stdout",
     "output_type": "stream",
     "text": [
      "Progress: 130/200 users generated\n"
     ]
    },
    {
     "name": "stderr",
     "output_type": "stream",
     "text": [
      "2025-08-15 02:23:11,512 - INFO - Generated taste profile for Shaun Hawkins\n"
     ]
    },
    {
     "name": "stdout",
     "output_type": "stream",
     "text": [
      "Progress: 131/200 users generated\n"
     ]
    },
    {
     "name": "stderr",
     "output_type": "stream",
     "text": [
      "2025-08-15 02:23:14,022 - INFO - Generated taste profile for Shannon Gardner\n"
     ]
    },
    {
     "name": "stdout",
     "output_type": "stream",
     "text": [
      "Progress: 132/200 users generated\n"
     ]
    },
    {
     "name": "stderr",
     "output_type": "stream",
     "text": [
      "2025-08-15 02:23:17,107 - INFO - Generated taste profile for Christina Jackson\n"
     ]
    },
    {
     "name": "stdout",
     "output_type": "stream",
     "text": [
      "Progress: 133/200 users generated\n"
     ]
    },
    {
     "name": "stderr",
     "output_type": "stream",
     "text": [
      "2025-08-15 02:23:19,691 - INFO - Generated taste profile for Daniel Gutierrez\n"
     ]
    },
    {
     "name": "stdout",
     "output_type": "stream",
     "text": [
      "Progress: 134/200 users generated\n"
     ]
    },
    {
     "name": "stderr",
     "output_type": "stream",
     "text": [
      "2025-08-15 02:23:22,353 - INFO - Generated taste profile for Deanna Riddle\n"
     ]
    },
    {
     "name": "stdout",
     "output_type": "stream",
     "text": [
      "Progress: 135/200 users generated\n"
     ]
    },
    {
     "name": "stderr",
     "output_type": "stream",
     "text": [
      "2025-08-15 02:23:24,862 - INFO - Generated taste profile for Isaiah Bush\n"
     ]
    },
    {
     "name": "stdout",
     "output_type": "stream",
     "text": [
      "Progress: 136/200 users generated\n"
     ]
    },
    {
     "name": "stderr",
     "output_type": "stream",
     "text": [
      "2025-08-15 02:23:28,379 - INFO - Generated taste profile for Andrea Lee\n"
     ]
    },
    {
     "name": "stdout",
     "output_type": "stream",
     "text": [
      "Progress: 137/200 users generated\n"
     ]
    },
    {
     "name": "stderr",
     "output_type": "stream",
     "text": [
      "2025-08-15 02:23:31,368 - INFO - Generated taste profile for Kyle Anderson\n"
     ]
    },
    {
     "name": "stdout",
     "output_type": "stream",
     "text": [
      "Progress: 138/200 users generated\n"
     ]
    },
    {
     "name": "stderr",
     "output_type": "stream",
     "text": [
      "2025-08-15 02:23:34,333 - INFO - Generated taste profile for Craig Chen\n"
     ]
    },
    {
     "name": "stdout",
     "output_type": "stream",
     "text": [
      "Progress: 139/200 users generated\n"
     ]
    },
    {
     "name": "stderr",
     "output_type": "stream",
     "text": [
      "2025-08-15 02:23:37,481 - INFO - Generated taste profile for Phillip Petersen\n"
     ]
    },
    {
     "name": "stdout",
     "output_type": "stream",
     "text": [
      "Progress: 140/200 users generated\n"
     ]
    },
    {
     "name": "stderr",
     "output_type": "stream",
     "text": [
      "2025-08-15 02:23:40,128 - INFO - Generated taste profile for Cindy Bean\n"
     ]
    },
    {
     "name": "stdout",
     "output_type": "stream",
     "text": [
      "Progress: 141/200 users generated\n"
     ]
    },
    {
     "name": "stderr",
     "output_type": "stream",
     "text": [
      "2025-08-15 02:23:42,907 - INFO - Generated taste profile for Shawn Mitchell\n"
     ]
    },
    {
     "name": "stdout",
     "output_type": "stream",
     "text": [
      "Progress: 142/200 users generated\n"
     ]
    },
    {
     "name": "stderr",
     "output_type": "stream",
     "text": [
      "2025-08-15 02:23:45,903 - INFO - Generated taste profile for Richard Nixon\n"
     ]
    },
    {
     "name": "stdout",
     "output_type": "stream",
     "text": [
      "Progress: 143/200 users generated\n"
     ]
    },
    {
     "name": "stderr",
     "output_type": "stream",
     "text": [
      "2025-08-15 02:23:48,333 - INFO - Generated taste profile for Jeffrey Alvarez\n"
     ]
    },
    {
     "name": "stdout",
     "output_type": "stream",
     "text": [
      "Progress: 144/200 users generated\n"
     ]
    },
    {
     "name": "stderr",
     "output_type": "stream",
     "text": [
      "2025-08-15 02:23:51,158 - INFO - Generated taste profile for Daniel Ware\n"
     ]
    },
    {
     "name": "stdout",
     "output_type": "stream",
     "text": [
      "Progress: 145/200 users generated\n"
     ]
    },
    {
     "name": "stderr",
     "output_type": "stream",
     "text": [
      "2025-08-15 02:23:54,413 - INFO - Generated taste profile for Stacey Hudson\n"
     ]
    },
    {
     "name": "stdout",
     "output_type": "stream",
     "text": [
      "Progress: 146/200 users generated\n"
     ]
    },
    {
     "name": "stderr",
     "output_type": "stream",
     "text": [
      "2025-08-15 02:23:56,825 - INFO - Generated taste profile for Amanda Barry PhD\n"
     ]
    },
    {
     "name": "stdout",
     "output_type": "stream",
     "text": [
      "Progress: 147/200 users generated\n"
     ]
    },
    {
     "name": "stderr",
     "output_type": "stream",
     "text": [
      "2025-08-15 02:23:59,313 - INFO - Generated taste profile for Michael Mullen\n"
     ]
    },
    {
     "name": "stdout",
     "output_type": "stream",
     "text": [
      "Progress: 148/200 users generated\n"
     ]
    },
    {
     "name": "stderr",
     "output_type": "stream",
     "text": [
      "2025-08-15 02:24:02,474 - INFO - Generated taste profile for Amber Lopez\n"
     ]
    },
    {
     "name": "stdout",
     "output_type": "stream",
     "text": [
      "Progress: 149/200 users generated\n"
     ]
    },
    {
     "name": "stderr",
     "output_type": "stream",
     "text": [
      "2025-08-15 02:24:05,616 - INFO - Generated taste profile for Noah Webb\n"
     ]
    },
    {
     "name": "stdout",
     "output_type": "stream",
     "text": [
      "Progress: 150/200 users generated\n"
     ]
    },
    {
     "name": "stderr",
     "output_type": "stream",
     "text": [
      "2025-08-15 02:24:08,470 - INFO - Generated taste profile for Darrell Morales\n"
     ]
    },
    {
     "name": "stdout",
     "output_type": "stream",
     "text": [
      "Progress: 151/200 users generated\n"
     ]
    },
    {
     "name": "stderr",
     "output_type": "stream",
     "text": [
      "2025-08-15 02:24:10,920 - INFO - Generated taste profile for Christopher Jones\n"
     ]
    },
    {
     "name": "stdout",
     "output_type": "stream",
     "text": [
      "Progress: 152/200 users generated\n"
     ]
    },
    {
     "name": "stderr",
     "output_type": "stream",
     "text": [
      "2025-08-15 02:24:13,808 - INFO - Generated taste profile for Karl Richmond\n"
     ]
    },
    {
     "name": "stdout",
     "output_type": "stream",
     "text": [
      "Progress: 153/200 users generated\n"
     ]
    },
    {
     "name": "stderr",
     "output_type": "stream",
     "text": [
      "2025-08-15 02:24:17,179 - INFO - Generated taste profile for Jeffrey Jackson\n"
     ]
    },
    {
     "name": "stdout",
     "output_type": "stream",
     "text": [
      "Progress: 154/200 users generated\n"
     ]
    },
    {
     "name": "stderr",
     "output_type": "stream",
     "text": [
      "2025-08-15 02:24:20,025 - INFO - Generated taste profile for Anna Santana\n"
     ]
    },
    {
     "name": "stdout",
     "output_type": "stream",
     "text": [
      "Progress: 155/200 users generated\n"
     ]
    },
    {
     "name": "stderr",
     "output_type": "stream",
     "text": [
      "2025-08-15 02:24:23,207 - INFO - Generated taste profile for Stephen Mcclure\n"
     ]
    },
    {
     "name": "stdout",
     "output_type": "stream",
     "text": [
      "Progress: 156/200 users generated\n"
     ]
    },
    {
     "name": "stderr",
     "output_type": "stream",
     "text": [
      "2025-08-15 02:24:26,355 - INFO - Generated taste profile for Kelsey Valdez\n"
     ]
    },
    {
     "name": "stdout",
     "output_type": "stream",
     "text": [
      "Progress: 157/200 users generated\n"
     ]
    },
    {
     "name": "stderr",
     "output_type": "stream",
     "text": [
      "2025-08-15 02:24:29,249 - INFO - Generated taste profile for Robert Phillips\n"
     ]
    },
    {
     "name": "stdout",
     "output_type": "stream",
     "text": [
      "Progress: 158/200 users generated\n"
     ]
    },
    {
     "name": "stderr",
     "output_type": "stream",
     "text": [
      "2025-08-15 02:24:31,781 - INFO - Generated taste profile for Denise Howard\n"
     ]
    },
    {
     "name": "stdout",
     "output_type": "stream",
     "text": [
      "Progress: 159/200 users generated\n"
     ]
    },
    {
     "name": "stderr",
     "output_type": "stream",
     "text": [
      "2025-08-15 02:24:34,853 - INFO - Generated taste profile for Jocelyn Nguyen\n"
     ]
    },
    {
     "name": "stdout",
     "output_type": "stream",
     "text": [
      "Progress: 160/200 users generated\n"
     ]
    },
    {
     "name": "stderr",
     "output_type": "stream",
     "text": [
      "2025-08-15 02:24:38,224 - INFO - Generated taste profile for Hannah White\n"
     ]
    },
    {
     "name": "stdout",
     "output_type": "stream",
     "text": [
      "Progress: 161/200 users generated\n"
     ]
    },
    {
     "name": "stderr",
     "output_type": "stream",
     "text": [
      "2025-08-15 02:24:40,594 - INFO - Generated taste profile for Victoria Cummings\n"
     ]
    },
    {
     "name": "stdout",
     "output_type": "stream",
     "text": [
      "Progress: 162/200 users generated\n"
     ]
    },
    {
     "name": "stderr",
     "output_type": "stream",
     "text": [
      "2025-08-15 02:24:43,329 - INFO - Generated taste profile for Maurice Evans\n"
     ]
    },
    {
     "name": "stdout",
     "output_type": "stream",
     "text": [
      "Progress: 163/200 users generated\n"
     ]
    },
    {
     "name": "stderr",
     "output_type": "stream",
     "text": [
      "2025-08-15 02:24:46,369 - INFO - Generated taste profile for Heather Moore\n"
     ]
    },
    {
     "name": "stdout",
     "output_type": "stream",
     "text": [
      "Progress: 164/200 users generated\n"
     ]
    },
    {
     "name": "stderr",
     "output_type": "stream",
     "text": [
      "2025-08-15 02:24:49,805 - INFO - Generated taste profile for Michael Jones\n"
     ]
    },
    {
     "name": "stdout",
     "output_type": "stream",
     "text": [
      "Progress: 165/200 users generated\n"
     ]
    },
    {
     "name": "stderr",
     "output_type": "stream",
     "text": [
      "2025-08-15 02:24:52,834 - INFO - Generated taste profile for Christopher Hammond\n"
     ]
    },
    {
     "name": "stdout",
     "output_type": "stream",
     "text": [
      "Progress: 166/200 users generated\n"
     ]
    },
    {
     "name": "stderr",
     "output_type": "stream",
     "text": [
      "2025-08-15 02:24:56,335 - INFO - Generated taste profile for Breanna Barr\n"
     ]
    },
    {
     "name": "stdout",
     "output_type": "stream",
     "text": [
      "Progress: 167/200 users generated\n"
     ]
    },
    {
     "name": "stderr",
     "output_type": "stream",
     "text": [
      "2025-08-15 02:24:58,695 - INFO - Generated taste profile for Oscar Spencer\n"
     ]
    },
    {
     "name": "stdout",
     "output_type": "stream",
     "text": [
      "Progress: 168/200 users generated\n"
     ]
    },
    {
     "name": "stderr",
     "output_type": "stream",
     "text": [
      "2025-08-15 02:25:01,889 - INFO - Generated taste profile for Timothy Summers\n"
     ]
    },
    {
     "name": "stdout",
     "output_type": "stream",
     "text": [
      "Progress: 169/200 users generated\n"
     ]
    },
    {
     "name": "stderr",
     "output_type": "stream",
     "text": [
      "2025-08-15 02:25:04,429 - INFO - Generated taste profile for Holly Wang\n"
     ]
    },
    {
     "name": "stdout",
     "output_type": "stream",
     "text": [
      "Progress: 170/200 users generated\n"
     ]
    },
    {
     "name": "stderr",
     "output_type": "stream",
     "text": [
      "2025-08-15 02:25:07,685 - INFO - Generated taste profile for Rachel Lucero\n"
     ]
    },
    {
     "name": "stdout",
     "output_type": "stream",
     "text": [
      "Progress: 171/200 users generated\n"
     ]
    },
    {
     "name": "stderr",
     "output_type": "stream",
     "text": [
      "2025-08-15 02:25:11,145 - INFO - Generated taste profile for Christina Mason\n"
     ]
    },
    {
     "name": "stdout",
     "output_type": "stream",
     "text": [
      "Progress: 172/200 users generated\n"
     ]
    },
    {
     "name": "stderr",
     "output_type": "stream",
     "text": [
      "2025-08-15 02:25:14,592 - INFO - Generated taste profile for Debbie Robinson\n"
     ]
    },
    {
     "name": "stdout",
     "output_type": "stream",
     "text": [
      "Progress: 173/200 users generated\n"
     ]
    },
    {
     "name": "stderr",
     "output_type": "stream",
     "text": [
      "2025-08-15 02:25:17,145 - INFO - Generated taste profile for Christopher Ray\n"
     ]
    },
    {
     "name": "stdout",
     "output_type": "stream",
     "text": [
      "Progress: 174/200 users generated\n"
     ]
    },
    {
     "name": "stderr",
     "output_type": "stream",
     "text": [
      "2025-08-15 02:25:20,344 - INFO - Generated taste profile for Thomas Schneider\n"
     ]
    },
    {
     "name": "stdout",
     "output_type": "stream",
     "text": [
      "Progress: 175/200 users generated\n"
     ]
    },
    {
     "name": "stderr",
     "output_type": "stream",
     "text": [
      "2025-08-15 02:25:23,302 - INFO - Generated taste profile for Bruce Hernandez\n"
     ]
    },
    {
     "name": "stdout",
     "output_type": "stream",
     "text": [
      "Progress: 176/200 users generated\n"
     ]
    },
    {
     "name": "stderr",
     "output_type": "stream",
     "text": [
      "2025-08-15 02:25:26,227 - INFO - Generated taste profile for Heather Green\n"
     ]
    },
    {
     "name": "stdout",
     "output_type": "stream",
     "text": [
      "Progress: 177/200 users generated\n"
     ]
    },
    {
     "name": "stderr",
     "output_type": "stream",
     "text": [
      "2025-08-15 02:25:28,861 - INFO - Generated taste profile for Pamela Rodriguez\n"
     ]
    },
    {
     "name": "stdout",
     "output_type": "stream",
     "text": [
      "Progress: 178/200 users generated\n"
     ]
    },
    {
     "name": "stderr",
     "output_type": "stream",
     "text": [
      "2025-08-15 02:25:31,675 - INFO - Generated taste profile for Shannon Meyer\n"
     ]
    },
    {
     "name": "stdout",
     "output_type": "stream",
     "text": [
      "Progress: 179/200 users generated\n"
     ]
    },
    {
     "name": "stderr",
     "output_type": "stream",
     "text": [
      "2025-08-15 02:25:34,506 - INFO - Generated taste profile for Theresa Hall\n"
     ]
    },
    {
     "name": "stdout",
     "output_type": "stream",
     "text": [
      "Progress: 180/200 users generated\n"
     ]
    },
    {
     "name": "stderr",
     "output_type": "stream",
     "text": [
      "2025-08-15 02:25:37,010 - INFO - Generated taste profile for Holly Thompson\n"
     ]
    },
    {
     "name": "stdout",
     "output_type": "stream",
     "text": [
      "Progress: 181/200 users generated\n"
     ]
    },
    {
     "name": "stderr",
     "output_type": "stream",
     "text": [
      "2025-08-15 02:25:40,595 - INFO - Generated taste profile for Lee Velez\n"
     ]
    },
    {
     "name": "stdout",
     "output_type": "stream",
     "text": [
      "Progress: 182/200 users generated\n"
     ]
    },
    {
     "name": "stderr",
     "output_type": "stream",
     "text": [
      "2025-08-15 02:25:43,845 - INFO - Generated taste profile for Mrs. Mallory Harrington\n"
     ]
    },
    {
     "name": "stdout",
     "output_type": "stream",
     "text": [
      "Progress: 183/200 users generated\n"
     ]
    },
    {
     "name": "stderr",
     "output_type": "stream",
     "text": [
      "2025-08-15 02:25:47,214 - INFO - Generated taste profile for Carla Smith\n"
     ]
    },
    {
     "name": "stdout",
     "output_type": "stream",
     "text": [
      "Progress: 184/200 users generated\n"
     ]
    },
    {
     "name": "stderr",
     "output_type": "stream",
     "text": [
      "2025-08-15 02:25:50,396 - INFO - Generated taste profile for Robert Nelson\n"
     ]
    },
    {
     "name": "stdout",
     "output_type": "stream",
     "text": [
      "Progress: 185/200 users generated\n"
     ]
    },
    {
     "name": "stderr",
     "output_type": "stream",
     "text": [
      "2025-08-15 02:25:53,680 - INFO - Generated taste profile for Victoria Reilly\n"
     ]
    },
    {
     "name": "stdout",
     "output_type": "stream",
     "text": [
      "Progress: 186/200 users generated\n"
     ]
    },
    {
     "name": "stderr",
     "output_type": "stream",
     "text": [
      "2025-08-15 02:25:57,780 - INFO - Generated taste profile for Stephen Brady\n"
     ]
    },
    {
     "name": "stdout",
     "output_type": "stream",
     "text": [
      "Progress: 187/200 users generated\n"
     ]
    },
    {
     "name": "stderr",
     "output_type": "stream",
     "text": [
      "2025-08-15 02:26:01,386 - INFO - Generated taste profile for Jamie Blankenship\n"
     ]
    },
    {
     "name": "stdout",
     "output_type": "stream",
     "text": [
      "Progress: 188/200 users generated\n"
     ]
    },
    {
     "name": "stderr",
     "output_type": "stream",
     "text": [
      "2025-08-15 02:26:04,061 - INFO - Generated taste profile for Benjamin Owens\n"
     ]
    },
    {
     "name": "stdout",
     "output_type": "stream",
     "text": [
      "Progress: 189/200 users generated\n"
     ]
    },
    {
     "name": "stderr",
     "output_type": "stream",
     "text": [
      "2025-08-15 02:26:06,708 - INFO - Generated taste profile for Sonya Scott\n"
     ]
    },
    {
     "name": "stdout",
     "output_type": "stream",
     "text": [
      "Progress: 190/200 users generated\n"
     ]
    },
    {
     "name": "stderr",
     "output_type": "stream",
     "text": [
      "2025-08-15 02:26:09,184 - INFO - Generated taste profile for Kayla Smith\n"
     ]
    },
    {
     "name": "stdout",
     "output_type": "stream",
     "text": [
      "Progress: 191/200 users generated\n"
     ]
    },
    {
     "name": "stderr",
     "output_type": "stream",
     "text": [
      "2025-08-15 02:26:11,728 - INFO - Generated taste profile for Ryan Mason\n"
     ]
    },
    {
     "name": "stdout",
     "output_type": "stream",
     "text": [
      "Progress: 192/200 users generated\n"
     ]
    },
    {
     "name": "stderr",
     "output_type": "stream",
     "text": [
      "2025-08-15 02:26:14,250 - INFO - Generated taste profile for Jean Phillips\n"
     ]
    },
    {
     "name": "stdout",
     "output_type": "stream",
     "text": [
      "Progress: 193/200 users generated\n"
     ]
    },
    {
     "name": "stderr",
     "output_type": "stream",
     "text": [
      "2025-08-15 02:26:17,235 - INFO - Generated taste profile for Kimberly Russell\n"
     ]
    },
    {
     "name": "stdout",
     "output_type": "stream",
     "text": [
      "Progress: 194/200 users generated\n"
     ]
    },
    {
     "name": "stderr",
     "output_type": "stream",
     "text": [
      "2025-08-15 02:26:20,042 - INFO - Generated taste profile for Anthony Kent\n"
     ]
    },
    {
     "name": "stdout",
     "output_type": "stream",
     "text": [
      "Progress: 195/200 users generated\n"
     ]
    },
    {
     "name": "stderr",
     "output_type": "stream",
     "text": [
      "2025-08-15 02:26:23,487 - INFO - Generated taste profile for Tom Brown\n"
     ]
    },
    {
     "name": "stdout",
     "output_type": "stream",
     "text": [
      "Progress: 196/200 users generated\n"
     ]
    },
    {
     "name": "stderr",
     "output_type": "stream",
     "text": [
      "2025-08-15 02:26:25,973 - INFO - Generated taste profile for Susan Gibson\n"
     ]
    },
    {
     "name": "stdout",
     "output_type": "stream",
     "text": [
      "Progress: 197/200 users generated\n"
     ]
    },
    {
     "name": "stderr",
     "output_type": "stream",
     "text": [
      "2025-08-15 02:26:29,274 - INFO - Generated taste profile for Brianna Chandler\n"
     ]
    },
    {
     "name": "stdout",
     "output_type": "stream",
     "text": [
      "Progress: 198/200 users generated\n"
     ]
    },
    {
     "name": "stderr",
     "output_type": "stream",
     "text": [
      "2025-08-15 02:26:31,693 - INFO - Generated taste profile for Nicole Cooper\n"
     ]
    },
    {
     "name": "stdout",
     "output_type": "stream",
     "text": [
      "Progress: 199/200 users generated\n"
     ]
    },
    {
     "name": "stderr",
     "output_type": "stream",
     "text": [
      "2025-08-15 02:26:35,178 - INFO - Generated taste profile for Catherine Dunn\n",
      "2025-08-15 02:26:35,179 - INFO - Successfully generated 200/200 taste profiles\n"
     ]
    },
    {
     "name": "stdout",
     "output_type": "stream",
     "text": [
      "Progress: 200/200 users generated\n",
      "\n",
      "✅ Generated 200 taste profiles\n",
      "\n",
      "📝 Sample taste profiles:\n",
      "\n",
      "1. Travis Williams:\n",
      "   This person is driven by a desire for self-improvement and a quest for a more meaningful and efficie...\n",
      "\n",
      "2. James Carroll:\n",
      "   This person possesses a curious and discerning mind, deeply engaged with the world of food and its b...\n",
      "\n",
      "3. Denise Parker:\n",
      "   This person is highly intellectual and deeply invested in understanding human behavior and potential...\n"
     ]
    }
   ],
   "source": [
    "# Generate taste profiles for the entire population\n",
    "print(\"🧠 Generating taste profiles for the population...\")\n",
    "\n",
    "successful_profiles = profile_gen.generate_taste_profiles_for_population(\n",
    "    synthetic_population, \n",
    "    progress_callback=progress_callback\n",
    ")\n",
    "\n",
    "print(f\"\\n✅ Generated {successful_profiles} taste profiles\")\n",
    "\n",
    "# Show a few examples\n",
    "print(\"\\n📝 Sample taste profiles:\")\n",
    "for i, user in enumerate(synthetic_population.users[:3]):\n",
    "    if user.taste_profile:\n",
    "        print(f\"\\n{i+1}. {user.name}:\")\n",
    "        print(f\"   {user.taste_profile[:100]}...\")"
   ]
  },
  {
   "cell_type": "markdown",
   "metadata": {},
   "source": [
    "## 6. Generating Embeddings for Population\n",
    "\n",
    "Let's create embeddings for all users in our population."
   ]
  },
  {
   "cell_type": "code",
   "execution_count": 14,
   "metadata": {},
   "outputs": [
    {
     "name": "stderr",
     "output_type": "stream",
     "text": [
      "2025-08-15 02:26:35,218 - INFO - Generating embeddings for 200 users\n"
     ]
    },
    {
     "name": "stdout",
     "output_type": "stream",
     "text": [
      "🔢 Generating embeddings for the population...\n"
     ]
    },
    {
     "name": "stderr",
     "output_type": "stream",
     "text": [
      "2025-08-15 02:26:35,797 - INFO - Generated embedding for user Travis Williams\n"
     ]
    },
    {
     "name": "stdout",
     "output_type": "stream",
     "text": [
      "Progress: 1/200 users generated\n"
     ]
    },
    {
     "name": "stderr",
     "output_type": "stream",
     "text": [
      "2025-08-15 02:26:37,343 - INFO - Generated embedding for user James Carroll\n"
     ]
    },
    {
     "name": "stdout",
     "output_type": "stream",
     "text": [
      "Progress: 2/200 users generated\n"
     ]
    },
    {
     "name": "stderr",
     "output_type": "stream",
     "text": [
      "2025-08-15 02:26:38,941 - INFO - Generated embedding for user Denise Parker\n"
     ]
    },
    {
     "name": "stdout",
     "output_type": "stream",
     "text": [
      "Progress: 3/200 users generated\n"
     ]
    },
    {
     "name": "stderr",
     "output_type": "stream",
     "text": [
      "2025-08-15 02:26:40,608 - INFO - Generated embedding for user Thomas Lee\n"
     ]
    },
    {
     "name": "stdout",
     "output_type": "stream",
     "text": [
      "Progress: 4/200 users generated\n"
     ]
    },
    {
     "name": "stderr",
     "output_type": "stream",
     "text": [
      "2025-08-15 02:26:42,757 - INFO - Generated embedding for user Alicia Padilla\n"
     ]
    },
    {
     "name": "stdout",
     "output_type": "stream",
     "text": [
      "Progress: 5/200 users generated\n"
     ]
    },
    {
     "name": "stderr",
     "output_type": "stream",
     "text": [
      "2025-08-15 02:26:45,184 - INFO - Generated embedding for user Andrea Gomez\n"
     ]
    },
    {
     "name": "stdout",
     "output_type": "stream",
     "text": [
      "Progress: 6/200 users generated\n"
     ]
    },
    {
     "name": "stderr",
     "output_type": "stream",
     "text": [
      "2025-08-15 02:26:47,979 - INFO - Generated embedding for user Regina Holmes\n"
     ]
    },
    {
     "name": "stdout",
     "output_type": "stream",
     "text": [
      "Progress: 7/200 users generated\n"
     ]
    },
    {
     "name": "stderr",
     "output_type": "stream",
     "text": [
      "2025-08-15 02:26:49,149 - INFO - Generated embedding for user Ashley Howell\n"
     ]
    },
    {
     "name": "stdout",
     "output_type": "stream",
     "text": [
      "Progress: 8/200 users generated\n"
     ]
    },
    {
     "name": "stderr",
     "output_type": "stream",
     "text": [
      "2025-08-15 02:26:50,042 - INFO - Generated embedding for user Stacey Harrison\n"
     ]
    },
    {
     "name": "stdout",
     "output_type": "stream",
     "text": [
      "Progress: 9/200 users generated\n"
     ]
    },
    {
     "name": "stderr",
     "output_type": "stream",
     "text": [
      "2025-08-15 02:26:52,975 - INFO - Generated embedding for user Edward Hudson\n"
     ]
    },
    {
     "name": "stdout",
     "output_type": "stream",
     "text": [
      "Progress: 10/200 users generated\n"
     ]
    },
    {
     "name": "stderr",
     "output_type": "stream",
     "text": [
      "2025-08-15 02:26:54,133 - INFO - Generated embedding for user Edwin Allison\n"
     ]
    },
    {
     "name": "stdout",
     "output_type": "stream",
     "text": [
      "Progress: 11/200 users generated\n"
     ]
    },
    {
     "name": "stderr",
     "output_type": "stream",
     "text": [
      "2025-08-15 02:26:57,012 - INFO - Generated embedding for user Jason Miller\n"
     ]
    },
    {
     "name": "stdout",
     "output_type": "stream",
     "text": [
      "Progress: 12/200 users generated\n"
     ]
    },
    {
     "name": "stderr",
     "output_type": "stream",
     "text": [
      "2025-08-15 02:26:58,427 - INFO - Generated embedding for user Brittany Johnson\n"
     ]
    },
    {
     "name": "stdout",
     "output_type": "stream",
     "text": [
      "Progress: 13/200 users generated\n"
     ]
    },
    {
     "name": "stderr",
     "output_type": "stream",
     "text": [
      "2025-08-15 02:27:01,536 - INFO - Generated embedding for user Javier Johnson\n"
     ]
    },
    {
     "name": "stdout",
     "output_type": "stream",
     "text": [
      "Progress: 14/200 users generated\n"
     ]
    },
    {
     "name": "stderr",
     "output_type": "stream",
     "text": [
      "2025-08-15 02:27:03,112 - INFO - Generated embedding for user Lisa Wilson\n"
     ]
    },
    {
     "name": "stdout",
     "output_type": "stream",
     "text": [
      "Progress: 15/200 users generated\n"
     ]
    },
    {
     "name": "stderr",
     "output_type": "stream",
     "text": [
      "2025-08-15 02:27:04,121 - INFO - Generated embedding for user Brian Robinson\n"
     ]
    },
    {
     "name": "stdout",
     "output_type": "stream",
     "text": [
      "Progress: 16/200 users generated\n"
     ]
    },
    {
     "name": "stderr",
     "output_type": "stream",
     "text": [
      "2025-08-15 02:27:05,256 - INFO - Generated embedding for user Kendra Nguyen\n"
     ]
    },
    {
     "name": "stdout",
     "output_type": "stream",
     "text": [
      "Progress: 17/200 users generated\n"
     ]
    },
    {
     "name": "stderr",
     "output_type": "stream",
     "text": [
      "2025-08-15 02:27:06,330 - INFO - Generated embedding for user Charles Aguirre\n"
     ]
    },
    {
     "name": "stdout",
     "output_type": "stream",
     "text": [
      "Progress: 18/200 users generated\n"
     ]
    },
    {
     "name": "stderr",
     "output_type": "stream",
     "text": [
      "2025-08-15 02:27:08,779 - INFO - Generated embedding for user John Johnson\n"
     ]
    },
    {
     "name": "stdout",
     "output_type": "stream",
     "text": [
      "Progress: 19/200 users generated\n"
     ]
    },
    {
     "name": "stderr",
     "output_type": "stream",
     "text": [
      "2025-08-15 02:27:11,223 - INFO - Generated embedding for user Jennifer Kennedy\n"
     ]
    },
    {
     "name": "stdout",
     "output_type": "stream",
     "text": [
      "Progress: 20/200 users generated\n"
     ]
    },
    {
     "name": "stderr",
     "output_type": "stream",
     "text": [
      "2025-08-15 02:27:14,167 - INFO - Generated embedding for user Tammy Patel\n"
     ]
    },
    {
     "name": "stdout",
     "output_type": "stream",
     "text": [
      "Progress: 21/200 users generated\n"
     ]
    },
    {
     "name": "stderr",
     "output_type": "stream",
     "text": [
      "2025-08-15 02:27:16,720 - INFO - Generated embedding for user John Baker\n"
     ]
    },
    {
     "name": "stdout",
     "output_type": "stream",
     "text": [
      "Progress: 22/200 users generated\n"
     ]
    },
    {
     "name": "stderr",
     "output_type": "stream",
     "text": [
      "2025-08-15 02:27:18,479 - INFO - Generated embedding for user Justin Vargas\n"
     ]
    },
    {
     "name": "stdout",
     "output_type": "stream",
     "text": [
      "Progress: 23/200 users generated\n"
     ]
    },
    {
     "name": "stderr",
     "output_type": "stream",
     "text": [
      "2025-08-15 02:27:20,446 - INFO - Generated embedding for user Scott Dennis\n"
     ]
    },
    {
     "name": "stdout",
     "output_type": "stream",
     "text": [
      "Progress: 24/200 users generated\n"
     ]
    },
    {
     "name": "stderr",
     "output_type": "stream",
     "text": [
      "2025-08-15 02:27:22,872 - INFO - Generated embedding for user William Miles\n"
     ]
    },
    {
     "name": "stdout",
     "output_type": "stream",
     "text": [
      "Progress: 25/200 users generated\n"
     ]
    },
    {
     "name": "stderr",
     "output_type": "stream",
     "text": [
      "2025-08-15 02:27:24,422 - INFO - Generated embedding for user Lance Taylor\n"
     ]
    },
    {
     "name": "stdout",
     "output_type": "stream",
     "text": [
      "Progress: 26/200 users generated\n"
     ]
    },
    {
     "name": "stderr",
     "output_type": "stream",
     "text": [
      "2025-08-15 02:27:27,096 - INFO - Generated embedding for user Allison Martinez\n"
     ]
    },
    {
     "name": "stdout",
     "output_type": "stream",
     "text": [
      "Progress: 27/200 users generated\n"
     ]
    },
    {
     "name": "stderr",
     "output_type": "stream",
     "text": [
      "2025-08-15 02:27:30,010 - INFO - Generated embedding for user George Williams\n"
     ]
    },
    {
     "name": "stdout",
     "output_type": "stream",
     "text": [
      "Progress: 28/200 users generated\n"
     ]
    },
    {
     "name": "stderr",
     "output_type": "stream",
     "text": [
      "2025-08-15 02:27:31,959 - INFO - Generated embedding for user Julia Reeves\n"
     ]
    },
    {
     "name": "stdout",
     "output_type": "stream",
     "text": [
      "Progress: 29/200 users generated\n"
     ]
    },
    {
     "name": "stderr",
     "output_type": "stream",
     "text": [
      "2025-08-15 02:27:33,386 - INFO - Generated embedding for user Zoe Rodriguez\n"
     ]
    },
    {
     "name": "stdout",
     "output_type": "stream",
     "text": [
      "Progress: 30/200 users generated\n"
     ]
    },
    {
     "name": "stderr",
     "output_type": "stream",
     "text": [
      "2025-08-15 02:27:34,677 - INFO - Generated embedding for user Gwendolyn Wang\n"
     ]
    },
    {
     "name": "stdout",
     "output_type": "stream",
     "text": [
      "Progress: 31/200 users generated\n"
     ]
    },
    {
     "name": "stderr",
     "output_type": "stream",
     "text": [
      "2025-08-15 02:27:37,545 - INFO - Generated embedding for user Kevin Boyd\n"
     ]
    },
    {
     "name": "stdout",
     "output_type": "stream",
     "text": [
      "Progress: 32/200 users generated\n"
     ]
    },
    {
     "name": "stderr",
     "output_type": "stream",
     "text": [
      "2025-08-15 02:27:40,529 - INFO - Generated embedding for user Amanda Reynolds\n"
     ]
    },
    {
     "name": "stdout",
     "output_type": "stream",
     "text": [
      "Progress: 33/200 users generated\n"
     ]
    },
    {
     "name": "stderr",
     "output_type": "stream",
     "text": [
      "2025-08-15 02:27:43,214 - INFO - Generated embedding for user Ashley Taylor\n"
     ]
    },
    {
     "name": "stdout",
     "output_type": "stream",
     "text": [
      "Progress: 34/200 users generated\n"
     ]
    },
    {
     "name": "stderr",
     "output_type": "stream",
     "text": [
      "2025-08-15 02:27:45,452 - INFO - Generated embedding for user Dawn Waters\n"
     ]
    },
    {
     "name": "stdout",
     "output_type": "stream",
     "text": [
      "Progress: 35/200 users generated\n"
     ]
    },
    {
     "name": "stderr",
     "output_type": "stream",
     "text": [
      "2025-08-15 02:27:48,316 - INFO - Generated embedding for user Ashley Hanna\n"
     ]
    },
    {
     "name": "stdout",
     "output_type": "stream",
     "text": [
      "Progress: 36/200 users generated\n"
     ]
    },
    {
     "name": "stderr",
     "output_type": "stream",
     "text": [
      "2025-08-15 02:27:49,339 - INFO - Generated embedding for user Richard Holloway Jr.\n"
     ]
    },
    {
     "name": "stdout",
     "output_type": "stream",
     "text": [
      "Progress: 37/200 users generated\n"
     ]
    },
    {
     "name": "stderr",
     "output_type": "stream",
     "text": [
      "2025-08-15 02:27:50,190 - INFO - Generated embedding for user Jeffery Campbell\n"
     ]
    },
    {
     "name": "stdout",
     "output_type": "stream",
     "text": [
      "Progress: 38/200 users generated\n"
     ]
    },
    {
     "name": "stderr",
     "output_type": "stream",
     "text": [
      "2025-08-15 02:27:53,087 - WARNING - Rate limit hit. Waiting 2s before retry 1/3\n",
      "2025-08-15 02:27:57,435 - WARNING - Rate limit hit. Waiting 4s before retry 2/3\n",
      "2025-08-15 02:28:02,827 - WARNING - Rate limit hit. Waiting 8s before retry 3/3\n",
      "2025-08-15 02:28:10,838 - ERROR - Failed to generate embedding for user Daniel Smith: Failed to generate Gemini embedding after 3 attempts\n"
     ]
    },
    {
     "name": "stdout",
     "output_type": "stream",
     "text": [
      "Progress: 39/200 users generated\n"
     ]
    },
    {
     "name": "stderr",
     "output_type": "stream",
     "text": [
      "2025-08-15 02:28:13,214 - WARNING - Rate limit hit. Waiting 2s before retry 1/3\n",
      "2025-08-15 02:28:17,513 - WARNING - Rate limit hit. Waiting 4s before retry 2/3\n",
      "2025-08-15 02:28:22,702 - WARNING - Rate limit hit. Waiting 8s before retry 3/3\n",
      "2025-08-15 02:28:30,711 - ERROR - Failed to generate embedding for user Patrick Walter: Failed to generate Gemini embedding after 3 attempts\n"
     ]
    },
    {
     "name": "stdout",
     "output_type": "stream",
     "text": [
      "Progress: 40/200 users generated\n"
     ]
    },
    {
     "name": "stderr",
     "output_type": "stream",
     "text": [
      "2025-08-15 02:28:31,546 - WARNING - Rate limit hit. Waiting 2s before retry 1/3\n",
      "2025-08-15 02:28:35,683 - WARNING - Rate limit hit. Waiting 4s before retry 2/3\n",
      "2025-08-15 02:28:40,252 - WARNING - Rate limit hit. Waiting 8s before retry 3/3\n",
      "2025-08-15 02:28:48,259 - ERROR - Failed to generate embedding for user Sherry Myers: Failed to generate Gemini embedding after 3 attempts\n"
     ]
    },
    {
     "name": "stdout",
     "output_type": "stream",
     "text": [
      "Progress: 41/200 users generated\n"
     ]
    },
    {
     "name": "stderr",
     "output_type": "stream",
     "text": [
      "2025-08-15 02:28:49,933 - WARNING - Rate limit hit. Waiting 2s before retry 1/3\n",
      "2025-08-15 02:28:53,562 - WARNING - Rate limit hit. Waiting 4s before retry 2/3\n",
      "2025-08-15 02:28:59,498 - WARNING - Rate limit hit. Waiting 8s before retry 3/3\n",
      "2025-08-15 02:29:07,509 - ERROR - Failed to generate embedding for user Nicholas Wilson: Failed to generate Gemini embedding after 3 attempts\n"
     ]
    },
    {
     "name": "stdout",
     "output_type": "stream",
     "text": [
      "Progress: 42/200 users generated\n"
     ]
    },
    {
     "name": "stderr",
     "output_type": "stream",
     "text": [
      "2025-08-15 02:29:08,226 - WARNING - Rate limit hit. Waiting 2s before retry 1/3\n",
      "2025-08-15 02:29:11,550 - WARNING - Rate limit hit. Waiting 4s before retry 2/3\n",
      "2025-08-15 02:29:17,247 - WARNING - Rate limit hit. Waiting 8s before retry 3/3\n",
      "2025-08-15 02:29:25,258 - ERROR - Failed to generate embedding for user Kara Scott: Failed to generate Gemini embedding after 3 attempts\n"
     ]
    },
    {
     "name": "stdout",
     "output_type": "stream",
     "text": [
      "Progress: 43/200 users generated\n"
     ]
    },
    {
     "name": "stderr",
     "output_type": "stream",
     "text": [
      "2025-08-15 02:29:26,480 - WARNING - Rate limit hit. Waiting 2s before retry 1/3\n",
      "2025-08-15 02:29:29,747 - WARNING - Rate limit hit. Waiting 4s before retry 2/3\n",
      "2025-08-15 02:29:36,039 - WARNING - Rate limit hit. Waiting 8s before retry 3/3\n",
      "2025-08-15 02:29:44,048 - ERROR - Failed to generate embedding for user Priscilla Kim: Failed to generate Gemini embedding after 3 attempts\n"
     ]
    },
    {
     "name": "stdout",
     "output_type": "stream",
     "text": [
      "Progress: 44/200 users generated\n"
     ]
    },
    {
     "name": "stderr",
     "output_type": "stream",
     "text": [
      "2025-08-15 02:29:44,609 - WARNING - Rate limit hit. Waiting 2s before retry 1/3\n",
      "2025-08-15 02:29:47,566 - WARNING - Rate limit hit. Waiting 4s before retry 2/3\n",
      "2025-08-15 02:29:52,570 - WARNING - Rate limit hit. Waiting 8s before retry 3/3\n",
      "2025-08-15 02:30:00,581 - ERROR - Failed to generate embedding for user Robert Gonzalez: Failed to generate Gemini embedding after 3 attempts\n"
     ]
    },
    {
     "name": "stdout",
     "output_type": "stream",
     "text": [
      "Progress: 45/200 users generated\n"
     ]
    },
    {
     "name": "stderr",
     "output_type": "stream",
     "text": [
      "2025-08-15 02:30:02,247 - WARNING - Rate limit hit. Waiting 2s before retry 1/3\n",
      "2025-08-15 02:30:06,192 - WARNING - Rate limit hit. Waiting 4s before retry 2/3\n",
      "2025-08-15 02:30:11,751 - WARNING - Rate limit hit. Waiting 8s before retry 3/3\n",
      "2025-08-15 02:30:19,759 - ERROR - Failed to generate embedding for user Carol Butler: Failed to generate Gemini embedding after 3 attempts\n"
     ]
    },
    {
     "name": "stdout",
     "output_type": "stream",
     "text": [
      "Progress: 46/200 users generated\n"
     ]
    },
    {
     "name": "stderr",
     "output_type": "stream",
     "text": [
      "2025-08-15 02:30:21,569 - WARNING - Rate limit hit. Waiting 2s before retry 1/3\n",
      "2025-08-15 02:30:24,280 - WARNING - Rate limit hit. Waiting 4s before retry 2/3\n",
      "2025-08-15 02:30:31,538 - WARNING - Rate limit hit. Waiting 8s before retry 3/3\n",
      "2025-08-15 02:30:39,549 - ERROR - Failed to generate embedding for user Mark Medina: Failed to generate Gemini embedding after 3 attempts\n"
     ]
    },
    {
     "name": "stdout",
     "output_type": "stream",
     "text": [
      "Progress: 47/200 users generated\n"
     ]
    },
    {
     "name": "stderr",
     "output_type": "stream",
     "text": [
      "2025-08-15 02:30:42,014 - WARNING - Rate limit hit. Waiting 2s before retry 1/3\n",
      "2025-08-15 02:30:46,290 - WARNING - Rate limit hit. Waiting 4s before retry 2/3\n",
      "2025-08-15 02:30:51,418 - WARNING - Rate limit hit. Waiting 8s before retry 3/3\n",
      "2025-08-15 02:30:59,428 - ERROR - Failed to generate embedding for user Gabrielle Campbell: Failed to generate Gemini embedding after 3 attempts\n"
     ]
    },
    {
     "name": "stdout",
     "output_type": "stream",
     "text": [
      "Progress: 48/200 users generated\n"
     ]
    },
    {
     "name": "stderr",
     "output_type": "stream",
     "text": [
      "2025-08-15 02:30:59,972 - WARNING - Rate limit hit. Waiting 2s before retry 1/3\n",
      "2025-08-15 02:31:04,409 - WARNING - Rate limit hit. Waiting 4s before retry 2/3\n",
      "2025-08-15 02:31:10,289 - WARNING - Rate limit hit. Waiting 8s before retry 3/3\n",
      "2025-08-15 02:31:18,297 - ERROR - Failed to generate embedding for user Ralph Ruiz: Failed to generate Gemini embedding after 3 attempts\n"
     ]
    },
    {
     "name": "stdout",
     "output_type": "stream",
     "text": [
      "Progress: 49/200 users generated\n"
     ]
    },
    {
     "name": "stderr",
     "output_type": "stream",
     "text": [
      "2025-08-15 02:31:19,456 - WARNING - Rate limit hit. Waiting 2s before retry 1/3\n",
      "2025-08-15 02:31:23,383 - WARNING - Rate limit hit. Waiting 4s before retry 2/3\n",
      "2025-08-15 02:31:29,097 - WARNING - Rate limit hit. Waiting 8s before retry 3/3\n",
      "2025-08-15 02:31:37,102 - ERROR - Failed to generate embedding for user Tiffany Ellis: Failed to generate Gemini embedding after 3 attempts\n"
     ]
    },
    {
     "name": "stdout",
     "output_type": "stream",
     "text": [
      "Progress: 50/200 users generated\n"
     ]
    },
    {
     "name": "stderr",
     "output_type": "stream",
     "text": [
      "2025-08-15 02:31:38,096 - WARNING - Rate limit hit. Waiting 2s before retry 1/3\n",
      "2025-08-15 02:31:41,517 - WARNING - Rate limit hit. Waiting 4s before retry 2/3\n",
      "2025-08-15 02:31:47,254 - WARNING - Rate limit hit. Waiting 8s before retry 3/3\n",
      "2025-08-15 02:31:55,265 - ERROR - Failed to generate embedding for user Cassandra Collins: Failed to generate Gemini embedding after 3 attempts\n"
     ]
    },
    {
     "name": "stdout",
     "output_type": "stream",
     "text": [
      "Progress: 51/200 users generated\n"
     ]
    },
    {
     "name": "stderr",
     "output_type": "stream",
     "text": [
      "2025-08-15 02:31:56,127 - WARNING - Rate limit hit. Waiting 2s before retry 1/3\n",
      "2025-08-15 02:32:00,306 - WARNING - Rate limit hit. Waiting 4s before retry 2/3\n",
      "2025-08-15 02:32:04,849 - WARNING - Rate limit hit. Waiting 8s before retry 3/3\n",
      "2025-08-15 02:32:12,858 - ERROR - Failed to generate embedding for user Kimberly Huang: Failed to generate Gemini embedding after 3 attempts\n"
     ]
    },
    {
     "name": "stdout",
     "output_type": "stream",
     "text": [
      "Progress: 52/200 users generated\n"
     ]
    },
    {
     "name": "stderr",
     "output_type": "stream",
     "text": [
      "2025-08-15 02:32:13,483 - WARNING - Rate limit hit. Waiting 2s before retry 1/3\n",
      "2025-08-15 02:32:16,528 - WARNING - Rate limit hit. Waiting 4s before retry 2/3\n",
      "2025-08-15 02:32:21,996 - WARNING - Rate limit hit. Waiting 8s before retry 3/3\n",
      "2025-08-15 02:32:30,000 - ERROR - Failed to generate embedding for user Joseph Martinez: Failed to generate Gemini embedding after 3 attempts\n"
     ]
    },
    {
     "name": "stdout",
     "output_type": "stream",
     "text": [
      "Progress: 53/200 users generated\n"
     ]
    },
    {
     "name": "stderr",
     "output_type": "stream",
     "text": [
      "2025-08-15 02:32:32,209 - WARNING - Rate limit hit. Waiting 2s before retry 1/3\n",
      "2025-08-15 02:32:35,303 - WARNING - Rate limit hit. Waiting 4s before retry 2/3\n",
      "2025-08-15 02:32:40,755 - WARNING - Rate limit hit. Waiting 8s before retry 3/3\n",
      "2025-08-15 02:32:48,766 - ERROR - Failed to generate embedding for user Lori Coleman: Failed to generate Gemini embedding after 3 attempts\n"
     ]
    },
    {
     "name": "stdout",
     "output_type": "stream",
     "text": [
      "Progress: 54/200 users generated\n"
     ]
    },
    {
     "name": "stderr",
     "output_type": "stream",
     "text": [
      "2025-08-15 02:32:50,328 - WARNING - Rate limit hit. Waiting 2s before retry 1/3\n",
      "2025-08-15 02:32:54,277 - WARNING - Rate limit hit. Waiting 4s before retry 2/3\n",
      "2025-08-15 02:32:59,625 - WARNING - Rate limit hit. Waiting 8s before retry 3/3\n",
      "2025-08-15 02:33:07,634 - ERROR - Failed to generate embedding for user Derrick Hensley: Failed to generate Gemini embedding after 3 attempts\n"
     ]
    },
    {
     "name": "stdout",
     "output_type": "stream",
     "text": [
      "Progress: 55/200 users generated\n"
     ]
    },
    {
     "name": "stderr",
     "output_type": "stream",
     "text": [
      "2025-08-15 02:33:08,150 - WARNING - Rate limit hit. Waiting 2s before retry 1/3\n",
      "2025-08-15 02:33:11,860 - WARNING - Rate limit hit. Waiting 4s before retry 2/3\n",
      "2025-08-15 02:33:17,337 - WARNING - Rate limit hit. Waiting 8s before retry 3/3\n",
      "2025-08-15 02:33:25,349 - ERROR - Failed to generate embedding for user Sean Brown: Failed to generate Gemini embedding after 3 attempts\n"
     ]
    },
    {
     "name": "stdout",
     "output_type": "stream",
     "text": [
      "Progress: 56/200 users generated\n"
     ]
    },
    {
     "name": "stderr",
     "output_type": "stream",
     "text": [
      "2025-08-15 02:33:27,458 - WARNING - Rate limit hit. Waiting 2s before retry 1/3\n",
      "2025-08-15 02:33:31,227 - WARNING - Rate limit hit. Waiting 4s before retry 2/3\n",
      "2025-08-15 02:33:35,760 - WARNING - Rate limit hit. Waiting 8s before retry 3/3\n",
      "2025-08-15 02:33:43,770 - ERROR - Failed to generate embedding for user Stephanie Ruiz: Failed to generate Gemini embedding after 3 attempts\n"
     ]
    },
    {
     "name": "stdout",
     "output_type": "stream",
     "text": [
      "Progress: 57/200 users generated\n"
     ]
    },
    {
     "name": "stderr",
     "output_type": "stream",
     "text": [
      "2025-08-15 02:33:44,382 - WARNING - Rate limit hit. Waiting 2s before retry 1/3\n",
      "2025-08-15 02:33:48,037 - WARNING - Rate limit hit. Waiting 4s before retry 2/3\n",
      "2025-08-15 02:33:53,381 - WARNING - Rate limit hit. Waiting 8s before retry 3/3\n",
      "2025-08-15 02:34:01,388 - ERROR - Failed to generate embedding for user Christopher Walsh: Failed to generate Gemini embedding after 3 attempts\n"
     ]
    },
    {
     "name": "stdout",
     "output_type": "stream",
     "text": [
      "Progress: 58/200 users generated\n"
     ]
    },
    {
     "name": "stderr",
     "output_type": "stream",
     "text": [
      "2025-08-15 02:34:01,829 - WARNING - Rate limit hit. Waiting 2s before retry 1/3\n",
      "2025-08-15 02:34:05,290 - WARNING - Rate limit hit. Waiting 4s before retry 2/3\n",
      "2025-08-15 02:34:09,942 - WARNING - Rate limit hit. Waiting 8s before retry 3/3\n",
      "2025-08-15 02:34:17,948 - ERROR - Failed to generate embedding for user Jeremy Ortiz: Failed to generate Gemini embedding after 3 attempts\n"
     ]
    },
    {
     "name": "stdout",
     "output_type": "stream",
     "text": [
      "Progress: 59/200 users generated\n"
     ]
    },
    {
     "name": "stderr",
     "output_type": "stream",
     "text": [
      "2025-08-15 02:34:18,446 - WARNING - Rate limit hit. Waiting 2s before retry 1/3\n",
      "2025-08-15 02:34:21,664 - WARNING - Rate limit hit. Waiting 4s before retry 2/3\n",
      "2025-08-15 02:34:27,272 - WARNING - Rate limit hit. Waiting 8s before retry 3/3\n",
      "2025-08-15 02:34:35,279 - ERROR - Failed to generate embedding for user Melanie Garrett: Failed to generate Gemini embedding after 3 attempts\n"
     ]
    },
    {
     "name": "stdout",
     "output_type": "stream",
     "text": [
      "Progress: 60/200 users generated\n"
     ]
    },
    {
     "name": "stderr",
     "output_type": "stream",
     "text": [
      "2025-08-15 02:34:36,940 - WARNING - Rate limit hit. Waiting 2s before retry 1/3\n",
      "2025-08-15 02:34:40,481 - WARNING - Rate limit hit. Waiting 4s before retry 2/3\n",
      "2025-08-15 02:34:46,708 - WARNING - Rate limit hit. Waiting 8s before retry 3/3\n",
      "2025-08-15 02:34:54,714 - ERROR - Failed to generate embedding for user Christina Whitaker: Failed to generate Gemini embedding after 3 attempts\n"
     ]
    },
    {
     "name": "stdout",
     "output_type": "stream",
     "text": [
      "Progress: 61/200 users generated\n"
     ]
    },
    {
     "name": "stderr",
     "output_type": "stream",
     "text": [
      "2025-08-15 02:34:56,966 - WARNING - Rate limit hit. Waiting 2s before retry 1/3\n",
      "2025-08-15 02:35:00,011 - WARNING - Rate limit hit. Waiting 4s before retry 2/3\n",
      "2025-08-15 02:35:05,639 - WARNING - Rate limit hit. Waiting 8s before retry 3/3\n",
      "2025-08-15 02:35:13,650 - ERROR - Failed to generate embedding for user Mr. Darren Mccann II: Failed to generate Gemini embedding after 3 attempts\n"
     ]
    },
    {
     "name": "stdout",
     "output_type": "stream",
     "text": [
      "Progress: 62/200 users generated\n"
     ]
    },
    {
     "name": "stderr",
     "output_type": "stream",
     "text": [
      "2025-08-15 02:35:14,501 - WARNING - Rate limit hit. Waiting 2s before retry 1/3\n",
      "2025-08-15 02:35:17,826 - WARNING - Rate limit hit. Waiting 4s before retry 2/3\n",
      "2025-08-15 02:35:23,316 - WARNING - Rate limit hit. Waiting 8s before retry 3/3\n",
      "2025-08-15 02:35:31,324 - ERROR - Failed to generate embedding for user George Taylor: Failed to generate Gemini embedding after 3 attempts\n"
     ]
    },
    {
     "name": "stdout",
     "output_type": "stream",
     "text": [
      "Progress: 63/200 users generated\n"
     ]
    },
    {
     "name": "stderr",
     "output_type": "stream",
     "text": [
      "2025-08-15 02:35:32,782 - WARNING - Rate limit hit. Waiting 2s before retry 1/3\n",
      "2025-08-15 02:35:37,030 - WARNING - Rate limit hit. Waiting 4s before retry 2/3\n",
      "2025-08-15 02:35:43,117 - WARNING - Rate limit hit. Waiting 8s before retry 3/3\n",
      "2025-08-15 02:35:51,122 - ERROR - Failed to generate embedding for user Jenna Drake: Failed to generate Gemini embedding after 3 attempts\n"
     ]
    },
    {
     "name": "stdout",
     "output_type": "stream",
     "text": [
      "Progress: 64/200 users generated\n"
     ]
    },
    {
     "name": "stderr",
     "output_type": "stream",
     "text": [
      "2025-08-15 02:35:52,770 - WARNING - Rate limit hit. Waiting 2s before retry 1/3\n",
      "2025-08-15 02:35:56,377 - WARNING - Rate limit hit. Waiting 4s before retry 2/3\n",
      "2025-08-15 02:36:02,210 - WARNING - Rate limit hit. Waiting 8s before retry 3/3\n",
      "2025-08-15 02:36:10,214 - ERROR - Failed to generate embedding for user Ann Ashley: Failed to generate Gemini embedding after 3 attempts\n"
     ]
    },
    {
     "name": "stdout",
     "output_type": "stream",
     "text": [
      "Progress: 65/200 users generated\n"
     ]
    },
    {
     "name": "stderr",
     "output_type": "stream",
     "text": [
      "2025-08-15 02:36:10,676 - WARNING - Rate limit hit. Waiting 2s before retry 1/3\n",
      "2025-08-15 02:36:13,455 - WARNING - Rate limit hit. Waiting 4s before retry 2/3\n",
      "2025-08-15 02:36:17,888 - WARNING - Rate limit hit. Waiting 8s before retry 3/3\n",
      "2025-08-15 02:36:25,893 - ERROR - Failed to generate embedding for user Raymond Jones: Failed to generate Gemini embedding after 3 attempts\n"
     ]
    },
    {
     "name": "stdout",
     "output_type": "stream",
     "text": [
      "Progress: 66/200 users generated\n"
     ]
    },
    {
     "name": "stderr",
     "output_type": "stream",
     "text": [
      "2025-08-15 02:36:26,606 - WARNING - Rate limit hit. Waiting 2s before retry 1/3\n",
      "2025-08-15 02:36:31,016 - WARNING - Rate limit hit. Waiting 4s before retry 2/3\n",
      "2025-08-15 02:36:35,726 - WARNING - Rate limit hit. Waiting 8s before retry 3/3\n",
      "2025-08-15 02:36:43,736 - ERROR - Failed to generate embedding for user Mary Glenn: Failed to generate Gemini embedding after 3 attempts\n"
     ]
    },
    {
     "name": "stdout",
     "output_type": "stream",
     "text": [
      "Progress: 67/200 users generated\n"
     ]
    },
    {
     "name": "stderr",
     "output_type": "stream",
     "text": [
      "2025-08-15 02:36:45,697 - WARNING - Rate limit hit. Waiting 2s before retry 1/3\n",
      "2025-08-15 02:36:48,892 - WARNING - Rate limit hit. Waiting 4s before retry 2/3\n",
      "2025-08-15 02:36:54,800 - WARNING - Rate limit hit. Waiting 8s before retry 3/3\n",
      "2025-08-15 02:37:02,808 - ERROR - Failed to generate embedding for user Andrew Johnson: Failed to generate Gemini embedding after 3 attempts\n"
     ]
    },
    {
     "name": "stdout",
     "output_type": "stream",
     "text": [
      "Progress: 68/200 users generated\n"
     ]
    },
    {
     "name": "stderr",
     "output_type": "stream",
     "text": [
      "2025-08-15 02:37:04,973 - WARNING - Rate limit hit. Waiting 2s before retry 1/3\n",
      "2025-08-15 02:37:08,134 - WARNING - Rate limit hit. Waiting 4s before retry 2/3\n",
      "2025-08-15 02:37:14,425 - WARNING - Rate limit hit. Waiting 8s before retry 3/3\n",
      "2025-08-15 02:37:22,428 - ERROR - Failed to generate embedding for user Mary Thomas: Failed to generate Gemini embedding after 3 attempts\n"
     ]
    },
    {
     "name": "stdout",
     "output_type": "stream",
     "text": [
      "Progress: 69/200 users generated\n"
     ]
    },
    {
     "name": "stderr",
     "output_type": "stream",
     "text": [
      "2025-08-15 02:37:24,707 - WARNING - Rate limit hit. Waiting 2s before retry 1/3\n",
      "2025-08-15 02:37:28,085 - WARNING - Rate limit hit. Waiting 4s before retry 2/3\n",
      "2025-08-15 02:37:32,577 - WARNING - Rate limit hit. Waiting 8s before retry 3/3\n",
      "2025-08-15 02:37:40,587 - ERROR - Failed to generate embedding for user Elizabeth Contreras: Failed to generate Gemini embedding after 3 attempts\n"
     ]
    },
    {
     "name": "stdout",
     "output_type": "stream",
     "text": [
      "Progress: 70/200 users generated\n"
     ]
    },
    {
     "name": "stderr",
     "output_type": "stream",
     "text": [
      "2025-08-15 02:37:40,899 - WARNING - Rate limit hit. Waiting 2s before retry 1/3\n",
      "2025-08-15 02:37:46,307 - WARNING - Rate limit hit. Waiting 4s before retry 2/3\n",
      "2025-08-15 02:37:50,941 - WARNING - Rate limit hit. Waiting 8s before retry 3/3\n",
      "2025-08-15 02:37:58,948 - ERROR - Failed to generate embedding for user Sandra Lewis: Failed to generate Gemini embedding after 3 attempts\n"
     ]
    },
    {
     "name": "stdout",
     "output_type": "stream",
     "text": [
      "Progress: 71/200 users generated\n"
     ]
    },
    {
     "name": "stderr",
     "output_type": "stream",
     "text": [
      "2025-08-15 02:38:00,789 - WARNING - Rate limit hit. Waiting 2s before retry 1/3\n",
      "2025-08-15 02:38:04,571 - WARNING - Rate limit hit. Waiting 4s before retry 2/3\n",
      "2025-08-15 02:38:09,598 - WARNING - Rate limit hit. Waiting 8s before retry 3/3\n",
      "2025-08-15 02:38:17,601 - ERROR - Failed to generate embedding for user Leslie Joseph: Failed to generate Gemini embedding after 3 attempts\n"
     ]
    },
    {
     "name": "stdout",
     "output_type": "stream",
     "text": [
      "Progress: 72/200 users generated\n"
     ]
    },
    {
     "name": "stderr",
     "output_type": "stream",
     "text": [
      "2025-08-15 02:38:19,362 - WARNING - Rate limit hit. Waiting 2s before retry 1/3\n",
      "2025-08-15 02:38:23,769 - WARNING - Rate limit hit. Waiting 4s before retry 2/3\n",
      "2025-08-15 02:38:28,859 - WARNING - Rate limit hit. Waiting 8s before retry 3/3\n",
      "2025-08-15 02:38:36,868 - ERROR - Failed to generate embedding for user Jack Reynolds: Failed to generate Gemini embedding after 3 attempts\n"
     ]
    },
    {
     "name": "stdout",
     "output_type": "stream",
     "text": [
      "Progress: 73/200 users generated\n"
     ]
    },
    {
     "name": "stderr",
     "output_type": "stream",
     "text": [
      "2025-08-15 02:38:38,799 - WARNING - Rate limit hit. Waiting 2s before retry 1/3\n",
      "2025-08-15 02:38:43,103 - WARNING - Rate limit hit. Waiting 4s before retry 2/3\n",
      "2025-08-15 02:38:48,030 - WARNING - Rate limit hit. Waiting 8s before retry 3/3\n",
      "2025-08-15 02:38:56,036 - ERROR - Failed to generate embedding for user Lisa Peterson: Failed to generate Gemini embedding after 3 attempts\n"
     ]
    },
    {
     "name": "stdout",
     "output_type": "stream",
     "text": [
      "Progress: 74/200 users generated\n"
     ]
    },
    {
     "name": "stderr",
     "output_type": "stream",
     "text": [
      "2025-08-15 02:38:57,004 - WARNING - Rate limit hit. Waiting 2s before retry 1/3\n",
      "2025-08-15 02:39:01,766 - WARNING - Rate limit hit. Waiting 4s before retry 2/3\n",
      "2025-08-15 02:39:07,244 - WARNING - Rate limit hit. Waiting 8s before retry 3/3\n",
      "2025-08-15 02:39:15,246 - ERROR - Failed to generate embedding for user Fernando Pacheco: Failed to generate Gemini embedding after 3 attempts\n"
     ]
    },
    {
     "name": "stdout",
     "output_type": "stream",
     "text": [
      "Progress: 75/200 users generated\n"
     ]
    },
    {
     "name": "stderr",
     "output_type": "stream",
     "text": [
      "2025-08-15 02:39:16,069 - WARNING - Rate limit hit. Waiting 2s before retry 1/3\n",
      "2025-08-15 02:39:19,179 - WARNING - Rate limit hit. Waiting 4s before retry 2/3\n",
      "2025-08-15 02:39:23,811 - WARNING - Rate limit hit. Waiting 8s before retry 3/3\n",
      "2025-08-15 02:39:31,822 - ERROR - Failed to generate embedding for user Ryan Mason: Failed to generate Gemini embedding after 3 attempts\n"
     ]
    },
    {
     "name": "stdout",
     "output_type": "stream",
     "text": [
      "Progress: 76/200 users generated\n"
     ]
    },
    {
     "name": "stderr",
     "output_type": "stream",
     "text": [
      "2025-08-15 02:39:34,160 - WARNING - Rate limit hit. Waiting 2s before retry 1/3\n",
      "2025-08-15 02:39:37,431 - WARNING - Rate limit hit. Waiting 4s before retry 2/3\n",
      "2025-08-15 02:39:41,938 - WARNING - Rate limit hit. Waiting 8s before retry 3/3\n",
      "2025-08-15 02:39:49,948 - ERROR - Failed to generate embedding for user Janet Bruce: Failed to generate Gemini embedding after 3 attempts\n"
     ]
    },
    {
     "name": "stdout",
     "output_type": "stream",
     "text": [
      "Progress: 77/200 users generated\n"
     ]
    },
    {
     "name": "stderr",
     "output_type": "stream",
     "text": [
      "2025-08-15 02:39:50,857 - WARNING - Rate limit hit. Waiting 2s before retry 1/3\n",
      "2025-08-15 02:39:54,545 - WARNING - Rate limit hit. Waiting 4s before retry 2/3\n",
      "2025-08-15 02:39:59,768 - WARNING - Rate limit hit. Waiting 8s before retry 3/3\n",
      "2025-08-15 02:40:07,769 - ERROR - Failed to generate embedding for user Benjamin Hardy: Failed to generate Gemini embedding after 3 attempts\n"
     ]
    },
    {
     "name": "stdout",
     "output_type": "stream",
     "text": [
      "Progress: 78/200 users generated\n"
     ]
    },
    {
     "name": "stderr",
     "output_type": "stream",
     "text": [
      "2025-08-15 02:40:09,949 - WARNING - Rate limit hit. Waiting 2s before retry 1/3\n",
      "2025-08-15 02:40:14,138 - WARNING - Rate limit hit. Waiting 4s before retry 2/3\n",
      "2025-08-15 02:40:19,142 - WARNING - Rate limit hit. Waiting 8s before retry 3/3\n",
      "2025-08-15 02:40:27,153 - ERROR - Failed to generate embedding for user Elizabeth Gentry: Failed to generate Gemini embedding after 3 attempts\n"
     ]
    },
    {
     "name": "stdout",
     "output_type": "stream",
     "text": [
      "Progress: 79/200 users generated\n"
     ]
    },
    {
     "name": "stderr",
     "output_type": "stream",
     "text": [
      "2025-08-15 02:40:29,108 - WARNING - Rate limit hit. Waiting 2s before retry 1/3\n",
      "2025-08-15 02:40:33,693 - WARNING - Rate limit hit. Waiting 4s before retry 2/3\n",
      "2025-08-15 02:40:39,593 - WARNING - Rate limit hit. Waiting 8s before retry 3/3\n",
      "2025-08-15 02:40:47,599 - ERROR - Failed to generate embedding for user Bryan Carrillo: Failed to generate Gemini embedding after 3 attempts\n"
     ]
    },
    {
     "name": "stdout",
     "output_type": "stream",
     "text": [
      "Progress: 80/200 users generated\n"
     ]
    },
    {
     "name": "stderr",
     "output_type": "stream",
     "text": [
      "2025-08-15 02:40:48,053 - WARNING - Rate limit hit. Waiting 2s before retry 1/3\n",
      "2025-08-15 02:40:51,333 - WARNING - Rate limit hit. Waiting 4s before retry 2/3\n",
      "2025-08-15 02:40:57,701 - WARNING - Rate limit hit. Waiting 8s before retry 3/3\n",
      "2025-08-15 02:41:05,710 - ERROR - Failed to generate embedding for user Joseph Wagner: Failed to generate Gemini embedding after 3 attempts\n"
     ]
    },
    {
     "name": "stdout",
     "output_type": "stream",
     "text": [
      "Progress: 81/200 users generated\n"
     ]
    },
    {
     "name": "stderr",
     "output_type": "stream",
     "text": [
      "2025-08-15 02:41:07,969 - WARNING - Rate limit hit. Waiting 2s before retry 1/3\n",
      "2025-08-15 02:41:11,843 - WARNING - Rate limit hit. Waiting 4s before retry 2/3\n",
      "2025-08-15 02:41:16,347 - WARNING - Rate limit hit. Waiting 8s before retry 3/3\n",
      "2025-08-15 02:41:24,356 - ERROR - Failed to generate embedding for user Sydney Moody: Failed to generate Gemini embedding after 3 attempts\n"
     ]
    },
    {
     "name": "stdout",
     "output_type": "stream",
     "text": [
      "Progress: 82/200 users generated\n"
     ]
    },
    {
     "name": "stderr",
     "output_type": "stream",
     "text": [
      "2025-08-15 02:41:26,451 - WARNING - Rate limit hit. Waiting 2s before retry 1/3\n",
      "2025-08-15 02:41:29,327 - WARNING - Rate limit hit. Waiting 4s before retry 2/3\n",
      "2025-08-15 02:41:35,641 - WARNING - Rate limit hit. Waiting 8s before retry 3/3\n",
      "2025-08-15 02:41:43,652 - ERROR - Failed to generate embedding for user Carrie Rowland: Failed to generate Gemini embedding after 3 attempts\n"
     ]
    },
    {
     "name": "stdout",
     "output_type": "stream",
     "text": [
      "Progress: 83/200 users generated\n"
     ]
    },
    {
     "name": "stderr",
     "output_type": "stream",
     "text": [
      "2025-08-15 02:41:44,521 - WARNING - Rate limit hit. Waiting 2s before retry 1/3\n",
      "2025-08-15 02:41:48,659 - WARNING - Rate limit hit. Waiting 4s before retry 2/3\n",
      "2025-08-15 02:41:54,014 - WARNING - Rate limit hit. Waiting 8s before retry 3/3\n",
      "2025-08-15 02:42:02,018 - ERROR - Failed to generate embedding for user John Ward: Failed to generate Gemini embedding after 3 attempts\n"
     ]
    },
    {
     "name": "stdout",
     "output_type": "stream",
     "text": [
      "Progress: 84/200 users generated\n"
     ]
    },
    {
     "name": "stderr",
     "output_type": "stream",
     "text": [
      "2025-08-15 02:42:03,143 - WARNING - Rate limit hit. Waiting 2s before retry 1/3\n",
      "2025-08-15 02:42:05,845 - WARNING - Rate limit hit. Waiting 4s before retry 2/3\n",
      "2025-08-15 02:42:11,991 - WARNING - Rate limit hit. Waiting 8s before retry 3/3\n",
      "2025-08-15 02:42:20,000 - ERROR - Failed to generate embedding for user James Flores: Failed to generate Gemini embedding after 3 attempts\n"
     ]
    },
    {
     "name": "stdout",
     "output_type": "stream",
     "text": [
      "Progress: 85/200 users generated\n"
     ]
    },
    {
     "name": "stderr",
     "output_type": "stream",
     "text": [
      "2025-08-15 02:42:22,295 - WARNING - Rate limit hit. Waiting 2s before retry 1/3\n",
      "2025-08-15 02:42:26,713 - WARNING - Rate limit hit. Waiting 4s before retry 2/3\n",
      "2025-08-15 02:42:33,101 - WARNING - Rate limit hit. Waiting 8s before retry 3/3\n",
      "2025-08-15 02:42:41,106 - ERROR - Failed to generate embedding for user Mariah Morris: Failed to generate Gemini embedding after 3 attempts\n"
     ]
    },
    {
     "name": "stdout",
     "output_type": "stream",
     "text": [
      "Progress: 86/200 users generated\n"
     ]
    },
    {
     "name": "stderr",
     "output_type": "stream",
     "text": [
      "2025-08-15 02:42:43,485 - WARNING - Rate limit hit. Waiting 2s before retry 1/3\n",
      "2025-08-15 02:42:46,672 - WARNING - Rate limit hit. Waiting 4s before retry 2/3\n",
      "2025-08-15 02:42:52,080 - WARNING - Rate limit hit. Waiting 8s before retry 3/3\n",
      "2025-08-15 02:43:00,082 - ERROR - Failed to generate embedding for user Mackenzie Hansen: Failed to generate Gemini embedding after 3 attempts\n"
     ]
    },
    {
     "name": "stdout",
     "output_type": "stream",
     "text": [
      "Progress: 87/200 users generated\n"
     ]
    },
    {
     "name": "stderr",
     "output_type": "stream",
     "text": [
      "2025-08-15 02:43:02,162 - WARNING - Rate limit hit. Waiting 2s before retry 1/3\n",
      "2025-08-15 02:43:06,045 - WARNING - Rate limit hit. Waiting 4s before retry 2/3\n",
      "2025-08-15 02:43:12,359 - WARNING - Rate limit hit. Waiting 8s before retry 3/3\n",
      "2025-08-15 02:43:20,361 - ERROR - Failed to generate embedding for user Denise Bailey: Failed to generate Gemini embedding after 3 attempts\n"
     ]
    },
    {
     "name": "stdout",
     "output_type": "stream",
     "text": [
      "Progress: 88/200 users generated\n"
     ]
    },
    {
     "name": "stderr",
     "output_type": "stream",
     "text": [
      "2025-08-15 02:43:21,613 - WARNING - Rate limit hit. Waiting 2s before retry 1/3\n",
      "2025-08-15 02:43:25,240 - WARNING - Rate limit hit. Waiting 4s before retry 2/3\n",
      "2025-08-15 02:43:30,771 - WARNING - Rate limit hit. Waiting 8s before retry 3/3\n",
      "2025-08-15 02:43:38,782 - ERROR - Failed to generate embedding for user Ryan Jackson: Failed to generate Gemini embedding after 3 attempts\n"
     ]
    },
    {
     "name": "stdout",
     "output_type": "stream",
     "text": [
      "Progress: 89/200 users generated\n"
     ]
    },
    {
     "name": "stderr",
     "output_type": "stream",
     "text": [
      "2025-08-15 02:43:41,187 - WARNING - Rate limit hit. Waiting 2s before retry 1/3\n",
      "2025-08-15 02:43:43,709 - WARNING - Rate limit hit. Waiting 4s before retry 2/3\n",
      "2025-08-15 02:43:48,892 - WARNING - Rate limit hit. Waiting 8s before retry 3/3\n",
      "2025-08-15 02:43:56,901 - ERROR - Failed to generate embedding for user Bradley Hernandez: Failed to generate Gemini embedding after 3 attempts\n"
     ]
    },
    {
     "name": "stdout",
     "output_type": "stream",
     "text": [
      "Progress: 90/200 users generated\n"
     ]
    },
    {
     "name": "stderr",
     "output_type": "stream",
     "text": [
      "2025-08-15 02:43:59,252 - WARNING - Rate limit hit. Waiting 2s before retry 1/3\n",
      "2025-08-15 02:44:02,841 - WARNING - Rate limit hit. Waiting 4s before retry 2/3\n",
      "2025-08-15 02:44:08,085 - WARNING - Rate limit hit. Waiting 8s before retry 3/3\n",
      "2025-08-15 02:44:16,093 - ERROR - Failed to generate embedding for user Hayley Brown: Failed to generate Gemini embedding after 3 attempts\n"
     ]
    },
    {
     "name": "stdout",
     "output_type": "stream",
     "text": [
      "Progress: 91/200 users generated\n"
     ]
    },
    {
     "name": "stderr",
     "output_type": "stream",
     "text": [
      "2025-08-15 02:44:17,460 - WARNING - Rate limit hit. Waiting 2s before retry 1/3\n",
      "2025-08-15 02:44:20,429 - WARNING - Rate limit hit. Waiting 4s before retry 2/3\n",
      "2025-08-15 02:44:25,520 - WARNING - Rate limit hit. Waiting 8s before retry 3/3\n",
      "2025-08-15 02:44:33,531 - ERROR - Failed to generate embedding for user Tiffany Maxwell: Failed to generate Gemini embedding after 3 attempts\n"
     ]
    },
    {
     "name": "stdout",
     "output_type": "stream",
     "text": [
      "Progress: 92/200 users generated\n"
     ]
    },
    {
     "name": "stderr",
     "output_type": "stream",
     "text": [
      "2025-08-15 02:44:33,981 - WARNING - Rate limit hit. Waiting 2s before retry 1/3\n",
      "2025-08-15 02:44:36,838 - WARNING - Rate limit hit. Waiting 4s before retry 2/3\n",
      "2025-08-15 02:44:42,992 - WARNING - Rate limit hit. Waiting 8s before retry 3/3\n",
      "2025-08-15 02:44:50,994 - ERROR - Failed to generate embedding for user Whitney Marks: Failed to generate Gemini embedding after 3 attempts\n"
     ]
    },
    {
     "name": "stdout",
     "output_type": "stream",
     "text": [
      "Progress: 93/200 users generated\n"
     ]
    },
    {
     "name": "stderr",
     "output_type": "stream",
     "text": [
      "2025-08-15 02:44:52,361 - WARNING - Rate limit hit. Waiting 2s before retry 1/3\n",
      "2025-08-15 02:44:55,763 - WARNING - Rate limit hit. Waiting 4s before retry 2/3\n",
      "2025-08-15 02:45:02,096 - WARNING - Rate limit hit. Waiting 8s before retry 3/3\n",
      "2025-08-15 02:45:10,103 - ERROR - Failed to generate embedding for user Krista Gibbs: Failed to generate Gemini embedding after 3 attempts\n"
     ]
    },
    {
     "name": "stdout",
     "output_type": "stream",
     "text": [
      "Progress: 94/200 users generated\n"
     ]
    },
    {
     "name": "stderr",
     "output_type": "stream",
     "text": [
      "2025-08-15 02:45:12,522 - WARNING - Rate limit hit. Waiting 2s before retry 1/3\n",
      "2025-08-15 02:45:16,054 - WARNING - Rate limit hit. Waiting 4s before retry 2/3\n",
      "2025-08-15 02:45:21,455 - WARNING - Rate limit hit. Waiting 8s before retry 3/3\n",
      "2025-08-15 02:45:29,464 - ERROR - Failed to generate embedding for user Sarah Fernandez: Failed to generate Gemini embedding after 3 attempts\n"
     ]
    },
    {
     "name": "stdout",
     "output_type": "stream",
     "text": [
      "Progress: 95/200 users generated\n"
     ]
    },
    {
     "name": "stderr",
     "output_type": "stream",
     "text": [
      "2025-08-15 02:45:30,094 - WARNING - Rate limit hit. Waiting 2s before retry 1/3\n",
      "2025-08-15 02:45:32,908 - WARNING - Rate limit hit. Waiting 4s before retry 2/3\n",
      "2025-08-15 02:45:38,612 - WARNING - Rate limit hit. Waiting 8s before retry 3/3\n",
      "2025-08-15 02:45:46,623 - ERROR - Failed to generate embedding for user Jennifer Stevenson: Failed to generate Gemini embedding after 3 attempts\n"
     ]
    },
    {
     "name": "stdout",
     "output_type": "stream",
     "text": [
      "Progress: 96/200 users generated\n"
     ]
    },
    {
     "name": "stderr",
     "output_type": "stream",
     "text": [
      "2025-08-15 02:45:47,162 - WARNING - Rate limit hit. Waiting 2s before retry 1/3\n",
      "2025-08-15 02:45:50,694 - WARNING - Rate limit hit. Waiting 4s before retry 2/3\n",
      "2025-08-15 02:45:55,915 - WARNING - Rate limit hit. Waiting 8s before retry 3/3\n",
      "2025-08-15 02:46:03,925 - ERROR - Failed to generate embedding for user Maria Fox: Failed to generate Gemini embedding after 3 attempts\n"
     ]
    },
    {
     "name": "stdout",
     "output_type": "stream",
     "text": [
      "Progress: 97/200 users generated\n"
     ]
    },
    {
     "name": "stderr",
     "output_type": "stream",
     "text": [
      "2025-08-15 02:46:04,414 - WARNING - Rate limit hit. Waiting 2s before retry 1/3\n",
      "2025-08-15 02:46:07,998 - WARNING - Rate limit hit. Waiting 4s before retry 2/3\n",
      "2025-08-15 02:46:12,972 - WARNING - Rate limit hit. Waiting 8s before retry 3/3\n",
      "2025-08-15 02:46:20,983 - ERROR - Failed to generate embedding for user Jennifer Brown: Failed to generate Gemini embedding after 3 attempts\n"
     ]
    },
    {
     "name": "stdout",
     "output_type": "stream",
     "text": [
      "Progress: 98/200 users generated\n"
     ]
    },
    {
     "name": "stderr",
     "output_type": "stream",
     "text": [
      "2025-08-15 02:46:21,816 - WARNING - Rate limit hit. Waiting 2s before retry 1/3\n",
      "2025-08-15 02:46:25,421 - WARNING - Rate limit hit. Waiting 4s before retry 2/3\n",
      "2025-08-15 02:46:31,349 - WARNING - Rate limit hit. Waiting 8s before retry 3/3\n",
      "2025-08-15 02:46:39,358 - ERROR - Failed to generate embedding for user Kim Miles: Failed to generate Gemini embedding after 3 attempts\n"
     ]
    },
    {
     "name": "stdout",
     "output_type": "stream",
     "text": [
      "Progress: 99/200 users generated\n"
     ]
    },
    {
     "name": "stderr",
     "output_type": "stream",
     "text": [
      "2025-08-15 02:46:41,459 - WARNING - Rate limit hit. Waiting 2s before retry 1/3\n",
      "2025-08-15 02:46:44,527 - WARNING - Rate limit hit. Waiting 4s before retry 2/3\n",
      "2025-08-15 02:46:49,324 - WARNING - Rate limit hit. Waiting 8s before retry 3/3\n",
      "2025-08-15 02:46:57,326 - ERROR - Failed to generate embedding for user Rebecca Smith: Failed to generate Gemini embedding after 3 attempts\n"
     ]
    },
    {
     "name": "stdout",
     "output_type": "stream",
     "text": [
      "Progress: 100/200 users generated\n"
     ]
    },
    {
     "name": "stderr",
     "output_type": "stream",
     "text": [
      "2025-08-15 02:46:59,277 - WARNING - Rate limit hit. Waiting 2s before retry 1/3\n",
      "2025-08-15 02:47:02,224 - WARNING - Rate limit hit. Waiting 4s before retry 2/3\n",
      "2025-08-15 02:47:06,857 - WARNING - Rate limit hit. Waiting 8s before retry 3/3\n",
      "2025-08-15 02:47:14,859 - ERROR - Failed to generate embedding for user Theresa Ray: Failed to generate Gemini embedding after 3 attempts\n"
     ]
    },
    {
     "name": "stdout",
     "output_type": "stream",
     "text": [
      "Progress: 101/200 users generated\n"
     ]
    },
    {
     "name": "stderr",
     "output_type": "stream",
     "text": [
      "2025-08-15 02:47:16,367 - WARNING - Rate limit hit. Waiting 2s before retry 1/3\n",
      "2025-08-15 02:47:18,808 - WARNING - Rate limit hit. Waiting 4s before retry 2/3\n",
      "2025-08-15 02:47:23,591 - WARNING - Rate limit hit. Waiting 8s before retry 3/3\n",
      "2025-08-15 02:47:31,602 - ERROR - Failed to generate embedding for user Jeffery Young: Failed to generate Gemini embedding after 3 attempts\n"
     ]
    },
    {
     "name": "stdout",
     "output_type": "stream",
     "text": [
      "Progress: 102/200 users generated\n"
     ]
    },
    {
     "name": "stderr",
     "output_type": "stream",
     "text": [
      "2025-08-15 02:47:32,872 - WARNING - Rate limit hit. Waiting 2s before retry 1/3\n",
      "2025-08-15 02:47:35,378 - WARNING - Rate limit hit. Waiting 4s before retry 2/3\n",
      "2025-08-15 02:47:40,626 - WARNING - Rate limit hit. Waiting 8s before retry 3/3\n",
      "2025-08-15 02:47:48,628 - ERROR - Failed to generate embedding for user Jeffrey Galvan: Failed to generate Gemini embedding after 3 attempts\n"
     ]
    },
    {
     "name": "stdout",
     "output_type": "stream",
     "text": [
      "Progress: 103/200 users generated\n"
     ]
    },
    {
     "name": "stderr",
     "output_type": "stream",
     "text": [
      "2025-08-15 02:47:49,554 - WARNING - Rate limit hit. Waiting 2s before retry 1/3\n",
      "2025-08-15 02:47:52,142 - WARNING - Rate limit hit. Waiting 4s before retry 2/3\n",
      "2025-08-15 02:47:57,801 - WARNING - Rate limit hit. Waiting 8s before retry 3/3\n",
      "2025-08-15 02:48:05,807 - ERROR - Failed to generate embedding for user Stephanie Thomas: Failed to generate Gemini embedding after 3 attempts\n"
     ]
    },
    {
     "name": "stdout",
     "output_type": "stream",
     "text": [
      "Progress: 104/200 users generated\n"
     ]
    },
    {
     "name": "stderr",
     "output_type": "stream",
     "text": [
      "2025-08-15 02:48:07,162 - WARNING - Rate limit hit. Waiting 2s before retry 1/3\n",
      "2025-08-15 02:48:10,471 - WARNING - Rate limit hit. Waiting 4s before retry 2/3\n",
      "2025-08-15 02:48:14,927 - WARNING - Rate limit hit. Waiting 8s before retry 3/3\n",
      "2025-08-15 02:48:22,935 - ERROR - Failed to generate embedding for user Denise Ferguson: Failed to generate Gemini embedding after 3 attempts\n"
     ]
    },
    {
     "name": "stdout",
     "output_type": "stream",
     "text": [
      "Progress: 105/200 users generated\n"
     ]
    },
    {
     "name": "stderr",
     "output_type": "stream",
     "text": [
      "2025-08-15 02:48:24,904 - WARNING - Rate limit hit. Waiting 2s before retry 1/3\n",
      "2025-08-15 02:48:28,505 - WARNING - Rate limit hit. Waiting 4s before retry 2/3\n",
      "2025-08-15 02:48:33,385 - WARNING - Rate limit hit. Waiting 8s before retry 3/3\n",
      "2025-08-15 02:48:41,389 - ERROR - Failed to generate embedding for user Logan Gray: Failed to generate Gemini embedding after 3 attempts\n"
     ]
    },
    {
     "name": "stdout",
     "output_type": "stream",
     "text": [
      "Progress: 106/200 users generated\n"
     ]
    },
    {
     "name": "stderr",
     "output_type": "stream",
     "text": [
      "2025-08-15 02:48:43,678 - WARNING - Rate limit hit. Waiting 2s before retry 1/3\n",
      "2025-08-15 02:48:46,712 - WARNING - Rate limit hit. Waiting 4s before retry 2/3\n",
      "2025-08-15 02:48:52,595 - WARNING - Rate limit hit. Waiting 8s before retry 3/3\n",
      "2025-08-15 02:49:00,606 - ERROR - Failed to generate embedding for user Don Jones: Failed to generate Gemini embedding after 3 attempts\n"
     ]
    },
    {
     "name": "stdout",
     "output_type": "stream",
     "text": [
      "Progress: 107/200 users generated\n"
     ]
    },
    {
     "name": "stderr",
     "output_type": "stream",
     "text": [
      "2025-08-15 02:49:02,626 - WARNING - Rate limit hit. Waiting 2s before retry 1/3\n",
      "2025-08-15 02:49:05,957 - WARNING - Rate limit hit. Waiting 4s before retry 2/3\n",
      "2025-08-15 02:49:10,609 - WARNING - Rate limit hit. Waiting 8s before retry 3/3\n",
      "2025-08-15 02:49:18,613 - ERROR - Failed to generate embedding for user Brandon Thomas: Failed to generate Gemini embedding after 3 attempts\n"
     ]
    },
    {
     "name": "stdout",
     "output_type": "stream",
     "text": [
      "Progress: 108/200 users generated\n"
     ]
    },
    {
     "name": "stderr",
     "output_type": "stream",
     "text": [
      "2025-08-15 02:49:20,309 - WARNING - Rate limit hit. Waiting 2s before retry 1/3\n",
      "2025-08-15 02:49:23,379 - WARNING - Rate limit hit. Waiting 4s before retry 2/3\n",
      "2025-08-15 02:49:28,092 - WARNING - Rate limit hit. Waiting 8s before retry 3/3\n",
      "2025-08-15 02:49:36,103 - ERROR - Failed to generate embedding for user Nina Wood: Failed to generate Gemini embedding after 3 attempts\n"
     ]
    },
    {
     "name": "stdout",
     "output_type": "stream",
     "text": [
      "Progress: 109/200 users generated\n"
     ]
    },
    {
     "name": "stderr",
     "output_type": "stream",
     "text": [
      "2025-08-15 02:49:37,718 - WARNING - Rate limit hit. Waiting 2s before retry 1/3\n",
      "2025-08-15 02:49:40,568 - WARNING - Rate limit hit. Waiting 4s before retry 2/3\n",
      "2025-08-15 02:49:45,299 - WARNING - Rate limit hit. Waiting 8s before retry 3/3\n",
      "2025-08-15 02:49:53,309 - ERROR - Failed to generate embedding for user Jordan Aguirre: Failed to generate Gemini embedding after 3 attempts\n"
     ]
    },
    {
     "name": "stdout",
     "output_type": "stream",
     "text": [
      "Progress: 110/200 users generated\n"
     ]
    },
    {
     "name": "stderr",
     "output_type": "stream",
     "text": [
      "2025-08-15 02:49:54,027 - WARNING - Rate limit hit. Waiting 2s before retry 1/3\n",
      "2025-08-15 02:49:58,257 - WARNING - Rate limit hit. Waiting 4s before retry 2/3\n",
      "2025-08-15 02:50:03,612 - WARNING - Rate limit hit. Waiting 8s before retry 3/3\n",
      "2025-08-15 02:50:11,621 - ERROR - Failed to generate embedding for user Troy Sullivan: Failed to generate Gemini embedding after 3 attempts\n"
     ]
    },
    {
     "name": "stdout",
     "output_type": "stream",
     "text": [
      "Progress: 111/200 users generated\n"
     ]
    },
    {
     "name": "stderr",
     "output_type": "stream",
     "text": [
      "2025-08-15 02:50:13,558 - WARNING - Rate limit hit. Waiting 2s before retry 1/3\n",
      "2025-08-15 02:50:17,626 - WARNING - Rate limit hit. Waiting 4s before retry 2/3\n",
      "2025-08-15 02:50:23,858 - WARNING - Rate limit hit. Waiting 8s before retry 3/3\n",
      "2025-08-15 02:50:31,860 - ERROR - Failed to generate embedding for user Carol Walker: Failed to generate Gemini embedding after 3 attempts\n"
     ]
    },
    {
     "name": "stdout",
     "output_type": "stream",
     "text": [
      "Progress: 112/200 users generated\n"
     ]
    },
    {
     "name": "stderr",
     "output_type": "stream",
     "text": [
      "2025-08-15 02:50:32,458 - WARNING - Rate limit hit. Waiting 2s before retry 1/3\n",
      "2025-08-15 02:50:36,213 - WARNING - Rate limit hit. Waiting 4s before retry 2/3\n",
      "2025-08-15 02:50:42,570 - WARNING - Rate limit hit. Waiting 8s before retry 3/3\n",
      "2025-08-15 02:50:50,579 - ERROR - Failed to generate embedding for user Tamara Fuentes: Failed to generate Gemini embedding after 3 attempts\n"
     ]
    },
    {
     "name": "stdout",
     "output_type": "stream",
     "text": [
      "Progress: 113/200 users generated\n"
     ]
    },
    {
     "name": "stderr",
     "output_type": "stream",
     "text": [
      "2025-08-15 02:50:51,851 - WARNING - Rate limit hit. Waiting 2s before retry 1/3\n",
      "2025-08-15 02:50:56,041 - WARNING - Rate limit hit. Waiting 4s before retry 2/3\n",
      "2025-08-15 02:51:01,161 - WARNING - Rate limit hit. Waiting 8s before retry 3/3\n",
      "2025-08-15 02:51:09,173 - ERROR - Failed to generate embedding for user Jessica Ballard: Failed to generate Gemini embedding after 3 attempts\n"
     ]
    },
    {
     "name": "stdout",
     "output_type": "stream",
     "text": [
      "Progress: 114/200 users generated\n"
     ]
    },
    {
     "name": "stderr",
     "output_type": "stream",
     "text": [
      "2025-08-15 02:51:11,334 - WARNING - Rate limit hit. Waiting 2s before retry 1/3\n",
      "2025-08-15 02:51:14,794 - WARNING - Rate limit hit. Waiting 4s before retry 2/3\n",
      "2025-08-15 02:51:20,022 - WARNING - Rate limit hit. Waiting 8s before retry 3/3\n",
      "2025-08-15 02:51:28,030 - ERROR - Failed to generate embedding for user Courtney Bernard: Failed to generate Gemini embedding after 3 attempts\n"
     ]
    },
    {
     "name": "stdout",
     "output_type": "stream",
     "text": [
      "Progress: 115/200 users generated\n"
     ]
    },
    {
     "name": "stderr",
     "output_type": "stream",
     "text": [
      "2025-08-15 02:51:28,891 - WARNING - Rate limit hit. Waiting 2s before retry 1/3\n",
      "2025-08-15 02:51:31,478 - WARNING - Rate limit hit. Waiting 4s before retry 2/3\n",
      "2025-08-15 02:51:36,403 - WARNING - Rate limit hit. Waiting 8s before retry 3/3\n",
      "2025-08-15 02:51:44,414 - ERROR - Failed to generate embedding for user Thomas Ortega: Failed to generate Gemini embedding after 3 attempts\n"
     ]
    },
    {
     "name": "stdout",
     "output_type": "stream",
     "text": [
      "Progress: 116/200 users generated\n"
     ]
    },
    {
     "name": "stderr",
     "output_type": "stream",
     "text": [
      "2025-08-15 02:51:44,907 - WARNING - Rate limit hit. Waiting 2s before retry 1/3\n",
      "2025-08-15 02:51:48,285 - WARNING - Rate limit hit. Waiting 4s before retry 2/3\n",
      "2025-08-15 02:51:53,062 - WARNING - Rate limit hit. Waiting 8s before retry 3/3\n",
      "2025-08-15 02:52:01,064 - ERROR - Failed to generate embedding for user Lucas Robinson: Failed to generate Gemini embedding after 3 attempts\n"
     ]
    },
    {
     "name": "stdout",
     "output_type": "stream",
     "text": [
      "Progress: 117/200 users generated\n"
     ]
    },
    {
     "name": "stderr",
     "output_type": "stream",
     "text": [
      "2025-08-15 02:52:02,958 - WARNING - Rate limit hit. Waiting 2s before retry 1/3\n",
      "2025-08-15 02:52:05,476 - WARNING - Rate limit hit. Waiting 4s before retry 2/3\n",
      "2025-08-15 02:52:10,826 - WARNING - Rate limit hit. Waiting 8s before retry 3/3\n",
      "2025-08-15 02:52:18,835 - ERROR - Failed to generate embedding for user David Church: Failed to generate Gemini embedding after 3 attempts\n"
     ]
    },
    {
     "name": "stdout",
     "output_type": "stream",
     "text": [
      "Progress: 118/200 users generated\n"
     ]
    },
    {
     "name": "stderr",
     "output_type": "stream",
     "text": [
      "2025-08-15 02:52:20,878 - WARNING - Rate limit hit. Waiting 2s before retry 1/3\n",
      "2025-08-15 02:52:23,609 - WARNING - Rate limit hit. Waiting 4s before retry 2/3\n",
      "2025-08-15 02:52:28,151 - WARNING - Rate limit hit. Waiting 8s before retry 3/3\n",
      "2025-08-15 02:52:36,157 - ERROR - Failed to generate embedding for user Ariel Hughes: Failed to generate Gemini embedding after 3 attempts\n"
     ]
    },
    {
     "name": "stdout",
     "output_type": "stream",
     "text": [
      "Progress: 119/200 users generated\n"
     ]
    },
    {
     "name": "stderr",
     "output_type": "stream",
     "text": [
      "2025-08-15 02:52:38,053 - WARNING - Rate limit hit. Waiting 2s before retry 1/3\n",
      "2025-08-15 02:52:40,805 - WARNING - Rate limit hit. Waiting 4s before retry 2/3\n",
      "2025-08-15 02:52:45,439 - WARNING - Rate limit hit. Waiting 8s before retry 3/3\n",
      "2025-08-15 02:52:53,444 - ERROR - Failed to generate embedding for user Michael Arnold: Failed to generate Gemini embedding after 3 attempts\n"
     ]
    },
    {
     "name": "stdout",
     "output_type": "stream",
     "text": [
      "Progress: 120/200 users generated\n"
     ]
    },
    {
     "name": "stderr",
     "output_type": "stream",
     "text": [
      "2025-08-15 02:52:54,415 - WARNING - Rate limit hit. Waiting 2s before retry 1/3\n",
      "2025-08-15 02:52:58,298 - WARNING - Rate limit hit. Waiting 4s before retry 2/3\n",
      "2025-08-15 02:53:03,181 - WARNING - Rate limit hit. Waiting 8s before retry 3/3\n",
      "2025-08-15 02:53:11,192 - ERROR - Failed to generate embedding for user Megan Tucker: Failed to generate Gemini embedding after 3 attempts\n"
     ]
    },
    {
     "name": "stdout",
     "output_type": "stream",
     "text": [
      "Progress: 121/200 users generated\n"
     ]
    },
    {
     "name": "stderr",
     "output_type": "stream",
     "text": [
      "2025-08-15 02:53:12,056 - WARNING - Rate limit hit. Waiting 2s before retry 1/3\n",
      "2025-08-15 02:53:15,597 - WARNING - Rate limit hit. Waiting 4s before retry 2/3\n",
      "2025-08-15 02:53:20,699 - WARNING - Rate limit hit. Waiting 8s before retry 3/3\n",
      "2025-08-15 02:53:28,707 - ERROR - Failed to generate embedding for user Tammy Scott: Failed to generate Gemini embedding after 3 attempts\n"
     ]
    },
    {
     "name": "stdout",
     "output_type": "stream",
     "text": [
      "Progress: 122/200 users generated\n"
     ]
    },
    {
     "name": "stderr",
     "output_type": "stream",
     "text": [
      "2025-08-15 02:53:29,991 - INFO - Generated embedding for user Kevin Jacobs\n"
     ]
    },
    {
     "name": "stdout",
     "output_type": "stream",
     "text": [
      "Progress: 123/200 users generated\n"
     ]
    },
    {
     "name": "stderr",
     "output_type": "stream",
     "text": [
      "2025-08-15 02:53:32,311 - WARNING - Rate limit hit. Waiting 2s before retry 1/3\n",
      "2025-08-15 02:53:36,144 - WARNING - Rate limit hit. Waiting 4s before retry 2/3\n",
      "2025-08-15 02:53:41,635 - WARNING - Rate limit hit. Waiting 8s before retry 3/3\n",
      "2025-08-15 02:53:49,645 - ERROR - Failed to generate embedding for user Briana Steele: Failed to generate Gemini embedding after 3 attempts\n"
     ]
    },
    {
     "name": "stdout",
     "output_type": "stream",
     "text": [
      "Progress: 124/200 users generated\n"
     ]
    },
    {
     "name": "stderr",
     "output_type": "stream",
     "text": [
      "2025-08-15 02:53:50,630 - WARNING - Rate limit hit. Waiting 2s before retry 1/3\n",
      "2025-08-15 02:53:54,939 - WARNING - Rate limit hit. Waiting 4s before retry 2/3\n",
      "2025-08-15 02:54:01,015 - WARNING - Rate limit hit. Waiting 8s before retry 3/3\n",
      "2025-08-15 02:54:09,019 - ERROR - Failed to generate embedding for user Gina Burnett: Failed to generate Gemini embedding after 3 attempts\n"
     ]
    },
    {
     "name": "stdout",
     "output_type": "stream",
     "text": [
      "Progress: 125/200 users generated\n"
     ]
    },
    {
     "name": "stderr",
     "output_type": "stream",
     "text": [
      "2025-08-15 02:54:10,027 - WARNING - Rate limit hit. Waiting 2s before retry 1/3\n",
      "2025-08-15 02:54:14,248 - WARNING - Rate limit hit. Waiting 4s before retry 2/3\n",
      "2025-08-15 02:54:20,321 - WARNING - Rate limit hit. Waiting 8s before retry 3/3\n",
      "2025-08-15 02:54:28,325 - ERROR - Failed to generate embedding for user Ian Bryant: Failed to generate Gemini embedding after 3 attempts\n"
     ]
    },
    {
     "name": "stdout",
     "output_type": "stream",
     "text": [
      "Progress: 126/200 users generated\n"
     ]
    },
    {
     "name": "stderr",
     "output_type": "stream",
     "text": [
      "2025-08-15 02:54:29,657 - WARNING - Rate limit hit. Waiting 2s before retry 1/3\n",
      "2025-08-15 02:54:33,323 - WARNING - Rate limit hit. Waiting 4s before retry 2/3\n",
      "2025-08-15 02:54:39,506 - WARNING - Rate limit hit. Waiting 8s before retry 3/3\n",
      "2025-08-15 02:54:47,508 - ERROR - Failed to generate embedding for user Catherine Moore: Failed to generate Gemini embedding after 3 attempts\n"
     ]
    },
    {
     "name": "stdout",
     "output_type": "stream",
     "text": [
      "Progress: 127/200 users generated\n"
     ]
    },
    {
     "name": "stderr",
     "output_type": "stream",
     "text": [
      "2025-08-15 02:54:49,553 - WARNING - Rate limit hit. Waiting 2s before retry 1/3\n",
      "2025-08-15 02:54:53,367 - WARNING - Rate limit hit. Waiting 4s before retry 2/3\n",
      "2025-08-15 02:54:58,353 - WARNING - Rate limit hit. Waiting 8s before retry 3/3\n",
      "2025-08-15 02:55:06,359 - ERROR - Failed to generate embedding for user Joshua Vazquez: Failed to generate Gemini embedding after 3 attempts\n"
     ]
    },
    {
     "name": "stdout",
     "output_type": "stream",
     "text": [
      "Progress: 128/200 users generated\n"
     ]
    },
    {
     "name": "stderr",
     "output_type": "stream",
     "text": [
      "2025-08-15 02:55:08,139 - WARNING - Rate limit hit. Waiting 2s before retry 1/3\n",
      "2025-08-15 02:55:11,086 - WARNING - Rate limit hit. Waiting 4s before retry 2/3\n",
      "2025-08-15 02:55:15,689 - WARNING - Rate limit hit. Waiting 8s before retry 3/3\n",
      "2025-08-15 02:55:23,694 - ERROR - Failed to generate embedding for user Bryan Davis: Failed to generate Gemini embedding after 3 attempts\n"
     ]
    },
    {
     "name": "stdout",
     "output_type": "stream",
     "text": [
      "Progress: 129/200 users generated\n"
     ]
    },
    {
     "name": "stderr",
     "output_type": "stream",
     "text": [
      "2025-08-15 02:55:24,740 - WARNING - Rate limit hit. Waiting 2s before retry 1/3\n",
      "2025-08-15 02:55:28,900 - WARNING - Rate limit hit. Waiting 4s before retry 2/3\n",
      "2025-08-15 02:55:33,387 - WARNING - Rate limit hit. Waiting 8s before retry 3/3\n",
      "2025-08-15 02:55:41,397 - ERROR - Failed to generate embedding for user Jennifer Reed: Failed to generate Gemini embedding after 3 attempts\n"
     ]
    },
    {
     "name": "stdout",
     "output_type": "stream",
     "text": [
      "Progress: 130/200 users generated\n"
     ]
    },
    {
     "name": "stderr",
     "output_type": "stream",
     "text": [
      "2025-08-15 02:55:41,986 - WARNING - Rate limit hit. Waiting 2s before retry 1/3\n",
      "2025-08-15 02:55:45,224 - WARNING - Rate limit hit. Waiting 4s before retry 2/3\n",
      "2025-08-15 02:55:51,863 - WARNING - Rate limit hit. Waiting 8s before retry 3/3\n",
      "2025-08-15 02:55:59,874 - ERROR - Failed to generate embedding for user Shaun Hawkins: Failed to generate Gemini embedding after 3 attempts\n"
     ]
    },
    {
     "name": "stdout",
     "output_type": "stream",
     "text": [
      "Progress: 131/200 users generated\n"
     ]
    },
    {
     "name": "stderr",
     "output_type": "stream",
     "text": [
      "2025-08-15 02:56:01,517 - WARNING - Rate limit hit. Waiting 2s before retry 1/3\n",
      "2025-08-15 02:56:04,669 - WARNING - Rate limit hit. Waiting 4s before retry 2/3\n",
      "2025-08-15 02:56:10,316 - WARNING - Rate limit hit. Waiting 8s before retry 3/3\n",
      "2025-08-15 02:56:18,323 - ERROR - Failed to generate embedding for user Shannon Gardner: Failed to generate Gemini embedding after 3 attempts\n"
     ]
    },
    {
     "name": "stdout",
     "output_type": "stream",
     "text": [
      "Progress: 132/200 users generated\n"
     ]
    },
    {
     "name": "stderr",
     "output_type": "stream",
     "text": [
      "2025-08-15 02:56:19,330 - WARNING - Rate limit hit. Waiting 2s before retry 1/3\n",
      "2025-08-15 02:56:23,565 - WARNING - Rate limit hit. Waiting 4s before retry 2/3\n",
      "2025-08-15 02:56:29,013 - WARNING - Rate limit hit. Waiting 8s before retry 3/3\n",
      "2025-08-15 02:56:37,021 - ERROR - Failed to generate embedding for user Christina Jackson: Failed to generate Gemini embedding after 3 attempts\n"
     ]
    },
    {
     "name": "stdout",
     "output_type": "stream",
     "text": [
      "Progress: 133/200 users generated\n"
     ]
    },
    {
     "name": "stderr",
     "output_type": "stream",
     "text": [
      "2025-08-15 02:56:38,988 - WARNING - Rate limit hit. Waiting 2s before retry 1/3\n",
      "2025-08-15 02:56:43,196 - WARNING - Rate limit hit. Waiting 4s before retry 2/3\n",
      "2025-08-15 02:56:47,865 - WARNING - Rate limit hit. Waiting 8s before retry 3/3\n",
      "2025-08-15 02:56:55,874 - ERROR - Failed to generate embedding for user Daniel Gutierrez: Failed to generate Gemini embedding after 3 attempts\n"
     ]
    },
    {
     "name": "stdout",
     "output_type": "stream",
     "text": [
      "Progress: 134/200 users generated\n"
     ]
    },
    {
     "name": "stderr",
     "output_type": "stream",
     "text": [
      "2025-08-15 02:56:58,329 - WARNING - Rate limit hit. Waiting 2s before retry 1/3\n",
      "2025-08-15 02:57:02,025 - WARNING - Rate limit hit. Waiting 4s before retry 2/3\n",
      "2025-08-15 02:57:06,613 - WARNING - Rate limit hit. Waiting 8s before retry 3/3\n",
      "2025-08-15 02:57:14,620 - ERROR - Failed to generate embedding for user Deanna Riddle: Failed to generate Gemini embedding after 3 attempts\n"
     ]
    },
    {
     "name": "stdout",
     "output_type": "stream",
     "text": [
      "Progress: 135/200 users generated\n"
     ]
    },
    {
     "name": "stderr",
     "output_type": "stream",
     "text": [
      "2025-08-15 02:57:16,704 - WARNING - Rate limit hit. Waiting 2s before retry 1/3\n",
      "2025-08-15 02:57:20,113 - WARNING - Rate limit hit. Waiting 4s before retry 2/3\n",
      "2025-08-15 02:57:25,664 - WARNING - Rate limit hit. Waiting 8s before retry 3/3\n",
      "2025-08-15 02:57:33,668 - ERROR - Failed to generate embedding for user Isaiah Bush: Failed to generate Gemini embedding after 3 attempts\n"
     ]
    },
    {
     "name": "stdout",
     "output_type": "stream",
     "text": [
      "Progress: 136/200 users generated\n"
     ]
    },
    {
     "name": "stderr",
     "output_type": "stream",
     "text": [
      "2025-08-15 02:57:34,665 - WARNING - Rate limit hit. Waiting 2s before retry 1/3\n",
      "2025-08-15 02:57:38,541 - WARNING - Rate limit hit. Waiting 4s before retry 2/3\n",
      "2025-08-15 02:57:43,564 - WARNING - Rate limit hit. Waiting 8s before retry 3/3\n",
      "2025-08-15 02:57:51,575 - ERROR - Failed to generate embedding for user Andrea Lee: Failed to generate Gemini embedding after 3 attempts\n"
     ]
    },
    {
     "name": "stdout",
     "output_type": "stream",
     "text": [
      "Progress: 137/200 users generated\n"
     ]
    },
    {
     "name": "stderr",
     "output_type": "stream",
     "text": [
      "2025-08-15 02:57:53,779 - WARNING - Rate limit hit. Waiting 2s before retry 1/3\n",
      "2025-08-15 02:57:57,508 - WARNING - Rate limit hit. Waiting 4s before retry 2/3\n",
      "2025-08-15 02:58:03,705 - WARNING - Rate limit hit. Waiting 8s before retry 3/3\n",
      "2025-08-15 02:58:11,715 - ERROR - Failed to generate embedding for user Kyle Anderson: Failed to generate Gemini embedding after 3 attempts\n"
     ]
    },
    {
     "name": "stdout",
     "output_type": "stream",
     "text": [
      "Progress: 138/200 users generated\n"
     ]
    },
    {
     "name": "stderr",
     "output_type": "stream",
     "text": [
      "2025-08-15 02:58:12,389 - WARNING - Rate limit hit. Waiting 2s before retry 1/3\n",
      "2025-08-15 02:58:16,188 - WARNING - Rate limit hit. Waiting 4s before retry 2/3\n",
      "2025-08-15 02:58:21,748 - WARNING - Rate limit hit. Waiting 8s before retry 3/3\n",
      "2025-08-15 02:58:29,758 - ERROR - Failed to generate embedding for user Craig Chen: Failed to generate Gemini embedding after 3 attempts\n"
     ]
    },
    {
     "name": "stdout",
     "output_type": "stream",
     "text": [
      "Progress: 139/200 users generated\n"
     ]
    },
    {
     "name": "stderr",
     "output_type": "stream",
     "text": [
      "2025-08-15 02:58:30,740 - WARNING - Rate limit hit. Waiting 2s before retry 1/3\n",
      "2025-08-15 02:58:33,474 - WARNING - Rate limit hit. Waiting 4s before retry 2/3\n",
      "2025-08-15 02:58:38,926 - WARNING - Rate limit hit. Waiting 8s before retry 3/3\n",
      "2025-08-15 02:58:46,936 - ERROR - Failed to generate embedding for user Phillip Petersen: Failed to generate Gemini embedding after 3 attempts\n"
     ]
    },
    {
     "name": "stdout",
     "output_type": "stream",
     "text": [
      "Progress: 140/200 users generated\n"
     ]
    },
    {
     "name": "stderr",
     "output_type": "stream",
     "text": [
      "2025-08-15 02:58:49,206 - WARNING - Rate limit hit. Waiting 2s before retry 1/3\n",
      "2025-08-15 02:58:53,433 - WARNING - Rate limit hit. Waiting 4s before retry 2/3\n",
      "2025-08-15 02:58:57,992 - WARNING - Rate limit hit. Waiting 8s before retry 3/3\n",
      "2025-08-15 02:59:05,998 - ERROR - Failed to generate embedding for user Cindy Bean: Failed to generate Gemini embedding after 3 attempts\n"
     ]
    },
    {
     "name": "stdout",
     "output_type": "stream",
     "text": [
      "Progress: 141/200 users generated\n"
     ]
    },
    {
     "name": "stderr",
     "output_type": "stream",
     "text": [
      "2025-08-15 02:59:07,832 - WARNING - Rate limit hit. Waiting 2s before retry 1/3\n",
      "2025-08-15 02:59:11,668 - WARNING - Rate limit hit. Waiting 4s before retry 2/3\n",
      "2025-08-15 02:59:16,597 - WARNING - Rate limit hit. Waiting 8s before retry 3/3\n",
      "2025-08-15 02:59:24,599 - ERROR - Failed to generate embedding for user Shawn Mitchell: Failed to generate Gemini embedding after 3 attempts\n"
     ]
    },
    {
     "name": "stdout",
     "output_type": "stream",
     "text": [
      "Progress: 142/200 users generated\n"
     ]
    },
    {
     "name": "stderr",
     "output_type": "stream",
     "text": [
      "2025-08-15 02:59:27,579 - WARNING - Rate limit hit. Waiting 2s before retry 1/3\n",
      "2025-08-15 02:59:31,693 - WARNING - Rate limit hit. Waiting 4s before retry 2/3\n",
      "2025-08-15 02:59:37,650 - WARNING - Rate limit hit. Waiting 8s before retry 3/3\n",
      "2025-08-15 02:59:45,662 - ERROR - Failed to generate embedding for user Richard Nixon: Failed to generate Gemini embedding after 3 attempts\n"
     ]
    },
    {
     "name": "stdout",
     "output_type": "stream",
     "text": [
      "Progress: 143/200 users generated\n"
     ]
    },
    {
     "name": "stderr",
     "output_type": "stream",
     "text": [
      "2025-08-15 02:59:47,801 - WARNING - Rate limit hit. Waiting 2s before retry 1/3\n",
      "2025-08-15 02:59:51,263 - WARNING - Rate limit hit. Waiting 4s before retry 2/3\n",
      "2025-08-15 02:59:56,832 - WARNING - Rate limit hit. Waiting 8s before retry 3/3\n",
      "2025-08-15 03:00:04,836 - ERROR - Failed to generate embedding for user Jeffrey Alvarez: Failed to generate Gemini embedding after 3 attempts\n"
     ]
    },
    {
     "name": "stdout",
     "output_type": "stream",
     "text": [
      "Progress: 144/200 users generated\n"
     ]
    },
    {
     "name": "stderr",
     "output_type": "stream",
     "text": [
      "2025-08-15 03:00:06,932 - INFO - Generated embedding for user Daniel Ware\n"
     ]
    },
    {
     "name": "stdout",
     "output_type": "stream",
     "text": [
      "Progress: 145/200 users generated\n"
     ]
    },
    {
     "name": "stderr",
     "output_type": "stream",
     "text": [
      "2025-08-15 03:00:09,763 - INFO - Generated embedding for user Stacey Hudson\n"
     ]
    },
    {
     "name": "stdout",
     "output_type": "stream",
     "text": [
      "Progress: 146/200 users generated\n"
     ]
    },
    {
     "name": "stderr",
     "output_type": "stream",
     "text": [
      "2025-08-15 03:00:12,753 - INFO - Generated embedding for user Amanda Barry PhD\n"
     ]
    },
    {
     "name": "stdout",
     "output_type": "stream",
     "text": [
      "Progress: 147/200 users generated\n"
     ]
    },
    {
     "name": "stderr",
     "output_type": "stream",
     "text": [
      "2025-08-15 03:00:14,501 - INFO - Generated embedding for user Michael Mullen\n"
     ]
    },
    {
     "name": "stdout",
     "output_type": "stream",
     "text": [
      "Progress: 148/200 users generated\n"
     ]
    },
    {
     "name": "stderr",
     "output_type": "stream",
     "text": [
      "2025-08-15 03:00:15,708 - INFO - Generated embedding for user Amber Lopez\n"
     ]
    },
    {
     "name": "stdout",
     "output_type": "stream",
     "text": [
      "Progress: 149/200 users generated\n"
     ]
    },
    {
     "name": "stderr",
     "output_type": "stream",
     "text": [
      "2025-08-15 03:00:17,444 - INFO - Generated embedding for user Noah Webb\n"
     ]
    },
    {
     "name": "stdout",
     "output_type": "stream",
     "text": [
      "Progress: 150/200 users generated\n"
     ]
    },
    {
     "name": "stderr",
     "output_type": "stream",
     "text": [
      "2025-08-15 03:00:18,460 - INFO - Generated embedding for user Darrell Morales\n"
     ]
    },
    {
     "name": "stdout",
     "output_type": "stream",
     "text": [
      "Progress: 151/200 users generated\n"
     ]
    },
    {
     "name": "stderr",
     "output_type": "stream",
     "text": [
      "2025-08-15 03:00:20,235 - INFO - Generated embedding for user Christopher Jones\n"
     ]
    },
    {
     "name": "stdout",
     "output_type": "stream",
     "text": [
      "Progress: 152/200 users generated\n"
     ]
    },
    {
     "name": "stderr",
     "output_type": "stream",
     "text": [
      "2025-08-15 03:00:22,064 - INFO - Generated embedding for user Karl Richmond\n"
     ]
    },
    {
     "name": "stdout",
     "output_type": "stream",
     "text": [
      "Progress: 153/200 users generated\n"
     ]
    },
    {
     "name": "stderr",
     "output_type": "stream",
     "text": [
      "2025-08-15 03:00:23,068 - INFO - Generated embedding for user Jeffrey Jackson\n"
     ]
    },
    {
     "name": "stdout",
     "output_type": "stream",
     "text": [
      "Progress: 154/200 users generated\n"
     ]
    },
    {
     "name": "stderr",
     "output_type": "stream",
     "text": [
      "2025-08-15 03:00:25,388 - INFO - Generated embedding for user Anna Santana\n"
     ]
    },
    {
     "name": "stdout",
     "output_type": "stream",
     "text": [
      "Progress: 155/200 users generated\n"
     ]
    },
    {
     "name": "stderr",
     "output_type": "stream",
     "text": [
      "2025-08-15 03:00:26,470 - INFO - Generated embedding for user Stephen Mcclure\n"
     ]
    },
    {
     "name": "stdout",
     "output_type": "stream",
     "text": [
      "Progress: 156/200 users generated\n"
     ]
    },
    {
     "name": "stderr",
     "output_type": "stream",
     "text": [
      "2025-08-15 03:00:28,532 - INFO - Generated embedding for user Kelsey Valdez\n"
     ]
    },
    {
     "name": "stdout",
     "output_type": "stream",
     "text": [
      "Progress: 157/200 users generated\n"
     ]
    },
    {
     "name": "stderr",
     "output_type": "stream",
     "text": [
      "2025-08-15 03:00:29,650 - INFO - Generated embedding for user Robert Phillips\n"
     ]
    },
    {
     "name": "stdout",
     "output_type": "stream",
     "text": [
      "Progress: 158/200 users generated\n"
     ]
    },
    {
     "name": "stderr",
     "output_type": "stream",
     "text": [
      "2025-08-15 03:00:31,654 - INFO - Generated embedding for user Denise Howard\n"
     ]
    },
    {
     "name": "stdout",
     "output_type": "stream",
     "text": [
      "Progress: 159/200 users generated\n"
     ]
    },
    {
     "name": "stderr",
     "output_type": "stream",
     "text": [
      "2025-08-15 03:00:34,150 - INFO - Generated embedding for user Jocelyn Nguyen\n"
     ]
    },
    {
     "name": "stdout",
     "output_type": "stream",
     "text": [
      "Progress: 160/200 users generated\n"
     ]
    },
    {
     "name": "stderr",
     "output_type": "stream",
     "text": [
      "2025-08-15 03:00:36,623 - WARNING - Server error. Waiting 2s before retry 1/3\n",
      "2025-08-15 03:00:40,386 - WARNING - Server error. Waiting 4s before retry 2/3\n",
      "2025-08-15 03:00:46,575 - WARNING - Server error. Waiting 8s before retry 3/3\n",
      "2025-08-15 03:00:54,577 - ERROR - Failed to generate embedding for user Hannah White: Failed to generate Gemini embedding after 3 attempts\n"
     ]
    },
    {
     "name": "stdout",
     "output_type": "stream",
     "text": [
      "Progress: 161/200 users generated\n"
     ]
    },
    {
     "name": "stderr",
     "output_type": "stream",
     "text": [
      "2025-08-15 03:00:56,201 - WARNING - Server error. Waiting 2s before retry 1/3\n",
      "2025-08-15 03:01:00,411 - INFO - Generated embedding for user Victoria Cummings\n"
     ]
    },
    {
     "name": "stdout",
     "output_type": "stream",
     "text": [
      "Progress: 162/200 users generated\n"
     ]
    },
    {
     "name": "stderr",
     "output_type": "stream",
     "text": [
      "2025-08-15 03:01:02,251 - INFO - Generated embedding for user Maurice Evans\n"
     ]
    },
    {
     "name": "stdout",
     "output_type": "stream",
     "text": [
      "Progress: 163/200 users generated\n"
     ]
    },
    {
     "name": "stderr",
     "output_type": "stream",
     "text": [
      "2025-08-15 03:01:04,236 - INFO - Generated embedding for user Heather Moore\n"
     ]
    },
    {
     "name": "stdout",
     "output_type": "stream",
     "text": [
      "Progress: 164/200 users generated\n"
     ]
    },
    {
     "name": "stderr",
     "output_type": "stream",
     "text": [
      "2025-08-15 03:01:06,354 - INFO - Generated embedding for user Michael Jones\n"
     ]
    },
    {
     "name": "stdout",
     "output_type": "stream",
     "text": [
      "Progress: 165/200 users generated\n"
     ]
    },
    {
     "name": "stderr",
     "output_type": "stream",
     "text": [
      "2025-08-15 03:01:09,440 - INFO - Generated embedding for user Christopher Hammond\n"
     ]
    },
    {
     "name": "stdout",
     "output_type": "stream",
     "text": [
      "Progress: 166/200 users generated\n"
     ]
    },
    {
     "name": "stderr",
     "output_type": "stream",
     "text": [
      "2025-08-15 03:01:12,370 - INFO - Generated embedding for user Breanna Barr\n"
     ]
    },
    {
     "name": "stdout",
     "output_type": "stream",
     "text": [
      "Progress: 167/200 users generated\n"
     ]
    },
    {
     "name": "stderr",
     "output_type": "stream",
     "text": [
      "2025-08-15 03:01:14,959 - INFO - Generated embedding for user Oscar Spencer\n"
     ]
    },
    {
     "name": "stdout",
     "output_type": "stream",
     "text": [
      "Progress: 168/200 users generated\n"
     ]
    },
    {
     "name": "stderr",
     "output_type": "stream",
     "text": [
      "2025-08-15 03:01:17,226 - INFO - Generated embedding for user Timothy Summers\n"
     ]
    },
    {
     "name": "stdout",
     "output_type": "stream",
     "text": [
      "Progress: 169/200 users generated\n"
     ]
    },
    {
     "name": "stderr",
     "output_type": "stream",
     "text": [
      "2025-08-15 03:01:20,225 - INFO - Generated embedding for user Holly Wang\n"
     ]
    },
    {
     "name": "stdout",
     "output_type": "stream",
     "text": [
      "Progress: 170/200 users generated\n"
     ]
    },
    {
     "name": "stderr",
     "output_type": "stream",
     "text": [
      "2025-08-15 03:01:21,647 - INFO - Generated embedding for user Rachel Lucero\n"
     ]
    },
    {
     "name": "stdout",
     "output_type": "stream",
     "text": [
      "Progress: 171/200 users generated\n"
     ]
    },
    {
     "name": "stderr",
     "output_type": "stream",
     "text": [
      "2025-08-15 03:01:24,929 - INFO - Generated embedding for user Christina Mason\n"
     ]
    },
    {
     "name": "stdout",
     "output_type": "stream",
     "text": [
      "Progress: 172/200 users generated\n"
     ]
    },
    {
     "name": "stderr",
     "output_type": "stream",
     "text": [
      "2025-08-15 03:01:26,827 - INFO - Generated embedding for user Debbie Robinson\n"
     ]
    },
    {
     "name": "stdout",
     "output_type": "stream",
     "text": [
      "Progress: 173/200 users generated\n"
     ]
    },
    {
     "name": "stderr",
     "output_type": "stream",
     "text": [
      "2025-08-15 03:01:29,633 - INFO - Generated embedding for user Christopher Ray\n"
     ]
    },
    {
     "name": "stdout",
     "output_type": "stream",
     "text": [
      "Progress: 174/200 users generated\n"
     ]
    },
    {
     "name": "stderr",
     "output_type": "stream",
     "text": [
      "2025-08-15 03:01:32,072 - INFO - Generated embedding for user Thomas Schneider\n"
     ]
    },
    {
     "name": "stdout",
     "output_type": "stream",
     "text": [
      "Progress: 175/200 users generated\n"
     ]
    },
    {
     "name": "stderr",
     "output_type": "stream",
     "text": [
      "2025-08-15 03:01:35,185 - INFO - Generated embedding for user Bruce Hernandez\n"
     ]
    },
    {
     "name": "stdout",
     "output_type": "stream",
     "text": [
      "Progress: 176/200 users generated\n"
     ]
    },
    {
     "name": "stderr",
     "output_type": "stream",
     "text": [
      "2025-08-15 03:01:36,717 - INFO - Generated embedding for user Heather Green\n"
     ]
    },
    {
     "name": "stdout",
     "output_type": "stream",
     "text": [
      "Progress: 177/200 users generated\n"
     ]
    },
    {
     "name": "stderr",
     "output_type": "stream",
     "text": [
      "2025-08-15 03:01:39,595 - INFO - Generated embedding for user Pamela Rodriguez\n"
     ]
    },
    {
     "name": "stdout",
     "output_type": "stream",
     "text": [
      "Progress: 178/200 users generated\n"
     ]
    },
    {
     "name": "stderr",
     "output_type": "stream",
     "text": [
      "2025-08-15 03:01:41,798 - INFO - Generated embedding for user Shannon Meyer\n"
     ]
    },
    {
     "name": "stdout",
     "output_type": "stream",
     "text": [
      "Progress: 179/200 users generated\n"
     ]
    },
    {
     "name": "stderr",
     "output_type": "stream",
     "text": [
      "2025-08-15 03:01:43,224 - INFO - Generated embedding for user Theresa Hall\n"
     ]
    },
    {
     "name": "stdout",
     "output_type": "stream",
     "text": [
      "Progress: 180/200 users generated\n"
     ]
    },
    {
     "name": "stderr",
     "output_type": "stream",
     "text": [
      "2025-08-15 03:01:45,187 - INFO - Generated embedding for user Holly Thompson\n"
     ]
    },
    {
     "name": "stdout",
     "output_type": "stream",
     "text": [
      "Progress: 181/200 users generated\n"
     ]
    },
    {
     "name": "stderr",
     "output_type": "stream",
     "text": [
      "2025-08-15 03:01:48,128 - INFO - Generated embedding for user Lee Velez\n"
     ]
    },
    {
     "name": "stdout",
     "output_type": "stream",
     "text": [
      "Progress: 182/200 users generated\n"
     ]
    },
    {
     "name": "stderr",
     "output_type": "stream",
     "text": [
      "2025-08-15 03:01:49,575 - INFO - Generated embedding for user Mrs. Mallory Harrington\n"
     ]
    },
    {
     "name": "stdout",
     "output_type": "stream",
     "text": [
      "Progress: 183/200 users generated\n"
     ]
    },
    {
     "name": "stderr",
     "output_type": "stream",
     "text": [
      "2025-08-15 03:01:51,289 - INFO - Generated embedding for user Carla Smith\n"
     ]
    },
    {
     "name": "stdout",
     "output_type": "stream",
     "text": [
      "Progress: 184/200 users generated\n"
     ]
    },
    {
     "name": "stderr",
     "output_type": "stream",
     "text": [
      "2025-08-15 03:01:54,162 - INFO - Generated embedding for user Robert Nelson\n"
     ]
    },
    {
     "name": "stdout",
     "output_type": "stream",
     "text": [
      "Progress: 185/200 users generated\n"
     ]
    },
    {
     "name": "stderr",
     "output_type": "stream",
     "text": [
      "2025-08-15 03:01:55,818 - INFO - Generated embedding for user Victoria Reilly\n"
     ]
    },
    {
     "name": "stdout",
     "output_type": "stream",
     "text": [
      "Progress: 186/200 users generated\n"
     ]
    },
    {
     "name": "stderr",
     "output_type": "stream",
     "text": [
      "2025-08-15 03:01:57,943 - INFO - Generated embedding for user Stephen Brady\n"
     ]
    },
    {
     "name": "stdout",
     "output_type": "stream",
     "text": [
      "Progress: 187/200 users generated\n"
     ]
    },
    {
     "name": "stderr",
     "output_type": "stream",
     "text": [
      "2025-08-15 03:02:00,882 - INFO - Generated embedding for user Jamie Blankenship\n"
     ]
    },
    {
     "name": "stdout",
     "output_type": "stream",
     "text": [
      "Progress: 188/200 users generated\n"
     ]
    },
    {
     "name": "stderr",
     "output_type": "stream",
     "text": [
      "2025-08-15 03:02:03,718 - INFO - Generated embedding for user Benjamin Owens\n"
     ]
    },
    {
     "name": "stdout",
     "output_type": "stream",
     "text": [
      "Progress: 189/200 users generated\n"
     ]
    },
    {
     "name": "stderr",
     "output_type": "stream",
     "text": [
      "2025-08-15 03:02:04,945 - INFO - Generated embedding for user Sonya Scott\n"
     ]
    },
    {
     "name": "stdout",
     "output_type": "stream",
     "text": [
      "Progress: 190/200 users generated\n"
     ]
    },
    {
     "name": "stderr",
     "output_type": "stream",
     "text": [
      "2025-08-15 03:02:07,383 - INFO - Generated embedding for user Kayla Smith\n"
     ]
    },
    {
     "name": "stdout",
     "output_type": "stream",
     "text": [
      "Progress: 191/200 users generated\n"
     ]
    },
    {
     "name": "stderr",
     "output_type": "stream",
     "text": [
      "2025-08-15 03:02:10,122 - INFO - Generated embedding for user Ryan Mason\n"
     ]
    },
    {
     "name": "stdout",
     "output_type": "stream",
     "text": [
      "Progress: 192/200 users generated\n"
     ]
    },
    {
     "name": "stderr",
     "output_type": "stream",
     "text": [
      "2025-08-15 03:02:11,234 - INFO - Generated embedding for user Jean Phillips\n"
     ]
    },
    {
     "name": "stdout",
     "output_type": "stream",
     "text": [
      "Progress: 193/200 users generated\n"
     ]
    },
    {
     "name": "stderr",
     "output_type": "stream",
     "text": [
      "2025-08-15 03:02:13,013 - INFO - Generated embedding for user Kimberly Russell\n"
     ]
    },
    {
     "name": "stdout",
     "output_type": "stream",
     "text": [
      "Progress: 194/200 users generated\n"
     ]
    },
    {
     "name": "stderr",
     "output_type": "stream",
     "text": [
      "2025-08-15 03:02:14,894 - INFO - Generated embedding for user Anthony Kent\n"
     ]
    },
    {
     "name": "stdout",
     "output_type": "stream",
     "text": [
      "Progress: 195/200 users generated\n"
     ]
    },
    {
     "name": "stderr",
     "output_type": "stream",
     "text": [
      "2025-08-15 03:02:17,139 - INFO - Generated embedding for user Tom Brown\n"
     ]
    },
    {
     "name": "stdout",
     "output_type": "stream",
     "text": [
      "Progress: 196/200 users generated\n"
     ]
    },
    {
     "name": "stderr",
     "output_type": "stream",
     "text": [
      "2025-08-15 03:02:19,903 - INFO - Generated embedding for user Susan Gibson\n"
     ]
    },
    {
     "name": "stdout",
     "output_type": "stream",
     "text": [
      "Progress: 197/200 users generated\n"
     ]
    },
    {
     "name": "stderr",
     "output_type": "stream",
     "text": [
      "2025-08-15 03:02:21,192 - INFO - Generated embedding for user Brianna Chandler\n"
     ]
    },
    {
     "name": "stdout",
     "output_type": "stream",
     "text": [
      "Progress: 198/200 users generated\n"
     ]
    },
    {
     "name": "stderr",
     "output_type": "stream",
     "text": [
      "2025-08-15 03:02:23,644 - INFO - Generated embedding for user Nicole Cooper\n"
     ]
    },
    {
     "name": "stdout",
     "output_type": "stream",
     "text": [
      "Progress: 199/200 users generated\n"
     ]
    },
    {
     "name": "stderr",
     "output_type": "stream",
     "text": [
      "2025-08-15 03:02:25,090 - INFO - Generated embedding for user Catherine Dunn\n",
      "2025-08-15 03:02:25,091 - INFO - Successfully generated 94/200 embeddings\n"
     ]
    },
    {
     "name": "stdout",
     "output_type": "stream",
     "text": [
      "Progress: 200/200 users generated\n",
      "\n",
      "✅ Generated 94 embeddings\n",
      "\n",
      "📊 Updated Population Statistics:\n",
      "  total_users: 200\n",
      "  special_users: 0\n",
      "  regular_users: 200\n",
      "  users_with_embeddings: 94\n",
      "  users_with_taste_profiles: 200\n",
      "  total_books_rated: 4000\n",
      "  avg_books_per_user: 20.0\n",
      "  embedding_dimension: 3072\n",
      "  avg_rating: 4.337325000000001\n",
      "  min_rating: 1.0\n",
      "  max_rating: 5.0\n",
      "  rating_std: 0.5755383083470639\n"
     ]
    }
   ],
   "source": [
    "# Generate embeddings for the entire population\n",
    "print(\"🔢 Generating embeddings for the population...\")\n",
    "\n",
    "successful_embeddings = embedding_gen.embed_population(\n",
    "    synthetic_population,\n",
    "    progress_callback=progress_callback\n",
    ")\n",
    "\n",
    "print(f\"\\n✅ Generated {successful_embeddings} embeddings\")\n",
    "\n",
    "# Update population statistics\n",
    "print(f\"\\n📊 Updated Population Statistics:\")\n",
    "stats = synthetic_population.get_statistics()\n",
    "for key, value in stats.items():\n",
    "    print(f\"  {key}: {value}\")"
   ]
  },
  {
   "cell_type": "code",
   "execution_count": null,
   "metadata": {},
   "outputs": [
    {
     "name": "stdout",
     "output_type": "stream",
     "text": [
      "👤 Adding Einstein to population⭐ (special user)...\n",
      "📝 Taste profile set (1062 characters)\n",
      "🔢 Generating embedding...\n"
     ]
    },
    {
     "name": "stderr",
     "output_type": "stream",
     "text": [
      "2025-08-15 11:34:50,525 - INFO - Generated embedding for user Einstein\n"
     ]
    },
    {
     "name": "stdout",
     "output_type": "stream",
     "text": [
      "✅ Embedding generated! Shape: (3072,)\n",
      "✅ Einstein added to population⭐!\n",
      "📊 Population now has 206 users\n"
     ]
    }
   ],
   "source": [
    "def add_user_to_population(population, name, taste_profile, special=False):\n",
    "    \"\"\"\n",
    "    Add a user with name and taste profile to an existing population.\n",
    "    Generates embedding automatically.\n",
    "    \n",
    "    Args:\n",
    "        population: Existing Population object\n",
    "        name: User's name\n",
    "        taste_profile: User's taste profile description\n",
    "        special: Boolean flag to mark user as special (default: False)\n",
    "    \n",
    "    Returns:\n",
    "        User object if successful, None if failed\n",
    "    \"\"\"\n",
    "\n",
    "    print(f\"👤 Adding {name} to population{'⭐ (special user)' if special else ''}...\")\n",
    "\n",
    "    # Create new user with special flag\n",
    "    user = User(name=name, special=special)\n",
    "\n",
    "    # Set taste profile\n",
    "    user.set_taste_profile(taste_profile)\n",
    "    print(f\"📝 Taste profile set ({len(taste_profile)} characters)\")\n",
    "\n",
    "    # Generate embedding\n",
    "    print(f\"🔢 Generating embedding...\")\n",
    "    if embedding_gen.embed_user(user):\n",
    "        print(f\"✅ Embedding generated! Shape: {user.embedding.shape}\")\n",
    "\n",
    "        # Add to population\n",
    "        population.add_user(user)\n",
    "        print(f\"✅ {name} added to population{'⭐' if special else ''}!\")\n",
    "        print(f\"📊 Population now has {len(population)} users\")\n",
    "\n",
    "        return user\n",
    "    else:\n",
    "        print(f\"❌ Failed to generate embedding for {name}\")\n",
    "        return None\n",
    "\n",
    "# Example usage - Add Einstein to existing population as special user\n",
    "taste_profile = \"\"\"\n",
    "This individual exhibits a powerfully analytical and methodical cognitive style, characterized by rigorous observation, systematic experimentation, and an extraordinary capacity for mathematical abstraction. They are driven by an intense desire to uncover the underlying laws and mechanisms governing the natural world, demonstrating an unwavering persistence in their investigations. Emotionally, they appear to possess a detached and logical temperament, finding satisfaction in precision, order, and the verifiable proof of hypotheses. Their values are deeply rooted in empiricism, rational inquiry, and the pursuit of universal truths, prioritizing objective knowledge and demonstrable proof. Socially, they might appear somewhat solitary and intensely focused on their work, perhaps less concerned with interpersonal dynamics than with the grand intellectual challenges before them. Their decision-making is heavily reliant on logical deduction and a meticulous examination of evidence, leading to groundbreaking insights that fundamentally reshape scientific understanding.\n",
    "\"\"\"\n",
    "# Add Einstein to the existing population as a special user\n",
    "user = add_user_to_population(synthetic_population, \"Einstein\", taste_profile, special=True)"
   ]
  },
  {
   "cell_type": "markdown",
   "metadata": {},
   "source": [
    "## 7. Applying Dimensionality Reduction (UMAP, t-SNE, PCA)\n",
    "\n",
    "Now let's visualize our population using different dimensionality reduction techniques."
   ]
  },
  {
   "cell_type": "code",
   "execution_count": 21,
   "metadata": {},
   "outputs": [
    {
     "name": "stdout",
     "output_type": "stream",
     "text": [
      "📊 PCA 3D Plot:\n"
     ]
    },
    {
     "name": "stderr",
     "output_type": "stream",
     "text": [
      "/Users/yahyarahhawi/miniforge3/envs/ml/lib/python3.12/site-packages/umap/umap_.py:1952: UserWarning:\n",
      "\n",
      "n_jobs value 1 overridden to 1 by setting random_state. Use no seed for parallelism.\n",
      "\n"
     ]
    },
    {
     "data": {
      "application/vnd.plotly.v1+json": {
       "config": {
        "plotlyServerURL": "https://plot.ly"
       },
       "data": [
        {
         "customdata": [
          "This person is driven by a desire for self-improvement and a quest for a more meaningful and efficient life, suggesting a somewhat introspective and analytical nature. They are drawn to philosophical concepts and psychological insights, implying curiosity about the human condition and a desire to understand themselves and the world around them. They value focus, discipline, and intentionality, evident in their appreciation for minimalism and habit formation. While logical and practical, they are also open to spiritual and philosophical ideas from diverse cultural traditions. Though they appreciate practical advice on productivity and effectiveness, they also seek deeper understanding and fulfillment, leaning towards thoughtful self-reflection. Their preference for some works focusing on self-improvement over others suggests they hold a critical eye and appreciate a blend of evidence-based approaches",
          "This person possesses a curious and discerning mind, deeply engaged with the world of food and its broader cultural context. They are intellectually stimulated by culinary arts, history, science, and journalism, and they appreciate the practical application of knowledge, as evidenced by their fondness for cookbooks. They appear to value authenticity and dedication to craft, and they likely form strong opinions based on careful consideration. Emotionally, they are drawn to personal narratives and memoirs, which suggests a capacity for empathy and an interest in understanding the human experience through the lens of others. They appreciate wit, honesty, and perhaps a touch of the unconventional. Decision-making is likely influenced by a blend of practical considerations and a strong sense of personal values. Though adventurous in their intellectual pursuits, their social",
          "This person is highly intellectual and deeply invested in understanding human behavior and potential, particularly within educational and familial contexts. They are driven by a strong desire to improve the lives of children, especially through nurturing their emotional and intellectual development. Empathetic and compassionate, they value social justice and seek to create a more equitable and supportive learning environment. They possess an analytical mind, appreciating insightful explorations of the human psyche, but also find appeal in narratives which depict personal struggles. Motivated by personal growth and a desire for knowledge, they exhibit a blend of idealism and pragmatism, searching for evidence-based strategies while remaining open to philosophical and theoretical perspectives. Although drawn to complex ideas, they may find some approaches overly abstract or lacking in practical application. They appear to",
          "This person is highly intellectual and introspective, driven by a deep curiosity about the nature of reality, consciousness, and existence. They possess an analytical mind, drawn to complex philosophical concepts and scientific theories, yet appreciate the human condition as explored through literature. They value knowledge and understanding, evidenced by their interest in history, psychology, and economics. While intellectually stimulated by the abstract, they may struggle with finding fulfilling applications or meaning in more practical areas like self-help. They likely possess a critical perspective, willing to question conventional wisdom and explore alternative viewpoints. However, their engagement with diverse subjects suggests an open-mindedness and a willingness to consider different perspectives, though they hold high standards for intellectual rigor.",
          "They are a curious and growth-oriented individual with a blend of practical and imaginative interests. Intellectually, they appreciate thought-provoking narratives and insights into human behavior, history, and psychological principles. Emotionally, they are drawn to stories with heartwarming themes that reflect a sense of connection and belonging, and they value empathetic portrayals of human experiences. Interpersonally, they seem to be driven by a desire to improve both themselves and their relationships, as evidenced by their interest in self-help and parenting books. They balance a desire for personal effectiveness with an appreciation for creative expression and imaginative worlds, showing a capacity for analytical thinking balanced with sentimental leanings. Their decision-making likely involves weighing logical considerations with emotional factors, striving for harmony.",
          "This individual possesses a strong intellectual curiosity, particularly focused on understanding human behavior and child development. They value empathy and seek practical strategies for effective communication and positive relationships, especially within a family context. Driven by a desire to create a nurturing and supportive environment, they appreciate resources that offer guidance on parenting techniques, child psychology, and cultivating positive character traits. While grounded in practicality, evidenced by their interest in pragmatic parenting approaches, they're also drawn to understanding broader cultural perspectives on family life. They are clearly family-oriented and thoughtful when it comes to parenting. They also have a reflective side, as shown their interest in books that explore anxieties and societal issues, suggesting a deeper consideration of the world around them. Their emotional landscape is likely characterized by a desire",
          "This person is deeply intellectual and highly values stories exploring identity, particularly those challenging societal norms and shedding light on marginalized experiences. They possess a strong sense of social justice and a commitment to understanding complex social issues through both fiction and non-fiction lenses. Their emotional landscape is rich and empathetic, drawn to narratives revealing human vulnerabilities, struggles, and resilience in the face of adversity. They appreciate authenticity and nuance, favoring works offering profound insights into personal and collective histories relating to gender, sexuality, and race. A sophisticated cognitive style is evident in their enjoyment of philosophical and intellectual texts, but they are not solely cerebral. Their appreciation for romance, memoirs, and personal stories suggests a balanced approach, marrying intellectual curiosity with emotional intelligence and a desire for human connection. They",
          "This person is a highly imaginative and idealistic individual, drawn to grand narratives and archetypal stories that explore profound themes. They possess a strong intellectual curiosity, evident in their exploration of mythology, symbolism, and literary criticism. While they appreciate humor and adventure, their preference leans toward epic and transformative journeys. They are likely introspective, finding meaning in ancient wisdom and the exploration of the human condition through symbolic lenses. Emotionally, they are engaged and empathetic, captivated by stories of heroism, magic, and the eternal battle between good and evil. However, they may find purely pragmatic or mundane subjects uninspiring, preferring to engage with the world through the rich tapestry of myth and fantasy. This suggests a creative, thoughtful individual who values depth over superficiality and seeks",
          "This person possesses a strong sense of empathy and values personal growth, as demonstrated by their appreciation for narratives centered on resilience, historical struggles, and coming-of-age experiences. They are drawn to stories that explore both the beauty and hardship of human existence, indicating a sensitivity to complex emotions and social injustices. Intellectually curious, they appreciate well-crafted prose and nuanced character development. Their preference for classic literature and historical fiction suggests an interest in understanding the past and its impact on the present. They likely value authenticity and have a penchant for stories that offer moral lessons or insights into the human condition. Judged by their interest in memoirs and autobiographies, they are introspective and value personal stories. While they are moved by darker themes and can appreciate",
          "This individual possesses a strong inclination toward exploration and self-discovery, often immersing themselves in narratives of physical and emotional journeys. They exhibit an intellectual curiosity about diverse cultures and perspectives, particularly those found in far-flung corners of the world. Their appreciation for memoirs and travel writing suggests an empathetic nature and a desire to understand the human condition through personal narratives and real-world experiences. While valuing intellectual stimulation, they’re deeply moved by authentic storytelling and meaningful connections, valuing adventure, introspection, and a quest for personal growth. Their tastes imply a balance between a desire for excitement and a capacity for reflection, showing both a philosophical curiosity and a preference for practical wisdom gleaned from lived experience. They seek understanding through tangible experiences, not just abstract concepts, revealing",
          "This person possesses a strong intellectual curiosity, especially regarding faith, morality, and meaning. They are deeply invested in understanding and defending their Christian worldview, gravitating towards apologetics, theology, and allegorical narratives that reinforce their beliefs. They value holiness, love, and truth, and are likely motivated by a desire to live a virtuous life according to their religious principles. Socially, they seem discerning and value-driven, appreciating works that explore family and nature, but strongly rejecting philosophies that clash with their core convictions. They possess a critical mind, but this is tempered by a willingness to engage with diverse perspectives, even those they ultimately find problematic, albeit with a degree of skepticism. While they are open to self-improvement, they may view secular approaches",
          "They are a deeply empathetic and introspective individual, drawn to stories exploring human connection and emotional resilience. Intellectually curious, they appreciate insights into psychology and spirituality, seeking understanding of both the self and the broader human condition. Their preference for personal growth suggests a desire for self-improvement and a commitment to navigating life's challenges with compassion and mindfulness. While they enjoy fictional narratives that explore complex relationships and emotional nuance, their engagement with non-fiction, particularly in psychology and philosophy, indicates a rational and analytical approach to understanding the world. They value meaningful connections and seem to be fascinated by the human ability to find meaning and purpose in difficult circumstances. This individual's selection further suggests an open-minded and compassionate worldview, showing an interest in diverse",
          "This individual possesses a strong inclination toward adventure and self-discovery, frequently drawn to narratives exploring personal journeys and transformative experiences. Intellectually curious, they appreciate both insightful non-fiction that broadens their understanding of the world and philosophical fiction that delves into the deeper meanings of life. A contemplative and empathetic nature is also evident, demonstrated by a preference for stories highlighting social issues, cultural complexities, and poignant struggles. They are motivated by a desire to learn and grow, valuing resilience, courage, and the ability to find meaning even in challenging circumstances. While intrigued by suspenseful and mysterious scenarios, they lean more towards thought-provoking, human-centered stories. Overall, they seek narratives that are both engaging and ethically significant, and they enjoy stories that explore",
          "This individual possesses a deeply reflective and aesthetically driven personality. They exhibit a strong intellectual curiosity, particularly drawn to understanding the world through the lenses of art, design, and philosophy. Evidenced by their interest in both the practical and theoretical aspects of creativity, they likely value innovation and self-expression. Their emotional landscape seems nuanced, appreciating beauty and seeking deeper meaning in experiences. Inclined toward introspection, they are motivated by a desire for personal growth and a richer understanding of the human condition. They appear to be receptive to diverse perspectives and comfortable navigating complex ideas, with a balanced approach that integrates logical reasoning and emotional insight. They value both tradition and innovation, as well as self enhancement and aesthetics.",
          "This individual is deeply invested in understanding human potential and development, approaching life with both intellectual curiosity and a strong desire to make a positive impact. They are driven by a blend of idealistic and pragmatic values, seeking evidence-based strategies for personal growth and improved learning environments. Intellectually, they exhibit a multidisciplinary approach, exploring psychological principles, educational philosophies, and personal narratives to derive comprehensive insights. Empathetic and socially conscious, they value equality and seek to understand diverse perspectives. Although drawn to theoretical frameworks, they appreciate practical applications and actionable advice, especially concerning parenting and education. Their decision-making likely involves weighing empirical data against fundamental humanistic values, striving for solutions that are both effective and ethical. They grapple with complex emotions and seek to understand",
          "They are deeply empathetic and introspective, drawn to stories that explore the human condition, particularly themes of vulnerability, connection, and finding meaning in suffering. This person values authenticity and personal growth, seeking insights into psychology and self-help that foster emotional resilience and healthy relationships. They appreciate narratives that blend fiction with deeper philosophical or spiritual inquiries, reflecting a search for wisdom in various sources. Kindness and compassion are central to their worldview, evident in their appreciation for stories about overcoming adversity and embracing one's place in the world. While grounded in reality, they are open to exploring profound questions of purpose and spirituality, favoring books and ideas that promote healing, understanding, and a sense of belonging. They likely possess a contemplative nature, seeking to integrate intellectual insights into",
          "They are a highly intellectual and inquisitive individual, driven by a deep fascination with science, particularly in physics, biology, and cosmology. Their mind is analytical and abstract, drawn to complex theories and fundamental questions about the universe and existence. While they appreciate rigorous, evidence-based inquiry, they also explore philosophical implications and humanistic aspects of scientific knowledge. Emotionally, they seem drawn to themes of meaning, survival, and the human condition, balanced by moments of optimism in technological innovation. In their social orientation, they may be selective, valuing authentic interactions with people who share their intellectual curiosity and ethical concerns. When faced with difficult choices, they likely analyze all available evidence before making a rational decision, yet also take personal values into account. Motivation comes from a",
          "They are deeply introspective and empathetic, drawn to understanding the human condition through personal narratives and scientific insights. A strong interest in psychology, neuroscience, and memoir suggests a desire to explore the complexities of the mind and emotions, particularly in the face of adversity. They value resilience and growth, seeking tools for self-help and mindfulness. Preferring stories that delve into profound experiences, such as illness, loss, and personal transformation, suggests a capacity for emotional depth and a willingness to confront difficult realities. A taste for both analytical essays and emotionally-charged memoirs indicates a balanced cognitive style, blending reason with sensitivity. They likely approach life with a thoughtful, compassionate demeanor, seeking meaning and connection through shared human experiences. Their reading choices reveal someone who is driven by",
          "They are intellectually curious and driven by a desire for self-improvement and understanding of the human condition. They possess an analytical and empathetic mindset, evidenced by their interest in psychology, child development, and parenting strategies. This suggests a strong inclination towards personal growth, particularly in the realm of relationships and effective communication. They are likely conscientious and value creating a positive and supportive environment for themselves and others. A blend of self-help themes and reflective memoirs indicates introspective tendencies and a capacity for learning from personal experiences. Their appreciation for both lighthearted comedies and more serious historical fiction points to a balanced emotional range, capable of appreciating humor while also engaging with challenging and thought-provoking narratives. The inclusion of business/productivity-related books suggests a desire for efficiency and",
          "This person possesses a deep appreciation for nature, community, and a simpler way of life, showing a preference for narratives centered around rural settings and agrarian values. Intellectually curious and drawn to thoughtful explorations of both the natural world and human relationships within it, they value authenticity and integrity. They demonstrate an empathetic nature, drawn to stories that highlight the beauty and challenges of human connection, especially within families and local communities. They appear introspective and value environmental stewardship. They exhibit a practical bent, appreciating straightforward advice, but ultimately are driven by a desire for a meaningful existence rooted in connection, sustainability, and intellectual stimulation. They likely make decisions based on a combination of practicality and a desire to align with their values, favoring experiences and knowledge that enrich their understanding",
          "This person possesses a deeply ingrained sense of environmental consciousness, which permeates their intellectual and emotional landscape. Driven by a blend of idealism and pragmatism, they are drawn to exploring complex ecological and social systems, seeking both understanding and solutions. Intellectually curious and analytically inclined, they value knowledge and demonstrate a keen interest in science, philosophy, and indigenous perspectives. Empathetic and emotionally engaged, they are moved by the beauty and fragility of the natural world, displaying a somber awareness of environmental challenges. Their values are rooted in preservation and sustainability, advocating for responsible stewardship of the planet. Socially aware, they likely engage in activism and seek to inspire change through a combination of hope and informed action. While appreciative of artistic expression, they favor works that",
          "This person possesses a broad and inquisitive intellect, drawn to both analytical and imaginative realms. They value knowledge and understanding across diverse fields, from scientific inquiry to historical narratives and philosophical explorations. A deep-seated curiosity drives them to explore complex issues, including societal structures, environmental concerns, and the human condition. Emotionally, they demonstrate empathy and a capacity for profound introspection, gravitating toward narratives that explore the depths of human experience and resilience in the face of adversity. They appreciate nuanced perspectives and are likely driven by a desire for personal growth and a deeper understanding of the world. While intellectually stimulated by detailed analysis, they also possess a creative side, finding solace and inspiration in fantastical and literary works that push imaginative boundaries. Their social orientation likely reflects a thoughtful and",
          "This individual demonstrates a deeply empathetic and intellectually engaged personality, with a strong inclination toward social justice and understanding systemic inequities. They are analytical and critical, drawn to exploring historical and contemporary issues of power, oppression, and social change through both non-fiction and thoughtfully chosen fiction. Their emotional landscape is likely characterized by a blend of hope and concern, as they grapple with the complexities of the world while seeking pathways toward a more just and equitable future. They appear to value resilience, community, and the potential for positive transformation, evidenced by their interest in emergent strategies and radical hope. In interpersonal settings, they are likely to be thoughtful, reflective, and driven by a genuine desire to connect with others on a meaningful level, particularly around issues they find pressing and relevant",
          "They are a pragmatic and ambitious individual, keenly interested in understanding and leveraging human behavior for success. They possess an analytical mind, gravitating towards works that offer actionable insights into psychology, marketing, and business strategy. They value efficiency and impact, seeking methods to optimize their personal and professional lives. While drawn to self-help and personal development books, they maintain a critical and somewhat cynical perspective, disliking being perceived as excessively earnest or cliché. Socially aware and image-conscious, they appreciate insights into social dynamics and trends. They are strategic in their self-presentation, balancing the desire for intellectual stimulation with a focus on practical application. Though they find value in understanding broad historical trends, their primary motivation appears to be career advancement and personal influence,",
          "This individual possesses a deeply ingrained sense of environmental stewardship, indicating a strong connection to the natural world and a pragmatic, solutions-oriented approach. Intellectually curious and values-driven, they are drawn to insightful explorations of ecological interconnectedness, social justice, and sustainable practices. While appreciating detailed investigation, their engagement is not solely academic; they demonstrate an emotional investment in the well-being of the planet and a sensitivity to its inherent beauty. They appear to favor work that blends scientific rigor with ethical considerations and philosophical reflection in environmental stewardship. They are drawn to content that challenges the status quo and envisions transformative change, revealing a hopeful, yet realistic outlook. They are not afraid of complexity and seem to appreciate the synthesis of information from different perspectives, suggesting an",
          "They possess a sharp, skeptical intellect, valuing evidence-based reasoning and rigorous investigation. Driven by a desire to understand the world at a deeper level, they are drawn to works that expose hidden truths, reveal systemic biases, and explore the complexities of human behavior. While fascinated by scientific advancements and rational thought, demonstrated by interests in science, data analysis, and behavioral economics; they also appreciate insightful critiques of societal structures, media influence, and political ideologies. They have a strong sense of social justice, a keen awareness of potential for manipulation and a possible distrust of grand narratives and unchecked power, which can lead to them being critical of ideological extremism. Empathetic and capable of appreciating diverse perspectives, they value truth, intellectual honesty, and the pursuit of knowledge",
          "This person possesses a highly intellectual and analytical mind, driven by a deep curiosity about the natural world and the human condition. They are drawn to understanding complex systems, from the intricacies of physics and cosmology to the biological basis of life and behavior. While grounded in scientific principles, they also appreciate philosophical and historical perspectives, seeking a comprehensive worldview. Emotionally, they are thoughtful and reflective, engaging with ideas that explore meaning and purpose. Their tendency to favor well-researched, evidence-based arguments suggests a pragmatic and rational approach to decision-making, though they are not immune to exploring imaginative and speculative narratives. They likely value knowledge and understanding, and may demonstrate a subtle sense of social responsibility as they consider topics that affect humanity. They are open to",
          "This person is deeply empathetic and intellectually engaged, with a strong commitment to social justice and understanding systemic inequalities. They are drawn to insightful analyses of society, history, and power structures, showing a preference for works that explore race, oppression, and the path toward a more equitable world. They value both theoretical understanding and practical application, as evidenced by their interest in activism, education, and self-help resources aimed at fostering change. They appear to be thoughtful and introspective, reflected in their appreciation for personal narratives and essay collections that grapple with identity and social issues. They are not afraid to confront difficult subjects and seek to learn from diverse perspectives, indicating a commitment to intellectual growth and challenging their own biases. Ultimately, they are a compassionate individual who seeks to",
          "This person possesses a sophisticated and introspective nature, drawn to beauty, aesthetics, and the philosophical underpinnings of art and life. They are intellectually curious and value deep thinking, as evidenced by their affinity for complex philosophical explorations and art theory. Creative pursuits resonate with them, yet they approach these endeavors with a blend of artistic passion and practical self-improvement. Emotionally, they are attuned to subtle nuances and appreciate the beauty of everyday moments, exhibiting sensitivity and a penchant for introspection. They are drawn to stories that weave together elements of mystery, history, and human drama, which suggests a capacity for empathy and a desire to understand the complexities of human nature. They likely strive for personal growth and fulfillment. Their appreciation for aesthetics and design implies a desire",
          "This person is highly intellectually curious and future-oriented, driven by a desire to understand complex systems and technological advancements. They possess an analytical mind, evident in their interest in scientific, philosophical, and business-related subjects. Innovation and entrepreneurship appeal to them, suggesting a pragmatic streak and a desire to make an impact on the world. While they value exploration of abstract concepts, they also appreciate practical strategies for success. This person balances optimism about the future with a thoughtful consideration of potential dangers and philosophical implications, revealing a responsible and nuanced perspective. While their interests encompass a wide range of topics, they seem to especially enjoy science fiction that explores both technological and philosophical elements, exhibiting an imaginative and forward-thinking mindset. Their interest in history and anthropology suggest a",
          "This person is deeply intellectual and analytical, with a strong inclination towards structure and understanding. They exhibit a clear preference for non-fiction, especially in the realm of music, suggesting a methodical and inquisitive mind that seeks to dissect complex systems. They are likely driven by a desire for self-improvement and knowledge acquisition. Although self-help texts appeal to them, the person is also capable of appreciating the more abstract dimensions of spirituality and the arts, revealing a balanced approach between logic and intuition. Their enjoyment of biographies hints at a desire to learn from the experiences of others, a capacity to appreciate and value the past, and empathy. The inclusion of philosophy texts suggests a contemplative nature and a desire towards self-reflection. While fiction clearly holds less of their interest",
          "They are a deeply intellectual and introspective individual, grappling with profound questions about human existence, morality, and the nature of suffering. A strong preference for challenging and often bleak narratives suggests a comfort with exploring darker aspects of the human condition. They value truth and meaning, seeking understanding through both fictional scenarios and philosophical inquiry. While drawn to works exploring isolation and societal breakdown, they also show an interest in the mechanisms of human behavior and societal structures, blending existential angst with a desire for rational understanding. Though possessing an analytical mind, they are not divorced from emotional engagement, as evidenced by their appreciation for stories that evoke strong emotional responses. A tendency towards solitary contemplation is balanced by an implicit concern for the human collective, particularly regarding justice, freedom, and the potential",
          "This individual is driven by a strong desire for external success and influence, meticulously studying strategies from psychology, marketing, and business to enhance their understanding of persuasion and effectiveness. They are pragmatic and results-oriented, favoring actionable advice and proven methods over theoretical concepts. While valuing self-improvement and relatable content, they seek approaches that provide a degree of counterintuitive or edgy thinking, suggesting a desire to stand out. There's a clear awareness of their public image and a need to manage it effectively; thus, philosophy and self-awareness, are appreciated. However, while they acknowledge the importance of wellness, they might find deeply introspective or spiritual practices less engaging. They value leadership qualities and are keen on discovering what inspires action within others, and look for",
          "This person is drawn to stories of both personal and societal significance, revealing a deep interest in the human condition and the struggles faced by individuals navigating complex circumstances. They have an adventurous spirit, valuing exploration and transformative journeys, both physical and philosophical. While embracing narratives of self-improvement and leadership, they also possess a strong sense of social justice and a penchant for historical settings, suggesting an intellectual curiosity about past events and their impact on present-day society. Empathetic and introspective, they are motivated by opportunities to learn, grow, and understand the world's diversity. Emotionally, they respond strongly to tales of resilience and personal triumphs over adversity, indicating an optimistic worldview tempered with a realistic appreciation for life's hardships. Their taste in fiction",
          "This person displays a strong connection to the past, particularly through a preference for stories set in historical periods. They are drawn to narratives that offer a glimpse into different eras and ways of life, suggesting a deep appreciation for history and a desire to understand the human condition across time. Their literary choices indicate a tendency towards empathy and an interest in complex moral issues, as often found within historical fiction and biographical works. They value stories centered around themes of resilience, as well as personal growth, with a slight preference for reflective rather than action-driven plots. Intellectually, they show curiosity towards classic literature, including plays, indicating a likely appreciation for witty dialogue and classic literary styles. Overall, they seem like someone with a strong moral compass who favors thoughtful reflection",
          "This person is deeply empathetic and seeks meaning in life, valuing stories that explore human connection, resilience, and personal growth. Intellectually curious, they appreciate works that offer insights into psychology, philosophy, and understanding the world. They are drawn to narratives that inspire hope and a sense of purpose, demonstrating an idealistic bent and a desire to make a positive impact. While appreciating lighthearted stories, they also engage with complex issues and difficult realities. This suggests a thoughtful nature and an individual motivated by compassion, valuing both intellectual stimulation and emotional depth. They likely possess strong ethical principles and a desire for self-improvement, guided by a belief in human potential and the power of connection. They approach the world with a blend of idealism and groundedness, seeking wisdom",
          "This person is highly pragmatic and driven by a desire for self-improvement and efficiency. They are drawn to practical knowledge and actionable strategies, seeking out resources to optimize their productivity, finances, and overall effectiveness. Intellectually curious, they appreciate insights into business principles, human behavior, and the value of skilled work. While they have diverse interests ranging from philosophy to cooking, a common thread is a focus on utility and tangible outcomes. They appear to have a logical and analytical approach to problem-solving, preferring concrete methods over purely theoretical concepts. While not overtly sentimental, this person appreciates stories of resilience and endurance, suggesting an admiration for the human spirit. They are likely conscientious and value personal mastery, continually seeking to refine their skills and habits. Their social",
          "This individual possesses a complex and somewhat melancholic worldview, deeply informed by a fascination with existential themes, psychological depth, and the darker aspects of human nature. They show an intellectual leaning towards philosophical and psychological insights, especially regarding the human condition and societal structures, though high ratings for fiction suggest a strong ability to explore these concepts through narrative empathy rather than abstract theory. They are likely introspective and value truth, even when it's uncomfortable, appreciating literature that grapples with suffering, morality, and the absurdity of life. While motivated by a desire to understand the world, their lower ratings of political philosophy and one work of Stephen King suggest skepticism of idealistic solutions and a preference for nuanced, character-driven stories over straightforward genre narratives. Their apparent interest in",
          "This person is deeply invested in self-improvement and holistic well-being, demonstrating a strong interest in optimizing their physical and mental performance. They value scientific rigor, actively seeking evidence-based approaches to nutrition, fitness, sleep, and cognitive function. A pragmatic approach to life prevails, with Stoic philosophy offering a framework for navigating challenges. While self-reliant and driven to improve, they also appreciate narratives of human endurance and historical exploration. Intellectual curiosity is evident in their exploration of history, anthropology, and broad scientific topics. Although drawn to spirituality, a grounding in practical, actionable advice suggests a desire for demonstrable personal growth. They are analytical, perhaps even somewhat data-driven, yet open to exploring inner experiences and emotional healing, implying a balanced approach to",
          "This individual possesses a multifaceted personality, exhibiting a blend of intellectual curiosity and a yearning for meaningful experiences. They are drawn to stories of adventure, resilience, and self-discovery, suggesting a value for personal growth and pushing boundaries. With a penchant for both fiction and non-fiction, they seek wisdom and understanding from varied sources, including insightful analysis of human behavior and inspiration from biographical accounts. They are likely motivated by a desire to learn and improve themselves, demonstrated with an appreciation for works focusing on how to navigate social dynamics and leadership. Furthermore, their appreciation for humor combined with an inclination towards philosophical questions reveals an ability to approach life with a balanced perspective, blending introspection with an optimistic outlook. They may engage deeply with narratives and are emotionally attuned to both personal",
          "They are an intellectually curious and aesthetically driven individual, deeply engaged with art, design, and philosophical explorations of beauty and meaning. They possess a reflective nature, appreciating both the practical and the theoretical aspects of creative endeavors, showing an aptitude for both technical details and broader conceptual frameworks. Their appreciation for self-help texts targeting creative blocks suggests a proactive approach to personal growth and a desire to overcome challenges in artistic expression. With a penchant for fiction blending genres like gothic and magical realism, they embrace imaginative storytelling and unconventional narratives. They value insight into human behavior, reflected in an interest in psychology, but may find themselves less engaged with empirically focused analysis. Overall, they appear to be a thoughtful and creative person, valuing beauty, craftsmanship, and the deeper philosophical questions",
          "They are intellectually curious and driven by a desire to understand the mechanics of success, particularly in business and leadership. Their thinking is strategic and pragmatic, valuing actionable insights and data-driven decision-making. While ambitious and focused on achievement, they also possess an interest in the human element, exploring the psychology of persuasion and the importance of effective teamwork. They appreciate historical context and philosophical underpinnings, seeking to learn from past successes and failures. Efficiency and effectiveness are important to them, but not at the expense of meaning and personal fulfillment. They likely value ethical leadership, striving to inspire and motivate others through a clear sense of purpose. Their analytical approach is tempered by a recognition of the inherent challenges and inevitable setbacks in life and work, suggesting resilience and a",
          "This person is deeply empathetic and driven by a search for meaning and simple joys. They possess an idealistic worldview, finding beauty and wisdom in nature, children's stories, and philosophical reflections. They are drawn to works exploring human connection, resilience, and the importance of finding solace in everyday life. A contemplative and introspective nature suggests a preference for mindful living and a desire for personal growth, evidenced by their interest in self-help and philosophical works. This individual values kindness, simplicity, and seeks to cultivate inner peace, often turning to nature, spirituality, and creative pursuits like gardening and cooking for grounding. Their social orientation likely leans towards nurturing relationships and offering comfort, making them a supportive and thoughtful companion.",
          "This person appears to be introspective and deeply empathetic, drawn to understanding the human condition, especially in the face of adversity. They exhibit a strong interest in personal growth, healing, and overcoming challenges, indicating resilience and a proactive approach to life's difficulties. Intellectually curious, they appreciate narratives that explore psychological complexities and philosophical inquiries into meaning and purpose. While valuing self-improvement, they also demonstrate a desire to understand societal issues, suggesting a socially conscious mindset. They likely process information analytically but are driven by emotional connection and a desire to learn from others' experiences. Open-minded and compassionate, they are likely a thoughtful observer, striving for a deeper understanding of both themselves and the world around them. A blend of self-reflection and outward",
          "This person possesses a deeply analytical and intellectually curious mind, drawn to complex systems and fundamental questions. Their preference for philosophy, science, and history suggests a desire to understand the world through reason and evidence, yet also a capacity for appreciating intricate narratives and imaginative world-building. While grounded in logic and critical thinking, they are not devoid of an emotional side, showing interest in psychology and the human condition, but possibly lean toward self-reliance and inward reflection, valuing personal growth and understanding one's place in the grand scheme. A spectrum of ratings reveals a capacity for discerning quality and depth, suggesting a desire for substance and meaningful insight over fleeting entertainment. They likely value knowledge, independence of thought, and the exploration of both inner and outer realities, approaching",
          "They are deeply introspective and possess a strong moral compass, drawn to narratives that explore complex social issues and the human condition. A contemplative nature is evident in their appreciation for philosophical and poetic works, signaling a tendency toward self-reflection and the search for deeper meaning. They have an empathetic and imaginative spirit, valuing diverse voices and experimental forms of expression. The array of genres they appreciate also suggest a curious and open-minded individual, ready to engage with challenging and unconventional ideas. While attuned to darker themes, they also show an interest in nature and inner strength, which could indicate a resilient and hopeful outlook, balancing philosophical depth and literary exploration with practical wisdom and natural appreciation. Their intellectual curiosity is matched by a desire for emotional understanding and artistic appreciation.",
          "This person is intellectually curious and values truth-seeking, displaying a strong inclination toward investigative and analytical thinking. They are drawn to uncovering hidden truths, whether in journalism, business, or societal structures, and appreciate works that challenge prevailing narratives or expose wrongdoing. A skeptical mindset is evident, coupled with a desire for evidence-based understanding, particularly in science and current events. While they appreciate intellectual exploration, they are discerning, favoring rigorous, well-researched non-fiction over speculative or unsubstantiated claims. They appear to be politically aware and engaged, interested in the influence of media and power structures. Their emotional responses are tempered by reason, and they likely prioritize rationality over appeals to faith or unsubstantiated self-help promises. While capable of",
          "This person is intellectually drawn to themes of courage, resilience, and the psychological impact of conflict. They are likely pragmatic and value deeply held principles, demonstrated by an interest in military history, strategy, and philosophy. Emotionally, they appear to be drawn to stories that explore both the glory and the brutal realities of warfare, hinting at a complex understanding of human nature and motivation. This individual probably possesses a reflective temperament, with an inclination to contemplate the psychological and sociological aspects of group dynamics, belonging, and personal fortitude in the face of adversity. They likely make decisions based on a combination of logic and an appreciation for the human element, valuing bravery and decisiveness. Socially, they might exhibit a blend of respect for tradition and a critical awareness of its",
          "They are a highly analytical and intellectually curious individual, fascinated by the intersection of technology, business, and philosophy. Driven by a thirst for knowledge and innovation, they exhibit a pragmatic yet visionary approach, constantly seeking to understand complex systems and anticipate future trends. While valuing individual achievement and entrepreneurial spirit, they are also drawn to exploring the human condition and the broader implications of technological advancements on society. They possess a strong interest in the future and how it can be actively shaped - possibly optimistic but not recklessly so. Emotionally, they show a preference for logic and reason, tempered with a touch of existential contemplation. This person is likely someone who seeks to understand the big picture and isn’t afraid to engage with challenging ideas. Their social orientation leans towards selective engagement",
          "This person possesses a deeply introspective and analytical mind, drawn to understanding human behavior, societal structures, and the search for meaning. They value personal growth and resilience, exploring psychological concepts related to trauma, attachment, and the impact of societal forces on the individual. With a blend of intellectual curiosity and emotional sensitivity, they appreciate both logical analysis of human nature and also introspective self-help. Their thinking style involves examining the broader implications of social ideologies, historical context, and psychological well-being. They are also interested in the dystopian perspective, showing a concern for social issues and a desire to understand potentially negative futures. They appear to be motivated by a desire to find genuine connections and understand themselves and society around them on a profound level.",
          "This person values personal growth and seeks practical strategies for self-improvement, showing an active interest in enhancing effectiveness in both professional and personal realms. They are drawn to stories that blend historical settings with strong emotional narratives, suggesting an appreciation for the past and its impact on human experience. A curious mind is evident in their liking for science fiction and thrillers, revealing a fascination with exploring unconventional possibilities and complex, thought-provoking scenarios. They demonstrate an empathetic side, as seen with the appeal of heartwarming tales focused on interpersonal relationships and emotional resonance, and a desire to improve their parenting skills, indicating a caring and nurturing disposition. Balancing practicality with emotional depth is key, seeking guidance in parenting and home organization, while also valuing self-reflection and understanding the human condition",
          "This individual demonstrates a strong inclination towards introspection and personal growth, exhibiting a curious and open-minded approach to understanding themselves and the world. They are deeply interested in spirituality, mindfulness, and philosophical questions, suggesting a search for meaning and purpose beyond the material realm. They lean towards idealism, valuing wisdom, compassion, and inner peace. Emotionally, they value tranquility and balance, showing an interest in managing their inner state to better navigate life's challenges. Their preference for books on self-help and psychological understanding points to a desire for self-improvement, coupled with an analytical mind that seeks practical application of complex ideas. They likely exhibit empathy and a desire for harmonious relationships with others, possibly balancing moments of solitude within broader social interactions. This person likely",
          "This person possesses a compassionate and intellectually curious nature, demonstrating a particular interest in stories that explore diverse cultures, historical events, and the complexities of the human experience. They value empathy and strive to understand the challenges faced by individuals navigating different social and political landscapes. With an appreciation for both personal narratives and broader societal issues, they are drawn to reflective works that offer insights into identity, belonging, and the search for meaning. They likely possess a strong sense of social justice and a desire to learn from the past to inform the present, showing a potential for thoughtful introspection and a genuine connection to humanity through shared stories and philosophical inquiry. They navigate decisions with a blend of rationality and emotional awareness, guided by a desire to find common ground while acknowledging the unique experiences that",
          "This person possesses a deeply intellectual and introspective nature, gravitating toward profound explorations of the human condition through literature. With a penchant for stories tackling weighty themes, they demonstrate a strong interest in history, philosophy, and psychology, particularly existentialism. They are drawn to works examining suffering, resilience, and the search for meaning in a seemingly indifferent universe. While clearly moved by human tragedy, they are not entirely pessimistic; they appreciate works that offer insights into psychological depth and moral complexity. This person probably approaches life with a thoughtful seriousness, valuing authenticity and demonstrable understanding in narratives and likely, in people. While they may grapple with difficult questions, their intellectual curiosity suggests a desire for deeper meaning, rather than simple escapism, and this drives their exploration of what",
          "This person possesses a distinct intellectual curiosity, drawn towards stories that blend reality with the fantastical and explore deeper philosophical questions. They are likely imaginative and reflective, valuing narratives that offer insightful perspectives on the human condition and the nature of existence. Emotionally, they seem to be drawn to experiences that evoke wonder and perhaps a touch of melancholy, appreciating the beauty and strangeness of the world. They value creativity, seeking inspiration from various sources, including mythology and philosophical musings. They appear to have a strong ethical compass, favoring stories that explore morality. The blend of fiction with philosophical themes suggests an inclination towards thinking abstractly and pondering life's big questions. While they find value in self-improvement, their preferences lean toward the introspective rather than purely practical",
          "This person possesses a deeply analytical and intellectually curious mind, drawn to understanding complex historical events and figures. They are fascinated by leadership, strategy, and the human experience within grand historical narratives, suggesting a pragmatic yet thoughtful approach to problem-solving. A strong sense of realism tempers any potential idealism, as they seem to grapple with the darker aspects of human nature and conflict. They value courage, resilience, and leadership in the face of adversity. Emotionally, they appear to be moved by stories of triumph and tragedy and have a desire to understand the nuanced motivations behind historical events. Their preference for detailed historical accounts and biographies suggests an interest in facts and accurate portrayals of real-world events.",
          "This person is deeply introspective and driven by a quest for personal understanding and growth. They are drawn to psychological insights and philosophical concepts, eager to understand the human condition and the workings of the mind. They display empathy and a desire to help others overcome challenges, seen in an interest in trauma and therapeutic narratives. While intellectual pursuits are important, practical application is also valued, particularly in self-improvement and effective influence. They are open to exploring different perspectives, including sociological and historical analyses, and possess an optimism tempered by critical analysis. They are likely quite sensitive and thoughtful, possibly introverted, preferring deep dives into complex subjects to superficial interactions. This individual seeks meaning in life through both intellectual exploration and emotional connection.",
          "This individual possesses a deeply philosophical and introspective nature, constantly seeking meaning and understanding in the world and within themselves. They are drawn to exploring complex ideas, particularly regarding existence, ethics, and the human condition. They exhibit a strong intellectual curiosity and appreciate works that challenge conventional thinking. While valuing reason and logic, they also engage with emotional and psychological realms, as evidenced by their interest in psychology and narratives that explore morality, guilt, and redemption. They demonstrate a nuanced appreciation for art and literature, favoring works that delve into profound emotions and psychological complexities. This person likely gravitates towards deep conversations, thoughtful contemplation, and seeks personal growth through self-reflection and engagement with profound ideas. They may possess a resilient and reflective approach to life, attempting to find",
          "They are deeply analytical and value courage, duty, and resilience. Drawn to narratives of military history, war, and personal accounts of service, their intellectual curiosity leans towards understanding human behavior under extreme pressure. They appreciate both the strategic aspects captured in military strategy and the psychological costs detailed in works on killing. Their emotional landscape seems anchored in respect for those who serve, with a possible fascination for testing one's limits. They likely value loyalty and belonging, as evidenced by an interest in group dynamics and the self-help genre focused on leadership. While drawn to realistic portrayals of conflict, they seem to appreciate stories highlighting valor and sacrifice. They likely integrate personal growth with external challenges, preferring concrete, practical insights over abstract theories. Their social orientation appears grounded",
          "This individual possesses a sharp, analytical intellect, drawn to complex ideas and challenging perspectives across a wide range of domains. They exhibit a strong interest in understanding the human condition, exploring morality, societal structures, and the darker aspects of human behavior. They tend to think critically and independently, valuing individual agency and self-reliance, though not necessarily at the expense of empathy. Emotionally, they appear to be somewhat detached yet intensely curious, demonstrating a capacity for both profound intellectual engagement and subtle cynicism. They are likely driven by a desire to understand the world deeply, often questioning established norms and conventional wisdom. Their engagement with various fictional narratives suggests an appreciation for complex characters who grapple with moral ambiguity and philosophical dilemmas. They approach life with a pragmatic blend of intellectual curiosity",
          "They possess a contemplative and introspective nature, deeply drawn to profound human experiences and philosophical questions. With a strong intellectual curiosity, they explore themes of meaning, purpose, and inner conflict, appreciating both the beauty and complexities of life. A high value is placed on authenticity and self-awareness, leading to a thoughtful and deliberate approach to decision-making. They exhibit a degree of emotional sensitivity, resonating with stories that explore the depths of human emotion and the search for connection. While grounded in reality, they appreciate works that challenge conventional thinking and offer alternative perspectives. They are likely empathetic, though not outwardly expressive, and approach relationships with a sense of depth and understanding, valuing genuine connection over superficial interactions. Highly attuned to their inner life, they navigate the",
          "They possess a thoughtful and contemplative nature, drawn to stories that explore the interconnectedness of humanity, nature, and community. A deep appreciation for rural life, simple living, and enduring values suggests a desire for authenticity and connection to the land. They are likely empathetic and value close relationships, finding wisdom in shared experiences and reflections on life's deeper questions. A preference for insightful, character-driven narratives and insightful non-fiction indicates a curious intellect and a desire for personal growth and understanding. They value social harmony and community well-being, grounded in practical wisdom tempered by spiritual and philosophical reflection. While appreciating beauty and tranquility, they are not afraid to engage with complex social and ethical issues, demonstrating a commitment to a just and sustainable world.",
          "This person possesses a rich inner world fueled by imagination and a deep sense of meaning. They gravitate toward narratives that explore profound philosophical questions and the interconnectedness of reality, often finding beauty in the blending of genres like magical realism and historical fantasy. Introspective and thoughtful, they value stories that offer insights into the human condition, the search for purpose, and the exploration of diverse perspectives. Emotionally attuned, they appreciate works that evoke empathy and tap into the wonder and mystery of life. While open to scientific perspectives, they are drawn more strongly to works that integrate science with philosophical or spiritual dimensions. They may approach the world with a blend of idealism and resilience, seeking wisdom in both intellectual pursuits and the natural world, forming a worldview that is both thoughtful and",
          "This person possesses a rich inner world fueled by imagination and a deep appreciation for grand narratives. They are drawn to stories of heroes, myths, and the exploration of human potential, suggesting an idealistic bent and a fascination with the power of belief. While grounded in fantasy, they appreciate historical context and philosophical underpinnings, demonstrating an intellectual curiosity that blends escapism with a desire for deeper meaning. This indicates a thoughtful, analytical mind capable of nuanced understanding. Emotionally, they value love, courage, and adventure, finding inspiration in tales of personal growth and triumph over adversity. Though they may explore spirituality and philosophical thought, they are cautious, indicating a preference for tangible stories over abstract concepts. In social interactions, they likely appreciate depth and authenticity, valuing meaningful",
          "This person exhibits a strong intellectual curiosity and a keen analytical mind, particularly drawn to understanding complex systems and uncovering hidden truths. They are driven by a desire to be well-informed and to make sense of the world through evidence-based reasoning, demonstrating a fascination with science, history, and the inner workings of society. They value critical thinking and skepticism, showing a preference for investigative journalism and works that challenge conventional wisdom. While intellectually engaged, they also grapple with the complexities of human nature and societal issues, revealing a concern for justice and a potential distrust of unchecked power. They are pragmatic in their approach to problem-solving, yet they can also be idealistic, particularly when it comes to promoting reason and uncovering deception. Their interest in psychology hints at their drive",
          "This individual gravitates towards experiences that broaden their horizons and offer profound insights into the human condition, revealing a passionate and adventurous spirit. Intellectually curious, they are drawn to stories of exploration, both geographical and personal, finding meaning in philosophical reflections and unconventional perspectives. Emotionally, they seem receptive to transformative experiences, valuing resilience and self-discovery. Their taste in literature suggests an openness to diverse cultures and lifestyles, signifying a broad-minded, empathetic approach to the world. A preference for narratives that blend travel with memoir implies a desire for authenticity and a deep connection to the stories they consume. This person likely makes decisions based on a blend of logic and intuition, guided by a strong internal compass and a thirst for knowledge. Socially, they might",
          "This individual possesses a deeply empathetic and intellectually curious nature, shown through their interest in stories that explore identity and social justice. They approach the world with a critical and analytical mind, valuing diverse perspectives and challenging conventional norms. Driven by a strong moral compass, they seek to understand complex social issues and are particularly drawn to narratives that center marginalized voices. Emotionally, they are sensitive and introspective, demonstrating a capacity for deep feeling and a willingness to engage with difficult and potentially painful experiences. They are drawn to art that reflects the complexities of human relationships and value authenticity and vulnerability. This suggests someone who is thoughtful, compassionate, and committed to personal growth as well as the advancement of equity. They likely approach decision-making with careful consideration, weighing ethical implications alongside",
          "This person is deeply romantic and empathetic, drawn to narratives that explore the complexities of love in various forms. Introspective and thoughtful, they appreciate both the grand sweep of historical romances and the relatable struggles of contemporary relationships. They value strong emotional connections and are interested in understanding the dynamics of love from philosophical, psychological, and personal perspectives. While appreciating stories with fantastical elements, they have a clear preference for character-driven narratives and realistic emotional portrayals. They likely seek both escapism and insight from the media they consume, balancing a desire for lighthearted enjoyment with a genuine interest in the deeper meanings of human connection. They appear to be someone who values sentiment, empathy, and intellectual exploration of relationships.",
          "This individual is a highly intellectual and artistically inclined person, driven by a deep curiosity about the human experience and the power of music. They possess an analytical mind, evident in their engagement with music theory, neuroscience, and philosophical discussions, yet they are also drawn to the subjective and emotional aspects of creativity. Empathetic and introspective, they explore the inner landscapes of both themselves and others, valuing self-improvement and understanding human behavior within social and historical contexts. They appreciate authenticity and the raw, unfiltered essence of artistic expression. They value knowledge and understanding across multiple domains, but their appreciation for structure and logic is tempered by a fascination with the more ambiguous, creative, and spiritual sides of life. They are generally open-minded and thoughtful but less",
          "They possess a rich inner life, drawn to narratives that blend the fantastical with profound philosophical questions. They are intellectually curious, drawn to magical realism, fantasy, and philosophical fiction, which suggests a blend of imagination and a desire to explore deeper meanings of life. They value beauty, creativity, and intricate storytelling, evident in their appreciation for artful narratives across genres. While imaginative, an appreciation for nature writing and indigenous wisdom indicates an openness to grounded, practical perspectives. Their interest in diverse cultural narratives and philosophical explorations reveals a thoughtful and empathetic nature, likely resulting in carefully considered decisions. They value stories that offer both escape and insight into the human condition, suggesting a balanced approach to life that integrates both fantasy and reality, while maintaining a contemplative interest in the deeper",
          "This person possesses a deeply intellectual and introspective nature, driven by a desire to understand the fundamental principles governing existence. They are drawn to philosophical explorations of meaning, consciousness, and morality, engaging with complex ideas and abstract concepts readily. Emotionally, they exhibit a thoughtful and measured approach, valuing wisdom and resilience in the face of life's challenges. While appreciating the abstract and theoretical, they also appreciate practical applications of philosophy for self-improvement and navigating everyday existence. Their engagement with fiction suggests an interest in exploring human nature and societal structures, though dystopian themes trigger a less favorable response. They appear to value authenticity and independent thought, and form their own opinions through rigorous examination and reflection. Their social orientation is likely to be selective, preferring deeper connections and",
          "They are deeply intellectual and contemplative, grappling with profound questions about human existence, meaning, and the nature of suffering. Possessing a pessimistic worldview tempered by existential resilience, they are drawn to narratives exploring societal collapse, political oppression, and the darker aspects of human nature. Analytical and introspective, they appreciate works that dissect complex psychological states and philosophical concepts. They value honesty and authenticity, evidenced by their engagement with unflinching, sometimes brutal, depictions of reality. While interested in the mechanics of power and social structures, they maintain a critical perspective, reflecting a concern for justice and a skepticism towards authority. Emotionally, they demonstrate a capacity for empathy, though tempered by a rational and somewhat detached approach to understanding the human condition. They are likely motivated by a",
          "This person exhibits a strong inclination towards imaginative and philosophical narratives, suggesting a reflective and creative cognitive style. They are drawn to stories that blend reality with fantastical elements and explore deeper meanings, hinting at an underlying idealism and a desire to understand the world beyond its surface. Emotionally, they seem to value wonder and enchantment, appreciating narratives that elicit a sense of awe and mystery. Their interest in philosophical works and mythology reveals a thoughtful nature that seeks wisdom and meaning in different systems of belief. Socially, they appear to be introspective and enjoy exploring personal growth and potential, possibly suggesting an independent and curious approach to life. They are also motivated by intellectual stimulation, spiritual insight, and an appreciation for ecological awareness, indicating a well-rounded worldview. Their less",
          "They are deeply introspective and empathetic, drawn to understanding the complexities of the human condition, particularly regarding trauma, addiction, and recovery. A strong interest in personal growth and meaning-making suggests an idealistic streak tempered by a pragmatic desire for healing and change. They appear to value authenticity and vulnerability, demonstrated by their interest in memoirs and works exploring the human experience. They possess an analytical mind, seeking insights from diverse fields like psychology, neuroscience, and philosophy. While open to spiritual and philosophical exploration, their approach seems grounded in practical application, favoring narratives and frameworks that offer tangible paths to self-improvement and resolution. Their preference for works dealing with challenging topics reveals a resilience and willingness to confront difficult emotions, and a desire to learn and grow from them.",
          "This individual is intellectually curious and deeply engaged with envisioning future possibilities, particularly as they intersect with technology and societal change. They exhibit a strong analytical bent, enjoying complex systems and philosophical inquiries into artificial intelligence and the nature of reality. While drawn to optimistic and transformative visions of progress, they are also keenly aware of potential pitfalls and dystopian outcomes, showing a thoughtful and critical approach to innovation. They value intellectual stimulation and forward-thinking ideas, but are not afraid to consider darker or more challenging possibilities. They likely possess a blend of idealism and pragmatism, with a desire to understand the broader implications of technological advancements on humanity. This person is driven by a desire to comprehend and contribute to shaping the future, balanced by a discerning awareness of potential ethical and societal",
          "They are fundamentally a pragmatic and action-oriented individual, driven by a desire for self-improvement and efficiency. They value practical knowledge and actionable advice, demonstrating a strong preference for resources that offer concrete steps toward tangible goals. While they appreciate wisdom and philosophical concepts, they are more drawn to philosophies with practical applications. Their problem-solving approach is logical and strategic, as evidenced by their interest in fields like productivity, finance, and software development. While not averse to risk, they prioritize control and self-reliance, preferring approaches that emphasize personal responsibility. They are likely ambitious and driven, but also grounded and centered on what they can control and improve. Abstract or overly theoretical concepts hold less appeal, but psychology that focuses on building habits or finding meaning in life",
          "This person possesses a deeply ingrained sense of environmental responsibility and intellectual curiosity. They demonstrate a clear preference for works that explore the intricate relationships between humanity and the natural world, ranging from scientific analyses of ecological crises to philosophical reflections on nature's intrinsic value. Their emotional landscape is likely colored by both hope and concern, motivated by a desire to understand and address the challenges facing the planet. They value knowledge and thoughtful consideration, appreciating works that offer both practical solutions and deeper insights into environmental ethics. While capable of appreciating creative expressions of environmental themes, they demonstrate a grounded perspective that prioritizes factual accuracy and meaningful action, revealing a pragmatic yet idealistic social orientation. They are likely introspective and contemplative, valuing experiences that foster their connection with nature and inspire proactive engagement.",
          "They are a deeply thoughtful and optimistic individual with a strong appreciation for wisdom and personal growth. Introspective and empathetic, they possess an inherent curiosity about the human condition, seeking to understand both themselves and the world around them. They value meaningful experiences and strive for self-improvement, evidenced by their interest in psychology, philosophy, and self-help literature. While drawn to introspective themes, they are also drawn to uplifting tales, demonstrating a hopeful outlook and the belief in the power of positivity. A practical bent is suggested by their interest in business and science, but this is balanced by a sentimental appreciation for historical contexts and emotionally resonant narratives. Their social orientation leans toward humanistic values, emphasizing connection, kindness, and the shared human experience. They are likely",
          "This individual demonstrates a rich intellectual curiosity and a philosophical bent, deeply engaged with both scientific concepts and existential questions. They appreciate insightful narratives and innovative storytelling, evident in their preference for works that blend genres and explore complex themes of humanity, consciousness, and societal structures. Driven by a desire for knowledge and understanding, they value well-researched, informative texts balanced with narratives that offer emotional depth and moral contemplation. While open to diverse perspectives, they show discernment, favoring works that challenge conventional thinking and offer meaningful insights into the human condition, whether through introspective self-reflection or exploration of societal dynamics. They seem to balance analytical thinking with an appreciation for beauty and creativity, drawn to narratives that are both intellectually stimulating and emotionally resonant. Their choice of books",
          "This person is deeply value-driven, with a strong moral compass rooted in Christian faith. They approach life with a thoughtful and analytical mind, seeking evidence and intellectual justification for their beliefs, and demonstrating a commitment to defending their worldview. They are concerned with societal trends and actively engage with commentary, showing a preference for conservative perspectives and traditional values. While intellectually rigorous, they are also drawn to stories of redemption, love, and moral courage, suggesting a capacity for empathy and a desire for emotional connection. This person appears to be motivated by the pursuit of a meaningful life guided by faith, wisdom, and a commitment to personal growth, as evidenced by their interest in self-help and spiritual development. They appreciate structured approaches to life, extending even to areas like",
          "This individual possesses a sharp, analytical mind with a penchant for exploring the darker aspects of the human condition and societal structures. They are drawn to philosophical inquiries, especially those questioning traditional morality and existential themes. While valuing intellectual pursuits and theoretical concepts, there's a noticeable interest in works exploring power dynamics, societal control, and the human capacity for both profound good and disturbing behavior. They likely appreciate transgressive narratives and challenging perspectives, demonstrating a willingness to confront uncomfortable truths. Although they engage with diverse genres, a critical and somewhat pessimistic outlook seems to underpin their preferences. This person probably values authenticity and intellectual honesty, yet may struggle with reconciling idealistic aspirations with the often harsh realities of the world, often preferring to contemplate it from a somewhat detached perspective.",
          "This person possesses a sharp, analytical mind, fascinated by the potential and perils of technological advancement and its impact on society. They are drawn to complex, thought-provoking narratives that explore dystopian themes, philosophical questions, and future possibilities. However, a critical eye tempers their idealism; they are not easily swayed by simplistic solutions or utopian visions, evidenced by their discerning critiques and rejection of ideas they deem unoriginal. They are intellectually curious and seem to enjoy deconstructing ideas but dismiss anything they consider poorly executed or vapid. More than likely, they feel most comfortable in a smaller group of like minded individuals with whom they can explore ideas. They likely demonstrate an emotionally restrained yet principled approach to life. While open to considering diverse perspectives, they maintain strong personal",
          "They are a highly ambitious and achievement-oriented individual with a strong interest in business, marketing, and personal branding. They possess an analytical and strategic mind, constantly seeking knowledge and practical tools to improve their professional skills and overall effectiveness. Driven by a desire for success and recognition, they actively explore strategies for persuasion, influence, and standing out in competitive environments. Though future-focused and goal-oriented, they also appreciate practical advice and self-improvement techniques aimed at building strong habits and achieving tangible results. This person demonstrates a measured interest in popular self-help and philosophical concepts, leaning towards pragmatism over abstract spirituality. Their reading list suggests a preference for stories that capture both the allure and the challenges of contemporary society, and they are likely drawn to narratives",
          "This person balances intellectual curiosity with a deep desire for practical self-improvement, particularly in the realms of parenting and personal growth. They value empirically-supported insights alongside emotionally resonant narratives, suggesting an inclination towards both logical and empathetic processing. They actively seek strategies for fostering healthy relationships – with children, romantic partners, and themselves – showing a commitment to creating harmonious interactions and fostering a strong sense of belonging. While drawn to stories that explore complex family dynamics and historical contexts, they seem equally motivated by psychological frameworks designed to enhance communication, understanding, and resilience in themselves and those around them. This demonstrates a blend of introspective contemplation and proactive steps towards constructive change, shaping them as someone who strives for mindful living and meaningful connections.",
          "This person is deeply introspective and analytically oriented, favoring psychological insights and philosophical questioning over purely escapist entertainment. They demonstrate a strong interest in understanding the human condition, both individually and collectively, with a particular focus on personal growth, resilience, and the complexities of human relationships. Empathetic and driven by a desire for self-improvement, they appear to value authenticity and vulnerability, seeking out resources for navigating emotional challenges and developing healthier connections. While grounded in practicality, as suggested by their interest in self-help and actionable advice, they are also drawn to exploring broader societal themes and historical context, suggesting a thoughtful and engaged approach to understanding the world. Their taste for works exploring darker aspects of society demonstrates a willingness to confront difficult truths and engage with complex",
          "This individual possesses a deeply intellectual and philosophical nature, driven by a quest for understanding complex systems and abstract concepts. Their thinking is analytical and introspective, favoring works that explore the nature of reality, consciousness, and human existence. They exhibit a tolerance for ambiguity and a willingness to engage with challenging and unconventional ideas, blending scientific curiosity with philosophical inquiry. While valuing intellectual rigor, they also demonstrate a capacity for appreciating emotional depth and moral complexity, as evidenced by their interest in fiction exploring profound human experiences. They are likely thoughtful and deliberate in their decision-making, weighing different perspectives and considering the broader implications of their actions. They may exhibit a tendency toward introspection and a thoughtful engagement with the world. They show an interest in the human condition, but also demonstrate",
          "This individual is deeply invested in understanding human potential and development, reflecting a blend of intellectual curiosity and empathetic concern. They possess an analytical mind, drawn to psychological insights and educational philosophies that challenge conventional wisdom. A strong sense of idealism drives their exploration of alternative educational models and critiques of societal norms. While grounded in practical parenting strategies and an interest in child development, they also demonstrate a penchant for introspection and self-improvement, seeking personal growth through philosophical and spiritual texts. This person values resilience and the power of human connection, as reflected in their appreciation for memoirs of overcoming adversity. Although intellectually stimulated by sociological analyses of success, they are not blind to the importance of individual experiences and emotional well-being. Their preference for reflective, thought-provoking material, rather",
          "This person displays a keen intellect and a deeply analytical mind, drawn to understanding the complex forces that shape societies and individual behavior. They possess a strong interest in political science, history, and economics, suggesting a desire to grasp the broader implications of power dynamics and systemic issues. While valuing data-driven insights, they also appreciate the nuances of human psychology and social commentary. The blend of factual analysis and literary work suggests an empathetic nature and an awareness of social injustices. They appear motivated by a desire for clarity and a need to understand the root causes of societal problems, as well as an interest in practical application. Their emotional disposition appears measured and thoughtful, favoring insight and understanding over impulsive reactivity. They likely approach decisions with a pragmatic yet socially conscious perspective, valuing",
          "They are a driven individual with a pragmatic approach to self-improvement and career advancement. Highly valuing efficiency and clear strategies, they actively seek out actionable advice in marketing and business, prioritizing techniques that offer tangible results. They possess an analytical mind, comfortable with dissecting complex systems to understand the underlying mechanics, particularly those driving consumer behavior or personal productivity. Although open to philosophical and spiritual concepts, their engagement appears somewhat detached, possibly due to a preference for evidence-based knowledge. While appreciating the value of courage and vulnerability, they demonstrate a need for established frameworks, which influences their perspective. Their engagement with fiction is tempered, and dystopian themes may have limited appeal. This points to a desire for control over reality, focusing more on self-mastery than exploring",
          "This person possesses a deeply empathetic and intellectually curious nature, evident in their preference for stories exploring diverse cultures, historical experiences, and personal journeys. They are drawn to narratives that grapple with themes of displacement, identity, and social justice, suggesting a strong sense of fairness and a desire to understand different perspectives. They value insightful reflections on both personal struggles and broader societal issues, indicating a contemplative and thoughtful approach to life. While appreciating literary and philosophical works, they also seek out memoirs and graphic novels, implying an openness to accessible and emotionally resonant storytelling. Their choices reveal a preference for character-driven narratives that illuminate complex emotions and human connections, demonstrating a thoughtful and compassionate orientation toward the world and its inhabitants. They show a preference for thoughtful and complex work that tackles",
          "This person is deeply introspective and possesses a strong spiritual curiosity, evident in their exploration of philosophical and religious texts. They are drawn to works that offer guidance on mindfulness, purpose, and inner peace, suggesting a value system rooted in self-improvement and enlightenment. While embracing abstract concepts, they also value practical self-help advice, indicating a desire to translate wisdom into actionable change. Their appreciation for both fiction and non-fiction suggests a balance between imaginative thinking and a grounded approach to understanding the world. A tendency towards reflection and thoughtful consideration likely informs their decision-making, and their intellectual appetite is broad, encompassing psychology, history, and diverse spiritual traditions. They may be empathetic and oriented towards compassion, seeking meaning in both personal experiences and the collective human",
          "This individual displays a strong inclination towards self-reflection and understanding the human condition, particularly struggles with addiction, trauma, and personal growth. They are empathetic and intensely value insight into emotional and psychological landscapes, demonstrated by their interest in memoirs and self-help books that explore vulnerability and recovery. They approach these topics with a blend of intellectual curiosity and a desire for practical guidance, seeking ways to transform their own life and relationships. While drawn to non-fiction and personal narratives, they also appreciate fiction and narratives that expose broader societal issues. Although open to explorations of faith and philosophy, they demonstrate discerning tastes and are not easily swayed by superficial narratives, as evidenced by lower ratings given to works with less authentic or substantial content. Overall, they exhibit a resilient and",
          "This person is deeply engaged with social justice and systemic issues. Intellectually curious and driven by a strong sense of ethics, they possess an analytical mind that dissects complex socio-economic and political systems. Empathetic and emotionally intelligent, they are drawn to stories that highlight inequality and injustice, both historical and contemporary. They appear to be idealistic, seeking to understand how systems can be transformed to benefit marginalized communities. This person values intellectual growth and the perspectives of those historically excluded from mainstream narratives. They are motivated by a desire to create a more equitable world, appreciating literature and essays that provide historical understanding and propose paths towards systemic change. Their concerns extend to environmentalism and the impact of economic structures on people and the planet.",
          "This person appears to be someone who values personal growth and effectiveness, balancing a desire for self-improvement with an appreciation for engaging stories. They are likely analytical and pragmatic, seeking evidence-based strategies for productivity and habit formation while also exploring complex human relationships through fiction. Emotionally, they seem to be drawn to stories that evoke empathy and explore themes of belonging, resilience, and navigating challenging circumstances. They also value understanding and nurturing children, suggesting caring and responsible tendencies. Simultaneously, they show an interest in understanding broader social and historical contexts. Their taste for diverse genres indicates an open-minded nature and a willingness to explore different perspectives and realities. Ultimately, they probably strive for betterment in various aspects of their life, blending practical self-help strategies with reflective",
          "\nThis individual possesses a deeply introspective and philosophical mind, consistently seeking profound understanding of existence, morality, and human nature. They are driven by a strong desire for authenticity and genuine purpose, often questioning societal norms and confronting difficult truths, as evidenced by their appreciation for works that dissect moral collapse and the illusions of heroism. Intellectually curious, they are equally drawn to scientific exploration, finding wonder in astrophysics, chemistry, and biology, indicating a broad and analytical cognitive style. Emotionally, they are empathetic and highly attuned to the suffering caused by injustice and oppression. Their values lean towards practicality, self-awareness, and a rejection of performative actions, suggesting a preference for quiet integrity over grand gestures. While they appreciate spiritual and philosophical introspection, there's also a pragmatic streak that values direct action and concrete good. They seem to navigate relationships with a nuanced understanding of human flaws and motivations, often viewing the world through a lens of moral accountability. Their appreciation for diverse perspectives points to an open-mindedness, yet their critical engagement with ideas suggests a discerning rather than passive acceptance. Overall, they are a thoughtful, morally conscious individual striving for clarity and meaning in a complex world.\n"
         ],
         "hovertemplate": "<b>%{text}</b><extra></extra>",
         "marker": {
          "color": [
           "blue",
           "blue",
           "blue",
           "blue",
           "blue",
           "blue",
           "blue",
           "blue",
           "blue",
           "blue",
           "blue",
           "blue",
           "blue",
           "blue",
           "blue",
           "blue",
           "blue",
           "blue",
           "blue",
           "blue",
           "blue",
           "blue",
           "blue",
           "blue",
           "blue",
           "blue",
           "blue",
           "blue",
           "blue",
           "blue",
           "blue",
           "blue",
           "blue",
           "blue",
           "blue",
           "blue",
           "blue",
           "blue",
           "blue",
           "blue",
           "blue",
           "blue",
           "blue",
           "blue",
           "blue",
           "blue",
           "blue",
           "blue",
           "blue",
           "blue",
           "blue",
           "blue",
           "blue",
           "blue",
           "blue",
           "blue",
           "blue",
           "blue",
           "blue",
           "blue",
           "blue",
           "blue",
           "blue",
           "blue",
           "blue",
           "blue",
           "blue",
           "blue",
           "blue",
           "blue",
           "blue",
           "blue",
           "blue",
           "blue",
           "blue",
           "blue",
           "blue",
           "blue",
           "blue",
           "blue",
           "blue",
           "blue",
           "blue",
           "blue",
           "blue",
           "blue",
           "blue",
           "blue",
           "blue",
           "blue",
           "blue",
           "blue",
           "blue",
           "blue",
           "orange"
          ],
          "opacity": 0.8,
          "size": 8
         },
         "mode": "markers",
         "name": "Users",
         "text": [
          "Travis Williams",
          "James Carroll",
          "Denise Parker",
          "Thomas Lee",
          "Alicia Padilla",
          "Andrea Gomez",
          "Regina Holmes",
          "Ashley Howell",
          "Stacey Harrison",
          "Edward Hudson",
          "Edwin Allison",
          "Jason Miller",
          "Brittany Johnson",
          "Javier Johnson",
          "Lisa Wilson",
          "Brian Robinson",
          "Kendra Nguyen",
          "Charles Aguirre",
          "John Johnson",
          "Jennifer Kennedy",
          "Tammy Patel",
          "John Baker",
          "Justin Vargas",
          "Scott Dennis",
          "William Miles",
          "Lance Taylor",
          "Allison Martinez",
          "George Williams",
          "Julia Reeves",
          "Zoe Rodriguez",
          "Gwendolyn Wang",
          "Kevin Boyd",
          "Amanda Reynolds",
          "Ashley Taylor",
          "Dawn Waters",
          "Ashley Hanna",
          "Richard Holloway Jr.",
          "Jeffery Campbell",
          "Kevin Jacobs",
          "Daniel Ware",
          "Stacey Hudson",
          "Amanda Barry PhD",
          "Michael Mullen",
          "Amber Lopez",
          "Noah Webb",
          "Darrell Morales",
          "Christopher Jones",
          "Karl Richmond",
          "Jeffrey Jackson",
          "Anna Santana",
          "Stephen Mcclure",
          "Kelsey Valdez",
          "Robert Phillips",
          "Denise Howard",
          "Jocelyn Nguyen",
          "Victoria Cummings",
          "Maurice Evans",
          "Heather Moore",
          "Michael Jones",
          "Christopher Hammond",
          "Breanna Barr",
          "Oscar Spencer",
          "Timothy Summers",
          "Holly Wang",
          "Rachel Lucero",
          "Christina Mason",
          "Debbie Robinson",
          "Christopher Ray",
          "Thomas Schneider",
          "Bruce Hernandez",
          "Heather Green",
          "Pamela Rodriguez",
          "Shannon Meyer",
          "Theresa Hall",
          "Holly Thompson",
          "Lee Velez",
          "Mrs. Mallory Harrington",
          "Carla Smith",
          "Robert Nelson",
          "Victoria Reilly",
          "Stephen Brady",
          "Jamie Blankenship",
          "Benjamin Owens",
          "Sonya Scott",
          "Kayla Smith",
          "Ryan Mason",
          "Jean Phillips",
          "Kimberly Russell",
          "Anthony Kent",
          "Tom Brown",
          "Susan Gibson",
          "Brianna Chandler",
          "Nicole Cooper",
          "Catherine Dunn",
          "Yahya Rahhawi"
         ],
         "type": "scatter3d",
         "x": {
          "bdata": "xIvvfUFPM8C525054sgCwCEJ1KU2Mx7AbMFU7EU/JMCMPt3CHNgEwKYszBzOhBPAmYe1IlS4MUCRYDgs5jMyQNin1q4sUz1ACd0ERYieK0BYxZXWfRocwO1FaXkGPjRARyNwgFfPMEAKvznT2ukEQAF49pwmJSjAlBbBfGHBOkDcXyJ7NcoxwGlUviATZStAA0OdI17MGMA4qj6E5rwkQBJZ1XqApvW/9YIJzrgJHkC8nbM56z8YQBkfbqcxMUbA2xJo/iT5EcCnhvI3odUuwPX1HX1KHSzAr3vIaqvcIkAxg/X2Gm0tQGtSn1XIIjrAwWqJFKhdIsDvylNLbl0VQPcqjnbgV0TArU4iNvY8M0AeAXfUYvo4QHDeamS9ZjNAaLuw7fMXQ8Dpc7DOL9IjQFsv5SNNtTjAlOWz1haWEkDN9SfSfS0fQK4YPTyQcEHAFkIxjw3XOkAMq3s52n8mQJp0IOjB9BTA5EvyHWReNkDihWS81Go3wHI4btFEzwbA6psVYkHuQMCWWK0mC3/rv4UaGYcTeOy/iRe5SH3qD0Bhd6qSlagyQGU5gLOQzy1AwkG5lKyIM0BTACv0qgsbwEHa+LgtOBBANyaJwMLyKkAMLnqkmDUkwLnKjiReujPABJZUxaxXNED0b3GdLso1QOcLXyxr1DpA4y5tT+/NL0Af10nZp1U4wGUn+CB85CVAa512lqB5MEBJZw+Efkw9QNvFS6Z+rPe/hsqPdKcDOEAo85K9Z6kFQEsujl1grQ1A9l56QonjMkDvSZZLDiYQQA5oFrebnTbAQZe/qBVIRsBkxKNomyn9vzxF4sqfAiRAeBigsXzSCUC4q9FPpnYVwHn3Y1lasSDATPRFiqIlNcBJB6MOmchDwH4DxR1WOhTAk0UyMXB6x7/4XOVv0/z+P3G2z0gBcvq/XQILf9kPLMB3/GluYJBHwLO1+7KFBTtA/t0DHZzbJEDT95z6BuYjQEnAD3Gvwe4/XsR8IN6vHcCrmFU+R0zTvw==",
          "dtype": "f8"
         },
         "y": {
          "bdata": "wj6VHoQBJcDHtxf1Owz7vxBLzk2WGv2/DXfthzAsOEAEq0hqRxY5wOODprkiFTXA5bpwOQNEGkCmyPgqybMiQGM/+wWZ5SnAaYJ/hCoTJsB+9Z4tfkYJQBlOcnc5/ijAiN7VIA+JJMAfwLRuyLj2PylNBgWsMCfAf5BBGtoPMMBNA4Zwnrs2QJ3ZJpVRCCzAJuz8WpnoOMC6nEHb1JYpwN3Y9xXddSVAH5jZVzdbK0Bu0u3Mb+AnQAGHsE875jDAFi6SAin2FUCZfR4v8ks1QO7hDhOfpzRAsn7efIxvHUC0J+dcNlXXP6mt774Q1CdAe1UeSSQU1j8kEluv44I5QIm8eGFh3jfA7TAmsNoBKMBNtGIgu7glwK0JER6kCSXAHEj2ZV97M8AYDqT4ULYwQMcO8gaKli7AM6p2ByABMMAjz0ef2okKwFRfIUhJBCfAYl6TpvCAMcDkLekSCtoPwCQNRSRSOC5ApSobEnBzD0AjmYg8UwQ2QOkqt8o/JAHAnwZmmZgXMEAp3AmKFaUpQBY9rxorAkHAeuSOocnKIsBR7vA1HpXsv1KeQVD9WytAAM4EkqcJGUDaoUTh9nQVQOdXRxKsQda/Okvu7ni2MEAMKUWGAi0swJQKxvaPVzhAsI1vcVnMFEApcLNEMuAjwFV7P41KMw9AgSjG0Y8h5b81KLUSBCI1QFKxJtgwfhrAXZ2QTATvJ0Bqa832WzchwDF50N+S5ihAtCAz9zKgB8BexvlIM4cwQENZeOgQgDhAR9jxsP5MAkCYEKWMylwowAptfNNiOTdAE92vQgbdPMB4Xbp5q0UaQLxpYJld5zDAcuEsFtuoIkDCe/JpoMwWwPN8XFG3BD1AejKTQ7FcO0AmgnaTiDU2wKEHjoX53jnAYIEJSQSW0j+ivLEZWvg4QKA336zDUiDAIh3Qp31RL0DArY7+F/EvwBOikKyVvN2/HLkqH1KbIcCUm8RHgw8mwGOqwiF1njFAACAKyz0tPMAWi1sktNEzQA==",
          "dtype": "f8"
         },
         "z": {
          "bdata": "WsOGLx0NKkC9HgpinMUowO+XX9EDmTLAohgH1o+cIEAb1GBEDEMEwEZPuEDoZizAh+V/LlN/McAwHNAx52MSwDntCtp6WRzAroijegxEE8BEL3ZPAMElwDsr/m1r2SNAMWTFvC2GGMDu762893cYQJHWJL03KDXAsRiWZHAnMkACqMvhBOsbQOLSK9Z1vTNArMKDiVrcHEAC/I/d2bsmwC+NJ/aKzjnAY9hMJBRFIcDSYyic95Y4wM+L+ZqPpiNAXYgv3w/MN8Av1iaQgBnRP21vkg0D+hPAtWR18HwZOMCSJBUZ/zghQONHD1nu4inA7zmo4eGmF0CLWDkYhxQzQH9+46ncBBNABumg8+JyMMDDo587UL4hwL2Y8oSiiiHAxLABfrmQ9r8ANCSX3BcxQEkuKsoT/w1ADFzYmAphFsAWmWWG57csQNlR6nPw8yhAgqtMayQ4+b/30nwg3/8GQItyE2V5byJAfYfDbq/YMUCoCSoY/28iwB82MXgaP/0/AiKtMoxK9L907NUXBZoKQJUxuDUPzSTARTs2IzLAG0CZaokZqJE0wDghKDPhuSxAhKCoBzILIkDaRS/nR/YSwHUxhzyLeh1AQCM2BuvWMUBxHa0iyncrQOa5d0GxVhRAWGNq6bCNP0DYMDhorhYaQP1xanJv2wpAysHmi8yJ/r++XTVOX3cvwNf1DJyHlxTAcAB/LxePMcBQxk74VdQPwM3QshfihQpAhyUoKJHFMkAoxRX0tvIxQNbsZM9bkT9A2IS+x62dxT/VYgw66Fs0QH+Tkz/bryzA4lEKHNdHLUCY8RmW+yswwDn+4Zxo3RdAQHXhs05m9r8ww01P+EImwE4jjs0hEiZAlBLM4eGbub+Er/A0LJAKQD7I5QIWTSLADI3Umnq9LEBX5+qkeuEnQPihURIzAiDApUcWJ9PwLcBLD6xYFAIvQB+oMy8bLCzAU2VZ9M9yIEB1KkBNIqkZQP5JB99WlkLAKdfxmBgqJMC164SX0aMXQA==",
          "dtype": "f8"
         }
        }
       ],
       "layout": {
        "annotations": [
         {
          "showarrow": false,
          "text": "Click on points to see full descriptions in browser console",
          "x": 0.5,
          "xanchor": "center",
          "xref": "paper",
          "y": 1.02,
          "yanchor": "bottom",
          "yref": "paper"
         }
        ],
        "height": 800,
        "scene": {
         "xaxis": {
          "title": {
           "text": "PCA Component 1"
          }
         },
         "yaxis": {
          "title": {
           "text": "PCA Component 2"
          }
         },
         "zaxis": {
          "title": {
           "text": "PCA Component 3"
          }
         }
        },
        "showlegend": false,
        "template": {
         "data": {
          "bar": [
           {
            "error_x": {
             "color": "#2a3f5f"
            },
            "error_y": {
             "color": "#2a3f5f"
            },
            "marker": {
             "line": {
              "color": "#E5ECF6",
              "width": 0.5
             },
             "pattern": {
              "fillmode": "overlay",
              "size": 10,
              "solidity": 0.2
             }
            },
            "type": "bar"
           }
          ],
          "barpolar": [
           {
            "marker": {
             "line": {
              "color": "#E5ECF6",
              "width": 0.5
             },
             "pattern": {
              "fillmode": "overlay",
              "size": 10,
              "solidity": 0.2
             }
            },
            "type": "barpolar"
           }
          ],
          "carpet": [
           {
            "aaxis": {
             "endlinecolor": "#2a3f5f",
             "gridcolor": "white",
             "linecolor": "white",
             "minorgridcolor": "white",
             "startlinecolor": "#2a3f5f"
            },
            "baxis": {
             "endlinecolor": "#2a3f5f",
             "gridcolor": "white",
             "linecolor": "white",
             "minorgridcolor": "white",
             "startlinecolor": "#2a3f5f"
            },
            "type": "carpet"
           }
          ],
          "choropleth": [
           {
            "colorbar": {
             "outlinewidth": 0,
             "ticks": ""
            },
            "type": "choropleth"
           }
          ],
          "contour": [
           {
            "colorbar": {
             "outlinewidth": 0,
             "ticks": ""
            },
            "colorscale": [
             [
              0,
              "#0d0887"
             ],
             [
              0.1111111111111111,
              "#46039f"
             ],
             [
              0.2222222222222222,
              "#7201a8"
             ],
             [
              0.3333333333333333,
              "#9c179e"
             ],
             [
              0.4444444444444444,
              "#bd3786"
             ],
             [
              0.5555555555555556,
              "#d8576b"
             ],
             [
              0.6666666666666666,
              "#ed7953"
             ],
             [
              0.7777777777777778,
              "#fb9f3a"
             ],
             [
              0.8888888888888888,
              "#fdca26"
             ],
             [
              1,
              "#f0f921"
             ]
            ],
            "type": "contour"
           }
          ],
          "contourcarpet": [
           {
            "colorbar": {
             "outlinewidth": 0,
             "ticks": ""
            },
            "type": "contourcarpet"
           }
          ],
          "heatmap": [
           {
            "colorbar": {
             "outlinewidth": 0,
             "ticks": ""
            },
            "colorscale": [
             [
              0,
              "#0d0887"
             ],
             [
              0.1111111111111111,
              "#46039f"
             ],
             [
              0.2222222222222222,
              "#7201a8"
             ],
             [
              0.3333333333333333,
              "#9c179e"
             ],
             [
              0.4444444444444444,
              "#bd3786"
             ],
             [
              0.5555555555555556,
              "#d8576b"
             ],
             [
              0.6666666666666666,
              "#ed7953"
             ],
             [
              0.7777777777777778,
              "#fb9f3a"
             ],
             [
              0.8888888888888888,
              "#fdca26"
             ],
             [
              1,
              "#f0f921"
             ]
            ],
            "type": "heatmap"
           }
          ],
          "histogram": [
           {
            "marker": {
             "pattern": {
              "fillmode": "overlay",
              "size": 10,
              "solidity": 0.2
             }
            },
            "type": "histogram"
           }
          ],
          "histogram2d": [
           {
            "colorbar": {
             "outlinewidth": 0,
             "ticks": ""
            },
            "colorscale": [
             [
              0,
              "#0d0887"
             ],
             [
              0.1111111111111111,
              "#46039f"
             ],
             [
              0.2222222222222222,
              "#7201a8"
             ],
             [
              0.3333333333333333,
              "#9c179e"
             ],
             [
              0.4444444444444444,
              "#bd3786"
             ],
             [
              0.5555555555555556,
              "#d8576b"
             ],
             [
              0.6666666666666666,
              "#ed7953"
             ],
             [
              0.7777777777777778,
              "#fb9f3a"
             ],
             [
              0.8888888888888888,
              "#fdca26"
             ],
             [
              1,
              "#f0f921"
             ]
            ],
            "type": "histogram2d"
           }
          ],
          "histogram2dcontour": [
           {
            "colorbar": {
             "outlinewidth": 0,
             "ticks": ""
            },
            "colorscale": [
             [
              0,
              "#0d0887"
             ],
             [
              0.1111111111111111,
              "#46039f"
             ],
             [
              0.2222222222222222,
              "#7201a8"
             ],
             [
              0.3333333333333333,
              "#9c179e"
             ],
             [
              0.4444444444444444,
              "#bd3786"
             ],
             [
              0.5555555555555556,
              "#d8576b"
             ],
             [
              0.6666666666666666,
              "#ed7953"
             ],
             [
              0.7777777777777778,
              "#fb9f3a"
             ],
             [
              0.8888888888888888,
              "#fdca26"
             ],
             [
              1,
              "#f0f921"
             ]
            ],
            "type": "histogram2dcontour"
           }
          ],
          "mesh3d": [
           {
            "colorbar": {
             "outlinewidth": 0,
             "ticks": ""
            },
            "type": "mesh3d"
           }
          ],
          "parcoords": [
           {
            "line": {
             "colorbar": {
              "outlinewidth": 0,
              "ticks": ""
             }
            },
            "type": "parcoords"
           }
          ],
          "pie": [
           {
            "automargin": true,
            "type": "pie"
           }
          ],
          "scatter": [
           {
            "fillpattern": {
             "fillmode": "overlay",
             "size": 10,
             "solidity": 0.2
            },
            "type": "scatter"
           }
          ],
          "scatter3d": [
           {
            "line": {
             "colorbar": {
              "outlinewidth": 0,
              "ticks": ""
             }
            },
            "marker": {
             "colorbar": {
              "outlinewidth": 0,
              "ticks": ""
             }
            },
            "type": "scatter3d"
           }
          ],
          "scattercarpet": [
           {
            "marker": {
             "colorbar": {
              "outlinewidth": 0,
              "ticks": ""
             }
            },
            "type": "scattercarpet"
           }
          ],
          "scattergeo": [
           {
            "marker": {
             "colorbar": {
              "outlinewidth": 0,
              "ticks": ""
             }
            },
            "type": "scattergeo"
           }
          ],
          "scattergl": [
           {
            "marker": {
             "colorbar": {
              "outlinewidth": 0,
              "ticks": ""
             }
            },
            "type": "scattergl"
           }
          ],
          "scattermap": [
           {
            "marker": {
             "colorbar": {
              "outlinewidth": 0,
              "ticks": ""
             }
            },
            "type": "scattermap"
           }
          ],
          "scattermapbox": [
           {
            "marker": {
             "colorbar": {
              "outlinewidth": 0,
              "ticks": ""
             }
            },
            "type": "scattermapbox"
           }
          ],
          "scatterpolar": [
           {
            "marker": {
             "colorbar": {
              "outlinewidth": 0,
              "ticks": ""
             }
            },
            "type": "scatterpolar"
           }
          ],
          "scatterpolargl": [
           {
            "marker": {
             "colorbar": {
              "outlinewidth": 0,
              "ticks": ""
             }
            },
            "type": "scatterpolargl"
           }
          ],
          "scatterternary": [
           {
            "marker": {
             "colorbar": {
              "outlinewidth": 0,
              "ticks": ""
             }
            },
            "type": "scatterternary"
           }
          ],
          "surface": [
           {
            "colorbar": {
             "outlinewidth": 0,
             "ticks": ""
            },
            "colorscale": [
             [
              0,
              "#0d0887"
             ],
             [
              0.1111111111111111,
              "#46039f"
             ],
             [
              0.2222222222222222,
              "#7201a8"
             ],
             [
              0.3333333333333333,
              "#9c179e"
             ],
             [
              0.4444444444444444,
              "#bd3786"
             ],
             [
              0.5555555555555556,
              "#d8576b"
             ],
             [
              0.6666666666666666,
              "#ed7953"
             ],
             [
              0.7777777777777778,
              "#fb9f3a"
             ],
             [
              0.8888888888888888,
              "#fdca26"
             ],
             [
              1,
              "#f0f921"
             ]
            ],
            "type": "surface"
           }
          ],
          "table": [
           {
            "cells": {
             "fill": {
              "color": "#EBF0F8"
             },
             "line": {
              "color": "white"
             }
            },
            "header": {
             "fill": {
              "color": "#C8D4E3"
             },
             "line": {
              "color": "white"
             }
            },
            "type": "table"
           }
          ]
         },
         "layout": {
          "annotationdefaults": {
           "arrowcolor": "#2a3f5f",
           "arrowhead": 0,
           "arrowwidth": 1
          },
          "autotypenumbers": "strict",
          "coloraxis": {
           "colorbar": {
            "outlinewidth": 0,
            "ticks": ""
           }
          },
          "colorscale": {
           "diverging": [
            [
             0,
             "#8e0152"
            ],
            [
             0.1,
             "#c51b7d"
            ],
            [
             0.2,
             "#de77ae"
            ],
            [
             0.3,
             "#f1b6da"
            ],
            [
             0.4,
             "#fde0ef"
            ],
            [
             0.5,
             "#f7f7f7"
            ],
            [
             0.6,
             "#e6f5d0"
            ],
            [
             0.7,
             "#b8e186"
            ],
            [
             0.8,
             "#7fbc41"
            ],
            [
             0.9,
             "#4d9221"
            ],
            [
             1,
             "#276419"
            ]
           ],
           "sequential": [
            [
             0,
             "#0d0887"
            ],
            [
             0.1111111111111111,
             "#46039f"
            ],
            [
             0.2222222222222222,
             "#7201a8"
            ],
            [
             0.3333333333333333,
             "#9c179e"
            ],
            [
             0.4444444444444444,
             "#bd3786"
            ],
            [
             0.5555555555555556,
             "#d8576b"
            ],
            [
             0.6666666666666666,
             "#ed7953"
            ],
            [
             0.7777777777777778,
             "#fb9f3a"
            ],
            [
             0.8888888888888888,
             "#fdca26"
            ],
            [
             1,
             "#f0f921"
            ]
           ],
           "sequentialminus": [
            [
             0,
             "#0d0887"
            ],
            [
             0.1111111111111111,
             "#46039f"
            ],
            [
             0.2222222222222222,
             "#7201a8"
            ],
            [
             0.3333333333333333,
             "#9c179e"
            ],
            [
             0.4444444444444444,
             "#bd3786"
            ],
            [
             0.5555555555555556,
             "#d8576b"
            ],
            [
             0.6666666666666666,
             "#ed7953"
            ],
            [
             0.7777777777777778,
             "#fb9f3a"
            ],
            [
             0.8888888888888888,
             "#fdca26"
            ],
            [
             1,
             "#f0f921"
            ]
           ]
          },
          "colorway": [
           "#636efa",
           "#EF553B",
           "#00cc96",
           "#ab63fa",
           "#FFA15A",
           "#19d3f3",
           "#FF6692",
           "#B6E880",
           "#FF97FF",
           "#FECB52"
          ],
          "font": {
           "color": "#2a3f5f"
          },
          "geo": {
           "bgcolor": "white",
           "lakecolor": "white",
           "landcolor": "#E5ECF6",
           "showlakes": true,
           "showland": true,
           "subunitcolor": "white"
          },
          "hoverlabel": {
           "align": "left"
          },
          "hovermode": "closest",
          "mapbox": {
           "style": "light"
          },
          "paper_bgcolor": "white",
          "plot_bgcolor": "#E5ECF6",
          "polar": {
           "angularaxis": {
            "gridcolor": "white",
            "linecolor": "white",
            "ticks": ""
           },
           "bgcolor": "#E5ECF6",
           "radialaxis": {
            "gridcolor": "white",
            "linecolor": "white",
            "ticks": ""
           }
          },
          "scene": {
           "xaxis": {
            "backgroundcolor": "#E5ECF6",
            "gridcolor": "white",
            "gridwidth": 2,
            "linecolor": "white",
            "showbackground": true,
            "ticks": "",
            "zerolinecolor": "white"
           },
           "yaxis": {
            "backgroundcolor": "#E5ECF6",
            "gridcolor": "white",
            "gridwidth": 2,
            "linecolor": "white",
            "showbackground": true,
            "ticks": "",
            "zerolinecolor": "white"
           },
           "zaxis": {
            "backgroundcolor": "#E5ECF6",
            "gridcolor": "white",
            "gridwidth": 2,
            "linecolor": "white",
            "showbackground": true,
            "ticks": "",
            "zerolinecolor": "white"
           }
          },
          "shapedefaults": {
           "line": {
            "color": "#2a3f5f"
           }
          },
          "ternary": {
           "aaxis": {
            "gridcolor": "white",
            "linecolor": "white",
            "ticks": ""
           },
           "baxis": {
            "gridcolor": "white",
            "linecolor": "white",
            "ticks": ""
           },
           "bgcolor": "#E5ECF6",
           "caxis": {
            "gridcolor": "white",
            "linecolor": "white",
            "ticks": ""
           }
          },
          "title": {
           "x": 0.05
          },
          "xaxis": {
           "automargin": true,
           "gridcolor": "white",
           "linecolor": "white",
           "ticks": "",
           "title": {
            "standoff": 15
           },
           "zerolinecolor": "white",
           "zerolinewidth": 2
          },
          "yaxis": {
           "automargin": true,
           "gridcolor": "white",
           "linecolor": "white",
           "ticks": "",
           "title": {
            "standoff": 15
           },
           "zerolinecolor": "white",
           "zerolinewidth": 2
          }
         }
        },
        "title": {
         "text": "Population Visualization: PCA 3D (Orange=Special, Blue=Regular)"
        },
        "width": 1200
       }
      }
     },
     "metadata": {},
     "output_type": "display_data"
    },
    {
     "name": "stdout",
     "output_type": "stream",
     "text": [
      "\n",
      "📊 UMAP 3D Plot:\n"
     ]
    },
    {
     "data": {
      "application/vnd.plotly.v1+json": {
       "config": {
        "plotlyServerURL": "https://plot.ly"
       },
       "data": [
        {
         "customdata": [
          "This person is driven by a desire for self-improvement and a quest for a more meaningful and efficient life, suggesting a somewhat introspective and analytical nature. They are drawn to philosophical concepts and psychological insights, implying curiosity about the human condition and a desire to understand themselves and the world around them. They value focus, discipline, and intentionality, evident in their appreciation for minimalism and habit formation. While logical and practical, they are also open to spiritual and philosophical ideas from diverse cultural traditions. Though they appreciate practical advice on productivity and effectiveness, they also seek deeper understanding and fulfillment, leaning towards thoughtful self-reflection. Their preference for some works focusing on self-improvement over others suggests they hold a critical eye and appreciate a blend of evidence-based approaches",
          "This person possesses a curious and discerning mind, deeply engaged with the world of food and its broader cultural context. They are intellectually stimulated by culinary arts, history, science, and journalism, and they appreciate the practical application of knowledge, as evidenced by their fondness for cookbooks. They appear to value authenticity and dedication to craft, and they likely form strong opinions based on careful consideration. Emotionally, they are drawn to personal narratives and memoirs, which suggests a capacity for empathy and an interest in understanding the human experience through the lens of others. They appreciate wit, honesty, and perhaps a touch of the unconventional. Decision-making is likely influenced by a blend of practical considerations and a strong sense of personal values. Though adventurous in their intellectual pursuits, their social",
          "This person is highly intellectual and deeply invested in understanding human behavior and potential, particularly within educational and familial contexts. They are driven by a strong desire to improve the lives of children, especially through nurturing their emotional and intellectual development. Empathetic and compassionate, they value social justice and seek to create a more equitable and supportive learning environment. They possess an analytical mind, appreciating insightful explorations of the human psyche, but also find appeal in narratives which depict personal struggles. Motivated by personal growth and a desire for knowledge, they exhibit a blend of idealism and pragmatism, searching for evidence-based strategies while remaining open to philosophical and theoretical perspectives. Although drawn to complex ideas, they may find some approaches overly abstract or lacking in practical application. They appear to",
          "This person is highly intellectual and introspective, driven by a deep curiosity about the nature of reality, consciousness, and existence. They possess an analytical mind, drawn to complex philosophical concepts and scientific theories, yet appreciate the human condition as explored through literature. They value knowledge and understanding, evidenced by their interest in history, psychology, and economics. While intellectually stimulated by the abstract, they may struggle with finding fulfilling applications or meaning in more practical areas like self-help. They likely possess a critical perspective, willing to question conventional wisdom and explore alternative viewpoints. However, their engagement with diverse subjects suggests an open-mindedness and a willingness to consider different perspectives, though they hold high standards for intellectual rigor.",
          "They are a curious and growth-oriented individual with a blend of practical and imaginative interests. Intellectually, they appreciate thought-provoking narratives and insights into human behavior, history, and psychological principles. Emotionally, they are drawn to stories with heartwarming themes that reflect a sense of connection and belonging, and they value empathetic portrayals of human experiences. Interpersonally, they seem to be driven by a desire to improve both themselves and their relationships, as evidenced by their interest in self-help and parenting books. They balance a desire for personal effectiveness with an appreciation for creative expression and imaginative worlds, showing a capacity for analytical thinking balanced with sentimental leanings. Their decision-making likely involves weighing logical considerations with emotional factors, striving for harmony.",
          "This individual possesses a strong intellectual curiosity, particularly focused on understanding human behavior and child development. They value empathy and seek practical strategies for effective communication and positive relationships, especially within a family context. Driven by a desire to create a nurturing and supportive environment, they appreciate resources that offer guidance on parenting techniques, child psychology, and cultivating positive character traits. While grounded in practicality, evidenced by their interest in pragmatic parenting approaches, they're also drawn to understanding broader cultural perspectives on family life. They are clearly family-oriented and thoughtful when it comes to parenting. They also have a reflective side, as shown their interest in books that explore anxieties and societal issues, suggesting a deeper consideration of the world around them. Their emotional landscape is likely characterized by a desire",
          "This person is deeply intellectual and highly values stories exploring identity, particularly those challenging societal norms and shedding light on marginalized experiences. They possess a strong sense of social justice and a commitment to understanding complex social issues through both fiction and non-fiction lenses. Their emotional landscape is rich and empathetic, drawn to narratives revealing human vulnerabilities, struggles, and resilience in the face of adversity. They appreciate authenticity and nuance, favoring works offering profound insights into personal and collective histories relating to gender, sexuality, and race. A sophisticated cognitive style is evident in their enjoyment of philosophical and intellectual texts, but they are not solely cerebral. Their appreciation for romance, memoirs, and personal stories suggests a balanced approach, marrying intellectual curiosity with emotional intelligence and a desire for human connection. They",
          "This person is a highly imaginative and idealistic individual, drawn to grand narratives and archetypal stories that explore profound themes. They possess a strong intellectual curiosity, evident in their exploration of mythology, symbolism, and literary criticism. While they appreciate humor and adventure, their preference leans toward epic and transformative journeys. They are likely introspective, finding meaning in ancient wisdom and the exploration of the human condition through symbolic lenses. Emotionally, they are engaged and empathetic, captivated by stories of heroism, magic, and the eternal battle between good and evil. However, they may find purely pragmatic or mundane subjects uninspiring, preferring to engage with the world through the rich tapestry of myth and fantasy. This suggests a creative, thoughtful individual who values depth over superficiality and seeks",
          "This person possesses a strong sense of empathy and values personal growth, as demonstrated by their appreciation for narratives centered on resilience, historical struggles, and coming-of-age experiences. They are drawn to stories that explore both the beauty and hardship of human existence, indicating a sensitivity to complex emotions and social injustices. Intellectually curious, they appreciate well-crafted prose and nuanced character development. Their preference for classic literature and historical fiction suggests an interest in understanding the past and its impact on the present. They likely value authenticity and have a penchant for stories that offer moral lessons or insights into the human condition. Judged by their interest in memoirs and autobiographies, they are introspective and value personal stories. While they are moved by darker themes and can appreciate",
          "This individual possesses a strong inclination toward exploration and self-discovery, often immersing themselves in narratives of physical and emotional journeys. They exhibit an intellectual curiosity about diverse cultures and perspectives, particularly those found in far-flung corners of the world. Their appreciation for memoirs and travel writing suggests an empathetic nature and a desire to understand the human condition through personal narratives and real-world experiences. While valuing intellectual stimulation, they’re deeply moved by authentic storytelling and meaningful connections, valuing adventure, introspection, and a quest for personal growth. Their tastes imply a balance between a desire for excitement and a capacity for reflection, showing both a philosophical curiosity and a preference for practical wisdom gleaned from lived experience. They seek understanding through tangible experiences, not just abstract concepts, revealing",
          "This person possesses a strong intellectual curiosity, especially regarding faith, morality, and meaning. They are deeply invested in understanding and defending their Christian worldview, gravitating towards apologetics, theology, and allegorical narratives that reinforce their beliefs. They value holiness, love, and truth, and are likely motivated by a desire to live a virtuous life according to their religious principles. Socially, they seem discerning and value-driven, appreciating works that explore family and nature, but strongly rejecting philosophies that clash with their core convictions. They possess a critical mind, but this is tempered by a willingness to engage with diverse perspectives, even those they ultimately find problematic, albeit with a degree of skepticism. While they are open to self-improvement, they may view secular approaches",
          "They are a deeply empathetic and introspective individual, drawn to stories exploring human connection and emotional resilience. Intellectually curious, they appreciate insights into psychology and spirituality, seeking understanding of both the self and the broader human condition. Their preference for personal growth suggests a desire for self-improvement and a commitment to navigating life's challenges with compassion and mindfulness. While they enjoy fictional narratives that explore complex relationships and emotional nuance, their engagement with non-fiction, particularly in psychology and philosophy, indicates a rational and analytical approach to understanding the world. They value meaningful connections and seem to be fascinated by the human ability to find meaning and purpose in difficult circumstances. This individual's selection further suggests an open-minded and compassionate worldview, showing an interest in diverse",
          "This individual possesses a strong inclination toward adventure and self-discovery, frequently drawn to narratives exploring personal journeys and transformative experiences. Intellectually curious, they appreciate both insightful non-fiction that broadens their understanding of the world and philosophical fiction that delves into the deeper meanings of life. A contemplative and empathetic nature is also evident, demonstrated by a preference for stories highlighting social issues, cultural complexities, and poignant struggles. They are motivated by a desire to learn and grow, valuing resilience, courage, and the ability to find meaning even in challenging circumstances. While intrigued by suspenseful and mysterious scenarios, they lean more towards thought-provoking, human-centered stories. Overall, they seek narratives that are both engaging and ethically significant, and they enjoy stories that explore",
          "This individual possesses a deeply reflective and aesthetically driven personality. They exhibit a strong intellectual curiosity, particularly drawn to understanding the world through the lenses of art, design, and philosophy. Evidenced by their interest in both the practical and theoretical aspects of creativity, they likely value innovation and self-expression. Their emotional landscape seems nuanced, appreciating beauty and seeking deeper meaning in experiences. Inclined toward introspection, they are motivated by a desire for personal growth and a richer understanding of the human condition. They appear to be receptive to diverse perspectives and comfortable navigating complex ideas, with a balanced approach that integrates logical reasoning and emotional insight. They value both tradition and innovation, as well as self enhancement and aesthetics.",
          "This individual is deeply invested in understanding human potential and development, approaching life with both intellectual curiosity and a strong desire to make a positive impact. They are driven by a blend of idealistic and pragmatic values, seeking evidence-based strategies for personal growth and improved learning environments. Intellectually, they exhibit a multidisciplinary approach, exploring psychological principles, educational philosophies, and personal narratives to derive comprehensive insights. Empathetic and socially conscious, they value equality and seek to understand diverse perspectives. Although drawn to theoretical frameworks, they appreciate practical applications and actionable advice, especially concerning parenting and education. Their decision-making likely involves weighing empirical data against fundamental humanistic values, striving for solutions that are both effective and ethical. They grapple with complex emotions and seek to understand",
          "They are deeply empathetic and introspective, drawn to stories that explore the human condition, particularly themes of vulnerability, connection, and finding meaning in suffering. This person values authenticity and personal growth, seeking insights into psychology and self-help that foster emotional resilience and healthy relationships. They appreciate narratives that blend fiction with deeper philosophical or spiritual inquiries, reflecting a search for wisdom in various sources. Kindness and compassion are central to their worldview, evident in their appreciation for stories about overcoming adversity and embracing one's place in the world. While grounded in reality, they are open to exploring profound questions of purpose and spirituality, favoring books and ideas that promote healing, understanding, and a sense of belonging. They likely possess a contemplative nature, seeking to integrate intellectual insights into",
          "They are a highly intellectual and inquisitive individual, driven by a deep fascination with science, particularly in physics, biology, and cosmology. Their mind is analytical and abstract, drawn to complex theories and fundamental questions about the universe and existence. While they appreciate rigorous, evidence-based inquiry, they also explore philosophical implications and humanistic aspects of scientific knowledge. Emotionally, they seem drawn to themes of meaning, survival, and the human condition, balanced by moments of optimism in technological innovation. In their social orientation, they may be selective, valuing authentic interactions with people who share their intellectual curiosity and ethical concerns. When faced with difficult choices, they likely analyze all available evidence before making a rational decision, yet also take personal values into account. Motivation comes from a",
          "They are deeply introspective and empathetic, drawn to understanding the human condition through personal narratives and scientific insights. A strong interest in psychology, neuroscience, and memoir suggests a desire to explore the complexities of the mind and emotions, particularly in the face of adversity. They value resilience and growth, seeking tools for self-help and mindfulness. Preferring stories that delve into profound experiences, such as illness, loss, and personal transformation, suggests a capacity for emotional depth and a willingness to confront difficult realities. A taste for both analytical essays and emotionally-charged memoirs indicates a balanced cognitive style, blending reason with sensitivity. They likely approach life with a thoughtful, compassionate demeanor, seeking meaning and connection through shared human experiences. Their reading choices reveal someone who is driven by",
          "They are intellectually curious and driven by a desire for self-improvement and understanding of the human condition. They possess an analytical and empathetic mindset, evidenced by their interest in psychology, child development, and parenting strategies. This suggests a strong inclination towards personal growth, particularly in the realm of relationships and effective communication. They are likely conscientious and value creating a positive and supportive environment for themselves and others. A blend of self-help themes and reflective memoirs indicates introspective tendencies and a capacity for learning from personal experiences. Their appreciation for both lighthearted comedies and more serious historical fiction points to a balanced emotional range, capable of appreciating humor while also engaging with challenging and thought-provoking narratives. The inclusion of business/productivity-related books suggests a desire for efficiency and",
          "This person possesses a deep appreciation for nature, community, and a simpler way of life, showing a preference for narratives centered around rural settings and agrarian values. Intellectually curious and drawn to thoughtful explorations of both the natural world and human relationships within it, they value authenticity and integrity. They demonstrate an empathetic nature, drawn to stories that highlight the beauty and challenges of human connection, especially within families and local communities. They appear introspective and value environmental stewardship. They exhibit a practical bent, appreciating straightforward advice, but ultimately are driven by a desire for a meaningful existence rooted in connection, sustainability, and intellectual stimulation. They likely make decisions based on a combination of practicality and a desire to align with their values, favoring experiences and knowledge that enrich their understanding",
          "This person possesses a deeply ingrained sense of environmental consciousness, which permeates their intellectual and emotional landscape. Driven by a blend of idealism and pragmatism, they are drawn to exploring complex ecological and social systems, seeking both understanding and solutions. Intellectually curious and analytically inclined, they value knowledge and demonstrate a keen interest in science, philosophy, and indigenous perspectives. Empathetic and emotionally engaged, they are moved by the beauty and fragility of the natural world, displaying a somber awareness of environmental challenges. Their values are rooted in preservation and sustainability, advocating for responsible stewardship of the planet. Socially aware, they likely engage in activism and seek to inspire change through a combination of hope and informed action. While appreciative of artistic expression, they favor works that",
          "This person possesses a broad and inquisitive intellect, drawn to both analytical and imaginative realms. They value knowledge and understanding across diverse fields, from scientific inquiry to historical narratives and philosophical explorations. A deep-seated curiosity drives them to explore complex issues, including societal structures, environmental concerns, and the human condition. Emotionally, they demonstrate empathy and a capacity for profound introspection, gravitating toward narratives that explore the depths of human experience and resilience in the face of adversity. They appreciate nuanced perspectives and are likely driven by a desire for personal growth and a deeper understanding of the world. While intellectually stimulated by detailed analysis, they also possess a creative side, finding solace and inspiration in fantastical and literary works that push imaginative boundaries. Their social orientation likely reflects a thoughtful and",
          "This individual demonstrates a deeply empathetic and intellectually engaged personality, with a strong inclination toward social justice and understanding systemic inequities. They are analytical and critical, drawn to exploring historical and contemporary issues of power, oppression, and social change through both non-fiction and thoughtfully chosen fiction. Their emotional landscape is likely characterized by a blend of hope and concern, as they grapple with the complexities of the world while seeking pathways toward a more just and equitable future. They appear to value resilience, community, and the potential for positive transformation, evidenced by their interest in emergent strategies and radical hope. In interpersonal settings, they are likely to be thoughtful, reflective, and driven by a genuine desire to connect with others on a meaningful level, particularly around issues they find pressing and relevant",
          "They are a pragmatic and ambitious individual, keenly interested in understanding and leveraging human behavior for success. They possess an analytical mind, gravitating towards works that offer actionable insights into psychology, marketing, and business strategy. They value efficiency and impact, seeking methods to optimize their personal and professional lives. While drawn to self-help and personal development books, they maintain a critical and somewhat cynical perspective, disliking being perceived as excessively earnest or cliché. Socially aware and image-conscious, they appreciate insights into social dynamics and trends. They are strategic in their self-presentation, balancing the desire for intellectual stimulation with a focus on practical application. Though they find value in understanding broad historical trends, their primary motivation appears to be career advancement and personal influence,",
          "This individual possesses a deeply ingrained sense of environmental stewardship, indicating a strong connection to the natural world and a pragmatic, solutions-oriented approach. Intellectually curious and values-driven, they are drawn to insightful explorations of ecological interconnectedness, social justice, and sustainable practices. While appreciating detailed investigation, their engagement is not solely academic; they demonstrate an emotional investment in the well-being of the planet and a sensitivity to its inherent beauty. They appear to favor work that blends scientific rigor with ethical considerations and philosophical reflection in environmental stewardship. They are drawn to content that challenges the status quo and envisions transformative change, revealing a hopeful, yet realistic outlook. They are not afraid of complexity and seem to appreciate the synthesis of information from different perspectives, suggesting an",
          "They possess a sharp, skeptical intellect, valuing evidence-based reasoning and rigorous investigation. Driven by a desire to understand the world at a deeper level, they are drawn to works that expose hidden truths, reveal systemic biases, and explore the complexities of human behavior. While fascinated by scientific advancements and rational thought, demonstrated by interests in science, data analysis, and behavioral economics; they also appreciate insightful critiques of societal structures, media influence, and political ideologies. They have a strong sense of social justice, a keen awareness of potential for manipulation and a possible distrust of grand narratives and unchecked power, which can lead to them being critical of ideological extremism. Empathetic and capable of appreciating diverse perspectives, they value truth, intellectual honesty, and the pursuit of knowledge",
          "This person possesses a highly intellectual and analytical mind, driven by a deep curiosity about the natural world and the human condition. They are drawn to understanding complex systems, from the intricacies of physics and cosmology to the biological basis of life and behavior. While grounded in scientific principles, they also appreciate philosophical and historical perspectives, seeking a comprehensive worldview. Emotionally, they are thoughtful and reflective, engaging with ideas that explore meaning and purpose. Their tendency to favor well-researched, evidence-based arguments suggests a pragmatic and rational approach to decision-making, though they are not immune to exploring imaginative and speculative narratives. They likely value knowledge and understanding, and may demonstrate a subtle sense of social responsibility as they consider topics that affect humanity. They are open to",
          "This person is deeply empathetic and intellectually engaged, with a strong commitment to social justice and understanding systemic inequalities. They are drawn to insightful analyses of society, history, and power structures, showing a preference for works that explore race, oppression, and the path toward a more equitable world. They value both theoretical understanding and practical application, as evidenced by their interest in activism, education, and self-help resources aimed at fostering change. They appear to be thoughtful and introspective, reflected in their appreciation for personal narratives and essay collections that grapple with identity and social issues. They are not afraid to confront difficult subjects and seek to learn from diverse perspectives, indicating a commitment to intellectual growth and challenging their own biases. Ultimately, they are a compassionate individual who seeks to",
          "This person possesses a sophisticated and introspective nature, drawn to beauty, aesthetics, and the philosophical underpinnings of art and life. They are intellectually curious and value deep thinking, as evidenced by their affinity for complex philosophical explorations and art theory. Creative pursuits resonate with them, yet they approach these endeavors with a blend of artistic passion and practical self-improvement. Emotionally, they are attuned to subtle nuances and appreciate the beauty of everyday moments, exhibiting sensitivity and a penchant for introspection. They are drawn to stories that weave together elements of mystery, history, and human drama, which suggests a capacity for empathy and a desire to understand the complexities of human nature. They likely strive for personal growth and fulfillment. Their appreciation for aesthetics and design implies a desire",
          "This person is highly intellectually curious and future-oriented, driven by a desire to understand complex systems and technological advancements. They possess an analytical mind, evident in their interest in scientific, philosophical, and business-related subjects. Innovation and entrepreneurship appeal to them, suggesting a pragmatic streak and a desire to make an impact on the world. While they value exploration of abstract concepts, they also appreciate practical strategies for success. This person balances optimism about the future with a thoughtful consideration of potential dangers and philosophical implications, revealing a responsible and nuanced perspective. While their interests encompass a wide range of topics, they seem to especially enjoy science fiction that explores both technological and philosophical elements, exhibiting an imaginative and forward-thinking mindset. Their interest in history and anthropology suggest a",
          "This person is deeply intellectual and analytical, with a strong inclination towards structure and understanding. They exhibit a clear preference for non-fiction, especially in the realm of music, suggesting a methodical and inquisitive mind that seeks to dissect complex systems. They are likely driven by a desire for self-improvement and knowledge acquisition. Although self-help texts appeal to them, the person is also capable of appreciating the more abstract dimensions of spirituality and the arts, revealing a balanced approach between logic and intuition. Their enjoyment of biographies hints at a desire to learn from the experiences of others, a capacity to appreciate and value the past, and empathy. The inclusion of philosophy texts suggests a contemplative nature and a desire towards self-reflection. While fiction clearly holds less of their interest",
          "They are a deeply intellectual and introspective individual, grappling with profound questions about human existence, morality, and the nature of suffering. A strong preference for challenging and often bleak narratives suggests a comfort with exploring darker aspects of the human condition. They value truth and meaning, seeking understanding through both fictional scenarios and philosophical inquiry. While drawn to works exploring isolation and societal breakdown, they also show an interest in the mechanisms of human behavior and societal structures, blending existential angst with a desire for rational understanding. Though possessing an analytical mind, they are not divorced from emotional engagement, as evidenced by their appreciation for stories that evoke strong emotional responses. A tendency towards solitary contemplation is balanced by an implicit concern for the human collective, particularly regarding justice, freedom, and the potential",
          "This individual is driven by a strong desire for external success and influence, meticulously studying strategies from psychology, marketing, and business to enhance their understanding of persuasion and effectiveness. They are pragmatic and results-oriented, favoring actionable advice and proven methods over theoretical concepts. While valuing self-improvement and relatable content, they seek approaches that provide a degree of counterintuitive or edgy thinking, suggesting a desire to stand out. There's a clear awareness of their public image and a need to manage it effectively; thus, philosophy and self-awareness, are appreciated. However, while they acknowledge the importance of wellness, they might find deeply introspective or spiritual practices less engaging. They value leadership qualities and are keen on discovering what inspires action within others, and look for",
          "This person is drawn to stories of both personal and societal significance, revealing a deep interest in the human condition and the struggles faced by individuals navigating complex circumstances. They have an adventurous spirit, valuing exploration and transformative journeys, both physical and philosophical. While embracing narratives of self-improvement and leadership, they also possess a strong sense of social justice and a penchant for historical settings, suggesting an intellectual curiosity about past events and their impact on present-day society. Empathetic and introspective, they are motivated by opportunities to learn, grow, and understand the world's diversity. Emotionally, they respond strongly to tales of resilience and personal triumphs over adversity, indicating an optimistic worldview tempered with a realistic appreciation for life's hardships. Their taste in fiction",
          "This person displays a strong connection to the past, particularly through a preference for stories set in historical periods. They are drawn to narratives that offer a glimpse into different eras and ways of life, suggesting a deep appreciation for history and a desire to understand the human condition across time. Their literary choices indicate a tendency towards empathy and an interest in complex moral issues, as often found within historical fiction and biographical works. They value stories centered around themes of resilience, as well as personal growth, with a slight preference for reflective rather than action-driven plots. Intellectually, they show curiosity towards classic literature, including plays, indicating a likely appreciation for witty dialogue and classic literary styles. Overall, they seem like someone with a strong moral compass who favors thoughtful reflection",
          "This person is deeply empathetic and seeks meaning in life, valuing stories that explore human connection, resilience, and personal growth. Intellectually curious, they appreciate works that offer insights into psychology, philosophy, and understanding the world. They are drawn to narratives that inspire hope and a sense of purpose, demonstrating an idealistic bent and a desire to make a positive impact. While appreciating lighthearted stories, they also engage with complex issues and difficult realities. This suggests a thoughtful nature and an individual motivated by compassion, valuing both intellectual stimulation and emotional depth. They likely possess strong ethical principles and a desire for self-improvement, guided by a belief in human potential and the power of connection. They approach the world with a blend of idealism and groundedness, seeking wisdom",
          "This person is highly pragmatic and driven by a desire for self-improvement and efficiency. They are drawn to practical knowledge and actionable strategies, seeking out resources to optimize their productivity, finances, and overall effectiveness. Intellectually curious, they appreciate insights into business principles, human behavior, and the value of skilled work. While they have diverse interests ranging from philosophy to cooking, a common thread is a focus on utility and tangible outcomes. They appear to have a logical and analytical approach to problem-solving, preferring concrete methods over purely theoretical concepts. While not overtly sentimental, this person appreciates stories of resilience and endurance, suggesting an admiration for the human spirit. They are likely conscientious and value personal mastery, continually seeking to refine their skills and habits. Their social",
          "This individual possesses a complex and somewhat melancholic worldview, deeply informed by a fascination with existential themes, psychological depth, and the darker aspects of human nature. They show an intellectual leaning towards philosophical and psychological insights, especially regarding the human condition and societal structures, though high ratings for fiction suggest a strong ability to explore these concepts through narrative empathy rather than abstract theory. They are likely introspective and value truth, even when it's uncomfortable, appreciating literature that grapples with suffering, morality, and the absurdity of life. While motivated by a desire to understand the world, their lower ratings of political philosophy and one work of Stephen King suggest skepticism of idealistic solutions and a preference for nuanced, character-driven stories over straightforward genre narratives. Their apparent interest in",
          "This person is deeply invested in self-improvement and holistic well-being, demonstrating a strong interest in optimizing their physical and mental performance. They value scientific rigor, actively seeking evidence-based approaches to nutrition, fitness, sleep, and cognitive function. A pragmatic approach to life prevails, with Stoic philosophy offering a framework for navigating challenges. While self-reliant and driven to improve, they also appreciate narratives of human endurance and historical exploration. Intellectual curiosity is evident in their exploration of history, anthropology, and broad scientific topics. Although drawn to spirituality, a grounding in practical, actionable advice suggests a desire for demonstrable personal growth. They are analytical, perhaps even somewhat data-driven, yet open to exploring inner experiences and emotional healing, implying a balanced approach to",
          "This individual possesses a multifaceted personality, exhibiting a blend of intellectual curiosity and a yearning for meaningful experiences. They are drawn to stories of adventure, resilience, and self-discovery, suggesting a value for personal growth and pushing boundaries. With a penchant for both fiction and non-fiction, they seek wisdom and understanding from varied sources, including insightful analysis of human behavior and inspiration from biographical accounts. They are likely motivated by a desire to learn and improve themselves, demonstrated with an appreciation for works focusing on how to navigate social dynamics and leadership. Furthermore, their appreciation for humor combined with an inclination towards philosophical questions reveals an ability to approach life with a balanced perspective, blending introspection with an optimistic outlook. They may engage deeply with narratives and are emotionally attuned to both personal",
          "They are an intellectually curious and aesthetically driven individual, deeply engaged with art, design, and philosophical explorations of beauty and meaning. They possess a reflective nature, appreciating both the practical and the theoretical aspects of creative endeavors, showing an aptitude for both technical details and broader conceptual frameworks. Their appreciation for self-help texts targeting creative blocks suggests a proactive approach to personal growth and a desire to overcome challenges in artistic expression. With a penchant for fiction blending genres like gothic and magical realism, they embrace imaginative storytelling and unconventional narratives. They value insight into human behavior, reflected in an interest in psychology, but may find themselves less engaged with empirically focused analysis. Overall, they appear to be a thoughtful and creative person, valuing beauty, craftsmanship, and the deeper philosophical questions",
          "They are intellectually curious and driven by a desire to understand the mechanics of success, particularly in business and leadership. Their thinking is strategic and pragmatic, valuing actionable insights and data-driven decision-making. While ambitious and focused on achievement, they also possess an interest in the human element, exploring the psychology of persuasion and the importance of effective teamwork. They appreciate historical context and philosophical underpinnings, seeking to learn from past successes and failures. Efficiency and effectiveness are important to them, but not at the expense of meaning and personal fulfillment. They likely value ethical leadership, striving to inspire and motivate others through a clear sense of purpose. Their analytical approach is tempered by a recognition of the inherent challenges and inevitable setbacks in life and work, suggesting resilience and a",
          "This person is deeply empathetic and driven by a search for meaning and simple joys. They possess an idealistic worldview, finding beauty and wisdom in nature, children's stories, and philosophical reflections. They are drawn to works exploring human connection, resilience, and the importance of finding solace in everyday life. A contemplative and introspective nature suggests a preference for mindful living and a desire for personal growth, evidenced by their interest in self-help and philosophical works. This individual values kindness, simplicity, and seeks to cultivate inner peace, often turning to nature, spirituality, and creative pursuits like gardening and cooking for grounding. Their social orientation likely leans towards nurturing relationships and offering comfort, making them a supportive and thoughtful companion.",
          "This person appears to be introspective and deeply empathetic, drawn to understanding the human condition, especially in the face of adversity. They exhibit a strong interest in personal growth, healing, and overcoming challenges, indicating resilience and a proactive approach to life's difficulties. Intellectually curious, they appreciate narratives that explore psychological complexities and philosophical inquiries into meaning and purpose. While valuing self-improvement, they also demonstrate a desire to understand societal issues, suggesting a socially conscious mindset. They likely process information analytically but are driven by emotional connection and a desire to learn from others' experiences. Open-minded and compassionate, they are likely a thoughtful observer, striving for a deeper understanding of both themselves and the world around them. A blend of self-reflection and outward",
          "This person possesses a deeply analytical and intellectually curious mind, drawn to complex systems and fundamental questions. Their preference for philosophy, science, and history suggests a desire to understand the world through reason and evidence, yet also a capacity for appreciating intricate narratives and imaginative world-building. While grounded in logic and critical thinking, they are not devoid of an emotional side, showing interest in psychology and the human condition, but possibly lean toward self-reliance and inward reflection, valuing personal growth and understanding one's place in the grand scheme. A spectrum of ratings reveals a capacity for discerning quality and depth, suggesting a desire for substance and meaningful insight over fleeting entertainment. They likely value knowledge, independence of thought, and the exploration of both inner and outer realities, approaching",
          "They are deeply introspective and possess a strong moral compass, drawn to narratives that explore complex social issues and the human condition. A contemplative nature is evident in their appreciation for philosophical and poetic works, signaling a tendency toward self-reflection and the search for deeper meaning. They have an empathetic and imaginative spirit, valuing diverse voices and experimental forms of expression. The array of genres they appreciate also suggest a curious and open-minded individual, ready to engage with challenging and unconventional ideas. While attuned to darker themes, they also show an interest in nature and inner strength, which could indicate a resilient and hopeful outlook, balancing philosophical depth and literary exploration with practical wisdom and natural appreciation. Their intellectual curiosity is matched by a desire for emotional understanding and artistic appreciation.",
          "This person is intellectually curious and values truth-seeking, displaying a strong inclination toward investigative and analytical thinking. They are drawn to uncovering hidden truths, whether in journalism, business, or societal structures, and appreciate works that challenge prevailing narratives or expose wrongdoing. A skeptical mindset is evident, coupled with a desire for evidence-based understanding, particularly in science and current events. While they appreciate intellectual exploration, they are discerning, favoring rigorous, well-researched non-fiction over speculative or unsubstantiated claims. They appear to be politically aware and engaged, interested in the influence of media and power structures. Their emotional responses are tempered by reason, and they likely prioritize rationality over appeals to faith or unsubstantiated self-help promises. While capable of",
          "This person is intellectually drawn to themes of courage, resilience, and the psychological impact of conflict. They are likely pragmatic and value deeply held principles, demonstrated by an interest in military history, strategy, and philosophy. Emotionally, they appear to be drawn to stories that explore both the glory and the brutal realities of warfare, hinting at a complex understanding of human nature and motivation. This individual probably possesses a reflective temperament, with an inclination to contemplate the psychological and sociological aspects of group dynamics, belonging, and personal fortitude in the face of adversity. They likely make decisions based on a combination of logic and an appreciation for the human element, valuing bravery and decisiveness. Socially, they might exhibit a blend of respect for tradition and a critical awareness of its",
          "They are a highly analytical and intellectually curious individual, fascinated by the intersection of technology, business, and philosophy. Driven by a thirst for knowledge and innovation, they exhibit a pragmatic yet visionary approach, constantly seeking to understand complex systems and anticipate future trends. While valuing individual achievement and entrepreneurial spirit, they are also drawn to exploring the human condition and the broader implications of technological advancements on society. They possess a strong interest in the future and how it can be actively shaped - possibly optimistic but not recklessly so. Emotionally, they show a preference for logic and reason, tempered with a touch of existential contemplation. This person is likely someone who seeks to understand the big picture and isn’t afraid to engage with challenging ideas. Their social orientation leans towards selective engagement",
          "This person possesses a deeply introspective and analytical mind, drawn to understanding human behavior, societal structures, and the search for meaning. They value personal growth and resilience, exploring psychological concepts related to trauma, attachment, and the impact of societal forces on the individual. With a blend of intellectual curiosity and emotional sensitivity, they appreciate both logical analysis of human nature and also introspective self-help. Their thinking style involves examining the broader implications of social ideologies, historical context, and psychological well-being. They are also interested in the dystopian perspective, showing a concern for social issues and a desire to understand potentially negative futures. They appear to be motivated by a desire to find genuine connections and understand themselves and society around them on a profound level.",
          "This person values personal growth and seeks practical strategies for self-improvement, showing an active interest in enhancing effectiveness in both professional and personal realms. They are drawn to stories that blend historical settings with strong emotional narratives, suggesting an appreciation for the past and its impact on human experience. A curious mind is evident in their liking for science fiction and thrillers, revealing a fascination with exploring unconventional possibilities and complex, thought-provoking scenarios. They demonstrate an empathetic side, as seen with the appeal of heartwarming tales focused on interpersonal relationships and emotional resonance, and a desire to improve their parenting skills, indicating a caring and nurturing disposition. Balancing practicality with emotional depth is key, seeking guidance in parenting and home organization, while also valuing self-reflection and understanding the human condition",
          "This individual demonstrates a strong inclination towards introspection and personal growth, exhibiting a curious and open-minded approach to understanding themselves and the world. They are deeply interested in spirituality, mindfulness, and philosophical questions, suggesting a search for meaning and purpose beyond the material realm. They lean towards idealism, valuing wisdom, compassion, and inner peace. Emotionally, they value tranquility and balance, showing an interest in managing their inner state to better navigate life's challenges. Their preference for books on self-help and psychological understanding points to a desire for self-improvement, coupled with an analytical mind that seeks practical application of complex ideas. They likely exhibit empathy and a desire for harmonious relationships with others, possibly balancing moments of solitude within broader social interactions. This person likely",
          "This person possesses a compassionate and intellectually curious nature, demonstrating a particular interest in stories that explore diverse cultures, historical events, and the complexities of the human experience. They value empathy and strive to understand the challenges faced by individuals navigating different social and political landscapes. With an appreciation for both personal narratives and broader societal issues, they are drawn to reflective works that offer insights into identity, belonging, and the search for meaning. They likely possess a strong sense of social justice and a desire to learn from the past to inform the present, showing a potential for thoughtful introspection and a genuine connection to humanity through shared stories and philosophical inquiry. They navigate decisions with a blend of rationality and emotional awareness, guided by a desire to find common ground while acknowledging the unique experiences that",
          "This person possesses a deeply intellectual and introspective nature, gravitating toward profound explorations of the human condition through literature. With a penchant for stories tackling weighty themes, they demonstrate a strong interest in history, philosophy, and psychology, particularly existentialism. They are drawn to works examining suffering, resilience, and the search for meaning in a seemingly indifferent universe. While clearly moved by human tragedy, they are not entirely pessimistic; they appreciate works that offer insights into psychological depth and moral complexity. This person probably approaches life with a thoughtful seriousness, valuing authenticity and demonstrable understanding in narratives and likely, in people. While they may grapple with difficult questions, their intellectual curiosity suggests a desire for deeper meaning, rather than simple escapism, and this drives their exploration of what",
          "This person possesses a distinct intellectual curiosity, drawn towards stories that blend reality with the fantastical and explore deeper philosophical questions. They are likely imaginative and reflective, valuing narratives that offer insightful perspectives on the human condition and the nature of existence. Emotionally, they seem to be drawn to experiences that evoke wonder and perhaps a touch of melancholy, appreciating the beauty and strangeness of the world. They value creativity, seeking inspiration from various sources, including mythology and philosophical musings. They appear to have a strong ethical compass, favoring stories that explore morality. The blend of fiction with philosophical themes suggests an inclination towards thinking abstractly and pondering life's big questions. While they find value in self-improvement, their preferences lean toward the introspective rather than purely practical",
          "This person possesses a deeply analytical and intellectually curious mind, drawn to understanding complex historical events and figures. They are fascinated by leadership, strategy, and the human experience within grand historical narratives, suggesting a pragmatic yet thoughtful approach to problem-solving. A strong sense of realism tempers any potential idealism, as they seem to grapple with the darker aspects of human nature and conflict. They value courage, resilience, and leadership in the face of adversity. Emotionally, they appear to be moved by stories of triumph and tragedy and have a desire to understand the nuanced motivations behind historical events. Their preference for detailed historical accounts and biographies suggests an interest in facts and accurate portrayals of real-world events.",
          "This person is deeply introspective and driven by a quest for personal understanding and growth. They are drawn to psychological insights and philosophical concepts, eager to understand the human condition and the workings of the mind. They display empathy and a desire to help others overcome challenges, seen in an interest in trauma and therapeutic narratives. While intellectual pursuits are important, practical application is also valued, particularly in self-improvement and effective influence. They are open to exploring different perspectives, including sociological and historical analyses, and possess an optimism tempered by critical analysis. They are likely quite sensitive and thoughtful, possibly introverted, preferring deep dives into complex subjects to superficial interactions. This individual seeks meaning in life through both intellectual exploration and emotional connection.",
          "This individual possesses a deeply philosophical and introspective nature, constantly seeking meaning and understanding in the world and within themselves. They are drawn to exploring complex ideas, particularly regarding existence, ethics, and the human condition. They exhibit a strong intellectual curiosity and appreciate works that challenge conventional thinking. While valuing reason and logic, they also engage with emotional and psychological realms, as evidenced by their interest in psychology and narratives that explore morality, guilt, and redemption. They demonstrate a nuanced appreciation for art and literature, favoring works that delve into profound emotions and psychological complexities. This person likely gravitates towards deep conversations, thoughtful contemplation, and seeks personal growth through self-reflection and engagement with profound ideas. They may possess a resilient and reflective approach to life, attempting to find",
          "They are deeply analytical and value courage, duty, and resilience. Drawn to narratives of military history, war, and personal accounts of service, their intellectual curiosity leans towards understanding human behavior under extreme pressure. They appreciate both the strategic aspects captured in military strategy and the psychological costs detailed in works on killing. Their emotional landscape seems anchored in respect for those who serve, with a possible fascination for testing one's limits. They likely value loyalty and belonging, as evidenced by an interest in group dynamics and the self-help genre focused on leadership. While drawn to realistic portrayals of conflict, they seem to appreciate stories highlighting valor and sacrifice. They likely integrate personal growth with external challenges, preferring concrete, practical insights over abstract theories. Their social orientation appears grounded",
          "This individual possesses a sharp, analytical intellect, drawn to complex ideas and challenging perspectives across a wide range of domains. They exhibit a strong interest in understanding the human condition, exploring morality, societal structures, and the darker aspects of human behavior. They tend to think critically and independently, valuing individual agency and self-reliance, though not necessarily at the expense of empathy. Emotionally, they appear to be somewhat detached yet intensely curious, demonstrating a capacity for both profound intellectual engagement and subtle cynicism. They are likely driven by a desire to understand the world deeply, often questioning established norms and conventional wisdom. Their engagement with various fictional narratives suggests an appreciation for complex characters who grapple with moral ambiguity and philosophical dilemmas. They approach life with a pragmatic blend of intellectual curiosity",
          "They possess a contemplative and introspective nature, deeply drawn to profound human experiences and philosophical questions. With a strong intellectual curiosity, they explore themes of meaning, purpose, and inner conflict, appreciating both the beauty and complexities of life. A high value is placed on authenticity and self-awareness, leading to a thoughtful and deliberate approach to decision-making. They exhibit a degree of emotional sensitivity, resonating with stories that explore the depths of human emotion and the search for connection. While grounded in reality, they appreciate works that challenge conventional thinking and offer alternative perspectives. They are likely empathetic, though not outwardly expressive, and approach relationships with a sense of depth and understanding, valuing genuine connection over superficial interactions. Highly attuned to their inner life, they navigate the",
          "They possess a thoughtful and contemplative nature, drawn to stories that explore the interconnectedness of humanity, nature, and community. A deep appreciation for rural life, simple living, and enduring values suggests a desire for authenticity and connection to the land. They are likely empathetic and value close relationships, finding wisdom in shared experiences and reflections on life's deeper questions. A preference for insightful, character-driven narratives and insightful non-fiction indicates a curious intellect and a desire for personal growth and understanding. They value social harmony and community well-being, grounded in practical wisdom tempered by spiritual and philosophical reflection. While appreciating beauty and tranquility, they are not afraid to engage with complex social and ethical issues, demonstrating a commitment to a just and sustainable world.",
          "This person possesses a rich inner world fueled by imagination and a deep sense of meaning. They gravitate toward narratives that explore profound philosophical questions and the interconnectedness of reality, often finding beauty in the blending of genres like magical realism and historical fantasy. Introspective and thoughtful, they value stories that offer insights into the human condition, the search for purpose, and the exploration of diverse perspectives. Emotionally attuned, they appreciate works that evoke empathy and tap into the wonder and mystery of life. While open to scientific perspectives, they are drawn more strongly to works that integrate science with philosophical or spiritual dimensions. They may approach the world with a blend of idealism and resilience, seeking wisdom in both intellectual pursuits and the natural world, forming a worldview that is both thoughtful and",
          "This person possesses a rich inner world fueled by imagination and a deep appreciation for grand narratives. They are drawn to stories of heroes, myths, and the exploration of human potential, suggesting an idealistic bent and a fascination with the power of belief. While grounded in fantasy, they appreciate historical context and philosophical underpinnings, demonstrating an intellectual curiosity that blends escapism with a desire for deeper meaning. This indicates a thoughtful, analytical mind capable of nuanced understanding. Emotionally, they value love, courage, and adventure, finding inspiration in tales of personal growth and triumph over adversity. Though they may explore spirituality and philosophical thought, they are cautious, indicating a preference for tangible stories over abstract concepts. In social interactions, they likely appreciate depth and authenticity, valuing meaningful",
          "This person exhibits a strong intellectual curiosity and a keen analytical mind, particularly drawn to understanding complex systems and uncovering hidden truths. They are driven by a desire to be well-informed and to make sense of the world through evidence-based reasoning, demonstrating a fascination with science, history, and the inner workings of society. They value critical thinking and skepticism, showing a preference for investigative journalism and works that challenge conventional wisdom. While intellectually engaged, they also grapple with the complexities of human nature and societal issues, revealing a concern for justice and a potential distrust of unchecked power. They are pragmatic in their approach to problem-solving, yet they can also be idealistic, particularly when it comes to promoting reason and uncovering deception. Their interest in psychology hints at their drive",
          "This individual gravitates towards experiences that broaden their horizons and offer profound insights into the human condition, revealing a passionate and adventurous spirit. Intellectually curious, they are drawn to stories of exploration, both geographical and personal, finding meaning in philosophical reflections and unconventional perspectives. Emotionally, they seem receptive to transformative experiences, valuing resilience and self-discovery. Their taste in literature suggests an openness to diverse cultures and lifestyles, signifying a broad-minded, empathetic approach to the world. A preference for narratives that blend travel with memoir implies a desire for authenticity and a deep connection to the stories they consume. This person likely makes decisions based on a blend of logic and intuition, guided by a strong internal compass and a thirst for knowledge. Socially, they might",
          "This individual possesses a deeply empathetic and intellectually curious nature, shown through their interest in stories that explore identity and social justice. They approach the world with a critical and analytical mind, valuing diverse perspectives and challenging conventional norms. Driven by a strong moral compass, they seek to understand complex social issues and are particularly drawn to narratives that center marginalized voices. Emotionally, they are sensitive and introspective, demonstrating a capacity for deep feeling and a willingness to engage with difficult and potentially painful experiences. They are drawn to art that reflects the complexities of human relationships and value authenticity and vulnerability. This suggests someone who is thoughtful, compassionate, and committed to personal growth as well as the advancement of equity. They likely approach decision-making with careful consideration, weighing ethical implications alongside",
          "This person is deeply romantic and empathetic, drawn to narratives that explore the complexities of love in various forms. Introspective and thoughtful, they appreciate both the grand sweep of historical romances and the relatable struggles of contemporary relationships. They value strong emotional connections and are interested in understanding the dynamics of love from philosophical, psychological, and personal perspectives. While appreciating stories with fantastical elements, they have a clear preference for character-driven narratives and realistic emotional portrayals. They likely seek both escapism and insight from the media they consume, balancing a desire for lighthearted enjoyment with a genuine interest in the deeper meanings of human connection. They appear to be someone who values sentiment, empathy, and intellectual exploration of relationships.",
          "This individual is a highly intellectual and artistically inclined person, driven by a deep curiosity about the human experience and the power of music. They possess an analytical mind, evident in their engagement with music theory, neuroscience, and philosophical discussions, yet they are also drawn to the subjective and emotional aspects of creativity. Empathetic and introspective, they explore the inner landscapes of both themselves and others, valuing self-improvement and understanding human behavior within social and historical contexts. They appreciate authenticity and the raw, unfiltered essence of artistic expression. They value knowledge and understanding across multiple domains, but their appreciation for structure and logic is tempered by a fascination with the more ambiguous, creative, and spiritual sides of life. They are generally open-minded and thoughtful but less",
          "They possess a rich inner life, drawn to narratives that blend the fantastical with profound philosophical questions. They are intellectually curious, drawn to magical realism, fantasy, and philosophical fiction, which suggests a blend of imagination and a desire to explore deeper meanings of life. They value beauty, creativity, and intricate storytelling, evident in their appreciation for artful narratives across genres. While imaginative, an appreciation for nature writing and indigenous wisdom indicates an openness to grounded, practical perspectives. Their interest in diverse cultural narratives and philosophical explorations reveals a thoughtful and empathetic nature, likely resulting in carefully considered decisions. They value stories that offer both escape and insight into the human condition, suggesting a balanced approach to life that integrates both fantasy and reality, while maintaining a contemplative interest in the deeper",
          "This person possesses a deeply intellectual and introspective nature, driven by a desire to understand the fundamental principles governing existence. They are drawn to philosophical explorations of meaning, consciousness, and morality, engaging with complex ideas and abstract concepts readily. Emotionally, they exhibit a thoughtful and measured approach, valuing wisdom and resilience in the face of life's challenges. While appreciating the abstract and theoretical, they also appreciate practical applications of philosophy for self-improvement and navigating everyday existence. Their engagement with fiction suggests an interest in exploring human nature and societal structures, though dystopian themes trigger a less favorable response. They appear to value authenticity and independent thought, and form their own opinions through rigorous examination and reflection. Their social orientation is likely to be selective, preferring deeper connections and",
          "They are deeply intellectual and contemplative, grappling with profound questions about human existence, meaning, and the nature of suffering. Possessing a pessimistic worldview tempered by existential resilience, they are drawn to narratives exploring societal collapse, political oppression, and the darker aspects of human nature. Analytical and introspective, they appreciate works that dissect complex psychological states and philosophical concepts. They value honesty and authenticity, evidenced by their engagement with unflinching, sometimes brutal, depictions of reality. While interested in the mechanics of power and social structures, they maintain a critical perspective, reflecting a concern for justice and a skepticism towards authority. Emotionally, they demonstrate a capacity for empathy, though tempered by a rational and somewhat detached approach to understanding the human condition. They are likely motivated by a",
          "This person exhibits a strong inclination towards imaginative and philosophical narratives, suggesting a reflective and creative cognitive style. They are drawn to stories that blend reality with fantastical elements and explore deeper meanings, hinting at an underlying idealism and a desire to understand the world beyond its surface. Emotionally, they seem to value wonder and enchantment, appreciating narratives that elicit a sense of awe and mystery. Their interest in philosophical works and mythology reveals a thoughtful nature that seeks wisdom and meaning in different systems of belief. Socially, they appear to be introspective and enjoy exploring personal growth and potential, possibly suggesting an independent and curious approach to life. They are also motivated by intellectual stimulation, spiritual insight, and an appreciation for ecological awareness, indicating a well-rounded worldview. Their less",
          "They are deeply introspective and empathetic, drawn to understanding the complexities of the human condition, particularly regarding trauma, addiction, and recovery. A strong interest in personal growth and meaning-making suggests an idealistic streak tempered by a pragmatic desire for healing and change. They appear to value authenticity and vulnerability, demonstrated by their interest in memoirs and works exploring the human experience. They possess an analytical mind, seeking insights from diverse fields like psychology, neuroscience, and philosophy. While open to spiritual and philosophical exploration, their approach seems grounded in practical application, favoring narratives and frameworks that offer tangible paths to self-improvement and resolution. Their preference for works dealing with challenging topics reveals a resilience and willingness to confront difficult emotions, and a desire to learn and grow from them.",
          "This individual is intellectually curious and deeply engaged with envisioning future possibilities, particularly as they intersect with technology and societal change. They exhibit a strong analytical bent, enjoying complex systems and philosophical inquiries into artificial intelligence and the nature of reality. While drawn to optimistic and transformative visions of progress, they are also keenly aware of potential pitfalls and dystopian outcomes, showing a thoughtful and critical approach to innovation. They value intellectual stimulation and forward-thinking ideas, but are not afraid to consider darker or more challenging possibilities. They likely possess a blend of idealism and pragmatism, with a desire to understand the broader implications of technological advancements on humanity. This person is driven by a desire to comprehend and contribute to shaping the future, balanced by a discerning awareness of potential ethical and societal",
          "They are fundamentally a pragmatic and action-oriented individual, driven by a desire for self-improvement and efficiency. They value practical knowledge and actionable advice, demonstrating a strong preference for resources that offer concrete steps toward tangible goals. While they appreciate wisdom and philosophical concepts, they are more drawn to philosophies with practical applications. Their problem-solving approach is logical and strategic, as evidenced by their interest in fields like productivity, finance, and software development. While not averse to risk, they prioritize control and self-reliance, preferring approaches that emphasize personal responsibility. They are likely ambitious and driven, but also grounded and centered on what they can control and improve. Abstract or overly theoretical concepts hold less appeal, but psychology that focuses on building habits or finding meaning in life",
          "This person possesses a deeply ingrained sense of environmental responsibility and intellectual curiosity. They demonstrate a clear preference for works that explore the intricate relationships between humanity and the natural world, ranging from scientific analyses of ecological crises to philosophical reflections on nature's intrinsic value. Their emotional landscape is likely colored by both hope and concern, motivated by a desire to understand and address the challenges facing the planet. They value knowledge and thoughtful consideration, appreciating works that offer both practical solutions and deeper insights into environmental ethics. While capable of appreciating creative expressions of environmental themes, they demonstrate a grounded perspective that prioritizes factual accuracy and meaningful action, revealing a pragmatic yet idealistic social orientation. They are likely introspective and contemplative, valuing experiences that foster their connection with nature and inspire proactive engagement.",
          "They are a deeply thoughtful and optimistic individual with a strong appreciation for wisdom and personal growth. Introspective and empathetic, they possess an inherent curiosity about the human condition, seeking to understand both themselves and the world around them. They value meaningful experiences and strive for self-improvement, evidenced by their interest in psychology, philosophy, and self-help literature. While drawn to introspective themes, they are also drawn to uplifting tales, demonstrating a hopeful outlook and the belief in the power of positivity. A practical bent is suggested by their interest in business and science, but this is balanced by a sentimental appreciation for historical contexts and emotionally resonant narratives. Their social orientation leans toward humanistic values, emphasizing connection, kindness, and the shared human experience. They are likely",
          "This individual demonstrates a rich intellectual curiosity and a philosophical bent, deeply engaged with both scientific concepts and existential questions. They appreciate insightful narratives and innovative storytelling, evident in their preference for works that blend genres and explore complex themes of humanity, consciousness, and societal structures. Driven by a desire for knowledge and understanding, they value well-researched, informative texts balanced with narratives that offer emotional depth and moral contemplation. While open to diverse perspectives, they show discernment, favoring works that challenge conventional thinking and offer meaningful insights into the human condition, whether through introspective self-reflection or exploration of societal dynamics. They seem to balance analytical thinking with an appreciation for beauty and creativity, drawn to narratives that are both intellectually stimulating and emotionally resonant. Their choice of books",
          "This person is deeply value-driven, with a strong moral compass rooted in Christian faith. They approach life with a thoughtful and analytical mind, seeking evidence and intellectual justification for their beliefs, and demonstrating a commitment to defending their worldview. They are concerned with societal trends and actively engage with commentary, showing a preference for conservative perspectives and traditional values. While intellectually rigorous, they are also drawn to stories of redemption, love, and moral courage, suggesting a capacity for empathy and a desire for emotional connection. This person appears to be motivated by the pursuit of a meaningful life guided by faith, wisdom, and a commitment to personal growth, as evidenced by their interest in self-help and spiritual development. They appreciate structured approaches to life, extending even to areas like",
          "This individual possesses a sharp, analytical mind with a penchant for exploring the darker aspects of the human condition and societal structures. They are drawn to philosophical inquiries, especially those questioning traditional morality and existential themes. While valuing intellectual pursuits and theoretical concepts, there's a noticeable interest in works exploring power dynamics, societal control, and the human capacity for both profound good and disturbing behavior. They likely appreciate transgressive narratives and challenging perspectives, demonstrating a willingness to confront uncomfortable truths. Although they engage with diverse genres, a critical and somewhat pessimistic outlook seems to underpin their preferences. This person probably values authenticity and intellectual honesty, yet may struggle with reconciling idealistic aspirations with the often harsh realities of the world, often preferring to contemplate it from a somewhat detached perspective.",
          "This person possesses a sharp, analytical mind, fascinated by the potential and perils of technological advancement and its impact on society. They are drawn to complex, thought-provoking narratives that explore dystopian themes, philosophical questions, and future possibilities. However, a critical eye tempers their idealism; they are not easily swayed by simplistic solutions or utopian visions, evidenced by their discerning critiques and rejection of ideas they deem unoriginal. They are intellectually curious and seem to enjoy deconstructing ideas but dismiss anything they consider poorly executed or vapid. More than likely, they feel most comfortable in a smaller group of like minded individuals with whom they can explore ideas. They likely demonstrate an emotionally restrained yet principled approach to life. While open to considering diverse perspectives, they maintain strong personal",
          "They are a highly ambitious and achievement-oriented individual with a strong interest in business, marketing, and personal branding. They possess an analytical and strategic mind, constantly seeking knowledge and practical tools to improve their professional skills and overall effectiveness. Driven by a desire for success and recognition, they actively explore strategies for persuasion, influence, and standing out in competitive environments. Though future-focused and goal-oriented, they also appreciate practical advice and self-improvement techniques aimed at building strong habits and achieving tangible results. This person demonstrates a measured interest in popular self-help and philosophical concepts, leaning towards pragmatism over abstract spirituality. Their reading list suggests a preference for stories that capture both the allure and the challenges of contemporary society, and they are likely drawn to narratives",
          "This person balances intellectual curiosity with a deep desire for practical self-improvement, particularly in the realms of parenting and personal growth. They value empirically-supported insights alongside emotionally resonant narratives, suggesting an inclination towards both logical and empathetic processing. They actively seek strategies for fostering healthy relationships – with children, romantic partners, and themselves – showing a commitment to creating harmonious interactions and fostering a strong sense of belonging. While drawn to stories that explore complex family dynamics and historical contexts, they seem equally motivated by psychological frameworks designed to enhance communication, understanding, and resilience in themselves and those around them. This demonstrates a blend of introspective contemplation and proactive steps towards constructive change, shaping them as someone who strives for mindful living and meaningful connections.",
          "This person is deeply introspective and analytically oriented, favoring psychological insights and philosophical questioning over purely escapist entertainment. They demonstrate a strong interest in understanding the human condition, both individually and collectively, with a particular focus on personal growth, resilience, and the complexities of human relationships. Empathetic and driven by a desire for self-improvement, they appear to value authenticity and vulnerability, seeking out resources for navigating emotional challenges and developing healthier connections. While grounded in practicality, as suggested by their interest in self-help and actionable advice, they are also drawn to exploring broader societal themes and historical context, suggesting a thoughtful and engaged approach to understanding the world. Their taste for works exploring darker aspects of society demonstrates a willingness to confront difficult truths and engage with complex",
          "This individual possesses a deeply intellectual and philosophical nature, driven by a quest for understanding complex systems and abstract concepts. Their thinking is analytical and introspective, favoring works that explore the nature of reality, consciousness, and human existence. They exhibit a tolerance for ambiguity and a willingness to engage with challenging and unconventional ideas, blending scientific curiosity with philosophical inquiry. While valuing intellectual rigor, they also demonstrate a capacity for appreciating emotional depth and moral complexity, as evidenced by their interest in fiction exploring profound human experiences. They are likely thoughtful and deliberate in their decision-making, weighing different perspectives and considering the broader implications of their actions. They may exhibit a tendency toward introspection and a thoughtful engagement with the world. They show an interest in the human condition, but also demonstrate",
          "This individual is deeply invested in understanding human potential and development, reflecting a blend of intellectual curiosity and empathetic concern. They possess an analytical mind, drawn to psychological insights and educational philosophies that challenge conventional wisdom. A strong sense of idealism drives their exploration of alternative educational models and critiques of societal norms. While grounded in practical parenting strategies and an interest in child development, they also demonstrate a penchant for introspection and self-improvement, seeking personal growth through philosophical and spiritual texts. This person values resilience and the power of human connection, as reflected in their appreciation for memoirs of overcoming adversity. Although intellectually stimulated by sociological analyses of success, they are not blind to the importance of individual experiences and emotional well-being. Their preference for reflective, thought-provoking material, rather",
          "This person displays a keen intellect and a deeply analytical mind, drawn to understanding the complex forces that shape societies and individual behavior. They possess a strong interest in political science, history, and economics, suggesting a desire to grasp the broader implications of power dynamics and systemic issues. While valuing data-driven insights, they also appreciate the nuances of human psychology and social commentary. The blend of factual analysis and literary work suggests an empathetic nature and an awareness of social injustices. They appear motivated by a desire for clarity and a need to understand the root causes of societal problems, as well as an interest in practical application. Their emotional disposition appears measured and thoughtful, favoring insight and understanding over impulsive reactivity. They likely approach decisions with a pragmatic yet socially conscious perspective, valuing",
          "They are a driven individual with a pragmatic approach to self-improvement and career advancement. Highly valuing efficiency and clear strategies, they actively seek out actionable advice in marketing and business, prioritizing techniques that offer tangible results. They possess an analytical mind, comfortable with dissecting complex systems to understand the underlying mechanics, particularly those driving consumer behavior or personal productivity. Although open to philosophical and spiritual concepts, their engagement appears somewhat detached, possibly due to a preference for evidence-based knowledge. While appreciating the value of courage and vulnerability, they demonstrate a need for established frameworks, which influences their perspective. Their engagement with fiction is tempered, and dystopian themes may have limited appeal. This points to a desire for control over reality, focusing more on self-mastery than exploring",
          "This person possesses a deeply empathetic and intellectually curious nature, evident in their preference for stories exploring diverse cultures, historical experiences, and personal journeys. They are drawn to narratives that grapple with themes of displacement, identity, and social justice, suggesting a strong sense of fairness and a desire to understand different perspectives. They value insightful reflections on both personal struggles and broader societal issues, indicating a contemplative and thoughtful approach to life. While appreciating literary and philosophical works, they also seek out memoirs and graphic novels, implying an openness to accessible and emotionally resonant storytelling. Their choices reveal a preference for character-driven narratives that illuminate complex emotions and human connections, demonstrating a thoughtful and compassionate orientation toward the world and its inhabitants. They show a preference for thoughtful and complex work that tackles",
          "This person is deeply introspective and possesses a strong spiritual curiosity, evident in their exploration of philosophical and religious texts. They are drawn to works that offer guidance on mindfulness, purpose, and inner peace, suggesting a value system rooted in self-improvement and enlightenment. While embracing abstract concepts, they also value practical self-help advice, indicating a desire to translate wisdom into actionable change. Their appreciation for both fiction and non-fiction suggests a balance between imaginative thinking and a grounded approach to understanding the world. A tendency towards reflection and thoughtful consideration likely informs their decision-making, and their intellectual appetite is broad, encompassing psychology, history, and diverse spiritual traditions. They may be empathetic and oriented towards compassion, seeking meaning in both personal experiences and the collective human",
          "This individual displays a strong inclination towards self-reflection and understanding the human condition, particularly struggles with addiction, trauma, and personal growth. They are empathetic and intensely value insight into emotional and psychological landscapes, demonstrated by their interest in memoirs and self-help books that explore vulnerability and recovery. They approach these topics with a blend of intellectual curiosity and a desire for practical guidance, seeking ways to transform their own life and relationships. While drawn to non-fiction and personal narratives, they also appreciate fiction and narratives that expose broader societal issues. Although open to explorations of faith and philosophy, they demonstrate discerning tastes and are not easily swayed by superficial narratives, as evidenced by lower ratings given to works with less authentic or substantial content. Overall, they exhibit a resilient and",
          "This person is deeply engaged with social justice and systemic issues. Intellectually curious and driven by a strong sense of ethics, they possess an analytical mind that dissects complex socio-economic and political systems. Empathetic and emotionally intelligent, they are drawn to stories that highlight inequality and injustice, both historical and contemporary. They appear to be idealistic, seeking to understand how systems can be transformed to benefit marginalized communities. This person values intellectual growth and the perspectives of those historically excluded from mainstream narratives. They are motivated by a desire to create a more equitable world, appreciating literature and essays that provide historical understanding and propose paths towards systemic change. Their concerns extend to environmentalism and the impact of economic structures on people and the planet.",
          "This person appears to be someone who values personal growth and effectiveness, balancing a desire for self-improvement with an appreciation for engaging stories. They are likely analytical and pragmatic, seeking evidence-based strategies for productivity and habit formation while also exploring complex human relationships through fiction. Emotionally, they seem to be drawn to stories that evoke empathy and explore themes of belonging, resilience, and navigating challenging circumstances. They also value understanding and nurturing children, suggesting caring and responsible tendencies. Simultaneously, they show an interest in understanding broader social and historical contexts. Their taste for diverse genres indicates an open-minded nature and a willingness to explore different perspectives and realities. Ultimately, they probably strive for betterment in various aspects of their life, blending practical self-help strategies with reflective",
          "\nThis individual possesses a deeply introspective and philosophical mind, consistently seeking profound understanding of existence, morality, and human nature. They are driven by a strong desire for authenticity and genuine purpose, often questioning societal norms and confronting difficult truths, as evidenced by their appreciation for works that dissect moral collapse and the illusions of heroism. Intellectually curious, they are equally drawn to scientific exploration, finding wonder in astrophysics, chemistry, and biology, indicating a broad and analytical cognitive style. Emotionally, they are empathetic and highly attuned to the suffering caused by injustice and oppression. Their values lean towards practicality, self-awareness, and a rejection of performative actions, suggesting a preference for quiet integrity over grand gestures. While they appreciate spiritual and philosophical introspection, there's also a pragmatic streak that values direct action and concrete good. They seem to navigate relationships with a nuanced understanding of human flaws and motivations, often viewing the world through a lens of moral accountability. Their appreciation for diverse perspectives points to an open-mindedness, yet their critical engagement with ideas suggests a discerning rather than passive acceptance. Overall, they are a thoughtful, morally conscious individual striving for clarity and meaning in a complex world.\n"
         ],
         "hovertemplate": "<b>%{text}</b><extra></extra>",
         "marker": {
          "color": [
           "blue",
           "blue",
           "blue",
           "blue",
           "blue",
           "blue",
           "blue",
           "blue",
           "blue",
           "blue",
           "blue",
           "blue",
           "blue",
           "blue",
           "blue",
           "blue",
           "blue",
           "blue",
           "blue",
           "blue",
           "blue",
           "blue",
           "blue",
           "blue",
           "blue",
           "blue",
           "blue",
           "blue",
           "blue",
           "blue",
           "blue",
           "blue",
           "blue",
           "blue",
           "blue",
           "blue",
           "blue",
           "blue",
           "blue",
           "blue",
           "blue",
           "blue",
           "blue",
           "blue",
           "blue",
           "blue",
           "blue",
           "blue",
           "blue",
           "blue",
           "blue",
           "blue",
           "blue",
           "blue",
           "blue",
           "blue",
           "blue",
           "blue",
           "blue",
           "blue",
           "blue",
           "blue",
           "blue",
           "blue",
           "blue",
           "blue",
           "blue",
           "blue",
           "blue",
           "blue",
           "blue",
           "blue",
           "blue",
           "blue",
           "blue",
           "blue",
           "blue",
           "blue",
           "blue",
           "blue",
           "blue",
           "blue",
           "blue",
           "blue",
           "blue",
           "blue",
           "blue",
           "blue",
           "blue",
           "blue",
           "blue",
           "blue",
           "blue",
           "blue",
           "orange"
          ],
          "opacity": 0.8,
          "size": 8
         },
         "mode": "markers",
         "name": "Users",
         "text": [
          "Travis Williams",
          "James Carroll",
          "Denise Parker",
          "Thomas Lee",
          "Alicia Padilla",
          "Andrea Gomez",
          "Regina Holmes",
          "Ashley Howell",
          "Stacey Harrison",
          "Edward Hudson",
          "Edwin Allison",
          "Jason Miller",
          "Brittany Johnson",
          "Javier Johnson",
          "Lisa Wilson",
          "Brian Robinson",
          "Kendra Nguyen",
          "Charles Aguirre",
          "John Johnson",
          "Jennifer Kennedy",
          "Tammy Patel",
          "John Baker",
          "Justin Vargas",
          "Scott Dennis",
          "William Miles",
          "Lance Taylor",
          "Allison Martinez",
          "George Williams",
          "Julia Reeves",
          "Zoe Rodriguez",
          "Gwendolyn Wang",
          "Kevin Boyd",
          "Amanda Reynolds",
          "Ashley Taylor",
          "Dawn Waters",
          "Ashley Hanna",
          "Richard Holloway Jr.",
          "Jeffery Campbell",
          "Kevin Jacobs",
          "Daniel Ware",
          "Stacey Hudson",
          "Amanda Barry PhD",
          "Michael Mullen",
          "Amber Lopez",
          "Noah Webb",
          "Darrell Morales",
          "Christopher Jones",
          "Karl Richmond",
          "Jeffrey Jackson",
          "Anna Santana",
          "Stephen Mcclure",
          "Kelsey Valdez",
          "Robert Phillips",
          "Denise Howard",
          "Jocelyn Nguyen",
          "Victoria Cummings",
          "Maurice Evans",
          "Heather Moore",
          "Michael Jones",
          "Christopher Hammond",
          "Breanna Barr",
          "Oscar Spencer",
          "Timothy Summers",
          "Holly Wang",
          "Rachel Lucero",
          "Christina Mason",
          "Debbie Robinson",
          "Christopher Ray",
          "Thomas Schneider",
          "Bruce Hernandez",
          "Heather Green",
          "Pamela Rodriguez",
          "Shannon Meyer",
          "Theresa Hall",
          "Holly Thompson",
          "Lee Velez",
          "Mrs. Mallory Harrington",
          "Carla Smith",
          "Robert Nelson",
          "Victoria Reilly",
          "Stephen Brady",
          "Jamie Blankenship",
          "Benjamin Owens",
          "Sonya Scott",
          "Kayla Smith",
          "Ryan Mason",
          "Jean Phillips",
          "Kimberly Russell",
          "Anthony Kent",
          "Tom Brown",
          "Susan Gibson",
          "Brianna Chandler",
          "Nicole Cooper",
          "Catherine Dunn",
          "Yahya Rahhawi"
         ],
         "type": "scatter3d",
         "x": {
          "bdata": "ZaENQZ0FEUHsAglB7T8rQWGrBEEf7AFBMv0TQdfkIEGK0gxBF48HQfWKG0Eygg1BXhcGQUfqH0HeTgZBTnkMQeRtJ0EtswlByb0CQZ3BE0EVMB5BMw0nQZ9wFUF0CQ9BJXMfQVXNLUEIfSlBsksVQZvtHEF0Ih9Bz8kfQZL+KEEc/wpBPS4GQdoUD0GcAQtBkqoLQR9ILEE4YAhBoXUDQcZRIEHiSRNBu2ALQcHeDkEwtStBm8UVQZQuKkH6axVBTdAcQQweGUGB1f5ARZUNQdSBDUEqsClBpaMjQaeoGkEFTRNBE0clQd09EkGr3S1BaY8ZQSxFFEFO6RpBimocQay7KUFUqAdB0LUVQamVEkGqwCZBRssbQXqAJUHI8SRBLNYiQd7KCkFmXyFBmGkIQdyAIUH3mApB1UApQfMCGEGY0S5B2xYtQbTLEEHY8PxAtH4VQdTdLkFx+QVBQGomQQwaDUGmKg5BPDkVQVEaCEHimhlBFkEAQUgDJEE=",
          "dtype": "f4"
         },
         "y": {
          "bdata": "U/iBQJTKxkCUB6hAlt+WQIf/mEBH3qVA8hHSQC+wzEAWMtRADr7JQEf8tEA9mqhA8NLLQJh5rEBu0KhAcJGyQNuMjkBoEaZAe/yfQM47xkCqH7BA0ISnQPgUvkDQHWdAuWq4QMtQiEARhplAJcrGQM4muUC5V3pAQHuXQFxAjkCKgVZAr5PKQAYz2ECP4b1A6OprQPwclED4W4FAzaW3QExzskAlfHZAI8a6QJ6ZnECfhJtA4+WxQFOPhkAkEqBApUN0QLkajEBXf5tAAaGaQMtwzUA7rZxA8lLDQH5FnEApSZNAVfWdQDpTnEBDYYVAtc2pQAjbvkBBB8tAQN7TQMr2h0DeD9FAeGPOQJkx3UCwTp1A+pzDQFq6lECnoZJAyEPPQLRemUDR7ntATw9oQD6qtUAiXK5AOGCxQNLttEDVAIZAHE99QFnCVkBhWZtArbeMQBBYn0AepqtAjOacQDQRZEDdtthAiO6hQKOcoECGYMFAWf6SQBiaiUA=",
          "dtype": "f4"
         },
         "z": {
          "bdata": "lJn7QOPhAUGdcQhBUBXwQMav/EAmJAVBcokEQTCg3kChlfdAnGb1QIyf/0CzVd9AdiDuQKiZ6UBi+wZBADzUQJqb/0DNhtdAl0XzQPeo8UAC/Q5BN70AQeQRDkGjqg5BUDYMQUB7BUGe4QRB2kINQVI85kDbjAdBBKj2QDPy2kAPJhFB6Av5QGz19EA20uxARvYHQZxM1kAzDQRBmKb2QGmx4kAb+wpBfIfZQJnM30DX4P9Aqn3OQPM4BkExLQJBCZQJQbIl5UCN9P9A2u3rQKDYCEFUz9lAAPLZQKAQBkE73ORAF7rcQDoMAUE1PPtAu1zKQEiG10ApJtlApdrjQOBXCUGtAfNALJ4JQQWU+kDELvpA8UvRQP2H5UAex85AgULdQJU11EAGzAZBSHULQWklCkEwx+VAkPn0QLCRA0EO/OdAeIT0QOk1DEG3egVBrKfYQFNV7kClCgBBI88KQU6nDEH4vANB+O/mQAxy2UC0sRFBWBQCQbZ85EA=",
          "dtype": "f4"
         }
        }
       ],
       "layout": {
        "annotations": [
         {
          "showarrow": false,
          "text": "Click on points to see full descriptions in browser console",
          "x": 0.5,
          "xanchor": "center",
          "xref": "paper",
          "y": 1.02,
          "yanchor": "bottom",
          "yref": "paper"
         }
        ],
        "height": 800,
        "scene": {
         "xaxis": {
          "title": {
           "text": "UMAP Component 1"
          }
         },
         "yaxis": {
          "title": {
           "text": "UMAP Component 2"
          }
         },
         "zaxis": {
          "title": {
           "text": "UMAP Component 3"
          }
         }
        },
        "showlegend": false,
        "template": {
         "data": {
          "bar": [
           {
            "error_x": {
             "color": "#2a3f5f"
            },
            "error_y": {
             "color": "#2a3f5f"
            },
            "marker": {
             "line": {
              "color": "#E5ECF6",
              "width": 0.5
             },
             "pattern": {
              "fillmode": "overlay",
              "size": 10,
              "solidity": 0.2
             }
            },
            "type": "bar"
           }
          ],
          "barpolar": [
           {
            "marker": {
             "line": {
              "color": "#E5ECF6",
              "width": 0.5
             },
             "pattern": {
              "fillmode": "overlay",
              "size": 10,
              "solidity": 0.2
             }
            },
            "type": "barpolar"
           }
          ],
          "carpet": [
           {
            "aaxis": {
             "endlinecolor": "#2a3f5f",
             "gridcolor": "white",
             "linecolor": "white",
             "minorgridcolor": "white",
             "startlinecolor": "#2a3f5f"
            },
            "baxis": {
             "endlinecolor": "#2a3f5f",
             "gridcolor": "white",
             "linecolor": "white",
             "minorgridcolor": "white",
             "startlinecolor": "#2a3f5f"
            },
            "type": "carpet"
           }
          ],
          "choropleth": [
           {
            "colorbar": {
             "outlinewidth": 0,
             "ticks": ""
            },
            "type": "choropleth"
           }
          ],
          "contour": [
           {
            "colorbar": {
             "outlinewidth": 0,
             "ticks": ""
            },
            "colorscale": [
             [
              0,
              "#0d0887"
             ],
             [
              0.1111111111111111,
              "#46039f"
             ],
             [
              0.2222222222222222,
              "#7201a8"
             ],
             [
              0.3333333333333333,
              "#9c179e"
             ],
             [
              0.4444444444444444,
              "#bd3786"
             ],
             [
              0.5555555555555556,
              "#d8576b"
             ],
             [
              0.6666666666666666,
              "#ed7953"
             ],
             [
              0.7777777777777778,
              "#fb9f3a"
             ],
             [
              0.8888888888888888,
              "#fdca26"
             ],
             [
              1,
              "#f0f921"
             ]
            ],
            "type": "contour"
           }
          ],
          "contourcarpet": [
           {
            "colorbar": {
             "outlinewidth": 0,
             "ticks": ""
            },
            "type": "contourcarpet"
           }
          ],
          "heatmap": [
           {
            "colorbar": {
             "outlinewidth": 0,
             "ticks": ""
            },
            "colorscale": [
             [
              0,
              "#0d0887"
             ],
             [
              0.1111111111111111,
              "#46039f"
             ],
             [
              0.2222222222222222,
              "#7201a8"
             ],
             [
              0.3333333333333333,
              "#9c179e"
             ],
             [
              0.4444444444444444,
              "#bd3786"
             ],
             [
              0.5555555555555556,
              "#d8576b"
             ],
             [
              0.6666666666666666,
              "#ed7953"
             ],
             [
              0.7777777777777778,
              "#fb9f3a"
             ],
             [
              0.8888888888888888,
              "#fdca26"
             ],
             [
              1,
              "#f0f921"
             ]
            ],
            "type": "heatmap"
           }
          ],
          "histogram": [
           {
            "marker": {
             "pattern": {
              "fillmode": "overlay",
              "size": 10,
              "solidity": 0.2
             }
            },
            "type": "histogram"
           }
          ],
          "histogram2d": [
           {
            "colorbar": {
             "outlinewidth": 0,
             "ticks": ""
            },
            "colorscale": [
             [
              0,
              "#0d0887"
             ],
             [
              0.1111111111111111,
              "#46039f"
             ],
             [
              0.2222222222222222,
              "#7201a8"
             ],
             [
              0.3333333333333333,
              "#9c179e"
             ],
             [
              0.4444444444444444,
              "#bd3786"
             ],
             [
              0.5555555555555556,
              "#d8576b"
             ],
             [
              0.6666666666666666,
              "#ed7953"
             ],
             [
              0.7777777777777778,
              "#fb9f3a"
             ],
             [
              0.8888888888888888,
              "#fdca26"
             ],
             [
              1,
              "#f0f921"
             ]
            ],
            "type": "histogram2d"
           }
          ],
          "histogram2dcontour": [
           {
            "colorbar": {
             "outlinewidth": 0,
             "ticks": ""
            },
            "colorscale": [
             [
              0,
              "#0d0887"
             ],
             [
              0.1111111111111111,
              "#46039f"
             ],
             [
              0.2222222222222222,
              "#7201a8"
             ],
             [
              0.3333333333333333,
              "#9c179e"
             ],
             [
              0.4444444444444444,
              "#bd3786"
             ],
             [
              0.5555555555555556,
              "#d8576b"
             ],
             [
              0.6666666666666666,
              "#ed7953"
             ],
             [
              0.7777777777777778,
              "#fb9f3a"
             ],
             [
              0.8888888888888888,
              "#fdca26"
             ],
             [
              1,
              "#f0f921"
             ]
            ],
            "type": "histogram2dcontour"
           }
          ],
          "mesh3d": [
           {
            "colorbar": {
             "outlinewidth": 0,
             "ticks": ""
            },
            "type": "mesh3d"
           }
          ],
          "parcoords": [
           {
            "line": {
             "colorbar": {
              "outlinewidth": 0,
              "ticks": ""
             }
            },
            "type": "parcoords"
           }
          ],
          "pie": [
           {
            "automargin": true,
            "type": "pie"
           }
          ],
          "scatter": [
           {
            "fillpattern": {
             "fillmode": "overlay",
             "size": 10,
             "solidity": 0.2
            },
            "type": "scatter"
           }
          ],
          "scatter3d": [
           {
            "line": {
             "colorbar": {
              "outlinewidth": 0,
              "ticks": ""
             }
            },
            "marker": {
             "colorbar": {
              "outlinewidth": 0,
              "ticks": ""
             }
            },
            "type": "scatter3d"
           }
          ],
          "scattercarpet": [
           {
            "marker": {
             "colorbar": {
              "outlinewidth": 0,
              "ticks": ""
             }
            },
            "type": "scattercarpet"
           }
          ],
          "scattergeo": [
           {
            "marker": {
             "colorbar": {
              "outlinewidth": 0,
              "ticks": ""
             }
            },
            "type": "scattergeo"
           }
          ],
          "scattergl": [
           {
            "marker": {
             "colorbar": {
              "outlinewidth": 0,
              "ticks": ""
             }
            },
            "type": "scattergl"
           }
          ],
          "scattermap": [
           {
            "marker": {
             "colorbar": {
              "outlinewidth": 0,
              "ticks": ""
             }
            },
            "type": "scattermap"
           }
          ],
          "scattermapbox": [
           {
            "marker": {
             "colorbar": {
              "outlinewidth": 0,
              "ticks": ""
             }
            },
            "type": "scattermapbox"
           }
          ],
          "scatterpolar": [
           {
            "marker": {
             "colorbar": {
              "outlinewidth": 0,
              "ticks": ""
             }
            },
            "type": "scatterpolar"
           }
          ],
          "scatterpolargl": [
           {
            "marker": {
             "colorbar": {
              "outlinewidth": 0,
              "ticks": ""
             }
            },
            "type": "scatterpolargl"
           }
          ],
          "scatterternary": [
           {
            "marker": {
             "colorbar": {
              "outlinewidth": 0,
              "ticks": ""
             }
            },
            "type": "scatterternary"
           }
          ],
          "surface": [
           {
            "colorbar": {
             "outlinewidth": 0,
             "ticks": ""
            },
            "colorscale": [
             [
              0,
              "#0d0887"
             ],
             [
              0.1111111111111111,
              "#46039f"
             ],
             [
              0.2222222222222222,
              "#7201a8"
             ],
             [
              0.3333333333333333,
              "#9c179e"
             ],
             [
              0.4444444444444444,
              "#bd3786"
             ],
             [
              0.5555555555555556,
              "#d8576b"
             ],
             [
              0.6666666666666666,
              "#ed7953"
             ],
             [
              0.7777777777777778,
              "#fb9f3a"
             ],
             [
              0.8888888888888888,
              "#fdca26"
             ],
             [
              1,
              "#f0f921"
             ]
            ],
            "type": "surface"
           }
          ],
          "table": [
           {
            "cells": {
             "fill": {
              "color": "#EBF0F8"
             },
             "line": {
              "color": "white"
             }
            },
            "header": {
             "fill": {
              "color": "#C8D4E3"
             },
             "line": {
              "color": "white"
             }
            },
            "type": "table"
           }
          ]
         },
         "layout": {
          "annotationdefaults": {
           "arrowcolor": "#2a3f5f",
           "arrowhead": 0,
           "arrowwidth": 1
          },
          "autotypenumbers": "strict",
          "coloraxis": {
           "colorbar": {
            "outlinewidth": 0,
            "ticks": ""
           }
          },
          "colorscale": {
           "diverging": [
            [
             0,
             "#8e0152"
            ],
            [
             0.1,
             "#c51b7d"
            ],
            [
             0.2,
             "#de77ae"
            ],
            [
             0.3,
             "#f1b6da"
            ],
            [
             0.4,
             "#fde0ef"
            ],
            [
             0.5,
             "#f7f7f7"
            ],
            [
             0.6,
             "#e6f5d0"
            ],
            [
             0.7,
             "#b8e186"
            ],
            [
             0.8,
             "#7fbc41"
            ],
            [
             0.9,
             "#4d9221"
            ],
            [
             1,
             "#276419"
            ]
           ],
           "sequential": [
            [
             0,
             "#0d0887"
            ],
            [
             0.1111111111111111,
             "#46039f"
            ],
            [
             0.2222222222222222,
             "#7201a8"
            ],
            [
             0.3333333333333333,
             "#9c179e"
            ],
            [
             0.4444444444444444,
             "#bd3786"
            ],
            [
             0.5555555555555556,
             "#d8576b"
            ],
            [
             0.6666666666666666,
             "#ed7953"
            ],
            [
             0.7777777777777778,
             "#fb9f3a"
            ],
            [
             0.8888888888888888,
             "#fdca26"
            ],
            [
             1,
             "#f0f921"
            ]
           ],
           "sequentialminus": [
            [
             0,
             "#0d0887"
            ],
            [
             0.1111111111111111,
             "#46039f"
            ],
            [
             0.2222222222222222,
             "#7201a8"
            ],
            [
             0.3333333333333333,
             "#9c179e"
            ],
            [
             0.4444444444444444,
             "#bd3786"
            ],
            [
             0.5555555555555556,
             "#d8576b"
            ],
            [
             0.6666666666666666,
             "#ed7953"
            ],
            [
             0.7777777777777778,
             "#fb9f3a"
            ],
            [
             0.8888888888888888,
             "#fdca26"
            ],
            [
             1,
             "#f0f921"
            ]
           ]
          },
          "colorway": [
           "#636efa",
           "#EF553B",
           "#00cc96",
           "#ab63fa",
           "#FFA15A",
           "#19d3f3",
           "#FF6692",
           "#B6E880",
           "#FF97FF",
           "#FECB52"
          ],
          "font": {
           "color": "#2a3f5f"
          },
          "geo": {
           "bgcolor": "white",
           "lakecolor": "white",
           "landcolor": "#E5ECF6",
           "showlakes": true,
           "showland": true,
           "subunitcolor": "white"
          },
          "hoverlabel": {
           "align": "left"
          },
          "hovermode": "closest",
          "mapbox": {
           "style": "light"
          },
          "paper_bgcolor": "white",
          "plot_bgcolor": "#E5ECF6",
          "polar": {
           "angularaxis": {
            "gridcolor": "white",
            "linecolor": "white",
            "ticks": ""
           },
           "bgcolor": "#E5ECF6",
           "radialaxis": {
            "gridcolor": "white",
            "linecolor": "white",
            "ticks": ""
           }
          },
          "scene": {
           "xaxis": {
            "backgroundcolor": "#E5ECF6",
            "gridcolor": "white",
            "gridwidth": 2,
            "linecolor": "white",
            "showbackground": true,
            "ticks": "",
            "zerolinecolor": "white"
           },
           "yaxis": {
            "backgroundcolor": "#E5ECF6",
            "gridcolor": "white",
            "gridwidth": 2,
            "linecolor": "white",
            "showbackground": true,
            "ticks": "",
            "zerolinecolor": "white"
           },
           "zaxis": {
            "backgroundcolor": "#E5ECF6",
            "gridcolor": "white",
            "gridwidth": 2,
            "linecolor": "white",
            "showbackground": true,
            "ticks": "",
            "zerolinecolor": "white"
           }
          },
          "shapedefaults": {
           "line": {
            "color": "#2a3f5f"
           }
          },
          "ternary": {
           "aaxis": {
            "gridcolor": "white",
            "linecolor": "white",
            "ticks": ""
           },
           "baxis": {
            "gridcolor": "white",
            "linecolor": "white",
            "ticks": ""
           },
           "bgcolor": "#E5ECF6",
           "caxis": {
            "gridcolor": "white",
            "linecolor": "white",
            "ticks": ""
           }
          },
          "title": {
           "x": 0.05
          },
          "xaxis": {
           "automargin": true,
           "gridcolor": "white",
           "linecolor": "white",
           "ticks": "",
           "title": {
            "standoff": 15
           },
           "zerolinecolor": "white",
           "zerolinewidth": 2
          },
          "yaxis": {
           "automargin": true,
           "gridcolor": "white",
           "linecolor": "white",
           "ticks": "",
           "title": {
            "standoff": 15
           },
           "zerolinecolor": "white",
           "zerolinewidth": 2
          }
         }
        },
        "title": {
         "text": "Population Visualization: UMAP 3D (Orange=Special, Blue=Regular)"
        },
        "width": 1200
       }
      }
     },
     "metadata": {},
     "output_type": "display_data"
    },
    {
     "name": "stdout",
     "output_type": "stream",
     "text": [
      "\n",
      "✅ Plots saved:\n",
      "   📁 population_pca_3d.html\n",
      "   📁 population_umap_3d.html\n",
      "\n",
      "💡 Hover over points to see names\n",
      "💡 Click on points to see full descriptions in browser console\n"
     ]
    }
   ],
   "source": [
    "import plotly.graph_objects as go\n",
    "import numpy as np\n",
    "from sklearn.decomposition import PCA\n",
    "from sklearn.preprocessing import StandardScaler\n",
    "import umap\n",
    "\n",
    "# Load population\n",
    "# Get users with embeddings\n",
    "users_with_embeddings = synthetic_population.get_users_with_embeddings()\n",
    "embeddings = np.array([user.embedding for user in users_with_embeddings])\n",
    "names = [user.name for user in users_with_embeddings]\n",
    "profiles = [user.taste_profile or \"No profile\" for user in users_with_embeddings]\n",
    "colors = ['orange' if user.special else 'blue' for user in users_with_embeddings]\n",
    "\n",
    "# Standardize embeddings\n",
    "scaler = StandardScaler()\n",
    "embeddings_scaled = scaler.fit_transform(embeddings)\n",
    "\n",
    "# Fit PCA 3D\n",
    "pca_3d = PCA(n_components=3, random_state=42)\n",
    "pca_coords = pca_3d.fit_transform(embeddings_scaled)\n",
    "\n",
    "# Fit UMAP 3D\n",
    "umap_3d = umap.UMAP(n_components=3, n_neighbors=min(40, len(users_with_embeddings)-1),\n",
    "                    min_dist=0.1, random_state=42)\n",
    "umap_coords = umap_3d.fit_transform(embeddings_scaled)\n",
    "\n",
    "# Create PCA plot\n",
    "fig_pca = go.Figure()\n",
    "fig_pca.add_trace(\n",
    "    go.Scatter3d(\n",
    "        x=pca_coords[:, 0],\n",
    "        y=pca_coords[:, 1],\n",
    "        z=pca_coords[:, 2],\n",
    "        mode='markers',\n",
    "        marker=dict(color=colors, size=8, opacity=0.8),\n",
    "        text=names,\n",
    "        customdata=profiles,\n",
    "        hovertemplate='<b>%{text}</b><extra></extra>',\n",
    "        name='Users'\n",
    "    )\n",
    ")\n",
    "\n",
    "fig_pca.update_layout(\n",
    "    title='Population Visualization: PCA 3D (Orange=Special, Blue=Regular)',\n",
    "    scene=dict(\n",
    "        xaxis_title='PCA Component 1',\n",
    "        yaxis_title='PCA Component 2',\n",
    "        zaxis_title='PCA Component 3'\n",
    "    ),\n",
    "    width=1200,\n",
    "    height=800,\n",
    "    showlegend=False\n",
    ")\n",
    "\n",
    "# Add click event handling for PCA\n",
    "fig_pca.update_layout(\n",
    "    annotations=[\n",
    "        dict(\n",
    "            text=\"Click on points to see full descriptions in browser console\",\n",
    "            showarrow=False,\n",
    "            xref=\"paper\", yref=\"paper\",\n",
    "            x=0.5, y=1.02, xanchor='center', yanchor='bottom'\n",
    "        )\n",
    "    ]\n",
    ")\n",
    "\n",
    "# Create UMAP plot\n",
    "fig_umap = go.Figure()\n",
    "fig_umap.add_trace(\n",
    "    go.Scatter3d(\n",
    "        x=umap_coords[:, 0],\n",
    "        y=umap_coords[:, 1],\n",
    "        z=umap_coords[:, 2],\n",
    "        mode='markers',\n",
    "        marker=dict(color=colors, size=8, opacity=0.8),\n",
    "        text=names,\n",
    "        customdata=profiles,\n",
    "        hovertemplate='<b>%{text}</b><extra></extra>',\n",
    "        name='Users'\n",
    "    )\n",
    ")\n",
    "\n",
    "fig_umap.update_layout(\n",
    "    title='Population Visualization: UMAP 3D (Orange=Special, Blue=Regular)',\n",
    "    scene=dict(\n",
    "        xaxis_title='UMAP Component 1',\n",
    "        yaxis_title='UMAP Component 2',\n",
    "        zaxis_title='UMAP Component 3'\n",
    "    ),\n",
    "    width=1200,\n",
    "    height=800,\n",
    "    showlegend=False\n",
    ")\n",
    "\n",
    "# Add click event handling for UMAP\n",
    "fig_umap.update_layout(\n",
    "    annotations=[\n",
    "        dict(\n",
    "            text=\"Click on points to see full descriptions in browser console\",\n",
    "            showarrow=False,\n",
    "            xref=\"paper\", yref=\"paper\",\n",
    "            x=0.5, y=1.02, xanchor='center', yanchor='bottom'\n",
    "        )\n",
    "    ]\n",
    ")\n",
    "\n",
    "# Save plots individually\n",
    "fig_pca.write_html('population_pca_3d.html')\n",
    "fig_umap.write_html('population_umap_3d.html')\n",
    "\n",
    "# Show plots\n",
    "print(\"📊 PCA 3D Plot:\")\n",
    "fig_pca.show()\n",
    "\n",
    "print(\"\\n📊 UMAP 3D Plot:\")\n",
    "fig_umap.show()\n",
    "\n",
    "print(f\"\\n✅ Plots saved:\")\n",
    "print(f\"   📁 population_pca_3d.html\")\n",
    "print(f\"   📁 population_umap_3d.html\")\n",
    "print(f\"\\n💡 Hover over points to see names\")\n",
    "print(f\"💡 Click on points to see full descriptions in browser console\")"
   ]
  },
  {
   "cell_type": "code",
   "execution_count": 18,
   "metadata": {},
   "outputs": [
    {
     "data": {
      "text/plain": [
       "[User(name='Ryan Mason', books=20, taste_profile=Yes, embedding=Yes, special=False),\n",
       " User(name='Jean Phillips', books=20, taste_profile=Yes, embedding=Yes, special=False),\n",
       " User(name='Kimberly Russell', books=20, taste_profile=Yes, embedding=Yes, special=False),\n",
       " User(name='Anthony Kent', books=20, taste_profile=Yes, embedding=Yes, special=False),\n",
       " User(name='Tom Brown', books=20, taste_profile=Yes, embedding=Yes, special=False),\n",
       " User(name='Susan Gibson', books=20, taste_profile=Yes, embedding=Yes, special=False),\n",
       " User(name='Brianna Chandler', books=20, taste_profile=Yes, embedding=Yes, special=False),\n",
       " User(name='Nicole Cooper', books=20, taste_profile=Yes, embedding=Yes, special=False),\n",
       " User(name='Catherine Dunn', books=20, taste_profile=Yes, embedding=Yes, special=False),\n",
       " User(name='Yahya Rahhawi', books=0, taste_profile=Yes, embedding=Yes, special=True)⭐]"
      ]
     },
     "execution_count": 18,
     "metadata": {},
     "output_type": "execute_result"
    }
   ],
   "source": [
    "synthetic_population.users[-10:]"
   ]
  },
  {
   "cell_type": "markdown",
   "metadata": {},
   "source": [
    "## 9. Finding Similar Users\n",
    "\n",
    "Let's demonstrate similarity search functionality."
   ]
  },
  {
   "cell_type": "code",
   "execution_count": 20,
   "metadata": {},
   "outputs": [
    {
     "name": "stdout",
     "output_type": "stream",
     "text": [
      "🔍 Finding users similar to: Yahya Rahhawi\n",
      "📝 Target profile: \n",
      "This individual possesses a deeply introspective and philosophical mind, consistently seeking profo...\n",
      "\n",
      "👥 Top 3 most similar users:\n",
      "  1. Ryan Mason (similarity: 0.948)\n",
      "     Profile: This individual possesses a deeply intellectual and philosophical nature, driven by a quest for understanding complex sy...\n",
      "\n",
      "  2. Heather Green (similarity: 0.947)\n",
      "     Profile: This person possesses a deeply intellectual and introspective nature, driven by a desire to understand the fundamental p...\n",
      "\n",
      "  3. Heather Moore (similarity: 0.946)\n",
      "     Profile: This individual possesses a deeply philosophical and introspective nature, constantly seeking meaning and understanding ...\n",
      "\n"
     ]
    }
   ],
   "source": [
    "# Find similar users to one in our population\n",
    "if len(users_with_embeddings) >= 3:\n",
    "    target_user = synthetic_population.get_special_users()[0]\n",
    "    print(f\"🔍 Finding users similar to: {target_user.name}\")\n",
    "    print(f\"📝 Target profile: {target_user.taste_profile[:100]}...\")\n",
    "    \n",
    "    similar_users = synthetic_population.find_similar_users(target_user, top_k=3)\n",
    "    \n",
    "    print(f\"\\n👥 Top 3 most similar users:\")\n",
    "    for i, (user, similarity) in enumerate(similar_users):\n",
    "        print(f\"  {i+1}. {user.name} (similarity: {similarity:.3f})\")\n",
    "        print(f\"     Profile: {user.taste_profile[:120]}...\")\n",
    "        print()"
   ]
  },
  {
   "cell_type": "code",
   "execution_count": 37,
   "metadata": {},
   "outputs": [
    {
     "name": "stdout",
     "output_type": "stream",
     "text": [
      "🔍 Searching for users similar to: 'They enjoy thoughtful science fiction that explores philosophical questions about humanity and technology.'\n",
      "\n",
      "👥 Top 3 most similar users:\n",
      "  1. Nicholas Hardy (similarity: 0.897)\n",
      "     Books: 20 rated\n",
      "     Profile: They are deeply introspective and intellectually curious, with a strong interest...\n",
      "\n",
      "  2. Christopher Kim (similarity: 0.888)\n",
      "     Books: 20 rated\n",
      "     Profile: They possess a thoughtful and introspective nature, drawn to works that explore ...\n",
      "\n",
      "  3. Samuel Cruz (similarity: 0.888)\n",
      "     Books: 20 rated\n",
      "     Profile: They possess a deep intellectual curiosity, favoring works that explore profound...\n",
      "\n"
     ]
    }
   ],
   "source": [
    "# Search by custom embedding\n",
    "if len(users_with_embeddings) >= 3:\n",
    "    custom_description = \"They enjoy thoughtful science fiction that explores philosophical questions about humanity and technology.\"\n",
    "    print(f\"🔍 Searching for users similar to: '{custom_description}'\")\n",
    "    \n",
    "    try:\n",
    "        # Generate embedding for the description\n",
    "        custom_embedding = embedding_gen.embed_text(custom_description)\n",
    "        \n",
    "        # Find similar users\n",
    "        similar_users = synthetic_population.find_similar_users_by_embedding(custom_embedding, top_k=3)\n",
    "        \n",
    "        print(f\"\\n👥 Top 3 most similar users:\")\n",
    "        for i, (user, similarity) in enumerate(similar_users):\n",
    "            print(f\"  {i+1}. {user.name} (similarity: {similarity:.3f})\")\n",
    "            print(f\"     Books: {len(user.preferences.books)} rated\")\n",
    "            print(f\"     Profile: {user.taste_profile[:80]}...\")\n",
    "            print()\n",
    "    except Exception as e:\n",
    "        print(f\"❌ Error in similarity search: {e}\")"
   ]
  },
  {
   "cell_type": "markdown",
   "metadata": {},
   "source": [
    "## 10. Adding New Users to Population\n",
    "\n",
    "Let's demonstrate how to add new users to an existing population and visualize them."
   ]
  },
  {
   "cell_type": "markdown",
   "metadata": {},
   "source": [
    "## 11. Saving and Loading Data\n",
    "\n",
    "Let's demonstrate how to save and load our population data."
   ]
  },
  {
   "cell_type": "code",
   "execution_count": 34,
   "metadata": {},
   "outputs": [
    {
     "name": "stderr",
     "output_type": "stream",
     "text": [
      "2025-08-15 01:31:13,014 - INFO - Saved population 'Generated Population (200 users)' with 207 users to demo_population.json\n"
     ]
    },
    {
     "name": "stdout",
     "output_type": "stream",
     "text": [
      "💾 Saving population to JSON...\n",
      "✅ Population saved!\n",
      "💾 Saving in legacy format...\n",
      "✅ Legacy format saved!\n"
     ]
    }
   ],
   "source": [
    "# Save the population\n",
    "print(\"💾 Saving population to JSON...\")\n",
    "synthetic_population.save_to_json('demo_population.json')\n",
    "\n",
    "print(\"✅ Population saved!\")\n",
    "\n",
    "# Also save in legacy format for compatibility\n",
    "print(\"💾 Saving in legacy format...\")\n",
    "synthetic_population.export_embeddings_only('demo_population_legacy.json')\n",
    "\n",
    "print(\"✅ Legacy format saved!\")"
   ]
  },
  {
   "cell_type": "code",
   "execution_count": null,
   "metadata": {},
   "outputs": [],
   "source": [
    "# Load the population back\n",
    "print(\"📁 Loading population from JSON...\")\n",
    "loaded_population = Population.load_from_json('demo_population.json')\n",
    "\n",
    "print(f\"✅ Loaded: {loaded_population}\")\n",
    "print(f\"\\n📊 Loaded Population Statistics:\")\n",
    "stats = loaded_population.get_statistics()\n",
    "for key, value in stats.items():\n",
    "    print(f\"  {key}: {value}\")\n",
    "\n",
    "# Verify data integrity\n",
    "original_users = len(synthetic_population.users)\n",
    "loaded_users = len(loaded_population.users)\n",
    "\n",
    "print(f\"\\n🔍 Data integrity check:\")\n",
    "print(f\"  Original users: {original_users}\")\n",
    "print(f\"  Loaded users: {loaded_users}\")\n",
    "print(f\"  Match: {'✅' if original_users == loaded_users else '❌'}\")"
   ]
  },
  {
   "cell_type": "markdown",
   "metadata": {},
   "source": [
    "## 12. Population Analysis\n",
    "\n",
    "Let's analyze our population using pandas DataFrames."
   ]
  },
  {
   "cell_type": "code",
   "execution_count": null,
   "metadata": {},
   "outputs": [],
   "source": [
    "# Convert population to DataFrame for analysis\n",
    "df = synthetic_population.to_dataframe()\n",
    "\n",
    "print(\"📊 Population DataFrame:\")\n",
    "print(df.head())\n",
    "\n",
    "print(f\"\\n📈 DataFrame shape: {df.shape}\")\n",
    "print(f\"\\n📋 Columns: {list(df.columns)}\")"
   ]
  },
  {
   "cell_type": "code",
   "execution_count": null,
   "metadata": {},
   "outputs": [],
   "source": [
    "# Analyze the data\n",
    "print(\"📊 Population Analysis:\")\n",
    "print(f\"\\n📚 Book Statistics:\")\n",
    "print(f\"  Average books per user: {df['num_books'].mean():.1f}\")\n",
    "print(f\"  Min books: {df['num_books'].min()}\")\n",
    "print(f\"  Max books: {df['num_books'].max()}\")\n",
    "\n",
    "if 'avg_book_rating' in df.columns:\n",
    "    avg_ratings = df['avg_book_rating'].dropna()\n",
    "    if len(avg_ratings) > 0:\n",
    "        print(f\"\\n⭐ Rating Statistics:\")\n",
    "        print(f\"  Average rating: {avg_ratings.mean():.2f}\")\n",
    "        print(f\"  Min average rating: {avg_ratings.min():.2f}\")\n",
    "        print(f\"  Max average rating: {avg_ratings.max():.2f}\")\n",
    "\n",
    "print(f\"\\n🧠 Profile Completion:\")\n",
    "print(f\"  Users with taste profiles: {df['has_taste_profile'].sum()}/{len(df)}\")\n",
    "print(f\"  Users with embeddings: {df['has_embedding'].sum()}/{len(df)}\")"
   ]
  },
  {
   "cell_type": "markdown",
   "metadata": {},
   "source": [
    "## 13. Advanced Features\n",
    "\n",
    "Let's demonstrate some advanced population features."
   ]
  },
  {
   "cell_type": "code",
   "execution_count": null,
   "metadata": {},
   "outputs": [],
   "source": [
    "# Split population for train/test\n",
    "if len(synthetic_population) > 4:\n",
    "    print(\"🔀 Splitting population into train/test sets...\")\n",
    "    \n",
    "    train_pop, test_pop = synthetic_population.split_population(ratio=0.7, shuffle=True)\n",
    "    \n",
    "    print(f\"✅ Train population: {train_pop}\")\n",
    "    print(f\"✅ Test population: {test_pop}\")\n",
    "    \n",
    "    print(f\"\\n📊 Split Statistics:\")\n",
    "    print(f\"  Original: {len(synthetic_population)} users\")\n",
    "    print(f\"  Train: {len(train_pop)} users ({len(train_pop)/len(synthetic_population)*100:.1f}%)\")\n",
    "    print(f\"  Test: {len(test_pop)} users ({len(test_pop)/len(synthetic_population)*100:.1f}%)\")\n",
    "else:\n",
    "    print(\"⚠️ Need more users to demonstrate population splitting\")"
   ]
  },
  {
   "cell_type": "code",
   "execution_count": null,
   "metadata": {},
   "outputs": [],
   "source": [
    "# Demonstrate merging populations\n",
    "if 'train_pop' in locals() and 'test_pop' in locals():\n",
    "    print(\"🔗 Demonstrating population merging...\")\n",
    "    \n",
    "    # Create a new population\n",
    "    merged_pop = Population(\"Merged Population\")\n",
    "    \n",
    "    # Merge train and test populations\n",
    "    merged_pop.merge_population(train_pop)\n",
    "    merged_pop.merge_population(test_pop)\n",
    "    \n",
    "    print(f\"✅ Merged population: {merged_pop}\")\n",
    "    print(f\"📊 Original: {len(synthetic_population)}, Merged: {len(merged_pop)}\")\n",
    "    print(f\"Match: {'✅' if len(synthetic_population) == len(merged_pop) else '❌'}\")"
   ]
  },
  {
   "cell_type": "markdown",
   "metadata": {},
   "source": [
    "## 14. Summary and Statistics\n",
    "\n",
    "Let's wrap up with a comprehensive summary of what we've accomplished."
   ]
  },
  {
   "cell_type": "code",
   "execution_count": null,
   "metadata": {},
   "outputs": [],
   "source": [
    "# Final statistics\n",
    "print(\"🎯 DEMO COMPLETE! 🎯\")\n",
    "print(\"=\" * 50)\n",
    "\n",
    "print(f\"\\n👥 Population Summary:\")\n",
    "print(f\"  Name: {synthetic_population.name}\")\n",
    "print(f\"  Total users: {len(synthetic_population)}\")\n",
    "print(f\"  Users with embeddings: {len(synthetic_population.get_users_with_embeddings())}\")\n",
    "print(f\"  Users with taste profiles: {len(synthetic_population.get_users_with_taste_profiles())}\")\n",
    "\n",
    "print(f\"\\n🤖 AI Usage Statistics:\")\n",
    "print(f\"  Profile Generator: {profile_gen}\")\n",
    "print(f\"  Embedding Generator: {embedding_gen}\")\n",
    "\n",
    "profile_stats = profile_gen.get_statistics()\n",
    "embedding_stats = embedding_gen.get_statistics()\n",
    "\n",
    "print(f\"\\n📊 API Usage:\")\n",
    "print(f\"  Profile generation requests: {profile_stats['total_requests']}\")\n",
    "print(f\"  Embedding generation requests: {embedding_stats['total_requests']}\")\n",
    "print(f\"  Total API calls: {profile_stats['total_requests'] + embedding_stats['total_requests']}\")\n",
    "\n",
    "if 'visualizer' in locals():\n",
    "    viz_stats = visualizer.get_method_statistics()\n",
    "    print(f\"\\n📈 Visualization:\")\n",
    "    print(f\"  Fitted methods: {viz_stats.get('fitted_methods', [])}\")\n",
    "    if 'pca_3d_explained_variance' in viz_stats:\n",
    "        print(f\"  PCA 3D explained variance: {viz_stats['pca_3d_explained_variance']:.3f}\")\n",
    "\n",
    "print(f\"\\n💾 Files Generated:\")\n",
    "generated_files = [\n",
    "    'demo_population.json',\n",
    "    'demo_population_legacy.json',\n",
    "    'pca_2d_visualization.html',\n",
    "    'umap_3d_visualization.html',\n",
    "    'population_with_new_user.html'\n",
    "]\n",
    "\n",
    "for file in generated_files:\n",
    "    if Path(file).exists():\n",
    "        print(f\"  ✅ {file}\")\n",
    "    else:\n",
    "        print(f\"  ❌ {file}\")\n",
    "\n",
    "print(f\"\\n🎉 Successfully demonstrated:\")\n",
    "demo_features = [\n",
    "    \"✅ User creation and management\",\n",
    "    \"✅ Synthetic user generation with AI\", \n",
    "    \"✅ Taste profile generation\",\n",
    "    \"✅ Embedding generation\",\n",
    "    \"✅ Population management\",\n",
    "    \"✅ Dimensionality reduction (PCA, t-SNE, UMAP)\",\n",
    "    \"✅ Interactive visualization\",\n",
    "    \"✅ Similarity search\",\n",
    "    \"✅ Adding new users to populations\",\n",
    "    \"✅ Data saving and loading\",\n",
    "    \"✅ Population analysis\"\n",
    "]\n",
    "\n",
    "for feature in demo_features:\n",
    "    print(f\"  {feature}\")\n",
    "\n",
    "print(f\"\\n🚀 The Mello ML Pipeline is ready for production!\")"
   ]
  }
 ],
 "metadata": {
  "kernelspec": {
   "display_name": "ml",
   "language": "python",
   "name": "python3"
  },
  "language_info": {
   "codemirror_mode": {
    "name": "ipython",
    "version": 3
   },
   "file_extension": ".py",
   "mimetype": "text/x-python",
   "name": "python",
   "nbconvert_exporter": "python",
   "pygments_lexer": "ipython3",
   "version": "3.12.0"
  }
 },
 "nbformat": 4,
 "nbformat_minor": 4
}
