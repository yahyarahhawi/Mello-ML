{
 "cells": [
  {
   "cell_type": "markdown",
   "metadata": {},
   "source": [
    "# Mello ML - Fresh Unified Personality System\n",
    "\n",
    "This notebook demonstrates the complete pipeline:\n",
    "- **Unified personality approach**: Cultural data informs personality traits\n",
    "- **768D embeddings**: Interests + 5 personality traits\n",
    "- **50 archetypes**: Diverse synthetic user generation\n",
    "- **Real user support**: Load from JSON files\n",
    "- **2D visualization**: PCA and UMAP plotting"
   ]
  },
  {
   "cell_type": "markdown",
   "metadata": {},
   "source": [
    "## 📦 Imports and Setup"
   ]
  },
  {
   "cell_type": "code",
   "execution_count": null,
   "metadata": {},
   "outputs": [],
   "source": [
    "# Fresh system components\n",
    "from src.user import User\n",
    "from src.profile_generator import ProfileGenerator\n",
    "from src.embedding_generator import EmbeddingGenerator\n",
    "from src.population import Population\n",
    "from src.visualizer import Visualizer"
   ]
  },
  {
   "cell_type": "markdown",
   "metadata": {},
   "source": [
    "## 🎭 Generate 50 Synthetic Users\n",
    "\n",
    "Creates diverse synthetic users using 50 personality archetypes with unified personality profiling."
   ]
  },
  {
   "cell_type": "code",
   "execution_count": null,
   "metadata": {},
   "outputs": [],
   "source": [
    "print(\"🎭 Generating 50 synthetic users with unified personality approach...\")\n",
    "print(\"This may take several minutes due to API calls...\")\n",
    "print()\n",
    "\n",
    "\n",
    "synthetic_users_generated = len(population.users)\n",
    "target_count = 158 + synthetic_users_generated\n",
    "\n",
    "for i in range(target_count):\n",
    "    print(f\"   Generating user {i+1}/{target_count}...\", end=\" \")\n",
    "    \n",
    "    try:\n",
    "        # Generate synthetic user data\n",
    "        user_data = profile_generator.generate_synthetic_user_data()\n",
    "        \n",
    "        if user_data:\n",
    "            # Create user from generated data\n",
    "            user = User.from_json_data(user_data)\n",
    "            \n",
    "            # Generate unified profiles (interests + personality)\n",
    "            profiles_success = profile_generator.generate_complete_profiles(user)\n",
    "            \n",
    "            if profiles_success:\n",
    "                # Generate embeddings (768D each)\n",
    "                embeddings_success = embedding_generator.embed_user_complete(user)\n",
    "                \n",
    "                if embeddings_success:\n",
    "                    population.add_user(user)\n",
    "                    synthetic_users_generated += 1\n",
    "                    archetype = user_data.get('metadata', {}).get('archetype', 'Unknown')\n",
    "                    print(f\"✅ {user.name} ({archetype[:30]}...)\")\n",
    "                else:\n",
    "                    print(f\"❌ Failed embeddings\")\n",
    "            else:\n",
    "                print(f\"❌ Failed profiles\")\n",
    "        else:\n",
    "            print(f\"❌ Failed data generation\")\n",
    "    \n",
    "    except Exception as e:\n",
    "        print(f\"❌ Error: {e}\")\n",
    "    \n",
    "    # Progress update every 10 users\n",
    "    if (i + 1) % 10 == 0:\n",
    "        print(f\"\\n📈 Progress: {synthetic_users_generated}/{i + 1} users completed\\n\")\n",
    "\n",
    "print(f\"\\n🎉 Synthetic user generation complete!\")\n",
    "print(f\"✅ Successfully generated: {synthetic_users_generated}/{target_count} users\")\n",
    "print(f\"📊 Success rate: {synthetic_users_generated/target_count*100:.1f}%\")\n",
    "print(f\"👥 Population size: {len(population)} users\")"
   ]
  },
  {
   "cell_type": "markdown",
   "metadata": {},
   "source": [
    "## 👤 Load Real User\n",
    "\n",
    "Loads a real user from JSON file and processes through the same pipeline."
   ]
  },
  {
   "cell_type": "code",
   "execution_count": null,
   "metadata": {},
   "outputs": [],
   "source": [
    "# Load real user from JSON file\n",
    "real_user_path = \"data/sofiia.json\"\n",
    "\n",
    "print(f\"👤 Loading real user from: {real_user_path}\")\n",
    "\n",
    "try:\n",
    "    # Load user from JSON\n",
    "    real_user = User.from_json_file(real_user_path)\n",
    "    real_user.special = True  # Mark as special for visualization\n",
    "    \n",
    "    print(f\"✅ Loaded user: {real_user.name}\")\n",
    "    print(f\"   Major: {real_user.profile_data.get('major', 'Unknown')}\")\n",
    "    print(f\"   Bio: {real_user.profile_data.get('bio', 'No bio')[:100]}...\")\n",
    "    print(f\"   Interests: {', '.join(real_user.profile_data.get('interests', [])[:5])}\")\n",
    "    \n",
    "    # Generate unified personality profile from cultural data\n",
    "    print(f\"\\n🔄 Processing {real_user.name} through unified pipeline...\")\n",
    "    print(f\"   1. Generating unified interests profile from cultural preferences...\")\n",
    "    \n",
    "    profiles_success = profile_generator.generate_complete_profiles(real_user)\n",
    "    \n",
    "    if profiles_success:\n",
    "        print(f\"   ✅ Generated unified profiles\")\n",
    "        \n",
    "        # Show profile preview\n",
    "        if real_user.interests_profile:\n",
    "            print(f\"   📖 Interests profile: {real_user.interests_profile[:150]}...\")\n",
    "        \n",
    "        if real_user.personality_profiles:\n",
    "            print(f\"   🧠 Personality traits: {list(real_user.personality_profiles.keys())}\")\n",
    "        \n",
    "        # Generate embeddings\n",
    "        print(f\"   2. Generating 768D embeddings...\")\n",
    "        embeddings_success = embedding_generator.embed_user_complete(real_user)\n",
    "        \n",
    "        if embeddings_success:\n",
    "            print(f\"   ✅ Generated embeddings (6 × 768D)\")\n",
    "            \n",
    "            # Verify embedding dimensions\n",
    "            combined = real_user.get_combined_embedding()\n",
    "            if combined is not None:\n",
    "                print(f\"   🔢 Combined embedding shape: {combined.shape}\")\n",
    "            \n",
    "            # Add to population\n",
    "            population.add_user(real_user)\n",
    "            print(f\"   ✅ Added to population\")\n",
    "            \n",
    "        else:\n",
    "            print(f\"   ❌ Failed to generate embeddings\")\n",
    "    else:\n",
    "        print(f\"   ❌ Failed to generate profiles\")\n",
    "\n",
    "except FileNotFoundError:\n",
    "    print(f\"❌ File not found: {real_user_path}\")\n",
    "    print(f\"   Please ensure the JSON file exists in the correct location\")\n",
    "except Exception as e:\n",
    "    print(f\"❌ Error loading real user: {e}\")\n",
    "\n",
    "print(f\"\\n👥 Final population: {len(population)} users\")\n",
    "print(f\"📊 Users with embeddings: {len(population.get_users_with_embeddings())}\")"
   ]
  },
  {
   "cell_type": "code",
   "execution_count": null,
   "metadata": {},
   "outputs": [],
   "source": [
    "#population = Population()\n",
    "#population = population.load_from_json(\"data/mello_population.json\")"
   ]
  },
  {
   "cell_type": "markdown",
   "metadata": {},
   "source": [
    "## 📊 Population Statistics\n",
    "\n",
    "Analyze the generated population and embedding quality."
   ]
  },
  {
   "cell_type": "code",
   "execution_count": 3,
   "metadata": {},
   "outputs": [
    {
     "name": "stdout",
     "output_type": "stream",
     "text": [
      "📊 Population Statistics\n",
      "==============================\n",
      "Total Users: 248\n",
      "Users with Profiles: 248\n",
      "Users with Embeddings: 240\n",
      "\n",
      "🔢 Embedding Dimensions:\n",
      "   interests_dims: 768D\n",
      "   trait_dims:\n",
      "     Openness: 768D\n",
      "     Conscientiousness: 768D\n",
      "     Extraversion: 768D\n",
      "     Agreeableness: 768D\n",
      "     Neuroticism: 768D\n",
      "   combined_dims: 4608D\n",
      "\n",
      "⭐ Special Users: 9\n",
      "   Yahya Rahhawi - Computer science, Philosophy\n",
      "   Einstein - Unknown major\n",
      "   Mary Curry - Unknown major\n",
      "   Bruce Wayne - Unknown major\n",
      "   Jimmy McGill - Unknown major\n",
      "   Leonardo da Vinci - Unknown major\n",
      "   Alyosha Karamazov - Unknown major\n",
      "   Sam Altman - Unknown major\n",
      "   Donald Trump - Unknown major\n",
      "\n",
      "🎯 Embedding Modes Available:\n",
      "   combined: 240 users, 4608D\n",
      "   interests: 240 users, 768D\n",
      "   Openness: 240 users, 768D\n",
      "   Conscientiousness: 240 users, 768D\n",
      "   Extraversion: 240 users, 768D\n",
      "   Agreeableness: 240 users, 768D\n",
      "   Neuroticism: 240 users, 768D\n"
     ]
    }
   ],
   "source": [
    "# Get population statistics\n",
    "stats = population.get_statistics()\n",
    "\n",
    "print(\"📊 Population Statistics\")\n",
    "print(\"=\" * 30)\n",
    "#print(f\"Population Name: {stats['population_name']}\")\n",
    "print(f\"Total Users: {stats['total_users']}\")\n",
    "print(f\"Users with Profiles: {stats['users_with_profiles']}\")\n",
    "print(f\"Users with Embeddings: {stats['users_with_embeddings']}\")\n",
    "\n",
    "if stats['embedding_stats']:\n",
    "    print(f\"\\n🔢 Embedding Dimensions:\")\n",
    "    for key, value in stats['embedding_stats'].items():\n",
    "        if isinstance(value, int):\n",
    "            print(f\"   {key}: {value}D\")\n",
    "        elif isinstance(value, dict):\n",
    "            print(f\"   {key}:\")\n",
    "            for trait, dims in value.items():\n",
    "                print(f\"     {trait}: {dims}D\")\n",
    "\n",
    "# Find special users\n",
    "special_users = [user for user in population.users if user.special]\n",
    "print(f\"\\n⭐ Special Users: {len(special_users)}\")\n",
    "for user in special_users:\n",
    "    print(f\"   {user.name} - {user.profile_data.get('major', 'Unknown major')}\")\n",
    "\n",
    "# Embedding summary\n",
    "embedding_summary = visualizer.create_embedding_summary(population)\n",
    "print(f\"\\n🎯 Embedding Modes Available:\")\n",
    "for mode, info in embedding_summary['embedding_modes'].items():\n",
    "    if 'users_count' in info and info['users_count'] > 0:\n",
    "        print(f\"   {mode}: {info['users_count']} users, {info.get('dimensions', '?')}D\")"
   ]
  },
  {
   "cell_type": "markdown",
   "metadata": {},
   "source": [
    "## 🔍 Similarity Analysis\n",
    "\n",
    "Test similarity search with the real user (if loaded)."
   ]
  },
  {
   "cell_type": "code",
   "execution_count": 9,
   "metadata": {},
   "outputs": [
    {
     "name": "stdout",
     "output_type": "stream",
     "text": [
      "⚠️  Cannot perform similarity analysis:\n",
      "   - No real user loaded (special=True)\n"
     ]
    }
   ],
   "source": [
    "# Find the real user for similarity testing\n",
    "real_user = None\n",
    "for user in population.users:\n",
    "    if user.special and user.name == \"Sofiia\":\n",
    "        real_user = user\n",
    "        break\n",
    "\n",
    "if real_user and len(population.get_users_with_embeddings()) >= 5:\n",
    "    print(f\"🔍 Similarity Analysis for {real_user.name}\")\n",
    "    print(\"=\" * 50)\n",
    "    \n",
    "    # Combined similarity (all embeddings)\n",
    "    print(f\"\\n🎯 Most Similar Users (Combined Embeddings):\")\n",
    "    similar_combined = population.find_similar_users(real_user, mode='combined', top_k=5)\n",
    "    \n",
    "    for i, (similar_user, score) in enumerate(similar_combined, 1):\n",
    "        archetype = similar_user.metadata.get('original_data', {}).get('metadata', {}).get('archetype', 'Unknown')\n",
    "        print(f\"   {i}. {similar_user.name}: {score:.3f} ({archetype[:40]}...)\")\n",
    "    \n",
    "    # Interests similarity\n",
    "    print(f\"\\n📚 Most Similar Users (Interests Only):\")\n",
    "    similar_interests = population.find_similar_users(real_user, mode='interests', top_k=5)\n",
    "    \n",
    "    for i, (similar_user, score) in enumerate(similar_interests, 1):\n",
    "        archetype = similar_user.metadata.get('original_data', {}).get('metadata', {}).get('archetype', 'Unknown')\n",
    "        print(f\"   {i}. {similar_user.name}: {score:.3f} ({archetype[:40]}...)\")\n",
    "    \n",
    "    # Trait-specific similarities\n",
    "    print(f\"\\n🧠 Trait-Specific Most Similar Users:\")\n",
    "    traits = ['Openness', 'Conscientiousness', 'Extraversion', 'Agreeableness', 'Neuroticism']\n",
    "    \n",
    "    for trait in traits:\n",
    "        try:\n",
    "            similar_trait = population.find_similar_users(real_user, mode=trait, top_k=1)\n",
    "            if similar_trait:\n",
    "                most_similar, score = similar_trait[0]\n",
    "                print(f\"   {trait}: {most_similar.name} ({score:.3f})\")\n",
    "        except Exception as e:\n",
    "            print(f\"   {trait}: Error - {str(e)[:50]}...\")\n",
    "\n",
    "else:\n",
    "    print(f\"⚠️  Cannot perform similarity analysis:\")\n",
    "    if not real_user:\n",
    "        print(f\"   - No real user loaded (special=True)\")\n",
    "    if len(population.get_users_with_embeddings()) < 5:\n",
    "        print(f\"   - Need at least 5 users with embeddings (have {len(population.get_users_with_embeddings())})\")"
   ]
  },
  {
   "cell_type": "code",
   "execution_count": 10,
   "metadata": {},
   "outputs": [
    {
     "name": "stdout",
     "output_type": "stream",
     "text": [
      "📊 Interactive Plotly Population Visualization\n",
      "Users with embeddings: 255\n",
      "Similarity metric: Euclidean Distance (L2 norm, normalized)\n",
      "\n",
      "📚 Creating Plotly PCA - Interests Embeddings (768D → 2D):\n"
     ]
    },
    {
     "data": {
      "application/vnd.plotly.v1+json": {
       "config": {
        "plotlyServerURL": "https://plot.ly"
       },
       "data": [
        {
         "hovertemplate": "<b>%{hovertext}</b><extra></extra>",
         "hovertext": [
          "William Castaneda",
          "Michelle \"MJ\" Jones",
          "Jamie Chen",
          "Raymond Ortiz",
          "Sarah Chen",
          "Susan West",
          "Daniel Mercer",
          "Brian Thornton",
          "Heather Jimenez",
          "Emily Parsons",
          "Beth Clarke",
          "Gina Villanueva",
          "Olivia Chen",
          "Olivia Chen",
          "Carl Snow",
          "Anya Sharma",
          "Nicholas Russo",
          "Mary Ball",
          "Chloe Nguyen",
          "Erin Thomas",
          "Micheal Roy",
          "Stacy Anderson",
          "Elena Rodriguez",
          "Billy Morales",
          "Kevin Green",
          "Timothy Stewart",
          "Lena Petrova",
          "Wren Kestrel",
          "Eliza Vance",
          "Benjamin Jones",
          "Elizabeth Williams",
          "Tommy Barker",
          "Sandra Kemp",
          "Allison Brown",
          "Selena Garcia",
          "Bryan Chambers",
          "Amanda Reynolds",
          "Jeffrey Horn",
          "Ace Rodriguez",
          "Daniel Williams",
          "Kimberly King",
          "James Vargas",
          "Beth Kelly",
          "Cheryl Glass",
          "Amber Bradley",
          "Helen Gomez",
          "Chelsea Bird",
          "Alexander Tucker",
          "Robert Hill",
          "Donna Miller",
          "Alyssa Roberts",
          "Tammy Henderson",
          "Linda Perez",
          "Nicole Fisher",
          "Robert Campbell",
          "Jennifer Cummings",
          "Russell Gross",
          "Krystal Mckenzie",
          "Jessica Acevedo",
          "Eliza \"Sunshine\" Vance",
          "Sarah Jenkins",
          "Kristen Alvarez",
          "Heather Luna",
          "Dr. Jordan Shannon",
          "Dustin Mullen",
          "Beverly Love",
          "William Foster",
          "Jerry Stanley",
          "Joshua Hatfield",
          "Nicholas Williams",
          "Michelle Rogers",
          "Elara Vance",
          "Daniel Porter",
          "Maya Rodriguez",
          "Angela Scott",
          "Jennifer Ray",
          "Edward Dominguez",
          "Maurice Nichols",
          "Christopher Jones",
          "Evelyn Thorne",
          "Dawn Howard",
          "Jennifer Mercado",
          "Amelia Hayes",
          "Ethan Vance",
          "Elara Meadowlight (legally John Rogers)",
          "Edward Stephens II",
          "Alice Chen",
          "Brenda Santos",
          "Stella Maris",
          "Joshua Parker",
          "Eleanor Vance",
          "Spencer White",
          "Kimberly Parrish",
          "Ryan Carey",
          "Yesenia Whitney",
          "Brent Contreras",
          "Raymond Martin",
          "Cindy Ramirez",
          "Elizabeth Webb",
          "Mitchell Navarro",
          "Denise Robinson",
          "Larry Rivers",
          "Richard Sims",
          "Tammy Mckee",
          "Amanda Padilla",
          "Dominique Turner",
          "Caroline Thompson",
          "Sarah Chen",
          "Cheryl Erickson",
          "Anya Sharma",
          "Debbie Combs",
          "Andrew Franco",
          "Holly Robbins",
          "Kimberly Brady",
          "William Frey",
          "Andrew \"Aethelred\" Sterling",
          "Sheila Clark",
          "Samuel Morrison",
          "Ryan Lee",
          "Jeffrey Rojas",
          "Russell Curtis",
          "Katherine Hall",
          "Jacob Smith",
          "Katie Collier",
          "James Lamb",
          "Darlene Lawrence",
          "Luna Skye Hawthorne",
          "Erik Peterson",
          "Lisa Mitchell",
          "Luna Seraphina Willow",
          "Aurora Vance",
          "Jason Mckinney",
          "Jamie Gonzales",
          "Tiffany Moody",
          "Maria Vazquez",
          "Carlos Torres",
          "Justin Miller",
          "Jose Ellison",
          "Blake Lawrence",
          "Christopher Travis",
          "Kenneth Escobar",
          "Sarah Shaffer",
          "Jesse Holland",
          "Anne Peterson",
          "Elara Vance",
          "Michael Watson",
          "Linda Garcia",
          "Andrea Davis",
          "Thomas Webster",
          "Lilith Thorne",
          "Jennifer Wolfe",
          "Linda Richardson",
          "Jerry Rogers II",
          "Jill Nolan",
          "William Morrison",
          "Andrew Johnson",
          "Jamie Woodward",
          "Clara Ellison",
          "John Bishop",
          "Maya Rodriguez",
          "Devin Harris",
          "Sarah Chen",
          "Rebecca Sanchez",
          "Cameron Avery",
          "Laura Graham",
          "Elara Vance",
          "Sarah Chen",
          "Elara Vance",
          "Kristina Marshall",
          "Larry Rodriguez",
          "Robert Harrell",
          "Albert Hunt",
          "Clara Bellewood",
          "Chloe Nguyen",
          "Adam Woodard",
          "Akari Tanaka",
          "Jennifer Butler",
          "Amelia Vance",
          "Sabrina George",
          "Lyra Meadowsweet",
          "Helena Vance",
          "Victoria Martinez",
          "Mindy Lee",
          "Carla Williams",
          "Robert Ochoa",
          "Cesar Yoder",
          "Kelly Nash",
          "Crystal Hall",
          "Maya Angelou",
          "Ashley Austin",
          "Tiffany Goodman",
          "Kimberly Morales",
          "Amanda Christensen",
          "Heather Barnes",
          "Luna \"Hex\" Blackwood",
          "Christine Long",
          "Angela Martinez",
          "Anya Petrova",
          "Lindsey Gray",
          "Elara Vance",
          "Jeremy Kennedy",
          "Larry Wilson",
          "Richard Yang",
          "Carrie Taylor",
          "Laura Wall",
          "Terri Murphy",
          "Anya Sharma",
          "Maya Rodriguez",
          "Maya Rodriguez",
          "Elena Rossi",
          "Shirley Henderson",
          "Dennis Wallace",
          "Miguel Johnston",
          "Madison Brooks",
          "Sean Stone",
          "Brian Acosta",
          "Lawrence Avila",
          "Elara Meadowlight",
          "Stephen Bryant",
          "Olivia Chang",
          "Eric Thompson",
          "Linda Lee",
          "Angela Ortiz",
          "William Carpenter",
          "Kari Clark",
          "Ella Sanchez",
          "Jennifer Glover",
          "Luna Maeve",
          "Lori Butler",
          "Liam Vance",
          "Luna Everhart",
          "Anna Price",
          "Julie Fischer",
          "Chloe Davis",
          "Glen Harris",
          "Anya Sharma",
          "Dylan Phillips",
          "Ricardo Warren",
          "Deborah Johnson"
         ],
         "marker": {
          "color": "lightblue",
          "line": {
           "color": "darkblue",
           "width": 1
          },
          "opacity": 0.7,
          "size": 8
         },
         "mode": "markers",
         "name": "Users (239)",
         "type": "scatter",
         "x": {
          "bdata": "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",
          "dtype": "f8"
         },
         "y": {
          "bdata": "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",
          "dtype": "f8"
         }
        },
        {
         "hovertemplate": "<b>%{hovertext}</b><extra></extra>",
         "hovertext": [
          "Yahya Rahhawi",
          "Nikola Tesla",
          "Ada Lovelace",
          "Alan Turing",
          "Aristotle",
          "Nelson Mandela",
          "Mahatma Gandhi",
          "Cleopatra",
          "Steve Jobs",
          "Elon Musk",
          "Sherlock Holmes",
          "Tony Stark",
          "Walter White",
          "Leonardo da Vinci",
          "Greta Thunberg",
          "Sofiia "
         ],
         "marker": {
          "color": "red",
          "line": {
           "color": "darkred",
           "width": 2
          },
          "opacity": 0.9,
          "size": 15,
          "symbol": "star"
         },
         "mode": "markers",
         "name": "Special Users (16)",
         "type": "scatter",
         "x": {
          "bdata": "7U9HpyR5EMCVEbv/AO0HwB/E71d38R7A1CXH1tANLcBgJy4PPBInwCX98uZQFCdACfeUr8sxFUDjgdoO8qkgwATNtRhJEgxAGYbxFM2d6D/a7dZ9rgItwE6OsOAH1CPArWukCUUSJcAOG9Ya0TwpwKY29BXyZR/A+guCb68/HMA=",
          "dtype": "f8"
         },
         "y": {
          "bdata": "jXH3whKVG0A3VtX1MngEQCGsfOBM1wfAWjBGEODx9L+RDP2CgckPwCIboidMywjA1Hm+R+caCsA8iBohDw4vwJq0BkFBFy3Agzxzc4PQK8ARQg2TYowPwPHDhdMBsSzAr4dFd433IsBLOBmZ5hHmP1UzXQCYRgvAjRwMxkzIHEA=",
          "dtype": "f8"
         }
        }
       ],
       "layout": {
        "annotations": [
         {
          "bgcolor": "rgba(255,255,255,0.8)",
          "bordercolor": "rgba(0,0,0,0.5)",
          "borderwidth": 1,
          "font": {
           "size": 12
          },
          "showarrow": false,
          "text": "Total variance explained: 21.3%<br>Similarity metric: Euclidean Distance",
          "x": 0.02,
          "xanchor": "left",
          "xref": "paper",
          "y": 0.98,
          "yanchor": "top",
          "yref": "paper"
         }
        ],
        "height": 640,
        "hovermode": "closest",
        "showlegend": true,
        "template": {
         "data": {
          "bar": [
           {
            "error_x": {
             "color": "#2a3f5f"
            },
            "error_y": {
             "color": "#2a3f5f"
            },
            "marker": {
             "line": {
              "color": "#E5ECF6",
              "width": 0.5
             },
             "pattern": {
              "fillmode": "overlay",
              "size": 10,
              "solidity": 0.2
             }
            },
            "type": "bar"
           }
          ],
          "barpolar": [
           {
            "marker": {
             "line": {
              "color": "#E5ECF6",
              "width": 0.5
             },
             "pattern": {
              "fillmode": "overlay",
              "size": 10,
              "solidity": 0.2
             }
            },
            "type": "barpolar"
           }
          ],
          "carpet": [
           {
            "aaxis": {
             "endlinecolor": "#2a3f5f",
             "gridcolor": "white",
             "linecolor": "white",
             "minorgridcolor": "white",
             "startlinecolor": "#2a3f5f"
            },
            "baxis": {
             "endlinecolor": "#2a3f5f",
             "gridcolor": "white",
             "linecolor": "white",
             "minorgridcolor": "white",
             "startlinecolor": "#2a3f5f"
            },
            "type": "carpet"
           }
          ],
          "choropleth": [
           {
            "colorbar": {
             "outlinewidth": 0,
             "ticks": ""
            },
            "type": "choropleth"
           }
          ],
          "contour": [
           {
            "colorbar": {
             "outlinewidth": 0,
             "ticks": ""
            },
            "colorscale": [
             [
              0,
              "#0d0887"
             ],
             [
              0.1111111111111111,
              "#46039f"
             ],
             [
              0.2222222222222222,
              "#7201a8"
             ],
             [
              0.3333333333333333,
              "#9c179e"
             ],
             [
              0.4444444444444444,
              "#bd3786"
             ],
             [
              0.5555555555555556,
              "#d8576b"
             ],
             [
              0.6666666666666666,
              "#ed7953"
             ],
             [
              0.7777777777777778,
              "#fb9f3a"
             ],
             [
              0.8888888888888888,
              "#fdca26"
             ],
             [
              1,
              "#f0f921"
             ]
            ],
            "type": "contour"
           }
          ],
          "contourcarpet": [
           {
            "colorbar": {
             "outlinewidth": 0,
             "ticks": ""
            },
            "type": "contourcarpet"
           }
          ],
          "heatmap": [
           {
            "colorbar": {
             "outlinewidth": 0,
             "ticks": ""
            },
            "colorscale": [
             [
              0,
              "#0d0887"
             ],
             [
              0.1111111111111111,
              "#46039f"
             ],
             [
              0.2222222222222222,
              "#7201a8"
             ],
             [
              0.3333333333333333,
              "#9c179e"
             ],
             [
              0.4444444444444444,
              "#bd3786"
             ],
             [
              0.5555555555555556,
              "#d8576b"
             ],
             [
              0.6666666666666666,
              "#ed7953"
             ],
             [
              0.7777777777777778,
              "#fb9f3a"
             ],
             [
              0.8888888888888888,
              "#fdca26"
             ],
             [
              1,
              "#f0f921"
             ]
            ],
            "type": "heatmap"
           }
          ],
          "histogram": [
           {
            "marker": {
             "pattern": {
              "fillmode": "overlay",
              "size": 10,
              "solidity": 0.2
             }
            },
            "type": "histogram"
           }
          ],
          "histogram2d": [
           {
            "colorbar": {
             "outlinewidth": 0,
             "ticks": ""
            },
            "colorscale": [
             [
              0,
              "#0d0887"
             ],
             [
              0.1111111111111111,
              "#46039f"
             ],
             [
              0.2222222222222222,
              "#7201a8"
             ],
             [
              0.3333333333333333,
              "#9c179e"
             ],
             [
              0.4444444444444444,
              "#bd3786"
             ],
             [
              0.5555555555555556,
              "#d8576b"
             ],
             [
              0.6666666666666666,
              "#ed7953"
             ],
             [
              0.7777777777777778,
              "#fb9f3a"
             ],
             [
              0.8888888888888888,
              "#fdca26"
             ],
             [
              1,
              "#f0f921"
             ]
            ],
            "type": "histogram2d"
           }
          ],
          "histogram2dcontour": [
           {
            "colorbar": {
             "outlinewidth": 0,
             "ticks": ""
            },
            "colorscale": [
             [
              0,
              "#0d0887"
             ],
             [
              0.1111111111111111,
              "#46039f"
             ],
             [
              0.2222222222222222,
              "#7201a8"
             ],
             [
              0.3333333333333333,
              "#9c179e"
             ],
             [
              0.4444444444444444,
              "#bd3786"
             ],
             [
              0.5555555555555556,
              "#d8576b"
             ],
             [
              0.6666666666666666,
              "#ed7953"
             ],
             [
              0.7777777777777778,
              "#fb9f3a"
             ],
             [
              0.8888888888888888,
              "#fdca26"
             ],
             [
              1,
              "#f0f921"
             ]
            ],
            "type": "histogram2dcontour"
           }
          ],
          "mesh3d": [
           {
            "colorbar": {
             "outlinewidth": 0,
             "ticks": ""
            },
            "type": "mesh3d"
           }
          ],
          "parcoords": [
           {
            "line": {
             "colorbar": {
              "outlinewidth": 0,
              "ticks": ""
             }
            },
            "type": "parcoords"
           }
          ],
          "pie": [
           {
            "automargin": true,
            "type": "pie"
           }
          ],
          "scatter": [
           {
            "fillpattern": {
             "fillmode": "overlay",
             "size": 10,
             "solidity": 0.2
            },
            "type": "scatter"
           }
          ],
          "scatter3d": [
           {
            "line": {
             "colorbar": {
              "outlinewidth": 0,
              "ticks": ""
             }
            },
            "marker": {
             "colorbar": {
              "outlinewidth": 0,
              "ticks": ""
             }
            },
            "type": "scatter3d"
           }
          ],
          "scattercarpet": [
           {
            "marker": {
             "colorbar": {
              "outlinewidth": 0,
              "ticks": ""
             }
            },
            "type": "scattercarpet"
           }
          ],
          "scattergeo": [
           {
            "marker": {
             "colorbar": {
              "outlinewidth": 0,
              "ticks": ""
             }
            },
            "type": "scattergeo"
           }
          ],
          "scattergl": [
           {
            "marker": {
             "colorbar": {
              "outlinewidth": 0,
              "ticks": ""
             }
            },
            "type": "scattergl"
           }
          ],
          "scattermap": [
           {
            "marker": {
             "colorbar": {
              "outlinewidth": 0,
              "ticks": ""
             }
            },
            "type": "scattermap"
           }
          ],
          "scattermapbox": [
           {
            "marker": {
             "colorbar": {
              "outlinewidth": 0,
              "ticks": ""
             }
            },
            "type": "scattermapbox"
           }
          ],
          "scatterpolar": [
           {
            "marker": {
             "colorbar": {
              "outlinewidth": 0,
              "ticks": ""
             }
            },
            "type": "scatterpolar"
           }
          ],
          "scatterpolargl": [
           {
            "marker": {
             "colorbar": {
              "outlinewidth": 0,
              "ticks": ""
             }
            },
            "type": "scatterpolargl"
           }
          ],
          "scatterternary": [
           {
            "marker": {
             "colorbar": {
              "outlinewidth": 0,
              "ticks": ""
             }
            },
            "type": "scatterternary"
           }
          ],
          "surface": [
           {
            "colorbar": {
             "outlinewidth": 0,
             "ticks": ""
            },
            "colorscale": [
             [
              0,
              "#0d0887"
             ],
             [
              0.1111111111111111,
              "#46039f"
             ],
             [
              0.2222222222222222,
              "#7201a8"
             ],
             [
              0.3333333333333333,
              "#9c179e"
             ],
             [
              0.4444444444444444,
              "#bd3786"
             ],
             [
              0.5555555555555556,
              "#d8576b"
             ],
             [
              0.6666666666666666,
              "#ed7953"
             ],
             [
              0.7777777777777778,
              "#fb9f3a"
             ],
             [
              0.8888888888888888,
              "#fdca26"
             ],
             [
              1,
              "#f0f921"
             ]
            ],
            "type": "surface"
           }
          ],
          "table": [
           {
            "cells": {
             "fill": {
              "color": "#EBF0F8"
             },
             "line": {
              "color": "white"
             }
            },
            "header": {
             "fill": {
              "color": "#C8D4E3"
             },
             "line": {
              "color": "white"
             }
            },
            "type": "table"
           }
          ]
         },
         "layout": {
          "annotationdefaults": {
           "arrowcolor": "#2a3f5f",
           "arrowhead": 0,
           "arrowwidth": 1
          },
          "autotypenumbers": "strict",
          "coloraxis": {
           "colorbar": {
            "outlinewidth": 0,
            "ticks": ""
           }
          },
          "colorscale": {
           "diverging": [
            [
             0,
             "#8e0152"
            ],
            [
             0.1,
             "#c51b7d"
            ],
            [
             0.2,
             "#de77ae"
            ],
            [
             0.3,
             "#f1b6da"
            ],
            [
             0.4,
             "#fde0ef"
            ],
            [
             0.5,
             "#f7f7f7"
            ],
            [
             0.6,
             "#e6f5d0"
            ],
            [
             0.7,
             "#b8e186"
            ],
            [
             0.8,
             "#7fbc41"
            ],
            [
             0.9,
             "#4d9221"
            ],
            [
             1,
             "#276419"
            ]
           ],
           "sequential": [
            [
             0,
             "#0d0887"
            ],
            [
             0.1111111111111111,
             "#46039f"
            ],
            [
             0.2222222222222222,
             "#7201a8"
            ],
            [
             0.3333333333333333,
             "#9c179e"
            ],
            [
             0.4444444444444444,
             "#bd3786"
            ],
            [
             0.5555555555555556,
             "#d8576b"
            ],
            [
             0.6666666666666666,
             "#ed7953"
            ],
            [
             0.7777777777777778,
             "#fb9f3a"
            ],
            [
             0.8888888888888888,
             "#fdca26"
            ],
            [
             1,
             "#f0f921"
            ]
           ],
           "sequentialminus": [
            [
             0,
             "#0d0887"
            ],
            [
             0.1111111111111111,
             "#46039f"
            ],
            [
             0.2222222222222222,
             "#7201a8"
            ],
            [
             0.3333333333333333,
             "#9c179e"
            ],
            [
             0.4444444444444444,
             "#bd3786"
            ],
            [
             0.5555555555555556,
             "#d8576b"
            ],
            [
             0.6666666666666666,
             "#ed7953"
            ],
            [
             0.7777777777777778,
             "#fb9f3a"
            ],
            [
             0.8888888888888888,
             "#fdca26"
            ],
            [
             1,
             "#f0f921"
            ]
           ]
          },
          "colorway": [
           "#636efa",
           "#EF553B",
           "#00cc96",
           "#ab63fa",
           "#FFA15A",
           "#19d3f3",
           "#FF6692",
           "#B6E880",
           "#FF97FF",
           "#FECB52"
          ],
          "font": {
           "color": "#2a3f5f"
          },
          "geo": {
           "bgcolor": "white",
           "lakecolor": "white",
           "landcolor": "#E5ECF6",
           "showlakes": true,
           "showland": true,
           "subunitcolor": "white"
          },
          "hoverlabel": {
           "align": "left"
          },
          "hovermode": "closest",
          "mapbox": {
           "style": "light"
          },
          "paper_bgcolor": "white",
          "plot_bgcolor": "#E5ECF6",
          "polar": {
           "angularaxis": {
            "gridcolor": "white",
            "linecolor": "white",
            "ticks": ""
           },
           "bgcolor": "#E5ECF6",
           "radialaxis": {
            "gridcolor": "white",
            "linecolor": "white",
            "ticks": ""
           }
          },
          "scene": {
           "xaxis": {
            "backgroundcolor": "#E5ECF6",
            "gridcolor": "white",
            "gridwidth": 2,
            "linecolor": "white",
            "showbackground": true,
            "ticks": "",
            "zerolinecolor": "white"
           },
           "yaxis": {
            "backgroundcolor": "#E5ECF6",
            "gridcolor": "white",
            "gridwidth": 2,
            "linecolor": "white",
            "showbackground": true,
            "ticks": "",
            "zerolinecolor": "white"
           },
           "zaxis": {
            "backgroundcolor": "#E5ECF6",
            "gridcolor": "white",
            "gridwidth": 2,
            "linecolor": "white",
            "showbackground": true,
            "ticks": "",
            "zerolinecolor": "white"
           }
          },
          "shapedefaults": {
           "line": {
            "color": "#2a3f5f"
           }
          },
          "ternary": {
           "aaxis": {
            "gridcolor": "white",
            "linecolor": "white",
            "ticks": ""
           },
           "baxis": {
            "gridcolor": "white",
            "linecolor": "white",
            "ticks": ""
           },
           "bgcolor": "#E5ECF6",
           "caxis": {
            "gridcolor": "white",
            "linecolor": "white",
            "ticks": ""
           }
          },
          "title": {
           "x": 0.05
          },
          "xaxis": {
           "automargin": true,
           "gridcolor": "white",
           "linecolor": "white",
           "ticks": "",
           "title": {
            "standoff": 15
           },
           "zerolinecolor": "white",
           "zerolinewidth": 2
          },
          "yaxis": {
           "automargin": true,
           "gridcolor": "white",
           "linecolor": "white",
           "ticks": "",
           "title": {
            "standoff": 15
           },
           "zerolinecolor": "white",
           "zerolinewidth": 2
          }
         }
        },
        "title": {
         "text": "PCA Visualization - Interests Embeddings<br>Mello Campus Population (255 users)"
        },
        "width": 960,
        "xaxis": {
         "title": {
          "text": "PC1 (11.1% variance)"
         }
        },
        "yaxis": {
         "title": {
          "text": "PC2 (10.1% variance)"
         }
        }
       }
      }
     },
     "metadata": {},
     "output_type": "display_data"
    },
    {
     "name": "stdout",
     "output_type": "stream",
     "text": [
      "✅ Plotly interests PCA complete\n",
      "\n",
      "🧠 Creating Plotly PCA - Combined Personality Traits (3840D → 2D):\n"
     ]
    },
    {
     "data": {
      "application/vnd.plotly.v1+json": {
       "config": {
        "plotlyServerURL": "https://plot.ly"
       },
       "data": [
        {
         "hovertemplate": "<b>%{hovertext}</b><extra></extra>",
         "hovertext": [
          "William Castaneda",
          "Michelle \"MJ\" Jones",
          "Jamie Chen",
          "Raymond Ortiz",
          "Sarah Chen",
          "Susan West",
          "Daniel Mercer",
          "Brian Thornton",
          "Heather Jimenez",
          "Emily Parsons",
          "Beth Clarke",
          "Gina Villanueva",
          "Olivia Chen",
          "Olivia Chen",
          "Carl Snow",
          "Anya Sharma",
          "Nicholas Russo",
          "Mary Ball",
          "Chloe Nguyen",
          "Erin Thomas",
          "Micheal Roy",
          "Stacy Anderson",
          "Elena Rodriguez",
          "Billy Morales",
          "Kevin Green",
          "Timothy Stewart",
          "Lena Petrova",
          "Wren Kestrel",
          "Eliza Vance",
          "Benjamin Jones",
          "Elizabeth Williams",
          "Tommy Barker",
          "Sandra Kemp",
          "Allison Brown",
          "Selena Garcia",
          "Bryan Chambers",
          "Amanda Reynolds",
          "Jeffrey Horn",
          "Ace Rodriguez",
          "Daniel Williams",
          "Kimberly King",
          "James Vargas",
          "Beth Kelly",
          "Cheryl Glass",
          "Amber Bradley",
          "Helen Gomez",
          "Chelsea Bird",
          "Alexander Tucker",
          "Robert Hill",
          "Donna Miller",
          "Alyssa Roberts",
          "Tammy Henderson",
          "Linda Perez",
          "Nicole Fisher",
          "Robert Campbell",
          "Jennifer Cummings",
          "Russell Gross",
          "Krystal Mckenzie",
          "Jessica Acevedo",
          "Eliza \"Sunshine\" Vance",
          "Sarah Jenkins",
          "Kristen Alvarez",
          "Heather Luna",
          "Dr. Jordan Shannon",
          "Dustin Mullen",
          "Beverly Love",
          "William Foster",
          "Jerry Stanley",
          "Joshua Hatfield",
          "Nicholas Williams",
          "Michelle Rogers",
          "Elara Vance",
          "Daniel Porter",
          "Maya Rodriguez",
          "Angela Scott",
          "Jennifer Ray",
          "Edward Dominguez",
          "Maurice Nichols",
          "Christopher Jones",
          "Evelyn Thorne",
          "Dawn Howard",
          "Jennifer Mercado",
          "Amelia Hayes",
          "Ethan Vance",
          "Elara Meadowlight (legally John Rogers)",
          "Edward Stephens II",
          "Alice Chen",
          "Brenda Santos",
          "Stella Maris",
          "Joshua Parker",
          "Eleanor Vance",
          "Spencer White",
          "Kimberly Parrish",
          "Ryan Carey",
          "Yesenia Whitney",
          "Brent Contreras",
          "Raymond Martin",
          "Cindy Ramirez",
          "Elizabeth Webb",
          "Mitchell Navarro",
          "Denise Robinson",
          "Larry Rivers",
          "Richard Sims",
          "Tammy Mckee",
          "Amanda Padilla",
          "Dominique Turner",
          "Caroline Thompson",
          "Sarah Chen",
          "Cheryl Erickson",
          "Anya Sharma",
          "Debbie Combs",
          "Andrew Franco",
          "Holly Robbins",
          "Kimberly Brady",
          "William Frey",
          "Andrew \"Aethelred\" Sterling",
          "Sheila Clark",
          "Samuel Morrison",
          "Ryan Lee",
          "Jeffrey Rojas",
          "Russell Curtis",
          "Katherine Hall",
          "Jacob Smith",
          "Katie Collier",
          "James Lamb",
          "Darlene Lawrence",
          "Luna Skye Hawthorne",
          "Erik Peterson",
          "Lisa Mitchell",
          "Luna Seraphina Willow",
          "Aurora Vance",
          "Jason Mckinney",
          "Jamie Gonzales",
          "Tiffany Moody",
          "Maria Vazquez",
          "Carlos Torres",
          "Justin Miller",
          "Jose Ellison",
          "Blake Lawrence",
          "Christopher Travis",
          "Kenneth Escobar",
          "Sarah Shaffer",
          "Jesse Holland",
          "Anne Peterson",
          "Elara Vance",
          "Michael Watson",
          "Linda Garcia",
          "Andrea Davis",
          "Thomas Webster",
          "Lilith Thorne",
          "Jennifer Wolfe",
          "Linda Richardson",
          "Jerry Rogers II",
          "Jill Nolan",
          "William Morrison",
          "Andrew Johnson",
          "Jamie Woodward",
          "Clara Ellison",
          "John Bishop",
          "Maya Rodriguez",
          "Devin Harris",
          "Sarah Chen",
          "Rebecca Sanchez",
          "Cameron Avery",
          "Laura Graham",
          "Elara Vance",
          "Sarah Chen",
          "Elara Vance",
          "Kristina Marshall",
          "Larry Rodriguez",
          "Robert Harrell",
          "Albert Hunt",
          "Clara Bellewood",
          "Chloe Nguyen",
          "Adam Woodard",
          "Akari Tanaka",
          "Jennifer Butler",
          "Amelia Vance",
          "Sabrina George",
          "Lyra Meadowsweet",
          "Helena Vance",
          "Victoria Martinez",
          "Mindy Lee",
          "Carla Williams",
          "Robert Ochoa",
          "Cesar Yoder",
          "Kelly Nash",
          "Crystal Hall",
          "Maya Angelou",
          "Ashley Austin",
          "Tiffany Goodman",
          "Kimberly Morales",
          "Amanda Christensen",
          "Heather Barnes",
          "Luna \"Hex\" Blackwood",
          "Christine Long",
          "Angela Martinez",
          "Anya Petrova",
          "Lindsey Gray",
          "Elara Vance",
          "Jeremy Kennedy",
          "Larry Wilson",
          "Richard Yang",
          "Carrie Taylor",
          "Laura Wall",
          "Terri Murphy",
          "Anya Sharma",
          "Maya Rodriguez",
          "Maya Rodriguez",
          "Elena Rossi",
          "Shirley Henderson",
          "Dennis Wallace",
          "Miguel Johnston",
          "Madison Brooks",
          "Sean Stone",
          "Brian Acosta",
          "Lawrence Avila",
          "Elara Meadowlight",
          "Stephen Bryant",
          "Olivia Chang",
          "Eric Thompson",
          "Linda Lee",
          "Angela Ortiz",
          "William Carpenter",
          "Kari Clark",
          "Ella Sanchez",
          "Jennifer Glover",
          "Luna Maeve",
          "Lori Butler",
          "Liam Vance",
          "Luna Everhart",
          "Anna Price",
          "Julie Fischer",
          "Chloe Davis",
          "Glen Harris",
          "Anya Sharma",
          "Dylan Phillips",
          "Ricardo Warren",
          "Deborah Johnson"
         ],
         "marker": {
          "color": "lightgreen",
          "line": {
           "color": "darkgreen",
           "width": 1
          },
          "opacity": 0.7,
          "size": 8
         },
         "mode": "markers",
         "name": "Users (239)",
         "type": "scatter",
         "x": {
          "bdata": "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",
          "dtype": "f8"
         },
         "y": {
          "bdata": "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",
          "dtype": "f8"
         }
        },
        {
         "hovertemplate": "<b>%{hovertext}</b><extra></extra>",
         "hovertext": [
          "Yahya Rahhawi",
          "Nikola Tesla",
          "Ada Lovelace",
          "Alan Turing",
          "Aristotle",
          "Nelson Mandela",
          "Mahatma Gandhi",
          "Cleopatra",
          "Steve Jobs",
          "Elon Musk",
          "Sherlock Holmes",
          "Tony Stark",
          "Walter White",
          "Leonardo da Vinci",
          "Greta Thunberg",
          "Sofiia "
         ],
         "marker": {
          "color": "red",
          "line": {
           "color": "darkred",
           "width": 2
          },
          "opacity": 0.9,
          "size": 15,
          "symbol": "star"
         },
         "mode": "markers",
         "name": "Special Users (16)",
         "type": "scatter",
         "x": {
          "bdata": "bZu93q7UAkBOYU8Fv0VUQHD1FPa3MFRAcpfArC9xUUC/vgo3/ydRQJ4QOo83IU5AKk56sPTfUUDQ4FxBW/dTQEr572Tm9lJAujttRBRJVUBJShQgfwNTQJx6Cb60GlRAMaKN+ZWnVUB0Y+oB+ItTQBf8oOM2kFNAp1OqoWaNJEA=",
          "dtype": "f8"
         },
         "y": {
          "bdata": "NqRk9Vv/LkAzD923emDqv5B4Q1vy8BXAHPvWxtu1CkD2xhT9ULQbwJ57ir4pdCdAXSJE+yvrLUCvAq9ymccnwEeNcO0jFjDA6zGBXdfTK8ASHZOAUuECwOqn593rwi/AjhhTD3InKsDnpZUOnSEhwCw4t8P9bCbAvj61+LtILUA=",
          "dtype": "f8"
         }
        }
       ],
       "layout": {
        "annotations": [
         {
          "bgcolor": "rgba(255,255,255,0.8)",
          "bordercolor": "rgba(0,0,0,0.5)",
          "borderwidth": 1,
          "font": {
           "size": 12
          },
          "showarrow": false,
          "text": "Total variance explained: 13.5%<br>Similarity metric: Euclidean Distance<br>Dimensions: 5 traits × 768D = 3840D",
          "x": 0.02,
          "xanchor": "left",
          "xref": "paper",
          "y": 0.98,
          "yanchor": "top",
          "yref": "paper"
         }
        ],
        "height": 640,
        "hovermode": "closest",
        "showlegend": true,
        "template": {
         "data": {
          "bar": [
           {
            "error_x": {
             "color": "#2a3f5f"
            },
            "error_y": {
             "color": "#2a3f5f"
            },
            "marker": {
             "line": {
              "color": "#E5ECF6",
              "width": 0.5
             },
             "pattern": {
              "fillmode": "overlay",
              "size": 10,
              "solidity": 0.2
             }
            },
            "type": "bar"
           }
          ],
          "barpolar": [
           {
            "marker": {
             "line": {
              "color": "#E5ECF6",
              "width": 0.5
             },
             "pattern": {
              "fillmode": "overlay",
              "size": 10,
              "solidity": 0.2
             }
            },
            "type": "barpolar"
           }
          ],
          "carpet": [
           {
            "aaxis": {
             "endlinecolor": "#2a3f5f",
             "gridcolor": "white",
             "linecolor": "white",
             "minorgridcolor": "white",
             "startlinecolor": "#2a3f5f"
            },
            "baxis": {
             "endlinecolor": "#2a3f5f",
             "gridcolor": "white",
             "linecolor": "white",
             "minorgridcolor": "white",
             "startlinecolor": "#2a3f5f"
            },
            "type": "carpet"
           }
          ],
          "choropleth": [
           {
            "colorbar": {
             "outlinewidth": 0,
             "ticks": ""
            },
            "type": "choropleth"
           }
          ],
          "contour": [
           {
            "colorbar": {
             "outlinewidth": 0,
             "ticks": ""
            },
            "colorscale": [
             [
              0,
              "#0d0887"
             ],
             [
              0.1111111111111111,
              "#46039f"
             ],
             [
              0.2222222222222222,
              "#7201a8"
             ],
             [
              0.3333333333333333,
              "#9c179e"
             ],
             [
              0.4444444444444444,
              "#bd3786"
             ],
             [
              0.5555555555555556,
              "#d8576b"
             ],
             [
              0.6666666666666666,
              "#ed7953"
             ],
             [
              0.7777777777777778,
              "#fb9f3a"
             ],
             [
              0.8888888888888888,
              "#fdca26"
             ],
             [
              1,
              "#f0f921"
             ]
            ],
            "type": "contour"
           }
          ],
          "contourcarpet": [
           {
            "colorbar": {
             "outlinewidth": 0,
             "ticks": ""
            },
            "type": "contourcarpet"
           }
          ],
          "heatmap": [
           {
            "colorbar": {
             "outlinewidth": 0,
             "ticks": ""
            },
            "colorscale": [
             [
              0,
              "#0d0887"
             ],
             [
              0.1111111111111111,
              "#46039f"
             ],
             [
              0.2222222222222222,
              "#7201a8"
             ],
             [
              0.3333333333333333,
              "#9c179e"
             ],
             [
              0.4444444444444444,
              "#bd3786"
             ],
             [
              0.5555555555555556,
              "#d8576b"
             ],
             [
              0.6666666666666666,
              "#ed7953"
             ],
             [
              0.7777777777777778,
              "#fb9f3a"
             ],
             [
              0.8888888888888888,
              "#fdca26"
             ],
             [
              1,
              "#f0f921"
             ]
            ],
            "type": "heatmap"
           }
          ],
          "histogram": [
           {
            "marker": {
             "pattern": {
              "fillmode": "overlay",
              "size": 10,
              "solidity": 0.2
             }
            },
            "type": "histogram"
           }
          ],
          "histogram2d": [
           {
            "colorbar": {
             "outlinewidth": 0,
             "ticks": ""
            },
            "colorscale": [
             [
              0,
              "#0d0887"
             ],
             [
              0.1111111111111111,
              "#46039f"
             ],
             [
              0.2222222222222222,
              "#7201a8"
             ],
             [
              0.3333333333333333,
              "#9c179e"
             ],
             [
              0.4444444444444444,
              "#bd3786"
             ],
             [
              0.5555555555555556,
              "#d8576b"
             ],
             [
              0.6666666666666666,
              "#ed7953"
             ],
             [
              0.7777777777777778,
              "#fb9f3a"
             ],
             [
              0.8888888888888888,
              "#fdca26"
             ],
             [
              1,
              "#f0f921"
             ]
            ],
            "type": "histogram2d"
           }
          ],
          "histogram2dcontour": [
           {
            "colorbar": {
             "outlinewidth": 0,
             "ticks": ""
            },
            "colorscale": [
             [
              0,
              "#0d0887"
             ],
             [
              0.1111111111111111,
              "#46039f"
             ],
             [
              0.2222222222222222,
              "#7201a8"
             ],
             [
              0.3333333333333333,
              "#9c179e"
             ],
             [
              0.4444444444444444,
              "#bd3786"
             ],
             [
              0.5555555555555556,
              "#d8576b"
             ],
             [
              0.6666666666666666,
              "#ed7953"
             ],
             [
              0.7777777777777778,
              "#fb9f3a"
             ],
             [
              0.8888888888888888,
              "#fdca26"
             ],
             [
              1,
              "#f0f921"
             ]
            ],
            "type": "histogram2dcontour"
           }
          ],
          "mesh3d": [
           {
            "colorbar": {
             "outlinewidth": 0,
             "ticks": ""
            },
            "type": "mesh3d"
           }
          ],
          "parcoords": [
           {
            "line": {
             "colorbar": {
              "outlinewidth": 0,
              "ticks": ""
             }
            },
            "type": "parcoords"
           }
          ],
          "pie": [
           {
            "automargin": true,
            "type": "pie"
           }
          ],
          "scatter": [
           {
            "fillpattern": {
             "fillmode": "overlay",
             "size": 10,
             "solidity": 0.2
            },
            "type": "scatter"
           }
          ],
          "scatter3d": [
           {
            "line": {
             "colorbar": {
              "outlinewidth": 0,
              "ticks": ""
             }
            },
            "marker": {
             "colorbar": {
              "outlinewidth": 0,
              "ticks": ""
             }
            },
            "type": "scatter3d"
           }
          ],
          "scattercarpet": [
           {
            "marker": {
             "colorbar": {
              "outlinewidth": 0,
              "ticks": ""
             }
            },
            "type": "scattercarpet"
           }
          ],
          "scattergeo": [
           {
            "marker": {
             "colorbar": {
              "outlinewidth": 0,
              "ticks": ""
             }
            },
            "type": "scattergeo"
           }
          ],
          "scattergl": [
           {
            "marker": {
             "colorbar": {
              "outlinewidth": 0,
              "ticks": ""
             }
            },
            "type": "scattergl"
           }
          ],
          "scattermap": [
           {
            "marker": {
             "colorbar": {
              "outlinewidth": 0,
              "ticks": ""
             }
            },
            "type": "scattermap"
           }
          ],
          "scattermapbox": [
           {
            "marker": {
             "colorbar": {
              "outlinewidth": 0,
              "ticks": ""
             }
            },
            "type": "scattermapbox"
           }
          ],
          "scatterpolar": [
           {
            "marker": {
             "colorbar": {
              "outlinewidth": 0,
              "ticks": ""
             }
            },
            "type": "scatterpolar"
           }
          ],
          "scatterpolargl": [
           {
            "marker": {
             "colorbar": {
              "outlinewidth": 0,
              "ticks": ""
             }
            },
            "type": "scatterpolargl"
           }
          ],
          "scatterternary": [
           {
            "marker": {
             "colorbar": {
              "outlinewidth": 0,
              "ticks": ""
             }
            },
            "type": "scatterternary"
           }
          ],
          "surface": [
           {
            "colorbar": {
             "outlinewidth": 0,
             "ticks": ""
            },
            "colorscale": [
             [
              0,
              "#0d0887"
             ],
             [
              0.1111111111111111,
              "#46039f"
             ],
             [
              0.2222222222222222,
              "#7201a8"
             ],
             [
              0.3333333333333333,
              "#9c179e"
             ],
             [
              0.4444444444444444,
              "#bd3786"
             ],
             [
              0.5555555555555556,
              "#d8576b"
             ],
             [
              0.6666666666666666,
              "#ed7953"
             ],
             [
              0.7777777777777778,
              "#fb9f3a"
             ],
             [
              0.8888888888888888,
              "#fdca26"
             ],
             [
              1,
              "#f0f921"
             ]
            ],
            "type": "surface"
           }
          ],
          "table": [
           {
            "cells": {
             "fill": {
              "color": "#EBF0F8"
             },
             "line": {
              "color": "white"
             }
            },
            "header": {
             "fill": {
              "color": "#C8D4E3"
             },
             "line": {
              "color": "white"
             }
            },
            "type": "table"
           }
          ]
         },
         "layout": {
          "annotationdefaults": {
           "arrowcolor": "#2a3f5f",
           "arrowhead": 0,
           "arrowwidth": 1
          },
          "autotypenumbers": "strict",
          "coloraxis": {
           "colorbar": {
            "outlinewidth": 0,
            "ticks": ""
           }
          },
          "colorscale": {
           "diverging": [
            [
             0,
             "#8e0152"
            ],
            [
             0.1,
             "#c51b7d"
            ],
            [
             0.2,
             "#de77ae"
            ],
            [
             0.3,
             "#f1b6da"
            ],
            [
             0.4,
             "#fde0ef"
            ],
            [
             0.5,
             "#f7f7f7"
            ],
            [
             0.6,
             "#e6f5d0"
            ],
            [
             0.7,
             "#b8e186"
            ],
            [
             0.8,
             "#7fbc41"
            ],
            [
             0.9,
             "#4d9221"
            ],
            [
             1,
             "#276419"
            ]
           ],
           "sequential": [
            [
             0,
             "#0d0887"
            ],
            [
             0.1111111111111111,
             "#46039f"
            ],
            [
             0.2222222222222222,
             "#7201a8"
            ],
            [
             0.3333333333333333,
             "#9c179e"
            ],
            [
             0.4444444444444444,
             "#bd3786"
            ],
            [
             0.5555555555555556,
             "#d8576b"
            ],
            [
             0.6666666666666666,
             "#ed7953"
            ],
            [
             0.7777777777777778,
             "#fb9f3a"
            ],
            [
             0.8888888888888888,
             "#fdca26"
            ],
            [
             1,
             "#f0f921"
            ]
           ],
           "sequentialminus": [
            [
             0,
             "#0d0887"
            ],
            [
             0.1111111111111111,
             "#46039f"
            ],
            [
             0.2222222222222222,
             "#7201a8"
            ],
            [
             0.3333333333333333,
             "#9c179e"
            ],
            [
             0.4444444444444444,
             "#bd3786"
            ],
            [
             0.5555555555555556,
             "#d8576b"
            ],
            [
             0.6666666666666666,
             "#ed7953"
            ],
            [
             0.7777777777777778,
             "#fb9f3a"
            ],
            [
             0.8888888888888888,
             "#fdca26"
            ],
            [
             1,
             "#f0f921"
            ]
           ]
          },
          "colorway": [
           "#636efa",
           "#EF553B",
           "#00cc96",
           "#ab63fa",
           "#FFA15A",
           "#19d3f3",
           "#FF6692",
           "#B6E880",
           "#FF97FF",
           "#FECB52"
          ],
          "font": {
           "color": "#2a3f5f"
          },
          "geo": {
           "bgcolor": "white",
           "lakecolor": "white",
           "landcolor": "#E5ECF6",
           "showlakes": true,
           "showland": true,
           "subunitcolor": "white"
          },
          "hoverlabel": {
           "align": "left"
          },
          "hovermode": "closest",
          "mapbox": {
           "style": "light"
          },
          "paper_bgcolor": "white",
          "plot_bgcolor": "#E5ECF6",
          "polar": {
           "angularaxis": {
            "gridcolor": "white",
            "linecolor": "white",
            "ticks": ""
           },
           "bgcolor": "#E5ECF6",
           "radialaxis": {
            "gridcolor": "white",
            "linecolor": "white",
            "ticks": ""
           }
          },
          "scene": {
           "xaxis": {
            "backgroundcolor": "#E5ECF6",
            "gridcolor": "white",
            "gridwidth": 2,
            "linecolor": "white",
            "showbackground": true,
            "ticks": "",
            "zerolinecolor": "white"
           },
           "yaxis": {
            "backgroundcolor": "#E5ECF6",
            "gridcolor": "white",
            "gridwidth": 2,
            "linecolor": "white",
            "showbackground": true,
            "ticks": "",
            "zerolinecolor": "white"
           },
           "zaxis": {
            "backgroundcolor": "#E5ECF6",
            "gridcolor": "white",
            "gridwidth": 2,
            "linecolor": "white",
            "showbackground": true,
            "ticks": "",
            "zerolinecolor": "white"
           }
          },
          "shapedefaults": {
           "line": {
            "color": "#2a3f5f"
           }
          },
          "ternary": {
           "aaxis": {
            "gridcolor": "white",
            "linecolor": "white",
            "ticks": ""
           },
           "baxis": {
            "gridcolor": "white",
            "linecolor": "white",
            "ticks": ""
           },
           "bgcolor": "#E5ECF6",
           "caxis": {
            "gridcolor": "white",
            "linecolor": "white",
            "ticks": ""
           }
          },
          "title": {
           "x": 0.05
          },
          "xaxis": {
           "automargin": true,
           "gridcolor": "white",
           "linecolor": "white",
           "ticks": "",
           "title": {
            "standoff": 15
           },
           "zerolinecolor": "white",
           "zerolinewidth": 2
          },
          "yaxis": {
           "automargin": true,
           "gridcolor": "white",
           "linecolor": "white",
           "ticks": "",
           "title": {
            "standoff": 15
           },
           "zerolinecolor": "white",
           "zerolinewidth": 2
          }
         }
        },
        "title": {
         "text": "PCA Visualization - Personality Traits Embeddings<br>Mello Campus Population (255 users)"
        },
        "width": 960,
        "xaxis": {
         "title": {
          "text": "PC1 (9.6% variance)"
         }
        },
        "yaxis": {
         "title": {
          "text": "PC2 (3.9% variance)"
         }
        }
       }
      }
     },
     "metadata": {},
     "output_type": "display_data"
    },
    {
     "name": "stdout",
     "output_type": "stream",
     "text": [
      "✅ Plotly personality traits PCA complete\n",
      "\n",
      "📖 Visualization Guide:\n",
      "   📚 Interests PCA: Cultural preferences embeddings (books, movies, music)\n",
      "   🧠 Personality PCA: Big 5 personality traits embeddings (Openness, Conscientiousness, etc.)\n",
      "   ⭐ Red stars: Real users (special)\n",
      "   🔵 Blue/Green dots: Synthetic users\n",
      "   📏 Similarity: Euclidean distance (1.0 = identical, 0.0 = different)\n",
      "   🎨 Interactive: Hover for names, zoom, pan to explore\n"
     ]
    }
   ],
   "source": [
    "# Interactive Plotly Visualizations\n",
    "users_with_embeddings = population.get_users_with_embeddings()\n",
    "\n",
    "print(f\"📊 Interactive Plotly Population Visualization\")\n",
    "print(f\"Users with embeddings: {len(users_with_embeddings)}\")\n",
    "print(f\"Similarity metric: Euclidean Distance (L2 norm, normalized)\")\n",
    "print()\n",
    "\n",
    "if len(users_with_embeddings) >= 3:\n",
    "    \n",
    "    # 📚 Plotly PCA Visualization - Interests Only\n",
    "    print(f\"📚 Creating Plotly PCA - Interests Embeddings (768D → 2D):\")\n",
    "    try:\n",
    "        fig_interests = visualizer.plot_population_pca(\n",
    "            population, \n",
    "            mode='interests', \n",
    "            highlight_special=True, \n",
    "            figsize=(12, 8)\n",
    "        )\n",
    "        fig_interests.show()\n",
    "        print(f\"✅ Plotly interests PCA complete\")\n",
    "        \n",
    "    except Exception as e:\n",
    "        print(f\"❌ Interests PCA failed: {e}\")\n",
    "    \n",
    "    print()\n",
    "    \n",
    "    # 🧠 Plotly PCA Visualization - Combined Personality Traits\n",
    "    print(f\"🧠 Creating Plotly PCA - Combined Personality Traits (3840D → 2D):\")\n",
    "    try:\n",
    "        # Get combined personality embedding (all 5 traits)\n",
    "        from sklearn.decomposition import PCA\n",
    "        from sklearn.preprocessing import StandardScaler\n",
    "        import plotly.graph_objects as go\n",
    "        import numpy as np\n",
    "        \n",
    "        # Get users with complete personality embeddings\n",
    "        personality_users = []\n",
    "        personality_embeddings = []\n",
    "        \n",
    "        for user in users_with_embeddings:\n",
    "            trait_embeddings = []\n",
    "            has_all_traits = True\n",
    "            \n",
    "            for trait in ['Openness', 'Conscientiousness', 'Extraversion', 'Agreeableness', 'Neuroticism']:\n",
    "                trait_emb = getattr(user, f'{trait.lower()}_embedding', None)\n",
    "                if trait_emb is not None:\n",
    "                    trait_embeddings.append(trait_emb)\n",
    "                else:\n",
    "                    has_all_traits = False\n",
    "                    break\n",
    "            \n",
    "            if has_all_traits:\n",
    "                personality_users.append(user)\n",
    "                combined_personality = np.concatenate(trait_embeddings)\n",
    "                personality_embeddings.append(combined_personality)\n",
    "        \n",
    "        if len(personality_embeddings) >= 3:\n",
    "            personality_matrix = np.array(personality_embeddings)\n",
    "            \n",
    "            # Apply PCA to personality embeddings\n",
    "            scaler = StandardScaler()\n",
    "            embeddings_scaled = scaler.fit_transform(personality_matrix)\n",
    "            pca = PCA(n_components=2)\n",
    "            embeddings_2d = pca.fit_transform(embeddings_scaled)\n",
    "            \n",
    "            # Create Plotly figure for personality\n",
    "            fig_personality = go.Figure()\n",
    "            \n",
    "            # Separate special and regular users\n",
    "            special_indices = []\n",
    "            regular_indices = []\n",
    "            \n",
    "            for i, user in enumerate(personality_users):\n",
    "                if user.special:\n",
    "                    special_indices.append(i)\n",
    "                else:\n",
    "                    regular_indices.append(i)\n",
    "            \n",
    "            # Plot regular users\n",
    "            if regular_indices:\n",
    "                regular_coords = embeddings_2d[regular_indices]\n",
    "                regular_names = [personality_users[i].name for i in regular_indices]\n",
    "                \n",
    "                fig_personality.add_trace(go.Scatter(\n",
    "                    x=regular_coords[:, 0],\n",
    "                    y=regular_coords[:, 1],\n",
    "                    mode='markers',\n",
    "                    marker=dict(size=8, color='lightgreen', opacity=0.7, line=dict(width=1, color='darkgreen')),\n",
    "                    name=f'Users ({len(regular_indices)})',\n",
    "                    hovertext=regular_names,\n",
    "                    hovertemplate='<b>%{hovertext}</b><extra></extra>'\n",
    "                ))\n",
    "            \n",
    "            # Plot special users\n",
    "            if special_indices:\n",
    "                special_coords = embeddings_2d[special_indices]\n",
    "                special_names = [personality_users[i].name for i in special_indices]\n",
    "                \n",
    "                fig_personality.add_trace(go.Scatter(\n",
    "                    x=special_coords[:, 0],\n",
    "                    y=special_coords[:, 1],\n",
    "                    mode='markers',\n",
    "                    marker=dict(size=15, color='red', opacity=0.9, symbol='star', line=dict(width=2, color='darkred')),\n",
    "                    name=f'Special Users ({len(special_indices)})',\n",
    "                    hovertext=special_names,\n",
    "                    hovertemplate='<b>%{hovertext}</b><extra></extra>'\n",
    "                ))\n",
    "            \n",
    "            # Update layout\n",
    "            total_variance = pca.explained_variance_ratio_[:2].sum()\n",
    "            fig_personality.update_layout(\n",
    "                title=f'PCA Visualization - Personality Traits Embeddings<br>{population.name} ({len(personality_users)} users)',\n",
    "                xaxis_title=f'PC1 ({pca.explained_variance_ratio_[0]:.1%} variance)',\n",
    "                yaxis_title=f'PC2 ({pca.explained_variance_ratio_[1]:.1%} variance)',\n",
    "                hovermode='closest',\n",
    "                showlegend=True,\n",
    "                width=960,\n",
    "                height=640,\n",
    "                annotations=[\n",
    "                    dict(\n",
    "                        text=f'Total variance explained: {total_variance:.1%}<br>Similarity metric: Euclidean Distance<br>Dimensions: 5 traits × 768D = 3840D',\n",
    "                        xref=\"paper\", yref=\"paper\",\n",
    "                        x=0.02, y=0.98, xanchor='left', yanchor='top',\n",
    "                        showarrow=False,\n",
    "                        font=dict(size=12),\n",
    "                        bgcolor=\"rgba(255,255,255,0.8)\",\n",
    "                        bordercolor=\"rgba(0,0,0,0.5)\",\n",
    "                        borderwidth=1\n",
    "                    )\n",
    "                ]\n",
    "            )\n",
    "            \n",
    "            fig_personality.show()\n",
    "            print(f\"✅ Plotly personality traits PCA complete\")\n",
    "        else:\n",
    "            print(f\"❌ Need at least 3 users with complete personality embeddings, got {len(personality_embeddings)}\")\n",
    "        \n",
    "    except Exception as e:\n",
    "        print(f\"❌ Personality PCA failed: {e}\")\n",
    "\n",
    "else:\n",
    "    print(f\"⚠️  Need at least 3 users with embeddings for visualization\")\n",
    "    print(f\"   Current: {len(users_with_embeddings)} users\")\n",
    "    print(f\"   Generate more synthetic users in the previous cell\")\n",
    "\n",
    "print(f\"\\n📖 Visualization Guide:\")\n",
    "print(f\"   📚 Interests PCA: Cultural preferences embeddings (books, movies, music)\")\n",
    "print(f\"   🧠 Personality PCA: Big 5 personality traits embeddings (Openness, Conscientiousness, etc.)\")\n",
    "print(f\"   ⭐ Red stars: Real users (special)\")\n",
    "print(f\"   🔵 Blue/Green dots: Synthetic users\")\n",
    "print(f\"   📏 Similarity: Euclidean distance (1.0 = identical, 0.0 = different)\")\n",
    "print(f\"   🎨 Interactive: Hover for names, zoom, pan to explore\")"
   ]
  },
  {
   "cell_type": "markdown",
   "metadata": {},
   "source": [
    "## 💾 Save Population\n",
    "\n",
    "Save the complete population for future use."
   ]
  },
  {
   "cell_type": "code",
   "execution_count": null,
   "metadata": {},
   "outputs": [],
   "source": [
    "# Save population to JSON\n",
    "save_path = \"data/mello_population.json\"\n",
    "\n",
    "print(f\"💾 Saving population to {save_path}...\")\n",
    "\n",
    "try:\n",
    "    population.save_to_json(save_path)\n",
    "    print(f\"✅ Population saved successfully\")\n",
    "    \n",
    "    # Show file info\n",
    "    import os\n",
    "    file_size = os.path.getsize(save_path)\n",
    "    print(f\"   File size: {file_size:,} bytes ({file_size/1024/1024:.1f} MB)\")\n",
    "    print(f\"   Users saved: {len(population)}\")\n",
    "    print(f\"   Users with embeddings: {len(population.get_users_with_embeddings())}\")\n",
    "    \n",
    "except Exception as e:\n",
    "    print(f\"❌ Failed to save population: {e}\")\n",
    "\n",
    "print(f\"\\n🎉 Notebook complete!\")\n",
    "print(f\"📊 Final Statistics:\")\n",
    "print(f\"   Population: {len(population)} users\")\n",
    "print(f\"   Architecture: 768D interests + 5×768D traits\")\n",
    "print(f\"   Approach: Unified personality profiling\")\n",
    "print(f\"   Embeddings: {len(population.get_users_with_embeddings())} users ready\")"
   ]
  },
  {
   "cell_type": "code",
   "execution_count": 5,
   "metadata": {},
   "outputs": [],
   "source": [
    "einstein = ProfileGenerator.generate_profile_from_famous_person(profile_generator,\"Einstein\")"
   ]
  },
  {
   "cell_type": "code",
   "execution_count": 6,
   "metadata": {},
   "outputs": [
    {
     "name": "stdout",
     "output_type": "stream",
     "text": [
      "7.142857142857142 %\n",
      "14.285714285714285 %\n",
      "21.428571428571427 %\n",
      "28.57142857142857 %\n",
      "35.714285714285715 %\n",
      "42.857142857142854 %\n",
      "50.0 %\n",
      "57.14285714285714 %\n",
      "64.28571428571429 %\n",
      "71.42857142857143 %\n",
      "78.57142857142857 %\n",
      "85.71428571428571 %\n",
      "92.85714285714286 %\n",
      "100.0 %\n"
     ]
    }
   ],
   "source": [
    "famous_people = [\n",
    "    \"Nikola Tesla\",\n",
    "    \"Ada Lovelace\",\n",
    "    \"Alan Turing\",\n",
    "    \"Aristotle\",\n",
    "    \"Nelson Mandela\",\n",
    "    \"Mahatma Gandhi\",\n",
    "    \"Cleopatra\",\n",
    "    \"Steve Jobs\",\n",
    "    \"Elon Musk\",\n",
    "    \"Sherlock Holmes\",\n",
    "    \"Tony Stark\",\n",
    "    \"Walter White\",\n",
    "    \"Leonardo da Vinci\",\n",
    "    \"Greta Thunberg\"]\n",
    "c = 1\n",
    "for person in famous_people:\n",
    "    famous_user = profile_generator.create_user_from_famous_person(person, person)\n",
    "    if hasattr(famous_user, \"special\"):\n",
    "        famous_user.special = True\n",
    "    success = embedding_generator.embed_user_complete(famous_user)\n",
    "    print(c/len(famous_people) * 100, \"%\")\n",
    "    c += 1\n",
    "    if success:\n",
    "        population.add_user(famous_user)"
   ]
  },
  {
   "cell_type": "code",
   "execution_count": 11,
   "metadata": {},
   "outputs": [
    {
     "name": "stderr",
     "output_type": "stream",
     "text": [
      "/Users/yahyarahhawi/miniforge3/envs/ml/lib/python3.12/site-packages/umap/umap_.py:1401: RuntimeWarning:\n",
      "\n",
      "divide by zero encountered in power\n",
      "\n",
      "OMP: Info #276: omp_set_nested routine deprecated, please use omp_set_max_active_levels instead.\n"
     ]
    },
    {
     "data": {
      "application/vnd.plotly.v1+json": {
       "config": {
        "plotlyServerURL": "https://plot.ly"
       },
       "data": [
        {
         "hovertemplate": "<b>%{hovertext}</b><extra></extra>",
         "hovertext": [
          "William Castaneda",
          "Michelle \"MJ\" Jones",
          "Jamie Chen",
          "Raymond Ortiz",
          "Sarah Chen",
          "Susan West",
          "Daniel Mercer",
          "Brian Thornton",
          "Heather Jimenez",
          "Emily Parsons",
          "Beth Clarke",
          "Gina Villanueva",
          "Olivia Chen",
          "Olivia Chen",
          "Carl Snow",
          "Anya Sharma",
          "Nicholas Russo",
          "Mary Ball",
          "Chloe Nguyen",
          "Erin Thomas",
          "Micheal Roy",
          "Stacy Anderson",
          "Elena Rodriguez",
          "Billy Morales",
          "Kevin Green",
          "Timothy Stewart",
          "Lena Petrova",
          "Wren Kestrel",
          "Eliza Vance",
          "Benjamin Jones",
          "Elizabeth Williams",
          "Tommy Barker",
          "Sandra Kemp",
          "Allison Brown",
          "Selena Garcia",
          "Bryan Chambers",
          "Amanda Reynolds",
          "Jeffrey Horn",
          "Ace Rodriguez",
          "Daniel Williams",
          "Kimberly King",
          "James Vargas",
          "Beth Kelly",
          "Cheryl Glass",
          "Amber Bradley",
          "Helen Gomez",
          "Chelsea Bird",
          "Alexander Tucker",
          "Robert Hill",
          "Donna Miller",
          "Alyssa Roberts",
          "Tammy Henderson",
          "Linda Perez",
          "Nicole Fisher",
          "Robert Campbell",
          "Jennifer Cummings",
          "Russell Gross",
          "Krystal Mckenzie",
          "Jessica Acevedo",
          "Eliza \"Sunshine\" Vance",
          "Sarah Jenkins",
          "Kristen Alvarez",
          "Heather Luna",
          "Dr. Jordan Shannon",
          "Dustin Mullen",
          "Beverly Love",
          "William Foster",
          "Jerry Stanley",
          "Joshua Hatfield",
          "Nicholas Williams",
          "Michelle Rogers",
          "Elara Vance",
          "Daniel Porter",
          "Maya Rodriguez",
          "Angela Scott",
          "Jennifer Ray",
          "Edward Dominguez",
          "Maurice Nichols",
          "Christopher Jones",
          "Evelyn Thorne",
          "Dawn Howard",
          "Jennifer Mercado",
          "Amelia Hayes",
          "Ethan Vance",
          "Elara Meadowlight (legally John Rogers)",
          "Edward Stephens II",
          "Alice Chen",
          "Brenda Santos",
          "Stella Maris",
          "Joshua Parker",
          "Eleanor Vance",
          "Spencer White",
          "Kimberly Parrish",
          "Ryan Carey",
          "Yesenia Whitney",
          "Brent Contreras",
          "Raymond Martin",
          "Cindy Ramirez",
          "Elizabeth Webb",
          "Mitchell Navarro",
          "Denise Robinson",
          "Larry Rivers",
          "Richard Sims",
          "Tammy Mckee",
          "Amanda Padilla",
          "Dominique Turner",
          "Caroline Thompson",
          "Sarah Chen",
          "Cheryl Erickson",
          "Anya Sharma",
          "Debbie Combs",
          "Andrew Franco",
          "Holly Robbins",
          "Kimberly Brady",
          "William Frey",
          "Andrew \"Aethelred\" Sterling",
          "Sheila Clark",
          "Samuel Morrison",
          "Ryan Lee",
          "Jeffrey Rojas",
          "Russell Curtis",
          "Katherine Hall",
          "Jacob Smith",
          "Katie Collier",
          "James Lamb",
          "Darlene Lawrence",
          "Luna Skye Hawthorne",
          "Erik Peterson",
          "Lisa Mitchell",
          "Luna Seraphina Willow",
          "Aurora Vance",
          "Jason Mckinney",
          "Jamie Gonzales",
          "Tiffany Moody",
          "Maria Vazquez",
          "Carlos Torres",
          "Justin Miller",
          "Jose Ellison",
          "Blake Lawrence",
          "Christopher Travis",
          "Kenneth Escobar",
          "Sarah Shaffer",
          "Jesse Holland",
          "Anne Peterson",
          "Elara Vance",
          "Michael Watson",
          "Linda Garcia",
          "Andrea Davis",
          "Thomas Webster",
          "Lilith Thorne",
          "Jennifer Wolfe",
          "Linda Richardson",
          "Jerry Rogers II",
          "Jill Nolan",
          "William Morrison",
          "Andrew Johnson",
          "Jamie Woodward",
          "Clara Ellison",
          "John Bishop",
          "Maya Rodriguez",
          "Devin Harris",
          "Sarah Chen",
          "Rebecca Sanchez",
          "Cameron Avery",
          "Laura Graham",
          "Elara Vance",
          "Sarah Chen",
          "Elara Vance",
          "Kristina Marshall",
          "Larry Rodriguez",
          "Robert Harrell",
          "Albert Hunt",
          "Clara Bellewood",
          "Chloe Nguyen",
          "Adam Woodard",
          "Akari Tanaka",
          "Jennifer Butler",
          "Amelia Vance",
          "Sabrina George",
          "Lyra Meadowsweet",
          "Helena Vance",
          "Victoria Martinez",
          "Mindy Lee",
          "Carla Williams",
          "Robert Ochoa",
          "Cesar Yoder",
          "Kelly Nash",
          "Crystal Hall",
          "Maya Angelou",
          "Ashley Austin",
          "Tiffany Goodman",
          "Kimberly Morales",
          "Amanda Christensen",
          "Heather Barnes",
          "Luna \"Hex\" Blackwood",
          "Christine Long",
          "Angela Martinez",
          "Anya Petrova",
          "Lindsey Gray",
          "Elara Vance",
          "Jeremy Kennedy",
          "Larry Wilson",
          "Richard Yang",
          "Carrie Taylor",
          "Laura Wall",
          "Terri Murphy",
          "Anya Sharma",
          "Maya Rodriguez",
          "Maya Rodriguez",
          "Elena Rossi",
          "Shirley Henderson",
          "Dennis Wallace",
          "Miguel Johnston",
          "Madison Brooks",
          "Sean Stone",
          "Brian Acosta",
          "Lawrence Avila",
          "Elara Meadowlight",
          "Stephen Bryant",
          "Olivia Chang",
          "Eric Thompson",
          "Linda Lee",
          "Angela Ortiz",
          "William Carpenter",
          "Kari Clark",
          "Ella Sanchez",
          "Jennifer Glover",
          "Luna Maeve",
          "Lori Butler",
          "Liam Vance",
          "Luna Everhart",
          "Anna Price",
          "Julie Fischer",
          "Chloe Davis",
          "Glen Harris",
          "Anya Sharma",
          "Dylan Phillips",
          "Ricardo Warren",
          "Deborah Johnson"
         ],
         "marker": {
          "color": "lightgreen",
          "opacity": 0.7,
          "size": 5
         },
         "mode": "markers",
         "name": "Users (239)",
         "type": "scatter3d",
         "x": {
          "bdata": "x0OmQQ9iKEFUJRZB+AVqwSurh8FK1TrBxwp7QP2uQMG9R5FBiD8Jwe7YhsD4exNBl9KfQV5CZkGnbeJApu8vQOSvcb8+B0g9pGKev49RKUErApVBX7lmQeh8rkHouDtB2gD8wGFNj0H7Wme/SdOYQSLGqMFGuSvByA83wM/c4kFm6ifB3xkewevk00HOZJdBBE+cwUZHPMGdA2fBosf1QCgxjkFFOwZBapGDQDWEI77DaSXBMp4ywbueAcBB4mTBXN5DQXHZo0GuQmdBkfZDwVElDsBV/oPA/SWHQcE+kkFOOZxBVvaXQXUaosAYy4FBYaKdQSldEsDAw+k/l8v5QNxSvcDz9DDB08EgwRiU5kAKyybBBKxEwa3/50Dg7QFBfQMmQFIRj0FlTETBOIKVQWWo3UAg9y5B4VyFQa6PLUFRUULBiaPdQZJ1G0CyxTpAIId6QbM2hkDQfJ9B6zyBwIfz70ENYS1AobXgQXlPnEE3KUhBGAe7QCnZWL7NJ/tAKOb5QEKXnsCG9am/jNckQIGRNcFUmSvBqxCvQZjjYMF7Et9BajRvQcboaEEbOHbA7OvIwM1fEcGVdCzBi1mpQUGLgD9KN4dBR4dVwUcp9EBL2VnBtZWxQWHn00HBvI9Ba2kbQJaLU8CWxljAUcQjwF1DiEAsypNBbalKQTcQKkHTG0DB09s2QZSXgkEBxOFARvItQTEE2kAJuxXB0PNMwERFqMCAFPFBmHuoQJvg2b/gPru/1cahwDq4Sz6LMVLB+QTIwPDhQkH6MwpBJ4SrQSoojkGUazxBofl0wXPclUBA6as/rJSWQS5xaT4c+uFBIKmmQP3lnUGZ4ZjA086AwTi2qMGKdw1BKGoxQYgyMEFlCzvBo/yFQOtyMcE9iqNBIOQkQHH8s8DULU9BBhg6wKX8s8DkwVA/cduZwOJu4UDCAq5AnV+MwbH1g7+8JZBAAZAxwZLlj8DIgXC/KcZXQbOiG8HZAoBA8dw4wQmkMEE4PErB1yEtwTrJKUEhNes/5pJpwAwWFUGdVljBCug3QcKsz0BXNLnBP/GFQcwmP8C2YYVA6XmcQdFmZMGopa/BtU/gv6Adt0ChFqFAb+FAwUmqG7/sDk1BRhQLQJzusEHBvDBBuUw3QWrESUDfNLpAoad2QR+AfkFuJTE+NwH0QQlOPcDjiyRBnEluwcAtYUEuU15BAi6lQbtlVcA27jRBmPx5Qf6DCUGuqmtBqXJNwb5ugUHK8hdA8U11QaRKkUBcLZo/zZrPQN0YzkA=",
          "dtype": "f4"
         },
         "y": {
          "bdata": "fJysQAfqo0AqFxHAVDeCQW7X0r+p+ANBdeKaQPd0n0HA+9xBk6bTQJK1jUH0haxAw6dxQTeRWz6se4BBJM54QQfEekFMWnFBqm4uQc7tdkCwI5NBhI7nwHrAXEGKEnZBFUgGwTgn0kEngAtBQjW2vjFcp793KwjBfFPJQVY3nEGich9BCH+fwCC320CoIAhBq1fyv3lO8cAR2rvA+MWVQeveVkF8NVjBDBi3QPKgyEEujIBA1mX2wImv0EHcMQlB/I4wwVM8e0Fl0x6/9V8FQe8fzb72uppBt6QNQXFQzUHruGRBqzAmQe9FGsE0K4u/4EEVQfRP1z71wBU/bXTTPBEjGMDhDBVBnHEGQcq6jMGybJdAZIGNQW1rK8GTcsFAN1c9QbaTrT8cr7TAeEJ6P9nWkkA8ywdBPuGXQUuPikFgyb7AxUz6QIelrz+p6IvB7Xk0wCpUI8FKmVhBQEClQdk3qEHbtKy+DnbEQG5fHT9D3xBB2yEjwb412T+aHk/B7nPmQBVinkE80gdATaYzQZt77EA1JRPBLl4IQcr1z0DqCatBaiTav6pNgT8fhQLAT0qWQe6QCEE3EsXAXjvjP8d4g0HW53c/I6upQPP2eMHgnwNBw3nNQCWvoUFG9R5Bp08gQQe8lkHy56hBhPBHwGkc9UBTFIA/26kFQA5Sg0H1BCrB5g+0QLPKfD+4PEtA2XHqQF/0nkGbehJBTkKPv1yMIMBIq5xB4JhrQaj2rj6lDBdBWuaHQb7atEEgaADBFJISwRB3AcE4H7tA1LjKQFb2m0E3R4hBG3vDQGfjPUDPzWzADT/CQWiaWkCQ7adB7axCwTrFakGFhopBgMO/QOrSr78gUmZAXXFfwOKsRkF2uRbByZZ+wYAHbcAJlcc/Oz0OQTfPtr/JxIRBSDd9QSiLDsHJfQrAD0EqwXzZjEEuCJ5BRKn1vj+uU0FQr1hA9SwBwXhtlUGQlaVBXx0WwaDxB0EHZ4rBDDodwXSiK0CbhA5BhoSYQaYgMsAwxYfBQ7PZv5MTkcDxw3tB5dAaQV1O9EASqXO/LG86v3q1HcFJy7xASb+VQSI47MDsuwrA6arBQYuniMH/SZhBuY6kQCMYy0HQhSxBAt6Uv3j5LT8NUGdB62s+QZPtaEGZwn9Ag3O7v5tBMkBWPCNBNXOZQXu9p0FjYSpBbuZrQY6kDMFV+VDAOk7yQJB6vEGNGIpArWRKPto1tz+9IzZAcp4nwQkcIT5DU0rAOvM7P9dmh0FOfUhAJ4fQQMLiCUA=",
          "dtype": "f4"
         },
         "z": {
          "bdata": "03rgvl2GD8Fik45BRNxsQHyjyL91eGTAWvnFv7z9XD8OgBJAxzhCQfNNkkCetRxBiLkiwHPiAkG0XgdBPC7KQFtt6MA0oAzBW/XQP6kjP8EydCNBobEhQFwzccAM3yLBki1Kv130hUDm1oRAuOyFwZXosL6mu1O/6WMuQTtnmr8XJRRBAH8VQcPLrsCX1ZFBYSsBwIsmE0GRvR5B2CaLQK6id8A/7ADBgDnrQBK8P0E6sCRB3o2rP045UEHVrOTA0RdbQEOv4MCX4bBAxon7wID1V8FKdmnBzm2UQRulF0A9Qu3Ay0hoQeXAccD3tURBOhN7QeZIjEGdRlrAe26WQb2MbMG+QSDBawKVwEYLE8EVnElBI0abP4IPeEFm7alBvn1TQJZTuMHHchBBd6+Rwf6XnUF+tUjAXiEvQShgL8EpnwO/7gPXwFqKrsC/DTrBB4LUwDGVd0F9lEXAZmEIQWpVE0ArkmfAvqC9wE/nVcHm5kLA6zCFQTFTpEHOvBPBpq+hQWdJSsF5UoFBWrDEP5uFAkGIi1vBJ3A2QE91GkGec05AH+CSwJzMKMBxohXBOPdjwbleIEHhCQvAFkJTwb4b68Ajs5zBIWNFQepKD8E+UbDAr6Ylv2T4D0CvVoZB1+4zQERPM8Gp2TPBZsQVwaZE+UAXkqjB8NQDQWx45cBDnFzBw8kpQW6xrsEKG6W+Zu7uwMudFkDNlhPBq5Y8wZxlh8FVAE29cc0WQQjdnUEveDFA3NPAQPnKUkFeULu/oyfFwG0qh0Do5ZRBRWO3P84cQkFgUw/BLpU5QbXkwL1d6dRAF+xQQGkAiEHSxHE/8x17QR+ypsAvh1zBgZ8bQXpOYMC1ySPBT3mMQVu/3MCn1CfAo/NBwRuNDkEmGX3BSaDDQOVoSMGfZTHBweZAwanr27/tUfpA76m1wBRcy0C81bJATOo9wNEWJcFrlJtBKzp6waMN2UD/eUtBOjUlQPni6sAR0hfBPiR8wY5UHsGE6wdBtbeoPq9PfkGnpx3BSEV1wbrviUGz6wRApiWywNVmnkGsLjrABfLMwERBl8Agyg9BpKJAQdQgDkGgusy/96AWQa4dLsFAlWVAKvoGQWrmH0F0r5i/SksFQRI9acHOOgLBrNZDwKsYCEE7G/e/4hIiQaRPWsC48WRAYsr1P9qLKEFf32DAxv5eQDWye0Ck0LfAqhVkQHKEGEGhUhpBALcmQdYHIMHbj+q/tfeuvzsSkMD/kfBAGVbEQPuGokCJyplBRfIUQf2gm0E=",
          "dtype": "f4"
         }
        },
        {
         "hovertemplate": "<b>%{hovertext}</b><extra></extra>",
         "hovertext": [
          "Yahya Rahhawi",
          "Nikola Tesla",
          "Ada Lovelace",
          "Alan Turing",
          "Aristotle",
          "Nelson Mandela",
          "Mahatma Gandhi",
          "Cleopatra",
          "Steve Jobs",
          "Elon Musk",
          "Sherlock Holmes",
          "Tony Stark",
          "Walter White",
          "Leonardo da Vinci",
          "Greta Thunberg",
          "Sofiia "
         ],
         "marker": {
          "color": "red",
          "line": {
           "width": 2
          },
          "size": 9,
          "symbol": "diamond"
         },
         "mode": "markers",
         "name": "Special (16)",
         "type": "scatter3d",
         "x": {
          "bdata": "tmPQv7yqzr6aOto/EwHYPwpuYEBqxW+/xsftv3FEbT72HhtAxYgkQELYvEDH/pI/sMoBQHz2fEBaXgm+nuKLwA==",
          "dtype": "f4"
         },
         "y": {
          "bdata": "V+aMPw9IPsDMUQrAjAaZQHRhmkDeOZVAWB6YQADTH0Eu6YxB9b2QQRaOrD48lvRAeYgYQYfvsL6FAmBAgZ+Evw==",
          "dtype": "f4"
         },
         "z": {
          "bdata": "Lh0zwR/79sCepQHBp23LwPRSdMDg9CLBDGQLwfLGC8Gdu7HA58fpwDlRE8HYs+rAthIFwbbOAcGTlQnBYM2MwQ==",
          "dtype": "f4"
         }
        }
       ],
       "layout": {
        "height": 700,
        "hovermode": "closest",
        "scene": {
         "xaxis": {
          "title": {
           "text": "UMAP-1"
          }
         },
         "yaxis": {
          "title": {
           "text": "UMAP-2"
          }
         },
         "zaxis": {
          "title": {
           "text": "UMAP-3"
          }
         }
        },
        "template": {
         "data": {
          "bar": [
           {
            "error_x": {
             "color": "#2a3f5f"
            },
            "error_y": {
             "color": "#2a3f5f"
            },
            "marker": {
             "line": {
              "color": "#E5ECF6",
              "width": 0.5
             },
             "pattern": {
              "fillmode": "overlay",
              "size": 10,
              "solidity": 0.2
             }
            },
            "type": "bar"
           }
          ],
          "barpolar": [
           {
            "marker": {
             "line": {
              "color": "#E5ECF6",
              "width": 0.5
             },
             "pattern": {
              "fillmode": "overlay",
              "size": 10,
              "solidity": 0.2
             }
            },
            "type": "barpolar"
           }
          ],
          "carpet": [
           {
            "aaxis": {
             "endlinecolor": "#2a3f5f",
             "gridcolor": "white",
             "linecolor": "white",
             "minorgridcolor": "white",
             "startlinecolor": "#2a3f5f"
            },
            "baxis": {
             "endlinecolor": "#2a3f5f",
             "gridcolor": "white",
             "linecolor": "white",
             "minorgridcolor": "white",
             "startlinecolor": "#2a3f5f"
            },
            "type": "carpet"
           }
          ],
          "choropleth": [
           {
            "colorbar": {
             "outlinewidth": 0,
             "ticks": ""
            },
            "type": "choropleth"
           }
          ],
          "contour": [
           {
            "colorbar": {
             "outlinewidth": 0,
             "ticks": ""
            },
            "colorscale": [
             [
              0,
              "#0d0887"
             ],
             [
              0.1111111111111111,
              "#46039f"
             ],
             [
              0.2222222222222222,
              "#7201a8"
             ],
             [
              0.3333333333333333,
              "#9c179e"
             ],
             [
              0.4444444444444444,
              "#bd3786"
             ],
             [
              0.5555555555555556,
              "#d8576b"
             ],
             [
              0.6666666666666666,
              "#ed7953"
             ],
             [
              0.7777777777777778,
              "#fb9f3a"
             ],
             [
              0.8888888888888888,
              "#fdca26"
             ],
             [
              1,
              "#f0f921"
             ]
            ],
            "type": "contour"
           }
          ],
          "contourcarpet": [
           {
            "colorbar": {
             "outlinewidth": 0,
             "ticks": ""
            },
            "type": "contourcarpet"
           }
          ],
          "heatmap": [
           {
            "colorbar": {
             "outlinewidth": 0,
             "ticks": ""
            },
            "colorscale": [
             [
              0,
              "#0d0887"
             ],
             [
              0.1111111111111111,
              "#46039f"
             ],
             [
              0.2222222222222222,
              "#7201a8"
             ],
             [
              0.3333333333333333,
              "#9c179e"
             ],
             [
              0.4444444444444444,
              "#bd3786"
             ],
             [
              0.5555555555555556,
              "#d8576b"
             ],
             [
              0.6666666666666666,
              "#ed7953"
             ],
             [
              0.7777777777777778,
              "#fb9f3a"
             ],
             [
              0.8888888888888888,
              "#fdca26"
             ],
             [
              1,
              "#f0f921"
             ]
            ],
            "type": "heatmap"
           }
          ],
          "histogram": [
           {
            "marker": {
             "pattern": {
              "fillmode": "overlay",
              "size": 10,
              "solidity": 0.2
             }
            },
            "type": "histogram"
           }
          ],
          "histogram2d": [
           {
            "colorbar": {
             "outlinewidth": 0,
             "ticks": ""
            },
            "colorscale": [
             [
              0,
              "#0d0887"
             ],
             [
              0.1111111111111111,
              "#46039f"
             ],
             [
              0.2222222222222222,
              "#7201a8"
             ],
             [
              0.3333333333333333,
              "#9c179e"
             ],
             [
              0.4444444444444444,
              "#bd3786"
             ],
             [
              0.5555555555555556,
              "#d8576b"
             ],
             [
              0.6666666666666666,
              "#ed7953"
             ],
             [
              0.7777777777777778,
              "#fb9f3a"
             ],
             [
              0.8888888888888888,
              "#fdca26"
             ],
             [
              1,
              "#f0f921"
             ]
            ],
            "type": "histogram2d"
           }
          ],
          "histogram2dcontour": [
           {
            "colorbar": {
             "outlinewidth": 0,
             "ticks": ""
            },
            "colorscale": [
             [
              0,
              "#0d0887"
             ],
             [
              0.1111111111111111,
              "#46039f"
             ],
             [
              0.2222222222222222,
              "#7201a8"
             ],
             [
              0.3333333333333333,
              "#9c179e"
             ],
             [
              0.4444444444444444,
              "#bd3786"
             ],
             [
              0.5555555555555556,
              "#d8576b"
             ],
             [
              0.6666666666666666,
              "#ed7953"
             ],
             [
              0.7777777777777778,
              "#fb9f3a"
             ],
             [
              0.8888888888888888,
              "#fdca26"
             ],
             [
              1,
              "#f0f921"
             ]
            ],
            "type": "histogram2dcontour"
           }
          ],
          "mesh3d": [
           {
            "colorbar": {
             "outlinewidth": 0,
             "ticks": ""
            },
            "type": "mesh3d"
           }
          ],
          "parcoords": [
           {
            "line": {
             "colorbar": {
              "outlinewidth": 0,
              "ticks": ""
             }
            },
            "type": "parcoords"
           }
          ],
          "pie": [
           {
            "automargin": true,
            "type": "pie"
           }
          ],
          "scatter": [
           {
            "fillpattern": {
             "fillmode": "overlay",
             "size": 10,
             "solidity": 0.2
            },
            "type": "scatter"
           }
          ],
          "scatter3d": [
           {
            "line": {
             "colorbar": {
              "outlinewidth": 0,
              "ticks": ""
             }
            },
            "marker": {
             "colorbar": {
              "outlinewidth": 0,
              "ticks": ""
             }
            },
            "type": "scatter3d"
           }
          ],
          "scattercarpet": [
           {
            "marker": {
             "colorbar": {
              "outlinewidth": 0,
              "ticks": ""
             }
            },
            "type": "scattercarpet"
           }
          ],
          "scattergeo": [
           {
            "marker": {
             "colorbar": {
              "outlinewidth": 0,
              "ticks": ""
             }
            },
            "type": "scattergeo"
           }
          ],
          "scattergl": [
           {
            "marker": {
             "colorbar": {
              "outlinewidth": 0,
              "ticks": ""
             }
            },
            "type": "scattergl"
           }
          ],
          "scattermap": [
           {
            "marker": {
             "colorbar": {
              "outlinewidth": 0,
              "ticks": ""
             }
            },
            "type": "scattermap"
           }
          ],
          "scattermapbox": [
           {
            "marker": {
             "colorbar": {
              "outlinewidth": 0,
              "ticks": ""
             }
            },
            "type": "scattermapbox"
           }
          ],
          "scatterpolar": [
           {
            "marker": {
             "colorbar": {
              "outlinewidth": 0,
              "ticks": ""
             }
            },
            "type": "scatterpolar"
           }
          ],
          "scatterpolargl": [
           {
            "marker": {
             "colorbar": {
              "outlinewidth": 0,
              "ticks": ""
             }
            },
            "type": "scatterpolargl"
           }
          ],
          "scatterternary": [
           {
            "marker": {
             "colorbar": {
              "outlinewidth": 0,
              "ticks": ""
             }
            },
            "type": "scatterternary"
           }
          ],
          "surface": [
           {
            "colorbar": {
             "outlinewidth": 0,
             "ticks": ""
            },
            "colorscale": [
             [
              0,
              "#0d0887"
             ],
             [
              0.1111111111111111,
              "#46039f"
             ],
             [
              0.2222222222222222,
              "#7201a8"
             ],
             [
              0.3333333333333333,
              "#9c179e"
             ],
             [
              0.4444444444444444,
              "#bd3786"
             ],
             [
              0.5555555555555556,
              "#d8576b"
             ],
             [
              0.6666666666666666,
              "#ed7953"
             ],
             [
              0.7777777777777778,
              "#fb9f3a"
             ],
             [
              0.8888888888888888,
              "#fdca26"
             ],
             [
              1,
              "#f0f921"
             ]
            ],
            "type": "surface"
           }
          ],
          "table": [
           {
            "cells": {
             "fill": {
              "color": "#EBF0F8"
             },
             "line": {
              "color": "white"
             }
            },
            "header": {
             "fill": {
              "color": "#C8D4E3"
             },
             "line": {
              "color": "white"
             }
            },
            "type": "table"
           }
          ]
         },
         "layout": {
          "annotationdefaults": {
           "arrowcolor": "#2a3f5f",
           "arrowhead": 0,
           "arrowwidth": 1
          },
          "autotypenumbers": "strict",
          "coloraxis": {
           "colorbar": {
            "outlinewidth": 0,
            "ticks": ""
           }
          },
          "colorscale": {
           "diverging": [
            [
             0,
             "#8e0152"
            ],
            [
             0.1,
             "#c51b7d"
            ],
            [
             0.2,
             "#de77ae"
            ],
            [
             0.3,
             "#f1b6da"
            ],
            [
             0.4,
             "#fde0ef"
            ],
            [
             0.5,
             "#f7f7f7"
            ],
            [
             0.6,
             "#e6f5d0"
            ],
            [
             0.7,
             "#b8e186"
            ],
            [
             0.8,
             "#7fbc41"
            ],
            [
             0.9,
             "#4d9221"
            ],
            [
             1,
             "#276419"
            ]
           ],
           "sequential": [
            [
             0,
             "#0d0887"
            ],
            [
             0.1111111111111111,
             "#46039f"
            ],
            [
             0.2222222222222222,
             "#7201a8"
            ],
            [
             0.3333333333333333,
             "#9c179e"
            ],
            [
             0.4444444444444444,
             "#bd3786"
            ],
            [
             0.5555555555555556,
             "#d8576b"
            ],
            [
             0.6666666666666666,
             "#ed7953"
            ],
            [
             0.7777777777777778,
             "#fb9f3a"
            ],
            [
             0.8888888888888888,
             "#fdca26"
            ],
            [
             1,
             "#f0f921"
            ]
           ],
           "sequentialminus": [
            [
             0,
             "#0d0887"
            ],
            [
             0.1111111111111111,
             "#46039f"
            ],
            [
             0.2222222222222222,
             "#7201a8"
            ],
            [
             0.3333333333333333,
             "#9c179e"
            ],
            [
             0.4444444444444444,
             "#bd3786"
            ],
            [
             0.5555555555555556,
             "#d8576b"
            ],
            [
             0.6666666666666666,
             "#ed7953"
            ],
            [
             0.7777777777777778,
             "#fb9f3a"
            ],
            [
             0.8888888888888888,
             "#fdca26"
            ],
            [
             1,
             "#f0f921"
            ]
           ]
          },
          "colorway": [
           "#636efa",
           "#EF553B",
           "#00cc96",
           "#ab63fa",
           "#FFA15A",
           "#19d3f3",
           "#FF6692",
           "#B6E880",
           "#FF97FF",
           "#FECB52"
          ],
          "font": {
           "color": "#2a3f5f"
          },
          "geo": {
           "bgcolor": "white",
           "lakecolor": "white",
           "landcolor": "#E5ECF6",
           "showlakes": true,
           "showland": true,
           "subunitcolor": "white"
          },
          "hoverlabel": {
           "align": "left"
          },
          "hovermode": "closest",
          "mapbox": {
           "style": "light"
          },
          "paper_bgcolor": "white",
          "plot_bgcolor": "#E5ECF6",
          "polar": {
           "angularaxis": {
            "gridcolor": "white",
            "linecolor": "white",
            "ticks": ""
           },
           "bgcolor": "#E5ECF6",
           "radialaxis": {
            "gridcolor": "white",
            "linecolor": "white",
            "ticks": ""
           }
          },
          "scene": {
           "xaxis": {
            "backgroundcolor": "#E5ECF6",
            "gridcolor": "white",
            "gridwidth": 2,
            "linecolor": "white",
            "showbackground": true,
            "ticks": "",
            "zerolinecolor": "white"
           },
           "yaxis": {
            "backgroundcolor": "#E5ECF6",
            "gridcolor": "white",
            "gridwidth": 2,
            "linecolor": "white",
            "showbackground": true,
            "ticks": "",
            "zerolinecolor": "white"
           },
           "zaxis": {
            "backgroundcolor": "#E5ECF6",
            "gridcolor": "white",
            "gridwidth": 2,
            "linecolor": "white",
            "showbackground": true,
            "ticks": "",
            "zerolinecolor": "white"
           }
          },
          "shapedefaults": {
           "line": {
            "color": "#2a3f5f"
           }
          },
          "ternary": {
           "aaxis": {
            "gridcolor": "white",
            "linecolor": "white",
            "ticks": ""
           },
           "baxis": {
            "gridcolor": "white",
            "linecolor": "white",
            "ticks": ""
           },
           "bgcolor": "#E5ECF6",
           "caxis": {
            "gridcolor": "white",
            "linecolor": "white",
            "ticks": ""
           }
          },
          "title": {
           "x": 0.05
          },
          "xaxis": {
           "automargin": true,
           "gridcolor": "white",
           "linecolor": "white",
           "ticks": "",
           "title": {
            "standoff": 15
           },
           "zerolinecolor": "white",
           "zerolinewidth": 2
          },
          "yaxis": {
           "automargin": true,
           "gridcolor": "white",
           "linecolor": "white",
           "ticks": "",
           "title": {
            "standoff": 15
           },
           "zerolinecolor": "white",
           "zerolinewidth": 2
          }
         }
        },
        "title": {
         "text": "UMAP – Interests Embeddings 3D (255 users)"
        },
        "width": 900
       }
      }
     },
     "metadata": {},
     "output_type": "display_data"
    }
   ],
   "source": [
    "# Minimal UMAP + Plotly 3D scatter for interests embeddings\n",
    "from umap import UMAP\n",
    "from sklearn.preprocessing import StandardScaler\n",
    "import numpy as np\n",
    "import plotly.graph_objects as go\n",
    "\n",
    "# Collect (name, special, embedding) for users that have interests embeddings\n",
    "data = [\n",
    "    (u.name, bool(getattr(u, \"special\", False)), u.interests_embedding)\n",
    "    for u in population.get_users_with_embeddings()\n",
    "    if getattr(u, \"interests_embedding\", None) is not None\n",
    "]\n",
    "\n",
    "if len(data) < 3:\n",
    "    print(f\"Need ≥3 users with interests embeddings, got {len(data)}\")\n",
    "else:\n",
    "    names, specials, embs = zip(*data)\n",
    "    X = np.vstack(embs)\n",
    "    X = StandardScaler().fit_transform(X)\n",
    "\n",
    "    # 3D UMAP\n",
    "    umap = UMAP(\n",
    "        n_components=3,\n",
    "        n_neighbors=3,\n",
    "        min_dist=3,\n",
    "        metric=\"euclidean\",\n",
    "        random_state=42,\n",
    "        spread = 3\n",
    "    )\n",
    "    X3 = umap.fit_transform(X)\n",
    "\n",
    "    specials = np.array(specials, dtype=bool)\n",
    "    reg_idx = np.where(~specials)[0]\n",
    "    spc_idx = np.where(specials)[0]\n",
    "\n",
    "    fig = go.Figure()\n",
    "\n",
    "    if len(reg_idx):\n",
    "        fig.add_trace(go.Scatter3d(\n",
    "            x=X3[reg_idx, 0], y=X3[reg_idx, 1], z=X3[reg_idx, 2],\n",
    "            mode=\"markers\",\n",
    "            marker=dict(size=5, opacity=0.7, color=\"lightgreen\"),\n",
    "            name=f\"Users ({len(reg_idx)})\",\n",
    "            hovertext=[names[i] for i in reg_idx],\n",
    "            hovertemplate=\"<b>%{hovertext}</b><extra></extra>\"\n",
    "        ))\n",
    "\n",
    "    if len(spc_idx):\n",
    "        fig.add_trace(go.Scatter3d(\n",
    "            x=X3[spc_idx, 0], y=X3[spc_idx, 1], z=X3[spc_idx, 2],\n",
    "            mode=\"markers\",\n",
    "            marker=dict(size=9, symbol=\"diamond\", color=\"red\", line=dict(width=2)),\n",
    "            name=f\"Special ({len(spc_idx)})\",\n",
    "            hovertext=[names[i] for i in spc_idx],\n",
    "            hovertemplate=\"<b>%{hovertext}</b><extra></extra>\"\n",
    "        ))\n",
    "\n",
    "    fig.update_layout(\n",
    "        title=f\"UMAP – Interests Embeddings 3D ({len(names)} users)\",\n",
    "        scene=dict(\n",
    "            xaxis_title=\"UMAP-1\",\n",
    "            yaxis_title=\"UMAP-2\",\n",
    "            zaxis_title=\"UMAP-3\"\n",
    "        ),\n",
    "        width=900, height=700,\n",
    "        hovermode=\"closest\"\n",
    "    )\n",
    "\n",
    "    fig.show()"
   ]
  },
  {
   "cell_type": "code",
   "execution_count": 17,
   "metadata": {},
   "outputs": [
    {
     "name": "stdout",
     "output_type": "stream",
     "text": [
      "Sofiia \n",
      "{'Openness': \"This individual demonstrates a selective curiosity, enjoying intellectual exploration and a willingness to engage with abstract or experimental art, even when not fully understood. They are keen on learning about unfamiliar topics for personal enrichment and appreciate debating differing viewpoints to broaden their understanding. However, this openness doesn't consistently extend to practical experiences; they show a preference for familiar comforts in areas like media consumption and may not actively seek out new culinary or travel experiences, suggesting a more theoretical than experiential approach to novelty.\", 'Conscientiousness': 'This individual exhibits a profound lack of conscientiousness, indicating a generally disorganized and impulsive approach to life. There is no evidence of routine planning, timely execution of tasks, or a proactive stance on responsibilities. They likely struggle with deadlines, maintain cluttered environments, and manage finances poorly, suggesting a significant challenge in self-discipline and goal attainment.', 'Extraversion': 'This individual appears to be a pronounced introvert, consistently preferring solitude and quiet environments over social interaction. They are likely to feel drained by large gatherings and seek out alone time to recharge. Their communication style tends towards private methods, and they are unlikely to initiate social engagements or engage with strangers, indicating a strong preference for independent activities and a reserved demeanor.', 'Agreeableness': \"This individual demonstrates a low degree of agreeableness, often prioritizing their own preferences and exhibiting a cautious approach to trust. They are direct in expressing their displeasure and may not readily adjust their plans to accommodate others. While capable of remembering important details for close relationships, there's a strong indication of assertiveness in group settings and a tendency to put personal needs first, suggesting a more independent and less accommodating interpersonal style.\", 'Neuroticism': 'This individual appears to be remarkably stable and resilient, showing very low levels of neuroticism. They are unlikely to be easily flustered by unexpected events or dwell on past interactions. Their mood remains generally steady, and they recover quickly from setbacks, indicating a calm and composed demeanor even in challenging situations. They exhibit a strong ability to manage stress and uncertainty without significant emotional distress.'}\n",
      "This individual presents as a deeply contemplative and analytically-minded person, driven by a profound curiosity about the intricacies of human experience and the world around them. Their intellectual pursuits suggest a cognitive style that thrives on dissecting complex systems, whether it's the hidden layers of narrative, the scientific underpinnings of human behavior, or the strategic elements of learning. They are not content with surface-level understanding, consistently seeking deeper meaning and underlying principles, evident in their appreciation for themes of sacrifice, choice, and critical thinking. Emotionally, they appear to be introspective and self-aware, valuing health, balance, and personal growth. While they enjoy creative expression through various arts, their engagement seems to extend beyond mere enjoyment to an exploration of the deeper messages embedded within. Socially, they prefer intimate, meaningful connections, gravitating towards deep conversations about profound topics like philosophy, psychology, and life's purpose. Their comfort in small groups and solitary activities like journaling and exercise indicates a need for personal space and reflection, suggesting a thoughtful and perhaps introverted disposition, yet one that is also action-oriented and committed to personal well-being. Ultimately, they are a pragmatic idealist, seeking both understanding and application, driven by a desire to learn, grow, and uncover the mysteries of existence.\n"
     ]
    }
   ],
   "source": [
    "for user in population.users:\n",
    "    if \"sofiia\" in user.name.lower():\n",
    "        print(user.name)\n",
    "        print(user.personality_profiles)\n",
    "        print(user.interests_profile)\n",
    "\n",
    "        break"
   ]
  },
  {
   "cell_type": "code",
   "execution_count": 20,
   "metadata": {},
   "outputs": [
    {
     "data": {
      "application/vnd.plotly.v1+json": {
       "config": {
        "plotlyServerURL": "https://plot.ly"
       },
       "data": [
        {
         "hovertemplate": "<b>%{hovertext}</b><extra></extra>",
         "hovertext": [
          "William Castaneda",
          "Michelle \"MJ\" Jones",
          "Jamie Chen",
          "Raymond Ortiz",
          "Sarah Chen",
          "Susan West",
          "Daniel Mercer",
          "Brian Thornton",
          "Heather Jimenez",
          "Emily Parsons",
          "Beth Clarke",
          "Gina Villanueva",
          "Olivia Chen",
          "Olivia Chen",
          "Carl Snow",
          "Anya Sharma",
          "Nicholas Russo",
          "Mary Ball",
          "Chloe Nguyen",
          "Erin Thomas",
          "Micheal Roy",
          "Stacy Anderson",
          "Elena Rodriguez",
          "Billy Morales",
          "Kevin Green",
          "Timothy Stewart",
          "Lena Petrova",
          "Wren Kestrel",
          "Eliza Vance",
          "Benjamin Jones",
          "Elizabeth Williams",
          "Tommy Barker",
          "Sandra Kemp",
          "Allison Brown",
          "Selena Garcia",
          "Bryan Chambers",
          "Amanda Reynolds",
          "Jeffrey Horn",
          "Ace Rodriguez",
          "Daniel Williams",
          "Kimberly King",
          "James Vargas",
          "Beth Kelly",
          "Cheryl Glass",
          "Amber Bradley",
          "Helen Gomez",
          "Chelsea Bird",
          "Alexander Tucker",
          "Robert Hill",
          "Donna Miller",
          "Alyssa Roberts",
          "Tammy Henderson",
          "Linda Perez",
          "Nicole Fisher",
          "Robert Campbell",
          "Jennifer Cummings",
          "Russell Gross",
          "Krystal Mckenzie",
          "Jessica Acevedo",
          "Eliza \"Sunshine\" Vance",
          "Sarah Jenkins",
          "Kristen Alvarez",
          "Heather Luna",
          "Dr. Jordan Shannon",
          "Dustin Mullen",
          "Beverly Love",
          "William Foster",
          "Jerry Stanley",
          "Joshua Hatfield",
          "Nicholas Williams",
          "Michelle Rogers",
          "Elara Vance",
          "Daniel Porter",
          "Maya Rodriguez",
          "Angela Scott",
          "Jennifer Ray",
          "Edward Dominguez",
          "Maurice Nichols",
          "Christopher Jones",
          "Evelyn Thorne",
          "Dawn Howard",
          "Jennifer Mercado",
          "Amelia Hayes",
          "Ethan Vance",
          "Elara Meadowlight (legally John Rogers)",
          "Edward Stephens II",
          "Alice Chen",
          "Brenda Santos",
          "Stella Maris",
          "Joshua Parker",
          "Eleanor Vance",
          "Spencer White",
          "Kimberly Parrish",
          "Ryan Carey",
          "Yesenia Whitney",
          "Brent Contreras",
          "Raymond Martin",
          "Cindy Ramirez",
          "Elizabeth Webb",
          "Mitchell Navarro",
          "Denise Robinson",
          "Larry Rivers",
          "Richard Sims",
          "Tammy Mckee",
          "Amanda Padilla",
          "Dominique Turner",
          "Caroline Thompson",
          "Sarah Chen",
          "Cheryl Erickson",
          "Anya Sharma",
          "Debbie Combs",
          "Andrew Franco",
          "Holly Robbins",
          "Kimberly Brady",
          "William Frey",
          "Andrew \"Aethelred\" Sterling",
          "Sheila Clark",
          "Samuel Morrison",
          "Ryan Lee",
          "Jeffrey Rojas",
          "Russell Curtis",
          "Katherine Hall",
          "Jacob Smith",
          "Katie Collier",
          "James Lamb",
          "Darlene Lawrence",
          "Luna Skye Hawthorne",
          "Erik Peterson",
          "Lisa Mitchell",
          "Luna Seraphina Willow",
          "Aurora Vance",
          "Jason Mckinney",
          "Jamie Gonzales",
          "Tiffany Moody",
          "Maria Vazquez",
          "Carlos Torres",
          "Justin Miller",
          "Jose Ellison",
          "Blake Lawrence",
          "Christopher Travis",
          "Kenneth Escobar",
          "Sarah Shaffer",
          "Jesse Holland",
          "Anne Peterson",
          "Elara Vance",
          "Michael Watson",
          "Linda Garcia",
          "Andrea Davis",
          "Thomas Webster",
          "Lilith Thorne",
          "Jennifer Wolfe",
          "Linda Richardson",
          "Jerry Rogers II",
          "Jill Nolan",
          "William Morrison",
          "Andrew Johnson",
          "Jamie Woodward",
          "Clara Ellison",
          "John Bishop",
          "Maya Rodriguez",
          "Devin Harris",
          "Sarah Chen",
          "Rebecca Sanchez",
          "Cameron Avery",
          "Laura Graham",
          "Elara Vance",
          "Sarah Chen",
          "Elara Vance",
          "Kristina Marshall",
          "Larry Rodriguez",
          "Robert Harrell",
          "Albert Hunt",
          "Clara Bellewood",
          "Chloe Nguyen",
          "Adam Woodard",
          "Akari Tanaka",
          "Jennifer Butler",
          "Amelia Vance",
          "Sabrina George",
          "Lyra Meadowsweet",
          "Helena Vance",
          "Victoria Martinez",
          "Mindy Lee",
          "Carla Williams",
          "Robert Ochoa",
          "Cesar Yoder",
          "Kelly Nash",
          "Crystal Hall",
          "Maya Angelou",
          "Ashley Austin",
          "Tiffany Goodman",
          "Kimberly Morales",
          "Amanda Christensen",
          "Heather Barnes",
          "Luna \"Hex\" Blackwood",
          "Christine Long",
          "Angela Martinez",
          "Anya Petrova",
          "Lindsey Gray",
          "Elara Vance",
          "Jeremy Kennedy",
          "Larry Wilson",
          "Richard Yang",
          "Carrie Taylor",
          "Laura Wall",
          "Terri Murphy",
          "Anya Sharma",
          "Maya Rodriguez",
          "Maya Rodriguez",
          "Elena Rossi",
          "Shirley Henderson",
          "Dennis Wallace",
          "Miguel Johnston",
          "Madison Brooks",
          "Sean Stone",
          "Brian Acosta",
          "Lawrence Avila",
          "Elara Meadowlight",
          "Stephen Bryant",
          "Olivia Chang",
          "Eric Thompson",
          "Linda Lee",
          "Angela Ortiz",
          "William Carpenter",
          "Kari Clark",
          "Ella Sanchez",
          "Jennifer Glover",
          "Luna Maeve",
          "Lori Butler",
          "Liam Vance",
          "Luna Everhart",
          "Anna Price",
          "Julie Fischer",
          "Chloe Davis",
          "Glen Harris",
          "Anya Sharma",
          "Dylan Phillips",
          "Ricardo Warren",
          "Deborah Johnson"
         ],
         "marker": {
          "color": "royalblue",
          "opacity": 0.75,
          "size": 6
         },
         "mode": "markers",
         "name": "conscientiousness-users",
         "type": "scatter",
         "x": {
          "bdata": "kmNGQfyLRUHZsmNBEoaSQcxaZ0HIaEJBZrJMQT4NmEF5tWFBdLB6QVPdcEGgJ5lBn4B4QWPnlEHfgVhBujVpQSuGgEFpp39BdFKAQa3/bUEhG01BxjdeQeZ4iUGgzolBAdV9QVW+UkFyyURBcJaFQSxwU0EzqXZBiTZVQaomgUGi71hBK+h3Qaz+g0HPflNB40aBQcSHYkH80X9BGUZ/QXiRYkHw5kNByiBiQRKzhEEVeGRBwt1rQV0EgEHc9GZBtruAQXblRUHzBZZBZbKGQQ/XckFlXXxB+JhgQdFpe0EHxX1BMidlQYHcgEFlRZhB7HtNQaXefUHwVndBdOtIQapQR0Er33ZBJipDQT+XfEEnWYlBlySYQW0SM0GmRXVBB69vQQt7ZkGO4GJBHxCBQZzZdUG4QWxB+PBYQdoYiUGHz35BUnV4QVSub0H50FBBa0hGQfe4PkHFhnlB96h5QVHiS0HaIWFBdBlTQQNccUHBd4hBnJ01QQAHTUEzeIJBUlJUQWozgUES+IhBAB5MQQT4WEEAljdBop5vQZqfT0GJcWRBvGlbQdTOakE2E0JB+8qEQY2+YEHRemxBWW6BQf3RX0HaC2pBMEhcQVhoNkHx6INBAJtgQWzzVUEfvXxBHM1FQaT4TUHBt1dBf+iJQWEGYUGN6VRB9pSYQfSEiUFHKTZBgByVQVy3U0GcN0dBQ6RmQWXGfUGqpFlBkxuDQVTOcUHCcYJB9/ZkQUNyT0Ee1FdBvnB5QXLPf0E2hURBnshNQXRvhUF+X4RBlZWEQS4QdEFV1YBBjx50QSTCckGFX1BBb+tZQaUWiUFd7XpB75A4Qc/uekEfQE9BFeJpQWOvUEHTxmxBpeFZQZUka0Gi4VpBloNoQV2mekEpE4VBXptiQYiAU0GAVl1BIdBRQRZaX0Hpl3RBJ4mFQQoMSEFnFn1BKjxMQW8dR0FJ9YBBNlE/QZfkgEGrvHtBKXV0QV/rh0G5cYNB0e83Qd3bgkFEtYBBavuWQbC8WUH7ioBBtHpvQee2T0HvUpVBkmluQWoIT0HnjoFByOqBQUNLRkF1VEVBMGZlQQljg0E0V0VBdHCKQXj+c0Eso05BsFhkQUX1g0HGRmtByeJKQSmTWkHDIHRBzm+JQYVJT0FnlHlB+/WWQbhQa0EbY19Bph1jQX1kh0Fc4mtBY1CZQWxhf0F8RVtBexxgQQ4WZkGKcJhB0kqWQc77TkGYEkVB075bQT+STEG+8llB32iTQa/SbkEBc15BVS6EQcNeZkE=",
          "dtype": "f4"
         },
         "xaxis": "x",
         "y": {
          "bdata": "Z4QPQW2GKkFEBBtBn4A7QB0U8UC1FyZBih8uQZEZSUBenfJARSMWQZf1N0GvXVVA+aM+QWJ9N0DZmSBBdiIYQUjlPUEkLSNB0XQPQfBbNkE8IBlBY6EvQbbfE0HEWh1BxJURQd3F80BcDB9BXyE7QV7bAkEdyvxAH0HxQKR+OkGxoCxB5CIvQYIAMkHvK/VAzk8WQTgH/kCiIyhB/iD7QDEiP0GQ+y9BzakbQZW7CkGyV/FAnf0jQXqg9kBZofxAM0j0QEtPEEHMEDFA08MKQbRrBEHoSzxBREYkQfK6AEHUvQlB65kpQVYT+EAimC5A3EAbQfFrOEG7iPNADpkGQZ0UDkE7U/dAZWUaQX///UAAuxlB7N89QPLZEEHUaghBhVP9QDFUB0G0KkNBYis9QavoHEHEKwZBMeP2QJSDC0EIChlByi8mQRBOG0GZNRFBqN0JQXPRBEGZLR9BsN0wQd7//UBcqxNBxyUCQRZdGEF7FSNBt/kLQcOtLEEAwjRBw+wVQfDAAEGufA9Bc6U2QXQ0KkGtDA5Bczv1QAlNG0GQHBVBMAUtQT7dLkFzqhZBdXA3QXY7JEEFgxpBKk09Qe8IF0E12jtBeZ0kQSWLFEGAEwJBecNBQbvIHkG30wtBh3sQQWsiGUEtfwlBARkfQdli90CwrfxANXA1QDa4C0G2lApBKJ84QAwEN0FZdiVBdXBCQSV2+EDXIRVBsIIJQYTZHEEMGzxBFeAKQaqAIUFyPvNAG6IjQdr7GkF6mihBISsLQQ+yAkGVXT5BBOgsQdq6J0EI7zBBWBAuQcBW80B34BNBU9ojQdnMDEEWFxBB5ecJQdyKOkG26iNBmA70QE1KEkHT0TpBB8XtQHkaGEH6OyxBYvU/QZIAN0FAEj1B2HMvQenvGUE5yEBBTlUuQZbpKUEzNQRBga0BQabwMEG8kyZBZVkrQfr+CUHQ7CVB2s0DQf069kAHbSJBMDsqQVQ1NUFNpDNBHccKQYFHO0EV3zFBQvhKQEJJK0HUIwRB0eAAQUy9C0HYeSlA7B4VQYn4+kBRTixB0GNBQRSkLUHejDFBEU1EQchDOkF2TgFBxkAhQVIjM0EMoShB2KcTQUZxK0GMqRtBitUyQfcDIEEO+zVB5asjQdLVK0GcSgRBTG46QBcZPUGZFEBBAREBQW4SKkEgZARBxyJSQNAqBEHwZBtBljw9QVPSJkFnqj1AJo9MQMQIAEFKUSJBis41QcEAAkF77iJBKW04QJXMC0GZmRlBaxlAQRaAEkE=",
          "dtype": "f4"
         },
         "yaxis": "y"
        },
        {
         "hovertemplate": "<b>%{hovertext}</b><extra></extra>",
         "hovertext": [
          "Yahya Rahhawi",
          "Nikola Tesla",
          "Ada Lovelace",
          "Alan Turing",
          "Aristotle",
          "Nelson Mandela",
          "Mahatma Gandhi",
          "Cleopatra",
          "Steve Jobs",
          "Elon Musk",
          "Sherlock Holmes",
          "Tony Stark",
          "Walter White",
          "Leonardo da Vinci",
          "Greta Thunberg",
          "Sofiia "
         ],
         "marker": {
          "color": "crimson",
          "line": {
           "width": 2
          },
          "size": 9,
          "symbol": "diamond"
         },
         "mode": "markers",
         "name": "conscientiousness-special",
         "type": "scatter",
         "x": {
          "bdata": "NgJ8Qb+Hx0BGkcZAjzDJQCq/ykCTScNACujAQCVK0UBoaMZA2LbEQCEzy0AqM8tAgLPPQEVrxECgp8JAYl6YQQ==",
          "dtype": "f4"
         },
         "xaxis": "x",
         "y": {
          "bdata": "PHosQQ52UUFsh1FBGXRTQUOsUUHUuVZB9h1YQW8UUEEmC1dBydlXQfjDVEH811JBS1BTQc5ZUEF9xFdBAmVBQA==",
          "dtype": "f4"
         },
         "yaxis": "y"
        },
        {
         "hovertemplate": "<b>%{hovertext}</b><extra></extra>",
         "hovertext": [
          "William Castaneda",
          "Michelle \"MJ\" Jones",
          "Jamie Chen",
          "Raymond Ortiz",
          "Sarah Chen",
          "Susan West",
          "Daniel Mercer",
          "Brian Thornton",
          "Heather Jimenez",
          "Emily Parsons",
          "Beth Clarke",
          "Gina Villanueva",
          "Olivia Chen",
          "Olivia Chen",
          "Carl Snow",
          "Anya Sharma",
          "Nicholas Russo",
          "Mary Ball",
          "Chloe Nguyen",
          "Erin Thomas",
          "Micheal Roy",
          "Stacy Anderson",
          "Elena Rodriguez",
          "Billy Morales",
          "Kevin Green",
          "Timothy Stewart",
          "Lena Petrova",
          "Wren Kestrel",
          "Eliza Vance",
          "Benjamin Jones",
          "Elizabeth Williams",
          "Tommy Barker",
          "Sandra Kemp",
          "Allison Brown",
          "Selena Garcia",
          "Bryan Chambers",
          "Amanda Reynolds",
          "Jeffrey Horn",
          "Ace Rodriguez",
          "Daniel Williams",
          "Kimberly King",
          "James Vargas",
          "Beth Kelly",
          "Cheryl Glass",
          "Amber Bradley",
          "Helen Gomez",
          "Chelsea Bird",
          "Alexander Tucker",
          "Robert Hill",
          "Donna Miller",
          "Alyssa Roberts",
          "Tammy Henderson",
          "Linda Perez",
          "Nicole Fisher",
          "Robert Campbell",
          "Jennifer Cummings",
          "Russell Gross",
          "Krystal Mckenzie",
          "Jessica Acevedo",
          "Eliza \"Sunshine\" Vance",
          "Sarah Jenkins",
          "Kristen Alvarez",
          "Heather Luna",
          "Dr. Jordan Shannon",
          "Dustin Mullen",
          "Beverly Love",
          "William Foster",
          "Jerry Stanley",
          "Joshua Hatfield",
          "Nicholas Williams",
          "Michelle Rogers",
          "Elara Vance",
          "Daniel Porter",
          "Maya Rodriguez",
          "Angela Scott",
          "Jennifer Ray",
          "Edward Dominguez",
          "Maurice Nichols",
          "Christopher Jones",
          "Evelyn Thorne",
          "Dawn Howard",
          "Jennifer Mercado",
          "Amelia Hayes",
          "Ethan Vance",
          "Elara Meadowlight (legally John Rogers)",
          "Edward Stephens II",
          "Alice Chen",
          "Brenda Santos",
          "Stella Maris",
          "Joshua Parker",
          "Eleanor Vance",
          "Spencer White",
          "Kimberly Parrish",
          "Ryan Carey",
          "Yesenia Whitney",
          "Brent Contreras",
          "Raymond Martin",
          "Cindy Ramirez",
          "Elizabeth Webb",
          "Mitchell Navarro",
          "Denise Robinson",
          "Larry Rivers",
          "Richard Sims",
          "Tammy Mckee",
          "Amanda Padilla",
          "Dominique Turner",
          "Caroline Thompson",
          "Sarah Chen",
          "Cheryl Erickson",
          "Anya Sharma",
          "Debbie Combs",
          "Andrew Franco",
          "Holly Robbins",
          "Kimberly Brady",
          "William Frey",
          "Andrew \"Aethelred\" Sterling",
          "Sheila Clark",
          "Samuel Morrison",
          "Ryan Lee",
          "Jeffrey Rojas",
          "Russell Curtis",
          "Katherine Hall",
          "Jacob Smith",
          "Katie Collier",
          "James Lamb",
          "Darlene Lawrence",
          "Luna Skye Hawthorne",
          "Erik Peterson",
          "Lisa Mitchell",
          "Luna Seraphina Willow",
          "Aurora Vance",
          "Jason Mckinney",
          "Jamie Gonzales",
          "Tiffany Moody",
          "Maria Vazquez",
          "Carlos Torres",
          "Justin Miller",
          "Jose Ellison",
          "Blake Lawrence",
          "Christopher Travis",
          "Kenneth Escobar",
          "Sarah Shaffer",
          "Jesse Holland",
          "Anne Peterson",
          "Elara Vance",
          "Michael Watson",
          "Linda Garcia",
          "Andrea Davis",
          "Thomas Webster",
          "Lilith Thorne",
          "Jennifer Wolfe",
          "Linda Richardson",
          "Jerry Rogers II",
          "Jill Nolan",
          "William Morrison",
          "Andrew Johnson",
          "Jamie Woodward",
          "Clara Ellison",
          "John Bishop",
          "Maya Rodriguez",
          "Devin Harris",
          "Sarah Chen",
          "Rebecca Sanchez",
          "Cameron Avery",
          "Laura Graham",
          "Elara Vance",
          "Sarah Chen",
          "Elara Vance",
          "Kristina Marshall",
          "Larry Rodriguez",
          "Robert Harrell",
          "Albert Hunt",
          "Clara Bellewood",
          "Chloe Nguyen",
          "Adam Woodard",
          "Akari Tanaka",
          "Jennifer Butler",
          "Amelia Vance",
          "Sabrina George",
          "Lyra Meadowsweet",
          "Helena Vance",
          "Victoria Martinez",
          "Mindy Lee",
          "Carla Williams",
          "Robert Ochoa",
          "Cesar Yoder",
          "Kelly Nash",
          "Crystal Hall",
          "Maya Angelou",
          "Ashley Austin",
          "Tiffany Goodman",
          "Kimberly Morales",
          "Amanda Christensen",
          "Heather Barnes",
          "Luna \"Hex\" Blackwood",
          "Christine Long",
          "Angela Martinez",
          "Anya Petrova",
          "Lindsey Gray",
          "Elara Vance",
          "Jeremy Kennedy",
          "Larry Wilson",
          "Richard Yang",
          "Carrie Taylor",
          "Laura Wall",
          "Terri Murphy",
          "Anya Sharma",
          "Maya Rodriguez",
          "Maya Rodriguez",
          "Elena Rossi",
          "Shirley Henderson",
          "Dennis Wallace",
          "Miguel Johnston",
          "Madison Brooks",
          "Sean Stone",
          "Brian Acosta",
          "Lawrence Avila",
          "Elara Meadowlight",
          "Stephen Bryant",
          "Olivia Chang",
          "Eric Thompson",
          "Linda Lee",
          "Angela Ortiz",
          "William Carpenter",
          "Kari Clark",
          "Ella Sanchez",
          "Jennifer Glover",
          "Luna Maeve",
          "Lori Butler",
          "Liam Vance",
          "Luna Everhart",
          "Anna Price",
          "Julie Fischer",
          "Chloe Davis",
          "Glen Harris",
          "Anya Sharma",
          "Dylan Phillips",
          "Ricardo Warren",
          "Deborah Johnson"
         ],
         "marker": {
          "color": "royalblue",
          "opacity": 0.75,
          "size": 6
         },
         "mode": "markers",
         "name": "openness-users",
         "type": "scatter",
         "x": {
          "bdata": "zK84QQWfXkGkPUVBFoVFQdOTK0H3UitB6RcVQQPIH0F9TClBsOk0QWxFMEGejF5Bby9lQSWtKEGLQjdBw+1UQa02DkGqQydBkZ1dQVQrPkHFKjpB4+FMQUoGNkFWuilBniBdQU31NkH1MiJBJTFVQftLWEFwjGVBGns1QYHfKEHGIWNB4gY6QfdlV0GOJi9BifQ5QUrIOkHCmCRBZu9UQTE2P0EUOSNBVANGQUtEO0H5HzRB2pNdQY8NWkHCc0pBmKlLQbN7PUFd5B1BEzlGQRCrXEGG9i9BFasjQd0hOkELnDRBaohVQXPVTEFJs0dBGlokQb0qSEG3yEZBjP0+QTXlZ0F56VBBbNovQXRdR0H5AxFBqm4tQYNYXkHbYSxBYkElQdwFVUG2H0VBmUZTQSeTP0FB+i1B5K9PQb29LEGCPFxBDsdkQWmfJUFnsTtBaQlEQUWrXkH1tDJBEdUmQQxFNkHfmyBBAP9kQbLMXUGV9UNBAuNnQZRMMEFIf0hBsXtaQXHRUEHSbl5B6FxiQYZuSkEhVSZBqskNQZN/Y0H4YCNB13EuQUTbOkHlLy1BLjg8QTDIZEFIeERB5XRgQf1dRkGCOFJBcxRdQdhVO0FJwTBBR2BWQeahJEG74BxBQoYOQYn0R0EUzBVBFJ5DQf4zWUEbf2ZBYXFGQRAOL0HVMxxBxQFjQdo8YEG7oyVB0hExQXRsZUEdlklBBh49QaxdXEEFZzlBHkBLQTyQYUF5q11B8hE5QctsKEEgnWdBW3YrQTARR0ECaU5B8LcmQc5oN0G6zSZB9DNgQfcYMkEpLjxByYZKQcx2MEG2Uy5BqWVrQVwOPEGvSx9BMeJnQa/ESEGX70JBCjUgQQhVJEFLtGNBrpU2Qa5wSEFEnmRBJ1dIQZDCQkEPcUJBh71FQcYNY0FyH0lBP3ksQYguS0EfF1VB9+k9QfrvHUHxPD9BDMRSQZDvVUGV5lFBvUtlQXDOEUEpLCdBVOQNQXNcH0Gu3GNBKgMhQRmXJ0FRtUZBaT5jQd3AX0GeeltB+DRUQXfbUUGRn2NBaTIwQQnyKUGZ3WVBDVpJQTB1JkFUyyhBtx8fQZuMJ0EETktBlE80QXsHR0HJ2VVBiF4mQQfVZUF6rDlBMcZDQQOrUEG2nTdBlElLQaEKMEGQkDJBOzsRQZIuKEGKV05BVQU0QXclUkG8VzxB7ctLQXfIN0F2/klBHrsgQY78NUFf6z5But9QQUfXKEHzSmBBI4kyQU1jUkFgXiZBs28/QZHoK0E=",
          "dtype": "f4"
         },
         "xaxis": "x2",
         "y": {
          "bdata": "7b/AQDk/8kC0Dg1BiBTRQO+T9EDShitB3Sz8QPCiyUDAdtNApwL1QIReC0GF3QZBMzwHQU1FKEFlHhVBS7UIQdLUA0Eqt91AvCiwQBwcv0A297hAzxcsQdjgp0AE3L5AOLhNQPmkAEHI3bxAfCY4QRqRzkDaKlNA2JwTQTtix0BUTpZAlAapQJEJuECeXLxAT7UEQQiMrUCeGfRAC1Q4QcSRo0AMXuNAVtE2QWGF8kBhigZBR6VSQEagfUCJiQJBCjoGQWq4pUB42BNB+Er5QPKUXkDEyjBBnxrkQLL3CkEIERZB2yfYQA2Kr0Cd+alAntXZQCyi9UBcAfdAcyINQTzCZ0BUXtxAVYzcQBk/CkEeOwBBAm0RQTEwTUDGCClBftwiQQ+0OUHKf6hA5Zw5QTIjuUB/NdhAQU7pQFbPLkFYF1VA3COSQK5Ax0AYU7xA4qfhQIXKUEDPGr1AqxsPQWkrzEBUDgxBlR52QG1U5UD9iQ1BRm1jQLcg6EDCQw9BZVAGQXB+5kB2r/pA4UkBQfqhM0HYoiFBF/QBQYYjAkFQmudA4gMDQQGmMUG4NShB8SGzQBj/BUFt3s5ADez+QN9iMUFPrgVB1SPnQEcBp0Dt5jJB/80EQeXR6UBLl89AhqMAQcigwkDAQv9A1dEsQU6OBEHOMY5AgS44QTxbMUHSLBBBumZfQEe6+EDDWg5BFIKwQMfB+ED1879A80MBQQHKXUAlvMhA2ZssQaAh00B+ycxAMxMQQShJFkHTJVlABgfZQO1nO0GVqdRAlaa8QL60E0GUEAdBzC4HQSy4EEHCNupAqaIBQcqs4EAMrA1B6fpqQOvFEUH0xhJBFXCLQCU16ECLWahABgsVQRH3GkEuGFhAxWquQN2e5kDbxAdBvUU3QUiL10BMLrZANzYqQQ1kYEDvtgdB4f8ZQbuoNEE+OudAJLnVQIBZEkG6/udAaaWwQCDiskBFe/JA80z/QGdvA0HlniJBdTEBQehwB0Ed3gZBHwgCQfs/H0GANadAfCtSQOJS0UDpQdxAJDOuQNsU00CJKf1AVqnJQEqCCkEq0Y1AyuP/QFcowkC+U+xAqvQAQXtet0D0uztBHU41QfunCEGv+/dAUH4AQUiaCEEG+xtB7vgOQYQ6OkFXAQdBFLDSQE5esEAB2QVBH+0CQbTaC0Eli61Al53KQAgnO0FiSTNB9X7IQMe8CkHFJDVBpkfJQEq49kDBeA5BtF6DQMPL0UBaJ+RAOWPBQKZmOEGi1AJB/NwyQeV6LEE=",
          "dtype": "f4"
         },
         "yaxis": "y2"
        },
        {
         "hovertemplate": "<b>%{hovertext}</b><extra></extra>",
         "hovertext": [
          "Yahya Rahhawi",
          "Nikola Tesla",
          "Ada Lovelace",
          "Alan Turing",
          "Aristotle",
          "Nelson Mandela",
          "Mahatma Gandhi",
          "Cleopatra",
          "Steve Jobs",
          "Elon Musk",
          "Sherlock Holmes",
          "Tony Stark",
          "Walter White",
          "Leonardo da Vinci",
          "Greta Thunberg",
          "Sofiia "
         ],
         "marker": {
          "color": "crimson",
          "line": {
           "width": 2
          },
          "size": 9,
          "symbol": "diamond"
         },
         "mode": "markers",
         "name": "openness-special",
         "type": "scatter",
         "x": {
          "bdata": "+Q9pQUYnIcBijxrApXgnwHKpHcBPchLA3s4bwDzZDsAmLAvAszUfwObAIcAj8inA1hAxwDk6K8AwURLAmu0zQQ==",
          "dtype": "f4"
         },
         "xaxis": "x2",
         "y": {
          "bdata": "1LNuQNAiqUCGCatAaCqoQOuTp0AVIKhAJH2tQIX0p0DADKVAqRGwQPejo0C21apAD0CoQIIhrECEna9AA1EiQQ==",
          "dtype": "f4"
         },
         "yaxis": "y2"
        },
        {
         "hovertemplate": "<b>%{hovertext}</b><extra></extra>",
         "hovertext": [
          "William Castaneda",
          "Michelle \"MJ\" Jones",
          "Jamie Chen",
          "Raymond Ortiz",
          "Sarah Chen",
          "Susan West",
          "Daniel Mercer",
          "Brian Thornton",
          "Heather Jimenez",
          "Emily Parsons",
          "Beth Clarke",
          "Gina Villanueva",
          "Olivia Chen",
          "Olivia Chen",
          "Carl Snow",
          "Anya Sharma",
          "Nicholas Russo",
          "Mary Ball",
          "Chloe Nguyen",
          "Erin Thomas",
          "Micheal Roy",
          "Stacy Anderson",
          "Elena Rodriguez",
          "Billy Morales",
          "Kevin Green",
          "Timothy Stewart",
          "Lena Petrova",
          "Wren Kestrel",
          "Eliza Vance",
          "Benjamin Jones",
          "Elizabeth Williams",
          "Tommy Barker",
          "Sandra Kemp",
          "Allison Brown",
          "Selena Garcia",
          "Bryan Chambers",
          "Amanda Reynolds",
          "Jeffrey Horn",
          "Ace Rodriguez",
          "Daniel Williams",
          "Kimberly King",
          "James Vargas",
          "Beth Kelly",
          "Cheryl Glass",
          "Amber Bradley",
          "Helen Gomez",
          "Chelsea Bird",
          "Alexander Tucker",
          "Robert Hill",
          "Donna Miller",
          "Alyssa Roberts",
          "Tammy Henderson",
          "Linda Perez",
          "Nicole Fisher",
          "Robert Campbell",
          "Jennifer Cummings",
          "Russell Gross",
          "Krystal Mckenzie",
          "Jessica Acevedo",
          "Eliza \"Sunshine\" Vance",
          "Sarah Jenkins",
          "Kristen Alvarez",
          "Heather Luna",
          "Dr. Jordan Shannon",
          "Dustin Mullen",
          "Beverly Love",
          "William Foster",
          "Jerry Stanley",
          "Joshua Hatfield",
          "Nicholas Williams",
          "Michelle Rogers",
          "Elara Vance",
          "Daniel Porter",
          "Maya Rodriguez",
          "Angela Scott",
          "Jennifer Ray",
          "Edward Dominguez",
          "Maurice Nichols",
          "Christopher Jones",
          "Evelyn Thorne",
          "Dawn Howard",
          "Jennifer Mercado",
          "Amelia Hayes",
          "Ethan Vance",
          "Elara Meadowlight (legally John Rogers)",
          "Edward Stephens II",
          "Alice Chen",
          "Brenda Santos",
          "Stella Maris",
          "Joshua Parker",
          "Eleanor Vance",
          "Spencer White",
          "Kimberly Parrish",
          "Ryan Carey",
          "Yesenia Whitney",
          "Brent Contreras",
          "Raymond Martin",
          "Cindy Ramirez",
          "Elizabeth Webb",
          "Mitchell Navarro",
          "Denise Robinson",
          "Larry Rivers",
          "Richard Sims",
          "Tammy Mckee",
          "Amanda Padilla",
          "Dominique Turner",
          "Caroline Thompson",
          "Sarah Chen",
          "Cheryl Erickson",
          "Anya Sharma",
          "Debbie Combs",
          "Andrew Franco",
          "Holly Robbins",
          "Kimberly Brady",
          "William Frey",
          "Andrew \"Aethelred\" Sterling",
          "Sheila Clark",
          "Samuel Morrison",
          "Ryan Lee",
          "Jeffrey Rojas",
          "Russell Curtis",
          "Katherine Hall",
          "Jacob Smith",
          "Katie Collier",
          "James Lamb",
          "Darlene Lawrence",
          "Luna Skye Hawthorne",
          "Erik Peterson",
          "Lisa Mitchell",
          "Luna Seraphina Willow",
          "Aurora Vance",
          "Jason Mckinney",
          "Jamie Gonzales",
          "Tiffany Moody",
          "Maria Vazquez",
          "Carlos Torres",
          "Justin Miller",
          "Jose Ellison",
          "Blake Lawrence",
          "Christopher Travis",
          "Kenneth Escobar",
          "Sarah Shaffer",
          "Jesse Holland",
          "Anne Peterson",
          "Elara Vance",
          "Michael Watson",
          "Linda Garcia",
          "Andrea Davis",
          "Thomas Webster",
          "Lilith Thorne",
          "Jennifer Wolfe",
          "Linda Richardson",
          "Jerry Rogers II",
          "Jill Nolan",
          "William Morrison",
          "Andrew Johnson",
          "Jamie Woodward",
          "Clara Ellison",
          "John Bishop",
          "Maya Rodriguez",
          "Devin Harris",
          "Sarah Chen",
          "Rebecca Sanchez",
          "Cameron Avery",
          "Laura Graham",
          "Elara Vance",
          "Sarah Chen",
          "Elara Vance",
          "Kristina Marshall",
          "Larry Rodriguez",
          "Robert Harrell",
          "Albert Hunt",
          "Clara Bellewood",
          "Chloe Nguyen",
          "Adam Woodard",
          "Akari Tanaka",
          "Jennifer Butler",
          "Amelia Vance",
          "Sabrina George",
          "Lyra Meadowsweet",
          "Helena Vance",
          "Victoria Martinez",
          "Mindy Lee",
          "Carla Williams",
          "Robert Ochoa",
          "Cesar Yoder",
          "Kelly Nash",
          "Crystal Hall",
          "Maya Angelou",
          "Ashley Austin",
          "Tiffany Goodman",
          "Kimberly Morales",
          "Amanda Christensen",
          "Heather Barnes",
          "Luna \"Hex\" Blackwood",
          "Christine Long",
          "Angela Martinez",
          "Anya Petrova",
          "Lindsey Gray",
          "Elara Vance",
          "Jeremy Kennedy",
          "Larry Wilson",
          "Richard Yang",
          "Carrie Taylor",
          "Laura Wall",
          "Terri Murphy",
          "Anya Sharma",
          "Maya Rodriguez",
          "Maya Rodriguez",
          "Elena Rossi",
          "Shirley Henderson",
          "Dennis Wallace",
          "Miguel Johnston",
          "Madison Brooks",
          "Sean Stone",
          "Brian Acosta",
          "Lawrence Avila",
          "Elara Meadowlight",
          "Stephen Bryant",
          "Olivia Chang",
          "Eric Thompson",
          "Linda Lee",
          "Angela Ortiz",
          "William Carpenter",
          "Kari Clark",
          "Ella Sanchez",
          "Jennifer Glover",
          "Luna Maeve",
          "Lori Butler",
          "Liam Vance",
          "Luna Everhart",
          "Anna Price",
          "Julie Fischer",
          "Chloe Davis",
          "Glen Harris",
          "Anya Sharma",
          "Dylan Phillips",
          "Ricardo Warren",
          "Deborah Johnson"
         ],
         "marker": {
          "color": "royalblue",
          "opacity": 0.75,
          "size": 6
         },
         "mode": "markers",
         "name": "agreeableness-users",
         "type": "scatter",
         "x": {
          "bdata": "EukgQUgVL0EbgsxAtN0YQf5aEUFNug5BTqcwQTreG0He7utAABPQQD1LGEFR3jdBqBQZQYpnDEHowytB6ls6QfU/NUHjevxA2M7AQAY9IUH+1e9ANDf3QLXc+kAJpvpA2vP8QAFUC0HoYApBQk72QAqpK0G4hvdA1rkSQeiUHUG7dNlAA0ELQQlwE0FHgj5B7ocEQf/HG0FDTypBQ6sNQTUzKUEroi1BDmonQWKGIkE/gMVAAlQEQVFCNUHyex5BQlwsQWH9GkFy5DtBolsJQViZAUGthSZBgLAQQUDEC0H30OZAd4UyQeHHJkEi4hRBln40QbziwkCB6RVBboIgQYIEEUF69+5Ah8wFQS13AUG4ReRAjJkkQZypMkFMwxVB9fokQYT5K0HKRCRBQawfQeK5OEF7RexA/wMYQcvDvEDWSkNBirL9QDkrGEHNfShBg3E8QdW7LEHwGS1Bqeb/QMx/+0C/NDlB9Xs8QW/iM0FWv0BB078VQfDdyEDOEQpBPdrnQKRoDUGIqbpA+/EPQeqD1EA76iRB2F0YQd1Jy0BCBSdBLA/PQAdpu0CYVwFBJXvlQLm6wUDv4w5BpIgeQR6MF0EG4fdAiIu3QOX1u0BU4xBBt94EQdpPG0Fk/ipB0YEaQeLND0F0RBhB9v4QQczxOEGijAJBexMYQalqCEHSeAdBnRozQfsmH0F7GyZBu3IRQbw8JEFRP71A0pALQSkYNUGawwJBVhI3QU2KtkA2GCtBoO0MQVMIQkGhaR1B0NYqQY6iNkFgagJBy2knQXNIDUGt1xpB4NMRQQtlI0GfVAxB/eo5QRvhxEDGhDNBUfYdQcrILUH7ZTNBfSu3QBPmEUHEMhdBmGTJQBXgLkGhJENBGxHKQKJLJUGaaT1Bwmg0QSneE0EKBgxBn6wtQXvcG0EaFyFBuiclQafrEEHu5B5BIgwgQW9y7UDyYQtBRkM7QQVQHUEloxVBI3n/QGsjz0AcUB1BJbsOQQVi7EAsnLhAD0QXQRFMzUD45SdBrAAiQaXdxkDjnSNBCMYsQW71HkEyvgxB7w4iQT7mF0FlAA5Bmz0IQUFdNUHPRhpBpcm+QIi7EUF3nx5B+S8QQdzMCUEw+hZBaQI4QfYyG0FQcitB5KXoQFhWI0FaNPVAmAQ4QdCOvUBSeA1B79z4QGwoDkFFry5BQkkfQawHIUF6DAlBwUYRQQ/5LkFmwzFBoj8BQcWRIEH0dA9BSToUQXhpF0GgfD9BZug6QbvnG0F49LNAkKsuQcogE0E=",
          "dtype": "f4"
         },
         "xaxis": "x3",
         "y": {
          "bdata": "ptMRQdcW1ECrkBFBQj+ZQAWz9ECUbr1Aq1oSQdFZlkAAcfNAt10KQYCFJ0GVvtNA+qkCQQVVCkED3+pApgnjQNYfz0By7dVA6HceQc7400CVlvdAYDgHQW4jHkHc2ttAgj0EQTW76EBLVB9BP3X8QAaLx0BfRQJBmEDaQDuaxEBKHxRBfYEfQYW9q0CqMBRBfhy8QJKaJkH9CgpBlSAOQfrHykAhSw5BrAL5QN/NzUB5bwxBaDkDQYfEDkFjo8hAf5LNQGL1AEFauflAQJ4XQZztDEGSthNBZif6QImK5UDMhQxBBm/bQA7E40DwYd1AWS7nQB8gGEFvD6tAkF0cQeQ150Apj+NAXXbiQFjYIEHE4BxBtjijQJ4dE0HAD+pAZW8ZQWgr8EDhxQ9BnM4nQU4xEkE7KAtBi1gVQS6BLEHiTx1B9hjbQAsL9kD3Ng1BwDDwQEPmH0HSxBdB78nYQMTHBEHY2xRBdUoXQZ3qHkHH4BpBrg0EQX1vD0EaWN1AxDr8QHcw9kB8lilBCgi6QMHBJEFkDN1ACDYgQX3zDkFHlP5AmRgNQeNVI0G3bgpBXOH7QI9lJ0Erbc9A/60iQTBFFUFFaAlB91YoQfJZLUG8nslAd9DRQERLuECp6vZAssLKQEaeKkGBNp5AZvIpQUkPCkFZRRNBG/jeQLdpF0GxWtdAUwbWQCAhJEGyFBlBy4LNQDswG0E9oCtBhisTQdY+FEEC4BRBA4sJQXHUJEFdpPpALVomQZbvF0Eg/t5Alqf0QIsx10Aghh5BwQcjQWgwy0A1tQ5BWrAAQWL88EBDhQRBdM0SQUunDEHtC9dAmyTdQOKP9UAUEBFB7DwlQZfo0kDTOAZB1oMYQfFNB0FtzRdBUz0uQWf5H0EDXhpBzw0EQQCfnECnX7hA2FfIQBDBIEGvaetAwcYFQfwBKkEhi91AbugGQbxWA0ErxstAXbsXQVfEH0EwcvFAfxvIQEl/JUERCr1AxXH3QPKoB0F71ypBWJoLQYIUEUFmXcVAoGnKQPy1CkFQL5VAy87OQCkKEUESyA1BrywiQU5cvUA/dABBR4i6QKMiDUFQ2R5BcGsqQR2YsUBu0wBBiTQFQXwW4kB1zaVAct/cQJGn80D4athAHisGQQU65UBNN/VAMVXfQOhoIUGwn6RA/LceQQn5J0FcZclAz5iUQPlc9kAizrtADRidQAzb+EBVgRtBg/kgQViK/kCJGbFAYFIrQRfds0C2DRxBexIgQYyP90BceCdB4AcRQdsr4kA=",
          "dtype": "f4"
         },
         "yaxis": "y3"
        },
        {
         "hovertemplate": "<b>%{hovertext}</b><extra></extra>",
         "hovertext": [
          "Yahya Rahhawi",
          "Nikola Tesla",
          "Ada Lovelace",
          "Alan Turing",
          "Aristotle",
          "Nelson Mandela",
          "Mahatma Gandhi",
          "Cleopatra",
          "Steve Jobs",
          "Elon Musk",
          "Sherlock Holmes",
          "Tony Stark",
          "Walter White",
          "Leonardo da Vinci",
          "Greta Thunberg",
          "Sofiia "
         ],
         "marker": {
          "color": "crimson",
          "line": {
           "width": 2
          },
          "size": 9,
          "symbol": "diamond"
         },
         "mode": "markers",
         "name": "agreeableness-special",
         "type": "scatter",
         "x": {
          "bdata": "nnoKQSNWKEFpAgZBFOErQW+l70ATsuZAwkThQLY/J0Fw4iBBG6IjQY/LKkFuACpBjFIiQTIAA0E/1/5APKEgQQ==",
          "dtype": "f4"
         },
         "xaxis": "x3",
         "y": {
          "bdata": "0r+7QEqYh0CG/OtAN7aQQPDY4kDtDeNAZKLnQKK8hkBrfoxAZwCIQMnfiEDii4lAa9+IQJGq70Db+tJAPXqTQA==",
          "dtype": "f4"
         },
         "yaxis": "y3"
        },
        {
         "hovertemplate": "<b>%{hovertext}</b><extra></extra>",
         "hovertext": [
          "William Castaneda",
          "Michelle \"MJ\" Jones",
          "Jamie Chen",
          "Raymond Ortiz",
          "Sarah Chen",
          "Susan West",
          "Daniel Mercer",
          "Brian Thornton",
          "Heather Jimenez",
          "Emily Parsons",
          "Beth Clarke",
          "Gina Villanueva",
          "Olivia Chen",
          "Olivia Chen",
          "Carl Snow",
          "Anya Sharma",
          "Nicholas Russo",
          "Mary Ball",
          "Chloe Nguyen",
          "Erin Thomas",
          "Micheal Roy",
          "Stacy Anderson",
          "Elena Rodriguez",
          "Billy Morales",
          "Kevin Green",
          "Timothy Stewart",
          "Lena Petrova",
          "Wren Kestrel",
          "Eliza Vance",
          "Benjamin Jones",
          "Elizabeth Williams",
          "Tommy Barker",
          "Sandra Kemp",
          "Allison Brown",
          "Selena Garcia",
          "Bryan Chambers",
          "Amanda Reynolds",
          "Jeffrey Horn",
          "Ace Rodriguez",
          "Daniel Williams",
          "Kimberly King",
          "James Vargas",
          "Beth Kelly",
          "Cheryl Glass",
          "Amber Bradley",
          "Helen Gomez",
          "Chelsea Bird",
          "Alexander Tucker",
          "Robert Hill",
          "Donna Miller",
          "Alyssa Roberts",
          "Tammy Henderson",
          "Linda Perez",
          "Nicole Fisher",
          "Robert Campbell",
          "Jennifer Cummings",
          "Russell Gross",
          "Krystal Mckenzie",
          "Jessica Acevedo",
          "Eliza \"Sunshine\" Vance",
          "Sarah Jenkins",
          "Kristen Alvarez",
          "Heather Luna",
          "Dr. Jordan Shannon",
          "Dustin Mullen",
          "Beverly Love",
          "William Foster",
          "Jerry Stanley",
          "Joshua Hatfield",
          "Nicholas Williams",
          "Michelle Rogers",
          "Elara Vance",
          "Daniel Porter",
          "Maya Rodriguez",
          "Angela Scott",
          "Jennifer Ray",
          "Edward Dominguez",
          "Maurice Nichols",
          "Christopher Jones",
          "Evelyn Thorne",
          "Dawn Howard",
          "Jennifer Mercado",
          "Amelia Hayes",
          "Ethan Vance",
          "Elara Meadowlight (legally John Rogers)",
          "Edward Stephens II",
          "Alice Chen",
          "Brenda Santos",
          "Stella Maris",
          "Joshua Parker",
          "Eleanor Vance",
          "Spencer White",
          "Kimberly Parrish",
          "Ryan Carey",
          "Yesenia Whitney",
          "Brent Contreras",
          "Raymond Martin",
          "Cindy Ramirez",
          "Elizabeth Webb",
          "Mitchell Navarro",
          "Denise Robinson",
          "Larry Rivers",
          "Richard Sims",
          "Tammy Mckee",
          "Amanda Padilla",
          "Dominique Turner",
          "Caroline Thompson",
          "Sarah Chen",
          "Cheryl Erickson",
          "Anya Sharma",
          "Debbie Combs",
          "Andrew Franco",
          "Holly Robbins",
          "Kimberly Brady",
          "William Frey",
          "Andrew \"Aethelred\" Sterling",
          "Sheila Clark",
          "Samuel Morrison",
          "Ryan Lee",
          "Jeffrey Rojas",
          "Russell Curtis",
          "Katherine Hall",
          "Jacob Smith",
          "Katie Collier",
          "James Lamb",
          "Darlene Lawrence",
          "Luna Skye Hawthorne",
          "Erik Peterson",
          "Lisa Mitchell",
          "Luna Seraphina Willow",
          "Aurora Vance",
          "Jason Mckinney",
          "Jamie Gonzales",
          "Tiffany Moody",
          "Maria Vazquez",
          "Carlos Torres",
          "Justin Miller",
          "Jose Ellison",
          "Blake Lawrence",
          "Christopher Travis",
          "Kenneth Escobar",
          "Sarah Shaffer",
          "Jesse Holland",
          "Anne Peterson",
          "Elara Vance",
          "Michael Watson",
          "Linda Garcia",
          "Andrea Davis",
          "Thomas Webster",
          "Lilith Thorne",
          "Jennifer Wolfe",
          "Linda Richardson",
          "Jerry Rogers II",
          "Jill Nolan",
          "William Morrison",
          "Andrew Johnson",
          "Jamie Woodward",
          "Clara Ellison",
          "John Bishop",
          "Maya Rodriguez",
          "Devin Harris",
          "Sarah Chen",
          "Rebecca Sanchez",
          "Cameron Avery",
          "Laura Graham",
          "Elara Vance",
          "Sarah Chen",
          "Elara Vance",
          "Kristina Marshall",
          "Larry Rodriguez",
          "Robert Harrell",
          "Albert Hunt",
          "Clara Bellewood",
          "Chloe Nguyen",
          "Adam Woodard",
          "Akari Tanaka",
          "Jennifer Butler",
          "Amelia Vance",
          "Sabrina George",
          "Lyra Meadowsweet",
          "Helena Vance",
          "Victoria Martinez",
          "Mindy Lee",
          "Carla Williams",
          "Robert Ochoa",
          "Cesar Yoder",
          "Kelly Nash",
          "Crystal Hall",
          "Maya Angelou",
          "Ashley Austin",
          "Tiffany Goodman",
          "Kimberly Morales",
          "Amanda Christensen",
          "Heather Barnes",
          "Luna \"Hex\" Blackwood",
          "Christine Long",
          "Angela Martinez",
          "Anya Petrova",
          "Lindsey Gray",
          "Elara Vance",
          "Jeremy Kennedy",
          "Larry Wilson",
          "Richard Yang",
          "Carrie Taylor",
          "Laura Wall",
          "Terri Murphy",
          "Anya Sharma",
          "Maya Rodriguez",
          "Maya Rodriguez",
          "Elena Rossi",
          "Shirley Henderson",
          "Dennis Wallace",
          "Miguel Johnston",
          "Madison Brooks",
          "Sean Stone",
          "Brian Acosta",
          "Lawrence Avila",
          "Elara Meadowlight",
          "Stephen Bryant",
          "Olivia Chang",
          "Eric Thompson",
          "Linda Lee",
          "Angela Ortiz",
          "William Carpenter",
          "Kari Clark",
          "Ella Sanchez",
          "Jennifer Glover",
          "Luna Maeve",
          "Lori Butler",
          "Liam Vance",
          "Luna Everhart",
          "Anna Price",
          "Julie Fischer",
          "Chloe Davis",
          "Glen Harris",
          "Anya Sharma",
          "Dylan Phillips",
          "Ricardo Warren",
          "Deborah Johnson"
         ],
         "marker": {
          "color": "royalblue",
          "opacity": 0.75,
          "size": 6
         },
         "mode": "markers",
         "name": "neuroticism-users",
         "type": "scatter",
         "x": {
          "bdata": "2nmTQJCNd0APc0BAduy+P/VGEkD5EpNAL2izQJFFHEDeclpA0ejWP6RhrkAIY+9A0A+3QL3RKUBuLY5A+MRyQL0akkDWcSZAS5IJQUTaMUCHP3lA+ahlQEqsqECEyQdAMtFYQFnaJUCMxupA5afCP6WEEkD/glhA29RqQAZkZ0Asrl1AeosWQfHlRUA0oglB/NsMQKh+b0Am1zRAkLmFQH7M+0Ax1FBAEsp/QD0YgkB+f7hAOusvQHvBTUDnqRdBblEHQBmQ90BmehtABWnFQMIicEBFR7BAiKIIQZDLsUAd7DRAIDEMQWsSA0CtZoBAfCoIQYM5CkFf5uQ//KbaQO4BEUE3DgJASpeyQHcERUCWAVNAPe6RQNiMX0B0PFNApBggQBIbgkDn0LNAYufgP20Q/UDgMX1AXnOhQGXC2kAfXUBAx2ZHQItLikAv0hZBpoF3QKJqxT944NJAZELgQLMWikD7jU1AtbDxQBo8gUDwqvpADmLeQDsJB0GGrvw/2KKxQHihFEGpUAZBJGLuP8V+l0BCKMRA5EDaQCxdVUAFCkhAgFHqP0U8mEBm385A6+ldQNb4/EDodXVAcVZIQMz+EEFRPhJBZW1lQHyqEEEwH3JAuKPuQOoDDUBTOgxBg8ZzQE9obEDOea1AU6kmQF/OVkAlbiVAwQ4MQHln5EAmHZNA8WfpP6b5X0Ajq94/j9CkP6RQVkCPoRBB3e/xQMO4SEAaIB9AwKx3QMbyBkFIWe9AxVsOQL8hHEBfSDtA9GoJQKsSsEAOrbpAhOCpQELmuUD4hjtAKHscQGvWdUD5F7tAlzpwQP8zCkEf0JlAsIsWQeyYWUA2KKpAx0CpQAmXG0CvoLZAvtG3QB2cxUDdagNAbq8OQX/9F0B41VBA0nR4QHestUAxEv5AwK8VQfFa40BTg1tA23cMQJm6TkC/2KdADukdQMVvCEDdGOdAa7J7QP3HrUCgU7dAde/LQBF35kBkrEpAKTW0QJj6vz+FOi5AbptcQJrkl0CJXthAxfAIQEEAokDVpP0/kScFQTlM3kDNzcZAcKErQPL2IEDOaLJAwVO/QLseGUBReCNAQxvIQGaBLkAggPk/kr5IQNHJN0Btkfg/yjr8QGaigkDVH75AtEthQKchhkCVC1NApY57QAgN6ECBuOlAw+taQLWT00DOl3NA/tYBQBP9zD+Ga5NAMCoSQQ/XJUA88K5AM035QBZSXkCOKLhA218CQMiM1UCCanRA6hZfQIU6tkAEVgRBQD0ZQQe7r0A=",
          "dtype": "f4"
         },
         "xaxis": "x4",
         "y": {
          "bdata": "f3gTQdrd40CMIahAA5LEQPcgFkFrug5Bpb3pQNH8lUAL1wNBGny4QCBRuUBBFtBArAnUQLki2kC0CgZBHSrtQAFjA0EIjKVAdN7fQHygzECjKhVBxtu5QPhtBUHWCZtAyBLwQJnzB0FCcgNBY9XcQMSqFUGuT9VAkiwGQZw7wEAxafZAS03KQHu4qUAv6wNBw6EbQdl7CEGzhppAfUQEQSYzzkDLZQ1BOEMMQcCEBUEtN7hA/g7VQERe/EAPysZAIn7KQNw2AUEGwNtAX6O8QM7VEkENIqtAsQUJQY47AkGameNAIeUDQfgkG0HcCs5AAacBQYb5BkEyeqxAF1jMQHun10CvVL1AHqsHQUwHtkBZwMxAFZPSQJgloUDcE75A/KO+QAnw+kCmsOVAUnTgQARYAEH5fNJAR8T7QPE6CEG3tIZAnZKRQAy4DUHAIMtAZur6QILOw0DgNcdAdBH8QColD0FCwMFAmn0FQW4P4EB2qgdB08PJQJVpC0F0UPVA6hLmQFbmvUAFPwtBE4DUQBaxBkE0fgdBN2TVQJFonUDuLxRBz8jPQK4Z1kCouMVAWaATQbjuCEF/Eb9Aza6IQMhj5UAaitlAEUgBQXxB4kCWZM5Ap4nXQCE6vUDVHwFBFeXjQI7F5EB2H75AuUEIQTIpEkGaTbxAOmrLQJVv8EBpawpBRwbMQL2YokDhk69ABazdQD/o3EDR6N9AaFPRQMTfu0CV5+pAd2HPQM6fCkEjyQNBHfqjQOVAAkGrTItA2a4cQePuAkF37+BAPpAOQbM9rUApqJ1AyuYCQXs8xEDSkL5AAYQVQSl9AUEJbAdBbXjLQGqyk0Bm5QtBHtoGQR33FEEg6apA2g4MQTUyBEFggPJAM1DSQLoOqUBULQpB7Sv1QHuo10BimspAMHzIQI+n90CEvQJB8XwcQZGggkA5sbBAwZEaQaqwokDPE/9A5mP+QKpgA0FVrANB2DoIQUV92UBYpulAKTytQHAjuUCucQBBrHHNQDxi0UD9fMtAp/eyQA6oDUG9N59AvnQGQcdfBkF3dwVBJruMQC2AFkGhHv1AzWD+QHPmwEAuPBhBL7MLQdYmxEBZKOFAp1WjQBX4lEDat/VAZqABQdwvtkBJTbVAep7sQNXABkE0duZAFO7CQCSS20CxBMtAQOoSQZsiC0HFDa5AI1eeQN7K1kArOgxB4WjhQB8tyEDzQcNArJIDQbFMuEBWq+RAiReiQObKBkHtctpAdp7fQNbeAUGAgv5A3tzCQC8/ukA=",
          "dtype": "f4"
         },
         "yaxis": "y4"
        },
        {
         "hovertemplate": "<b>%{hovertext}</b><extra></extra>",
         "hovertext": [
          "Yahya Rahhawi",
          "Nikola Tesla",
          "Ada Lovelace",
          "Alan Turing",
          "Aristotle",
          "Nelson Mandela",
          "Mahatma Gandhi",
          "Cleopatra",
          "Steve Jobs",
          "Elon Musk",
          "Sherlock Holmes",
          "Tony Stark",
          "Walter White",
          "Leonardo da Vinci",
          "Greta Thunberg",
          "Sofiia "
         ],
         "marker": {
          "color": "crimson",
          "line": {
           "width": 2
          },
          "size": 9,
          "symbol": "diamond"
         },
         "mode": "markers",
         "name": "neuroticism-special",
         "type": "scatter",
         "x": {
          "bdata": "SSKeQAIYVj/4xoU/NpCNP1iOzj8zJg9Bs0sOQYYcLj9deSc/lhQgP1Nkbz8mPjE/iUsYP/o/gj8Z9+s+L7AKQQ==",
          "dtype": "f4"
         },
         "xaxis": "x4",
         "y": {
          "bdata": "sWvtQMjIBkErNAhBDOQDQXUhB0HC/OlAo7vrQBt5AEFYcQNBVUoFQR7W/kCxNgNB0KQCQTs8CEFClQdB7IzyQA==",
          "dtype": "f4"
         },
         "yaxis": "y4"
        },
        {
         "hovertemplate": "<b>%{hovertext}</b><extra></extra>",
         "hovertext": [
          "William Castaneda",
          "Michelle \"MJ\" Jones",
          "Jamie Chen",
          "Raymond Ortiz",
          "Sarah Chen",
          "Susan West",
          "Daniel Mercer",
          "Brian Thornton",
          "Heather Jimenez",
          "Emily Parsons",
          "Beth Clarke",
          "Gina Villanueva",
          "Olivia Chen",
          "Olivia Chen",
          "Carl Snow",
          "Anya Sharma",
          "Nicholas Russo",
          "Mary Ball",
          "Chloe Nguyen",
          "Erin Thomas",
          "Micheal Roy",
          "Stacy Anderson",
          "Elena Rodriguez",
          "Billy Morales",
          "Kevin Green",
          "Timothy Stewart",
          "Lena Petrova",
          "Wren Kestrel",
          "Eliza Vance",
          "Benjamin Jones",
          "Elizabeth Williams",
          "Tommy Barker",
          "Sandra Kemp",
          "Allison Brown",
          "Selena Garcia",
          "Bryan Chambers",
          "Amanda Reynolds",
          "Jeffrey Horn",
          "Ace Rodriguez",
          "Daniel Williams",
          "Kimberly King",
          "James Vargas",
          "Beth Kelly",
          "Cheryl Glass",
          "Amber Bradley",
          "Helen Gomez",
          "Chelsea Bird",
          "Alexander Tucker",
          "Robert Hill",
          "Donna Miller",
          "Alyssa Roberts",
          "Tammy Henderson",
          "Linda Perez",
          "Nicole Fisher",
          "Robert Campbell",
          "Jennifer Cummings",
          "Russell Gross",
          "Krystal Mckenzie",
          "Jessica Acevedo",
          "Eliza \"Sunshine\" Vance",
          "Sarah Jenkins",
          "Kristen Alvarez",
          "Heather Luna",
          "Dr. Jordan Shannon",
          "Dustin Mullen",
          "Beverly Love",
          "William Foster",
          "Jerry Stanley",
          "Joshua Hatfield",
          "Nicholas Williams",
          "Michelle Rogers",
          "Elara Vance",
          "Daniel Porter",
          "Maya Rodriguez",
          "Angela Scott",
          "Jennifer Ray",
          "Edward Dominguez",
          "Maurice Nichols",
          "Christopher Jones",
          "Evelyn Thorne",
          "Dawn Howard",
          "Jennifer Mercado",
          "Amelia Hayes",
          "Ethan Vance",
          "Elara Meadowlight (legally John Rogers)",
          "Edward Stephens II",
          "Alice Chen",
          "Brenda Santos",
          "Stella Maris",
          "Joshua Parker",
          "Eleanor Vance",
          "Spencer White",
          "Kimberly Parrish",
          "Ryan Carey",
          "Yesenia Whitney",
          "Brent Contreras",
          "Raymond Martin",
          "Cindy Ramirez",
          "Elizabeth Webb",
          "Mitchell Navarro",
          "Denise Robinson",
          "Larry Rivers",
          "Richard Sims",
          "Tammy Mckee",
          "Amanda Padilla",
          "Dominique Turner",
          "Caroline Thompson",
          "Sarah Chen",
          "Cheryl Erickson",
          "Anya Sharma",
          "Debbie Combs",
          "Andrew Franco",
          "Holly Robbins",
          "Kimberly Brady",
          "William Frey",
          "Andrew \"Aethelred\" Sterling",
          "Sheila Clark",
          "Samuel Morrison",
          "Ryan Lee",
          "Jeffrey Rojas",
          "Russell Curtis",
          "Katherine Hall",
          "Jacob Smith",
          "Katie Collier",
          "James Lamb",
          "Darlene Lawrence",
          "Luna Skye Hawthorne",
          "Erik Peterson",
          "Lisa Mitchell",
          "Luna Seraphina Willow",
          "Aurora Vance",
          "Jason Mckinney",
          "Jamie Gonzales",
          "Tiffany Moody",
          "Maria Vazquez",
          "Carlos Torres",
          "Justin Miller",
          "Jose Ellison",
          "Blake Lawrence",
          "Christopher Travis",
          "Kenneth Escobar",
          "Sarah Shaffer",
          "Jesse Holland",
          "Anne Peterson",
          "Elara Vance",
          "Michael Watson",
          "Linda Garcia",
          "Andrea Davis",
          "Thomas Webster",
          "Lilith Thorne",
          "Jennifer Wolfe",
          "Linda Richardson",
          "Jerry Rogers II",
          "Jill Nolan",
          "William Morrison",
          "Andrew Johnson",
          "Jamie Woodward",
          "Clara Ellison",
          "John Bishop",
          "Maya Rodriguez",
          "Devin Harris",
          "Sarah Chen",
          "Rebecca Sanchez",
          "Cameron Avery",
          "Laura Graham",
          "Elara Vance",
          "Sarah Chen",
          "Elara Vance",
          "Kristina Marshall",
          "Larry Rodriguez",
          "Robert Harrell",
          "Albert Hunt",
          "Clara Bellewood",
          "Chloe Nguyen",
          "Adam Woodard",
          "Akari Tanaka",
          "Jennifer Butler",
          "Amelia Vance",
          "Sabrina George",
          "Lyra Meadowsweet",
          "Helena Vance",
          "Victoria Martinez",
          "Mindy Lee",
          "Carla Williams",
          "Robert Ochoa",
          "Cesar Yoder",
          "Kelly Nash",
          "Crystal Hall",
          "Maya Angelou",
          "Ashley Austin",
          "Tiffany Goodman",
          "Kimberly Morales",
          "Amanda Christensen",
          "Heather Barnes",
          "Luna \"Hex\" Blackwood",
          "Christine Long",
          "Angela Martinez",
          "Anya Petrova",
          "Lindsey Gray",
          "Elara Vance",
          "Jeremy Kennedy",
          "Larry Wilson",
          "Richard Yang",
          "Carrie Taylor",
          "Laura Wall",
          "Terri Murphy",
          "Anya Sharma",
          "Maya Rodriguez",
          "Maya Rodriguez",
          "Elena Rossi",
          "Shirley Henderson",
          "Dennis Wallace",
          "Miguel Johnston",
          "Madison Brooks",
          "Sean Stone",
          "Brian Acosta",
          "Lawrence Avila",
          "Elara Meadowlight",
          "Stephen Bryant",
          "Olivia Chang",
          "Eric Thompson",
          "Linda Lee",
          "Angela Ortiz",
          "William Carpenter",
          "Kari Clark",
          "Ella Sanchez",
          "Jennifer Glover",
          "Luna Maeve",
          "Lori Butler",
          "Liam Vance",
          "Luna Everhart",
          "Anna Price",
          "Julie Fischer",
          "Chloe Davis",
          "Glen Harris",
          "Anya Sharma",
          "Dylan Phillips",
          "Ricardo Warren",
          "Deborah Johnson"
         ],
         "marker": {
          "color": "royalblue",
          "opacity": 0.75,
          "size": 6
         },
         "mode": "markers",
         "name": "extraversion-users",
         "type": "scatter",
         "x": {
          "bdata": "Kg+AQa7oh0FUT41B4JaIQV2BiEHqX3lB4JhZQelnjEEH+4lB294IQcuufUGdp4NBPLSFQY+6jUE/U4pBmx5WQTx6U0H0xnNBh1NlQRr8fUFLXIBBgo+EQTYibEHtNXdBQo1kQTu6gUGMIIZBqNZYQc6oXkH8gVRBdSMUQZNMEkHVWg9BPmUaQcEqV0Eg3l9BQSBdQeDShkGI7HxBL2BhQUpeg0G3vFJB6lZaQR6DgkF/PxdBNPB3QWqODEF6TINB2hV/QWBqZkHegGVBoXeCQathVEGtSXFBMYJ7QYVQdkEc/oNBK6xeQVH2hEEX5IFB889eQWbVe0FS9IRBHCppQbadWUGy8nJBmWpuQdbNh0GRrxdBdtCLQeamfEEdjF1BQaloQYZIhEHsgItB9FFpQctRb0HW6XlBmqJhQeY7bkGuX1RBrXVZQbaNdEELJxZBx4xsQcFncEGxxYBBTCoTQYtnFkHWFm1B8Q1cQTsDXEHSzFhBhR2EQQqGfUHOWIpBEpuCQWGpW0H18mtBzxZ+QXtRDkGMeX5BSrOCQYwnDEE6IRBBH9l2QYNMikFMfoxBcP6EQUVgCEEbDoNBow9iQeZaYkGNNW9BVh8IQRtMZkG7hGZB0fxsQVPkCUGqd2RBf1SAQawAhEFHSWJBJwZaQZcrgkEF5Y9BT7p1QSWdV0FHA3dBAAtkQR7ObEHqTFpBQ1KBQUcQYEGzlWVBxThVQatDZUEfswxBamtdQaJ+bkEwnXdBdxR1QTW3GUHCV1lBWtOIQTiIY0EZNnpBq/ODQTSjW0FfFnxBikgZQT5ThEE7/oBBbDOJQeRYh0HAhhZBpJxpQVQci0EF/W5B6q0PQQFBj0H+bIBBlw2DQd5JgUHfToFBiV+BQS96Y0FtEYhBbA51Qd2lgUHnYYVBmB2DQbrpW0E76IhBZ/WPQRoIa0Glr1xBhZ1SQeusWkGUXWJBKONyQcW/d0EAaRJB4CByQQyxfEEAR4FBV99xQSPIjEEzTWZBvx+GQZ/Qb0GST45BdWx0QZUpikFNSYFBO2RWQeQWYUGIzIVBXieAQSLueUHTLF1B33dSQXcpf0FNhFxBt/+GQW3EV0Ey53pBWhoNQbl7F0HlwWhBVVZtQWTtY0EAO2tBeAt6QS1LhUEL9XBBMhduQcYUY0E03nxBy+EOQXKpZ0HhZIZB86SGQUEKWEG3k3lB6s2HQbMsCkE7J2NBm6FnQYt8dUHKwH1Bj/BUQVisiUFx14BBLAh7QTGJg0FwOntBEZdWQYlkhEE=",
          "dtype": "f4"
         },
         "xaxis": "x5",
         "y": {
          "bdata": "yhFUQDJrMj80ggZA2v9LQKpDW0B5p709FrPoP4JsGEDQ5EBAt3phQCYvJ0Br1hpAn3YnQJMLFUDBgA5AqFCbv7iFGD+zAh5Aa8DJvyoiOECN7Gg/peZwPz6lHUBF3xE9O/tuQD63K0DI1+A/aZMhQM1jTL+7sRw+xTRoQDJ1dEBXMWtAENhXQGxcPb9iZFVABuWmvtZxVkAF97Q/2upuQLN9ikDIpxk/D/gsPbzi5T+RZV5AG1M4QADFakBlHog/ggtYP+Dj1L8LWMS/1GJqQG1SUL+eetk/dZmTPwkYBkDaeEBATe9OQC5eV0DCLBlAb1nFPqMFgUCvwa4/EtnvP9L7nr8yHRFAkVNHQH4BUUCJjGpAt8AdQFwgbD9V9FI/wVQhQJYSU0DLkOI/u+IXQHdO/j8qeYJAo53vP7ksrT8iboA/xz6Hv6NU9j9C2D1AMCZ6QBIOQ0BidHVAPzVNQI6TY0AxM3ZAFIODvwj5HkDENcS9Nd2zP8AFAkAl7jxA0hWTQBBC8T9GgxQ+EAOsPs7tSUBiwNc/7EyUQMIqTUBwOUlAIB4bP2x8IEC0JFlAOoJ+QP5zdUC6dkQ/RUdiQLJUuz/tQHY/dqxsQEvqPUD2Fsq+tj8FQMNjbUA+P0tA6HE/QCjtbECe7+k/+bJ+vkZhAkALyTxAo+HiPq92ob+1BFpAeKozQOhzh0CxoStA4jpzQPgTc0AlAsU/O6q8P5VwRL8ME3BApHNoQIdNbUCyb0RAMbvyPw3HeUAMBSC/6zHcP8pJmL9eVYFANPd8PxWQub+ZKCo/7DZkQGOkdD8WT0ZAC3ReQGIQSj80sHdAMukPvpLZ4z+gwSI+GNN6QGgwL0Cp/RdAxfXGP2ptnT+dlUtA8VSHQEHZKb6BNjI/IPtTQLu4lkAMmwdA1s13QMbFAED650FA6agsQLdOgkB1qeu9SV16vhZSH77S57m/jlo4QDSByj/cI3xAyvJxQNADkD4zf+k/2Z+AQPYnCECj3nhADIyuP08ETkAiqChA6eKPvvFX9j8qYtM+o81dPuHGxL+oa5o/kaubPtjke0AqS3dA7BNBv3AGCEDBGsY/jWLqP+zkEUAKy2NAxwpKQBcSeUAWKwe/qho4PhC857/8Cqc/YrqSP6oFCkDdHDVA4n6HQJtCCUA9Gv+7hlBAQMT1gUDs8lRAQb89QPGKLUCxqTVAogh3QO45ZEDh9mY/goocQMQmQUC79+M9cudyQHyNhj+un4ZACXcWQML2MEAKhS5AVsqVvx6Cvj8=",
          "dtype": "f4"
         },
         "yaxis": "y5"
        },
        {
         "hovertemplate": "<b>%{hovertext}</b><extra></extra>",
         "hovertext": [
          "Yahya Rahhawi",
          "Nikola Tesla",
          "Ada Lovelace",
          "Alan Turing",
          "Aristotle",
          "Nelson Mandela",
          "Mahatma Gandhi",
          "Cleopatra",
          "Steve Jobs",
          "Elon Musk",
          "Sherlock Holmes",
          "Tony Stark",
          "Walter White",
          "Leonardo da Vinci",
          "Greta Thunberg",
          "Sofiia "
         ],
         "marker": {
          "color": "crimson",
          "line": {
           "width": 2
          },
          "size": 9,
          "symbol": "diamond"
         },
         "mode": "markers",
         "name": "extraversion-special",
         "type": "scatter",
         "x": {
          "bdata": "OuNgQXWfUUE6kCNBQbVUQconGUEVPRZBeJcbQcNGFUFOgBpBeWcaQfQjHkGBxxVB08kcQavwIkEYbBlB2FFZQQ==",
          "dtype": "f4"
         },
         "xaxis": "x5",
         "y": {
          "bdata": "e3cFv77FVr8h5sg/Wzg3vwxi+T8QvAlAOXEEQPoSEEBtTe4/g7ztP8OA3D9XOQtAA0veP/pCzz+H0fo/fReavw==",
          "dtype": "f4"
         },
         "yaxis": "y5"
        }
       ],
       "layout": {
        "annotations": [
         {
          "font": {
           "size": 16
          },
          "showarrow": false,
          "text": "Conscientiousness",
          "x": 0.14444444444444446,
          "xanchor": "center",
          "xref": "paper",
          "y": 1,
          "yanchor": "bottom",
          "yref": "paper"
         },
         {
          "font": {
           "size": 16
          },
          "showarrow": false,
          "text": "Openness",
          "x": 0.5,
          "xanchor": "center",
          "xref": "paper",
          "y": 1,
          "yanchor": "bottom",
          "yref": "paper"
         },
         {
          "font": {
           "size": 16
          },
          "showarrow": false,
          "text": "Agreeableness",
          "x": 0.8555555555555556,
          "xanchor": "center",
          "xref": "paper",
          "y": 1,
          "yanchor": "bottom",
          "yref": "paper"
         },
         {
          "font": {
           "size": 16
          },
          "showarrow": false,
          "text": "Neuroticism",
          "x": 0.14444444444444446,
          "xanchor": "center",
          "xref": "paper",
          "y": 0.375,
          "yanchor": "bottom",
          "yref": "paper"
         },
         {
          "font": {
           "size": 16
          },
          "showarrow": false,
          "text": "Extraversion",
          "x": 0.5,
          "xanchor": "center",
          "xref": "paper",
          "y": 0.375,
          "yanchor": "bottom",
          "yref": "paper"
         }
        ],
        "height": 800,
        "hovermode": "closest",
        "margin": {
         "b": 40,
         "l": 40,
         "r": 20,
         "t": 60
        },
        "showlegend": false,
        "template": {
         "data": {
          "bar": [
           {
            "error_x": {
             "color": "#2a3f5f"
            },
            "error_y": {
             "color": "#2a3f5f"
            },
            "marker": {
             "line": {
              "color": "#E5ECF6",
              "width": 0.5
             },
             "pattern": {
              "fillmode": "overlay",
              "size": 10,
              "solidity": 0.2
             }
            },
            "type": "bar"
           }
          ],
          "barpolar": [
           {
            "marker": {
             "line": {
              "color": "#E5ECF6",
              "width": 0.5
             },
             "pattern": {
              "fillmode": "overlay",
              "size": 10,
              "solidity": 0.2
             }
            },
            "type": "barpolar"
           }
          ],
          "carpet": [
           {
            "aaxis": {
             "endlinecolor": "#2a3f5f",
             "gridcolor": "white",
             "linecolor": "white",
             "minorgridcolor": "white",
             "startlinecolor": "#2a3f5f"
            },
            "baxis": {
             "endlinecolor": "#2a3f5f",
             "gridcolor": "white",
             "linecolor": "white",
             "minorgridcolor": "white",
             "startlinecolor": "#2a3f5f"
            },
            "type": "carpet"
           }
          ],
          "choropleth": [
           {
            "colorbar": {
             "outlinewidth": 0,
             "ticks": ""
            },
            "type": "choropleth"
           }
          ],
          "contour": [
           {
            "colorbar": {
             "outlinewidth": 0,
             "ticks": ""
            },
            "colorscale": [
             [
              0,
              "#0d0887"
             ],
             [
              0.1111111111111111,
              "#46039f"
             ],
             [
              0.2222222222222222,
              "#7201a8"
             ],
             [
              0.3333333333333333,
              "#9c179e"
             ],
             [
              0.4444444444444444,
              "#bd3786"
             ],
             [
              0.5555555555555556,
              "#d8576b"
             ],
             [
              0.6666666666666666,
              "#ed7953"
             ],
             [
              0.7777777777777778,
              "#fb9f3a"
             ],
             [
              0.8888888888888888,
              "#fdca26"
             ],
             [
              1,
              "#f0f921"
             ]
            ],
            "type": "contour"
           }
          ],
          "contourcarpet": [
           {
            "colorbar": {
             "outlinewidth": 0,
             "ticks": ""
            },
            "type": "contourcarpet"
           }
          ],
          "heatmap": [
           {
            "colorbar": {
             "outlinewidth": 0,
             "ticks": ""
            },
            "colorscale": [
             [
              0,
              "#0d0887"
             ],
             [
              0.1111111111111111,
              "#46039f"
             ],
             [
              0.2222222222222222,
              "#7201a8"
             ],
             [
              0.3333333333333333,
              "#9c179e"
             ],
             [
              0.4444444444444444,
              "#bd3786"
             ],
             [
              0.5555555555555556,
              "#d8576b"
             ],
             [
              0.6666666666666666,
              "#ed7953"
             ],
             [
              0.7777777777777778,
              "#fb9f3a"
             ],
             [
              0.8888888888888888,
              "#fdca26"
             ],
             [
              1,
              "#f0f921"
             ]
            ],
            "type": "heatmap"
           }
          ],
          "histogram": [
           {
            "marker": {
             "pattern": {
              "fillmode": "overlay",
              "size": 10,
              "solidity": 0.2
             }
            },
            "type": "histogram"
           }
          ],
          "histogram2d": [
           {
            "colorbar": {
             "outlinewidth": 0,
             "ticks": ""
            },
            "colorscale": [
             [
              0,
              "#0d0887"
             ],
             [
              0.1111111111111111,
              "#46039f"
             ],
             [
              0.2222222222222222,
              "#7201a8"
             ],
             [
              0.3333333333333333,
              "#9c179e"
             ],
             [
              0.4444444444444444,
              "#bd3786"
             ],
             [
              0.5555555555555556,
              "#d8576b"
             ],
             [
              0.6666666666666666,
              "#ed7953"
             ],
             [
              0.7777777777777778,
              "#fb9f3a"
             ],
             [
              0.8888888888888888,
              "#fdca26"
             ],
             [
              1,
              "#f0f921"
             ]
            ],
            "type": "histogram2d"
           }
          ],
          "histogram2dcontour": [
           {
            "colorbar": {
             "outlinewidth": 0,
             "ticks": ""
            },
            "colorscale": [
             [
              0,
              "#0d0887"
             ],
             [
              0.1111111111111111,
              "#46039f"
             ],
             [
              0.2222222222222222,
              "#7201a8"
             ],
             [
              0.3333333333333333,
              "#9c179e"
             ],
             [
              0.4444444444444444,
              "#bd3786"
             ],
             [
              0.5555555555555556,
              "#d8576b"
             ],
             [
              0.6666666666666666,
              "#ed7953"
             ],
             [
              0.7777777777777778,
              "#fb9f3a"
             ],
             [
              0.8888888888888888,
              "#fdca26"
             ],
             [
              1,
              "#f0f921"
             ]
            ],
            "type": "histogram2dcontour"
           }
          ],
          "mesh3d": [
           {
            "colorbar": {
             "outlinewidth": 0,
             "ticks": ""
            },
            "type": "mesh3d"
           }
          ],
          "parcoords": [
           {
            "line": {
             "colorbar": {
              "outlinewidth": 0,
              "ticks": ""
             }
            },
            "type": "parcoords"
           }
          ],
          "pie": [
           {
            "automargin": true,
            "type": "pie"
           }
          ],
          "scatter": [
           {
            "fillpattern": {
             "fillmode": "overlay",
             "size": 10,
             "solidity": 0.2
            },
            "type": "scatter"
           }
          ],
          "scatter3d": [
           {
            "line": {
             "colorbar": {
              "outlinewidth": 0,
              "ticks": ""
             }
            },
            "marker": {
             "colorbar": {
              "outlinewidth": 0,
              "ticks": ""
             }
            },
            "type": "scatter3d"
           }
          ],
          "scattercarpet": [
           {
            "marker": {
             "colorbar": {
              "outlinewidth": 0,
              "ticks": ""
             }
            },
            "type": "scattercarpet"
           }
          ],
          "scattergeo": [
           {
            "marker": {
             "colorbar": {
              "outlinewidth": 0,
              "ticks": ""
             }
            },
            "type": "scattergeo"
           }
          ],
          "scattergl": [
           {
            "marker": {
             "colorbar": {
              "outlinewidth": 0,
              "ticks": ""
             }
            },
            "type": "scattergl"
           }
          ],
          "scattermap": [
           {
            "marker": {
             "colorbar": {
              "outlinewidth": 0,
              "ticks": ""
             }
            },
            "type": "scattermap"
           }
          ],
          "scattermapbox": [
           {
            "marker": {
             "colorbar": {
              "outlinewidth": 0,
              "ticks": ""
             }
            },
            "type": "scattermapbox"
           }
          ],
          "scatterpolar": [
           {
            "marker": {
             "colorbar": {
              "outlinewidth": 0,
              "ticks": ""
             }
            },
            "type": "scatterpolar"
           }
          ],
          "scatterpolargl": [
           {
            "marker": {
             "colorbar": {
              "outlinewidth": 0,
              "ticks": ""
             }
            },
            "type": "scatterpolargl"
           }
          ],
          "scatterternary": [
           {
            "marker": {
             "colorbar": {
              "outlinewidth": 0,
              "ticks": ""
             }
            },
            "type": "scatterternary"
           }
          ],
          "surface": [
           {
            "colorbar": {
             "outlinewidth": 0,
             "ticks": ""
            },
            "colorscale": [
             [
              0,
              "#0d0887"
             ],
             [
              0.1111111111111111,
              "#46039f"
             ],
             [
              0.2222222222222222,
              "#7201a8"
             ],
             [
              0.3333333333333333,
              "#9c179e"
             ],
             [
              0.4444444444444444,
              "#bd3786"
             ],
             [
              0.5555555555555556,
              "#d8576b"
             ],
             [
              0.6666666666666666,
              "#ed7953"
             ],
             [
              0.7777777777777778,
              "#fb9f3a"
             ],
             [
              0.8888888888888888,
              "#fdca26"
             ],
             [
              1,
              "#f0f921"
             ]
            ],
            "type": "surface"
           }
          ],
          "table": [
           {
            "cells": {
             "fill": {
              "color": "#EBF0F8"
             },
             "line": {
              "color": "white"
             }
            },
            "header": {
             "fill": {
              "color": "#C8D4E3"
             },
             "line": {
              "color": "white"
             }
            },
            "type": "table"
           }
          ]
         },
         "layout": {
          "annotationdefaults": {
           "arrowcolor": "#2a3f5f",
           "arrowhead": 0,
           "arrowwidth": 1
          },
          "autotypenumbers": "strict",
          "coloraxis": {
           "colorbar": {
            "outlinewidth": 0,
            "ticks": ""
           }
          },
          "colorscale": {
           "diverging": [
            [
             0,
             "#8e0152"
            ],
            [
             0.1,
             "#c51b7d"
            ],
            [
             0.2,
             "#de77ae"
            ],
            [
             0.3,
             "#f1b6da"
            ],
            [
             0.4,
             "#fde0ef"
            ],
            [
             0.5,
             "#f7f7f7"
            ],
            [
             0.6,
             "#e6f5d0"
            ],
            [
             0.7,
             "#b8e186"
            ],
            [
             0.8,
             "#7fbc41"
            ],
            [
             0.9,
             "#4d9221"
            ],
            [
             1,
             "#276419"
            ]
           ],
           "sequential": [
            [
             0,
             "#0d0887"
            ],
            [
             0.1111111111111111,
             "#46039f"
            ],
            [
             0.2222222222222222,
             "#7201a8"
            ],
            [
             0.3333333333333333,
             "#9c179e"
            ],
            [
             0.4444444444444444,
             "#bd3786"
            ],
            [
             0.5555555555555556,
             "#d8576b"
            ],
            [
             0.6666666666666666,
             "#ed7953"
            ],
            [
             0.7777777777777778,
             "#fb9f3a"
            ],
            [
             0.8888888888888888,
             "#fdca26"
            ],
            [
             1,
             "#f0f921"
            ]
           ],
           "sequentialminus": [
            [
             0,
             "#0d0887"
            ],
            [
             0.1111111111111111,
             "#46039f"
            ],
            [
             0.2222222222222222,
             "#7201a8"
            ],
            [
             0.3333333333333333,
             "#9c179e"
            ],
            [
             0.4444444444444444,
             "#bd3786"
            ],
            [
             0.5555555555555556,
             "#d8576b"
            ],
            [
             0.6666666666666666,
             "#ed7953"
            ],
            [
             0.7777777777777778,
             "#fb9f3a"
            ],
            [
             0.8888888888888888,
             "#fdca26"
            ],
            [
             1,
             "#f0f921"
            ]
           ]
          },
          "colorway": [
           "#636efa",
           "#EF553B",
           "#00cc96",
           "#ab63fa",
           "#FFA15A",
           "#19d3f3",
           "#FF6692",
           "#B6E880",
           "#FF97FF",
           "#FECB52"
          ],
          "font": {
           "color": "#2a3f5f"
          },
          "geo": {
           "bgcolor": "white",
           "lakecolor": "white",
           "landcolor": "#E5ECF6",
           "showlakes": true,
           "showland": true,
           "subunitcolor": "white"
          },
          "hoverlabel": {
           "align": "left"
          },
          "hovermode": "closest",
          "mapbox": {
           "style": "light"
          },
          "paper_bgcolor": "white",
          "plot_bgcolor": "#E5ECF6",
          "polar": {
           "angularaxis": {
            "gridcolor": "white",
            "linecolor": "white",
            "ticks": ""
           },
           "bgcolor": "#E5ECF6",
           "radialaxis": {
            "gridcolor": "white",
            "linecolor": "white",
            "ticks": ""
           }
          },
          "scene": {
           "xaxis": {
            "backgroundcolor": "#E5ECF6",
            "gridcolor": "white",
            "gridwidth": 2,
            "linecolor": "white",
            "showbackground": true,
            "ticks": "",
            "zerolinecolor": "white"
           },
           "yaxis": {
            "backgroundcolor": "#E5ECF6",
            "gridcolor": "white",
            "gridwidth": 2,
            "linecolor": "white",
            "showbackground": true,
            "ticks": "",
            "zerolinecolor": "white"
           },
           "zaxis": {
            "backgroundcolor": "#E5ECF6",
            "gridcolor": "white",
            "gridwidth": 2,
            "linecolor": "white",
            "showbackground": true,
            "ticks": "",
            "zerolinecolor": "white"
           }
          },
          "shapedefaults": {
           "line": {
            "color": "#2a3f5f"
           }
          },
          "ternary": {
           "aaxis": {
            "gridcolor": "white",
            "linecolor": "white",
            "ticks": ""
           },
           "baxis": {
            "gridcolor": "white",
            "linecolor": "white",
            "ticks": ""
           },
           "bgcolor": "#E5ECF6",
           "caxis": {
            "gridcolor": "white",
            "linecolor": "white",
            "ticks": ""
           }
          },
          "title": {
           "x": 0.05
          },
          "xaxis": {
           "automargin": true,
           "gridcolor": "white",
           "linecolor": "white",
           "ticks": "",
           "title": {
            "standoff": 15
           },
           "zerolinecolor": "white",
           "zerolinewidth": 2
          },
          "yaxis": {
           "automargin": true,
           "gridcolor": "white",
           "linecolor": "white",
           "ticks": "",
           "title": {
            "standoff": 15
           },
           "zerolinecolor": "white",
           "zerolinewidth": 2
          }
         }
        },
        "title": {
         "text": "UMAP – Personality Trait Embeddings (2D) by Trait"
        },
        "width": 1200,
        "xaxis": {
         "anchor": "y",
         "domain": [
          0,
          0.2888888888888889
         ],
         "title": {
          "text": "UMAP-1"
         }
        },
        "xaxis2": {
         "anchor": "y2",
         "domain": [
          0.35555555555555557,
          0.6444444444444445
         ],
         "title": {
          "text": "UMAP-1"
         }
        },
        "xaxis3": {
         "anchor": "y3",
         "domain": [
          0.7111111111111111,
          1
         ],
         "title": {
          "text": "UMAP-1"
         }
        },
        "xaxis4": {
         "anchor": "y4",
         "domain": [
          0,
          0.2888888888888889
         ],
         "title": {
          "text": "UMAP-1"
         }
        },
        "xaxis5": {
         "anchor": "y5",
         "domain": [
          0.35555555555555557,
          0.6444444444444445
         ],
         "title": {
          "text": "UMAP-1"
         }
        },
        "xaxis6": {
         "anchor": "y6",
         "domain": [
          0.7111111111111111,
          1
         ]
        },
        "yaxis": {
         "anchor": "x",
         "domain": [
          0.625,
          1
         ],
         "title": {
          "text": "UMAP-2"
         }
        },
        "yaxis2": {
         "anchor": "x2",
         "domain": [
          0.625,
          1
         ],
         "title": {
          "text": "UMAP-2"
         }
        },
        "yaxis3": {
         "anchor": "x3",
         "domain": [
          0.625,
          1
         ],
         "title": {
          "text": "UMAP-2"
         }
        },
        "yaxis4": {
         "anchor": "x4",
         "domain": [
          0,
          0.375
         ],
         "title": {
          "text": "UMAP-2"
         }
        },
        "yaxis5": {
         "anchor": "x5",
         "domain": [
          0,
          0.375
         ],
         "title": {
          "text": "UMAP-2"
         }
        },
        "yaxis6": {
         "anchor": "x6",
         "domain": [
          0,
          0.375
         ]
        }
       }
      }
     },
     "metadata": {},
     "output_type": "display_data"
    }
   ],
   "source": [
    "# UMAP 2D for each personality trait embedding across users\n",
    "# Assumes:\n",
    "# - `population.get_users_with_embeddings()` returns iterable of user objects\n",
    "# - Each user may have trait embeddings like `conscientiousness_embedding` (1D vector)\n",
    "# - Optional boolean flag `user.special` to highlight certain users\n",
    "\n",
    "from umap import UMAP\n",
    "from sklearn.preprocessing import StandardScaler\n",
    "import numpy as np\n",
    "import plotly.graph_objects as go\n",
    "from plotly.subplots import make_subplots\n",
    "\n",
    "traits = [\n",
    "    \"conscientiousness\",\n",
    "    \"openness\",\n",
    "    \"agreeableness\",\n",
    "    \"neuroticism\",\n",
    "    \"extraversion\",\n",
    "]\n",
    "\n",
    "def collect_trait_data(trait: str):\n",
    "    attr = f\"{trait}_embedding\"\n",
    "    rows = [\n",
    "        (u.name, bool(getattr(u, \"special\", False)), getattr(u, attr))\n",
    "        for u in population.get_users_with_embeddings()\n",
    "        if getattr(u, attr, None) is not None\n",
    "    ]\n",
    "    if not rows:\n",
    "        return [], [], None\n",
    "    names, specials, embs = zip(*rows)\n",
    "    X = np.vstack(embs)\n",
    "    return list(names), np.array(specials, dtype=bool), X\n",
    "\n",
    "def umap_2d(X: np.ndarray, metric: str = \"manhattan\", n_neighbors: int = 10, min_dist: float = 0.15):\n",
    "    Xs = StandardScaler().fit_transform(X)\n",
    "    reducer = UMAP(\n",
    "        n_components=2,\n",
    "        n_neighbors=n_neighbors,\n",
    "        min_dist=min_dist,\n",
    "        metric=metric,\n",
    "        random_state=42,\n",
    "    )\n",
    "    return reducer.fit_transform(Xs)\n",
    "\n",
    "# Build a subplot grid for all traits (2 rows x 3 cols)\n",
    "rows, cols = 2, 3\n",
    "fig = make_subplots(\n",
    "    rows=rows, cols=cols,\n",
    "    subplot_titles=[t.title() for t in traits] + ([\"\"] * (rows*cols - len(traits)))\n",
    ")\n",
    "\n",
    "for idx, trait in enumerate(traits):\n",
    "    r = idx // cols + 1\n",
    "    c = idx % cols + 1\n",
    "\n",
    "    names, specials, X = collect_trait_data(trait)\n",
    "    if len(names) < 3:\n",
    "        fig.add_annotation(\n",
    "            text=f\"Need ≥3 users for {trait.title()}, got {len(names)}\",\n",
    "            row=r, col=c, showarrow=False\n",
    "        )\n",
    "        continue\n",
    "\n",
    "    X2 = umap_2d(X, metric=\"manhattan\", n_neighbors=10, min_dist=0.15)\n",
    "\n",
    "    reg_idx = np.where(~specials)[0]\n",
    "    spc_idx = np.where(specials)[0]\n",
    "\n",
    "    if len(reg_idx):\n",
    "        fig.add_trace(\n",
    "            go.Scatter(\n",
    "                x=X2[reg_idx, 0], y=X2[reg_idx, 1],\n",
    "                mode=\"markers\",\n",
    "                marker=dict(size=6, opacity=0.75, color=\"royalblue\"),\n",
    "                name=f\"{trait}-users\",\n",
    "                hovertext=[names[i] for i in reg_idx],\n",
    "                hovertemplate=\"<b>%{hovertext}</b><extra></extra>\"\n",
    "            ),\n",
    "            row=r, col=c\n",
    "        )\n",
    "\n",
    "    if len(spc_idx):\n",
    "        fig.add_trace(\n",
    "            go.Scatter(\n",
    "                x=X2[spc_idx, 0], y=X2[spc_idx, 1],\n",
    "                mode=\"markers\",\n",
    "                marker=dict(size=9, symbol=\"diamond\", color=\"crimson\", line=dict(width=2)),\n",
    "                name=f\"{trait}-special\",\n",
    "                hovertext=[names[i] for i in spc_idx],\n",
    "                hovertemplate=\"<b>%{hovertext}</b><extra></extra>\"\n",
    "            ),\n",
    "            row=r, col=c\n",
    "        )\n",
    "\n",
    "    fig.update_xaxes(title_text=\"UMAP-1\", row=r, col=c)\n",
    "    fig.update_yaxes(title_text=\"UMAP-2\", row=r, col=c)\n",
    "\n",
    "fig.update_layout(\n",
    "    title=\"UMAP – Personality Trait Embeddings (2D) by Trait\",\n",
    "    width=1200, height=800,\n",
    "    showlegend=False,\n",
    "    hovermode=\"closest\",\n",
    "    margin=dict(l=40, r=20, t=60, b=40)\n",
    ")\n",
    "\n",
    "fig.show()"
   ]
  },
  {
   "cell_type": "code",
   "execution_count": null,
   "metadata": {},
   "outputs": [],
   "source": []
  }
 ],
 "metadata": {
  "kernelspec": {
   "display_name": "ml",
   "language": "python",
   "name": "python3"
  },
  "language_info": {
   "codemirror_mode": {
    "name": "ipython",
    "version": 3
   },
   "file_extension": ".py",
   "mimetype": "text/x-python",
   "name": "python",
   "nbconvert_exporter": "python",
   "pygments_lexer": "ipython3",
   "version": "3.12.0"
  }
 },
 "nbformat": 4,
 "nbformat_minor": 4
}
