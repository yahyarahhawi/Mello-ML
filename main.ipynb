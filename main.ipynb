{
 "cells": [
  {
   "cell_type": "markdown",
   "metadata": {},
   "source": [
    "# Mello ML - Fresh Unified Personality System\n",
    "\n",
    "This notebook demonstrates the complete pipeline:\n",
    "- **Unified personality approach**: Cultural data informs personality traits\n",
    "- **768D embeddings**: Interests + 5 personality traits\n",
    "- **50 archetypes**: Diverse synthetic user generation\n",
    "- **Real user support**: Load from JSON files\n",
    "- **2D visualization**: PCA and UMAP plotting"
   ]
  },
  {
   "cell_type": "markdown",
   "metadata": {},
   "source": [
    "## 📦 Imports and Setup"
   ]
  },
  {
   "cell_type": "code",
   "execution_count": 1,
   "metadata": {},
   "outputs": [
    {
     "name": "stdout",
     "output_type": "stream",
     "text": [
      "🚀 Initializing Mello ML Components...\n",
      "✅ Components initialized:\n",
      "   📝 ProfileGenerator: google/gemini-2.5-flash\n",
      "   🔢 EmbeddingGenerator: EmbeddingGenerator(model=text-embedding-004, dims=768, requests=0)\n",
      "   📊 Architecture: 768D interests + 5×768D traits = 4608D combined\n",
      "   🎭 Archetypes available: 50\n",
      "   📏 Similarity metric: Euclidean Distance (L2 norm, normalized, 0=different, 1=identical)\n",
      "   🎨 Visualization: Interactive Plotly interface\n"
     ]
    }
   ],
   "source": [
    "%load_ext autoreload\n",
    "%autoreload 2\n",
    "# Interactive Plotly visualizations\n",
    "import warnings\n",
    "warnings.filterwarnings('ignore', category=UserWarning)\n",
    "\n",
    "# Core imports - Plotly for interactive visualization\n",
    "import numpy as np\n",
    "import plotly.graph_objects as go\n",
    "import plotly.express as px\n",
    "from plotly.subplots import make_subplots\n",
    "import logging\n",
    "from IPython.display import display, HTML\n",
    "\n",
    "# Fresh system components\n",
    "from user import User\n",
    "from profile_generator import ProfileGenerator\n",
    "from embedding_generator import EmbeddingGenerator\n",
    "from population import Population\n",
    "from visualizer import Visualizer\n",
    "\n",
    "# Configure logging\n",
    "logging.basicConfig(level=logging.WARNING)  # Reduce noise\n",
    "\n",
    "# Initialize components\n",
    "print(\"🚀 Initializing Mello ML Components...\")\n",
    "profile_generator = ProfileGenerator()\n",
    "embedding_generator = EmbeddingGenerator()\n",
    "population = Population(\"Mello Campus Population\")\n",
    "visualizer = Visualizer()\n",
    "\n",
    "print(f\"✅ Components initialized:\")\n",
    "print(f\"   📝 ProfileGenerator: {profile_generator.model}\")\n",
    "print(f\"   🔢 EmbeddingGenerator: {embedding_generator}\")\n",
    "print(f\"   📊 Architecture: 768D interests + 5×768D traits = 4608D combined\")\n",
    "print(f\"   🎭 Archetypes available: {len(profile_generator.archetypes)}\")\n",
    "print(f\"   📏 Similarity metric: Euclidean Distance (L2 norm, normalized, 0=different, 1=identical)\")\n",
    "print(f\"   🎨 Visualization: Interactive Plotly interface\")"
   ]
  },
  {
   "cell_type": "markdown",
   "metadata": {},
   "source": [
    "## 🎭 Generate 50 Synthetic Users\n",
    "\n",
    "Creates diverse synthetic users using 50 personality archetypes with unified personality profiling."
   ]
  },
  {
   "cell_type": "code",
   "execution_count": null,
   "metadata": {},
   "outputs": [
    {
     "data": {
      "text/plain": [
       "42"
      ]
     },
     "execution_count": 12,
     "metadata": {},
     "output_type": "execute_result"
    }
   ],
   "source": []
  },
  {
   "cell_type": "code",
   "execution_count": 13,
   "metadata": {},
   "outputs": [
    {
     "name": "stdout",
     "output_type": "stream",
     "text": [
      "🎭 Generating 50 synthetic users with unified personality approach...\n",
      "This may take several minutes due to API calls...\n",
      "\n",
      "   Generating user 1/200... ✅ James Vargas\n",
      "classYear: 2026\n",
      "major: Computer Science\n",
      "bio: Future-proofing the present, one line of code at a time. I'm fascinated by the intersection of technology and society, especially how our digital creations are reshaping what it means to be human. When I'm not coding, you can usually find me lost in a cyberpunk novel or researching the latest advancements in AI.\n",
      "interests: Cyberpunk literature, Artificial Intelligence, Ethical Hacking, Virtual Reality, Sci-Fi films, Software Engineering, Neuromorphic Computing (tech geek drawn to cyberpunk a...)\n",
      "   Generating user 2/200... ✅ Beth Kelly\n",
      "classYear: 2026\n",
      "major: Film Production & Studies\n",
      "bio: Constantly chasing the next visual or sonic inspiration. I'm fascinated by how stories can be told without words, and the raw emotion found in a perfectly imperfect melody. Currently trying to figure out how to project films onto clouds.\n",
      "interests: experimental cinema, indie music, analog photography, sound design, obscure documentaries, graphic novels, vintage synthesizers (creative arts student into exp...)\n",
      "   Generating user 3/200... ✅ Cheryl Glass\n",
      "classYear: 2026\n",
      "major: Communications \n",
      "bio: Obsessed with all things pop culture and always know the latest tea! You can usually find me scrolling through TikTok, planning my next concert outfit, or debating the best Marvel movie. Let's make some memories and maybe a viral video or two!\n",
      "interests: Celebrity gossip, TikTok trends, Reality TV, Concerts, Fashion, Social media, Coffee shops (social butterfly who loves cel...)\n",
      "   Generating user 4/200... ✅ Amber Bradley\n",
      "classYear: 2025\n",
      "major: Political Science with a minor in Journalism\n",
      "bio: I believe in the power of collective action and amplifying marginalized voices. My goal is to challenge the status quo and contribute to a more just and equitable world, one protest and deeply researched article at a time. The future is unwritten, but we can shape it.\n",
      "interests: civil rights, environmental justice, grassroots organizing, investigative journalism, documentary filmmaking, intersectional feminism, public speaking (passionate activist engaged wi...)\n",
      "   Generating user 5/200... ✅ Helen Gomez\n",
      "classYear: 2026\n",
      "major: English Literature\n",
      "bio: Honestly, give me a well-worn paperback and a cozy blanket over anything newfangled. There's something so comforting in stories that have stood the test of time, and I love exploring the enduring truths they hold. Maybe I'm old-fashioned, but classic tales just have a magic that modern things sometimes lack.\n",
      "interests: classic novels, vintage movies, knitting, baking, folk music, antique shopping, historical dramas (nostalgic traditionalist prefe...)\n",
      "   Generating user 6/200... ✅ Chelsea Bird\n",
      "classYear: 2026\n",
      "major: Communications\n",
      "bio: OMG, it's me, Chelsea! I'm basically living for the next viral moment and all things pop culture. Catch me scrolling TikTok, debating celebrity conspiracies, and planning my next bestie brunch. Let's make some memories and maybe go Insta official? 😉\n",
      "interests: Celebrity gossip, TikTok trends, Reality TV, Concerts, Fashion, Social media, Brunch (social butterfly who loves cel...)\n",
      "   Generating user 7/200... ✅ Alexander Tucker\n",
      "classYear: 2025\n",
      "major: Electrical Engineering\n",
      "bio: I'm here to build things that work. I like getting my hands dirty with projects, whether it's optimizing a circuit or figuring out a more efficient way to get things done. Practicality over theory, any day.\n",
      "interests: robotics, automation, renewable energy, cybersecurity, competitive programming, home DIY, strategy games (grounded pragmatist preferring...)\n",
      "   Generating user 8/200... ✅ Robert Hill\n",
      "classYear: 2025\n",
      "major: Classical Studies\n",
      "bio: I find solace and profound truth in the enduring legacy of ancient civilizations. There's a certain elegance to the wisdom passed down through millennia, a testament to human ingenuity and artistic spirit that transcends fleeting trends. My studies are not just academic pursuits, but a journey into the heart of what makes us human.\n",
      "interests: Roman history, Greek philosophy, Renaissance art, classical music, literary criticism, archaeology, historical fiction (timeless classicist who values...)\n",
      "   Generating user 9/200... "
     ]
    },
    {
     "name": "stderr",
     "output_type": "stream",
     "text": [
      "WARNING:profile_generator:Failed to parse JSON response: Expecting ',' delimiter: line 15 column 6 (char 548)\n"
     ]
    },
    {
     "name": "stdout",
     "output_type": "stream",
     "text": [
      "✅ Donna Miller\n",
      "classYear: 2025\n",
      "major: Philosophy\n",
      "bio: I find beauty in the unadorned. Life's grand narratives often hide in the quiet hum of everyday moments, and I seek to understand them. Give me a good book, a quiet corner, and meaningful conversation over anything else.\n",
      "interests: existentialism, acoustic guitar, indie folk, hiking, ethical consumption, journaling, classic literature (minimalist who prefers simple,...)\n",
      "   Generating user 10/200... ✅ Alyssa Roberts\n",
      "classYear: 2026\n",
      "major: Anthropology\n",
      "bio: You never know what's around the next corner, and that's the best part! I'm always down for a spontaneous road trip, exploring new places, or just seeing where the day takes me. Let's make some unforgettable memories.\n",
      "interests: urban exploration, thrift store diving, hiking unknown trails, independent film, open mic nights, trying new foods, stargazing (spontaneous adventurer open to...)\n",
      "\n",
      "📈 Progress: 52/10 users completed\n",
      "\n",
      "   Generating user 11/200... ✅ Tammy Henderson\n",
      "classYear: 2025\n",
      "major: Business Administration (with a focus on Operations Management)\n",
      "bio: I’m here to learn what actually works in the real world, not just theory. My goal is to build a practical skillset that will make me a valuable asset wherever I end up. I prefer to spend my time on things that have a tangible outcome.\n",
      "interests: optimizing processes, personal finance, hiking, independent films, cooking, volunteer work, home improvement projects (grounded pragmatist preferring...)\n",
      "   Generating user 12/200... ✅ Linda Perez\n",
      "classYear: 2026\n",
      "major: Comparative Literature\n",
      "bio: My sanctuary is found nestled between the pages of an ancient tome, dissecting the human condition through the lens of history's greatest minds. I find solace in quiet contemplation and the intricate dance of philosophical debate, though often from a safe, observant distance.\n",
      "interests: Classic literature, existential philosophy, ancient history, etymology, quiet cafes, historical linguistics, thoughtful discussions (bookworm introvert who loves c...)\n",
      "   Generating user 13/200... ✅ Nicole Fisher\n",
      "classYear: 2025\n",
      "major: Sports Management\n",
      "bio: Hey! I'm a huge sports fanatic, always cheering on my favorite teams. When I'm not watching a game, you can usually find me curled up with a good biography or rewatching my favorite sports movie for the tenth time. I love learning about the journeys of influential figures, especially in the athletic world.\n",
      "interests: basketball, historical biographies, sports movies, hiking, cooking, fantasy football, podcasts (sports fan who enjoys biograph...)\n",
      "   Generating user 14/200... ✅ Robert Campbell\n",
      "classYear: 2026\n",
      "major: English Literature\n",
      "bio: Hi! I'm a total hopeless romantic, always on the lookout for the next great love story to get lost in. Life's too short not to believe in happy endings, right?\n",
      "interests: reading romance novels, watching rom-coms, journaling, exploring local coffee shops, creative writing, volunteering at the animal shelter (romantic optimist who enjoys l...)\n",
      "   Generating user 15/200... ✅ Jennifer Cummings\n",
      "classYear: 2026\n",
      "major: Screenwriting\n",
      "bio: I’m pretty sure my spirit animal is a well-timed punchline. Always on the hunt for the next great stand-up special or a truly cringeworthy meme. If you can make me snort-laugh in public, you’ve basically won my heart.\n",
      "interests: stand-up comedy, satirical news, improv shows, sketch comedy, meme culture, irony, dark humor (comedy enthusiast who gravitat...)\n",
      "   Generating user 16/200... ✅ Russell Gross\n",
      "classYear: 2026\n",
      "major: Philosophy\n",
      "bio: I find beauty in the unadorned truth, in stories that resonate deep within the human experience, and melodies that speak without words. Life’s complexity often hides simple, profound insights, and I'm always seeking to uncover them.\n",
      "interests: existential literature, acoustic guitar, hiking, independent film, meditation, thoughtful conversations, folk music (minimalist who prefers simple,...)\n",
      "   Generating user 17/200... ✅ Krystal Mckenzie\n",
      "classYear: 2026\n",
      "major: English Literature\n",
      "bio: Dreaming in happily-ever-afters and convinced true love is out there, probably waiting for me at a coffee shop with a bookshelf. I'm a firm believer in the power of a good romantic comedy and the magic of a perfectly crafted love story. Always looking for the beauty in the everyday and the potential for a grand adventure.\n",
      "interests: reading romance novels, watching rom-coms, journaling, exploring cute cafes, listening to indie pop, creative writing, stargazing (romantic optimist who enjoys l...)\n",
      "   Generating user 18/200... ✅ Jessica Acevedo\n",
      "classYear: 2026\n",
      "major: Art History and Literature (double major)\n",
      "bio: I find my truest self when I'm lost in the beauty of a canvas or the rhythm of a perfectly crafted sentence. My heart aches for understanding, and I believe art is the most profound language we have to express the inexpressible. I'm always looking for those quiet moments that resonate deeply within the soul.\n",
      "interests: painting, poetry, classical music, art museums, old books, indie films, tea ceremonies (sensitive artist attracted to ...)\n",
      "   Generating user 19/200... ✅ Eliza \"Sunshine\" Vance\n",
      "classYear: 2026\n",
      "major: Undeclared (exploring all options!)\n",
      "bio: Life's an unwritten adventure, and I'm here for all the spontaneous detours! You'll never find me with a rigid plan, but you'll always find me with a smile and an open mind, ready to embrace whatever surprises the day throws my way. Let's make some unforgettable memories, even if we don't know what they are yet!\n",
      "interests: road trips, stargazing, exploring new cafes, unexpected concerts, antique shopping, volunteering, learning random facts (spontaneous adventurer open to...)\n",
      "   Generating user 20/200... ✅ Sarah Jenkins\n",
      "classYear: 2026\n",
      "major: English Literature\n",
      "bio: Dreaming of a love story straight out of a rom-com, I'm just a girl, standing in front of a college, asking for a happily ever after. I believe in the power of good vibes, heartfelt moments, and that perfect song that just *gets* you. Let's find some magic together!\n",
      "interests: romantic comedies, baking, journaling, indie pop music, walking in botanical gardens, collecting vintage postcards (romantic optimist who enjoys l...)\n",
      "\n",
      "📈 Progress: 62/20 users completed\n",
      "\n",
      "   Generating user 21/200... ✅ Kristen Alvarez\n",
      "classYear: 2026\n",
      "major: Sociology and Peace & Conflict Studies (double major)\n",
      "bio: I believe in the boundless potential of the human spirit and am passionate about exploring how communities can flourish. My goal is to contribute to a world where everyone has the opportunity to thrive and discover their own remarkable capabilities. I'm always looking for stories that illuminate the best of humanity!\n",
      "interests: social justice, community building, personal development, narrative storytelling, ethical technology, global cooperation, interfaith dialogue (optimistic humanist interested...)\n",
      "   Generating user 22/200... ✅ Heather Luna\n",
      "classYear: 2026\n",
      "major: Computer Science and Philosophy (double major)\n",
      "bio: I’m fascinated by systems and the logic that underpins everything, from code to human behavior. You can often find me untangling complex problems, whether it's debugging a program or debating ethical paradoxes. I believe the universe is just one big, beautiful puzzle waiting to be solved.\n",
      "interests: cryptography, escape rooms, true crime documentaries, classic whodunits, chess, cybersecurity, artificial intelligence ethics (analytical thinker who enjoys ...)\n",
      "   Generating user 23/200... "
     ]
    },
    {
     "name": "stderr",
     "output_type": "stream",
     "text": [
      "WARNING:profile_generator:Failed to parse JSON response: Invalid control character at: line 20 column 219 (char 943)\n"
     ]
    },
    {
     "name": "stdout",
     "output_type": "stream",
     "text": [
      "✅ Dr. Jordan Shannon\n",
      "classYear: 2025\n",
      "major: Philosophy and Political Science\n",
      "bio: I believe in the boundless potential of humanity and the power of collective imagination to build a more just and beautiful world. My days are spent exploring audacious ideas and finding inspiration in the stories of those who dare to dream. Every sunrise is an invitation to contribute to the tapestry of a brighter future.\n",
      "interests: utopian literature, social justice, sustainable communities, ethical AI, philosophical debates, intentional living, documentary filmmaking (dreamy idealist drawn to utopi...)\n",
      "   Generating user 24/200... ✅ Dustin Mullen\n",
      "classYear: 2026\n",
      "major: Comparative Literature\n",
      "bio: My natural habitat is a quiet corner of the library, preferably with a well-worn copy of Montaigne or an obscure Russian novel. I find the exploration of human thought across centuries to be the most compelling adventure one can embark on, and I often lose myself in the intricate dance of ideas within classic texts.\n",
      "interests: Existentialism, Russian Literature, Literary Theory, Ancient Philosophy, Calligraphy, Independent Bookstores, Classical Music (bookworm introvert who loves c...)\n",
      "   Generating user 25/200... ✅ Beverly Love\n",
      "classYear: 2025\n",
      "major: Business Administration (Concentration in Operations Management)\n",
      "bio: I'm all about getting things done efficiently and seeing tangible results. No time for fluff; I prefer to dive into what's practical and directly applicable. My goal is to build a solid foundation that will serve me well in the real world.\n",
      "interests: project management, supply chain logistics, personal finance, hiking, independent film, cooking practical meals, DIY home improvement (grounded pragmatist preferring...)\n",
      "   Generating user 26/200... ✅ William Foster\n",
      "classYear: 2025\n",
      "major: Electrical Engineering\n",
      "bio: I'm here to build things that work, reliably and efficiently. You won't find me chasing fads or impractical theories; I'm all about concrete solutions and the satisfaction of a job well done. Let's talk about what's real and what makes sense.\n",
      "interests: circuit design, home improvement, practical mechanics, hiking, financial planning, coffee, local news (practical realist who prefers ...)\n",
      "   Generating user 27/200... ✅ Jerry Stanley\n",
      "classYear: 2026\n",
      "major: Computer Science\n",
      "bio: The universe is vast and full of untold stories waiting to be discovered, both real and imagined. I spend my days coding realities and my nights dreaming of starships and the complex moral dilemmas of a future we haven't quite outrun yet. Hopefully, one day, I'll be building the tech that takes us there.\n",
      "interests: space exploration, AI ethics, cyberpunk literature, retrofuturism, independent game development, astronomy, dystopian films (sci-fi enthusiast fascinated b...)\n",
      "   Generating user 28/200... ✅ Joshua Hatfield\n",
      "classYear: 2025\n",
      "major: Political Science and Sociology (double major)\n",
      "bio: I believe in speaking truth to power and advocating for a more just and equitable world. Driven by critical thought and a passion for social change, I'm always looking for ways to engage, learn, and amplify marginalized voices. Let's dismantle oppressive systems, one conversation, one protest, one policy at a time.\n",
      "interests: political theory, intersectional feminism, grassroots organizing, documentary film, community gardens, critical race theory, ethical consumption (passionate activist engaged wi...)\n",
      "   Generating user 29/200... ✅ Nicholas Williams\n",
      "classYear: 2026\n",
      "major: Philosophy\n",
      "bio: The world's a stage, and most people are reading the wrong script. I'm here to write my own, filled with dissonance and inconvenient truths. I'd rather provoke thought than conform to expectations.\n",
      "interests: DIY zines, experimental noise music, existentialist literature, urban exploration, screen printing, independent film, critical theory (rebel nonconformist attracted ...)\n",
      "   Generating user 30/200... ✅ Michelle Rogers\n",
      "classYear: 2026\n",
      "major: Classics and Philosophy (Double Major)\n",
      "bio: My relentless pursuit of knowledge is fueled by a desire to understand the fundamental truths that underpin our existence. I find solace and profound insight in the wisdom of antiquity, believing that the enduring questions posed by classical thinkers remain as relevant today as ever. Every academic endeavor is an opportunity to delve deeper into intellectual challenges and hone my analytical prowess.\n",
      "interests: Ancient Greek, Latin, Epistemology, Metaphysics, History of Philosophy, Literary Criticism, Public Speaking (academic perfectionist focused...)\n",
      "\n",
      "📈 Progress: 72/30 users completed\n",
      "\n",
      "   Generating user 31/200... ✅ Elara Vance\n",
      "classYear: 2026\n",
      "major: Philosophy and Political Science (with a minor in Creative Writing)\n",
      "bio: My heart beats for a world reimagined – a place where empathy guides policy and innovation sparks true liberation. I believe in the power of collective vision, and I'm constantly seeking out new ideas that challenge the status quo and inspire a more just and beautiful future.\n",
      "interests: utopian literature, social justice, speculative fiction, sustainable living, existential philosophy, poetry, community organizing (dreamy idealist drawn to utopi...)\n",
      "   Generating user 32/200... ✅ Daniel Porter\n",
      "classYear: 2025\n",
      "major: Urban Studies and Media Studies (double major)\n",
      "bio: I'm all about the pulse of the city – from the quiet hum of early mornings to the late-night buzz. My camera is practically an extension of my hand, always ready to capture the fleeting moments that make urban life so captivating. I'm endlessly fascinated by how culture manifests in concrete jungles and the stories people tell through their spaces.\n",
      "interests: Street photography, independent film, contemporary art, urban planning, live music, vintage streetwear, coffee shop hopping (urban dweller fascinated by ci...)\n",
      "   Generating user 33/200... ✅ Maya Rodriguez\n",
      "classYear: 2025\n",
      "major: Fine Arts - Emphasis in New Media\n",
      "bio: Obsessed with pushing the boundaries of visual narrative. I explore how emergent technologies can be used to craft immersive and emotionally resonant stories, often blurring the lines between reality and the digital. My work is a playground for light, sound, and interactive experiences.\n",
      "interests: augmented reality, virtual reality, sound design, interactive installations, experimental film, digital painting, glitch art (art student passionate about v...)\n",
      "   Generating user 34/200... ✅ Angela Scott\n",
      "classYear: 2025\n",
      "major: Mechanical Engineering\n",
      "bio: If it doesn't make my heart pound, I'm probably bored. I live for the rush and am always looking for the next big adventure, whether it's building something fast or testing my limits. Let's make some noise and push boundaries!\n",
      "interests: skydiving, rock climbing, competitive racing (cars/bikes), whitewater rafting, parkour, extreme sports photography, engineering high-performance vehicles (adrenaline junkie who seeks in...)\n",
      "   Generating user 35/200... "
     ]
    },
    {
     "name": "stderr",
     "output_type": "stream",
     "text": [
      "WARNING:profile_generator:Failed to parse JSON response: Expecting property name enclosed in double quotes: line 10 column 1 (char 341)\n"
     ]
    },
    {
     "name": "stdout",
     "output_type": "stream",
     "text": [
      "✅ Jennifer Ray\n",
      "classYear: 2026\n",
      "major: Digital Media Arts\n",
      "bio: My sketchbook is basically a portal to another dimension, and I'm always looking for a new medium to bend to my will. Whether it's coding a generative art piece or building a sculpture out of found objects, I love the thrill of making something completely new. There are no rules, just endless possibilities.\n",
      "interests: generative art, avant-garde film, experimental music, street art, performance art, graphic design, interactive installations (curious experimenter always tr...)\n",
      "   Generating user 36/200... ✅ Edward Dominguez\n",
      "classYear: 2026\n",
      "major: Philosophy, Politics, and Economics (PPE)\n",
      "bio: I believe a brighter, more equitable world isn't just a dream – it's an achievable goal if we work together with purpose and compassion. My passions lie in exploring radical solutions for social justice and imagining how we can build systems that truly nurture human potential. The future is ours to sculpt, and I'm here to contribute to something beautiful.\n",
      "interests: utopian studies, social justice, speculative fiction, sustainable design, community organizing, ethical philosophy, inspirational speeches (dreamy idealist drawn to utopi...)\n",
      "   Generating user 37/200... ✅ Maurice Nichols\n",
      "classYear: 2025\n",
      "major: Psychology\n",
      "bio: I'm endlessly fascinated by the whys and hows of human behavior, especially what drives people to do the things they do. Give me a complex character in a book or on screen, and I'll spend hours dissecting their motives and their inner world. I believe stories are the most powerful way to understand ourselves and others.\n",
      "interests: character analysis, narrative theory, classic literature, true crime documentaries, independent film, journaling, urban exploration (psychology student drawn to ch...)\n",
      "   Generating user 38/200... ✅ Christopher Jones\n",
      "classYear: 2025\n",
      "major: History\n",
      "bio: There’s nothing quite like sinking into a well-researched historical novel or getting lost in a richly crafted period drama. I'm endlessly fascinated by the lives and societies of the past, and I believe understanding history is key to understanding our present.\n",
      "interests: Historical fiction, Period dramas, Ancient civilizations, Mythology, Genealogy, Museums, Documentaries (history buff interested in his...)\n",
      "   Generating user 39/200... ✅ Evelyn Thorne\n",
      "classYear: 2026\n",
      "major: English Literature & Philosophy\n",
      "bio: The shadows whisper secrets I'm eager to unearth. I'm drawn to the crumbling grandeur of forgotten narratives and the unsettling depths of the human psyche. Expect me to be brooding in a quiet corner of the library, probably with a copy of something darkly existential.\n",
      "interests: Victorian Gothic literature, film noir, psychology of cults, existential philosophy, true crime podcasts, black coffee, abandoned places, classical music (Paganini especially) (dark aesthete fascinated by go...)\n",
      "   Generating user 40/200... ✅ Dawn Howard\n",
      "classYear: 2025\n",
      "major: English Literature\n",
      "bio: There's nothing quite like curling up with a classic, is there? I find comfort in stories that have endured through generations, the kind my grandparents probably loved too. Call me old-fashioned, but some things are just timeless for a reason.\n",
      "interests: classic novels, vintage films, knitting, historical fashion, letter writing, baking bread, antique shopping (nostalgic traditionalist prefe...)\n",
      "\n",
      "📈 Progress: 82/40 users completed\n",
      "\n",
      "   Generating user 41/200... ✅ Jennifer Mercado\n",
      "classYear: 2026\n",
      "major: Art History\n",
      "bio: I find beauty in the quiet details and the narratives hidden within them. My focus is on understanding the evolution of artistic expression that speaks volumes without needing to shout. I'm always looking for the nuanced brushstroke or the forgotten architectural element.\n",
      "interests: Renaissance art, historical fashion, classical music, urban sketching, antique books, independent film, botanical illustration (quiet observer interested in s...)\n",
      "   Generating user 42/200... ✅ Amelia Hayes\n",
      "classYear: 2026\n",
      "major: Computer Science and Philosophy (double major)\n",
      "bio: I thrive on dissecting complex problems and uncovering hidden connections. There's nothing quite like the satisfaction of a logical breakthrough, whether it's debugging a tricky piece of code or piecing together a philosophical argument. I'm always looking for my next intellectual challenge.\n",
      "interests: cryptography, escape rooms, forensic science, existential philosophy, board games, ethical AI, historical mysteries (analytical thinker who enjoys ...)\n",
      "   Generating user 43/200... ✅ Ethan Vance\n",
      "classYear: 2026\n",
      "major: Astrophysics and Computer Science (double major)\n",
      "bio: Humanity's future lies out there, among the stars – or perhaps, in the code we write here on Earth. I spend my days unravelling the universe's biggest mysteries and tinkering with tech that might one day make us an interstellar species. Dystopian narratives aren't just entertainment for me; they're cautionary tales for the civilizations we're striving to become.\n",
      "interests: space exploration, AI ethics, exoplanetary science, cyberpunk literature, virtual reality, indie game development, speculative fiction writing (sci-fi enthusiast fascinated b...)\n",
      "   Generating user 44/200... ✅ Elara Meadowlight (legally John Rogers)\n",
      "classYear: 2026\n",
      "major: Music Theory and Composition\n",
      "bio: My heart beats to the rhythm of ancient forests and the clash of arcane spells. While physics and calculus may occupy my weekdays, my soul truly soars when lost in tales of dragons, elves, and the grand orchestral scores that bring those worlds to life. If you need me, I'm probably crafting the next epic soundtrack for a battle that only exists in my head.\n",
      "interests: tabletop role-playing games, orchestral film scores, world-building, fantasy novels, mythology, digital art, long walks in nature (imagining adventures) (fantasy escapist who prefers m...)\n",
      "   Generating user 45/200... ✅ Edward Stephens II\n",
      "classYear: 2026\n",
      "major: Philosophy and Classical Languages (Double Major)\n",
      "bio: As a student of the enduring human spirit, I delight in dissecting foundational texts and exploring the profound questions that have shaped civilization. My academic pursuit is not merely about grades, but about the rigorous cultivation of intellect and a deeper understanding of truth. I believe the greatest insights are found at the intersection of ancient wisdom and contemporary thought.\n",
      "interests: Ancient Greek, Latin, philosophical debate, classical music, literary theory, epigraphy, etymology (academic perfectionist focused...)\n",
      "   Generating user 46/200... ✅ Alice Chen\n",
      "classYear: 2026\n",
      "major: English Literature\n",
      "bio: My joy comes from the simple narratives that uncover deep truths. I believe a well-placed pause speaks louder than a thousand words, and true beauty lies in the unadorned.\n",
      "interests: reading, journaling, hiking, playing acoustic guitar, indie films, small coffee shops, nature walks (minimalist who prefers simple,...)\n",
      "   Generating user 47/200... ✅ Brenda Santos\n",
      "classYear: 2026\n",
      "major: Communications\n",
      "bio: Heyyyy! 👋 Your resident pop culture expert and trendsetter here! If it's on TikTok, in a celeb's story, or gonna be the next big thing, I'm already there. Let's spill some tea and make some memories! ✨\n",
      "interests: Celebrity Gossip, TikTok Trends, Reality TV, Concerts, Fashion Hauls, Brunch, Social Media (social butterfly who loves cel...)\n",
      "   Generating user 48/200... ✅ Stella Maris\n",
      "classYear: 2025\n",
      "major: Theatre and Performance Studies\n",
      "bio: Hey everyone! I'm Stella, and honestly, the world's my stage. I live for bringing stories to life, whether it's through a searing monologue or an unforgettable improv sketch. If you see me belting out show tunes in the quad, just join in!\n",
      "interests: acting, musical theatre, improv comedy, directing, screenwriting, costume design, dance, karaoke (extroverted performer drawn to...)\n",
      "   Generating user 49/200... ✅ Joshua Parker\n",
      "classYear: 2026\n",
      "major: Computer Science\n",
      "bio: I'm always looking for the next problem to solve. Whether it's debugging a complex program or unraveling a good whodunit, I thrive on the challenge of piecing together clues and finding the logical solution. My ideal weekend involves a new puzzle and a good book.\n",
      "interests: escape rooms, cryptography, classic detective novels, cybersecurity, board games, logic puzzles, coding challenges (analytical thinker who enjoys ...)\n",
      "   Generating user 50/200... "
     ]
    },
    {
     "name": "stderr",
     "output_type": "stream",
     "text": [
      "WARNING:profile_generator:Failed to parse JSON response: Invalid control character at: line 10 column 41 (char 193)\n"
     ]
    },
    {
     "name": "stdout",
     "output_type": "stream",
     "text": [
      "✅ Eleanor Vance\n",
      "classYear: 2026\n",
      "major: Art History\n",
      "bio: I find beauty in the quiet details, often overlooked. My greatest joy comes from contemplating how art, in its many subtle forms, reflects the human experience across time. \n",
      "interests: Renaissance portraiture, chiaroscuro lighting, independent film, ambient music, antique bookstores, urban sketching, black and white photography (quiet observer interested in s...)\n",
      "\n",
      "📈 Progress: 92/50 users completed\n",
      "\n",
      "   Generating user 51/200... ✅ Spencer White\n",
      "classYear: 2026\n",
      "major: Interdisciplinary Arts & Technology\n",
      "bio: I'm constantly on the hunt for the next creative rabbit hole to dive down, whether it's coding a generative art piece or learning to bind custom books. The intersection of emerging tech and timeless artistic expression is where I really thrive. If it involves a new medium or a wild idea, count me in!\n",
      "interests: generative art, experimental music production, letterpress printing, interactive installations, speculative fiction, digital fabrication, performance art (curious experimenter always tr...)\n",
      "   Generating user 52/200... ✅ Kimberly Parrish\n",
      "classYear: 2026\n",
      "major: Psychology (with a minor in Film Studies)\n",
      "bio: I'm fascinated by the \"why\" behind human actions, especially in fictional worlds. Give me a morally grey character grappling with their identity and some complex narrative structure, and I'm hooked. I believe stories are the ultimate psychological experiments.\n",
      "interests: character development, narrative analysis, indie film, classic literature, ethical dilemmas, screenwriting, true crime podcasts (psychology student drawn to ch...)\n",
      "   Generating user 53/200... ✅ Ryan Carey\n",
      "classYear: 2025\n",
      "major: Classics and Philosophy (double major)\n",
      "bio: My pursuit of knowledge is driven by an unyielding desire to master the great intellectual traditions of Western thought. I find profound beauty and enduring wisdom in the rigorous study of ancient texts and the timeless philosophical questions they raise. Every challenge is an opportunity to deepen my understanding and refine my intellectual discipline.\n",
      "interests: Ancient Greek epics, Latin poetry, Stoic philosophy, Socratic method, etymology, literary analysis, competitive debate, classical music, museum curation (academic perfectionist focused...)\n",
      "   Generating user 54/200... ✅ Yesenia Whitney\n",
      "classYear: 2026\n",
      "major: Sociology and Communications (dual major)\n",
      "bio: I believe in the inherent goodness of people and am passionate about exploring how we can build more compassionate and equitable communities. My greatest joy comes from hearing and sharing stories that illuminate human resilience and our boundless capacity for positive change. I'm excited to learn, grow, and contribute to a world where everyone can thrive.\n",
      "interests: community building, ethical technology, social entrepreneurship, documentary filmmaking, global development, human rights, positive psychology (optimistic humanist interested...)\n",
      "   Generating user 55/200... ✅ Brent Contreras\n",
      "classYear: 2026\n",
      "major: Computer Science and Digital Arts (Dual Major)\n",
      "bio: I'm always looking for the next big thing, whether it's a revolutionary AI or a hidden gem of a cyberpunk novel. My passion lies at the intersection of technology and creativity, where code can evoke emotion and digital worlds feel tactile. I thrive on pushing boundaries and imagining the possibilities of a technologically advanced (and sometimes chaotic) future.\n",
      "interests: Artificial Intelligence, Cyberpunk Literature, VR/AR Development, Sci-Fi Worldbuilding, Indie Game Design, Ethical Hacking, Synthesizer Music (tech geek drawn to cyberpunk a...)\n",
      "   Generating user 56/200... ✅ Raymond Martin\n",
      "classYear: 2026\n",
      "major: Philosophy and Political Science\n",
      "bio: I believe in the power of collective imagination to build a more just and beautiful world. My heart aches for true equality and radical empathy, and I spend my days dreaming of how we can manifest these ideals. There's a better future waiting, and I'm dedicated to finding the path to it.\n",
      "interests: utopian literature, social justice movements, ethical philosophy, spoken word poetry, contemplative practices, sustainable living, inspirational documentaries (dreamy idealist drawn to utopi...)\n",
      "   Generating user 57/200... ✅ Cindy Ramirez\n",
      "classYear: 2025\n",
      "major: Sports Management\n",
      "bio: Hey! I'm a huge sports fanatic, living and breathing for game day. When I'm not cheering on my favorite teams, you can find me curled up with a good biography or lost in an epic sports movie. I'm always down to talk stats, strategies, or inspiring underdog stories!\n",
      "interests: Basketball, Biographies, Football, Sports Movies, Leadership, Fitness, History (sports fan who enjoys biograph...)\n",
      "   Generating user 58/200... ✅ Elizabeth Webb\n",
      "classYear: 2026\n",
      "major: Sociology and Peace & Conflict Studies (double major)\n",
      "bio: I'm just incredibly excited to be here, learning and growing! I believe in the boundless potential of every individual and am on a quest to understand how we can support each other in reaching for our brightest futures. My goal is to contribute to a world where everyone has the opportunity to thrive.\n",
      "interests: community organizing, documentary filmmaking, ethical technology, positive psychology, global literature, social entrepreneurship, nature walks (optimistic humanist interested...)\n",
      "   Generating user 59/200... "
     ]
    },
    {
     "name": "stderr",
     "output_type": "stream",
     "text": [
      "WARNING:profile_generator:Failed to parse JSON response: Expecting property name enclosed in double quotes: line 7 column 1 (char 2598)\n",
      "ERROR:profile_generator:Failed to parse JSON from personality response: ```json\n",
      "{\n",
      "  \"Openness\": \"This individual exhibits a moderate degree of openness, demonstrating a selective curiosity for new experiences. While comfortable exploring novel artistic expressions, music ...\n",
      "ERROR:profile_generator:Failed to generate personality profiles for Roxy \"Rox\" Malone\n",
      "classYear: 2026\n",
      "major: Comparative Literature (with a focus on underground press)\n",
      "bio: Corporate conformity is a disease, and I'm the cure. You can find me lurking in forgotten corners of the city, notebook in hand, sketching the shadows of modern decay. If it's mainstream, I'm out; if it's got grit and a story to tell, I'm all in.\n",
      "interests: Zine making, experimental music, street art, anarcho-punk history, found poetry, avant-garde cinema, urban exploration\n"
     ]
    },
    {
     "name": "stdout",
     "output_type": "stream",
     "text": [
      "❌ Failed profiles\n",
      "   Generating user 60/200... ✅ Mitchell Navarro\n",
      "classYear: 2025\n",
      "major: Urban Studies and Media Production\n",
      "bio: My city is my muse—the concrete jungle fuels my creativity and keeps me on my toes. I'm all about capturing the pulse of urban life through film and sound, exploring how our contemporary culture shapes and is shaped by the places we inhabit. When I'm not in class, you'll probably find me at a pop-up gallery or hunting for the best street art.\n",
      "interests: indie film, street art, electronic music, urban exploration, contemporary art, pop-up events, documentary photography (urban dweller fascinated by ci...)\n",
      "\n",
      "📈 Progress: 101/60 users completed\n",
      "\n",
      "   Generating user 61/200... ✅ Denise Robinson\n",
      "classYear: 2025\n",
      "major: Sociology and Ethnic Studies (double major)\n",
      "bio: I'm passionate about amplifying marginalized voices and working towards a more equitable world. Every day presents an opportunity to learn, challenge the status quo, and build bridges through honest dialogue and collective action. Let's connect and make a difference!\n",
      "interests: social justice, intersectionality, community organizing, documentary filmmaking, spoken word poetry, restorative justice, diverse literature (social activist interested in ...)\n",
      "   Generating user 62/200... ✅ Larry Rivers\n",
      "classYear: 2025\n",
      "major: Electrical Engineering\n",
      "bio: I thrive on order and precision, believing that a well-crafted plan is the foundation for any successful endeavor. My approach to life, like my preferred stories, favors clear progressions and satisfying conclusions. I'm always seeking to understand how things work, and more importantly, how to make them work better.\n",
      "interests:电路设计, project management, classical literature, strategic board games, crime procedural dramas, hiking, cybersecurity (methodical planner who enjoys ...)\n",
      "   Generating user 63/200... ✅ Richard Sims\n",
      "classYear: 2026\n",
      "major: Environmental Science\n",
      "bio: Hey there! I'm Richard, and you'll most likely find me\n",
      "outdoors exploring. I'm passionate about understanding and protecting our planet, and\n",
      "I'm always up for an adventure, whether it's a challenging hike or a peaceful\n",
      "afternoon spent birdwatching. Let's make a positive impact on the world, one\n",
      "sustainable step at a time!\n",
      "interests: hiking, national parks, wildlife photography, sustainable living, camping, kayaking, trail running (nature lover interested in env...)\n",
      "   Generating user 64/200... ✅ Tammy Mckee\n",
      "classYear: 2025\n",
      "major: Sociology and Critical Race & Ethnic Studies (double major)\n",
      "bio: I'm a passionate advocate for equity and believe in the power of collective action to create meaningful change. I'm always looking for ways to amplify marginalized voices and challenge systemic injustices. Let's connect and build a more just world together!\n",
      "interests: intersectional feminism, community organizing, documentary filmmaking, spoken word poetry, restorative justice, ethical fashion, grassroots movements (social activist interested in ...)\n",
      "   Generating user 65/200... ✅ Amanda Padilla\n",
      "classYear: 2026\n",
      "major: Theatre and Performance Studies\n",
      "bio: Hey y'all, Amanda here! You can usually find me causing a joyous ruckus, whether I'm on stage or just, you know, being me. I'm always looking for my next big creative adventure and love bringing stories to life – especially the ones that make you gasp!\n",
      "interests: acting, improv comedy, musical theatre, stage combat, playwriting, costume design, spontaneous dance parties (extroverted performer drawn to...)\n",
      "   Generating user 66/200... ✅ Dominique Turner\n",
      "classYear: 2025\n",
      "major: Music Composition\n",
      "bio: Lost in the symphonies of fictional worlds, I spend my days dreaming of epic quests and powerful magic. If I'm not composing, I'm probably re-reading a high fantasy series or getting lost in video game soundtracks. Life's better with dragons and a good orchestral score.\n",
      "interests: fantasy novels, video game music, Dungeons & Dragons, world-building, epic soundtracks, character design, mythical creatures (fantasy escapist who prefers m...)\n",
      "   Generating user 67/200... ✅ Caroline Thompson\n",
      "classYear: 2026\n",
      "major: Comparative Literature\n",
      "bio: Lost in the labyrinth of my own imagination, I find solace and adventure within the pages of books and the endless possibilities of fantasy. Reality is overrated; I'd much rather be fighting dragons or navigating enchanted forests. If you need me, I'll be in another world.\n",
      "interests: fantasy novels, speculative fiction, Dungeons & Dragons, creative writing, anime, cosplay, world-building (escapist dreamer seeking fanta...)\n",
      "   Generating user 68/200... ✅ Sarah Chen\n",
      "classYear: 2025\n",
      "major: Philosophy and Cognitive Science\n",
      "bio: I'm currently wrestling with the big questions, finding solace and new perspectives in meditation and the wisdom traditions. My journey is about understanding consciousness – both my own and the universal kind – and how we create meaning in this wild ride of life. Always open to a deep conversation about anything from existentialism to the latest neuroscience discoveries.\n",
      "interests: meditation, existential philosophy, neuroscience, yoga, hiking, lucid dreaming, ethical veganism (spiritual seeker exploring med...)\n",
      "   Generating user 69/200... ✅ Cheryl Erickson\n",
      "classYear: 2026\n",
      "major: Sports Management\n",
      "bio: As a huge Yankees and Knicks fan, most of my free time revolves around sports. I'm always down to catch a game, whether it's live or on TV. When I'm not cheering, I love diving into books about athletes or watching inspiring sports movies.\n",
      "interests: baseball, basketball, biographies, sports movies, volunteering, fitness, podcasts (sports fan who enjoys biograph...)\n",
      "   Generating user 70/200... ✅ Anya Sharma\n",
      "classYear: 2025\n",
      "major: Sociology and Political Science (double major)\n",
      "bio: I'm passionate about amplifying marginalized voices and working towards a more equitable world. I believe that real change happens when we listen to diverse perspectives and actively challenge systemic injustices. Let's create a future where everyone can thrive!\n",
      "interests: social justice, intersectional feminism, community organizing, ethical consumption, documentary filmmaking, spoken word poetry, global human rights (social activist interested in ...)\n",
      "\n",
      "📈 Progress: 111/70 users completed\n",
      "\n",
      "   Generating user 71/200... ✅ Debbie Combs\n",
      "classYear: 2026\n",
      "major: English Literature\n",
      "bio: There's nothing quite like curling up with a classic, a cup of tea, and a good old-fashioned story. I believe the best tales are the ones that have stood the test of time, and I love discovering new layers in familiar narratives. I'm always up for a conversation about the enduring power of literature and the comfort of tradition.\n",
      "interests: Victorian novels, Broadway musicals, classical music, knitting, antique markets, handwritten letters, historical dramas (nostalgic traditionalist prefe...)\n",
      "   Generating user 72/200... ✅ Andrew Franco\n",
      "classYear: 2026\n",
      "major: Digital Media Arts\n",
      "bio: Hey, I’m Andrew! I'm constantly diving into new artistic mediums, whether it's coding a generative art piece, trying out abstract photography, or even getting into experimental sound design. College is the perfect playground for me to mash up technology and creativity in ways I haven't even dreamed of yet.\n",
      "interests: generative art, experimental photography, interactive installations, electronic music production, graphic novel creation, virtual reality experiences, projection mapping (curious experimenter always tr...)\n",
      "   Generating user 73/200... ✅ Holly Robbins\n",
      "classYear: 2026\n",
      "major: Business Administration (Entrepreneurship Focus)\n",
      "bio: I'm all about turning ideas into reality, whether it's my next big venture or a new way to optimize my time. I believe in the power of continuous learning and always seek out new perspectives to fuel my growth. Let's connect if you're also passionate about building, learning, and making an impact!\n",
      "interests: entrepreneurship, business strategy, motivational podcasts, leadership, personal development, financial literacy, networking (entrepreneur interested in bus...)\n",
      "   Generating user 74/200... ✅ Kimberly Brady\n",
      "classYear: 2025\n",
      "major: Fine Arts (Concentration in New Media Art)\n",
      "bio: I’m all about pushing boundaries and seeing how far I can bend traditional artistic forms. My passion lies in visual storytelling, especially through interactive and immersive experiences – think less canvas, more code. I believe art should be a conversation, and I want to invite everyone into mine.\n",
      "interests: digital fabrication, VJing, augmented reality, experimental film, installation art, glitche art, sound design (art student passionate about v...)\n",
      "   Generating user 75/200... "
     ]
    },
    {
     "name": "stderr",
     "output_type": "stream",
     "text": [
      "WARNING:profile_generator:Failed to parse JSON response: Expecting value: line 13 column 3 (char 865)\n"
     ]
    },
    {
     "name": "stdout",
     "output_type": "stream",
     "text": [
      "✅ William Frey\n",
      "classYear: 2026\n",
      "major: Sociology and Political Science\n",
      "bio: I believe in the power of collective action to create a more equitable world. My passion lies in amplifying marginalized voices and challenging systemic injustices through education and advocacy. I'm always looking for new ways to engage in meaningful dialogue and translate empathy into tangible change.\n",
      "interests: social justice, intersectionality, community organizing, documentary filmmaking, spoken word poetry, podcasting, international relations (social activist interested in ...)\n",
      "   Generating user 76/200... "
     ]
    },
    {
     "name": "stderr",
     "output_type": "stream",
     "text": [
      "WARNING:profile_generator:Failed to parse JSON response: Expecting ':' delimiter: line 16 column 1 (char 945)\n"
     ]
    },
    {
     "name": "stdout",
     "output_type": "stream",
     "text": [
      "✅ Andrew \"Aethelred\" Sterling\n",
      "classYear: 2026\n",
      "major: Computer Science & Digital Media Studies (Dual Major)\n",
      "bio: My brain runs on lines of code and the gritty aesthetics of neo-Tokyo. I’m endlessly fascinated by the bleeding edge of tech and how it’s shaping our future, for better or for worse. When I’m not debugging or concepting, you can probably find me lost in a cyberpunk novel or tinkering with some bizarre new gadget.\n",
      "interests: Cyberpunk fiction, AI ethics, generative art, open-source software, retro-futurism, transhumanism, modular synthesizers (tech geek drawn to cyberpunk a...)\n",
      "   Generating user 77/200... ✅ Sheila Clark\n",
      "classYear: 2025\n",
      "major: Business Administration (Concentration in Operations Management)\n",
      "bio: I'm not here to write a thesis, I'm here to build something that works. Give me the problem, and I'll find the most efficient way to solve it. My brain is wired for practical applications, not theoretical debates.\n",
      "interests: process improvement, organizational efficiency, project management, financial literacy, well-researched consumer goods, functional design, hiking (grounded pragmatist preferring...)\n",
      "   Generating user 78/200... "
     ]
    },
    {
     "name": "stderr",
     "output_type": "stream",
     "text": [
      "WARNING:profile_generator:Failed to parse JSON response: Expecting ',' delimiter: line 21 column 6 (char 1643)\n"
     ]
    },
    {
     "name": "stdout",
     "output_type": "stream",
     "text": [
      "✅ Samuel Morrison\n",
      "classYear: 2025\n",
      "major: Environmental Science\n",
      "bio: Hey there! I'm Sam, and there's nothing I love more than exploring the great outdoors. If I'm not in class, you can probably find me hiking a new trail, trying to identify local flora, or planning my next backpacking trip. I'm passionate about protecting our planet and learning how we can live more sustainably.\n",
      "interests: hiking, backpacking, birdwatching, environmental conservation, camping, nature photography, sustainable living (nature lover interested in env...)\n",
      "   Generating user 79/200... ✅ Ryan Lee\n",
      "classYear: 2025\n",
      "major: Theatre Arts\n",
      "bio: Hey y'all, Ryan here! If you need me, I'm probably on stage, rehearsing a monologue, or brainstorming my next big performance art piece. Life's a stage, and I'm just here for the dramatic entrance (and exit, of course!).\n",
      "interests: acting, directing, musical theatre, improv comedy, film analysis, costume design, playwriting (extroverted performer drawn to...)\n",
      "   Generating user 80/200... ✅ Jeffrey Rojas\n",
      "classYear: 2026\n",
      "major: English Literature\n",
      "bio: Dreaming of a love story as epic as the ones in my favorite novels. I believe in happy endings and the magic of connection. You can usually find me lost in a good book or rewatching a rom-com for the tenth time.\n",
      "interests: reading romance novels, watching romantic comedies, journaling, picnics, starry night walks, baking, indie pop music (romantic optimist who enjoys l...)\n",
      "\n",
      "📈 Progress: 121/80 users completed\n",
      "\n",
      "   Generating user 81/200... ✅ Russell Curtis\n",
      "classYear: 2026\n",
      "major: Urban Studies\n",
      "bio: Seriously, the city is my classroom. I love dissecting neighborhood trends, finding the best hidden gems, and generally embracing the chaos and creativity of urban life. My dream is to work in city planning or cultural development, helping shape the future of dynamic metropolises.\n",
      "interests: street art, indie film, underground music, avant-garde theater, public transportation, urban photography, local food scenes (urban dweller fascinated by ci...)\n",
      "   Generating user 82/200... ✅ Katherine Hall\n",
      "classYear: 2026\n",
      "major: Sports Management\n",
      "bio: Hey, I'm Katherine! I'm a huge sports fanatic, especially when it comes to basketball and track & field. When I'm not cheering on my favorite teams, you can usually find me with my nose in a good book, especially biographies, or curled up watching a classic sports movie.\n",
      "interests: sports, biographies, sports movies, volunteering, running, playing basketball, hiking (sports fan who enjoys biograph...)\n",
      "   Generating user 83/200... ✅ Jacob Smith\n",
      "classYear: 2026\n",
      "major: Sports Management\n",
      "bio: Hey, I'm Jacob! You can usually find me glued to a Lakers game or re-watching \"Remember the Titans\" for the hundredth time. When I'm not cheering on my teams, I love diving into a good biography, especially about athletes or historical figures who overcame the odds.\n",
      "interests: Basketball, Football, Sports documentaries, Reading biographies, Leadership, History, Fitness (sports fan who enjoys biograph...)\n",
      "   Generating user 84/200... ✅ Katie Collier\n",
      "classYear: 2026\n",
      "major: Philosophy\n",
      "bio: I'm always looking for deeper meaning and understanding. My journey involves exploring ancient wisdom traditions, modern philosophical concepts, and the transformative power of meditation to better understand consciousness. I believe growth comes from within and through thoughtful inquiry.\n",
      "interests: meditation, existentialism, Eastern philosophy, mindfulness, human consciousness, nature walks, ethical veganism (spiritual seeker exploring med...)\n",
      "   Generating user 85/200... ✅ James Lamb\n",
      "classYear: 2025\n",
      "major: Film Studies and Media Production\n",
      "bio: Obsessed with pushing cinematic boundaries and crafting narratives that linger. My camera is an extension of my soul, always searching for the unconventional. When I'm not on set, you'll find me lost in the raw energy of underground music scenes.\n",
      "interests: experimental cinema, indie music, film scoring, screenwriting, photography, analog synthesizers, graphic design (creative arts student into exp...)\n",
      "   Generating user 86/200... ✅ Darlene Lawrence\n",
      "classYear: 2025\n",
      "major: Film & Digital Media\n",
      "bio: I'm obsessed with finding new ways to tell stories, especially through animation and interactive experiences. My brain is basically 90% caffeine and 10% abstract concepts. Always looking for my next creative rabbit hole.\n",
      "interests: experimental animation, interactive art, virtual reality, sound design, street photography, graphic novels, abstract expressionism (art student passionate about v...)\n",
      "   Generating user 87/200... ✅ Luna Skye Hawthorne\n",
      "classYear: 2026\n",
      "major: Art History, minor in Creative Writing\n",
      "bio: Chasing stardust and good vibes. I believe art is revolutionary, and every street corner holds a story waiting to be told. You can usually find me with a sketchbook, a cup of herbal tea, and a head full of dreams.\n",
      "interests: vintage finds, poetry slams, indie music, nature walks, painting, upcycling, journaling (free spirit attracted to bohem...)\n",
      "   Generating user 88/200... "
     ]
    },
    {
     "name": "stderr",
     "output_type": "stream",
     "text": [
      "WARNING:profile_generator:Failed to parse JSON response: Expecting value: line 13 column 3 (char 718)\n"
     ]
    },
    {
     "name": "stdout",
     "output_type": "stream",
     "text": [
      "✅ Erik Peterson\n",
      "classYear: 2025\n",
      "major: Comparative Literature\n",
      "bio: Shadows hold more truth than light ever could. I seek beauty in decay, solace in the macabre, and understanding in the convoluted depths of the human psyche. Don't bother me with your trivialities.\n",
      "interests: gothic literature, film noir, existential philosophy, true crime podcasts, cemeteries, dark academia fashion, psychological thrillers (dark aesthete fascinated by go...)\n",
      "   Generating user 89/200... ✅ Lisa Mitchell\n",
      "classYear: 2025\n",
      "major: Computer Science\n",
      "bio: I thrive on bringing order to complexity, whether it's optimizing algorithms or meticulously planning my semester. My ideal narrative involves clear goals, logical steps, and a satisfying, well-defined conclusion. I believe thorough preparation is the key to both academic and personal success.\n",
      "interests: algorithmic puzzles, detailed itinerary planning, classic mystery novels, project management, financial planning, competitive strategy games, organized hiking trips (methodical planner who enjoys ...)\n",
      "   Generating user 90/200... ✅ Luna Seraphina Willow\n",
      "classYear: 2026\n",
      "major: Fine Arts (with a focus on Mixed Media and Performance)\n",
      "bio: I'm just a drifter on the cosmic currents, seeking beauty in the ephemeral and truth in the unconventional. You'll probably find me with paint on my hands, a sketchpad in my bag, and a wild idea brewing. Life's too short for beige; let's splash some vibrant colors on it!\n",
      "interests: abstract painting, street art, poetry slams, vintage fashion, experimental music, independent film, foraging for natural pigments (free spirit attracted to bohem...)\n",
      "\n",
      "📈 Progress: 131/90 users completed\n",
      "\n",
      "   Generating user 91/200... ✅ Aurora Vance\n",
      "classYear: 2026\n",
      "major: Film & Digital Media (Experimental)\n",
      "bio: I’m all about pushing boundaries and finding new ways to tell stories through visuals. Currently obsessed with glitch art, interactive installations, and anything that messes with traditional narrative structures. My biggest goal is to make art that sparks conversations and challenges perceptions.\n",
      "interests: Experimental film, interactive art, digital glitch art, visual storytelling, darkroom photography, sound design, independent game development (art student passionate about v...)\n",
      "   Generating user 92/200... ✅ Jason Mckinney\n",
      "classYear: 2026\n",
      "major: Physics\n",
      "bio: I'm driven by a desire to understand the fundamental laws that govern our universe. My passion lies in dissecting complex problems into their core components and seeking elegant solutions based on empirical data. I believe that rigorous inquiry and verifiable evidence are the cornerstones of true knowledge.\n",
      "interests: quantum mechanics, astrophysics, experimental design, scientific ethics, programming, debate, mountaineering (logical scientist interested i...)\n",
      "   Generating user 93/200... ✅ Jamie Gonzales\n",
      "classYear: 2026\n",
      "major: Forensic Psychology\n",
      "bio: If there's a locked-room mystery or a cold case true crime docuseries, you better believe I'm already on it. My idea of a perfect Friday night involves dim lights, a chilling thriller, and me trying to piece together the clues before the detective does. Sometimes I worry I've read too many crime novels, but then another one draws me in.\n",
      "interests: true crime podcasts, psychological thrillers, escape rooms, analyzing character motives, classic detective novels, cybersecurity, cryptography (mystery lover obsessed with cr...)\n",
      "   Generating user 94/200... ✅ Tiffany Moody\n",
      "classYear: 2026\n",
      "major: Global Studies\n",
      "bio: Hey! I'm Tiffany, originally from Singapore, and loving my time studying abroad! I’m always down for trying new things, whether it's a hole-in-the-wall restaurant or a philosophical discussion over coffee. I thrive on connecting with people from all walks of life.\n",
      "interests: international cinema, trying new cuisines, exploring museums, hiking, learning new languages, indie music, volunteering (international student with div...)\n",
      "   Generating user 95/200... ✅ Maria Vazquez\n",
      "classYear: 2025\n",
      "major: Business Administration (with a concentration in Supply Chain Management)\n",
      "bio: I'm not here to just get a degree; I'm here to build skills that matter. I believe in learning by doing and finding practical solutions to real-world problems. My goal is to make a tangible impact, not just theoretical arguments.\n",
      "interests: optimizing processes, budgeting, personal finance, hiking, cooking, practical technology, community volunteering (grounded pragmatist preferring...)\n",
      "   Generating user 96/200... ✅ Carlos Torres\n",
      "classYear: 2026\n",
      "major: Philosophy\n",
      "bio: Lost in thought, I often find myself pondering the vastness of the universe and our fleeting place within it. I seek to understand not just 'what is,' but 'why' and 'what could be.' My journey is one of continuous questioning and the quiet pursuit of deeper truths.\n",
      "interests: existentialism, ancient Greek philosophy, abstract art, long walks, classical music, stargazing, ethical dilemmas (introspective philosopher cont...)\n",
      "   Generating user 97/200... ✅ Justin Miller\n",
      "classYear: 2026\n",
      "major: Comparative Literature\n",
      "bio: My natural habitat is a quiet corner of the library, preferably with a well-worn copy of *Paradise Lost* or something equally dense. I find solace and endless fascination in the profound questions posed by the great thinkers, and I'm always eager to unravel the intricate layers of a beautifully crafted narrative. If you can quote Nietzsche or have strong opinions on the merits of existentialism, we'll probably get along.\n",
      "interests: classical literature, ancient philosophy, etymology, literary criticism, long walks, independent films, historical research (bookworm introvert who loves c...)\n",
      "   Generating user 98/200... ✅ Jose Ellison\n",
      "classYear: 2026\n",
      "major: Theatre Arts - Performance\n",
      "bio: Hey everyone! I'm Jose, and I'm basically a walking, talking musical. If there's a stage, I'm on it, and if there's an improv scene happening, you can bet I'm there. I love bringing stories to life and making people laugh, cry, or just think for a bit. Catch me in the next campus production!\n",
      "interests: acting, improv comedy, musical theatre, directing, playwriting, performance art, film studies (extroverted performer drawn to...)\n",
      "   Generating user 99/200... ✅ Blake Lawrence\n",
      "classYear: 2025\n",
      "major: Art History and Global Studies\n",
      "bio: I'm constantly seeking out new perspectives and expressions through art. Whether it's ancient folklore or contemporary street art, I believe every piece tells a vital story about our shared human experience. My goal is to bridge cultural divides through a deeper understanding and appreciation of diverse artistic traditions.\n",
      "interests: museum hopping, international cinema, ethnographic art, literary fiction, learning new languages, ethical travel, independent music (cultural curator who appreciat...)\n",
      "   Generating user 100/200... ✅ Christopher Travis\n",
      "classYear: 2026\n",
      "major: Sociology and Peace Studies (double major)\n",
      "bio: I'm captivated by the incredible resilience and capacity for good in humanity. My goal is to understand how we can create more equitable and joyful societies, and then roll up my sleeves to help make it happen. I genuinely believe in our collective ability to build a brighter future, one uplifting story at a time.\n",
      "interests: community organizing, ethical technology, narrative storytelling, social entrepreneurship, mindfulness, sustainable living, interfaith dialogue (optimistic humanist interested...)\n",
      "\n",
      "📈 Progress: 141/100 users completed\n",
      "\n",
      "   Generating user 101/200... ✅ Kenneth Escobar\n",
      "classYear: 2026\n",
      "major: Urban Studies and Media Studies (Dual Degree)\n",
      "bio: I’m all about soaking in the pulse of the city, from underground art shows to the latest pop-up. Digital media is my canvas for capturing and sharing the ever-evolving urban narrative. Constantly looking for what's next and how it shapes our lives.\n",
      "interests: Street photography, independent film, contemporary art, urban exploration, electronic music, digital culture, public transportation (urban dweller fascinated by ci...)\n",
      "   Generating user 102/200... ✅ Sarah Shaffer\n",
      "classYear: 2025\n",
      "major: Marketing\n",
      "bio: Obsessed with all things pop culture! You can usually find me scrolling through TikTok, catching the latest Netflix drop, or raving about a new indie artist. I love being in the know and sharing the hype with my friends.\n",
      "interests: TikTok trends, K-pop, new music releases, reality TV, social media, fashion blogs, online shopping (trend follower who stays curre...)\n",
      "   Generating user 103/200... ✅ Jesse Holland\n",
      "classYear: 2026\n",
      "major: Communications\n",
      "bio: Hey, what's up?! I'm Jesse, your go-to for all things pop culture and the latest trends. When I'm not scrolling TikTok for the hottest dances or dissecting celebrity drama, you can probably find me planning our next epic group hangout. Let's make some memories (and maybe go viral).\n",
      "interests: Celebrity gossip, TikTok trends, Reality TV, Concerts, Social media, Fashion, Brunch (social butterfly who loves cel...)\n",
      "   Generating user 104/200... ✅ Anne Peterson\n",
      "classYear: 2026\n",
      "major: English Literature\n",
      "bio: There’s just something so comforting about a well-worn book and a story that truly makes you feel. I love finding the universal truths in classic tales and seeing how they still resonate today. Give me a rainy day, a cup of tea, and a good narrative, and I'm set.\n",
      "interests: classic novels, vintage movies, historical dramas, calligraphy, antique fairs, baking bread, folk music (nostalgic traditionalist prefe...)\n",
      "   Generating user 105/200... ✅ Elara Vance\n",
      "classYear: 2026\n",
      "major: Art History and Studio Art (dual major)\n",
      "bio: I find beauty in the forgotten corners of the world, in the hushed whispers of old paintings, and the vibrant hum of a new canvas. My art is where my heart truly lives, a way to explore the tender complexities of human emotion and the subtle magic of existence. I believe that true connection happens when we dare to be vulnerable and share the depths of our souls.\n",
      "interests: painting, poetry, museum hopping, indie folk music, journaling, stargazing, nature walks (sensitive artist attracted to ...)\n",
      "   Generating user 106/200... "
     ]
    },
    {
     "name": "stderr",
     "output_type": "stream",
     "text": [
      "WARNING:profile_generator:Failed to parse JSON response: Expecting ':' delimiter: line 16 column 1 (char 1002)\n"
     ]
    },
    {
     "name": "stdout",
     "output_type": "stream",
     "text": [
      "✅ Michael Watson\n",
      "classYear: 2026\n",
      "major: Classics\n",
      "bio: I find true solace and profound understanding in the narratives and artistry of antiquity. The enduring wisdom of the Greeks and Romans continues to illuminate the human condition, offering timeless insights that resonate as powerfully today as they did millennia ago. My studies are a journey through the foundations of Western thought and aesthetics, revealing beauty and truth that transcend ephemeral trends.\n",
      "interests: Roman history, Greek tragedy, classical architecture, ancient philosophy, Latin poetry, historical linguistics, epigraphy (timeless classicist who values...)\n",
      "   Generating user 107/200... ✅ Linda Garcia\n",
      "classYear: 2026\n",
      "major: Philosophy, Politics, and Economics (PPE)\n",
      "bio: I believe in the power of human ingenuity to build a more just and beautiful world. My heart beats for collective flourishing and exploring pathways to a future where everyone can thrive. I'm always seeking out new ideas and inspirations that push the boundaries of what's possible, because the future is ours to create!\n",
      "interests: utopian literature, social justice initiatives, sustainable living, contemplative practices, ethical AI, community building, documentary filmmaking (dreamy idealist drawn to utopi...)\n",
      "   Generating user 108/200... ✅ Andrea Davis\n",
      "classYear: 2026\n",
      "major: Environmental Science\n",
      "bio: Hey there! I'm Andrea, and you'll most likely find me exploring a new hiking trail or trying to identify every tree in sight. I'm passionate about protecting our planet and spent my last summer volunteering at a national park. Let's talk about conservation, the best camping spots, or anything that gets us outdoors!\n",
      "interests: hiking, wildlife photography, river kayaking, sustainable living, plant identification, trail running, camping (nature lover interested in env...)\n",
      "   Generating user 109/200... ✅ Thomas Webster\n",
      "classYear: 2025\n",
      "major: History\n",
      "bio: Ever since I was a kid, the past has fascinated me more than the present. You can usually find me lost in a good historical fiction novel or binging a new period drama series. I'm always looking for ways to connect with history, whether it's through a book, a film, or visiting an old battlefield.\n",
      "interests: historical fiction, period dramas, ancient civilizations, medieval history, historical documentaries, museum visits, historical reenactment (history buff interested in his...)\n",
      "   Generating user 110/200... ✅ Lilith Thorne\n",
      "classYear: 2026\n",
      "major: English Literature (with a focus on Gothic & Victorian Studies)\n",
      "bio: They say the past is a foreign country; I'm here to decipher its macabre missives. My mind is a labyrinth of shadows and whispers, seeking beauty in the decay and truth in the disquiet. I find solace in the stark realities of human nature and the dark corners of the soul.\n",
      "interests: Victorian literature, true crime documentaries, existential philosophy, historical cemeteries, film noir, psychology of cults, antique collecting (dark aesthete fascinated by go...)\n",
      "\n",
      "📈 Progress: 151/110 users completed\n",
      "\n",
      "   Generating user 111/200... ✅ Jennifer Wolfe\n",
      "classYear: 2025\n",
      "major: Sociology and Political Science\n",
      "bio: I'm passionate about amplifying underrepresented voices and advocating for systemic change. My goal is to use my education to challenge injustice and build more equitable communities for everyone. Let's connect and make a difference!\n",
      "interests: social justice, intersectionality, community organizing, public policy, human rights, documentary filmmaking, grassroots movements (social activist interested in ...)\n",
      "   Generating user 112/200... ✅ Linda Richardson\n",
      "classYear: 2025\n",
      "major: Physics\n",
      "bio: My curiosity is driven by a desire to understand the fundamental laws governing our universe. I seek truth through observation, experimentation, and rigorous analysis, always prioritizing data over dogma. My ideal narrative is one built on demonstrable facts and logical deductions.\n",
      "interests: Quantum Mechanics, Data Science, Astronomy, Philosophy of Science, Alpine Hiking, Classical Music, Debate (logical scientist interested i...)\n",
      "   Generating user 113/200... ✅ Jerry Rogers II\n",
      "classYear: 2026\n",
      "major: Marketing\n",
      "bio: Obsessed with all things Marvel and can quote every line from \"Dune.\" If it's trending on TikTok or breaking box office records, you bet I'm there. My life goal is to be the guy who knows everyone and what they're watching.\n",
      "interests: Marvel Cinematic Universe, TikTok trends, blockbuster movies, pop music charts, celebrity gossip, video game releases, Netflix binges (pop culture fanatic who follow...)\n",
      "   Generating user 114/200... ✅ Jill Nolan\n",
      "classYear: 2025\n",
      "major: English (Creative Writing Focus)\n",
      "bio: I’m basically powered by iced coffee and a deep, unyielding love for well-placed sarcasm. If it makes me laugh, I’m in. My superpower is finding the absurd in the everyday.\n",
      "interests: stand-up comedy, satirical news, writing sketch comedy, improv, reading memoirs, indie films, podcast binge-listening (comedy enthusiast who gravitat...)\n",
      "   Generating user 115/200... ✅ William Morrison\n",
      "classYear: 2026\n",
      "major: Sociology and Peace Studies\n",
      "bio: Hello! I'm William, and I believe in the incredible power of people to effect positive change. I'm fascinated by what brings us together and how we can best support each other in reaching our highest potential. My goal is to contribute to a world where everyone has the opportunity to thrive.\n",
      "interests: community organizing, restorative justice, documentary filmmaking, ethical AI, social entrepreneurship, mindfulness, speculative fiction (optimistic humanist interested...)\n",
      "   Generating user 116/200... "
     ]
    },
    {
     "name": "stderr",
     "output_type": "stream",
     "text": [
      "WARNING:profile_generator:Failed to parse JSON response: Expecting ',' delimiter: line 8 column 3 (char 129)\n"
     ]
    },
    {
     "name": "stdout",
     "output_type": "stream",
     "text": [
      "✅ Andrew Johnson\n",
      "classYear: 2025\n",
      "major: Theatre Arts\n",
      "bio: Hey there! I'm an absolute force of nature on and off the stage. Give me a spotlight, a dramatic monologue, or a good old-fashioned improv challenge, and I'm in my element. I love pushing boundaries and making people feel something!\n",
      "interests: acting, improv comedy, film noir, musical theatre, screenwriting, dramatic literature, fashion design (extroverted performer drawn to...)\n",
      "   Generating user 117/200... ✅ Jamie Woodward\n",
      "classYear: 2026\n",
      "major: Classics\n",
      "bio: Erudition is not merely a pursuit of knowledge, but a dedicated journey into the foundational texts and timeless questions that define our humanity. I am drawn to the profound wisdom embedded in ancient languages and philosophies, believing that true intellectual rigor lies in understanding the past to illuminate the present. My academic life is a devoted exploration of these classical landscapes.\n",
      "interests: Ancient Greek, Latin, Roman history, Hellenistic philosophy, etymology, literary criticism, historical linguistics (academic perfectionist focused...)\n",
      "   Generating user 118/200... ✅ Clara Ellison\n",
      "classYear: 2026\n",
      "major: Philosophy\n",
      "bio: I find beauty in the quiet hum of existence, in stories that unfold slowly and leave you contemplating long after. My ideal days involve sunshine, a good book, and the gentle strum of a guitar. I believe less truly is more, especially when it comes to clutter and unnecessary noise.\n",
      "interests: existentialist literature, acoustic guitar, stargazing, ethical consumerism, hiking, journaling, independent film (minimalist who prefers simple,...)\n",
      "   Generating user 119/200... ✅ John Bishop\n",
      "classYear: 2026\n",
      "major: Sports Management\n",
      "bio: As a lifelong sports enthusiast, I'm always down to talk about the latest game or classic rivalries. I'm fascinated by the stories behind the athletes and teams, especially the journeys and leadership that shaped them. Outside of classes, you'll probably find me cheering on my favorite teams or catching up on the latest sports doc.\n",
      "interests: Sports history, Biographies, Documentaries, Football, Basketball, Sports movies, Leadership studies (sports fan who enjoys biograph...)\n",
      "   Generating user 120/200... ✅ Maya Rodriguez\n",
      "classYear: 2025\n",
      "major: Sociology with a Minor in Ethnic Studies\n",
      "bio: I'm passionate about amplifying marginalized voices and fostering inclusive communities. My goal is to challenge systemic injustices and work towards a more equitable world for everyone. Let's collaborate and inspire change!\n",
      "interests: social justice, intersectional feminism, community organizing, ethical consumption, documentary films, spoken word poetry, cultural exchange (social activist interested in ...)\n",
      "\n",
      "📈 Progress: 161/120 users completed\n",
      "\n",
      "   Generating user 121/200... ✅ Devin Harris\n",
      "classYear: 2026\n",
      "major: English Literature\n",
      "bio: I’ve always been fascinated by people’s stories, the good and the bad, the beautiful and the heartbreaking. There’s so much to learn from human experience, and I just want to understand it all. Sometimes it feels like my heart has too many feelings, but maybe that's where the best stories come from.\n",
      "interests: reading literary fiction, watching character-driven movies, volunteering at a local animal shelter, journaling, listening to true crime podcasts, visiting art museums, spending time in nature (emotional empath drawn to hear...)\n",
      "   Generating user 122/200... "
     ]
    },
    {
     "name": "stderr",
     "output_type": "stream",
     "text": [
      "WARNING:profile_generator:Failed to parse JSON response: Invalid control character at: line 9 column 39 (char 185)\n"
     ]
    },
    {
     "name": "stdout",
     "output_type": "stream",
     "text": [
      "✅ Sarah Chen\n",
      "classYear: 2025\n",
      "major: Forensic Psychology\n",
      "bio: Give me a good whodunit and a rainy night, and I'm set. I'm endlessly fascinated by the human mind, especially the darker corners, and how it all plays out in the pursuit of justice. My ideal weekend involves a true crime podcast marathon and trying to figure out the killer before the detective does.\n",
      "interests: true crime podcasts, psychological thrillers, cold case documentaries, investigative journalism, criminology, film noir, escape rooms (mystery lover obsessed with cr...)\n",
      "   Generating user 123/200... ✅ Rebecca Sanchez\n",
      "classYear: 2026\n",
      "major: Conflict Resolution\n",
      "bio: I believe that understanding each other is the first step towards a more peaceful world. I love finding common ground and helping people connect. Let's make some good things happen, together!\n",
      "interests: mediation, community gardening, painting, hiking, baking, reading, mindful breathing (peaceful mediator preferring h...)\n",
      "   Generating user 124/200... ✅ Cameron Avery\n",
      "classYear: 2026\n",
      "major: English Literature and Philosophy\n",
      "bio: The shadows whisper forgotten tales, and I find myself drawn to their mysteries. My prose is often as dark as my coffee, exploring the intricacies of the human psyche and the unsettling beauty of the macabre. Here to dissect the classics and perhaps write my own damnation.\n",
      "interests: Gothic literature, film noir, existential philosophy, psychological thrillers, antique collecting, atmospheric music, historical criminology (dark aesthete fascinated by go...)\n",
      "   Generating user 125/200... ✅ Laura Graham\n",
      "classYear: 2025\n",
      "major: English Literature\n",
      "bio: There's nothing quite like curling up with a classic, or getting lost in a story that feels like coming home. I'm a firm believer that the best tales are the ones that have stood the test of time, and I love exploring the enduring truths within them. You'll often find me with my nose in a book, probably one published before I was born.\n",
      "interests: classic literature, historical fiction, black and white movies, knitting, folk music, letter writing, visiting antique shops (nostalgic traditionalist prefe...)\n",
      "   Generating user 126/200... ✅ Elara Vance\n",
      "classYear: 2026\n",
      "major: Astrophysics and Computer Science (Double Major)\n",
      "bio: My mind lives somewhere between the stars and the lines of code that make our world tick. I'm endlessly curious about humanity's future, even if it's a bit grim, and I spend a lot of time thinking about how we'll get to the next frontier – both technologically and existentially.\n",
      "interests: space exploration, AI ethics, dystopian literature, retrofuturism, quantum physics, independent film, astrophotography (sci-fi enthusiast fascinated b...)\n",
      "   Generating user 127/200... ✅ Sarah Chen\n",
      "classYear: 2025\n",
      "major: International Relations\n",
      "bio: Always searching for the next big adventure, whether it's exploring a new continent or conquering a challenging hike. My ideal night involves a captivating travel memoir and an action-packed movie that gets my heart racing. Life's too short for anything less than extraordinary!\n",
      "interests: Backpacking, Global Cuisine, Action Movies, Photography, Travel Writing, Learning New Languages, Rock Climbing (adventure seeker who loves tra...)\n",
      "   Generating user 128/200... ✅ Elara Vance\n",
      "classYear: 2026\n",
      "major: Digital Media & Interdisciplinary Arts\n",
      "bio: My brain is basically a giant, chaotic mood board constantly buzzing with new ideas. I love diving headfirst into uncharted creative territory, whether it's coding a generative art piece or learning to bind books from unconventional materials. The best part is seeing what happens when you mix things up and break a few rules.\n",
      "interests: generative art, experimental music, zine making, performance art, upcycled fashion, interactive installations, speculative design (curious experimenter always tr...)\n",
      "   Generating user 129/200... ✅ Kristina Marshall\n",
      "classYear: 2026\n",
      "major: Film Studies & Media Arts\n",
      "bio: Obsessed with the fringes of cinema and sound. I spend my nights editing experimental shorts in my dorm room, fueled by obscure documentaries and the latest indie releases. My goal is to make films that challenge perception and make you feel something profoundly unsettling, in the best way possible.\n",
      "interests: experimental film, indie music, analog photography, sound design, abstract art, vintage synthesizers, film theory (creative arts student into exp...)\n",
      "   Generating user 130/200... ✅ Larry Rodriguez\n",
      "classYear: 2026\n",
      "major: Philosophy\n",
      "bio: I find myself perpetually drawn to the deeper questions, the 'why' behind everything. Life feels like an intricate tapestry, and I'm constantly seeking to understand the threads, the patterns, and the ultimate weaver. My peace often comes from quiet contemplation, whether under a starry sky or buried in a classic text.\n",
      "interests: existentialism, moral philosophy, metaphysics, classical literature, indie folk music, stargazing, mindful walking (introspective philosopher cont...)\n",
      "\n",
      "📈 Progress: 171/130 users completed\n",
      "\n",
      "   Generating user 131/200... ✅ Robert Harrell\n",
      "classYear: 2025\n",
      "major: Comparative Literature\n",
      "bio: The world presents itself as a labyrinth, and I, a solitary cartographer, mapping its shadows and hidden passages. I delve into the grotesque beauty of the human psyche, preferring the company of haunted novels to the cacophony of the living. Perhaps one day, I'll find a corner where the light doesn't dare to tread.\n",
      "interests: gothic literature, existential philosophy, film noir, vintage true crime, dark academia, psychological thrillers, urban exploration (dark aesthete fascinated by go...)\n",
      "   Generating user 132/200... ✅ Albert Hunt\n",
      "classYear: 2026\n",
      "major: Sports Management\n",
      "bio: Big fan of anything competitive, especially when it comes to Boston sports teams. I'm usually at the gym or catching up on the latest sports documentaries. History and good storytelling really draw me in, so I'm always looking for a great read or film.\n",
      "interests: Boston sports, basketball, football, sports documentaries, biographies, historical non-fiction, weightlifting (sports fan who enjoys biograph...)\n",
      "   Generating user 133/200... ✅ Clara Bellewood\n",
      "classYear: 2026\n",
      "major: English Literature\n",
      "bio: Lost in a world of ink and celluloid, I'm always on the hunt for forgotten tales and melodies. Give me a rainy day, a worn paperback, and a crackling vinyl record, and I'm in paradise. Hoping to find others who appreciate the beauty of eras gone by!\n",
      "interests: classic films, vintage novels, jazz music, vinyl collecting, antique shops, silent films, old Hollywood history (retro enthusiast who loves vin...)\n",
      "   Generating user 134/200... ✅ Chloe Nguyen\n",
      "classYear: 2026\n",
      "major: Marketing\n",
      "bio: Obsessed with all things pop culture! If it's trending on TikTok or breaking box office records, I'm probably talking about it. My life goals include seeing every Marvel movie on opening night and perfecting my \"What Was I Made For?\" karaoke rendition.\n",
      "interests: TikTok trends, Marvel movies, reality TV, pop music, movie premieres, celebrity gossip, Netflix binge-watching (pop culture fanatic who follow...)\n",
      "   Generating user 135/200... ✅ Adam Woodard\n",
      "classYear: 2026\n",
      "major: Comparative Literature\n",
      "bio: I find beauty in the quiet whispers of the world, in art that dares to be vulnerable, and in the profound connections we forge with stories. I'm often lost in thought, sketching out feelings or finding solace in the written word. My greatest hope is to understand and convey the emotional landscape of humanity through creative expression.\n",
      "interests: poetry, classical music, art history, indie films, nature walks, journaling, philosophical discussions (sensitive artist attracted to ...)\n",
      "   Generating user 136/200... ✅ Akari Tanaka\n",
      "classYear: 2025\n",
      "major: International Relations and East Asian Studies\n",
      "bio: Konnichiwa! I'm Akari, originally from Tokyo, but I've lived in Singapore and London too. I'm fascinated by how different cultures connect and express themselves, especially through food and music. Always looking for new experiences and exciting conversations.\n",
      "interests: Global cuisines, Indie cinema, Learning new languages, K-Pop dance, Traveling off the beaten path, Philosophy podcasts, Calligraphy (international student with div...)\n",
      "   Generating user 137/200... ✅ Jennifer Butler\n",
      "classYear: 2026\n",
      "major: Global Studies and Digital Media\n",
      "bio: As an international student from Singapore, I'm passionate about diverse cultures and how technology bridges communities. I love exploring new places and finding the hidden gems in every city. Always looking for new experiences and good conversations!\n",
      "interests: travel, photography, indie films, exploring diverse cuisines, K-pop, digital art, learning new languages (international student with div...)\n",
      "   Generating user 138/200... ✅ Amelia Vance\n",
      "classYear: 2026\n",
      "major: English Literature\n",
      "bio: I'm just a big ball of feelings, honestly. Give me a good cry over a beautifully written character's struggles any day. I'm always looking for stories that make me feel deeply and understand the human condition a little better.\n",
      "interests: screenwriting, historical dramas, independent films, journaling, poetry, classic novels, animal welfare (emotional empath drawn to hear...)\n",
      "   Generating user 139/200... ✅ Sabrina George\n",
      "classYear: 2025\n",
      "major: Business Administration (Concentration in Strategy & Leadership)\n",
      "bio: I’m driven by impact and fascinated by the architects of change. My goal isn't just to succeed, but to define what success looks like on my own terms, learning from those who've navigated complex hierarchies and built empires. I believe true power lies in understanding the levers and knowing how to pull them.\n",
      "interests: corporate strategy, leadership biographies, venture capital, negotiation tactics, organizational psychology, public speaking, luxury branding (ambitious climber interested i...)\n",
      "   Generating user 140/200... ✅ Lyra Meadowsweet\n",
      "classYear: 2026\n",
      "major: Sociology and Peace Studies (Joint Major)\n",
      "bio: I believe in the boundless potential of humanity to create a world overflowing with kindness, justice, and interconnectedness. My studies are a path to understanding how we can collaboratively build those beautiful futures, one dream, one conversation, one act of compassion at a time. I'm always seeking inspiration and ways to contribute to the collective good.\n",
      "interests: utopian literature, community organizing, ethical consumption, inspirational TED talks, long walks in nature, social justice, sustainable living (dreamy idealist drawn to utopi...)\n",
      "\n",
      "📈 Progress: 181/140 users completed\n",
      "\n",
      "   Generating user 141/200... ✅ Helena Vance\n",
      "classYear: 2025\n",
      "major: Computer Science\n",
      "bio: I thrive on bringing order to complex systems, whether it's optimizing algorithms or meticulously planning my week. I enjoy seeing projects through from conception to a clear, functional conclusion. My goal is always to find the most efficient and logical path forward.\n",
      "interests: structured programming, database design, project management, mystery novels, organizational systems, logic puzzles, efficient travel planning (methodical planner who enjoys ...)\n",
      "   Generating user 142/200... "
     ]
    },
    {
     "name": "stderr",
     "output_type": "stream",
     "text": [
      "WARNING:profile_generator:Failed to parse JSON response: Expecting ',' delimiter: line 8 column 4 (char 117)\n"
     ]
    },
    {
     "name": "stdout",
     "output_type": "stream",
     "text": [
      "✅ Victoria Martinez\n",
      "classYear: 2026\n",
      "major: Marketing\n",
      "bio: Hey, I'm Victoria! Always scrolling to see what's new and what's next. From the latest TikTok dances to the hottest drops, I'm probably already obsessed and planning my next move. Gotta stay ahead of the curve, right?\n",
      "interests: TikTok trends, pop music, sustainable fashion, niche beauty brands, social media strategy, indie films, cafe hopping (trend follower who stays curre...)\n",
      "   Generating user 143/200... ✅ Mindy Lee\n",
      "classYear: 2026\n",
      "major: Communications\n",
      "bio: \"Obsessed with all things #PopCulture! You can usually find me scrolling TikTok for the latest trends or binge-watching the newest Netflix sensation. Let's spill some tea and make some memories!\"\n",
      "interests: celebrity gossip, TikTok trends, reality TV, social media, fashion, pop music, influencer culture (social butterfly who loves cel...)\n",
      "   Generating user 144/200... ✅ Carla Williams\n",
      "classYear: 2025\n",
      "major: Classical Studies\n",
      "bio: As a student of the enduring wisdom of the past, I find immense satisfaction in unraveling the complexities of ancient civilizations. My pursuit isn't merely academic; it's a deep dive into the very foundations of human creativity and thought that continue to resonate today. I believe the greatest works of art and literature possess a timeless quality that transcends passing trends.\n",
      "interests: Roman history, Greek philosophy, Latin literature, ancient architecture, classical music, art history, museum visits (timeless classicist who values...)\n",
      "   Generating user 145/200... ✅ Robert Ochoa\n",
      "classYear: 2025\n",
      "major: Business Administration\n",
      "bio: I’m here to get a solid education that will actually help me build a good life. I appreciate straightforward information and practical skills I can apply. Not too big on abstract theories or things that don't have a clear purpose.\n",
      "interests: financial literacy, personal investing, practical skills workshops, current events, home improvement, hiking, cooking (grounded pragmatist preferring...)\n",
      "   Generating user 146/200... ✅ Cesar Yoder\n",
      "classYear: 2026\n",
      "major: Computer Science\n",
      "bio: My mind lives somewhere between the stars and data streams, constantly pondering the future of humanity and what happens when AI gains sentience. I spend my nights building simulations and my days debating the ethical implications of emerging tech. If it involves a spaceship, a rogue AI, or a crumbling society, I'm hooked.\n",
      "interests: Astrophysics, Ethical AI, Cyberpunk Literature, Classic Sci-Fi Films, Indie Video Games, Space Exploration, Virtual Reality (sci-fi enthusiast fascinated b...)\n",
      "   Generating user 147/200... ✅ Kelly Nash\n",
      "classYear: 2025\n",
      "major: Electrical Engineering\n",
      "bio: I thrive on bringing order to complex systems, whether it's optimizing circuits or planning out my academic calendar. I believe every problem has a logical solution, and I enjoy the process of meticulously finding it. My ideal weekend involves a well-organized project and a good book with a definitive ending.\n",
      "interests: circuit design, project management, classical literature, detailed itineraries, puzzle-solving, historical documentaries, organizational systems (methodical planner who enjoys ...)\n",
      "   Generating user 148/200... ✅ Crystal Hall\n",
      "classYear: 2025\n",
      "major: Forensic Psychology\n",
      "bio: If there's a mystery, I'm already ten steps ahead, piecing together the clues. My ideal weekend involves a true-crime documentary marathon, a stack of psychological thrillers, and a mug of black coffee. I'm always looking for my next chilling read or a puzzle to solve.\n",
      "interests: true crime documentaries, psychological thrillers, crime novels, cold case investigations, escape rooms, analyzing criminal psychology, cryptic crosswords (mystery lover obsessed with cr...)\n",
      "   Generating user 149/200... "
     ]
    },
    {
     "name": "stderr",
     "output_type": "stream",
     "text": [
      "WARNING:profile_generator:Failed to parse JSON response: Invalid control character at: line 12 column 14 (char 562)\n"
     ]
    },
    {
     "name": "stdout",
     "output_type": "stream",
     "text": [
      "✅ Maya Angelou\n",
      "classYear: 2025\n",
      "major: Sociology\n",
      "bio: I'm passionate about amplifying marginalized voices and challenging systemic inequalities. My goal is to use my voice and education to advocate for a more just and equitable world for everyone. Let's build a better future, together!\n",
      "interests: social justice, intersectionality, community organizing, poetry, documentary filmmaking, global human rights, spoken word (social activist interested in ...)\n",
      "   Generating user 150/200... ✅ Ashley Austin\n",
      "classYear: 2026\n",
      "major: Philosophy\n",
      "bio: The world is loud, but I'm listening to the whispers. I'm here to challenge the narratives, not just learn them. If it doesn't make you think, really *think*, what's the point?\n",
      "interests: zine-making, experimental music, urban exploration, radical literature, street art, DIY ethics (rebel nonconformist attracted ...)\n",
      "\n",
      "📈 Progress: 191/150 users completed\n",
      "\n",
      "   Generating user 151/200... ✅ Tiffany Goodman\n",
      "classYear: 2025\n",
      "major: Communication Studies\n",
      "bio: I'm all about finding common ground and fostering positive connections. I believe meaningful conversations can solve almost anything, and I love helping people understand each other better. My goal is to create more harmony, one interaction at a time.\n",
      "interests: active listening, restorative justice, community organizing, non-violent communication, collaborative problem-solving, hiking, cozy mystery novels (peaceful mediator preferring h...)\n",
      "   Generating user 152/200... ✅ Kimberly Morales\n",
      "classYear: 2025\n",
      "major: Astrophysics\n",
      "bio: Just trying to figure out if we're alone in the universe, or if we're just waiting for the next tech-bro to create a real-life dystopia. Obsessed with black holes, AI ethics, and whether replicants dream of electric sheep. Probably overthinking everything, always.\n",
      "interests: space exploration, artificial intelligence, cyberpunk, post-apocalyptic literature, exoplanets, virtual reality, transhumanism (sci-fi enthusiast fascinated b...)\n",
      "   Generating user 153/200... ✅ Amanda Christensen\n",
      "classYear: 2026\n",
      "major: Comparative Literature and Philosophy\n",
      "bio: My natural habitat is a quiet corner in the library, preferably with a well-worn copy of a 19th-century novel or a dense philosophical text. I find immense joy in unraveling complex ideas and exploring the human condition through literature. Always open to a thoughtful discussion, though I prefer listening to pontificating.\n",
      "interests: Victorian novels, existentialist philosophy, classical music, art history, quiet cafes, critical theory, literary criticism (bookworm introvert who loves c...)\n",
      "   Generating user 154/200... ✅ Heather Barnes\n",
      "classYear: 2026\n",
      "major: Conflict Analysis and Resolution\n",
      "bio: I believe in finding common ground and fostering understanding. My passion is creating spaces where everyone feels heard and respected, and I love helping others navigate disagreements with empathy. I genuinely enjoy the process of bringing people together.\n",
      "interests: mediation, community building, non-violent communication, collaborative art projects, hiking, reading diverse perspectives, making friendship bracelets (peaceful mediator preferring h...)\n",
      "   Generating user 155/200... ✅ Luna \"Hex\" Blackwood\n",
      "classYear: 2026\n",
      "major: Comparative Literature and Critical Theory\n",
      "bio: College is just another institution, man, but at least here I can deconstruct it from the inside out. Don't talk to me about career paths; I'm busy dissecting societal norms and planning my next guerrilla art installation. The world needs more chaos, more beauty, more truth – and less beige.\n",
      "interests: Zine making, performance art, obscure anarchist literature, urban exploration, experimental music, anti-capitalist theory, spoken word poetry (rebel nonconformist attracted ...)\n",
      "   Generating user 156/200... ✅ Christine Long\n",
      "classYear: 2025\n",
      "major: Psychology\n",
      "bio: I'm fascinated by the \"why\" behind human behavior, particularly in how characters are built and evolve in stories. You can usually find me analyzing motivations in films or getting lost in a dense novel. I'm hoping to use my understanding of the human mind to craft compelling narratives myself one day.\n",
      "interests: character analysis, narrative theory, classic literature, indie films, screenwriting, ethical dilemmas, psychology studies, existentialism (psychology student drawn to ch...)\n",
      "   Generating user 157/200... ✅ Angela Martinez\n",
      "classYear: 2026\n",
      "major: Sociology and Peace & Conflict Studies (double major)\n",
      "bio: I believe in the boundless potential of humanity to create a better world, founded on compassion, understanding, and collective well-being. My journey is to explore how we can bridge divides and build societies where every individual can flourish. Let's dream big together!\n",
      "interests: utopian literature, community organizing, ethical AI, sustainable living, existential philosophy, contemplative practices, social justice art (dreamy idealist drawn to utopi...)\n",
      "   Generating user 158/200... "
     ]
    },
    {
     "name": "stderr",
     "output_type": "stream",
     "text": [
      "WARNING:profile_generator:Failed to parse JSON response: Invalid control character at: line 3 column 97 (char 264)\n"
     ]
    },
    {
     "name": "stdout",
     "output_type": "stream",
     "text": [
      "✅ Anya Petrova\n",
      "classYear: 2025\n",
      "major: International Relations and East Asian Studies\n",
      "bio: Originally from Sofia, Bulgaria, I'm passionate about exploring global communities and understanding different perspectives. When I'm not buried in my textbooks, you'll probably find me trying out a new recipe from a different country or debating current events. I love a good adventure and finding beauty in unexpected places!\n",
      "interests: global cinema, hiking, trying new cuisines, foreign language podcasts, historical fiction, indie music, art museums (international student with div...)\n",
      "   Generating user 159/200... ✅ Lindsey Gray\n",
      "classYear: 2026\n",
      "major: Music Composition\n",
      "bio: My real life isn't quite as magical as the worlds I explore in my head, but I'm working on it! My greatest joy is creating the soundtracks to epic adventures, both real and imagined. I dream of one day scoring a sweeping fantasy film.\n",
      "interests: fantasy novels, orchestral music, Dungeons & Dragons, video game soundtracks, world-building, mythological creatures, epic poetry (fantasy escapist who prefers m...)\n",
      "   Generating user 160/200... ✅ Elara Vance\n",
      "classYear: 2026\n",
      "major: Art History and Museum Studies\n",
      "bio: I find solace and truth in the quiet language of art, believing that every brushstroke holds a whisper of the human soul. My heart beats in rhythm with the beauty I encounter, always seeking the deeper narratives woven into the fabric of existence. I yearn to create and connect through the profound emotions that art evokes, hoping to leave a gentle ripple of understanding in the world.\n",
      "interests: painting, poetry, classical music, art galleries, vintage photography, nature walks, existential philosophy (sensitive artist attracted to ...)\n",
      "\n",
      "📈 Progress: 201/160 users completed\n",
      "\n",
      "   Generating user 161/200... ✅ Jeremy Kennedy\n",
      "classYear: 2026\n",
      "major: Film Studies with a concentration in Experimental Media\n",
      "bio: My camcorder and I are constantly seeking out the beauty in the mundane and the weird in the wonderful. I spend most of my free time either lost in a film score or planning my next short. If it's got a fuzzy cinematic grain and a DIY spirit, I'm probably obsessed.\n",
      "interests: experimental film, indie music, analog photography, zine making, thrift store finds, synthesizer worship, urban exploration (creative arts student into exp...)\n",
      "   Generating user 162/200... ✅ Larry Wilson\n",
      "classYear: 2026\n",
      "major: History\n",
      "bio: Ever since I got my hands on a copy of *A Tale of Two Cities*, I've been hooked on stories that transport me to a different time. I love digging into the past, whether it's through dusty old textbooks or a beautifully shot period drama. My dream is to one day work in a museum, surrounded by the echoes of history.\n",
      "interests: historical fiction, period dramas, historical non-fiction, world history, documentary films, museum visits, historical reenactment (history buff interested in his...)\n",
      "   Generating user 163/200... ✅ Richard Yang\n",
      "classYear: 2025\n",
      "major: Mechanical Engineering\n",
      "bio: Give me a challenge, and I'll not only meet it, I'll probably jump off something high while doing it. I live for that rush of adrenaline, whether it's on a mountainside or pushing the limits of what's possible in the lab. If it's safe, it's probably boring.\n",
      "interests: skydiving, whitewater rafting, rock climbing, competitive robotics, backcountry skiing, parkour, extreme sports photography (adrenaline junkie who seeks in...)\n",
      "   Generating user 164/200... ✅ Carrie Taylor\n",
      "classYear: 2026\n",
      "major: Comparative Literature\n",
      "bio: I believe the best stories are found in the messiness of human experience – the heartbreak, the quiet triumphs, the unbearable beauty. I find myself drawn to narratives that aren't afraid to explore the depths of emotion, and often, I end up needing a good cry after. I guess I'm just wired to feel things deeply.\n",
      "interests: indie films, memoirs, antique shopping, poetry, psychological thrillers, rainy day walks, journaling (emotional empath drawn to hear...)\n",
      "   Generating user 165/200... ✅ Laura Wall\n",
      "classYear: 2026\n",
      "major: Communications\n",
      "bio: OMG, hey! So excited to be here and meet literally everyone. You'll probably find me scrolling TikTok for the latest celeb gossip or planning my next big night out. Always down for a good time and some amazing pics!\n",
      "interests: Celebrity News, TikTok Trends, Pop Culture, Fashion, Social Events, Photography, Pop Music (social butterfly who loves cel...)\n",
      "   Generating user 166/200... ✅ Terri Murphy\n",
      "classYear: 2026\n",
      "major: Computer Science with a minor in Philosophy\n",
      "bio: The universe is vast and full of uncharted territories, both cosmic and existential. I'm driven by a desire to understand the algorithms that govern our world and the philosophies that define our potential futures, however bleak or brilliant. My laptop is practically an extension of my brain as I explore new tech, build simulations, and craft stories that push the boundaries of what's possible.\n",
      "interests: space exploration, artificial intelligence, cyberpunk literature, astrophotography, ethical hacking, dystopian sociology, virtual reality gaming (sci-fi enthusiast fascinated b...)\n",
      "   Generating user 167/200... ✅ Anya Sharma\n",
      "classYear: 2025\n",
      "major: Global Studies and Digital Media\n",
      "bio: As an international student from India, I'm always eager to explore new cultures and share my own. I love how technology connects us, and I'm fascinated by its role in global communication. When I'm not studying, you can find me trying out new recipes or planning my next adventure.\n",
      "interests: traveling, international cuisine, documentary filmmaking, learning new languages, ethical technology, indie music, hiking (international student with div...)\n",
      "   Generating user 168/200... ✅ Maya Rodriguez\n",
      "classYear: 2025\n",
      "major: Political Science and Sociology (double major)\n",
      "bio: \"I'm here to challenge the status quo and amplify marginalized voices. My passion lies in dissecting systemic injustices and advocating for tangible change, not just through discourse, but through direct action. Let's make some noise and build a more equitable world.\"\n",
      "interests: social justice, intersectional feminism, grassroots organizing, documentary filmmaking, political theory, protest art, environmental activism (passionate activist engaged wi...)\n",
      "   Generating user 169/200... ✅ Maya Rodriguez\n",
      "classYear: 2026\n",
      "major: Communications \n",
      "bio: Obsessed with all things pop culture! If it's trending on TikTok or a celebrity is spilling tea, I'm already there. Catch me live-tweeting awards shows and dissecting the latest Netflix drops with my besties. Let's make some memories and maybe go viral!\n",
      "interests: Celebrity gossip, pop culture analysis, TikTok trends, social media, reality TV, fashion, concert-going (social butterfly who loves cel...)\n",
      "   Generating user 170/200... ✅ Elena Rossi\n",
      "classYear: 2025\n",
      "major: Psychology\n",
      "bio: I've always been fascinated by human behavior, particularly what drives the choices we make and the stories we tell ourselves. There's something incredibly rich in exploring the depths of personality, both real and fictional. When I'm not buried in my textbooks, I'm usually lost in a good book or dissecting a complex film.\n",
      "interests: character analysis, narrative theory, psychological thrillers, screenwriting, literary fiction, human motivation, film studies (psychology student drawn to ch...)\n",
      "\n",
      "📈 Progress: 211/170 users completed\n",
      "\n",
      "   Generating user 171/200... ✅ Shirley Henderson\n",
      "classYear: 2025\n",
      "major: Marketing\n",
      "bio: Obsessed with all things Marvel and can quote every line from \"Mean Girls.\" My Spotify Wrapped is basically a playlist of Top 40 hits and TikTok-famous songs. Always down for a movie night, especially if it's the latest blockbuster everyone's talking about!\n",
      "interests: Marvel movies, TikTok trends, pop music, rom-coms, Buzzfeed quizzes, celebrity gossip, Netflix binging (pop culture fanatic who follow...)\n",
      "   Generating user 172/200... ✅ Dennis Wallace\n",
      "classYear: 2026\n",
      "major: Interdisciplinary Arts & Technology\n",
      "bio: Right now, I'm super into generative AI art and how it blurs the lines between code and creativity. I love getting my hands dirty with new tech and seeing how far I can push the boundaries of traditional artistic expression. If it lets me experiment and learn something new, count me in!\n",
      "interests: digital fabrication, experimental music, interactive installations, speculative design, creative coding, performance art, virtual reality experiences (curious experimenter always tr...)\n",
      "   Generating user 173/200... ✅ Miguel Johnston\n",
      "classYear: 2026\n",
      "major: Comparative Literature and Philosophy (double major)\n",
      "bio: My mind often wanders through the dimly lit corridors of history's forgotten archives and the labyrinthine depths of the human psyche. I find beauty in the shadows, truth in uncomfortable silences, and inspiration in the macabre. This world is a perpetual mystery, and I intend to dissect every dark corner of it.\n",
      "interests: gothic architecture, existentialist philosophy, film noir, psychological thrillers, antique book collecting, urban exploration, classic horror literature (dark aesthete fascinated by go...)\n",
      "   Generating user 174/200... ✅ Madison Brooks\n",
      "classYear: 2025\n",
      "major: Psychology (with a minor in Film Studies)\n",
      "bio: I'm endlessly fascinated by the inner workings of people's minds – what drives us, what breaks us, and all the nuanced shades in between. You can usually find me dissecting character arcs in obscure indie films or getting lost in a really good psychological thriller. I believe stories are the best way to understand ourselves.\n",
      "interests: character analysis, narrative theory, classic cinema, human behavior, existential philosophy, true crime podcasts, journaling (psychology student drawn to ch...)\n",
      "   Generating user 175/200... ✅ Sean Stone\n",
      "classYear: 2025\n",
      "major: Global Studies\n",
      "bio: As a citizen of the world, I'm constantly seeking new perspectives and stories. I love connecting with people from all walks of life and discovering the beauty in our differences. Let's make some memories and broaden our horizons together!\n",
      "interests: International cinema, hiking, trying new cuisines, learning languages, live music, travel photography, volunteering (international student with div...)\n",
      "   Generating user 176/200... ✅ Brian Acosta\n",
      "classYear: 2025\n",
      "major: Physics\n",
      "bio: I approach the world with a critical eye, seeking to understand its underlying principles through observation and rigorous analysis. Factual accuracy and evidence-based reasoning are paramount in my pursuit of knowledge. I find immense satisfaction in dissecting complex problems and arriving at elegant solutions supported by undeniable data.\n",
      "interests: quantum mechanics, astrophotography, computational modeling, scientific ethics, data visualization, historical scientific breakthroughs, logic puzzles (logical scientist interested i...)\n",
      "   Generating user 177/200... ✅ Lawrence Avila\n",
      "classYear: 2026\n",
      "major: undeclared (leaning towards something interdisciplinary like Urban Studies or Experiential Learning)\n",
      "bio: Life's too short for a rigid itinerary! I'm here for the unexpected detours, the spontaneous road trips, and the joy of stumbling upon something new and amazing. If you're down for an adventure with no fixed destination, let's connect!\n",
      "interests: backpacking, urban exploration, street art, experimental cooking, live music (especially obscure bands), late-night talks, finding hidden coffee shops (spontaneous adventurer open to...)\n",
      "   Generating user 178/200... ✅ Elara Meadowlight\n",
      "classYear: 2026\n",
      "major: Comparative Literature\n",
      "bio: Real life is just so… predictable. I prefer to spend my time wandering through forgotten realms and navigating the intricate webs of magical societies. If I'm not lost in a book, I'm probably crafting my own tales or dreaming up new worlds to explore.\n",
      "interests: Fantasy novels, world-building, Dungeons & Dragons, creative writing, stargazing, anime, historical cosplay (escapist dreamer seeking fanta...)\n",
      "   Generating user 179/200... ✅ Stephen Bryant\n",
      "classYear: 2026\n",
      "major: Urban Studies and Media Studies (double major)\n",
      "bio: Bustling sidewalks and hidden murals are my muse. There's an undeniable energy to city life, and I'm obsessed with understanding how it shapes us and how we shape it back. My camera is practically an extension of my hand, always ready to capture the next fleeting moment of urban poetry.\n",
      "interests: Street photography, public art, independent film, music festivals, urban planning, contemporary architecture, digital media trends (urban dweller fascinated by ci...)\n",
      "   Generating user 180/200... ✅ Olivia Chang\n",
      "classYear: 2025\n",
      "major: Theatre Arts with a concentration in Performance\n",
      "bio: Hey everyone! I'm Olivia, and if I'm not on stage, I'm probably humming a show tune or planning my next big role. I love bringing stories to life and connecting with people through the magic of performance. Let's make some drama (the good kind, of course)!\n",
      "interests: acting, musical theatre, directing, improv comedy, attending concerts, Broadway shows, character development, screenwriting (extroverted performer drawn to...)\n",
      "\n",
      "📈 Progress: 221/180 users completed\n",
      "\n",
      "   Generating user 181/200... ✅ Eric Thompson\n",
      "classYear: 2026\n",
      "major: Communications\n",
      "bio: Heyyy! 👋 Your resident pop culture expert and trendsetter here! Always down for a Starbucks run, a TikTok dance party, or a deep dive into the latest celeb drama. Let's make some memories and maybe even go viral! 😉\n",
      "interests: Celebrity Gossip, TikTok Trends, Fashion, Pop Music, Social Media, Reality TV, Concerts (social butterfly who loves cel...)\n",
      "   Generating user 182/200... ✅ Linda Lee\n",
      "classYear: 2025\n",
      "major: Psychology\n",
      "bio: I'm endlessly fascinated by what makes people tick – their motivations, fears, and the stories they tell themselves. My dream is to use my understanding of human behavior to craft narratives that truly resonate. Analyzing character arcs in novels and films is a personal obsession of mine.\n",
      "interests: character analysis, narrative theory, classic literature, film studies, moral philosophy, psychology of art, screenwriting (psychology student drawn to ch...)\n",
      "   Generating user 183/200... ✅ Angela Ortiz\n",
      "classYear: 2026\n",
      "major: Philosophy\n",
      "bio: Officially, I'm a philosophy major, but unofficially, I'm excavating the forgotten corners of existence. This university is a gilded cage, and I'm looking for the cracks in the foundation. Most days you'll find me questioning everything, especially the \"rules.\"\n",
      "interests: experimental film, zine making, anarchist theory, urban exploration, punk show photography, obscure poetry, analog synths (rebel nonconformist attracted ...)\n",
      "   Generating user 184/200... ✅ William Carpenter\n",
      "classYear: 2025\n",
      "major: Classical Studies\n",
      "bio: I find profound beauty and truth in the enduring achievements of antiquity, believing that the echoes of Sophocles and the philosophies of Plato still resonate with timeless relevance today. My academic pursuits are driven by a desire to understand the building blocks of Western civilization and to appreciate the artistry that has inspired generations. I am dedicated to a life of rigorous inquiry and aesthetic appreciation.\n",
      "interests: Roman history, Greek tragedy, classical architecture, ancient philosophy, Latin translation, museum curation, historical linguistics (timeless classicist who values...)\n",
      "   Generating user 185/200... ✅ Kari Clark\n",
      "classYear: 2026\n",
      "major: Music Composition\n",
      "bio: My comfort zone is a fantastical land, dragons soaring overhead, a mystical soundtrack swelling around me. Reality is... fine, I guess, but give me an epic quest any day. I'm probably listening to something cinematic right now.\n",
      "interests: fantasy novels, orchestral soundtracks, Dungeons & Dragons, world-building, concept art, opera, video game scores (fantasy escapist who prefers m...)\n",
      "   Generating user 186/200... ✅ Ella Sanchez\n",
      "classYear: 2026\n",
      "major: Environmental Science\n",
      "bio: Future conservationist with a passion for protecting our planet's wild spaces. You can often find me hiking a new trail, identifying flora and fauna, or planning my next camping trip. I believe that understanding nature is the first step to preserving it.\n",
      "interests: Hiking, Backpacking, Birdwatching, Camping, Sustainable Living, Wildlife Photography, Trail Running (nature lover interested in env...)\n",
      "   Generating user 187/200... ✅ Jennifer Glover\n",
      "classYear: 2026\n",
      "major: Communications\n",
      "bio: OMG, it’s Jen G! You can usually find me scrolling through TikTok for the latest celeb tea or planning my next big night out. Life's too short to be boring, so let's make some memories and maybe go viral doing it.\n",
      "interests: Pop culture, Red carpet fashion, Reality TV, Concerts, Social media trends, Celebrity gossip, Branded content (social butterfly who loves cel...)\n",
      "   Generating user 188/200... ✅ Luna Maeve\n",
      "classYear: 2026\n",
      "major: Fine Arts (focus in Mixed Media & Performance Art)\n",
      "bio: My soul yearns for connection, creation, and a splash of cosmic dust. I believe art isn't just something you do, but something you *are*. You can usually find me with paint on my hands and stars in my eyes, seeking beauty in the unconventional and magic in the mundane.\n",
      "interests: Experimental painting, Spoken word poetry, Vintage clothing thrifting, Tarot reading, Folk music, Independent film, Ethical foraging (free spirit attracted to bohem...)\n",
      "   Generating user 189/200... ✅ Lori Butler\n",
      "classYear: 2026\n",
      "major: Anthropology\n",
      "bio: You'll find me wherever the wind takes me, usually with a camera in hand and an open mind. Life's too short for plans, let's see what amazing things we can stumble upon today! Always up for a spontaneous road trip, a weird museum, or just exploring a new corner of campus.\n",
      "interests: urban exploration, thrift store diving, street art, documentary films, foraging, sketching, people watching (spontaneous adventurer open to...)\n",
      "   Generating user 190/200... ✅ Liam Vance\n",
      "classYear: 2026\n",
      "major: Computer Science with a specialization in Artificial Intelligence\n",
      "bio: I thrive on dissecting complex problems and uncovering hidden patterns. There's nothing more satisfying than when the pieces of a puzzle click into place, especially if that puzzle involves a good mystery or a challenging algorithm. I'm always looking for the next logical labyrinth to explore.\n",
      "interests: cryptography, escape rooms, true crime documentaries, historical ciphers, board games (strategy), ethical hacking, quantum mechanics (conceptual) (analytical thinker who enjoys ...)\n",
      "\n",
      "📈 Progress: 231/190 users completed\n",
      "\n",
      "   Generating user 191/200... "
     ]
    },
    {
     "name": "stderr",
     "output_type": "stream",
     "text": [
      "WARNING:profile_generator:Failed to parse JSON response: Invalid control character at: line 5 column 10 (char 119)\n"
     ]
    },
    {
     "name": "stdout",
     "output_type": "stream",
     "text": [
      "✅ Luna Everhart\n",
      "classYear: 2026\n",
      "major: Comparative Literature\n",
      "bio: My head is almost constantly in the clouds, or more accurately, in another world. I find solace and excitement within the pages of a fantasy novel or the intricate lore of an RPG. Reality is… fine, but the possibilities of the imaginary are boundless.\n",
      "interests: Fantasy novels, Worldbuilding, Role-playing games (RPGs), Digital art, Mythology, Creative writing, Stargazing (escapist dreamer seeking fanta...)\n",
      "   Generating user 192/200... ✅ Anna Price\n",
      "classYear: 2025\n",
      "major: English Literature\n",
      "bio: There's nothing quite like a well-worn classic or a story that has stood the test of time. I love delving into tales that explore universal themes and relying on familiar narratives for comfort and insight. Sometimes, the oldest stories are the newest to us.\n",
      "interests: classic novels, black-and-white movies, folk music, historical fiction, letter writing, baking, antique shops (nostalgic traditionalist prefe...)\n",
      "   Generating user 193/200... ✅ Julie Fischer\n",
      "classYear: 2026\n",
      "major: Music Composition\n",
      "bio: My real life is pretty mundane, but in my head, I'm a powerful sorceress questing across enchanted lands. I spend most of my time conjuring epic orchestral pieces in my dorm, hoping one day they'll be the soundtrack to a legendary saga. If you need me, I'm probably lost in a world of dragons and ancient prophecies.\n",
      "interests: fantasy novels, orchestral music, video game soundtracks, Dungeons & Dragons, world-building, mythological creatures, epic poems (fantasy escapist who prefers m...)\n",
      "   Generating user 194/200... ✅ Chloe Davis\n",
      "classYear: 2026\n",
      "major: Media Studies\n",
      "bio: OMG, it's me, your resident pop culture expert! If it's trending on TikTok or breaking box office records, you know I'm already obsessed. Let's talk theories for the latest Marvel movie or dissect the best celebrity outfits from the Met Gala!\n",
      "interests: TikTok trends, Marvel movies, reality TV, celebrity gossip, pop music, blockbuster films, streaming binges (pop culture fanatic who follow...)\n",
      "   Generating user 195/200... ✅ Glen Harris\n",
      "classYear: 2026\n",
      "major: Undeclared (exploring all options!)\n",
      "bio: Life's too short for a set itinerary! You'll probably find me wherever the wind blows, whether that's road-tripping to a national park on a whim or trying a new, bizarre food truck. I thrive on unexpected moments and believe the best stories come from saying \"yes\" to the unknown.\n",
      "interests: spontaneous road trips, urban exploration, obscure music festivals, trying weird new foods, stargazing, hiking unfamiliar trails, impromptu dance parties (spontaneous adventurer open to...)\n",
      "   Generating user 196/200... ✅ Anya Sharma\n",
      "classYear: 2026\n",
      "major: Global Studies and Digital Media\n",
      "bio: Hey everyone! I'm Anya, originally from New Delhi, India. I'm passionate about exploring new cultures and ideas, and you'll often find me trying to connect the dots between global trends and local narratives. Let's grab some chai or coffee and talk about anything and everything!\n",
      "interests: International cinema, travel photography, fusion cuisine, historical fiction, ethical fashion, live music, spoken word poetry (international student with div...)\n",
      "   Generating user 197/200... ✅ Dylan Phillips\n",
      "classYear: 2026\n",
      "major: Sociology and Peace & Conflict Studies (double major)\n",
      "bio: Hi! My name is Dylan, and I'm fascinated by the incredible things humans can achieve when we work together. I truly believe in the power of empathy and collaboration to tackle big challenges, and I'm always looking for stories that inspire me. Let's make the world a better, brighter place for everyone!\n",
      "interests: human rights, community organizing, ethical leadership, social innovation, documentary filmmaking, uplifting literature, interfaith dialogue (optimistic humanist interested...)\n",
      "   Generating user 198/200... "
     ]
    },
    {
     "name": "stderr",
     "output_type": "stream",
     "text": [
      "WARNING:profile_generator:Failed to parse JSON response: Expecting property name enclosed in double quotes: line 7 column 1 (char 2927)\n",
      "ERROR:profile_generator:Failed to parse JSON from personality response: ```json\n",
      "{\n",
      "  \"Openness\": \"This individual demonstrates a moderate degree of openness, exhibiting a comfortable balance between novelty and familiarity. While they readily explore new music genres, sugg...\n",
      "ERROR:profile_generator:Failed to generate personality profiles for Deanna Sanders\n",
      "classYear: 2026\n",
      "major: Sociology and Communications\n",
      "bio: I truly believe in the incredible power of human connection and the boundless potential within each of us. My passion lies in understanding how people thrive and collaborating to build a more empathic and flourishing world for everyone. I'm always on the lookout for stories that highlight resilience, innovation, and the beautiful ways people lift each other up.\n",
      "interests: community organizing, documentary filmmaking, ethical AI, global social movements, interfaith dialogue, creative writing, sustainable living\n"
     ]
    },
    {
     "name": "stdout",
     "output_type": "stream",
     "text": [
      "❌ Failed profiles\n",
      "   Generating user 199/200... ✅ Ricardo Warren\n",
      "classYear: 2025\n",
      "major: Film & Digital Media\n",
      "bio: I’m always chasing the next visual story, whether it’s through my own lens or in a hidden gem at a microcinema. My goal is to make films that challenge perception and leave you thinking long after the credits roll. If a song doesn't make me feel something visceral, it’s not for me.\n",
      "interests: experimental cinema, analog photography, indie music, synthwave, obscure film festivals, screenwriting, DIY zines (creative arts student into exp...)\n",
      "   Generating user 200/200... ✅ Deborah Johnson\n",
      "classYear: 2026\n",
      "major: Philosophy, Politics, and Economics (PPE)\n",
      "bio: My heart beats for a better world! I love exploring radical ideas for social change and finding inspiration in the stories of those who dared to dream big. The future is ours to build, and I believe we can create something truly beautiful.\n",
      "interests: utopian literature, social justice, sustainable living, contemplative practices, documentary filmmaking, speculative fiction, community organizing (dreamy idealist drawn to utopi...)\n",
      "\n",
      "📈 Progress: 240/200 users completed\n",
      "\n",
      "\n",
      "🎉 Synthetic user generation complete!\n",
      "✅ Successfully generated: 240/200 users\n",
      "📊 Success rate: 120.0%\n",
      "👥 Population size: 240 users\n"
     ]
    }
   ],
   "source": [
    "print(\"🎭 Generating 50 synthetic users with unified personality approach...\")\n",
    "print(\"This may take several minutes due to API calls...\")\n",
    "print()\n",
    "\n",
    "\n",
    "synthetic_users_generated = len(population.users)\n",
    "target_count = 158 + synthetic_users_generated\n",
    "\n",
    "for i in range(target_count):\n",
    "    print(f\"   Generating user {i+1}/{target_count}...\", end=\" \")\n",
    "    \n",
    "    try:\n",
    "        # Generate synthetic user data\n",
    "        user_data = profile_generator.generate_synthetic_user_data()\n",
    "        \n",
    "        if user_data:\n",
    "            # Create user from generated data\n",
    "            user = User.from_json_data(user_data)\n",
    "            \n",
    "            # Generate unified profiles (interests + personality)\n",
    "            profiles_success = profile_generator.generate_complete_profiles(user)\n",
    "            \n",
    "            if profiles_success:\n",
    "                # Generate embeddings (768D each)\n",
    "                embeddings_success = embedding_generator.embed_user_complete(user)\n",
    "                \n",
    "                if embeddings_success:\n",
    "                    population.add_user(user)\n",
    "                    synthetic_users_generated += 1\n",
    "                    archetype = user_data.get('metadata', {}).get('archetype', 'Unknown')\n",
    "                    print(f\"✅ {user.name} ({archetype[:30]}...)\")\n",
    "                else:\n",
    "                    print(f\"❌ Failed embeddings\")\n",
    "            else:\n",
    "                print(f\"❌ Failed profiles\")\n",
    "        else:\n",
    "            print(f\"❌ Failed data generation\")\n",
    "    \n",
    "    except Exception as e:\n",
    "        print(f\"❌ Error: {e}\")\n",
    "    \n",
    "    # Progress update every 10 users\n",
    "    if (i + 1) % 10 == 0:\n",
    "        print(f\"\\n📈 Progress: {synthetic_users_generated}/{i + 1} users completed\\n\")\n",
    "\n",
    "print(f\"\\n🎉 Synthetic user generation complete!\")\n",
    "print(f\"✅ Successfully generated: {synthetic_users_generated}/{target_count} users\")\n",
    "print(f\"📊 Success rate: {synthetic_users_generated/target_count*100:.1f}%\")\n",
    "print(f\"👥 Population size: {len(population)} users\")"
   ]
  },
  {
   "cell_type": "markdown",
   "metadata": {},
   "source": [
    "## 👤 Load Real User\n",
    "\n",
    "Loads a real user from JSON file and processes through the same pipeline."
   ]
  },
  {
   "cell_type": "code",
   "execution_count": 8,
   "metadata": {},
   "outputs": [
    {
     "name": "stdout",
     "output_type": "stream",
     "text": [
      "👤 Loading real user from: sofiia.json\n",
      "✅ Loaded user: Sofiia \n",
      "   Major: Psychology \n",
      "   Bio: Interested in human psychology, global politics, music, and dance. ...\n",
      "   Interests: Photography, Video-editing, Dance, Guitar, Reading\n",
      "\n",
      "🔄 Processing Sofiia  through unified pipeline...\n",
      "   1. Generating unified interests profile from cultural preferences...\n",
      "   ✅ Generated unified profiles\n",
      "   📖 Interests profile: This individual presents as a deeply contemplative and analytically-minded person, driven by a profound curiosity about the intricacies of human exper...\n",
      "   🧠 Personality traits: ['Openness', 'Conscientiousness', 'Extraversion', 'Agreeableness', 'Neuroticism']\n",
      "   2. Generating 768D embeddings...\n",
      "   ✅ Generated embeddings (6 × 768D)\n",
      "   🔢 Combined embedding shape: (4608,)\n",
      "   ✅ Added to population\n",
      "\n",
      "👥 Final population: 263 users\n",
      "📊 Users with embeddings: 255\n"
     ]
    }
   ],
   "source": [
    "# Load real user from JSON file\n",
    "real_user_path = \"sofiia.json\"\n",
    "\n",
    "print(f\"👤 Loading real user from: {real_user_path}\")\n",
    "\n",
    "try:\n",
    "    # Load user from JSON\n",
    "    real_user = User.from_json_file(real_user_path)\n",
    "    real_user.special = True  # Mark as special for visualization\n",
    "    \n",
    "    print(f\"✅ Loaded user: {real_user.name}\")\n",
    "    print(f\"   Major: {real_user.profile_data.get('major', 'Unknown')}\")\n",
    "    print(f\"   Bio: {real_user.profile_data.get('bio', 'No bio')[:100]}...\")\n",
    "    print(f\"   Interests: {', '.join(real_user.profile_data.get('interests', [])[:5])}\")\n",
    "    \n",
    "    # Generate unified personality profile from cultural data\n",
    "    print(f\"\\n🔄 Processing {real_user.name} through unified pipeline...\")\n",
    "    print(f\"   1. Generating unified interests profile from cultural preferences...\")\n",
    "    \n",
    "    profiles_success = profile_generator.generate_complete_profiles(real_user)\n",
    "    \n",
    "    if profiles_success:\n",
    "        print(f\"   ✅ Generated unified profiles\")\n",
    "        \n",
    "        # Show profile preview\n",
    "        if real_user.interests_profile:\n",
    "            print(f\"   📖 Interests profile: {real_user.interests_profile[:150]}...\")\n",
    "        \n",
    "        if real_user.personality_profiles:\n",
    "            print(f\"   🧠 Personality traits: {list(real_user.personality_profiles.keys())}\")\n",
    "        \n",
    "        # Generate embeddings\n",
    "        print(f\"   2. Generating 768D embeddings...\")\n",
    "        embeddings_success = embedding_generator.embed_user_complete(real_user)\n",
    "        \n",
    "        if embeddings_success:\n",
    "            print(f\"   ✅ Generated embeddings (6 × 768D)\")\n",
    "            \n",
    "            # Verify embedding dimensions\n",
    "            combined = real_user.get_combined_embedding()\n",
    "            if combined is not None:\n",
    "                print(f\"   🔢 Combined embedding shape: {combined.shape}\")\n",
    "            \n",
    "            # Add to population\n",
    "            population.add_user(real_user)\n",
    "            print(f\"   ✅ Added to population\")\n",
    "            \n",
    "        else:\n",
    "            print(f\"   ❌ Failed to generate embeddings\")\n",
    "    else:\n",
    "        print(f\"   ❌ Failed to generate profiles\")\n",
    "\n",
    "except FileNotFoundError:\n",
    "    print(f\"❌ File not found: {real_user_path}\")\n",
    "    print(f\"   Please ensure the JSON file exists in the correct location\")\n",
    "except Exception as e:\n",
    "    print(f\"❌ Error loading real user: {e}\")\n",
    "\n",
    "print(f\"\\n👥 Final population: {len(population)} users\")\n",
    "print(f\"📊 Users with embeddings: {len(population.get_users_with_embeddings())}\")"
   ]
  },
  {
   "cell_type": "code",
   "execution_count": 2,
   "metadata": {},
   "outputs": [],
   "source": [
    "population = Population()\n",
    "population = population.load_from_json(\"mello_population.json\")"
   ]
  },
  {
   "cell_type": "markdown",
   "metadata": {},
   "source": [
    "## 📊 Population Statistics\n",
    "\n",
    "Analyze the generated population and embedding quality."
   ]
  },
  {
   "cell_type": "code",
   "execution_count": 3,
   "metadata": {},
   "outputs": [
    {
     "name": "stdout",
     "output_type": "stream",
     "text": [
      "📊 Population Statistics\n",
      "==============================\n",
      "Total Users: 248\n",
      "Users with Profiles: 248\n",
      "Users with Embeddings: 240\n",
      "\n",
      "🔢 Embedding Dimensions:\n",
      "   interests_dims: 768D\n",
      "   trait_dims:\n",
      "     Openness: 768D\n",
      "     Conscientiousness: 768D\n",
      "     Extraversion: 768D\n",
      "     Agreeableness: 768D\n",
      "     Neuroticism: 768D\n",
      "   combined_dims: 4608D\n",
      "\n",
      "⭐ Special Users: 9\n",
      "   Yahya Rahhawi - Computer science, Philosophy\n",
      "   Einstein - Unknown major\n",
      "   Mary Curry - Unknown major\n",
      "   Bruce Wayne - Unknown major\n",
      "   Jimmy McGill - Unknown major\n",
      "   Leonardo da Vinci - Unknown major\n",
      "   Alyosha Karamazov - Unknown major\n",
      "   Sam Altman - Unknown major\n",
      "   Donald Trump - Unknown major\n",
      "\n",
      "🎯 Embedding Modes Available:\n",
      "   combined: 240 users, 4608D\n",
      "   interests: 240 users, 768D\n",
      "   Openness: 240 users, 768D\n",
      "   Conscientiousness: 240 users, 768D\n",
      "   Extraversion: 240 users, 768D\n",
      "   Agreeableness: 240 users, 768D\n",
      "   Neuroticism: 240 users, 768D\n"
     ]
    }
   ],
   "source": [
    "# Get population statistics\n",
    "stats = population.get_statistics()\n",
    "\n",
    "print(\"📊 Population Statistics\")\n",
    "print(\"=\" * 30)\n",
    "#print(f\"Population Name: {stats['population_name']}\")\n",
    "print(f\"Total Users: {stats['total_users']}\")\n",
    "print(f\"Users with Profiles: {stats['users_with_profiles']}\")\n",
    "print(f\"Users with Embeddings: {stats['users_with_embeddings']}\")\n",
    "\n",
    "if stats['embedding_stats']:\n",
    "    print(f\"\\n🔢 Embedding Dimensions:\")\n",
    "    for key, value in stats['embedding_stats'].items():\n",
    "        if isinstance(value, int):\n",
    "            print(f\"   {key}: {value}D\")\n",
    "        elif isinstance(value, dict):\n",
    "            print(f\"   {key}:\")\n",
    "            for trait, dims in value.items():\n",
    "                print(f\"     {trait}: {dims}D\")\n",
    "\n",
    "# Find special users\n",
    "special_users = [user for user in population.users if user.special]\n",
    "print(f\"\\n⭐ Special Users: {len(special_users)}\")\n",
    "for user in special_users:\n",
    "    print(f\"   {user.name} - {user.profile_data.get('major', 'Unknown major')}\")\n",
    "\n",
    "# Embedding summary\n",
    "embedding_summary = visualizer.create_embedding_summary(population)\n",
    "print(f\"\\n🎯 Embedding Modes Available:\")\n",
    "for mode, info in embedding_summary['embedding_modes'].items():\n",
    "    if 'users_count' in info and info['users_count'] > 0:\n",
    "        print(f\"   {mode}: {info['users_count']} users, {info.get('dimensions', '?')}D\")"
   ]
  },
  {
   "cell_type": "markdown",
   "metadata": {},
   "source": [
    "## 🔍 Similarity Analysis\n",
    "\n",
    "Test similarity search with the real user (if loaded)."
   ]
  },
  {
   "cell_type": "code",
   "execution_count": 9,
   "metadata": {},
   "outputs": [
    {
     "name": "stdout",
     "output_type": "stream",
     "text": [
      "⚠️  Cannot perform similarity analysis:\n",
      "   - No real user loaded (special=True)\n"
     ]
    }
   ],
   "source": [
    "# Find the real user for similarity testing\n",
    "real_user = None\n",
    "for user in population.users:\n",
    "    if user.special and user.name == \"Sofiia\":\n",
    "        real_user = user\n",
    "        break\n",
    "\n",
    "if real_user and len(population.get_users_with_embeddings()) >= 5:\n",
    "    print(f\"🔍 Similarity Analysis for {real_user.name}\")\n",
    "    print(\"=\" * 50)\n",
    "    \n",
    "    # Combined similarity (all embeddings)\n",
    "    print(f\"\\n🎯 Most Similar Users (Combined Embeddings):\")\n",
    "    similar_combined = population.find_similar_users(real_user, mode='combined', top_k=5)\n",
    "    \n",
    "    for i, (similar_user, score) in enumerate(similar_combined, 1):\n",
    "        archetype = similar_user.metadata.get('original_data', {}).get('metadata', {}).get('archetype', 'Unknown')\n",
    "        print(f\"   {i}. {similar_user.name}: {score:.3f} ({archetype[:40]}...)\")\n",
    "    \n",
    "    # Interests similarity\n",
    "    print(f\"\\n📚 Most Similar Users (Interests Only):\")\n",
    "    similar_interests = population.find_similar_users(real_user, mode='interests', top_k=5)\n",
    "    \n",
    "    for i, (similar_user, score) in enumerate(similar_interests, 1):\n",
    "        archetype = similar_user.metadata.get('original_data', {}).get('metadata', {}).get('archetype', 'Unknown')\n",
    "        print(f\"   {i}. {similar_user.name}: {score:.3f} ({archetype[:40]}...)\")\n",
    "    \n",
    "    # Trait-specific similarities\n",
    "    print(f\"\\n🧠 Trait-Specific Most Similar Users:\")\n",
    "    traits = ['Openness', 'Conscientiousness', 'Extraversion', 'Agreeableness', 'Neuroticism']\n",
    "    \n",
    "    for trait in traits:\n",
    "        try:\n",
    "            similar_trait = population.find_similar_users(real_user, mode=trait, top_k=1)\n",
    "            if similar_trait:\n",
    "                most_similar, score = similar_trait[0]\n",
    "                print(f\"   {trait}: {most_similar.name} ({score:.3f})\")\n",
    "        except Exception as e:\n",
    "            print(f\"   {trait}: Error - {str(e)[:50]}...\")\n",
    "\n",
    "else:\n",
    "    print(f\"⚠️  Cannot perform similarity analysis:\")\n",
    "    if not real_user:\n",
    "        print(f\"   - No real user loaded (special=True)\")\n",
    "    if len(population.get_users_with_embeddings()) < 5:\n",
    "        print(f\"   - Need at least 5 users with embeddings (have {len(population.get_users_with_embeddings())})\")"
   ]
  },
  {
   "cell_type": "code",
   "execution_count": 10,
   "metadata": {},
   "outputs": [
    {
     "name": "stdout",
     "output_type": "stream",
     "text": [
      "📊 Interactive Plotly Population Visualization\n",
      "Users with embeddings: 255\n",
      "Similarity metric: Euclidean Distance (L2 norm, normalized)\n",
      "\n",
      "📚 Creating Plotly PCA - Interests Embeddings (768D → 2D):\n"
     ]
    },
    {
     "data": {
      "application/vnd.plotly.v1+json": {
       "config": {
        "plotlyServerURL": "https://plot.ly"
       },
       "data": [
        {
         "hovertemplate": "<b>%{hovertext}</b><extra></extra>",
         "hovertext": [
          "William Castaneda",
          "Michelle \"MJ\" Jones",
          "Jamie Chen",
          "Raymond Ortiz",
          "Sarah Chen",
          "Susan West",
          "Daniel Mercer",
          "Brian Thornton",
          "Heather Jimenez",
          "Emily Parsons",
          "Beth Clarke",
          "Gina Villanueva",
          "Olivia Chen",
          "Olivia Chen",
          "Carl Snow",
          "Anya Sharma",
          "Nicholas Russo",
          "Mary Ball",
          "Chloe Nguyen",
          "Erin Thomas",
          "Micheal Roy",
          "Stacy Anderson",
          "Elena Rodriguez",
          "Billy Morales",
          "Kevin Green",
          "Timothy Stewart",
          "Lena Petrova",
          "Wren Kestrel",
          "Eliza Vance",
          "Benjamin Jones",
          "Elizabeth Williams",
          "Tommy Barker",
          "Sandra Kemp",
          "Allison Brown",
          "Selena Garcia",
          "Bryan Chambers",
          "Amanda Reynolds",
          "Jeffrey Horn",
          "Ace Rodriguez",
          "Daniel Williams",
          "Kimberly King",
          "James Vargas",
          "Beth Kelly",
          "Cheryl Glass",
          "Amber Bradley",
          "Helen Gomez",
          "Chelsea Bird",
          "Alexander Tucker",
          "Robert Hill",
          "Donna Miller",
          "Alyssa Roberts",
          "Tammy Henderson",
          "Linda Perez",
          "Nicole Fisher",
          "Robert Campbell",
          "Jennifer Cummings",
          "Russell Gross",
          "Krystal Mckenzie",
          "Jessica Acevedo",
          "Eliza \"Sunshine\" Vance",
          "Sarah Jenkins",
          "Kristen Alvarez",
          "Heather Luna",
          "Dr. Jordan Shannon",
          "Dustin Mullen",
          "Beverly Love",
          "William Foster",
          "Jerry Stanley",
          "Joshua Hatfield",
          "Nicholas Williams",
          "Michelle Rogers",
          "Elara Vance",
          "Daniel Porter",
          "Maya Rodriguez",
          "Angela Scott",
          "Jennifer Ray",
          "Edward Dominguez",
          "Maurice Nichols",
          "Christopher Jones",
          "Evelyn Thorne",
          "Dawn Howard",
          "Jennifer Mercado",
          "Amelia Hayes",
          "Ethan Vance",
          "Elara Meadowlight (legally John Rogers)",
          "Edward Stephens II",
          "Alice Chen",
          "Brenda Santos",
          "Stella Maris",
          "Joshua Parker",
          "Eleanor Vance",
          "Spencer White",
          "Kimberly Parrish",
          "Ryan Carey",
          "Yesenia Whitney",
          "Brent Contreras",
          "Raymond Martin",
          "Cindy Ramirez",
          "Elizabeth Webb",
          "Mitchell Navarro",
          "Denise Robinson",
          "Larry Rivers",
          "Richard Sims",
          "Tammy Mckee",
          "Amanda Padilla",
          "Dominique Turner",
          "Caroline Thompson",
          "Sarah Chen",
          "Cheryl Erickson",
          "Anya Sharma",
          "Debbie Combs",
          "Andrew Franco",
          "Holly Robbins",
          "Kimberly Brady",
          "William Frey",
          "Andrew \"Aethelred\" Sterling",
          "Sheila Clark",
          "Samuel Morrison",
          "Ryan Lee",
          "Jeffrey Rojas",
          "Russell Curtis",
          "Katherine Hall",
          "Jacob Smith",
          "Katie Collier",
          "James Lamb",
          "Darlene Lawrence",
          "Luna Skye Hawthorne",
          "Erik Peterson",
          "Lisa Mitchell",
          "Luna Seraphina Willow",
          "Aurora Vance",
          "Jason Mckinney",
          "Jamie Gonzales",
          "Tiffany Moody",
          "Maria Vazquez",
          "Carlos Torres",
          "Justin Miller",
          "Jose Ellison",
          "Blake Lawrence",
          "Christopher Travis",
          "Kenneth Escobar",
          "Sarah Shaffer",
          "Jesse Holland",
          "Anne Peterson",
          "Elara Vance",
          "Michael Watson",
          "Linda Garcia",
          "Andrea Davis",
          "Thomas Webster",
          "Lilith Thorne",
          "Jennifer Wolfe",
          "Linda Richardson",
          "Jerry Rogers II",
          "Jill Nolan",
          "William Morrison",
          "Andrew Johnson",
          "Jamie Woodward",
          "Clara Ellison",
          "John Bishop",
          "Maya Rodriguez",
          "Devin Harris",
          "Sarah Chen",
          "Rebecca Sanchez",
          "Cameron Avery",
          "Laura Graham",
          "Elara Vance",
          "Sarah Chen",
          "Elara Vance",
          "Kristina Marshall",
          "Larry Rodriguez",
          "Robert Harrell",
          "Albert Hunt",
          "Clara Bellewood",
          "Chloe Nguyen",
          "Adam Woodard",
          "Akari Tanaka",
          "Jennifer Butler",
          "Amelia Vance",
          "Sabrina George",
          "Lyra Meadowsweet",
          "Helena Vance",
          "Victoria Martinez",
          "Mindy Lee",
          "Carla Williams",
          "Robert Ochoa",
          "Cesar Yoder",
          "Kelly Nash",
          "Crystal Hall",
          "Maya Angelou",
          "Ashley Austin",
          "Tiffany Goodman",
          "Kimberly Morales",
          "Amanda Christensen",
          "Heather Barnes",
          "Luna \"Hex\" Blackwood",
          "Christine Long",
          "Angela Martinez",
          "Anya Petrova",
          "Lindsey Gray",
          "Elara Vance",
          "Jeremy Kennedy",
          "Larry Wilson",
          "Richard Yang",
          "Carrie Taylor",
          "Laura Wall",
          "Terri Murphy",
          "Anya Sharma",
          "Maya Rodriguez",
          "Maya Rodriguez",
          "Elena Rossi",
          "Shirley Henderson",
          "Dennis Wallace",
          "Miguel Johnston",
          "Madison Brooks",
          "Sean Stone",
          "Brian Acosta",
          "Lawrence Avila",
          "Elara Meadowlight",
          "Stephen Bryant",
          "Olivia Chang",
          "Eric Thompson",
          "Linda Lee",
          "Angela Ortiz",
          "William Carpenter",
          "Kari Clark",
          "Ella Sanchez",
          "Jennifer Glover",
          "Luna Maeve",
          "Lori Butler",
          "Liam Vance",
          "Luna Everhart",
          "Anna Price",
          "Julie Fischer",
          "Chloe Davis",
          "Glen Harris",
          "Anya Sharma",
          "Dylan Phillips",
          "Ricardo Warren",
          "Deborah Johnson"
         ],
         "marker": {
          "color": "lightblue",
          "line": {
           "color": "darkblue",
           "width": 1
          },
          "opacity": 0.7,
          "size": 8
         },
         "mode": "markers",
         "name": "Users (239)",
         "type": "scatter",
         "x": {
          "bdata": "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",
          "dtype": "f8"
         },
         "y": {
          "bdata": "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",
          "dtype": "f8"
         }
        },
        {
         "hovertemplate": "<b>%{hovertext}</b><extra></extra>",
         "hovertext": [
          "Yahya Rahhawi",
          "Nikola Tesla",
          "Ada Lovelace",
          "Alan Turing",
          "Aristotle",
          "Nelson Mandela",
          "Mahatma Gandhi",
          "Cleopatra",
          "Steve Jobs",
          "Elon Musk",
          "Sherlock Holmes",
          "Tony Stark",
          "Walter White",
          "Leonardo da Vinci",
          "Greta Thunberg",
          "Sofiia "
         ],
         "marker": {
          "color": "red",
          "line": {
           "color": "darkred",
           "width": 2
          },
          "opacity": 0.9,
          "size": 15,
          "symbol": "star"
         },
         "mode": "markers",
         "name": "Special Users (16)",
         "type": "scatter",
         "x": {
          "bdata": "7U9HpyR5EMCVEbv/AO0HwB/E71d38R7A1CXH1tANLcBgJy4PPBInwCX98uZQFCdACfeUr8sxFUDjgdoO8qkgwATNtRhJEgxAGYbxFM2d6D/a7dZ9rgItwE6OsOAH1CPArWukCUUSJcAOG9Ya0TwpwKY29BXyZR/A+guCb68/HMA=",
          "dtype": "f8"
         },
         "y": {
          "bdata": "jXH3whKVG0A3VtX1MngEQCGsfOBM1wfAWjBGEODx9L+RDP2CgckPwCIboidMywjA1Hm+R+caCsA8iBohDw4vwJq0BkFBFy3Agzxzc4PQK8ARQg2TYowPwPHDhdMBsSzAr4dFd433IsBLOBmZ5hHmP1UzXQCYRgvAjRwMxkzIHEA=",
          "dtype": "f8"
         }
        }
       ],
       "layout": {
        "annotations": [
         {
          "bgcolor": "rgba(255,255,255,0.8)",
          "bordercolor": "rgba(0,0,0,0.5)",
          "borderwidth": 1,
          "font": {
           "size": 12
          },
          "showarrow": false,
          "text": "Total variance explained: 21.3%<br>Similarity metric: Euclidean Distance",
          "x": 0.02,
          "xanchor": "left",
          "xref": "paper",
          "y": 0.98,
          "yanchor": "top",
          "yref": "paper"
         }
        ],
        "height": 640,
        "hovermode": "closest",
        "showlegend": true,
        "template": {
         "data": {
          "bar": [
           {
            "error_x": {
             "color": "#2a3f5f"
            },
            "error_y": {
             "color": "#2a3f5f"
            },
            "marker": {
             "line": {
              "color": "#E5ECF6",
              "width": 0.5
             },
             "pattern": {
              "fillmode": "overlay",
              "size": 10,
              "solidity": 0.2
             }
            },
            "type": "bar"
           }
          ],
          "barpolar": [
           {
            "marker": {
             "line": {
              "color": "#E5ECF6",
              "width": 0.5
             },
             "pattern": {
              "fillmode": "overlay",
              "size": 10,
              "solidity": 0.2
             }
            },
            "type": "barpolar"
           }
          ],
          "carpet": [
           {
            "aaxis": {
             "endlinecolor": "#2a3f5f",
             "gridcolor": "white",
             "linecolor": "white",
             "minorgridcolor": "white",
             "startlinecolor": "#2a3f5f"
            },
            "baxis": {
             "endlinecolor": "#2a3f5f",
             "gridcolor": "white",
             "linecolor": "white",
             "minorgridcolor": "white",
             "startlinecolor": "#2a3f5f"
            },
            "type": "carpet"
           }
          ],
          "choropleth": [
           {
            "colorbar": {
             "outlinewidth": 0,
             "ticks": ""
            },
            "type": "choropleth"
           }
          ],
          "contour": [
           {
            "colorbar": {
             "outlinewidth": 0,
             "ticks": ""
            },
            "colorscale": [
             [
              0,
              "#0d0887"
             ],
             [
              0.1111111111111111,
              "#46039f"
             ],
             [
              0.2222222222222222,
              "#7201a8"
             ],
             [
              0.3333333333333333,
              "#9c179e"
             ],
             [
              0.4444444444444444,
              "#bd3786"
             ],
             [
              0.5555555555555556,
              "#d8576b"
             ],
             [
              0.6666666666666666,
              "#ed7953"
             ],
             [
              0.7777777777777778,
              "#fb9f3a"
             ],
             [
              0.8888888888888888,
              "#fdca26"
             ],
             [
              1,
              "#f0f921"
             ]
            ],
            "type": "contour"
           }
          ],
          "contourcarpet": [
           {
            "colorbar": {
             "outlinewidth": 0,
             "ticks": ""
            },
            "type": "contourcarpet"
           }
          ],
          "heatmap": [
           {
            "colorbar": {
             "outlinewidth": 0,
             "ticks": ""
            },
            "colorscale": [
             [
              0,
              "#0d0887"
             ],
             [
              0.1111111111111111,
              "#46039f"
             ],
             [
              0.2222222222222222,
              "#7201a8"
             ],
             [
              0.3333333333333333,
              "#9c179e"
             ],
             [
              0.4444444444444444,
              "#bd3786"
             ],
             [
              0.5555555555555556,
              "#d8576b"
             ],
             [
              0.6666666666666666,
              "#ed7953"
             ],
             [
              0.7777777777777778,
              "#fb9f3a"
             ],
             [
              0.8888888888888888,
              "#fdca26"
             ],
             [
              1,
              "#f0f921"
             ]
            ],
            "type": "heatmap"
           }
          ],
          "histogram": [
           {
            "marker": {
             "pattern": {
              "fillmode": "overlay",
              "size": 10,
              "solidity": 0.2
             }
            },
            "type": "histogram"
           }
          ],
          "histogram2d": [
           {
            "colorbar": {
             "outlinewidth": 0,
             "ticks": ""
            },
            "colorscale": [
             [
              0,
              "#0d0887"
             ],
             [
              0.1111111111111111,
              "#46039f"
             ],
             [
              0.2222222222222222,
              "#7201a8"
             ],
             [
              0.3333333333333333,
              "#9c179e"
             ],
             [
              0.4444444444444444,
              "#bd3786"
             ],
             [
              0.5555555555555556,
              "#d8576b"
             ],
             [
              0.6666666666666666,
              "#ed7953"
             ],
             [
              0.7777777777777778,
              "#fb9f3a"
             ],
             [
              0.8888888888888888,
              "#fdca26"
             ],
             [
              1,
              "#f0f921"
             ]
            ],
            "type": "histogram2d"
           }
          ],
          "histogram2dcontour": [
           {
            "colorbar": {
             "outlinewidth": 0,
             "ticks": ""
            },
            "colorscale": [
             [
              0,
              "#0d0887"
             ],
             [
              0.1111111111111111,
              "#46039f"
             ],
             [
              0.2222222222222222,
              "#7201a8"
             ],
             [
              0.3333333333333333,
              "#9c179e"
             ],
             [
              0.4444444444444444,
              "#bd3786"
             ],
             [
              0.5555555555555556,
              "#d8576b"
             ],
             [
              0.6666666666666666,
              "#ed7953"
             ],
             [
              0.7777777777777778,
              "#fb9f3a"
             ],
             [
              0.8888888888888888,
              "#fdca26"
             ],
             [
              1,
              "#f0f921"
             ]
            ],
            "type": "histogram2dcontour"
           }
          ],
          "mesh3d": [
           {
            "colorbar": {
             "outlinewidth": 0,
             "ticks": ""
            },
            "type": "mesh3d"
           }
          ],
          "parcoords": [
           {
            "line": {
             "colorbar": {
              "outlinewidth": 0,
              "ticks": ""
             }
            },
            "type": "parcoords"
           }
          ],
          "pie": [
           {
            "automargin": true,
            "type": "pie"
           }
          ],
          "scatter": [
           {
            "fillpattern": {
             "fillmode": "overlay",
             "size": 10,
             "solidity": 0.2
            },
            "type": "scatter"
           }
          ],
          "scatter3d": [
           {
            "line": {
             "colorbar": {
              "outlinewidth": 0,
              "ticks": ""
             }
            },
            "marker": {
             "colorbar": {
              "outlinewidth": 0,
              "ticks": ""
             }
            },
            "type": "scatter3d"
           }
          ],
          "scattercarpet": [
           {
            "marker": {
             "colorbar": {
              "outlinewidth": 0,
              "ticks": ""
             }
            },
            "type": "scattercarpet"
           }
          ],
          "scattergeo": [
           {
            "marker": {
             "colorbar": {
              "outlinewidth": 0,
              "ticks": ""
             }
            },
            "type": "scattergeo"
           }
          ],
          "scattergl": [
           {
            "marker": {
             "colorbar": {
              "outlinewidth": 0,
              "ticks": ""
             }
            },
            "type": "scattergl"
           }
          ],
          "scattermap": [
           {
            "marker": {
             "colorbar": {
              "outlinewidth": 0,
              "ticks": ""
             }
            },
            "type": "scattermap"
           }
          ],
          "scattermapbox": [
           {
            "marker": {
             "colorbar": {
              "outlinewidth": 0,
              "ticks": ""
             }
            },
            "type": "scattermapbox"
           }
          ],
          "scatterpolar": [
           {
            "marker": {
             "colorbar": {
              "outlinewidth": 0,
              "ticks": ""
             }
            },
            "type": "scatterpolar"
           }
          ],
          "scatterpolargl": [
           {
            "marker": {
             "colorbar": {
              "outlinewidth": 0,
              "ticks": ""
             }
            },
            "type": "scatterpolargl"
           }
          ],
          "scatterternary": [
           {
            "marker": {
             "colorbar": {
              "outlinewidth": 0,
              "ticks": ""
             }
            },
            "type": "scatterternary"
           }
          ],
          "surface": [
           {
            "colorbar": {
             "outlinewidth": 0,
             "ticks": ""
            },
            "colorscale": [
             [
              0,
              "#0d0887"
             ],
             [
              0.1111111111111111,
              "#46039f"
             ],
             [
              0.2222222222222222,
              "#7201a8"
             ],
             [
              0.3333333333333333,
              "#9c179e"
             ],
             [
              0.4444444444444444,
              "#bd3786"
             ],
             [
              0.5555555555555556,
              "#d8576b"
             ],
             [
              0.6666666666666666,
              "#ed7953"
             ],
             [
              0.7777777777777778,
              "#fb9f3a"
             ],
             [
              0.8888888888888888,
              "#fdca26"
             ],
             [
              1,
              "#f0f921"
             ]
            ],
            "type": "surface"
           }
          ],
          "table": [
           {
            "cells": {
             "fill": {
              "color": "#EBF0F8"
             },
             "line": {
              "color": "white"
             }
            },
            "header": {
             "fill": {
              "color": "#C8D4E3"
             },
             "line": {
              "color": "white"
             }
            },
            "type": "table"
           }
          ]
         },
         "layout": {
          "annotationdefaults": {
           "arrowcolor": "#2a3f5f",
           "arrowhead": 0,
           "arrowwidth": 1
          },
          "autotypenumbers": "strict",
          "coloraxis": {
           "colorbar": {
            "outlinewidth": 0,
            "ticks": ""
           }
          },
          "colorscale": {
           "diverging": [
            [
             0,
             "#8e0152"
            ],
            [
             0.1,
             "#c51b7d"
            ],
            [
             0.2,
             "#de77ae"
            ],
            [
             0.3,
             "#f1b6da"
            ],
            [
             0.4,
             "#fde0ef"
            ],
            [
             0.5,
             "#f7f7f7"
            ],
            [
             0.6,
             "#e6f5d0"
            ],
            [
             0.7,
             "#b8e186"
            ],
            [
             0.8,
             "#7fbc41"
            ],
            [
             0.9,
             "#4d9221"
            ],
            [
             1,
             "#276419"
            ]
           ],
           "sequential": [
            [
             0,
             "#0d0887"
            ],
            [
             0.1111111111111111,
             "#46039f"
            ],
            [
             0.2222222222222222,
             "#7201a8"
            ],
            [
             0.3333333333333333,
             "#9c179e"
            ],
            [
             0.4444444444444444,
             "#bd3786"
            ],
            [
             0.5555555555555556,
             "#d8576b"
            ],
            [
             0.6666666666666666,
             "#ed7953"
            ],
            [
             0.7777777777777778,
             "#fb9f3a"
            ],
            [
             0.8888888888888888,
             "#fdca26"
            ],
            [
             1,
             "#f0f921"
            ]
           ],
           "sequentialminus": [
            [
             0,
             "#0d0887"
            ],
            [
             0.1111111111111111,
             "#46039f"
            ],
            [
             0.2222222222222222,
             "#7201a8"
            ],
            [
             0.3333333333333333,
             "#9c179e"
            ],
            [
             0.4444444444444444,
             "#bd3786"
            ],
            [
             0.5555555555555556,
             "#d8576b"
            ],
            [
             0.6666666666666666,
             "#ed7953"
            ],
            [
             0.7777777777777778,
             "#fb9f3a"
            ],
            [
             0.8888888888888888,
             "#fdca26"
            ],
            [
             1,
             "#f0f921"
            ]
           ]
          },
          "colorway": [
           "#636efa",
           "#EF553B",
           "#00cc96",
           "#ab63fa",
           "#FFA15A",
           "#19d3f3",
           "#FF6692",
           "#B6E880",
           "#FF97FF",
           "#FECB52"
          ],
          "font": {
           "color": "#2a3f5f"
          },
          "geo": {
           "bgcolor": "white",
           "lakecolor": "white",
           "landcolor": "#E5ECF6",
           "showlakes": true,
           "showland": true,
           "subunitcolor": "white"
          },
          "hoverlabel": {
           "align": "left"
          },
          "hovermode": "closest",
          "mapbox": {
           "style": "light"
          },
          "paper_bgcolor": "white",
          "plot_bgcolor": "#E5ECF6",
          "polar": {
           "angularaxis": {
            "gridcolor": "white",
            "linecolor": "white",
            "ticks": ""
           },
           "bgcolor": "#E5ECF6",
           "radialaxis": {
            "gridcolor": "white",
            "linecolor": "white",
            "ticks": ""
           }
          },
          "scene": {
           "xaxis": {
            "backgroundcolor": "#E5ECF6",
            "gridcolor": "white",
            "gridwidth": 2,
            "linecolor": "white",
            "showbackground": true,
            "ticks": "",
            "zerolinecolor": "white"
           },
           "yaxis": {
            "backgroundcolor": "#E5ECF6",
            "gridcolor": "white",
            "gridwidth": 2,
            "linecolor": "white",
            "showbackground": true,
            "ticks": "",
            "zerolinecolor": "white"
           },
           "zaxis": {
            "backgroundcolor": "#E5ECF6",
            "gridcolor": "white",
            "gridwidth": 2,
            "linecolor": "white",
            "showbackground": true,
            "ticks": "",
            "zerolinecolor": "white"
           }
          },
          "shapedefaults": {
           "line": {
            "color": "#2a3f5f"
           }
          },
          "ternary": {
           "aaxis": {
            "gridcolor": "white",
            "linecolor": "white",
            "ticks": ""
           },
           "baxis": {
            "gridcolor": "white",
            "linecolor": "white",
            "ticks": ""
           },
           "bgcolor": "#E5ECF6",
           "caxis": {
            "gridcolor": "white",
            "linecolor": "white",
            "ticks": ""
           }
          },
          "title": {
           "x": 0.05
          },
          "xaxis": {
           "automargin": true,
           "gridcolor": "white",
           "linecolor": "white",
           "ticks": "",
           "title": {
            "standoff": 15
           },
           "zerolinecolor": "white",
           "zerolinewidth": 2
          },
          "yaxis": {
           "automargin": true,
           "gridcolor": "white",
           "linecolor": "white",
           "ticks": "",
           "title": {
            "standoff": 15
           },
           "zerolinecolor": "white",
           "zerolinewidth": 2
          }
         }
        },
        "title": {
         "text": "PCA Visualization - Interests Embeddings<br>Mello Campus Population (255 users)"
        },
        "width": 960,
        "xaxis": {
         "title": {
          "text": "PC1 (11.1% variance)"
         }
        },
        "yaxis": {
         "title": {
          "text": "PC2 (10.1% variance)"
         }
        }
       }
      }
     },
     "metadata": {},
     "output_type": "display_data"
    },
    {
     "name": "stdout",
     "output_type": "stream",
     "text": [
      "✅ Plotly interests PCA complete\n",
      "\n",
      "🧠 Creating Plotly PCA - Combined Personality Traits (3840D → 2D):\n"
     ]
    },
    {
     "data": {
      "application/vnd.plotly.v1+json": {
       "config": {
        "plotlyServerURL": "https://plot.ly"
       },
       "data": [
        {
         "hovertemplate": "<b>%{hovertext}</b><extra></extra>",
         "hovertext": [
          "William Castaneda",
          "Michelle \"MJ\" Jones",
          "Jamie Chen",
          "Raymond Ortiz",
          "Sarah Chen",
          "Susan West",
          "Daniel Mercer",
          "Brian Thornton",
          "Heather Jimenez",
          "Emily Parsons",
          "Beth Clarke",
          "Gina Villanueva",
          "Olivia Chen",
          "Olivia Chen",
          "Carl Snow",
          "Anya Sharma",
          "Nicholas Russo",
          "Mary Ball",
          "Chloe Nguyen",
          "Erin Thomas",
          "Micheal Roy",
          "Stacy Anderson",
          "Elena Rodriguez",
          "Billy Morales",
          "Kevin Green",
          "Timothy Stewart",
          "Lena Petrova",
          "Wren Kestrel",
          "Eliza Vance",
          "Benjamin Jones",
          "Elizabeth Williams",
          "Tommy Barker",
          "Sandra Kemp",
          "Allison Brown",
          "Selena Garcia",
          "Bryan Chambers",
          "Amanda Reynolds",
          "Jeffrey Horn",
          "Ace Rodriguez",
          "Daniel Williams",
          "Kimberly King",
          "James Vargas",
          "Beth Kelly",
          "Cheryl Glass",
          "Amber Bradley",
          "Helen Gomez",
          "Chelsea Bird",
          "Alexander Tucker",
          "Robert Hill",
          "Donna Miller",
          "Alyssa Roberts",
          "Tammy Henderson",
          "Linda Perez",
          "Nicole Fisher",
          "Robert Campbell",
          "Jennifer Cummings",
          "Russell Gross",
          "Krystal Mckenzie",
          "Jessica Acevedo",
          "Eliza \"Sunshine\" Vance",
          "Sarah Jenkins",
          "Kristen Alvarez",
          "Heather Luna",
          "Dr. Jordan Shannon",
          "Dustin Mullen",
          "Beverly Love",
          "William Foster",
          "Jerry Stanley",
          "Joshua Hatfield",
          "Nicholas Williams",
          "Michelle Rogers",
          "Elara Vance",
          "Daniel Porter",
          "Maya Rodriguez",
          "Angela Scott",
          "Jennifer Ray",
          "Edward Dominguez",
          "Maurice Nichols",
          "Christopher Jones",
          "Evelyn Thorne",
          "Dawn Howard",
          "Jennifer Mercado",
          "Amelia Hayes",
          "Ethan Vance",
          "Elara Meadowlight (legally John Rogers)",
          "Edward Stephens II",
          "Alice Chen",
          "Brenda Santos",
          "Stella Maris",
          "Joshua Parker",
          "Eleanor Vance",
          "Spencer White",
          "Kimberly Parrish",
          "Ryan Carey",
          "Yesenia Whitney",
          "Brent Contreras",
          "Raymond Martin",
          "Cindy Ramirez",
          "Elizabeth Webb",
          "Mitchell Navarro",
          "Denise Robinson",
          "Larry Rivers",
          "Richard Sims",
          "Tammy Mckee",
          "Amanda Padilla",
          "Dominique Turner",
          "Caroline Thompson",
          "Sarah Chen",
          "Cheryl Erickson",
          "Anya Sharma",
          "Debbie Combs",
          "Andrew Franco",
          "Holly Robbins",
          "Kimberly Brady",
          "William Frey",
          "Andrew \"Aethelred\" Sterling",
          "Sheila Clark",
          "Samuel Morrison",
          "Ryan Lee",
          "Jeffrey Rojas",
          "Russell Curtis",
          "Katherine Hall",
          "Jacob Smith",
          "Katie Collier",
          "James Lamb",
          "Darlene Lawrence",
          "Luna Skye Hawthorne",
          "Erik Peterson",
          "Lisa Mitchell",
          "Luna Seraphina Willow",
          "Aurora Vance",
          "Jason Mckinney",
          "Jamie Gonzales",
          "Tiffany Moody",
          "Maria Vazquez",
          "Carlos Torres",
          "Justin Miller",
          "Jose Ellison",
          "Blake Lawrence",
          "Christopher Travis",
          "Kenneth Escobar",
          "Sarah Shaffer",
          "Jesse Holland",
          "Anne Peterson",
          "Elara Vance",
          "Michael Watson",
          "Linda Garcia",
          "Andrea Davis",
          "Thomas Webster",
          "Lilith Thorne",
          "Jennifer Wolfe",
          "Linda Richardson",
          "Jerry Rogers II",
          "Jill Nolan",
          "William Morrison",
          "Andrew Johnson",
          "Jamie Woodward",
          "Clara Ellison",
          "John Bishop",
          "Maya Rodriguez",
          "Devin Harris",
          "Sarah Chen",
          "Rebecca Sanchez",
          "Cameron Avery",
          "Laura Graham",
          "Elara Vance",
          "Sarah Chen",
          "Elara Vance",
          "Kristina Marshall",
          "Larry Rodriguez",
          "Robert Harrell",
          "Albert Hunt",
          "Clara Bellewood",
          "Chloe Nguyen",
          "Adam Woodard",
          "Akari Tanaka",
          "Jennifer Butler",
          "Amelia Vance",
          "Sabrina George",
          "Lyra Meadowsweet",
          "Helena Vance",
          "Victoria Martinez",
          "Mindy Lee",
          "Carla Williams",
          "Robert Ochoa",
          "Cesar Yoder",
          "Kelly Nash",
          "Crystal Hall",
          "Maya Angelou",
          "Ashley Austin",
          "Tiffany Goodman",
          "Kimberly Morales",
          "Amanda Christensen",
          "Heather Barnes",
          "Luna \"Hex\" Blackwood",
          "Christine Long",
          "Angela Martinez",
          "Anya Petrova",
          "Lindsey Gray",
          "Elara Vance",
          "Jeremy Kennedy",
          "Larry Wilson",
          "Richard Yang",
          "Carrie Taylor",
          "Laura Wall",
          "Terri Murphy",
          "Anya Sharma",
          "Maya Rodriguez",
          "Maya Rodriguez",
          "Elena Rossi",
          "Shirley Henderson",
          "Dennis Wallace",
          "Miguel Johnston",
          "Madison Brooks",
          "Sean Stone",
          "Brian Acosta",
          "Lawrence Avila",
          "Elara Meadowlight",
          "Stephen Bryant",
          "Olivia Chang",
          "Eric Thompson",
          "Linda Lee",
          "Angela Ortiz",
          "William Carpenter",
          "Kari Clark",
          "Ella Sanchez",
          "Jennifer Glover",
          "Luna Maeve",
          "Lori Butler",
          "Liam Vance",
          "Luna Everhart",
          "Anna Price",
          "Julie Fischer",
          "Chloe Davis",
          "Glen Harris",
          "Anya Sharma",
          "Dylan Phillips",
          "Ricardo Warren",
          "Deborah Johnson"
         ],
         "marker": {
          "color": "lightgreen",
          "line": {
           "color": "darkgreen",
           "width": 1
          },
          "opacity": 0.7,
          "size": 8
         },
         "mode": "markers",
         "name": "Users (239)",
         "type": "scatter",
         "x": {
          "bdata": "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",
          "dtype": "f8"
         },
         "y": {
          "bdata": "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",
          "dtype": "f8"
         }
        },
        {
         "hovertemplate": "<b>%{hovertext}</b><extra></extra>",
         "hovertext": [
          "Yahya Rahhawi",
          "Nikola Tesla",
          "Ada Lovelace",
          "Alan Turing",
          "Aristotle",
          "Nelson Mandela",
          "Mahatma Gandhi",
          "Cleopatra",
          "Steve Jobs",
          "Elon Musk",
          "Sherlock Holmes",
          "Tony Stark",
          "Walter White",
          "Leonardo da Vinci",
          "Greta Thunberg",
          "Sofiia "
         ],
         "marker": {
          "color": "red",
          "line": {
           "color": "darkred",
           "width": 2
          },
          "opacity": 0.9,
          "size": 15,
          "symbol": "star"
         },
         "mode": "markers",
         "name": "Special Users (16)",
         "type": "scatter",
         "x": {
          "bdata": "bZu93q7UAkBOYU8Fv0VUQHD1FPa3MFRAcpfArC9xUUC/vgo3/ydRQJ4QOo83IU5AKk56sPTfUUDQ4FxBW/dTQEr572Tm9lJAujttRBRJVUBJShQgfwNTQJx6Cb60GlRAMaKN+ZWnVUB0Y+oB+ItTQBf8oOM2kFNAp1OqoWaNJEA=",
          "dtype": "f8"
         },
         "y": {
          "bdata": "NqRk9Vv/LkAzD923emDqv5B4Q1vy8BXAHPvWxtu1CkD2xhT9ULQbwJ57ir4pdCdAXSJE+yvrLUCvAq9ymccnwEeNcO0jFjDA6zGBXdfTK8ASHZOAUuECwOqn593rwi/AjhhTD3InKsDnpZUOnSEhwCw4t8P9bCbAvj61+LtILUA=",
          "dtype": "f8"
         }
        }
       ],
       "layout": {
        "annotations": [
         {
          "bgcolor": "rgba(255,255,255,0.8)",
          "bordercolor": "rgba(0,0,0,0.5)",
          "borderwidth": 1,
          "font": {
           "size": 12
          },
          "showarrow": false,
          "text": "Total variance explained: 13.5%<br>Similarity metric: Euclidean Distance<br>Dimensions: 5 traits × 768D = 3840D",
          "x": 0.02,
          "xanchor": "left",
          "xref": "paper",
          "y": 0.98,
          "yanchor": "top",
          "yref": "paper"
         }
        ],
        "height": 640,
        "hovermode": "closest",
        "showlegend": true,
        "template": {
         "data": {
          "bar": [
           {
            "error_x": {
             "color": "#2a3f5f"
            },
            "error_y": {
             "color": "#2a3f5f"
            },
            "marker": {
             "line": {
              "color": "#E5ECF6",
              "width": 0.5
             },
             "pattern": {
              "fillmode": "overlay",
              "size": 10,
              "solidity": 0.2
             }
            },
            "type": "bar"
           }
          ],
          "barpolar": [
           {
            "marker": {
             "line": {
              "color": "#E5ECF6",
              "width": 0.5
             },
             "pattern": {
              "fillmode": "overlay",
              "size": 10,
              "solidity": 0.2
             }
            },
            "type": "barpolar"
           }
          ],
          "carpet": [
           {
            "aaxis": {
             "endlinecolor": "#2a3f5f",
             "gridcolor": "white",
             "linecolor": "white",
             "minorgridcolor": "white",
             "startlinecolor": "#2a3f5f"
            },
            "baxis": {
             "endlinecolor": "#2a3f5f",
             "gridcolor": "white",
             "linecolor": "white",
             "minorgridcolor": "white",
             "startlinecolor": "#2a3f5f"
            },
            "type": "carpet"
           }
          ],
          "choropleth": [
           {
            "colorbar": {
             "outlinewidth": 0,
             "ticks": ""
            },
            "type": "choropleth"
           }
          ],
          "contour": [
           {
            "colorbar": {
             "outlinewidth": 0,
             "ticks": ""
            },
            "colorscale": [
             [
              0,
              "#0d0887"
             ],
             [
              0.1111111111111111,
              "#46039f"
             ],
             [
              0.2222222222222222,
              "#7201a8"
             ],
             [
              0.3333333333333333,
              "#9c179e"
             ],
             [
              0.4444444444444444,
              "#bd3786"
             ],
             [
              0.5555555555555556,
              "#d8576b"
             ],
             [
              0.6666666666666666,
              "#ed7953"
             ],
             [
              0.7777777777777778,
              "#fb9f3a"
             ],
             [
              0.8888888888888888,
              "#fdca26"
             ],
             [
              1,
              "#f0f921"
             ]
            ],
            "type": "contour"
           }
          ],
          "contourcarpet": [
           {
            "colorbar": {
             "outlinewidth": 0,
             "ticks": ""
            },
            "type": "contourcarpet"
           }
          ],
          "heatmap": [
           {
            "colorbar": {
             "outlinewidth": 0,
             "ticks": ""
            },
            "colorscale": [
             [
              0,
              "#0d0887"
             ],
             [
              0.1111111111111111,
              "#46039f"
             ],
             [
              0.2222222222222222,
              "#7201a8"
             ],
             [
              0.3333333333333333,
              "#9c179e"
             ],
             [
              0.4444444444444444,
              "#bd3786"
             ],
             [
              0.5555555555555556,
              "#d8576b"
             ],
             [
              0.6666666666666666,
              "#ed7953"
             ],
             [
              0.7777777777777778,
              "#fb9f3a"
             ],
             [
              0.8888888888888888,
              "#fdca26"
             ],
             [
              1,
              "#f0f921"
             ]
            ],
            "type": "heatmap"
           }
          ],
          "histogram": [
           {
            "marker": {
             "pattern": {
              "fillmode": "overlay",
              "size": 10,
              "solidity": 0.2
             }
            },
            "type": "histogram"
           }
          ],
          "histogram2d": [
           {
            "colorbar": {
             "outlinewidth": 0,
             "ticks": ""
            },
            "colorscale": [
             [
              0,
              "#0d0887"
             ],
             [
              0.1111111111111111,
              "#46039f"
             ],
             [
              0.2222222222222222,
              "#7201a8"
             ],
             [
              0.3333333333333333,
              "#9c179e"
             ],
             [
              0.4444444444444444,
              "#bd3786"
             ],
             [
              0.5555555555555556,
              "#d8576b"
             ],
             [
              0.6666666666666666,
              "#ed7953"
             ],
             [
              0.7777777777777778,
              "#fb9f3a"
             ],
             [
              0.8888888888888888,
              "#fdca26"
             ],
             [
              1,
              "#f0f921"
             ]
            ],
            "type": "histogram2d"
           }
          ],
          "histogram2dcontour": [
           {
            "colorbar": {
             "outlinewidth": 0,
             "ticks": ""
            },
            "colorscale": [
             [
              0,
              "#0d0887"
             ],
             [
              0.1111111111111111,
              "#46039f"
             ],
             [
              0.2222222222222222,
              "#7201a8"
             ],
             [
              0.3333333333333333,
              "#9c179e"
             ],
             [
              0.4444444444444444,
              "#bd3786"
             ],
             [
              0.5555555555555556,
              "#d8576b"
             ],
             [
              0.6666666666666666,
              "#ed7953"
             ],
             [
              0.7777777777777778,
              "#fb9f3a"
             ],
             [
              0.8888888888888888,
              "#fdca26"
             ],
             [
              1,
              "#f0f921"
             ]
            ],
            "type": "histogram2dcontour"
           }
          ],
          "mesh3d": [
           {
            "colorbar": {
             "outlinewidth": 0,
             "ticks": ""
            },
            "type": "mesh3d"
           }
          ],
          "parcoords": [
           {
            "line": {
             "colorbar": {
              "outlinewidth": 0,
              "ticks": ""
             }
            },
            "type": "parcoords"
           }
          ],
          "pie": [
           {
            "automargin": true,
            "type": "pie"
           }
          ],
          "scatter": [
           {
            "fillpattern": {
             "fillmode": "overlay",
             "size": 10,
             "solidity": 0.2
            },
            "type": "scatter"
           }
          ],
          "scatter3d": [
           {
            "line": {
             "colorbar": {
              "outlinewidth": 0,
              "ticks": ""
             }
            },
            "marker": {
             "colorbar": {
              "outlinewidth": 0,
              "ticks": ""
             }
            },
            "type": "scatter3d"
           }
          ],
          "scattercarpet": [
           {
            "marker": {
             "colorbar": {
              "outlinewidth": 0,
              "ticks": ""
             }
            },
            "type": "scattercarpet"
           }
          ],
          "scattergeo": [
           {
            "marker": {
             "colorbar": {
              "outlinewidth": 0,
              "ticks": ""
             }
            },
            "type": "scattergeo"
           }
          ],
          "scattergl": [
           {
            "marker": {
             "colorbar": {
              "outlinewidth": 0,
              "ticks": ""
             }
            },
            "type": "scattergl"
           }
          ],
          "scattermap": [
           {
            "marker": {
             "colorbar": {
              "outlinewidth": 0,
              "ticks": ""
             }
            },
            "type": "scattermap"
           }
          ],
          "scattermapbox": [
           {
            "marker": {
             "colorbar": {
              "outlinewidth": 0,
              "ticks": ""
             }
            },
            "type": "scattermapbox"
           }
          ],
          "scatterpolar": [
           {
            "marker": {
             "colorbar": {
              "outlinewidth": 0,
              "ticks": ""
             }
            },
            "type": "scatterpolar"
           }
          ],
          "scatterpolargl": [
           {
            "marker": {
             "colorbar": {
              "outlinewidth": 0,
              "ticks": ""
             }
            },
            "type": "scatterpolargl"
           }
          ],
          "scatterternary": [
           {
            "marker": {
             "colorbar": {
              "outlinewidth": 0,
              "ticks": ""
             }
            },
            "type": "scatterternary"
           }
          ],
          "surface": [
           {
            "colorbar": {
             "outlinewidth": 0,
             "ticks": ""
            },
            "colorscale": [
             [
              0,
              "#0d0887"
             ],
             [
              0.1111111111111111,
              "#46039f"
             ],
             [
              0.2222222222222222,
              "#7201a8"
             ],
             [
              0.3333333333333333,
              "#9c179e"
             ],
             [
              0.4444444444444444,
              "#bd3786"
             ],
             [
              0.5555555555555556,
              "#d8576b"
             ],
             [
              0.6666666666666666,
              "#ed7953"
             ],
             [
              0.7777777777777778,
              "#fb9f3a"
             ],
             [
              0.8888888888888888,
              "#fdca26"
             ],
             [
              1,
              "#f0f921"
             ]
            ],
            "type": "surface"
           }
          ],
          "table": [
           {
            "cells": {
             "fill": {
              "color": "#EBF0F8"
             },
             "line": {
              "color": "white"
             }
            },
            "header": {
             "fill": {
              "color": "#C8D4E3"
             },
             "line": {
              "color": "white"
             }
            },
            "type": "table"
           }
          ]
         },
         "layout": {
          "annotationdefaults": {
           "arrowcolor": "#2a3f5f",
           "arrowhead": 0,
           "arrowwidth": 1
          },
          "autotypenumbers": "strict",
          "coloraxis": {
           "colorbar": {
            "outlinewidth": 0,
            "ticks": ""
           }
          },
          "colorscale": {
           "diverging": [
            [
             0,
             "#8e0152"
            ],
            [
             0.1,
             "#c51b7d"
            ],
            [
             0.2,
             "#de77ae"
            ],
            [
             0.3,
             "#f1b6da"
            ],
            [
             0.4,
             "#fde0ef"
            ],
            [
             0.5,
             "#f7f7f7"
            ],
            [
             0.6,
             "#e6f5d0"
            ],
            [
             0.7,
             "#b8e186"
            ],
            [
             0.8,
             "#7fbc41"
            ],
            [
             0.9,
             "#4d9221"
            ],
            [
             1,
             "#276419"
            ]
           ],
           "sequential": [
            [
             0,
             "#0d0887"
            ],
            [
             0.1111111111111111,
             "#46039f"
            ],
            [
             0.2222222222222222,
             "#7201a8"
            ],
            [
             0.3333333333333333,
             "#9c179e"
            ],
            [
             0.4444444444444444,
             "#bd3786"
            ],
            [
             0.5555555555555556,
             "#d8576b"
            ],
            [
             0.6666666666666666,
             "#ed7953"
            ],
            [
             0.7777777777777778,
             "#fb9f3a"
            ],
            [
             0.8888888888888888,
             "#fdca26"
            ],
            [
             1,
             "#f0f921"
            ]
           ],
           "sequentialminus": [
            [
             0,
             "#0d0887"
            ],
            [
             0.1111111111111111,
             "#46039f"
            ],
            [
             0.2222222222222222,
             "#7201a8"
            ],
            [
             0.3333333333333333,
             "#9c179e"
            ],
            [
             0.4444444444444444,
             "#bd3786"
            ],
            [
             0.5555555555555556,
             "#d8576b"
            ],
            [
             0.6666666666666666,
             "#ed7953"
            ],
            [
             0.7777777777777778,
             "#fb9f3a"
            ],
            [
             0.8888888888888888,
             "#fdca26"
            ],
            [
             1,
             "#f0f921"
            ]
           ]
          },
          "colorway": [
           "#636efa",
           "#EF553B",
           "#00cc96",
           "#ab63fa",
           "#FFA15A",
           "#19d3f3",
           "#FF6692",
           "#B6E880",
           "#FF97FF",
           "#FECB52"
          ],
          "font": {
           "color": "#2a3f5f"
          },
          "geo": {
           "bgcolor": "white",
           "lakecolor": "white",
           "landcolor": "#E5ECF6",
           "showlakes": true,
           "showland": true,
           "subunitcolor": "white"
          },
          "hoverlabel": {
           "align": "left"
          },
          "hovermode": "closest",
          "mapbox": {
           "style": "light"
          },
          "paper_bgcolor": "white",
          "plot_bgcolor": "#E5ECF6",
          "polar": {
           "angularaxis": {
            "gridcolor": "white",
            "linecolor": "white",
            "ticks": ""
           },
           "bgcolor": "#E5ECF6",
           "radialaxis": {
            "gridcolor": "white",
            "linecolor": "white",
            "ticks": ""
           }
          },
          "scene": {
           "xaxis": {
            "backgroundcolor": "#E5ECF6",
            "gridcolor": "white",
            "gridwidth": 2,
            "linecolor": "white",
            "showbackground": true,
            "ticks": "",
            "zerolinecolor": "white"
           },
           "yaxis": {
            "backgroundcolor": "#E5ECF6",
            "gridcolor": "white",
            "gridwidth": 2,
            "linecolor": "white",
            "showbackground": true,
            "ticks": "",
            "zerolinecolor": "white"
           },
           "zaxis": {
            "backgroundcolor": "#E5ECF6",
            "gridcolor": "white",
            "gridwidth": 2,
            "linecolor": "white",
            "showbackground": true,
            "ticks": "",
            "zerolinecolor": "white"
           }
          },
          "shapedefaults": {
           "line": {
            "color": "#2a3f5f"
           }
          },
          "ternary": {
           "aaxis": {
            "gridcolor": "white",
            "linecolor": "white",
            "ticks": ""
           },
           "baxis": {
            "gridcolor": "white",
            "linecolor": "white",
            "ticks": ""
           },
           "bgcolor": "#E5ECF6",
           "caxis": {
            "gridcolor": "white",
            "linecolor": "white",
            "ticks": ""
           }
          },
          "title": {
           "x": 0.05
          },
          "xaxis": {
           "automargin": true,
           "gridcolor": "white",
           "linecolor": "white",
           "ticks": "",
           "title": {
            "standoff": 15
           },
           "zerolinecolor": "white",
           "zerolinewidth": 2
          },
          "yaxis": {
           "automargin": true,
           "gridcolor": "white",
           "linecolor": "white",
           "ticks": "",
           "title": {
            "standoff": 15
           },
           "zerolinecolor": "white",
           "zerolinewidth": 2
          }
         }
        },
        "title": {
         "text": "PCA Visualization - Personality Traits Embeddings<br>Mello Campus Population (255 users)"
        },
        "width": 960,
        "xaxis": {
         "title": {
          "text": "PC1 (9.6% variance)"
         }
        },
        "yaxis": {
         "title": {
          "text": "PC2 (3.9% variance)"
         }
        }
       }
      }
     },
     "metadata": {},
     "output_type": "display_data"
    },
    {
     "name": "stdout",
     "output_type": "stream",
     "text": [
      "✅ Plotly personality traits PCA complete\n",
      "\n",
      "📖 Visualization Guide:\n",
      "   📚 Interests PCA: Cultural preferences embeddings (books, movies, music)\n",
      "   🧠 Personality PCA: Big 5 personality traits embeddings (Openness, Conscientiousness, etc.)\n",
      "   ⭐ Red stars: Real users (special)\n",
      "   🔵 Blue/Green dots: Synthetic users\n",
      "   📏 Similarity: Euclidean distance (1.0 = identical, 0.0 = different)\n",
      "   🎨 Interactive: Hover for names, zoom, pan to explore\n"
     ]
    }
   ],
   "source": [
    "# Interactive Plotly Visualizations\n",
    "users_with_embeddings = population.get_users_with_embeddings()\n",
    "\n",
    "print(f\"📊 Interactive Plotly Population Visualization\")\n",
    "print(f\"Users with embeddings: {len(users_with_embeddings)}\")\n",
    "print(f\"Similarity metric: Euclidean Distance (L2 norm, normalized)\")\n",
    "print()\n",
    "\n",
    "if len(users_with_embeddings) >= 3:\n",
    "    \n",
    "    # 📚 Plotly PCA Visualization - Interests Only\n",
    "    print(f\"📚 Creating Plotly PCA - Interests Embeddings (768D → 2D):\")\n",
    "    try:\n",
    "        fig_interests = visualizer.plot_population_pca(\n",
    "            population, \n",
    "            mode='interests', \n",
    "            highlight_special=True, \n",
    "            figsize=(12, 8)\n",
    "        )\n",
    "        fig_interests.show()\n",
    "        print(f\"✅ Plotly interests PCA complete\")\n",
    "        \n",
    "    except Exception as e:\n",
    "        print(f\"❌ Interests PCA failed: {e}\")\n",
    "    \n",
    "    print()\n",
    "    \n",
    "    # 🧠 Plotly PCA Visualization - Combined Personality Traits\n",
    "    print(f\"🧠 Creating Plotly PCA - Combined Personality Traits (3840D → 2D):\")\n",
    "    try:\n",
    "        # Get combined personality embedding (all 5 traits)\n",
    "        from sklearn.decomposition import PCA\n",
    "        from sklearn.preprocessing import StandardScaler\n",
    "        import plotly.graph_objects as go\n",
    "        import numpy as np\n",
    "        \n",
    "        # Get users with complete personality embeddings\n",
    "        personality_users = []\n",
    "        personality_embeddings = []\n",
    "        \n",
    "        for user in users_with_embeddings:\n",
    "            trait_embeddings = []\n",
    "            has_all_traits = True\n",
    "            \n",
    "            for trait in ['Openness', 'Conscientiousness', 'Extraversion', 'Agreeableness', 'Neuroticism']:\n",
    "                trait_emb = getattr(user, f'{trait.lower()}_embedding', None)\n",
    "                if trait_emb is not None:\n",
    "                    trait_embeddings.append(trait_emb)\n",
    "                else:\n",
    "                    has_all_traits = False\n",
    "                    break\n",
    "            \n",
    "            if has_all_traits:\n",
    "                personality_users.append(user)\n",
    "                combined_personality = np.concatenate(trait_embeddings)\n",
    "                personality_embeddings.append(combined_personality)\n",
    "        \n",
    "        if len(personality_embeddings) >= 3:\n",
    "            personality_matrix = np.array(personality_embeddings)\n",
    "            \n",
    "            # Apply PCA to personality embeddings\n",
    "            scaler = StandardScaler()\n",
    "            embeddings_scaled = scaler.fit_transform(personality_matrix)\n",
    "            pca = PCA(n_components=2)\n",
    "            embeddings_2d = pca.fit_transform(embeddings_scaled)\n",
    "            \n",
    "            # Create Plotly figure for personality\n",
    "            fig_personality = go.Figure()\n",
    "            \n",
    "            # Separate special and regular users\n",
    "            special_indices = []\n",
    "            regular_indices = []\n",
    "            \n",
    "            for i, user in enumerate(personality_users):\n",
    "                if user.special:\n",
    "                    special_indices.append(i)\n",
    "                else:\n",
    "                    regular_indices.append(i)\n",
    "            \n",
    "            # Plot regular users\n",
    "            if regular_indices:\n",
    "                regular_coords = embeddings_2d[regular_indices]\n",
    "                regular_names = [personality_users[i].name for i in regular_indices]\n",
    "                \n",
    "                fig_personality.add_trace(go.Scatter(\n",
    "                    x=regular_coords[:, 0],\n",
    "                    y=regular_coords[:, 1],\n",
    "                    mode='markers',\n",
    "                    marker=dict(size=8, color='lightgreen', opacity=0.7, line=dict(width=1, color='darkgreen')),\n",
    "                    name=f'Users ({len(regular_indices)})',\n",
    "                    hovertext=regular_names,\n",
    "                    hovertemplate='<b>%{hovertext}</b><extra></extra>'\n",
    "                ))\n",
    "            \n",
    "            # Plot special users\n",
    "            if special_indices:\n",
    "                special_coords = embeddings_2d[special_indices]\n",
    "                special_names = [personality_users[i].name for i in special_indices]\n",
    "                \n",
    "                fig_personality.add_trace(go.Scatter(\n",
    "                    x=special_coords[:, 0],\n",
    "                    y=special_coords[:, 1],\n",
    "                    mode='markers',\n",
    "                    marker=dict(size=15, color='red', opacity=0.9, symbol='star', line=dict(width=2, color='darkred')),\n",
    "                    name=f'Special Users ({len(special_indices)})',\n",
    "                    hovertext=special_names,\n",
    "                    hovertemplate='<b>%{hovertext}</b><extra></extra>'\n",
    "                ))\n",
    "            \n",
    "            # Update layout\n",
    "            total_variance = pca.explained_variance_ratio_[:2].sum()\n",
    "            fig_personality.update_layout(\n",
    "                title=f'PCA Visualization - Personality Traits Embeddings<br>{population.name} ({len(personality_users)} users)',\n",
    "                xaxis_title=f'PC1 ({pca.explained_variance_ratio_[0]:.1%} variance)',\n",
    "                yaxis_title=f'PC2 ({pca.explained_variance_ratio_[1]:.1%} variance)',\n",
    "                hovermode='closest',\n",
    "                showlegend=True,\n",
    "                width=960,\n",
    "                height=640,\n",
    "                annotations=[\n",
    "                    dict(\n",
    "                        text=f'Total variance explained: {total_variance:.1%}<br>Similarity metric: Euclidean Distance<br>Dimensions: 5 traits × 768D = 3840D',\n",
    "                        xref=\"paper\", yref=\"paper\",\n",
    "                        x=0.02, y=0.98, xanchor='left', yanchor='top',\n",
    "                        showarrow=False,\n",
    "                        font=dict(size=12),\n",
    "                        bgcolor=\"rgba(255,255,255,0.8)\",\n",
    "                        bordercolor=\"rgba(0,0,0,0.5)\",\n",
    "                        borderwidth=1\n",
    "                    )\n",
    "                ]\n",
    "            )\n",
    "            \n",
    "            fig_personality.show()\n",
    "            print(f\"✅ Plotly personality traits PCA complete\")\n",
    "        else:\n",
    "            print(f\"❌ Need at least 3 users with complete personality embeddings, got {len(personality_embeddings)}\")\n",
    "        \n",
    "    except Exception as e:\n",
    "        print(f\"❌ Personality PCA failed: {e}\")\n",
    "\n",
    "else:\n",
    "    print(f\"⚠️  Need at least 3 users with embeddings for visualization\")\n",
    "    print(f\"   Current: {len(users_with_embeddings)} users\")\n",
    "    print(f\"   Generate more synthetic users in the previous cell\")\n",
    "\n",
    "print(f\"\\n📖 Visualization Guide:\")\n",
    "print(f\"   📚 Interests PCA: Cultural preferences embeddings (books, movies, music)\")\n",
    "print(f\"   🧠 Personality PCA: Big 5 personality traits embeddings (Openness, Conscientiousness, etc.)\")\n",
    "print(f\"   ⭐ Red stars: Real users (special)\")\n",
    "print(f\"   🔵 Blue/Green dots: Synthetic users\")\n",
    "print(f\"   📏 Similarity: Euclidean distance (1.0 = identical, 0.0 = different)\")\n",
    "print(f\"   🎨 Interactive: Hover for names, zoom, pan to explore\")"
   ]
  },
  {
   "cell_type": "markdown",
   "metadata": {},
   "source": [
    "## 💾 Save Population\n",
    "\n",
    "Save the complete population for future use."
   ]
  },
  {
   "cell_type": "code",
   "execution_count": 8,
   "metadata": {},
   "outputs": [
    {
     "name": "stdout",
     "output_type": "stream",
     "text": [
      "💾 Saving population to mello_population.json...\n",
      "✅ Population saved successfully\n",
      "   File size: 29,467,244 bytes (28.1 MB)\n",
      "   Users saved: 248\n",
      "   Users with embeddings: 240\n",
      "\n",
      "🎉 Notebook complete!\n",
      "📊 Final Statistics:\n",
      "   Population: 248 users\n",
      "   Architecture: 768D interests + 5×768D traits\n",
      "   Approach: Unified personality profiling\n",
      "   Embeddings: 240 users ready\n"
     ]
    }
   ],
   "source": [
    "# Save population to JSON\n",
    "save_path = \"mello_population.json\"\n",
    "\n",
    "print(f\"💾 Saving population to {save_path}...\")\n",
    "\n",
    "try:\n",
    "    population.save_to_json(save_path)\n",
    "    print(f\"✅ Population saved successfully\")\n",
    "    \n",
    "    # Show file info\n",
    "    import os\n",
    "    file_size = os.path.getsize(save_path)\n",
    "    print(f\"   File size: {file_size:,} bytes ({file_size/1024/1024:.1f} MB)\")\n",
    "    print(f\"   Users saved: {len(population)}\")\n",
    "    print(f\"   Users with embeddings: {len(population.get_users_with_embeddings())}\")\n",
    "    \n",
    "except Exception as e:\n",
    "    print(f\"❌ Failed to save population: {e}\")\n",
    "\n",
    "print(f\"\\n🎉 Notebook complete!\")\n",
    "print(f\"📊 Final Statistics:\")\n",
    "print(f\"   Population: {len(population)} users\")\n",
    "print(f\"   Architecture: 768D interests + 5×768D traits\")\n",
    "print(f\"   Approach: Unified personality profiling\")\n",
    "print(f\"   Embeddings: {len(population.get_users_with_embeddings())} users ready\")"
   ]
  },
  {
   "cell_type": "code",
   "execution_count": 5,
   "metadata": {},
   "outputs": [],
   "source": [
    "einstein = ProfileGenerator.generate_profile_from_famous_person(profile_generator,\"Einstein\")"
   ]
  },
  {
   "cell_type": "code",
   "execution_count": null,
   "metadata": {},
   "outputs": [
    {
     "data": {
      "text/plain": [
       "'They are characterized by an intensely analytical and profoundly curious mind, constantly seeking to understand the fundamental principles governing the universe. Their cognitive style is deeply intuitive, often arriving at insights through imaginative leaps rather than purely linear deduction, yet they meticulously test these ideas against logical rigor. Emotionally, they possess a quiet intensity, valuing inner contemplation over outward display, though they exhibit a profound idealism and a strong sense of social justice. Their motivation stems from an intrinsic desire for truth and a deep appreciation for the elegant simplicity of underlying laws. While often perceived as introverted, they are not averse to engaging with others when intellectual discourse is involved, though they maintain a certain detachment, prioritizing their internal world. They demonstrate remarkable resilience in pursuing their convictions, undeterred by conventional thinking or initial skepticism, driven by an unwavering belief in the power of reason and a deep-seated ethical compass that guides their actions. Their decision-making is rooted in a blend of logical imperative and a powerful moral framework, always striving for universal principles.'"
      ]
     },
     "execution_count": 6,
     "metadata": {},
     "output_type": "execute_result"
    }
   ],
   "source": []
  },
  {
   "cell_type": "code",
   "execution_count": 6,
   "metadata": {},
   "outputs": [
    {
     "name": "stdout",
     "output_type": "stream",
     "text": [
      "7.142857142857142 %\n",
      "14.285714285714285 %\n",
      "21.428571428571427 %\n",
      "28.57142857142857 %\n",
      "35.714285714285715 %\n",
      "42.857142857142854 %\n",
      "50.0 %\n",
      "57.14285714285714 %\n",
      "64.28571428571429 %\n",
      "71.42857142857143 %\n",
      "78.57142857142857 %\n",
      "85.71428571428571 %\n",
      "92.85714285714286 %\n",
      "100.0 %\n"
     ]
    }
   ],
   "source": [
    "famous_people = [\n",
    "    \"Nikola Tesla\",\n",
    "    \"Ada Lovelace\",\n",
    "    \"Alan Turing\",\n",
    "    \"Aristotle\",\n",
    "    \"Nelson Mandela\",\n",
    "    \"Mahatma Gandhi\",\n",
    "    \"Cleopatra\",\n",
    "    \"Steve Jobs\",\n",
    "    \"Elon Musk\",\n",
    "    \"Sherlock Holmes\",\n",
    "    \"Tony Stark\",\n",
    "    \"Walter White\",\n",
    "    \"Leonardo da Vinci\",\n",
    "    \"Greta Thunberg\"]\n",
    "c = 1\n",
    "for person in famous_people:\n",
    "    famous_user = profile_generator.create_user_from_famous_person(person, person)\n",
    "    if hasattr(famous_user, \"special\"):\n",
    "        famous_user.special = True\n",
    "    success = embedding_generator.embed_user_complete(famous_user)\n",
    "    print(c/len(famous_people) * 100, \"%\")\n",
    "    c += 1\n",
    "    if success:\n",
    "        population.add_user(famous_user)"
   ]
  },
  {
   "cell_type": "code",
   "execution_count": 11,
   "metadata": {},
   "outputs": [
    {
     "name": "stderr",
     "output_type": "stream",
     "text": [
      "/Users/yahyarahhawi/miniforge3/envs/ml/lib/python3.12/site-packages/umap/umap_.py:1401: RuntimeWarning:\n",
      "\n",
      "divide by zero encountered in power\n",
      "\n",
      "OMP: Info #276: omp_set_nested routine deprecated, please use omp_set_max_active_levels instead.\n"
     ]
    },
    {
     "data": {
      "application/vnd.plotly.v1+json": {
       "config": {
        "plotlyServerURL": "https://plot.ly"
       },
       "data": [
        {
         "hovertemplate": "<b>%{hovertext}</b><extra></extra>",
         "hovertext": [
          "William Castaneda",
          "Michelle \"MJ\" Jones",
          "Jamie Chen",
          "Raymond Ortiz",
          "Sarah Chen",
          "Susan West",
          "Daniel Mercer",
          "Brian Thornton",
          "Heather Jimenez",
          "Emily Parsons",
          "Beth Clarke",
          "Gina Villanueva",
          "Olivia Chen",
          "Olivia Chen",
          "Carl Snow",
          "Anya Sharma",
          "Nicholas Russo",
          "Mary Ball",
          "Chloe Nguyen",
          "Erin Thomas",
          "Micheal Roy",
          "Stacy Anderson",
          "Elena Rodriguez",
          "Billy Morales",
          "Kevin Green",
          "Timothy Stewart",
          "Lena Petrova",
          "Wren Kestrel",
          "Eliza Vance",
          "Benjamin Jones",
          "Elizabeth Williams",
          "Tommy Barker",
          "Sandra Kemp",
          "Allison Brown",
          "Selena Garcia",
          "Bryan Chambers",
          "Amanda Reynolds",
          "Jeffrey Horn",
          "Ace Rodriguez",
          "Daniel Williams",
          "Kimberly King",
          "James Vargas",
          "Beth Kelly",
          "Cheryl Glass",
          "Amber Bradley",
          "Helen Gomez",
          "Chelsea Bird",
          "Alexander Tucker",
          "Robert Hill",
          "Donna Miller",
          "Alyssa Roberts",
          "Tammy Henderson",
          "Linda Perez",
          "Nicole Fisher",
          "Robert Campbell",
          "Jennifer Cummings",
          "Russell Gross",
          "Krystal Mckenzie",
          "Jessica Acevedo",
          "Eliza \"Sunshine\" Vance",
          "Sarah Jenkins",
          "Kristen Alvarez",
          "Heather Luna",
          "Dr. Jordan Shannon",
          "Dustin Mullen",
          "Beverly Love",
          "William Foster",
          "Jerry Stanley",
          "Joshua Hatfield",
          "Nicholas Williams",
          "Michelle Rogers",
          "Elara Vance",
          "Daniel Porter",
          "Maya Rodriguez",
          "Angela Scott",
          "Jennifer Ray",
          "Edward Dominguez",
          "Maurice Nichols",
          "Christopher Jones",
          "Evelyn Thorne",
          "Dawn Howard",
          "Jennifer Mercado",
          "Amelia Hayes",
          "Ethan Vance",
          "Elara Meadowlight (legally John Rogers)",
          "Edward Stephens II",
          "Alice Chen",
          "Brenda Santos",
          "Stella Maris",
          "Joshua Parker",
          "Eleanor Vance",
          "Spencer White",
          "Kimberly Parrish",
          "Ryan Carey",
          "Yesenia Whitney",
          "Brent Contreras",
          "Raymond Martin",
          "Cindy Ramirez",
          "Elizabeth Webb",
          "Mitchell Navarro",
          "Denise Robinson",
          "Larry Rivers",
          "Richard Sims",
          "Tammy Mckee",
          "Amanda Padilla",
          "Dominique Turner",
          "Caroline Thompson",
          "Sarah Chen",
          "Cheryl Erickson",
          "Anya Sharma",
          "Debbie Combs",
          "Andrew Franco",
          "Holly Robbins",
          "Kimberly Brady",
          "William Frey",
          "Andrew \"Aethelred\" Sterling",
          "Sheila Clark",
          "Samuel Morrison",
          "Ryan Lee",
          "Jeffrey Rojas",
          "Russell Curtis",
          "Katherine Hall",
          "Jacob Smith",
          "Katie Collier",
          "James Lamb",
          "Darlene Lawrence",
          "Luna Skye Hawthorne",
          "Erik Peterson",
          "Lisa Mitchell",
          "Luna Seraphina Willow",
          "Aurora Vance",
          "Jason Mckinney",
          "Jamie Gonzales",
          "Tiffany Moody",
          "Maria Vazquez",
          "Carlos Torres",
          "Justin Miller",
          "Jose Ellison",
          "Blake Lawrence",
          "Christopher Travis",
          "Kenneth Escobar",
          "Sarah Shaffer",
          "Jesse Holland",
          "Anne Peterson",
          "Elara Vance",
          "Michael Watson",
          "Linda Garcia",
          "Andrea Davis",
          "Thomas Webster",
          "Lilith Thorne",
          "Jennifer Wolfe",
          "Linda Richardson",
          "Jerry Rogers II",
          "Jill Nolan",
          "William Morrison",
          "Andrew Johnson",
          "Jamie Woodward",
          "Clara Ellison",
          "John Bishop",
          "Maya Rodriguez",
          "Devin Harris",
          "Sarah Chen",
          "Rebecca Sanchez",
          "Cameron Avery",
          "Laura Graham",
          "Elara Vance",
          "Sarah Chen",
          "Elara Vance",
          "Kristina Marshall",
          "Larry Rodriguez",
          "Robert Harrell",
          "Albert Hunt",
          "Clara Bellewood",
          "Chloe Nguyen",
          "Adam Woodard",
          "Akari Tanaka",
          "Jennifer Butler",
          "Amelia Vance",
          "Sabrina George",
          "Lyra Meadowsweet",
          "Helena Vance",
          "Victoria Martinez",
          "Mindy Lee",
          "Carla Williams",
          "Robert Ochoa",
          "Cesar Yoder",
          "Kelly Nash",
          "Crystal Hall",
          "Maya Angelou",
          "Ashley Austin",
          "Tiffany Goodman",
          "Kimberly Morales",
          "Amanda Christensen",
          "Heather Barnes",
          "Luna \"Hex\" Blackwood",
          "Christine Long",
          "Angela Martinez",
          "Anya Petrova",
          "Lindsey Gray",
          "Elara Vance",
          "Jeremy Kennedy",
          "Larry Wilson",
          "Richard Yang",
          "Carrie Taylor",
          "Laura Wall",
          "Terri Murphy",
          "Anya Sharma",
          "Maya Rodriguez",
          "Maya Rodriguez",
          "Elena Rossi",
          "Shirley Henderson",
          "Dennis Wallace",
          "Miguel Johnston",
          "Madison Brooks",
          "Sean Stone",
          "Brian Acosta",
          "Lawrence Avila",
          "Elara Meadowlight",
          "Stephen Bryant",
          "Olivia Chang",
          "Eric Thompson",
          "Linda Lee",
          "Angela Ortiz",
          "William Carpenter",
          "Kari Clark",
          "Ella Sanchez",
          "Jennifer Glover",
          "Luna Maeve",
          "Lori Butler",
          "Liam Vance",
          "Luna Everhart",
          "Anna Price",
          "Julie Fischer",
          "Chloe Davis",
          "Glen Harris",
          "Anya Sharma",
          "Dylan Phillips",
          "Ricardo Warren",
          "Deborah Johnson"
         ],
         "marker": {
          "color": "lightgreen",
          "opacity": 0.7,
          "size": 5
         },
         "mode": "markers",
         "name": "Users (239)",
         "type": "scatter3d",
         "x": {
          "bdata": "x0OmQQ9iKEFUJRZB+AVqwSurh8FK1TrBxwp7QP2uQMG9R5FBiD8Jwe7YhsD4exNBl9KfQV5CZkGnbeJApu8vQOSvcb8+B0g9pGKev49RKUErApVBX7lmQeh8rkHouDtB2gD8wGFNj0H7Wme/SdOYQSLGqMFGuSvByA83wM/c4kFm6ifB3xkewevk00HOZJdBBE+cwUZHPMGdA2fBosf1QCgxjkFFOwZBapGDQDWEI77DaSXBMp4ywbueAcBB4mTBXN5DQXHZo0GuQmdBkfZDwVElDsBV/oPA/SWHQcE+kkFOOZxBVvaXQXUaosAYy4FBYaKdQSldEsDAw+k/l8v5QNxSvcDz9DDB08EgwRiU5kAKyybBBKxEwa3/50Dg7QFBfQMmQFIRj0FlTETBOIKVQWWo3UAg9y5B4VyFQa6PLUFRUULBiaPdQZJ1G0CyxTpAIId6QbM2hkDQfJ9B6zyBwIfz70ENYS1AobXgQXlPnEE3KUhBGAe7QCnZWL7NJ/tAKOb5QEKXnsCG9am/jNckQIGRNcFUmSvBqxCvQZjjYMF7Et9BajRvQcboaEEbOHbA7OvIwM1fEcGVdCzBi1mpQUGLgD9KN4dBR4dVwUcp9EBL2VnBtZWxQWHn00HBvI9Ba2kbQJaLU8CWxljAUcQjwF1DiEAsypNBbalKQTcQKkHTG0DB09s2QZSXgkEBxOFARvItQTEE2kAJuxXB0PNMwERFqMCAFPFBmHuoQJvg2b/gPru/1cahwDq4Sz6LMVLB+QTIwPDhQkH6MwpBJ4SrQSoojkGUazxBofl0wXPclUBA6as/rJSWQS5xaT4c+uFBIKmmQP3lnUGZ4ZjA086AwTi2qMGKdw1BKGoxQYgyMEFlCzvBo/yFQOtyMcE9iqNBIOQkQHH8s8DULU9BBhg6wKX8s8DkwVA/cduZwOJu4UDCAq5AnV+MwbH1g7+8JZBAAZAxwZLlj8DIgXC/KcZXQbOiG8HZAoBA8dw4wQmkMEE4PErB1yEtwTrJKUEhNes/5pJpwAwWFUGdVljBCug3QcKsz0BXNLnBP/GFQcwmP8C2YYVA6XmcQdFmZMGopa/BtU/gv6Adt0ChFqFAb+FAwUmqG7/sDk1BRhQLQJzusEHBvDBBuUw3QWrESUDfNLpAoad2QR+AfkFuJTE+NwH0QQlOPcDjiyRBnEluwcAtYUEuU15BAi6lQbtlVcA27jRBmPx5Qf6DCUGuqmtBqXJNwb5ugUHK8hdA8U11QaRKkUBcLZo/zZrPQN0YzkA=",
          "dtype": "f4"
         },
         "y": {
          "bdata": "fJysQAfqo0AqFxHAVDeCQW7X0r+p+ANBdeKaQPd0n0HA+9xBk6bTQJK1jUH0haxAw6dxQTeRWz6se4BBJM54QQfEekFMWnFBqm4uQc7tdkCwI5NBhI7nwHrAXEGKEnZBFUgGwTgn0kEngAtBQjW2vjFcp793KwjBfFPJQVY3nEGich9BCH+fwCC320CoIAhBq1fyv3lO8cAR2rvA+MWVQeveVkF8NVjBDBi3QPKgyEEujIBA1mX2wImv0EHcMQlB/I4wwVM8e0Fl0x6/9V8FQe8fzb72uppBt6QNQXFQzUHruGRBqzAmQe9FGsE0K4u/4EEVQfRP1z71wBU/bXTTPBEjGMDhDBVBnHEGQcq6jMGybJdAZIGNQW1rK8GTcsFAN1c9QbaTrT8cr7TAeEJ6P9nWkkA8ywdBPuGXQUuPikFgyb7AxUz6QIelrz+p6IvB7Xk0wCpUI8FKmVhBQEClQdk3qEHbtKy+DnbEQG5fHT9D3xBB2yEjwb412T+aHk/B7nPmQBVinkE80gdATaYzQZt77EA1JRPBLl4IQcr1z0DqCatBaiTav6pNgT8fhQLAT0qWQe6QCEE3EsXAXjvjP8d4g0HW53c/I6upQPP2eMHgnwNBw3nNQCWvoUFG9R5Bp08gQQe8lkHy56hBhPBHwGkc9UBTFIA/26kFQA5Sg0H1BCrB5g+0QLPKfD+4PEtA2XHqQF/0nkGbehJBTkKPv1yMIMBIq5xB4JhrQaj2rj6lDBdBWuaHQb7atEEgaADBFJISwRB3AcE4H7tA1LjKQFb2m0E3R4hBG3vDQGfjPUDPzWzADT/CQWiaWkCQ7adB7axCwTrFakGFhopBgMO/QOrSr78gUmZAXXFfwOKsRkF2uRbByZZ+wYAHbcAJlcc/Oz0OQTfPtr/JxIRBSDd9QSiLDsHJfQrAD0EqwXzZjEEuCJ5BRKn1vj+uU0FQr1hA9SwBwXhtlUGQlaVBXx0WwaDxB0EHZ4rBDDodwXSiK0CbhA5BhoSYQaYgMsAwxYfBQ7PZv5MTkcDxw3tB5dAaQV1O9EASqXO/LG86v3q1HcFJy7xASb+VQSI47MDsuwrA6arBQYuniMH/SZhBuY6kQCMYy0HQhSxBAt6Uv3j5LT8NUGdB62s+QZPtaEGZwn9Ag3O7v5tBMkBWPCNBNXOZQXu9p0FjYSpBbuZrQY6kDMFV+VDAOk7yQJB6vEGNGIpArWRKPto1tz+9IzZAcp4nwQkcIT5DU0rAOvM7P9dmh0FOfUhAJ4fQQMLiCUA=",
          "dtype": "f4"
         },
         "z": {
          "bdata": "03rgvl2GD8Fik45BRNxsQHyjyL91eGTAWvnFv7z9XD8OgBJAxzhCQfNNkkCetRxBiLkiwHPiAkG0XgdBPC7KQFtt6MA0oAzBW/XQP6kjP8EydCNBobEhQFwzccAM3yLBki1Kv130hUDm1oRAuOyFwZXosL6mu1O/6WMuQTtnmr8XJRRBAH8VQcPLrsCX1ZFBYSsBwIsmE0GRvR5B2CaLQK6id8A/7ADBgDnrQBK8P0E6sCRB3o2rP045UEHVrOTA0RdbQEOv4MCX4bBAxon7wID1V8FKdmnBzm2UQRulF0A9Qu3Ay0hoQeXAccD3tURBOhN7QeZIjEGdRlrAe26WQb2MbMG+QSDBawKVwEYLE8EVnElBI0abP4IPeEFm7alBvn1TQJZTuMHHchBBd6+Rwf6XnUF+tUjAXiEvQShgL8EpnwO/7gPXwFqKrsC/DTrBB4LUwDGVd0F9lEXAZmEIQWpVE0ArkmfAvqC9wE/nVcHm5kLA6zCFQTFTpEHOvBPBpq+hQWdJSsF5UoFBWrDEP5uFAkGIi1vBJ3A2QE91GkGec05AH+CSwJzMKMBxohXBOPdjwbleIEHhCQvAFkJTwb4b68Ajs5zBIWNFQepKD8E+UbDAr6Ylv2T4D0CvVoZB1+4zQERPM8Gp2TPBZsQVwaZE+UAXkqjB8NQDQWx45cBDnFzBw8kpQW6xrsEKG6W+Zu7uwMudFkDNlhPBq5Y8wZxlh8FVAE29cc0WQQjdnUEveDFA3NPAQPnKUkFeULu/oyfFwG0qh0Do5ZRBRWO3P84cQkFgUw/BLpU5QbXkwL1d6dRAF+xQQGkAiEHSxHE/8x17QR+ypsAvh1zBgZ8bQXpOYMC1ySPBT3mMQVu/3MCn1CfAo/NBwRuNDkEmGX3BSaDDQOVoSMGfZTHBweZAwanr27/tUfpA76m1wBRcy0C81bJATOo9wNEWJcFrlJtBKzp6waMN2UD/eUtBOjUlQPni6sAR0hfBPiR8wY5UHsGE6wdBtbeoPq9PfkGnpx3BSEV1wbrviUGz6wRApiWywNVmnkGsLjrABfLMwERBl8Agyg9BpKJAQdQgDkGgusy/96AWQa4dLsFAlWVAKvoGQWrmH0F0r5i/SksFQRI9acHOOgLBrNZDwKsYCEE7G/e/4hIiQaRPWsC48WRAYsr1P9qLKEFf32DAxv5eQDWye0Ck0LfAqhVkQHKEGEGhUhpBALcmQdYHIMHbj+q/tfeuvzsSkMD/kfBAGVbEQPuGokCJyplBRfIUQf2gm0E=",
          "dtype": "f4"
         }
        },
        {
         "hovertemplate": "<b>%{hovertext}</b><extra></extra>",
         "hovertext": [
          "Yahya Rahhawi",
          "Nikola Tesla",
          "Ada Lovelace",
          "Alan Turing",
          "Aristotle",
          "Nelson Mandela",
          "Mahatma Gandhi",
          "Cleopatra",
          "Steve Jobs",
          "Elon Musk",
          "Sherlock Holmes",
          "Tony Stark",
          "Walter White",
          "Leonardo da Vinci",
          "Greta Thunberg",
          "Sofiia "
         ],
         "marker": {
          "color": "red",
          "line": {
           "width": 2
          },
          "size": 9,
          "symbol": "diamond"
         },
         "mode": "markers",
         "name": "Special (16)",
         "type": "scatter3d",
         "x": {
          "bdata": "tmPQv7yqzr6aOto/EwHYPwpuYEBqxW+/xsftv3FEbT72HhtAxYgkQELYvEDH/pI/sMoBQHz2fEBaXgm+nuKLwA==",
          "dtype": "f4"
         },
         "y": {
          "bdata": "V+aMPw9IPsDMUQrAjAaZQHRhmkDeOZVAWB6YQADTH0Eu6YxB9b2QQRaOrD48lvRAeYgYQYfvsL6FAmBAgZ+Evw==",
          "dtype": "f4"
         },
         "z": {
          "bdata": "Lh0zwR/79sCepQHBp23LwPRSdMDg9CLBDGQLwfLGC8Gdu7HA58fpwDlRE8HYs+rAthIFwbbOAcGTlQnBYM2MwQ==",
          "dtype": "f4"
         }
        }
       ],
       "layout": {
        "height": 700,
        "hovermode": "closest",
        "scene": {
         "xaxis": {
          "title": {
           "text": "UMAP-1"
          }
         },
         "yaxis": {
          "title": {
           "text": "UMAP-2"
          }
         },
         "zaxis": {
          "title": {
           "text": "UMAP-3"
          }
         }
        },
        "template": {
         "data": {
          "bar": [
           {
            "error_x": {
             "color": "#2a3f5f"
            },
            "error_y": {
             "color": "#2a3f5f"
            },
            "marker": {
             "line": {
              "color": "#E5ECF6",
              "width": 0.5
             },
             "pattern": {
              "fillmode": "overlay",
              "size": 10,
              "solidity": 0.2
             }
            },
            "type": "bar"
           }
          ],
          "barpolar": [
           {
            "marker": {
             "line": {
              "color": "#E5ECF6",
              "width": 0.5
             },
             "pattern": {
              "fillmode": "overlay",
              "size": 10,
              "solidity": 0.2
             }
            },
            "type": "barpolar"
           }
          ],
          "carpet": [
           {
            "aaxis": {
             "endlinecolor": "#2a3f5f",
             "gridcolor": "white",
             "linecolor": "white",
             "minorgridcolor": "white",
             "startlinecolor": "#2a3f5f"
            },
            "baxis": {
             "endlinecolor": "#2a3f5f",
             "gridcolor": "white",
             "linecolor": "white",
             "minorgridcolor": "white",
             "startlinecolor": "#2a3f5f"
            },
            "type": "carpet"
           }
          ],
          "choropleth": [
           {
            "colorbar": {
             "outlinewidth": 0,
             "ticks": ""
            },
            "type": "choropleth"
           }
          ],
          "contour": [
           {
            "colorbar": {
             "outlinewidth": 0,
             "ticks": ""
            },
            "colorscale": [
             [
              0,
              "#0d0887"
             ],
             [
              0.1111111111111111,
              "#46039f"
             ],
             [
              0.2222222222222222,
              "#7201a8"
             ],
             [
              0.3333333333333333,
              "#9c179e"
             ],
             [
              0.4444444444444444,
              "#bd3786"
             ],
             [
              0.5555555555555556,
              "#d8576b"
             ],
             [
              0.6666666666666666,
              "#ed7953"
             ],
             [
              0.7777777777777778,
              "#fb9f3a"
             ],
             [
              0.8888888888888888,
              "#fdca26"
             ],
             [
              1,
              "#f0f921"
             ]
            ],
            "type": "contour"
           }
          ],
          "contourcarpet": [
           {
            "colorbar": {
             "outlinewidth": 0,
             "ticks": ""
            },
            "type": "contourcarpet"
           }
          ],
          "heatmap": [
           {
            "colorbar": {
             "outlinewidth": 0,
             "ticks": ""
            },
            "colorscale": [
             [
              0,
              "#0d0887"
             ],
             [
              0.1111111111111111,
              "#46039f"
             ],
             [
              0.2222222222222222,
              "#7201a8"
             ],
             [
              0.3333333333333333,
              "#9c179e"
             ],
             [
              0.4444444444444444,
              "#bd3786"
             ],
             [
              0.5555555555555556,
              "#d8576b"
             ],
             [
              0.6666666666666666,
              "#ed7953"
             ],
             [
              0.7777777777777778,
              "#fb9f3a"
             ],
             [
              0.8888888888888888,
              "#fdca26"
             ],
             [
              1,
              "#f0f921"
             ]
            ],
            "type": "heatmap"
           }
          ],
          "histogram": [
           {
            "marker": {
             "pattern": {
              "fillmode": "overlay",
              "size": 10,
              "solidity": 0.2
             }
            },
            "type": "histogram"
           }
          ],
          "histogram2d": [
           {
            "colorbar": {
             "outlinewidth": 0,
             "ticks": ""
            },
            "colorscale": [
             [
              0,
              "#0d0887"
             ],
             [
              0.1111111111111111,
              "#46039f"
             ],
             [
              0.2222222222222222,
              "#7201a8"
             ],
             [
              0.3333333333333333,
              "#9c179e"
             ],
             [
              0.4444444444444444,
              "#bd3786"
             ],
             [
              0.5555555555555556,
              "#d8576b"
             ],
             [
              0.6666666666666666,
              "#ed7953"
             ],
             [
              0.7777777777777778,
              "#fb9f3a"
             ],
             [
              0.8888888888888888,
              "#fdca26"
             ],
             [
              1,
              "#f0f921"
             ]
            ],
            "type": "histogram2d"
           }
          ],
          "histogram2dcontour": [
           {
            "colorbar": {
             "outlinewidth": 0,
             "ticks": ""
            },
            "colorscale": [
             [
              0,
              "#0d0887"
             ],
             [
              0.1111111111111111,
              "#46039f"
             ],
             [
              0.2222222222222222,
              "#7201a8"
             ],
             [
              0.3333333333333333,
              "#9c179e"
             ],
             [
              0.4444444444444444,
              "#bd3786"
             ],
             [
              0.5555555555555556,
              "#d8576b"
             ],
             [
              0.6666666666666666,
              "#ed7953"
             ],
             [
              0.7777777777777778,
              "#fb9f3a"
             ],
             [
              0.8888888888888888,
              "#fdca26"
             ],
             [
              1,
              "#f0f921"
             ]
            ],
            "type": "histogram2dcontour"
           }
          ],
          "mesh3d": [
           {
            "colorbar": {
             "outlinewidth": 0,
             "ticks": ""
            },
            "type": "mesh3d"
           }
          ],
          "parcoords": [
           {
            "line": {
             "colorbar": {
              "outlinewidth": 0,
              "ticks": ""
             }
            },
            "type": "parcoords"
           }
          ],
          "pie": [
           {
            "automargin": true,
            "type": "pie"
           }
          ],
          "scatter": [
           {
            "fillpattern": {
             "fillmode": "overlay",
             "size": 10,
             "solidity": 0.2
            },
            "type": "scatter"
           }
          ],
          "scatter3d": [
           {
            "line": {
             "colorbar": {
              "outlinewidth": 0,
              "ticks": ""
             }
            },
            "marker": {
             "colorbar": {
              "outlinewidth": 0,
              "ticks": ""
             }
            },
            "type": "scatter3d"
           }
          ],
          "scattercarpet": [
           {
            "marker": {
             "colorbar": {
              "outlinewidth": 0,
              "ticks": ""
             }
            },
            "type": "scattercarpet"
           }
          ],
          "scattergeo": [
           {
            "marker": {
             "colorbar": {
              "outlinewidth": 0,
              "ticks": ""
             }
            },
            "type": "scattergeo"
           }
          ],
          "scattergl": [
           {
            "marker": {
             "colorbar": {
              "outlinewidth": 0,
              "ticks": ""
             }
            },
            "type": "scattergl"
           }
          ],
          "scattermap": [
           {
            "marker": {
             "colorbar": {
              "outlinewidth": 0,
              "ticks": ""
             }
            },
            "type": "scattermap"
           }
          ],
          "scattermapbox": [
           {
            "marker": {
             "colorbar": {
              "outlinewidth": 0,
              "ticks": ""
             }
            },
            "type": "scattermapbox"
           }
          ],
          "scatterpolar": [
           {
            "marker": {
             "colorbar": {
              "outlinewidth": 0,
              "ticks": ""
             }
            },
            "type": "scatterpolar"
           }
          ],
          "scatterpolargl": [
           {
            "marker": {
             "colorbar": {
              "outlinewidth": 0,
              "ticks": ""
             }
            },
            "type": "scatterpolargl"
           }
          ],
          "scatterternary": [
           {
            "marker": {
             "colorbar": {
              "outlinewidth": 0,
              "ticks": ""
             }
            },
            "type": "scatterternary"
           }
          ],
          "surface": [
           {
            "colorbar": {
             "outlinewidth": 0,
             "ticks": ""
            },
            "colorscale": [
             [
              0,
              "#0d0887"
             ],
             [
              0.1111111111111111,
              "#46039f"
             ],
             [
              0.2222222222222222,
              "#7201a8"
             ],
             [
              0.3333333333333333,
              "#9c179e"
             ],
             [
              0.4444444444444444,
              "#bd3786"
             ],
             [
              0.5555555555555556,
              "#d8576b"
             ],
             [
              0.6666666666666666,
              "#ed7953"
             ],
             [
              0.7777777777777778,
              "#fb9f3a"
             ],
             [
              0.8888888888888888,
              "#fdca26"
             ],
             [
              1,
              "#f0f921"
             ]
            ],
            "type": "surface"
           }
          ],
          "table": [
           {
            "cells": {
             "fill": {
              "color": "#EBF0F8"
             },
             "line": {
              "color": "white"
             }
            },
            "header": {
             "fill": {
              "color": "#C8D4E3"
             },
             "line": {
              "color": "white"
             }
            },
            "type": "table"
           }
          ]
         },
         "layout": {
          "annotationdefaults": {
           "arrowcolor": "#2a3f5f",
           "arrowhead": 0,
           "arrowwidth": 1
          },
          "autotypenumbers": "strict",
          "coloraxis": {
           "colorbar": {
            "outlinewidth": 0,
            "ticks": ""
           }
          },
          "colorscale": {
           "diverging": [
            [
             0,
             "#8e0152"
            ],
            [
             0.1,
             "#c51b7d"
            ],
            [
             0.2,
             "#de77ae"
            ],
            [
             0.3,
             "#f1b6da"
            ],
            [
             0.4,
             "#fde0ef"
            ],
            [
             0.5,
             "#f7f7f7"
            ],
            [
             0.6,
             "#e6f5d0"
            ],
            [
             0.7,
             "#b8e186"
            ],
            [
             0.8,
             "#7fbc41"
            ],
            [
             0.9,
             "#4d9221"
            ],
            [
             1,
             "#276419"
            ]
           ],
           "sequential": [
            [
             0,
             "#0d0887"
            ],
            [
             0.1111111111111111,
             "#46039f"
            ],
            [
             0.2222222222222222,
             "#7201a8"
            ],
            [
             0.3333333333333333,
             "#9c179e"
            ],
            [
             0.4444444444444444,
             "#bd3786"
            ],
            [
             0.5555555555555556,
             "#d8576b"
            ],
            [
             0.6666666666666666,
             "#ed7953"
            ],
            [
             0.7777777777777778,
             "#fb9f3a"
            ],
            [
             0.8888888888888888,
             "#fdca26"
            ],
            [
             1,
             "#f0f921"
            ]
           ],
           "sequentialminus": [
            [
             0,
             "#0d0887"
            ],
            [
             0.1111111111111111,
             "#46039f"
            ],
            [
             0.2222222222222222,
             "#7201a8"
            ],
            [
             0.3333333333333333,
             "#9c179e"
            ],
            [
             0.4444444444444444,
             "#bd3786"
            ],
            [
             0.5555555555555556,
             "#d8576b"
            ],
            [
             0.6666666666666666,
             "#ed7953"
            ],
            [
             0.7777777777777778,
             "#fb9f3a"
            ],
            [
             0.8888888888888888,
             "#fdca26"
            ],
            [
             1,
             "#f0f921"
            ]
           ]
          },
          "colorway": [
           "#636efa",
           "#EF553B",
           "#00cc96",
           "#ab63fa",
           "#FFA15A",
           "#19d3f3",
           "#FF6692",
           "#B6E880",
           "#FF97FF",
           "#FECB52"
          ],
          "font": {
           "color": "#2a3f5f"
          },
          "geo": {
           "bgcolor": "white",
           "lakecolor": "white",
           "landcolor": "#E5ECF6",
           "showlakes": true,
           "showland": true,
           "subunitcolor": "white"
          },
          "hoverlabel": {
           "align": "left"
          },
          "hovermode": "closest",
          "mapbox": {
           "style": "light"
          },
          "paper_bgcolor": "white",
          "plot_bgcolor": "#E5ECF6",
          "polar": {
           "angularaxis": {
            "gridcolor": "white",
            "linecolor": "white",
            "ticks": ""
           },
           "bgcolor": "#E5ECF6",
           "radialaxis": {
            "gridcolor": "white",
            "linecolor": "white",
            "ticks": ""
           }
          },
          "scene": {
           "xaxis": {
            "backgroundcolor": "#E5ECF6",
            "gridcolor": "white",
            "gridwidth": 2,
            "linecolor": "white",
            "showbackground": true,
            "ticks": "",
            "zerolinecolor": "white"
           },
           "yaxis": {
            "backgroundcolor": "#E5ECF6",
            "gridcolor": "white",
            "gridwidth": 2,
            "linecolor": "white",
            "showbackground": true,
            "ticks": "",
            "zerolinecolor": "white"
           },
           "zaxis": {
            "backgroundcolor": "#E5ECF6",
            "gridcolor": "white",
            "gridwidth": 2,
            "linecolor": "white",
            "showbackground": true,
            "ticks": "",
            "zerolinecolor": "white"
           }
          },
          "shapedefaults": {
           "line": {
            "color": "#2a3f5f"
           }
          },
          "ternary": {
           "aaxis": {
            "gridcolor": "white",
            "linecolor": "white",
            "ticks": ""
           },
           "baxis": {
            "gridcolor": "white",
            "linecolor": "white",
            "ticks": ""
           },
           "bgcolor": "#E5ECF6",
           "caxis": {
            "gridcolor": "white",
            "linecolor": "white",
            "ticks": ""
           }
          },
          "title": {
           "x": 0.05
          },
          "xaxis": {
           "automargin": true,
           "gridcolor": "white",
           "linecolor": "white",
           "ticks": "",
           "title": {
            "standoff": 15
           },
           "zerolinecolor": "white",
           "zerolinewidth": 2
          },
          "yaxis": {
           "automargin": true,
           "gridcolor": "white",
           "linecolor": "white",
           "ticks": "",
           "title": {
            "standoff": 15
           },
           "zerolinecolor": "white",
           "zerolinewidth": 2
          }
         }
        },
        "title": {
         "text": "UMAP – Interests Embeddings 3D (255 users)"
        },
        "width": 900
       }
      }
     },
     "metadata": {},
     "output_type": "display_data"
    }
   ],
   "source": [
    "# Minimal UMAP + Plotly 3D scatter for interests embeddings\n",
    "from umap import UMAP\n",
    "from sklearn.preprocessing import StandardScaler\n",
    "import numpy as np\n",
    "import plotly.graph_objects as go\n",
    "\n",
    "# Collect (name, special, embedding) for users that have interests embeddings\n",
    "data = [\n",
    "    (u.name, bool(getattr(u, \"special\", False)), u.interests_embedding)\n",
    "    for u in population.get_users_with_embeddings()\n",
    "    if getattr(u, \"interests_embedding\", None) is not None\n",
    "]\n",
    "\n",
    "if len(data) < 3:\n",
    "    print(f\"Need ≥3 users with interests embeddings, got {len(data)}\")\n",
    "else:\n",
    "    names, specials, embs = zip(*data)\n",
    "    X = np.vstack(embs)\n",
    "    X = StandardScaler().fit_transform(X)\n",
    "\n",
    "    # 3D UMAP\n",
    "    umap = UMAP(\n",
    "        n_components=3,\n",
    "        n_neighbors=3,\n",
    "        min_dist=3,\n",
    "        metric=\"euclidean\",\n",
    "        random_state=42,\n",
    "        spread = 3\n",
    "    )\n",
    "    X3 = umap.fit_transform(X)\n",
    "\n",
    "    specials = np.array(specials, dtype=bool)\n",
    "    reg_idx = np.where(~specials)[0]\n",
    "    spc_idx = np.where(specials)[0]\n",
    "\n",
    "    fig = go.Figure()\n",
    "\n",
    "    if len(reg_idx):\n",
    "        fig.add_trace(go.Scatter3d(\n",
    "            x=X3[reg_idx, 0], y=X3[reg_idx, 1], z=X3[reg_idx, 2],\n",
    "            mode=\"markers\",\n",
    "            marker=dict(size=5, opacity=0.7, color=\"lightgreen\"),\n",
    "            name=f\"Users ({len(reg_idx)})\",\n",
    "            hovertext=[names[i] for i in reg_idx],\n",
    "            hovertemplate=\"<b>%{hovertext}</b><extra></extra>\"\n",
    "        ))\n",
    "\n",
    "    if len(spc_idx):\n",
    "        fig.add_trace(go.Scatter3d(\n",
    "            x=X3[spc_idx, 0], y=X3[spc_idx, 1], z=X3[spc_idx, 2],\n",
    "            mode=\"markers\",\n",
    "            marker=dict(size=9, symbol=\"diamond\", color=\"red\", line=dict(width=2)),\n",
    "            name=f\"Special ({len(spc_idx)})\",\n",
    "            hovertext=[names[i] for i in spc_idx],\n",
    "            hovertemplate=\"<b>%{hovertext}</b><extra></extra>\"\n",
    "        ))\n",
    "\n",
    "    fig.update_layout(\n",
    "        title=f\"UMAP – Interests Embeddings 3D ({len(names)} users)\",\n",
    "        scene=dict(\n",
    "            xaxis_title=\"UMAP-1\",\n",
    "            yaxis_title=\"UMAP-2\",\n",
    "            zaxis_title=\"UMAP-3\"\n",
    "        ),\n",
    "        width=900, height=700,\n",
    "        hovermode=\"closest\"\n",
    "    )\n",
    "\n",
    "    fig.show()"
   ]
  },
  {
   "cell_type": "code",
   "execution_count": 17,
   "metadata": {},
   "outputs": [
    {
     "name": "stdout",
     "output_type": "stream",
     "text": [
      "Sofiia \n",
      "{'Openness': \"This individual demonstrates a selective curiosity, enjoying intellectual exploration and a willingness to engage with abstract or experimental art, even when not fully understood. They are keen on learning about unfamiliar topics for personal enrichment and appreciate debating differing viewpoints to broaden their understanding. However, this openness doesn't consistently extend to practical experiences; they show a preference for familiar comforts in areas like media consumption and may not actively seek out new culinary or travel experiences, suggesting a more theoretical than experiential approach to novelty.\", 'Conscientiousness': 'This individual exhibits a profound lack of conscientiousness, indicating a generally disorganized and impulsive approach to life. There is no evidence of routine planning, timely execution of tasks, or a proactive stance on responsibilities. They likely struggle with deadlines, maintain cluttered environments, and manage finances poorly, suggesting a significant challenge in self-discipline and goal attainment.', 'Extraversion': 'This individual appears to be a pronounced introvert, consistently preferring solitude and quiet environments over social interaction. They are likely to feel drained by large gatherings and seek out alone time to recharge. Their communication style tends towards private methods, and they are unlikely to initiate social engagements or engage with strangers, indicating a strong preference for independent activities and a reserved demeanor.', 'Agreeableness': \"This individual demonstrates a low degree of agreeableness, often prioritizing their own preferences and exhibiting a cautious approach to trust. They are direct in expressing their displeasure and may not readily adjust their plans to accommodate others. While capable of remembering important details for close relationships, there's a strong indication of assertiveness in group settings and a tendency to put personal needs first, suggesting a more independent and less accommodating interpersonal style.\", 'Neuroticism': 'This individual appears to be remarkably stable and resilient, showing very low levels of neuroticism. They are unlikely to be easily flustered by unexpected events or dwell on past interactions. Their mood remains generally steady, and they recover quickly from setbacks, indicating a calm and composed demeanor even in challenging situations. They exhibit a strong ability to manage stress and uncertainty without significant emotional distress.'}\n",
      "This individual presents as a deeply contemplative and analytically-minded person, driven by a profound curiosity about the intricacies of human experience and the world around them. Their intellectual pursuits suggest a cognitive style that thrives on dissecting complex systems, whether it's the hidden layers of narrative, the scientific underpinnings of human behavior, or the strategic elements of learning. They are not content with surface-level understanding, consistently seeking deeper meaning and underlying principles, evident in their appreciation for themes of sacrifice, choice, and critical thinking. Emotionally, they appear to be introspective and self-aware, valuing health, balance, and personal growth. While they enjoy creative expression through various arts, their engagement seems to extend beyond mere enjoyment to an exploration of the deeper messages embedded within. Socially, they prefer intimate, meaningful connections, gravitating towards deep conversations about profound topics like philosophy, psychology, and life's purpose. Their comfort in small groups and solitary activities like journaling and exercise indicates a need for personal space and reflection, suggesting a thoughtful and perhaps introverted disposition, yet one that is also action-oriented and committed to personal well-being. Ultimately, they are a pragmatic idealist, seeking both understanding and application, driven by a desire to learn, grow, and uncover the mysteries of existence.\n"
     ]
    }
   ],
   "source": [
    "for user in population.users:\n",
    "    if \"sofiia\" in user.name.lower():\n",
    "        print(user.name)\n",
    "        print(user.personality_profiles)\n",
    "        print(user.interests_profile)\n",
    "\n",
    "        break"
   ]
  },
  {
   "cell_type": "code",
   "execution_count": 18,
   "metadata": {},
   "outputs": [
    {
     "data": {
      "text/plain": [
       "array([-3.30094060e-02,  4.77498470e-02, -4.49435150e-02, -2.50706540e-02,\n",
       "        3.47726870e-02,  6.51938240e-02, -2.96006350e-02,  4.81477980e-02,\n",
       "       -1.73853470e-02, -2.31483620e-02,  2.77664510e-02,  1.06082890e-02,\n",
       "        7.29340200e-03,  3.35169470e-02,  2.57603300e-02,  2.23524870e-02,\n",
       "        4.99686640e-02, -7.83555300e-03,  3.75434300e-02, -5.84648400e-02,\n",
       "       -2.17503300e-02,  5.06013800e-03, -1.77676900e-02,  1.80181940e-02,\n",
       "       -1.57817100e-02,  2.67485510e-02,  6.65706000e-02, -4.49625660e-02,\n",
       "       -8.36638100e-03, -6.65961900e-02,  2.65221330e-02,  3.22378050e-02,\n",
       "       -1.45648640e-02, -3.60046630e-02,  3.18502800e-02,  1.99449030e-02,\n",
       "       -2.08784300e-02, -9.54415950e-02,  3.34392640e-02, -2.47405410e-02,\n",
       "       -3.88559660e-02,  8.86443500e-03, -4.52819700e-02, -4.20741600e-02,\n",
       "       -5.92751000e-02,  5.78369150e-03, -2.15025200e-02, -5.64406370e-02,\n",
       "        5.45081200e-02, -2.49045940e-02,  2.24926110e-03,  4.35335640e-02,\n",
       "       -4.20704370e-02, -2.76178590e-02,  2.03955490e-02, -2.98090370e-02,\n",
       "       -3.23668350e-02, -2.98903940e-02,  5.36801670e-03,  1.60171560e-02,\n",
       "       -6.40441100e-02,  3.03863530e-02, -3.23002300e-02, -2.55504270e-02,\n",
       "        3.60093240e-03, -9.44613800e-03,  3.62692360e-02, -4.65141700e-02,\n",
       "       -8.56545600e-04,  6.00549800e-02, -2.03046840e-02,  6.12496170e-02,\n",
       "       -5.74043880e-02,  3.94253300e-03,  1.92732380e-02,  3.63917600e-02,\n",
       "        5.87319100e-02, -4.59470900e-02,  1.31460570e-02,  7.48337100e-02,\n",
       "       -1.88407970e-02, -1.80769500e-02,  2.59881580e-02,  2.63125880e-02,\n",
       "        2.37285660e-02,  3.00403460e-02, -3.17935420e-02, -5.83748520e-02,\n",
       "       -4.48746420e-02, -3.82876550e-02,  2.56634840e-02, -2.07201930e-02,\n",
       "        3.25509020e-03,  1.25036680e-02,  8.45929100e-02,  3.43883400e-02,\n",
       "       -3.22951080e-02, -3.22510380e-02,  3.08988030e-03, -4.29075960e-02,\n",
       "        1.11658145e-02,  5.30020800e-03,  7.55751850e-04, -4.22599580e-02,\n",
       "        2.01384220e-02,  9.08835150e-04, -2.32367070e-02, -9.24720540e-02,\n",
       "        3.71082300e-02,  5.80599980e-02, -5.85143450e-02,  6.42260020e-03,\n",
       "        2.55503930e-02, -2.73281660e-03,  2.62203530e-02,  3.03927050e-02,\n",
       "        2.27152150e-02,  4.02710770e-02,  1.01371350e-02,  2.91400530e-02,\n",
       "       -2.99266960e-03,  2.68322490e-02, -6.22046600e-02,  1.05676190e-01,\n",
       "        4.93537560e-02,  4.21105000e-02,  3.13387800e-02,  6.43853600e-02,\n",
       "       -1.95461210e-02, -4.88335230e-02,  4.49955300e-02, -4.69007300e-02,\n",
       "       -3.26844000e-02,  4.41396530e-02, -2.43881700e-03,  4.28357270e-02,\n",
       "        1.25110950e-02, -4.48305350e-03, -1.44394880e-02,  2.18590570e-02,\n",
       "       -6.56461400e-02, -5.04973200e-02,  2.29504670e-02,  3.69299650e-02,\n",
       "       -2.36865730e-02,  1.84671620e-02,  2.24592020e-02,  1.02564270e-02,\n",
       "        6.83359570e-03, -1.01721210e-02, -6.75170100e-02,  9.02825270e-04,\n",
       "       -3.87704070e-02,  1.40222180e-02, -1.17385960e-02, -2.42554370e-03,\n",
       "       -3.42944970e-02,  3.58073640e-02,  1.76212530e-02, -4.20933250e-02,\n",
       "       -7.01468250e-03, -4.59442620e-02,  4.26994200e-02,  2.42542720e-02,\n",
       "       -9.97874400e-03, -1.88801720e-02, -4.62159500e-02, -2.94927170e-02,\n",
       "        1.21968305e-02, -3.71989860e-03,  2.27111370e-02,  5.51024860e-02,\n",
       "       -4.92538800e-02, -8.39209900e-03, -5.10753040e-03,  6.83586900e-02,\n",
       "        4.45591620e-02,  2.83348400e-02, -5.39734250e-02, -1.09355200e-02,\n",
       "        2.81663560e-02,  2.32730300e-02, -1.28747750e-02,  3.80740780e-03,\n",
       "        1.17682500e-02,  3.37971820e-02, -4.08485800e-02,  3.48036550e-02,\n",
       "       -2.82171160e-02, -4.62754330e-02,  1.67453340e-02,  8.75245500e-05,\n",
       "       -5.21900300e-03,  3.24271950e-02, -1.28029540e-01,  8.52919650e-03,\n",
       "        5.60645240e-02, -3.24336360e-02, -1.07492200e-02,  1.34699480e-02,\n",
       "        4.77500070e-02, -3.12745800e-02,  4.20377400e-02,  1.35013600e-02,\n",
       "        8.71809000e-03, -4.26508300e-02, -1.77225450e-02, -3.09819240e-02,\n",
       "        2.43792800e-02,  3.40176220e-02, -3.81325500e-02,  1.37409400e-02,\n",
       "       -1.80672030e-02,  6.03843600e-02,  3.48285400e-02,  5.69034600e-02,\n",
       "       -2.03699500e-03, -2.74407120e-02,  6.00661700e-02,  2.48597190e-02,\n",
       "       -2.82583030e-02, -4.36608540e-03, -8.99406500e-03,  6.30272900e-02,\n",
       "        1.80772280e-02, -2.39341040e-02, -4.65171800e-02,  3.43774200e-02,\n",
       "       -7.39407170e-03, -7.54543200e-02, -4.80988060e-02, -3.99259780e-02,\n",
       "       -5.50356540e-02, -2.22906250e-02,  2.14205800e-02,  2.51268610e-02,\n",
       "        4.69798500e-03, -3.81755500e-03, -1.55090970e-02, -5.23578640e-02,\n",
       "       -2.41113710e-02,  4.47895300e-05,  1.61414540e-02, -8.32037700e-02,\n",
       "        5.38962800e-02, -1.29625290e-02,  1.19744250e-02,  3.78389050e-03,\n",
       "       -7.19260500e-04, -3.88897960e-02, -5.91174640e-04, -6.11404000e-02,\n",
       "       -1.64234920e-02, -1.03852010e-02, -9.26502000e-03,  2.33011100e-02,\n",
       "        3.56048900e-02,  1.83908770e-02, -1.53756840e-02,  1.75223970e-03,\n",
       "        4.59080400e-02, -5.12210000e-02,  2.60993800e-02, -1.37834195e-02,\n",
       "        2.62153380e-03, -4.57043650e-02,  9.12698200e-03,  1.43053250e-02,\n",
       "       -3.26284670e-03,  1.90652870e-02, -1.32395880e-02,  3.29471860e-02,\n",
       "        5.91048200e-03, -6.10042400e-02, -6.15885000e-02, -9.98902300e-03,\n",
       "       -6.97919200e-03,  6.42050300e-02, -6.83142240e-02,  3.02142200e-02,\n",
       "        4.78841900e-02, -2.45643700e-02,  1.47274270e-02, -1.17815510e-02,\n",
       "        1.72126900e-02,  2.12801340e-03, -6.89473700e-02,  1.16311800e-02,\n",
       "        3.22050640e-02,  1.26963270e-02,  1.16876750e-02,  7.03027500e-02,\n",
       "       -2.43305920e-02, -5.46367600e-02,  4.98931630e-02,  2.94527820e-02,\n",
       "       -3.59224530e-03,  1.47648975e-02, -8.49106400e-03,  8.02485900e-03,\n",
       "       -1.59769280e-02, -3.46092620e-02, -3.54397930e-02,  2.47204680e-02,\n",
       "        6.88892100e-03,  9.99687500e-02, -3.62486760e-02,  2.99675610e-02,\n",
       "       -2.15397810e-02,  3.19001530e-02,  3.14907660e-02,  9.21870300e-03,\n",
       "       -1.21345840e-02,  6.62864600e-03, -7.75119400e-02, -9.92068900e-03,\n",
       "       -5.49206700e-02, -1.77275650e-02,  1.33234280e-02,  2.26001590e-02,\n",
       "        5.69087000e-02, -3.97381700e-02,  2.84574300e-04, -2.56449150e-02,\n",
       "       -1.75565720e-02,  1.12589000e-02, -3.29229100e-02, -2.89758260e-02,\n",
       "       -4.69981580e-02,  4.75641430e-03,  3.31712140e-03, -6.00426940e-02,\n",
       "       -4.84411230e-03, -3.10878810e-02,  6.67571900e-04, -3.06770780e-02,\n",
       "        9.35712800e-03,  1.06911720e-02,  1.24246655e-02,  2.15205800e-02,\n",
       "        2.12086700e-02, -2.38114040e-02,  1.84096020e-02, -1.55066030e-02,\n",
       "        4.74965420e-02,  1.70985370e-02,  8.41557800e-04, -7.11976600e-03,\n",
       "        6.27016700e-02, -1.40322205e-02,  7.34960200e-02,  8.14968050e-02,\n",
       "        1.05771550e-02, -6.62558300e-02,  4.03158200e-02, -1.46366260e-02,\n",
       "        2.64302550e-03,  1.75428450e-02,  1.67166160e-02, -1.29920580e-02,\n",
       "       -2.14875600e-02,  1.36215140e-02, -2.09806190e-02,  7.24511000e-02,\n",
       "        5.60135060e-02,  1.76556760e-02, -2.57040170e-02,  2.97590100e-02,\n",
       "        1.54509060e-02, -2.77794260e-02, -2.92532840e-02,  7.61350840e-02,\n",
       "        5.14220800e-02,  5.14724400e-03, -5.57496360e-02, -3.55407400e-02,\n",
       "        2.57182800e-02, -7.28645900e-03, -1.90405900e-02, -6.42248760e-03,\n",
       "       -2.88029100e-02, -5.64488000e-02, -7.32057800e-02,  4.61834220e-02,\n",
       "        1.31229860e-02,  4.42319830e-05, -7.44078400e-02, -3.94325200e-02,\n",
       "       -2.02402140e-02,  3.50077380e-02, -4.21675300e-02,  9.91280600e-03,\n",
       "       -5.89213150e-03,  5.36456700e-02,  3.77912450e-02,  2.62820350e-02,\n",
       "       -1.43932600e-02,  9.81322800e-03, -6.13192130e-02, -4.20700540e-02,\n",
       "        4.31034530e-03, -1.10416650e-02,  8.49102960e-02, -5.05969520e-02,\n",
       "        3.95843350e-02, -4.30226440e-02,  5.26715900e-02,  1.48536940e-02,\n",
       "        4.57921100e-02,  6.96661600e-03, -2.20925920e-02, -2.33349990e-02,\n",
       "       -2.15452760e-02,  4.50093080e-02,  2.89314200e-02,  2.05513780e-02,\n",
       "       -2.32526850e-02, -2.66107340e-02, -1.93039960e-02,  1.76537280e-02,\n",
       "        9.52008300e-03,  2.46606880e-02,  4.82438400e-02,  2.40399070e-02,\n",
       "       -2.94798570e-03, -4.28297450e-02, -3.70539900e-02, -3.80956640e-02,\n",
       "       -1.24329320e-02,  1.99073630e-02,  4.85330200e-03,  5.14879340e-02,\n",
       "       -5.34332360e-03, -2.03358030e-02,  2.51959660e-02,  2.85493940e-02,\n",
       "        2.54954700e-02, -4.72695120e-02, -2.53166980e-03,  2.30367970e-03,\n",
       "        3.89677900e-02, -9.18091300e-03,  3.52728650e-03,  1.44593740e-02,\n",
       "       -4.79784980e-02, -3.74261670e-04,  2.10353840e-02,  6.46727700e-03,\n",
       "       -4.09327450e-02, -5.11586500e-03,  2.21666620e-02, -3.60337160e-02,\n",
       "        5.92987600e-03, -1.63672100e-02, -4.51619740e-02,  2.14843100e-02,\n",
       "        2.01672540e-02, -1.20602520e-02,  4.29330530e-03, -1.78627860e-02,\n",
       "       -6.91019000e-02,  1.66510360e-02,  4.40130340e-03,  4.07100950e-02,\n",
       "       -1.37129070e-02, -2.27458600e-02, -3.42444030e-02,  3.49236130e-02,\n",
       "       -4.34293970e-03,  5.98529540e-02,  3.56786900e-02, -4.07443120e-02,\n",
       "        1.12009550e-03,  4.13013920e-02, -2.72760840e-02,  8.20081900e-03,\n",
       "       -1.01800120e-02, -4.03245400e-02, -1.00647470e-02, -7.72587000e-03,\n",
       "       -2.63971130e-02,  2.42634320e-02,  1.04787180e-02, -1.45590740e-03,\n",
       "        3.70466700e-02,  1.76328050e-02,  9.37962150e-04, -1.66858140e-02,\n",
       "       -6.23215250e-02, -1.11993090e-02, -2.96712760e-03, -1.52631860e-02,\n",
       "       -3.94736650e-03, -1.08375960e-02,  3.57349550e-02,  4.69889400e-03,\n",
       "        3.76701600e-02, -7.32409600e-03, -1.26471000e-03,  4.02729250e-02,\n",
       "        5.57176320e-02,  1.34245080e-02,  3.88751400e-02, -6.41448900e-02,\n",
       "       -3.85873220e-04, -2.93295570e-02, -5.93572850e-03,  1.05373550e-02,\n",
       "       -2.26044230e-02,  1.44409220e-02,  8.33421700e-03, -1.64181780e-02,\n",
       "        3.01184840e-02, -2.82630600e-02,  4.44325400e-03, -1.37742710e-02,\n",
       "       -4.25862370e-02, -3.89087130e-02, -2.05874670e-02,  4.01542300e-02,\n",
       "       -4.15807780e-02, -4.40875300e-02,  1.13051030e-02, -5.81521240e-02,\n",
       "        9.14040200e-03, -2.67110540e-02,  5.05398250e-02,  5.41823400e-02,\n",
       "       -6.08403420e-02, -4.21717160e-03,  1.55011370e-02,  7.70772600e-02,\n",
       "        2.11586040e-02,  1.19717010e-02, -1.22614160e-02,  4.92914360e-02,\n",
       "        5.25053960e-02,  4.41921200e-03, -3.71631830e-05,  3.78820560e-02,\n",
       "        1.98610020e-02,  5.38157500e-02,  2.76448220e-02,  1.05322720e-02,\n",
       "        6.05773130e-03,  1.06858910e-02,  3.35690040e-02,  4.16207000e-02,\n",
       "        3.32532260e-02, -2.52040920e-03, -3.83883450e-02,  1.89405870e-02,\n",
       "       -6.77267240e-02,  1.06991595e-02, -2.62898260e-02,  1.27727040e-02,\n",
       "        4.39561830e-02, -2.29318370e-03, -2.55461800e-02, -6.47299400e-03,\n",
       "       -4.75074460e-02, -2.49257800e-02,  5.75963000e-02, -1.13522430e-02,\n",
       "       -1.63079910e-02, -4.87472000e-02, -3.71748730e-02,  1.26633260e-02,\n",
       "       -1.55706330e-02, -3.37826650e-02, -3.47773170e-02,  4.43903250e-02,\n",
       "       -2.26144380e-02, -1.03258090e-02,  5.06542330e-02, -1.10337480e-02,\n",
       "       -5.29311560e-02,  2.08669580e-02,  5.10546400e-03, -4.22508640e-02,\n",
       "       -1.55645420e-02,  1.26736670e-02,  3.51297790e-03,  2.07985710e-02,\n",
       "        5.80532500e-03, -7.88180700e-02,  3.05994600e-02, -1.26299830e-02,\n",
       "        8.45535400e-02, -2.35135610e-02,  3.45012300e-02, -4.10030220e-03,\n",
       "        2.01594140e-02,  6.44591400e-03, -2.95697380e-02,  2.43520660e-02,\n",
       "       -7.18648100e-02,  6.34254960e-02, -5.31447730e-03,  6.53952870e-03,\n",
       "        4.48939460e-02, -3.63189470e-02,  2.55886260e-02,  1.55934160e-02,\n",
       "        2.33492260e-02, -9.31174400e-02, -2.54161040e-02, -2.67748390e-02,\n",
       "       -3.43631560e-06, -2.98662730e-02, -5.78991170e-02,  8.56148300e-02,\n",
       "       -3.32252530e-02, -1.14904605e-02, -1.18298260e-01,  3.29595130e-02,\n",
       "       -1.06530380e-02, -6.43113000e-02, -5.71734270e-03,  4.62855030e-02,\n",
       "        3.25105500e-04,  7.83662800e-02, -4.22305330e-03, -3.19091160e-02,\n",
       "        9.88806700e-03,  1.90878790e-02,  4.36350140e-02, -1.34489060e-02,\n",
       "        1.13119120e-01, -5.22739950e-03, -1.60774380e-02, -7.84800400e-03,\n",
       "       -1.15031210e-02, -6.02253270e-02,  2.50924580e-02, -5.63723260e-02,\n",
       "       -2.92202800e-02,  1.67466330e-02,  1.13084250e-02,  2.81364000e-02,\n",
       "       -7.51065040e-03,  1.13533214e-01,  4.63569050e-02, -2.48191260e-02,\n",
       "       -8.09366100e-03,  4.20813150e-02, -2.59161130e-02,  1.56986470e-02,\n",
       "       -8.75581400e-03,  3.76667180e-03, -2.20463200e-02,  6.16072640e-02,\n",
       "        3.23191550e-02,  4.33185660e-02, -5.91974850e-02, -1.08517440e-02,\n",
       "        2.19833600e-02, -6.13642400e-02, -3.77276000e-02,  2.38750450e-02,\n",
       "       -2.06787600e-02,  2.61765400e-02,  6.80985300e-02, -3.69445160e-02,\n",
       "       -6.08374800e-03,  7.07314960e-03, -6.39712000e-02,  3.81880740e-02,\n",
       "       -2.95993570e-02, -6.42909100e-02, -1.33703720e-02, -2.15930550e-02,\n",
       "        2.72544550e-02,  8.14368800e-02, -3.09707280e-02,  3.67663900e-02,\n",
       "        3.10015420e-02,  1.67972240e-02, -1.72117860e-02, -4.47029300e-02,\n",
       "       -4.51923500e-03,  2.22077570e-02, -9.51071100e-03, -3.30305660e-02,\n",
       "       -5.23499850e-02,  2.36288010e-02,  9.70664000e-03, -2.87378020e-02,\n",
       "        1.47209150e-02, -3.46118330e-03, -7.73639560e-03, -2.91551720e-02,\n",
       "        1.87497060e-02,  4.65068560e-02,  1.56412070e-02,  7.51611000e-02,\n",
       "       -3.81042850e-02, -2.17996460e-02, -5.10180400e-02, -7.48965140e-03,\n",
       "       -3.14452830e-02, -3.16788550e-02, -5.94669200e-03, -9.06116500e-03,\n",
       "       -1.43990140e-02, -2.55598350e-02, -3.39398270e-02, -1.75991150e-03,\n",
       "       -1.49788590e-03,  4.76867300e-02, -4.69361000e-02,  5.37715670e-02,\n",
       "        1.73011000e-02,  3.65923570e-02, -4.40044800e-02, -1.69138570e-02,\n",
       "        2.64903620e-02,  3.41198070e-02,  3.86843420e-02,  2.59142720e-03,\n",
       "        2.35642460e-02, -1.14277850e-02,  3.44822400e-03, -3.33569760e-03,\n",
       "       -2.15494820e-02, -2.65793820e-02, -5.23746350e-02,  3.26376630e-02,\n",
       "        9.53860700e-03,  3.42147300e-02,  5.80959100e-02, -2.50140300e-02,\n",
       "       -6.90840000e-02,  6.35088000e-02, -7.18141650e-02, -2.43000630e-02,\n",
       "        4.60325400e-02, -7.88337260e-04,  3.39926100e-02,  3.43256780e-02,\n",
       "        3.59117720e-02, -3.64660470e-02, -3.26055440e-02, -4.29134350e-03,\n",
       "       -4.48969800e-03, -2.26279830e-02, -6.11166660e-02, -4.55142860e-02,\n",
       "       -2.25981210e-02, -4.71936430e-02, -4.20839080e-02,  7.97987600e-02,\n",
       "       -4.53108490e-04,  2.01144520e-02, -2.42344810e-02, -8.93108400e-03,\n",
       "        3.21599360e-02, -1.22013360e-02,  2.48717700e-02,  7.74753200e-02,\n",
       "       -2.63421260e-02,  5.66863230e-02,  4.71611500e-02,  2.88490860e-02,\n",
       "       -7.28862030e-03, -3.60414720e-02,  4.56930500e-02, -7.81863300e-02])"
      ]
     },
     "execution_count": 18,
     "metadata": {},
     "output_type": "execute_result"
    }
   ],
   "source": [
    "user.conscientiousness_embedding"
   ]
  },
  {
   "cell_type": "code",
   "execution_count": 20,
   "metadata": {},
   "outputs": [
    {
     "data": {
      "application/vnd.plotly.v1+json": {
       "config": {
        "plotlyServerURL": "https://plot.ly"
       },
       "data": [
        {
         "hovertemplate": "<b>%{hovertext}</b><extra></extra>",
         "hovertext": [
          "William Castaneda",
          "Michelle \"MJ\" Jones",
          "Jamie Chen",
          "Raymond Ortiz",
          "Sarah Chen",
          "Susan West",
          "Daniel Mercer",
          "Brian Thornton",
          "Heather Jimenez",
          "Emily Parsons",
          "Beth Clarke",
          "Gina Villanueva",
          "Olivia Chen",
          "Olivia Chen",
          "Carl Snow",
          "Anya Sharma",
          "Nicholas Russo",
          "Mary Ball",
          "Chloe Nguyen",
          "Erin Thomas",
          "Micheal Roy",
          "Stacy Anderson",
          "Elena Rodriguez",
          "Billy Morales",
          "Kevin Green",
          "Timothy Stewart",
          "Lena Petrova",
          "Wren Kestrel",
          "Eliza Vance",
          "Benjamin Jones",
          "Elizabeth Williams",
          "Tommy Barker",
          "Sandra Kemp",
          "Allison Brown",
          "Selena Garcia",
          "Bryan Chambers",
          "Amanda Reynolds",
          "Jeffrey Horn",
          "Ace Rodriguez",
          "Daniel Williams",
          "Kimberly King",
          "James Vargas",
          "Beth Kelly",
          "Cheryl Glass",
          "Amber Bradley",
          "Helen Gomez",
          "Chelsea Bird",
          "Alexander Tucker",
          "Robert Hill",
          "Donna Miller",
          "Alyssa Roberts",
          "Tammy Henderson",
          "Linda Perez",
          "Nicole Fisher",
          "Robert Campbell",
          "Jennifer Cummings",
          "Russell Gross",
          "Krystal Mckenzie",
          "Jessica Acevedo",
          "Eliza \"Sunshine\" Vance",
          "Sarah Jenkins",
          "Kristen Alvarez",
          "Heather Luna",
          "Dr. Jordan Shannon",
          "Dustin Mullen",
          "Beverly Love",
          "William Foster",
          "Jerry Stanley",
          "Joshua Hatfield",
          "Nicholas Williams",
          "Michelle Rogers",
          "Elara Vance",
          "Daniel Porter",
          "Maya Rodriguez",
          "Angela Scott",
          "Jennifer Ray",
          "Edward Dominguez",
          "Maurice Nichols",
          "Christopher Jones",
          "Evelyn Thorne",
          "Dawn Howard",
          "Jennifer Mercado",
          "Amelia Hayes",
          "Ethan Vance",
          "Elara Meadowlight (legally John Rogers)",
          "Edward Stephens II",
          "Alice Chen",
          "Brenda Santos",
          "Stella Maris",
          "Joshua Parker",
          "Eleanor Vance",
          "Spencer White",
          "Kimberly Parrish",
          "Ryan Carey",
          "Yesenia Whitney",
          "Brent Contreras",
          "Raymond Martin",
          "Cindy Ramirez",
          "Elizabeth Webb",
          "Mitchell Navarro",
          "Denise Robinson",
          "Larry Rivers",
          "Richard Sims",
          "Tammy Mckee",
          "Amanda Padilla",
          "Dominique Turner",
          "Caroline Thompson",
          "Sarah Chen",
          "Cheryl Erickson",
          "Anya Sharma",
          "Debbie Combs",
          "Andrew Franco",
          "Holly Robbins",
          "Kimberly Brady",
          "William Frey",
          "Andrew \"Aethelred\" Sterling",
          "Sheila Clark",
          "Samuel Morrison",
          "Ryan Lee",
          "Jeffrey Rojas",
          "Russell Curtis",
          "Katherine Hall",
          "Jacob Smith",
          "Katie Collier",
          "James Lamb",
          "Darlene Lawrence",
          "Luna Skye Hawthorne",
          "Erik Peterson",
          "Lisa Mitchell",
          "Luna Seraphina Willow",
          "Aurora Vance",
          "Jason Mckinney",
          "Jamie Gonzales",
          "Tiffany Moody",
          "Maria Vazquez",
          "Carlos Torres",
          "Justin Miller",
          "Jose Ellison",
          "Blake Lawrence",
          "Christopher Travis",
          "Kenneth Escobar",
          "Sarah Shaffer",
          "Jesse Holland",
          "Anne Peterson",
          "Elara Vance",
          "Michael Watson",
          "Linda Garcia",
          "Andrea Davis",
          "Thomas Webster",
          "Lilith Thorne",
          "Jennifer Wolfe",
          "Linda Richardson",
          "Jerry Rogers II",
          "Jill Nolan",
          "William Morrison",
          "Andrew Johnson",
          "Jamie Woodward",
          "Clara Ellison",
          "John Bishop",
          "Maya Rodriguez",
          "Devin Harris",
          "Sarah Chen",
          "Rebecca Sanchez",
          "Cameron Avery",
          "Laura Graham",
          "Elara Vance",
          "Sarah Chen",
          "Elara Vance",
          "Kristina Marshall",
          "Larry Rodriguez",
          "Robert Harrell",
          "Albert Hunt",
          "Clara Bellewood",
          "Chloe Nguyen",
          "Adam Woodard",
          "Akari Tanaka",
          "Jennifer Butler",
          "Amelia Vance",
          "Sabrina George",
          "Lyra Meadowsweet",
          "Helena Vance",
          "Victoria Martinez",
          "Mindy Lee",
          "Carla Williams",
          "Robert Ochoa",
          "Cesar Yoder",
          "Kelly Nash",
          "Crystal Hall",
          "Maya Angelou",
          "Ashley Austin",
          "Tiffany Goodman",
          "Kimberly Morales",
          "Amanda Christensen",
          "Heather Barnes",
          "Luna \"Hex\" Blackwood",
          "Christine Long",
          "Angela Martinez",
          "Anya Petrova",
          "Lindsey Gray",
          "Elara Vance",
          "Jeremy Kennedy",
          "Larry Wilson",
          "Richard Yang",
          "Carrie Taylor",
          "Laura Wall",
          "Terri Murphy",
          "Anya Sharma",
          "Maya Rodriguez",
          "Maya Rodriguez",
          "Elena Rossi",
          "Shirley Henderson",
          "Dennis Wallace",
          "Miguel Johnston",
          "Madison Brooks",
          "Sean Stone",
          "Brian Acosta",
          "Lawrence Avila",
          "Elara Meadowlight",
          "Stephen Bryant",
          "Olivia Chang",
          "Eric Thompson",
          "Linda Lee",
          "Angela Ortiz",
          "William Carpenter",
          "Kari Clark",
          "Ella Sanchez",
          "Jennifer Glover",
          "Luna Maeve",
          "Lori Butler",
          "Liam Vance",
          "Luna Everhart",
          "Anna Price",
          "Julie Fischer",
          "Chloe Davis",
          "Glen Harris",
          "Anya Sharma",
          "Dylan Phillips",
          "Ricardo Warren",
          "Deborah Johnson"
         ],
         "marker": {
          "color": "royalblue",
          "opacity": 0.75,
          "size": 6
         },
         "mode": "markers",
         "name": "conscientiousness-users",
         "type": "scatter",
         "x": {
          "bdata": "kmNGQfyLRUHZsmNBEoaSQcxaZ0HIaEJBZrJMQT4NmEF5tWFBdLB6QVPdcEGgJ5lBn4B4QWPnlEHfgVhBujVpQSuGgEFpp39BdFKAQa3/bUEhG01BxjdeQeZ4iUGgzolBAdV9QVW+UkFyyURBcJaFQSxwU0EzqXZBiTZVQaomgUGi71hBK+h3Qaz+g0HPflNB40aBQcSHYkH80X9BGUZ/QXiRYkHw5kNByiBiQRKzhEEVeGRBwt1rQV0EgEHc9GZBtruAQXblRUHzBZZBZbKGQQ/XckFlXXxB+JhgQdFpe0EHxX1BMidlQYHcgEFlRZhB7HtNQaXefUHwVndBdOtIQapQR0Er33ZBJipDQT+XfEEnWYlBlySYQW0SM0GmRXVBB69vQQt7ZkGO4GJBHxCBQZzZdUG4QWxB+PBYQdoYiUGHz35BUnV4QVSub0H50FBBa0hGQfe4PkHFhnlB96h5QVHiS0HaIWFBdBlTQQNccUHBd4hBnJ01QQAHTUEzeIJBUlJUQWozgUES+IhBAB5MQQT4WEEAljdBop5vQZqfT0GJcWRBvGlbQdTOakE2E0JB+8qEQY2+YEHRemxBWW6BQf3RX0HaC2pBMEhcQVhoNkHx6INBAJtgQWzzVUEfvXxBHM1FQaT4TUHBt1dBf+iJQWEGYUGN6VRB9pSYQfSEiUFHKTZBgByVQVy3U0GcN0dBQ6RmQWXGfUGqpFlBkxuDQVTOcUHCcYJB9/ZkQUNyT0Ee1FdBvnB5QXLPf0E2hURBnshNQXRvhUF+X4RBlZWEQS4QdEFV1YBBjx50QSTCckGFX1BBb+tZQaUWiUFd7XpB75A4Qc/uekEfQE9BFeJpQWOvUEHTxmxBpeFZQZUka0Gi4VpBloNoQV2mekEpE4VBXptiQYiAU0GAVl1BIdBRQRZaX0Hpl3RBJ4mFQQoMSEFnFn1BKjxMQW8dR0FJ9YBBNlE/QZfkgEGrvHtBKXV0QV/rh0G5cYNB0e83Qd3bgkFEtYBBavuWQbC8WUH7ioBBtHpvQee2T0HvUpVBkmluQWoIT0HnjoFByOqBQUNLRkF1VEVBMGZlQQljg0E0V0VBdHCKQXj+c0Eso05BsFhkQUX1g0HGRmtByeJKQSmTWkHDIHRBzm+JQYVJT0FnlHlB+/WWQbhQa0EbY19Bph1jQX1kh0Fc4mtBY1CZQWxhf0F8RVtBexxgQQ4WZkGKcJhB0kqWQc77TkGYEkVB075bQT+STEG+8llB32iTQa/SbkEBc15BVS6EQcNeZkE=",
          "dtype": "f4"
         },
         "xaxis": "x",
         "y": {
          "bdata": "Z4QPQW2GKkFEBBtBn4A7QB0U8UC1FyZBih8uQZEZSUBenfJARSMWQZf1N0GvXVVA+aM+QWJ9N0DZmSBBdiIYQUjlPUEkLSNB0XQPQfBbNkE8IBlBY6EvQbbfE0HEWh1BxJURQd3F80BcDB9BXyE7QV7bAkEdyvxAH0HxQKR+OkGxoCxB5CIvQYIAMkHvK/VAzk8WQTgH/kCiIyhB/iD7QDEiP0GQ+y9BzakbQZW7CkGyV/FAnf0jQXqg9kBZofxAM0j0QEtPEEHMEDFA08MKQbRrBEHoSzxBREYkQfK6AEHUvQlB65kpQVYT+EAimC5A3EAbQfFrOEG7iPNADpkGQZ0UDkE7U/dAZWUaQX///UAAuxlB7N89QPLZEEHUaghBhVP9QDFUB0G0KkNBYis9QavoHEHEKwZBMeP2QJSDC0EIChlByi8mQRBOG0GZNRFBqN0JQXPRBEGZLR9BsN0wQd7//UBcqxNBxyUCQRZdGEF7FSNBt/kLQcOtLEEAwjRBw+wVQfDAAEGufA9Bc6U2QXQ0KkGtDA5Bczv1QAlNG0GQHBVBMAUtQT7dLkFzqhZBdXA3QXY7JEEFgxpBKk09Qe8IF0E12jtBeZ0kQSWLFEGAEwJBecNBQbvIHkG30wtBh3sQQWsiGUEtfwlBARkfQdli90CwrfxANXA1QDa4C0G2lApBKJ84QAwEN0FZdiVBdXBCQSV2+EDXIRVBsIIJQYTZHEEMGzxBFeAKQaqAIUFyPvNAG6IjQdr7GkF6mihBISsLQQ+yAkGVXT5BBOgsQdq6J0EI7zBBWBAuQcBW80B34BNBU9ojQdnMDEEWFxBB5ecJQdyKOkG26iNBmA70QE1KEkHT0TpBB8XtQHkaGEH6OyxBYvU/QZIAN0FAEj1B2HMvQenvGUE5yEBBTlUuQZbpKUEzNQRBga0BQabwMEG8kyZBZVkrQfr+CUHQ7CVB2s0DQf069kAHbSJBMDsqQVQ1NUFNpDNBHccKQYFHO0EV3zFBQvhKQEJJK0HUIwRB0eAAQUy9C0HYeSlA7B4VQYn4+kBRTixB0GNBQRSkLUHejDFBEU1EQchDOkF2TgFBxkAhQVIjM0EMoShB2KcTQUZxK0GMqRtBitUyQfcDIEEO+zVB5asjQdLVK0GcSgRBTG46QBcZPUGZFEBBAREBQW4SKkEgZARBxyJSQNAqBEHwZBtBljw9QVPSJkFnqj1AJo9MQMQIAEFKUSJBis41QcEAAkF77iJBKW04QJXMC0GZmRlBaxlAQRaAEkE=",
          "dtype": "f4"
         },
         "yaxis": "y"
        },
        {
         "hovertemplate": "<b>%{hovertext}</b><extra></extra>",
         "hovertext": [
          "Yahya Rahhawi",
          "Nikola Tesla",
          "Ada Lovelace",
          "Alan Turing",
          "Aristotle",
          "Nelson Mandela",
          "Mahatma Gandhi",
          "Cleopatra",
          "Steve Jobs",
          "Elon Musk",
          "Sherlock Holmes",
          "Tony Stark",
          "Walter White",
          "Leonardo da Vinci",
          "Greta Thunberg",
          "Sofiia "
         ],
         "marker": {
          "color": "crimson",
          "line": {
           "width": 2
          },
          "size": 9,
          "symbol": "diamond"
         },
         "mode": "markers",
         "name": "conscientiousness-special",
         "type": "scatter",
         "x": {
          "bdata": "NgJ8Qb+Hx0BGkcZAjzDJQCq/ykCTScNACujAQCVK0UBoaMZA2LbEQCEzy0AqM8tAgLPPQEVrxECgp8JAYl6YQQ==",
          "dtype": "f4"
         },
         "xaxis": "x",
         "y": {
          "bdata": "PHosQQ52UUFsh1FBGXRTQUOsUUHUuVZB9h1YQW8UUEEmC1dBydlXQfjDVEH811JBS1BTQc5ZUEF9xFdBAmVBQA==",
          "dtype": "f4"
         },
         "yaxis": "y"
        },
        {
         "hovertemplate": "<b>%{hovertext}</b><extra></extra>",
         "hovertext": [
          "William Castaneda",
          "Michelle \"MJ\" Jones",
          "Jamie Chen",
          "Raymond Ortiz",
          "Sarah Chen",
          "Susan West",
          "Daniel Mercer",
          "Brian Thornton",
          "Heather Jimenez",
          "Emily Parsons",
          "Beth Clarke",
          "Gina Villanueva",
          "Olivia Chen",
          "Olivia Chen",
          "Carl Snow",
          "Anya Sharma",
          "Nicholas Russo",
          "Mary Ball",
          "Chloe Nguyen",
          "Erin Thomas",
          "Micheal Roy",
          "Stacy Anderson",
          "Elena Rodriguez",
          "Billy Morales",
          "Kevin Green",
          "Timothy Stewart",
          "Lena Petrova",
          "Wren Kestrel",
          "Eliza Vance",
          "Benjamin Jones",
          "Elizabeth Williams",
          "Tommy Barker",
          "Sandra Kemp",
          "Allison Brown",
          "Selena Garcia",
          "Bryan Chambers",
          "Amanda Reynolds",
          "Jeffrey Horn",
          "Ace Rodriguez",
          "Daniel Williams",
          "Kimberly King",
          "James Vargas",
          "Beth Kelly",
          "Cheryl Glass",
          "Amber Bradley",
          "Helen Gomez",
          "Chelsea Bird",
          "Alexander Tucker",
          "Robert Hill",
          "Donna Miller",
          "Alyssa Roberts",
          "Tammy Henderson",
          "Linda Perez",
          "Nicole Fisher",
          "Robert Campbell",
          "Jennifer Cummings",
          "Russell Gross",
          "Krystal Mckenzie",
          "Jessica Acevedo",
          "Eliza \"Sunshine\" Vance",
          "Sarah Jenkins",
          "Kristen Alvarez",
          "Heather Luna",
          "Dr. Jordan Shannon",
          "Dustin Mullen",
          "Beverly Love",
          "William Foster",
          "Jerry Stanley",
          "Joshua Hatfield",
          "Nicholas Williams",
          "Michelle Rogers",
          "Elara Vance",
          "Daniel Porter",
          "Maya Rodriguez",
          "Angela Scott",
          "Jennifer Ray",
          "Edward Dominguez",
          "Maurice Nichols",
          "Christopher Jones",
          "Evelyn Thorne",
          "Dawn Howard",
          "Jennifer Mercado",
          "Amelia Hayes",
          "Ethan Vance",
          "Elara Meadowlight (legally John Rogers)",
          "Edward Stephens II",
          "Alice Chen",
          "Brenda Santos",
          "Stella Maris",
          "Joshua Parker",
          "Eleanor Vance",
          "Spencer White",
          "Kimberly Parrish",
          "Ryan Carey",
          "Yesenia Whitney",
          "Brent Contreras",
          "Raymond Martin",
          "Cindy Ramirez",
          "Elizabeth Webb",
          "Mitchell Navarro",
          "Denise Robinson",
          "Larry Rivers",
          "Richard Sims",
          "Tammy Mckee",
          "Amanda Padilla",
          "Dominique Turner",
          "Caroline Thompson",
          "Sarah Chen",
          "Cheryl Erickson",
          "Anya Sharma",
          "Debbie Combs",
          "Andrew Franco",
          "Holly Robbins",
          "Kimberly Brady",
          "William Frey",
          "Andrew \"Aethelred\" Sterling",
          "Sheila Clark",
          "Samuel Morrison",
          "Ryan Lee",
          "Jeffrey Rojas",
          "Russell Curtis",
          "Katherine Hall",
          "Jacob Smith",
          "Katie Collier",
          "James Lamb",
          "Darlene Lawrence",
          "Luna Skye Hawthorne",
          "Erik Peterson",
          "Lisa Mitchell",
          "Luna Seraphina Willow",
          "Aurora Vance",
          "Jason Mckinney",
          "Jamie Gonzales",
          "Tiffany Moody",
          "Maria Vazquez",
          "Carlos Torres",
          "Justin Miller",
          "Jose Ellison",
          "Blake Lawrence",
          "Christopher Travis",
          "Kenneth Escobar",
          "Sarah Shaffer",
          "Jesse Holland",
          "Anne Peterson",
          "Elara Vance",
          "Michael Watson",
          "Linda Garcia",
          "Andrea Davis",
          "Thomas Webster",
          "Lilith Thorne",
          "Jennifer Wolfe",
          "Linda Richardson",
          "Jerry Rogers II",
          "Jill Nolan",
          "William Morrison",
          "Andrew Johnson",
          "Jamie Woodward",
          "Clara Ellison",
          "John Bishop",
          "Maya Rodriguez",
          "Devin Harris",
          "Sarah Chen",
          "Rebecca Sanchez",
          "Cameron Avery",
          "Laura Graham",
          "Elara Vance",
          "Sarah Chen",
          "Elara Vance",
          "Kristina Marshall",
          "Larry Rodriguez",
          "Robert Harrell",
          "Albert Hunt",
          "Clara Bellewood",
          "Chloe Nguyen",
          "Adam Woodard",
          "Akari Tanaka",
          "Jennifer Butler",
          "Amelia Vance",
          "Sabrina George",
          "Lyra Meadowsweet",
          "Helena Vance",
          "Victoria Martinez",
          "Mindy Lee",
          "Carla Williams",
          "Robert Ochoa",
          "Cesar Yoder",
          "Kelly Nash",
          "Crystal Hall",
          "Maya Angelou",
          "Ashley Austin",
          "Tiffany Goodman",
          "Kimberly Morales",
          "Amanda Christensen",
          "Heather Barnes",
          "Luna \"Hex\" Blackwood",
          "Christine Long",
          "Angela Martinez",
          "Anya Petrova",
          "Lindsey Gray",
          "Elara Vance",
          "Jeremy Kennedy",
          "Larry Wilson",
          "Richard Yang",
          "Carrie Taylor",
          "Laura Wall",
          "Terri Murphy",
          "Anya Sharma",
          "Maya Rodriguez",
          "Maya Rodriguez",
          "Elena Rossi",
          "Shirley Henderson",
          "Dennis Wallace",
          "Miguel Johnston",
          "Madison Brooks",
          "Sean Stone",
          "Brian Acosta",
          "Lawrence Avila",
          "Elara Meadowlight",
          "Stephen Bryant",
          "Olivia Chang",
          "Eric Thompson",
          "Linda Lee",
          "Angela Ortiz",
          "William Carpenter",
          "Kari Clark",
          "Ella Sanchez",
          "Jennifer Glover",
          "Luna Maeve",
          "Lori Butler",
          "Liam Vance",
          "Luna Everhart",
          "Anna Price",
          "Julie Fischer",
          "Chloe Davis",
          "Glen Harris",
          "Anya Sharma",
          "Dylan Phillips",
          "Ricardo Warren",
          "Deborah Johnson"
         ],
         "marker": {
          "color": "royalblue",
          "opacity": 0.75,
          "size": 6
         },
         "mode": "markers",
         "name": "openness-users",
         "type": "scatter",
         "x": {
          "bdata": "zK84QQWfXkGkPUVBFoVFQdOTK0H3UitB6RcVQQPIH0F9TClBsOk0QWxFMEGejF5Bby9lQSWtKEGLQjdBw+1UQa02DkGqQydBkZ1dQVQrPkHFKjpB4+FMQUoGNkFWuilBniBdQU31NkH1MiJBJTFVQftLWEFwjGVBGns1QYHfKEHGIWNB4gY6QfdlV0GOJi9BifQ5QUrIOkHCmCRBZu9UQTE2P0EUOSNBVANGQUtEO0H5HzRB2pNdQY8NWkHCc0pBmKlLQbN7PUFd5B1BEzlGQRCrXEGG9i9BFasjQd0hOkELnDRBaohVQXPVTEFJs0dBGlokQb0qSEG3yEZBjP0+QTXlZ0F56VBBbNovQXRdR0H5AxFBqm4tQYNYXkHbYSxBYkElQdwFVUG2H0VBmUZTQSeTP0FB+i1B5K9PQb29LEGCPFxBDsdkQWmfJUFnsTtBaQlEQUWrXkH1tDJBEdUmQQxFNkHfmyBBAP9kQbLMXUGV9UNBAuNnQZRMMEFIf0hBsXtaQXHRUEHSbl5B6FxiQYZuSkEhVSZBqskNQZN/Y0H4YCNB13EuQUTbOkHlLy1BLjg8QTDIZEFIeERB5XRgQf1dRkGCOFJBcxRdQdhVO0FJwTBBR2BWQeahJEG74BxBQoYOQYn0R0EUzBVBFJ5DQf4zWUEbf2ZBYXFGQRAOL0HVMxxBxQFjQdo8YEG7oyVB0hExQXRsZUEdlklBBh49QaxdXEEFZzlBHkBLQTyQYUF5q11B8hE5QctsKEEgnWdBW3YrQTARR0ECaU5B8LcmQc5oN0G6zSZB9DNgQfcYMkEpLjxByYZKQcx2MEG2Uy5BqWVrQVwOPEGvSx9BMeJnQa/ESEGX70JBCjUgQQhVJEFLtGNBrpU2Qa5wSEFEnmRBJ1dIQZDCQkEPcUJBh71FQcYNY0FyH0lBP3ksQYguS0EfF1VB9+k9QfrvHUHxPD9BDMRSQZDvVUGV5lFBvUtlQXDOEUEpLCdBVOQNQXNcH0Gu3GNBKgMhQRmXJ0FRtUZBaT5jQd3AX0GeeltB+DRUQXfbUUGRn2NBaTIwQQnyKUGZ3WVBDVpJQTB1JkFUyyhBtx8fQZuMJ0EETktBlE80QXsHR0HJ2VVBiF4mQQfVZUF6rDlBMcZDQQOrUEG2nTdBlElLQaEKMEGQkDJBOzsRQZIuKEGKV05BVQU0QXclUkG8VzxB7ctLQXfIN0F2/klBHrsgQY78NUFf6z5But9QQUfXKEHzSmBBI4kyQU1jUkFgXiZBs28/QZHoK0E=",
          "dtype": "f4"
         },
         "xaxis": "x2",
         "y": {
          "bdata": "7b/AQDk/8kC0Dg1BiBTRQO+T9EDShitB3Sz8QPCiyUDAdtNApwL1QIReC0GF3QZBMzwHQU1FKEFlHhVBS7UIQdLUA0Eqt91AvCiwQBwcv0A297hAzxcsQdjgp0AE3L5AOLhNQPmkAEHI3bxAfCY4QRqRzkDaKlNA2JwTQTtix0BUTpZAlAapQJEJuECeXLxAT7UEQQiMrUCeGfRAC1Q4QcSRo0AMXuNAVtE2QWGF8kBhigZBR6VSQEagfUCJiQJBCjoGQWq4pUB42BNB+Er5QPKUXkDEyjBBnxrkQLL3CkEIERZB2yfYQA2Kr0Cd+alAntXZQCyi9UBcAfdAcyINQTzCZ0BUXtxAVYzcQBk/CkEeOwBBAm0RQTEwTUDGCClBftwiQQ+0OUHKf6hA5Zw5QTIjuUB/NdhAQU7pQFbPLkFYF1VA3COSQK5Ax0AYU7xA4qfhQIXKUEDPGr1AqxsPQWkrzEBUDgxBlR52QG1U5UD9iQ1BRm1jQLcg6EDCQw9BZVAGQXB+5kB2r/pA4UkBQfqhM0HYoiFBF/QBQYYjAkFQmudA4gMDQQGmMUG4NShB8SGzQBj/BUFt3s5ADez+QN9iMUFPrgVB1SPnQEcBp0Dt5jJB/80EQeXR6UBLl89AhqMAQcigwkDAQv9A1dEsQU6OBEHOMY5AgS44QTxbMUHSLBBBumZfQEe6+EDDWg5BFIKwQMfB+ED1879A80MBQQHKXUAlvMhA2ZssQaAh00B+ycxAMxMQQShJFkHTJVlABgfZQO1nO0GVqdRAlaa8QL60E0GUEAdBzC4HQSy4EEHCNupAqaIBQcqs4EAMrA1B6fpqQOvFEUH0xhJBFXCLQCU16ECLWahABgsVQRH3GkEuGFhAxWquQN2e5kDbxAdBvUU3QUiL10BMLrZANzYqQQ1kYEDvtgdB4f8ZQbuoNEE+OudAJLnVQIBZEkG6/udAaaWwQCDiskBFe/JA80z/QGdvA0HlniJBdTEBQehwB0Ed3gZBHwgCQfs/H0GANadAfCtSQOJS0UDpQdxAJDOuQNsU00CJKf1AVqnJQEqCCkEq0Y1AyuP/QFcowkC+U+xAqvQAQXtet0D0uztBHU41QfunCEGv+/dAUH4AQUiaCEEG+xtB7vgOQYQ6OkFXAQdBFLDSQE5esEAB2QVBH+0CQbTaC0Eli61Al53KQAgnO0FiSTNB9X7IQMe8CkHFJDVBpkfJQEq49kDBeA5BtF6DQMPL0UBaJ+RAOWPBQKZmOEGi1AJB/NwyQeV6LEE=",
          "dtype": "f4"
         },
         "yaxis": "y2"
        },
        {
         "hovertemplate": "<b>%{hovertext}</b><extra></extra>",
         "hovertext": [
          "Yahya Rahhawi",
          "Nikola Tesla",
          "Ada Lovelace",
          "Alan Turing",
          "Aristotle",
          "Nelson Mandela",
          "Mahatma Gandhi",
          "Cleopatra",
          "Steve Jobs",
          "Elon Musk",
          "Sherlock Holmes",
          "Tony Stark",
          "Walter White",
          "Leonardo da Vinci",
          "Greta Thunberg",
          "Sofiia "
         ],
         "marker": {
          "color": "crimson",
          "line": {
           "width": 2
          },
          "size": 9,
          "symbol": "diamond"
         },
         "mode": "markers",
         "name": "openness-special",
         "type": "scatter",
         "x": {
          "bdata": "+Q9pQUYnIcBijxrApXgnwHKpHcBPchLA3s4bwDzZDsAmLAvAszUfwObAIcAj8inA1hAxwDk6K8AwURLAmu0zQQ==",
          "dtype": "f4"
         },
         "xaxis": "x2",
         "y": {
          "bdata": "1LNuQNAiqUCGCatAaCqoQOuTp0AVIKhAJH2tQIX0p0DADKVAqRGwQPejo0C21apAD0CoQIIhrECEna9AA1EiQQ==",
          "dtype": "f4"
         },
         "yaxis": "y2"
        },
        {
         "hovertemplate": "<b>%{hovertext}</b><extra></extra>",
         "hovertext": [
          "William Castaneda",
          "Michelle \"MJ\" Jones",
          "Jamie Chen",
          "Raymond Ortiz",
          "Sarah Chen",
          "Susan West",
          "Daniel Mercer",
          "Brian Thornton",
          "Heather Jimenez",
          "Emily Parsons",
          "Beth Clarke",
          "Gina Villanueva",
          "Olivia Chen",
          "Olivia Chen",
          "Carl Snow",
          "Anya Sharma",
          "Nicholas Russo",
          "Mary Ball",
          "Chloe Nguyen",
          "Erin Thomas",
          "Micheal Roy",
          "Stacy Anderson",
          "Elena Rodriguez",
          "Billy Morales",
          "Kevin Green",
          "Timothy Stewart",
          "Lena Petrova",
          "Wren Kestrel",
          "Eliza Vance",
          "Benjamin Jones",
          "Elizabeth Williams",
          "Tommy Barker",
          "Sandra Kemp",
          "Allison Brown",
          "Selena Garcia",
          "Bryan Chambers",
          "Amanda Reynolds",
          "Jeffrey Horn",
          "Ace Rodriguez",
          "Daniel Williams",
          "Kimberly King",
          "James Vargas",
          "Beth Kelly",
          "Cheryl Glass",
          "Amber Bradley",
          "Helen Gomez",
          "Chelsea Bird",
          "Alexander Tucker",
          "Robert Hill",
          "Donna Miller",
          "Alyssa Roberts",
          "Tammy Henderson",
          "Linda Perez",
          "Nicole Fisher",
          "Robert Campbell",
          "Jennifer Cummings",
          "Russell Gross",
          "Krystal Mckenzie",
          "Jessica Acevedo",
          "Eliza \"Sunshine\" Vance",
          "Sarah Jenkins",
          "Kristen Alvarez",
          "Heather Luna",
          "Dr. Jordan Shannon",
          "Dustin Mullen",
          "Beverly Love",
          "William Foster",
          "Jerry Stanley",
          "Joshua Hatfield",
          "Nicholas Williams",
          "Michelle Rogers",
          "Elara Vance",
          "Daniel Porter",
          "Maya Rodriguez",
          "Angela Scott",
          "Jennifer Ray",
          "Edward Dominguez",
          "Maurice Nichols",
          "Christopher Jones",
          "Evelyn Thorne",
          "Dawn Howard",
          "Jennifer Mercado",
          "Amelia Hayes",
          "Ethan Vance",
          "Elara Meadowlight (legally John Rogers)",
          "Edward Stephens II",
          "Alice Chen",
          "Brenda Santos",
          "Stella Maris",
          "Joshua Parker",
          "Eleanor Vance",
          "Spencer White",
          "Kimberly Parrish",
          "Ryan Carey",
          "Yesenia Whitney",
          "Brent Contreras",
          "Raymond Martin",
          "Cindy Ramirez",
          "Elizabeth Webb",
          "Mitchell Navarro",
          "Denise Robinson",
          "Larry Rivers",
          "Richard Sims",
          "Tammy Mckee",
          "Amanda Padilla",
          "Dominique Turner",
          "Caroline Thompson",
          "Sarah Chen",
          "Cheryl Erickson",
          "Anya Sharma",
          "Debbie Combs",
          "Andrew Franco",
          "Holly Robbins",
          "Kimberly Brady",
          "William Frey",
          "Andrew \"Aethelred\" Sterling",
          "Sheila Clark",
          "Samuel Morrison",
          "Ryan Lee",
          "Jeffrey Rojas",
          "Russell Curtis",
          "Katherine Hall",
          "Jacob Smith",
          "Katie Collier",
          "James Lamb",
          "Darlene Lawrence",
          "Luna Skye Hawthorne",
          "Erik Peterson",
          "Lisa Mitchell",
          "Luna Seraphina Willow",
          "Aurora Vance",
          "Jason Mckinney",
          "Jamie Gonzales",
          "Tiffany Moody",
          "Maria Vazquez",
          "Carlos Torres",
          "Justin Miller",
          "Jose Ellison",
          "Blake Lawrence",
          "Christopher Travis",
          "Kenneth Escobar",
          "Sarah Shaffer",
          "Jesse Holland",
          "Anne Peterson",
          "Elara Vance",
          "Michael Watson",
          "Linda Garcia",
          "Andrea Davis",
          "Thomas Webster",
          "Lilith Thorne",
          "Jennifer Wolfe",
          "Linda Richardson",
          "Jerry Rogers II",
          "Jill Nolan",
          "William Morrison",
          "Andrew Johnson",
          "Jamie Woodward",
          "Clara Ellison",
          "John Bishop",
          "Maya Rodriguez",
          "Devin Harris",
          "Sarah Chen",
          "Rebecca Sanchez",
          "Cameron Avery",
          "Laura Graham",
          "Elara Vance",
          "Sarah Chen",
          "Elara Vance",
          "Kristina Marshall",
          "Larry Rodriguez",
          "Robert Harrell",
          "Albert Hunt",
          "Clara Bellewood",
          "Chloe Nguyen",
          "Adam Woodard",
          "Akari Tanaka",
          "Jennifer Butler",
          "Amelia Vance",
          "Sabrina George",
          "Lyra Meadowsweet",
          "Helena Vance",
          "Victoria Martinez",
          "Mindy Lee",
          "Carla Williams",
          "Robert Ochoa",
          "Cesar Yoder",
          "Kelly Nash",
          "Crystal Hall",
          "Maya Angelou",
          "Ashley Austin",
          "Tiffany Goodman",
          "Kimberly Morales",
          "Amanda Christensen",
          "Heather Barnes",
          "Luna \"Hex\" Blackwood",
          "Christine Long",
          "Angela Martinez",
          "Anya Petrova",
          "Lindsey Gray",
          "Elara Vance",
          "Jeremy Kennedy",
          "Larry Wilson",
          "Richard Yang",
          "Carrie Taylor",
          "Laura Wall",
          "Terri Murphy",
          "Anya Sharma",
          "Maya Rodriguez",
          "Maya Rodriguez",
          "Elena Rossi",
          "Shirley Henderson",
          "Dennis Wallace",
          "Miguel Johnston",
          "Madison Brooks",
          "Sean Stone",
          "Brian Acosta",
          "Lawrence Avila",
          "Elara Meadowlight",
          "Stephen Bryant",
          "Olivia Chang",
          "Eric Thompson",
          "Linda Lee",
          "Angela Ortiz",
          "William Carpenter",
          "Kari Clark",
          "Ella Sanchez",
          "Jennifer Glover",
          "Luna Maeve",
          "Lori Butler",
          "Liam Vance",
          "Luna Everhart",
          "Anna Price",
          "Julie Fischer",
          "Chloe Davis",
          "Glen Harris",
          "Anya Sharma",
          "Dylan Phillips",
          "Ricardo Warren",
          "Deborah Johnson"
         ],
         "marker": {
          "color": "royalblue",
          "opacity": 0.75,
          "size": 6
         },
         "mode": "markers",
         "name": "agreeableness-users",
         "type": "scatter",
         "x": {
          "bdata": "EukgQUgVL0EbgsxAtN0YQf5aEUFNug5BTqcwQTreG0He7utAABPQQD1LGEFR3jdBqBQZQYpnDEHowytB6ls6QfU/NUHjevxA2M7AQAY9IUH+1e9ANDf3QLXc+kAJpvpA2vP8QAFUC0HoYApBQk72QAqpK0G4hvdA1rkSQeiUHUG7dNlAA0ELQQlwE0FHgj5B7ocEQf/HG0FDTypBQ6sNQTUzKUEroi1BDmonQWKGIkE/gMVAAlQEQVFCNUHyex5BQlwsQWH9GkFy5DtBolsJQViZAUGthSZBgLAQQUDEC0H30OZAd4UyQeHHJkEi4hRBln40QbziwkCB6RVBboIgQYIEEUF69+5Ah8wFQS13AUG4ReRAjJkkQZypMkFMwxVB9fokQYT5K0HKRCRBQawfQeK5OEF7RexA/wMYQcvDvEDWSkNBirL9QDkrGEHNfShBg3E8QdW7LEHwGS1Bqeb/QMx/+0C/NDlB9Xs8QW/iM0FWv0BB078VQfDdyEDOEQpBPdrnQKRoDUGIqbpA+/EPQeqD1EA76iRB2F0YQd1Jy0BCBSdBLA/PQAdpu0CYVwFBJXvlQLm6wUDv4w5BpIgeQR6MF0EG4fdAiIu3QOX1u0BU4xBBt94EQdpPG0Fk/ipB0YEaQeLND0F0RBhB9v4QQczxOEGijAJBexMYQalqCEHSeAdBnRozQfsmH0F7GyZBu3IRQbw8JEFRP71A0pALQSkYNUGawwJBVhI3QU2KtkA2GCtBoO0MQVMIQkGhaR1B0NYqQY6iNkFgagJBy2knQXNIDUGt1xpB4NMRQQtlI0GfVAxB/eo5QRvhxEDGhDNBUfYdQcrILUH7ZTNBfSu3QBPmEUHEMhdBmGTJQBXgLkGhJENBGxHKQKJLJUGaaT1Bwmg0QSneE0EKBgxBn6wtQXvcG0EaFyFBuiclQafrEEHu5B5BIgwgQW9y7UDyYQtBRkM7QQVQHUEloxVBI3n/QGsjz0AcUB1BJbsOQQVi7EAsnLhAD0QXQRFMzUD45SdBrAAiQaXdxkDjnSNBCMYsQW71HkEyvgxB7w4iQT7mF0FlAA5Bmz0IQUFdNUHPRhpBpcm+QIi7EUF3nx5B+S8QQdzMCUEw+hZBaQI4QfYyG0FQcitB5KXoQFhWI0FaNPVAmAQ4QdCOvUBSeA1B79z4QGwoDkFFry5BQkkfQawHIUF6DAlBwUYRQQ/5LkFmwzFBoj8BQcWRIEH0dA9BSToUQXhpF0GgfD9BZug6QbvnG0F49LNAkKsuQcogE0E=",
          "dtype": "f4"
         },
         "xaxis": "x3",
         "y": {
          "bdata": "ptMRQdcW1ECrkBFBQj+ZQAWz9ECUbr1Aq1oSQdFZlkAAcfNAt10KQYCFJ0GVvtNA+qkCQQVVCkED3+pApgnjQNYfz0By7dVA6HceQc7400CVlvdAYDgHQW4jHkHc2ttAgj0EQTW76EBLVB9BP3X8QAaLx0BfRQJBmEDaQDuaxEBKHxRBfYEfQYW9q0CqMBRBfhy8QJKaJkH9CgpBlSAOQfrHykAhSw5BrAL5QN/NzUB5bwxBaDkDQYfEDkFjo8hAf5LNQGL1AEFauflAQJ4XQZztDEGSthNBZif6QImK5UDMhQxBBm/bQA7E40DwYd1AWS7nQB8gGEFvD6tAkF0cQeQ150Apj+NAXXbiQFjYIEHE4BxBtjijQJ4dE0HAD+pAZW8ZQWgr8EDhxQ9BnM4nQU4xEkE7KAtBi1gVQS6BLEHiTx1B9hjbQAsL9kD3Ng1BwDDwQEPmH0HSxBdB78nYQMTHBEHY2xRBdUoXQZ3qHkHH4BpBrg0EQX1vD0EaWN1AxDr8QHcw9kB8lilBCgi6QMHBJEFkDN1ACDYgQX3zDkFHlP5AmRgNQeNVI0G3bgpBXOH7QI9lJ0Erbc9A/60iQTBFFUFFaAlB91YoQfJZLUG8nslAd9DRQERLuECp6vZAssLKQEaeKkGBNp5AZvIpQUkPCkFZRRNBG/jeQLdpF0GxWtdAUwbWQCAhJEGyFBlBy4LNQDswG0E9oCtBhisTQdY+FEEC4BRBA4sJQXHUJEFdpPpALVomQZbvF0Eg/t5Alqf0QIsx10Aghh5BwQcjQWgwy0A1tQ5BWrAAQWL88EBDhQRBdM0SQUunDEHtC9dAmyTdQOKP9UAUEBFB7DwlQZfo0kDTOAZB1oMYQfFNB0FtzRdBUz0uQWf5H0EDXhpBzw0EQQCfnECnX7hA2FfIQBDBIEGvaetAwcYFQfwBKkEhi91AbugGQbxWA0ErxstAXbsXQVfEH0EwcvFAfxvIQEl/JUERCr1AxXH3QPKoB0F71ypBWJoLQYIUEUFmXcVAoGnKQPy1CkFQL5VAy87OQCkKEUESyA1BrywiQU5cvUA/dABBR4i6QKMiDUFQ2R5BcGsqQR2YsUBu0wBBiTQFQXwW4kB1zaVAct/cQJGn80D4athAHisGQQU65UBNN/VAMVXfQOhoIUGwn6RA/LceQQn5J0FcZclAz5iUQPlc9kAizrtADRidQAzb+EBVgRtBg/kgQViK/kCJGbFAYFIrQRfds0C2DRxBexIgQYyP90BceCdB4AcRQdsr4kA=",
          "dtype": "f4"
         },
         "yaxis": "y3"
        },
        {
         "hovertemplate": "<b>%{hovertext}</b><extra></extra>",
         "hovertext": [
          "Yahya Rahhawi",
          "Nikola Tesla",
          "Ada Lovelace",
          "Alan Turing",
          "Aristotle",
          "Nelson Mandela",
          "Mahatma Gandhi",
          "Cleopatra",
          "Steve Jobs",
          "Elon Musk",
          "Sherlock Holmes",
          "Tony Stark",
          "Walter White",
          "Leonardo da Vinci",
          "Greta Thunberg",
          "Sofiia "
         ],
         "marker": {
          "color": "crimson",
          "line": {
           "width": 2
          },
          "size": 9,
          "symbol": "diamond"
         },
         "mode": "markers",
         "name": "agreeableness-special",
         "type": "scatter",
         "x": {
          "bdata": "nnoKQSNWKEFpAgZBFOErQW+l70ATsuZAwkThQLY/J0Fw4iBBG6IjQY/LKkFuACpBjFIiQTIAA0E/1/5APKEgQQ==",
          "dtype": "f4"
         },
         "xaxis": "x3",
         "y": {
          "bdata": "0r+7QEqYh0CG/OtAN7aQQPDY4kDtDeNAZKLnQKK8hkBrfoxAZwCIQMnfiEDii4lAa9+IQJGq70Db+tJAPXqTQA==",
          "dtype": "f4"
         },
         "yaxis": "y3"
        },
        {
         "hovertemplate": "<b>%{hovertext}</b><extra></extra>",
         "hovertext": [
          "William Castaneda",
          "Michelle \"MJ\" Jones",
          "Jamie Chen",
          "Raymond Ortiz",
          "Sarah Chen",
          "Susan West",
          "Daniel Mercer",
          "Brian Thornton",
          "Heather Jimenez",
          "Emily Parsons",
          "Beth Clarke",
          "Gina Villanueva",
          "Olivia Chen",
          "Olivia Chen",
          "Carl Snow",
          "Anya Sharma",
          "Nicholas Russo",
          "Mary Ball",
          "Chloe Nguyen",
          "Erin Thomas",
          "Micheal Roy",
          "Stacy Anderson",
          "Elena Rodriguez",
          "Billy Morales",
          "Kevin Green",
          "Timothy Stewart",
          "Lena Petrova",
          "Wren Kestrel",
          "Eliza Vance",
          "Benjamin Jones",
          "Elizabeth Williams",
          "Tommy Barker",
          "Sandra Kemp",
          "Allison Brown",
          "Selena Garcia",
          "Bryan Chambers",
          "Amanda Reynolds",
          "Jeffrey Horn",
          "Ace Rodriguez",
          "Daniel Williams",
          "Kimberly King",
          "James Vargas",
          "Beth Kelly",
          "Cheryl Glass",
          "Amber Bradley",
          "Helen Gomez",
          "Chelsea Bird",
          "Alexander Tucker",
          "Robert Hill",
          "Donna Miller",
          "Alyssa Roberts",
          "Tammy Henderson",
          "Linda Perez",
          "Nicole Fisher",
          "Robert Campbell",
          "Jennifer Cummings",
          "Russell Gross",
          "Krystal Mckenzie",
          "Jessica Acevedo",
          "Eliza \"Sunshine\" Vance",
          "Sarah Jenkins",
          "Kristen Alvarez",
          "Heather Luna",
          "Dr. Jordan Shannon",
          "Dustin Mullen",
          "Beverly Love",
          "William Foster",
          "Jerry Stanley",
          "Joshua Hatfield",
          "Nicholas Williams",
          "Michelle Rogers",
          "Elara Vance",
          "Daniel Porter",
          "Maya Rodriguez",
          "Angela Scott",
          "Jennifer Ray",
          "Edward Dominguez",
          "Maurice Nichols",
          "Christopher Jones",
          "Evelyn Thorne",
          "Dawn Howard",
          "Jennifer Mercado",
          "Amelia Hayes",
          "Ethan Vance",
          "Elara Meadowlight (legally John Rogers)",
          "Edward Stephens II",
          "Alice Chen",
          "Brenda Santos",
          "Stella Maris",
          "Joshua Parker",
          "Eleanor Vance",
          "Spencer White",
          "Kimberly Parrish",
          "Ryan Carey",
          "Yesenia Whitney",
          "Brent Contreras",
          "Raymond Martin",
          "Cindy Ramirez",
          "Elizabeth Webb",
          "Mitchell Navarro",
          "Denise Robinson",
          "Larry Rivers",
          "Richard Sims",
          "Tammy Mckee",
          "Amanda Padilla",
          "Dominique Turner",
          "Caroline Thompson",
          "Sarah Chen",
          "Cheryl Erickson",
          "Anya Sharma",
          "Debbie Combs",
          "Andrew Franco",
          "Holly Robbins",
          "Kimberly Brady",
          "William Frey",
          "Andrew \"Aethelred\" Sterling",
          "Sheila Clark",
          "Samuel Morrison",
          "Ryan Lee",
          "Jeffrey Rojas",
          "Russell Curtis",
          "Katherine Hall",
          "Jacob Smith",
          "Katie Collier",
          "James Lamb",
          "Darlene Lawrence",
          "Luna Skye Hawthorne",
          "Erik Peterson",
          "Lisa Mitchell",
          "Luna Seraphina Willow",
          "Aurora Vance",
          "Jason Mckinney",
          "Jamie Gonzales",
          "Tiffany Moody",
          "Maria Vazquez",
          "Carlos Torres",
          "Justin Miller",
          "Jose Ellison",
          "Blake Lawrence",
          "Christopher Travis",
          "Kenneth Escobar",
          "Sarah Shaffer",
          "Jesse Holland",
          "Anne Peterson",
          "Elara Vance",
          "Michael Watson",
          "Linda Garcia",
          "Andrea Davis",
          "Thomas Webster",
          "Lilith Thorne",
          "Jennifer Wolfe",
          "Linda Richardson",
          "Jerry Rogers II",
          "Jill Nolan",
          "William Morrison",
          "Andrew Johnson",
          "Jamie Woodward",
          "Clara Ellison",
          "John Bishop",
          "Maya Rodriguez",
          "Devin Harris",
          "Sarah Chen",
          "Rebecca Sanchez",
          "Cameron Avery",
          "Laura Graham",
          "Elara Vance",
          "Sarah Chen",
          "Elara Vance",
          "Kristina Marshall",
          "Larry Rodriguez",
          "Robert Harrell",
          "Albert Hunt",
          "Clara Bellewood",
          "Chloe Nguyen",
          "Adam Woodard",
          "Akari Tanaka",
          "Jennifer Butler",
          "Amelia Vance",
          "Sabrina George",
          "Lyra Meadowsweet",
          "Helena Vance",
          "Victoria Martinez",
          "Mindy Lee",
          "Carla Williams",
          "Robert Ochoa",
          "Cesar Yoder",
          "Kelly Nash",
          "Crystal Hall",
          "Maya Angelou",
          "Ashley Austin",
          "Tiffany Goodman",
          "Kimberly Morales",
          "Amanda Christensen",
          "Heather Barnes",
          "Luna \"Hex\" Blackwood",
          "Christine Long",
          "Angela Martinez",
          "Anya Petrova",
          "Lindsey Gray",
          "Elara Vance",
          "Jeremy Kennedy",
          "Larry Wilson",
          "Richard Yang",
          "Carrie Taylor",
          "Laura Wall",
          "Terri Murphy",
          "Anya Sharma",
          "Maya Rodriguez",
          "Maya Rodriguez",
          "Elena Rossi",
          "Shirley Henderson",
          "Dennis Wallace",
          "Miguel Johnston",
          "Madison Brooks",
          "Sean Stone",
          "Brian Acosta",
          "Lawrence Avila",
          "Elara Meadowlight",
          "Stephen Bryant",
          "Olivia Chang",
          "Eric Thompson",
          "Linda Lee",
          "Angela Ortiz",
          "William Carpenter",
          "Kari Clark",
          "Ella Sanchez",
          "Jennifer Glover",
          "Luna Maeve",
          "Lori Butler",
          "Liam Vance",
          "Luna Everhart",
          "Anna Price",
          "Julie Fischer",
          "Chloe Davis",
          "Glen Harris",
          "Anya Sharma",
          "Dylan Phillips",
          "Ricardo Warren",
          "Deborah Johnson"
         ],
         "marker": {
          "color": "royalblue",
          "opacity": 0.75,
          "size": 6
         },
         "mode": "markers",
         "name": "neuroticism-users",
         "type": "scatter",
         "x": {
          "bdata": "2nmTQJCNd0APc0BAduy+P/VGEkD5EpNAL2izQJFFHEDeclpA0ejWP6RhrkAIY+9A0A+3QL3RKUBuLY5A+MRyQL0akkDWcSZAS5IJQUTaMUCHP3lA+ahlQEqsqECEyQdAMtFYQFnaJUCMxupA5afCP6WEEkD/glhA29RqQAZkZ0Asrl1AeosWQfHlRUA0oglB/NsMQKh+b0Am1zRAkLmFQH7M+0Ax1FBAEsp/QD0YgkB+f7hAOusvQHvBTUDnqRdBblEHQBmQ90BmehtABWnFQMIicEBFR7BAiKIIQZDLsUAd7DRAIDEMQWsSA0CtZoBAfCoIQYM5CkFf5uQ//KbaQO4BEUE3DgJASpeyQHcERUCWAVNAPe6RQNiMX0B0PFNApBggQBIbgkDn0LNAYufgP20Q/UDgMX1AXnOhQGXC2kAfXUBAx2ZHQItLikAv0hZBpoF3QKJqxT944NJAZELgQLMWikD7jU1AtbDxQBo8gUDwqvpADmLeQDsJB0GGrvw/2KKxQHihFEGpUAZBJGLuP8V+l0BCKMRA5EDaQCxdVUAFCkhAgFHqP0U8mEBm385A6+ldQNb4/EDodXVAcVZIQMz+EEFRPhJBZW1lQHyqEEEwH3JAuKPuQOoDDUBTOgxBg8ZzQE9obEDOea1AU6kmQF/OVkAlbiVAwQ4MQHln5EAmHZNA8WfpP6b5X0Ajq94/j9CkP6RQVkCPoRBB3e/xQMO4SEAaIB9AwKx3QMbyBkFIWe9AxVsOQL8hHEBfSDtA9GoJQKsSsEAOrbpAhOCpQELmuUD4hjtAKHscQGvWdUD5F7tAlzpwQP8zCkEf0JlAsIsWQeyYWUA2KKpAx0CpQAmXG0CvoLZAvtG3QB2cxUDdagNAbq8OQX/9F0B41VBA0nR4QHestUAxEv5AwK8VQfFa40BTg1tA23cMQJm6TkC/2KdADukdQMVvCEDdGOdAa7J7QP3HrUCgU7dAde/LQBF35kBkrEpAKTW0QJj6vz+FOi5AbptcQJrkl0CJXthAxfAIQEEAokDVpP0/kScFQTlM3kDNzcZAcKErQPL2IEDOaLJAwVO/QLseGUBReCNAQxvIQGaBLkAggPk/kr5IQNHJN0Btkfg/yjr8QGaigkDVH75AtEthQKchhkCVC1NApY57QAgN6ECBuOlAw+taQLWT00DOl3NA/tYBQBP9zD+Ga5NAMCoSQQ/XJUA88K5AM035QBZSXkCOKLhA218CQMiM1UCCanRA6hZfQIU6tkAEVgRBQD0ZQQe7r0A=",
          "dtype": "f4"
         },
         "xaxis": "x4",
         "y": {
          "bdata": "f3gTQdrd40CMIahAA5LEQPcgFkFrug5Bpb3pQNH8lUAL1wNBGny4QCBRuUBBFtBArAnUQLki2kC0CgZBHSrtQAFjA0EIjKVAdN7fQHygzECjKhVBxtu5QPhtBUHWCZtAyBLwQJnzB0FCcgNBY9XcQMSqFUGuT9VAkiwGQZw7wEAxafZAS03KQHu4qUAv6wNBw6EbQdl7CEGzhppAfUQEQSYzzkDLZQ1BOEMMQcCEBUEtN7hA/g7VQERe/EAPysZAIn7KQNw2AUEGwNtAX6O8QM7VEkENIqtAsQUJQY47AkGameNAIeUDQfgkG0HcCs5AAacBQYb5BkEyeqxAF1jMQHun10CvVL1AHqsHQUwHtkBZwMxAFZPSQJgloUDcE75A/KO+QAnw+kCmsOVAUnTgQARYAEH5fNJAR8T7QPE6CEG3tIZAnZKRQAy4DUHAIMtAZur6QILOw0DgNcdAdBH8QColD0FCwMFAmn0FQW4P4EB2qgdB08PJQJVpC0F0UPVA6hLmQFbmvUAFPwtBE4DUQBaxBkE0fgdBN2TVQJFonUDuLxRBz8jPQK4Z1kCouMVAWaATQbjuCEF/Eb9Aza6IQMhj5UAaitlAEUgBQXxB4kCWZM5Ap4nXQCE6vUDVHwFBFeXjQI7F5EB2H75AuUEIQTIpEkGaTbxAOmrLQJVv8EBpawpBRwbMQL2YokDhk69ABazdQD/o3EDR6N9AaFPRQMTfu0CV5+pAd2HPQM6fCkEjyQNBHfqjQOVAAkGrTItA2a4cQePuAkF37+BAPpAOQbM9rUApqJ1AyuYCQXs8xEDSkL5AAYQVQSl9AUEJbAdBbXjLQGqyk0Bm5QtBHtoGQR33FEEg6apA2g4MQTUyBEFggPJAM1DSQLoOqUBULQpB7Sv1QHuo10BimspAMHzIQI+n90CEvQJB8XwcQZGggkA5sbBAwZEaQaqwokDPE/9A5mP+QKpgA0FVrANB2DoIQUV92UBYpulAKTytQHAjuUCucQBBrHHNQDxi0UD9fMtAp/eyQA6oDUG9N59AvnQGQcdfBkF3dwVBJruMQC2AFkGhHv1AzWD+QHPmwEAuPBhBL7MLQdYmxEBZKOFAp1WjQBX4lEDat/VAZqABQdwvtkBJTbVAep7sQNXABkE0duZAFO7CQCSS20CxBMtAQOoSQZsiC0HFDa5AI1eeQN7K1kArOgxB4WjhQB8tyEDzQcNArJIDQbFMuEBWq+RAiReiQObKBkHtctpAdp7fQNbeAUGAgv5A3tzCQC8/ukA=",
          "dtype": "f4"
         },
         "yaxis": "y4"
        },
        {
         "hovertemplate": "<b>%{hovertext}</b><extra></extra>",
         "hovertext": [
          "Yahya Rahhawi",
          "Nikola Tesla",
          "Ada Lovelace",
          "Alan Turing",
          "Aristotle",
          "Nelson Mandela",
          "Mahatma Gandhi",
          "Cleopatra",
          "Steve Jobs",
          "Elon Musk",
          "Sherlock Holmes",
          "Tony Stark",
          "Walter White",
          "Leonardo da Vinci",
          "Greta Thunberg",
          "Sofiia "
         ],
         "marker": {
          "color": "crimson",
          "line": {
           "width": 2
          },
          "size": 9,
          "symbol": "diamond"
         },
         "mode": "markers",
         "name": "neuroticism-special",
         "type": "scatter",
         "x": {
          "bdata": "SSKeQAIYVj/4xoU/NpCNP1iOzj8zJg9Bs0sOQYYcLj9deSc/lhQgP1Nkbz8mPjE/iUsYP/o/gj8Z9+s+L7AKQQ==",
          "dtype": "f4"
         },
         "xaxis": "x4",
         "y": {
          "bdata": "sWvtQMjIBkErNAhBDOQDQXUhB0HC/OlAo7vrQBt5AEFYcQNBVUoFQR7W/kCxNgNB0KQCQTs8CEFClQdB7IzyQA==",
          "dtype": "f4"
         },
         "yaxis": "y4"
        },
        {
         "hovertemplate": "<b>%{hovertext}</b><extra></extra>",
         "hovertext": [
          "William Castaneda",
          "Michelle \"MJ\" Jones",
          "Jamie Chen",
          "Raymond Ortiz",
          "Sarah Chen",
          "Susan West",
          "Daniel Mercer",
          "Brian Thornton",
          "Heather Jimenez",
          "Emily Parsons",
          "Beth Clarke",
          "Gina Villanueva",
          "Olivia Chen",
          "Olivia Chen",
          "Carl Snow",
          "Anya Sharma",
          "Nicholas Russo",
          "Mary Ball",
          "Chloe Nguyen",
          "Erin Thomas",
          "Micheal Roy",
          "Stacy Anderson",
          "Elena Rodriguez",
          "Billy Morales",
          "Kevin Green",
          "Timothy Stewart",
          "Lena Petrova",
          "Wren Kestrel",
          "Eliza Vance",
          "Benjamin Jones",
          "Elizabeth Williams",
          "Tommy Barker",
          "Sandra Kemp",
          "Allison Brown",
          "Selena Garcia",
          "Bryan Chambers",
          "Amanda Reynolds",
          "Jeffrey Horn",
          "Ace Rodriguez",
          "Daniel Williams",
          "Kimberly King",
          "James Vargas",
          "Beth Kelly",
          "Cheryl Glass",
          "Amber Bradley",
          "Helen Gomez",
          "Chelsea Bird",
          "Alexander Tucker",
          "Robert Hill",
          "Donna Miller",
          "Alyssa Roberts",
          "Tammy Henderson",
          "Linda Perez",
          "Nicole Fisher",
          "Robert Campbell",
          "Jennifer Cummings",
          "Russell Gross",
          "Krystal Mckenzie",
          "Jessica Acevedo",
          "Eliza \"Sunshine\" Vance",
          "Sarah Jenkins",
          "Kristen Alvarez",
          "Heather Luna",
          "Dr. Jordan Shannon",
          "Dustin Mullen",
          "Beverly Love",
          "William Foster",
          "Jerry Stanley",
          "Joshua Hatfield",
          "Nicholas Williams",
          "Michelle Rogers",
          "Elara Vance",
          "Daniel Porter",
          "Maya Rodriguez",
          "Angela Scott",
          "Jennifer Ray",
          "Edward Dominguez",
          "Maurice Nichols",
          "Christopher Jones",
          "Evelyn Thorne",
          "Dawn Howard",
          "Jennifer Mercado",
          "Amelia Hayes",
          "Ethan Vance",
          "Elara Meadowlight (legally John Rogers)",
          "Edward Stephens II",
          "Alice Chen",
          "Brenda Santos",
          "Stella Maris",
          "Joshua Parker",
          "Eleanor Vance",
          "Spencer White",
          "Kimberly Parrish",
          "Ryan Carey",
          "Yesenia Whitney",
          "Brent Contreras",
          "Raymond Martin",
          "Cindy Ramirez",
          "Elizabeth Webb",
          "Mitchell Navarro",
          "Denise Robinson",
          "Larry Rivers",
          "Richard Sims",
          "Tammy Mckee",
          "Amanda Padilla",
          "Dominique Turner",
          "Caroline Thompson",
          "Sarah Chen",
          "Cheryl Erickson",
          "Anya Sharma",
          "Debbie Combs",
          "Andrew Franco",
          "Holly Robbins",
          "Kimberly Brady",
          "William Frey",
          "Andrew \"Aethelred\" Sterling",
          "Sheila Clark",
          "Samuel Morrison",
          "Ryan Lee",
          "Jeffrey Rojas",
          "Russell Curtis",
          "Katherine Hall",
          "Jacob Smith",
          "Katie Collier",
          "James Lamb",
          "Darlene Lawrence",
          "Luna Skye Hawthorne",
          "Erik Peterson",
          "Lisa Mitchell",
          "Luna Seraphina Willow",
          "Aurora Vance",
          "Jason Mckinney",
          "Jamie Gonzales",
          "Tiffany Moody",
          "Maria Vazquez",
          "Carlos Torres",
          "Justin Miller",
          "Jose Ellison",
          "Blake Lawrence",
          "Christopher Travis",
          "Kenneth Escobar",
          "Sarah Shaffer",
          "Jesse Holland",
          "Anne Peterson",
          "Elara Vance",
          "Michael Watson",
          "Linda Garcia",
          "Andrea Davis",
          "Thomas Webster",
          "Lilith Thorne",
          "Jennifer Wolfe",
          "Linda Richardson",
          "Jerry Rogers II",
          "Jill Nolan",
          "William Morrison",
          "Andrew Johnson",
          "Jamie Woodward",
          "Clara Ellison",
          "John Bishop",
          "Maya Rodriguez",
          "Devin Harris",
          "Sarah Chen",
          "Rebecca Sanchez",
          "Cameron Avery",
          "Laura Graham",
          "Elara Vance",
          "Sarah Chen",
          "Elara Vance",
          "Kristina Marshall",
          "Larry Rodriguez",
          "Robert Harrell",
          "Albert Hunt",
          "Clara Bellewood",
          "Chloe Nguyen",
          "Adam Woodard",
          "Akari Tanaka",
          "Jennifer Butler",
          "Amelia Vance",
          "Sabrina George",
          "Lyra Meadowsweet",
          "Helena Vance",
          "Victoria Martinez",
          "Mindy Lee",
          "Carla Williams",
          "Robert Ochoa",
          "Cesar Yoder",
          "Kelly Nash",
          "Crystal Hall",
          "Maya Angelou",
          "Ashley Austin",
          "Tiffany Goodman",
          "Kimberly Morales",
          "Amanda Christensen",
          "Heather Barnes",
          "Luna \"Hex\" Blackwood",
          "Christine Long",
          "Angela Martinez",
          "Anya Petrova",
          "Lindsey Gray",
          "Elara Vance",
          "Jeremy Kennedy",
          "Larry Wilson",
          "Richard Yang",
          "Carrie Taylor",
          "Laura Wall",
          "Terri Murphy",
          "Anya Sharma",
          "Maya Rodriguez",
          "Maya Rodriguez",
          "Elena Rossi",
          "Shirley Henderson",
          "Dennis Wallace",
          "Miguel Johnston",
          "Madison Brooks",
          "Sean Stone",
          "Brian Acosta",
          "Lawrence Avila",
          "Elara Meadowlight",
          "Stephen Bryant",
          "Olivia Chang",
          "Eric Thompson",
          "Linda Lee",
          "Angela Ortiz",
          "William Carpenter",
          "Kari Clark",
          "Ella Sanchez",
          "Jennifer Glover",
          "Luna Maeve",
          "Lori Butler",
          "Liam Vance",
          "Luna Everhart",
          "Anna Price",
          "Julie Fischer",
          "Chloe Davis",
          "Glen Harris",
          "Anya Sharma",
          "Dylan Phillips",
          "Ricardo Warren",
          "Deborah Johnson"
         ],
         "marker": {
          "color": "royalblue",
          "opacity": 0.75,
          "size": 6
         },
         "mode": "markers",
         "name": "extraversion-users",
         "type": "scatter",
         "x": {
          "bdata": "Kg+AQa7oh0FUT41B4JaIQV2BiEHqX3lB4JhZQelnjEEH+4lB294IQcuufUGdp4NBPLSFQY+6jUE/U4pBmx5WQTx6U0H0xnNBh1NlQRr8fUFLXIBBgo+EQTYibEHtNXdBQo1kQTu6gUGMIIZBqNZYQc6oXkH8gVRBdSMUQZNMEkHVWg9BPmUaQcEqV0Eg3l9BQSBdQeDShkGI7HxBL2BhQUpeg0G3vFJB6lZaQR6DgkF/PxdBNPB3QWqODEF6TINB2hV/QWBqZkHegGVBoXeCQathVEGtSXFBMYJ7QYVQdkEc/oNBK6xeQVH2hEEX5IFB889eQWbVe0FS9IRBHCppQbadWUGy8nJBmWpuQdbNh0GRrxdBdtCLQeamfEEdjF1BQaloQYZIhEHsgItB9FFpQctRb0HW6XlBmqJhQeY7bkGuX1RBrXVZQbaNdEELJxZBx4xsQcFncEGxxYBBTCoTQYtnFkHWFm1B8Q1cQTsDXEHSzFhBhR2EQQqGfUHOWIpBEpuCQWGpW0H18mtBzxZ+QXtRDkGMeX5BSrOCQYwnDEE6IRBBH9l2QYNMikFMfoxBcP6EQUVgCEEbDoNBow9iQeZaYkGNNW9BVh8IQRtMZkG7hGZB0fxsQVPkCUGqd2RBf1SAQawAhEFHSWJBJwZaQZcrgkEF5Y9BT7p1QSWdV0FHA3dBAAtkQR7ObEHqTFpBQ1KBQUcQYEGzlWVBxThVQatDZUEfswxBamtdQaJ+bkEwnXdBdxR1QTW3GUHCV1lBWtOIQTiIY0EZNnpBq/ODQTSjW0FfFnxBikgZQT5ThEE7/oBBbDOJQeRYh0HAhhZBpJxpQVQci0EF/W5B6q0PQQFBj0H+bIBBlw2DQd5JgUHfToFBiV+BQS96Y0FtEYhBbA51Qd2lgUHnYYVBmB2DQbrpW0E76IhBZ/WPQRoIa0Glr1xBhZ1SQeusWkGUXWJBKONyQcW/d0EAaRJB4CByQQyxfEEAR4FBV99xQSPIjEEzTWZBvx+GQZ/Qb0GST45BdWx0QZUpikFNSYFBO2RWQeQWYUGIzIVBXieAQSLueUHTLF1B33dSQXcpf0FNhFxBt/+GQW3EV0Ey53pBWhoNQbl7F0HlwWhBVVZtQWTtY0EAO2tBeAt6QS1LhUEL9XBBMhduQcYUY0E03nxBy+EOQXKpZ0HhZIZB86SGQUEKWEG3k3lB6s2HQbMsCkE7J2NBm6FnQYt8dUHKwH1Bj/BUQVisiUFx14BBLAh7QTGJg0FwOntBEZdWQYlkhEE=",
          "dtype": "f4"
         },
         "xaxis": "x5",
         "y": {
          "bdata": "yhFUQDJrMj80ggZA2v9LQKpDW0B5p709FrPoP4JsGEDQ5EBAt3phQCYvJ0Br1hpAn3YnQJMLFUDBgA5AqFCbv7iFGD+zAh5Aa8DJvyoiOECN7Gg/peZwPz6lHUBF3xE9O/tuQD63K0DI1+A/aZMhQM1jTL+7sRw+xTRoQDJ1dEBXMWtAENhXQGxcPb9iZFVABuWmvtZxVkAF97Q/2upuQLN9ikDIpxk/D/gsPbzi5T+RZV5AG1M4QADFakBlHog/ggtYP+Dj1L8LWMS/1GJqQG1SUL+eetk/dZmTPwkYBkDaeEBATe9OQC5eV0DCLBlAb1nFPqMFgUCvwa4/EtnvP9L7nr8yHRFAkVNHQH4BUUCJjGpAt8AdQFwgbD9V9FI/wVQhQJYSU0DLkOI/u+IXQHdO/j8qeYJAo53vP7ksrT8iboA/xz6Hv6NU9j9C2D1AMCZ6QBIOQ0BidHVAPzVNQI6TY0AxM3ZAFIODvwj5HkDENcS9Nd2zP8AFAkAl7jxA0hWTQBBC8T9GgxQ+EAOsPs7tSUBiwNc/7EyUQMIqTUBwOUlAIB4bP2x8IEC0JFlAOoJ+QP5zdUC6dkQ/RUdiQLJUuz/tQHY/dqxsQEvqPUD2Fsq+tj8FQMNjbUA+P0tA6HE/QCjtbECe7+k/+bJ+vkZhAkALyTxAo+HiPq92ob+1BFpAeKozQOhzh0CxoStA4jpzQPgTc0AlAsU/O6q8P5VwRL8ME3BApHNoQIdNbUCyb0RAMbvyPw3HeUAMBSC/6zHcP8pJmL9eVYFANPd8PxWQub+ZKCo/7DZkQGOkdD8WT0ZAC3ReQGIQSj80sHdAMukPvpLZ4z+gwSI+GNN6QGgwL0Cp/RdAxfXGP2ptnT+dlUtA8VSHQEHZKb6BNjI/IPtTQLu4lkAMmwdA1s13QMbFAED650FA6agsQLdOgkB1qeu9SV16vhZSH77S57m/jlo4QDSByj/cI3xAyvJxQNADkD4zf+k/2Z+AQPYnCECj3nhADIyuP08ETkAiqChA6eKPvvFX9j8qYtM+o81dPuHGxL+oa5o/kaubPtjke0AqS3dA7BNBv3AGCEDBGsY/jWLqP+zkEUAKy2NAxwpKQBcSeUAWKwe/qho4PhC857/8Cqc/YrqSP6oFCkDdHDVA4n6HQJtCCUA9Gv+7hlBAQMT1gUDs8lRAQb89QPGKLUCxqTVAogh3QO45ZEDh9mY/goocQMQmQUC79+M9cudyQHyNhj+un4ZACXcWQML2MEAKhS5AVsqVvx6Cvj8=",
          "dtype": "f4"
         },
         "yaxis": "y5"
        },
        {
         "hovertemplate": "<b>%{hovertext}</b><extra></extra>",
         "hovertext": [
          "Yahya Rahhawi",
          "Nikola Tesla",
          "Ada Lovelace",
          "Alan Turing",
          "Aristotle",
          "Nelson Mandela",
          "Mahatma Gandhi",
          "Cleopatra",
          "Steve Jobs",
          "Elon Musk",
          "Sherlock Holmes",
          "Tony Stark",
          "Walter White",
          "Leonardo da Vinci",
          "Greta Thunberg",
          "Sofiia "
         ],
         "marker": {
          "color": "crimson",
          "line": {
           "width": 2
          },
          "size": 9,
          "symbol": "diamond"
         },
         "mode": "markers",
         "name": "extraversion-special",
         "type": "scatter",
         "x": {
          "bdata": "OuNgQXWfUUE6kCNBQbVUQconGUEVPRZBeJcbQcNGFUFOgBpBeWcaQfQjHkGBxxVB08kcQavwIkEYbBlB2FFZQQ==",
          "dtype": "f4"
         },
         "xaxis": "x5",
         "y": {
          "bdata": "e3cFv77FVr8h5sg/Wzg3vwxi+T8QvAlAOXEEQPoSEEBtTe4/g7ztP8OA3D9XOQtAA0veP/pCzz+H0fo/fReavw==",
          "dtype": "f4"
         },
         "yaxis": "y5"
        }
       ],
       "layout": {
        "annotations": [
         {
          "font": {
           "size": 16
          },
          "showarrow": false,
          "text": "Conscientiousness",
          "x": 0.14444444444444446,
          "xanchor": "center",
          "xref": "paper",
          "y": 1,
          "yanchor": "bottom",
          "yref": "paper"
         },
         {
          "font": {
           "size": 16
          },
          "showarrow": false,
          "text": "Openness",
          "x": 0.5,
          "xanchor": "center",
          "xref": "paper",
          "y": 1,
          "yanchor": "bottom",
          "yref": "paper"
         },
         {
          "font": {
           "size": 16
          },
          "showarrow": false,
          "text": "Agreeableness",
          "x": 0.8555555555555556,
          "xanchor": "center",
          "xref": "paper",
          "y": 1,
          "yanchor": "bottom",
          "yref": "paper"
         },
         {
          "font": {
           "size": 16
          },
          "showarrow": false,
          "text": "Neuroticism",
          "x": 0.14444444444444446,
          "xanchor": "center",
          "xref": "paper",
          "y": 0.375,
          "yanchor": "bottom",
          "yref": "paper"
         },
         {
          "font": {
           "size": 16
          },
          "showarrow": false,
          "text": "Extraversion",
          "x": 0.5,
          "xanchor": "center",
          "xref": "paper",
          "y": 0.375,
          "yanchor": "bottom",
          "yref": "paper"
         }
        ],
        "height": 800,
        "hovermode": "closest",
        "margin": {
         "b": 40,
         "l": 40,
         "r": 20,
         "t": 60
        },
        "showlegend": false,
        "template": {
         "data": {
          "bar": [
           {
            "error_x": {
             "color": "#2a3f5f"
            },
            "error_y": {
             "color": "#2a3f5f"
            },
            "marker": {
             "line": {
              "color": "#E5ECF6",
              "width": 0.5
             },
             "pattern": {
              "fillmode": "overlay",
              "size": 10,
              "solidity": 0.2
             }
            },
            "type": "bar"
           }
          ],
          "barpolar": [
           {
            "marker": {
             "line": {
              "color": "#E5ECF6",
              "width": 0.5
             },
             "pattern": {
              "fillmode": "overlay",
              "size": 10,
              "solidity": 0.2
             }
            },
            "type": "barpolar"
           }
          ],
          "carpet": [
           {
            "aaxis": {
             "endlinecolor": "#2a3f5f",
             "gridcolor": "white",
             "linecolor": "white",
             "minorgridcolor": "white",
             "startlinecolor": "#2a3f5f"
            },
            "baxis": {
             "endlinecolor": "#2a3f5f",
             "gridcolor": "white",
             "linecolor": "white",
             "minorgridcolor": "white",
             "startlinecolor": "#2a3f5f"
            },
            "type": "carpet"
           }
          ],
          "choropleth": [
           {
            "colorbar": {
             "outlinewidth": 0,
             "ticks": ""
            },
            "type": "choropleth"
           }
          ],
          "contour": [
           {
            "colorbar": {
             "outlinewidth": 0,
             "ticks": ""
            },
            "colorscale": [
             [
              0,
              "#0d0887"
             ],
             [
              0.1111111111111111,
              "#46039f"
             ],
             [
              0.2222222222222222,
              "#7201a8"
             ],
             [
              0.3333333333333333,
              "#9c179e"
             ],
             [
              0.4444444444444444,
              "#bd3786"
             ],
             [
              0.5555555555555556,
              "#d8576b"
             ],
             [
              0.6666666666666666,
              "#ed7953"
             ],
             [
              0.7777777777777778,
              "#fb9f3a"
             ],
             [
              0.8888888888888888,
              "#fdca26"
             ],
             [
              1,
              "#f0f921"
             ]
            ],
            "type": "contour"
           }
          ],
          "contourcarpet": [
           {
            "colorbar": {
             "outlinewidth": 0,
             "ticks": ""
            },
            "type": "contourcarpet"
           }
          ],
          "heatmap": [
           {
            "colorbar": {
             "outlinewidth": 0,
             "ticks": ""
            },
            "colorscale": [
             [
              0,
              "#0d0887"
             ],
             [
              0.1111111111111111,
              "#46039f"
             ],
             [
              0.2222222222222222,
              "#7201a8"
             ],
             [
              0.3333333333333333,
              "#9c179e"
             ],
             [
              0.4444444444444444,
              "#bd3786"
             ],
             [
              0.5555555555555556,
              "#d8576b"
             ],
             [
              0.6666666666666666,
              "#ed7953"
             ],
             [
              0.7777777777777778,
              "#fb9f3a"
             ],
             [
              0.8888888888888888,
              "#fdca26"
             ],
             [
              1,
              "#f0f921"
             ]
            ],
            "type": "heatmap"
           }
          ],
          "histogram": [
           {
            "marker": {
             "pattern": {
              "fillmode": "overlay",
              "size": 10,
              "solidity": 0.2
             }
            },
            "type": "histogram"
           }
          ],
          "histogram2d": [
           {
            "colorbar": {
             "outlinewidth": 0,
             "ticks": ""
            },
            "colorscale": [
             [
              0,
              "#0d0887"
             ],
             [
              0.1111111111111111,
              "#46039f"
             ],
             [
              0.2222222222222222,
              "#7201a8"
             ],
             [
              0.3333333333333333,
              "#9c179e"
             ],
             [
              0.4444444444444444,
              "#bd3786"
             ],
             [
              0.5555555555555556,
              "#d8576b"
             ],
             [
              0.6666666666666666,
              "#ed7953"
             ],
             [
              0.7777777777777778,
              "#fb9f3a"
             ],
             [
              0.8888888888888888,
              "#fdca26"
             ],
             [
              1,
              "#f0f921"
             ]
            ],
            "type": "histogram2d"
           }
          ],
          "histogram2dcontour": [
           {
            "colorbar": {
             "outlinewidth": 0,
             "ticks": ""
            },
            "colorscale": [
             [
              0,
              "#0d0887"
             ],
             [
              0.1111111111111111,
              "#46039f"
             ],
             [
              0.2222222222222222,
              "#7201a8"
             ],
             [
              0.3333333333333333,
              "#9c179e"
             ],
             [
              0.4444444444444444,
              "#bd3786"
             ],
             [
              0.5555555555555556,
              "#d8576b"
             ],
             [
              0.6666666666666666,
              "#ed7953"
             ],
             [
              0.7777777777777778,
              "#fb9f3a"
             ],
             [
              0.8888888888888888,
              "#fdca26"
             ],
             [
              1,
              "#f0f921"
             ]
            ],
            "type": "histogram2dcontour"
           }
          ],
          "mesh3d": [
           {
            "colorbar": {
             "outlinewidth": 0,
             "ticks": ""
            },
            "type": "mesh3d"
           }
          ],
          "parcoords": [
           {
            "line": {
             "colorbar": {
              "outlinewidth": 0,
              "ticks": ""
             }
            },
            "type": "parcoords"
           }
          ],
          "pie": [
           {
            "automargin": true,
            "type": "pie"
           }
          ],
          "scatter": [
           {
            "fillpattern": {
             "fillmode": "overlay",
             "size": 10,
             "solidity": 0.2
            },
            "type": "scatter"
           }
          ],
          "scatter3d": [
           {
            "line": {
             "colorbar": {
              "outlinewidth": 0,
              "ticks": ""
             }
            },
            "marker": {
             "colorbar": {
              "outlinewidth": 0,
              "ticks": ""
             }
            },
            "type": "scatter3d"
           }
          ],
          "scattercarpet": [
           {
            "marker": {
             "colorbar": {
              "outlinewidth": 0,
              "ticks": ""
             }
            },
            "type": "scattercarpet"
           }
          ],
          "scattergeo": [
           {
            "marker": {
             "colorbar": {
              "outlinewidth": 0,
              "ticks": ""
             }
            },
            "type": "scattergeo"
           }
          ],
          "scattergl": [
           {
            "marker": {
             "colorbar": {
              "outlinewidth": 0,
              "ticks": ""
             }
            },
            "type": "scattergl"
           }
          ],
          "scattermap": [
           {
            "marker": {
             "colorbar": {
              "outlinewidth": 0,
              "ticks": ""
             }
            },
            "type": "scattermap"
           }
          ],
          "scattermapbox": [
           {
            "marker": {
             "colorbar": {
              "outlinewidth": 0,
              "ticks": ""
             }
            },
            "type": "scattermapbox"
           }
          ],
          "scatterpolar": [
           {
            "marker": {
             "colorbar": {
              "outlinewidth": 0,
              "ticks": ""
             }
            },
            "type": "scatterpolar"
           }
          ],
          "scatterpolargl": [
           {
            "marker": {
             "colorbar": {
              "outlinewidth": 0,
              "ticks": ""
             }
            },
            "type": "scatterpolargl"
           }
          ],
          "scatterternary": [
           {
            "marker": {
             "colorbar": {
              "outlinewidth": 0,
              "ticks": ""
             }
            },
            "type": "scatterternary"
           }
          ],
          "surface": [
           {
            "colorbar": {
             "outlinewidth": 0,
             "ticks": ""
            },
            "colorscale": [
             [
              0,
              "#0d0887"
             ],
             [
              0.1111111111111111,
              "#46039f"
             ],
             [
              0.2222222222222222,
              "#7201a8"
             ],
             [
              0.3333333333333333,
              "#9c179e"
             ],
             [
              0.4444444444444444,
              "#bd3786"
             ],
             [
              0.5555555555555556,
              "#d8576b"
             ],
             [
              0.6666666666666666,
              "#ed7953"
             ],
             [
              0.7777777777777778,
              "#fb9f3a"
             ],
             [
              0.8888888888888888,
              "#fdca26"
             ],
             [
              1,
              "#f0f921"
             ]
            ],
            "type": "surface"
           }
          ],
          "table": [
           {
            "cells": {
             "fill": {
              "color": "#EBF0F8"
             },
             "line": {
              "color": "white"
             }
            },
            "header": {
             "fill": {
              "color": "#C8D4E3"
             },
             "line": {
              "color": "white"
             }
            },
            "type": "table"
           }
          ]
         },
         "layout": {
          "annotationdefaults": {
           "arrowcolor": "#2a3f5f",
           "arrowhead": 0,
           "arrowwidth": 1
          },
          "autotypenumbers": "strict",
          "coloraxis": {
           "colorbar": {
            "outlinewidth": 0,
            "ticks": ""
           }
          },
          "colorscale": {
           "diverging": [
            [
             0,
             "#8e0152"
            ],
            [
             0.1,
             "#c51b7d"
            ],
            [
             0.2,
             "#de77ae"
            ],
            [
             0.3,
             "#f1b6da"
            ],
            [
             0.4,
             "#fde0ef"
            ],
            [
             0.5,
             "#f7f7f7"
            ],
            [
             0.6,
             "#e6f5d0"
            ],
            [
             0.7,
             "#b8e186"
            ],
            [
             0.8,
             "#7fbc41"
            ],
            [
             0.9,
             "#4d9221"
            ],
            [
             1,
             "#276419"
            ]
           ],
           "sequential": [
            [
             0,
             "#0d0887"
            ],
            [
             0.1111111111111111,
             "#46039f"
            ],
            [
             0.2222222222222222,
             "#7201a8"
            ],
            [
             0.3333333333333333,
             "#9c179e"
            ],
            [
             0.4444444444444444,
             "#bd3786"
            ],
            [
             0.5555555555555556,
             "#d8576b"
            ],
            [
             0.6666666666666666,
             "#ed7953"
            ],
            [
             0.7777777777777778,
             "#fb9f3a"
            ],
            [
             0.8888888888888888,
             "#fdca26"
            ],
            [
             1,
             "#f0f921"
            ]
           ],
           "sequentialminus": [
            [
             0,
             "#0d0887"
            ],
            [
             0.1111111111111111,
             "#46039f"
            ],
            [
             0.2222222222222222,
             "#7201a8"
            ],
            [
             0.3333333333333333,
             "#9c179e"
            ],
            [
             0.4444444444444444,
             "#bd3786"
            ],
            [
             0.5555555555555556,
             "#d8576b"
            ],
            [
             0.6666666666666666,
             "#ed7953"
            ],
            [
             0.7777777777777778,
             "#fb9f3a"
            ],
            [
             0.8888888888888888,
             "#fdca26"
            ],
            [
             1,
             "#f0f921"
            ]
           ]
          },
          "colorway": [
           "#636efa",
           "#EF553B",
           "#00cc96",
           "#ab63fa",
           "#FFA15A",
           "#19d3f3",
           "#FF6692",
           "#B6E880",
           "#FF97FF",
           "#FECB52"
          ],
          "font": {
           "color": "#2a3f5f"
          },
          "geo": {
           "bgcolor": "white",
           "lakecolor": "white",
           "landcolor": "#E5ECF6",
           "showlakes": true,
           "showland": true,
           "subunitcolor": "white"
          },
          "hoverlabel": {
           "align": "left"
          },
          "hovermode": "closest",
          "mapbox": {
           "style": "light"
          },
          "paper_bgcolor": "white",
          "plot_bgcolor": "#E5ECF6",
          "polar": {
           "angularaxis": {
            "gridcolor": "white",
            "linecolor": "white",
            "ticks": ""
           },
           "bgcolor": "#E5ECF6",
           "radialaxis": {
            "gridcolor": "white",
            "linecolor": "white",
            "ticks": ""
           }
          },
          "scene": {
           "xaxis": {
            "backgroundcolor": "#E5ECF6",
            "gridcolor": "white",
            "gridwidth": 2,
            "linecolor": "white",
            "showbackground": true,
            "ticks": "",
            "zerolinecolor": "white"
           },
           "yaxis": {
            "backgroundcolor": "#E5ECF6",
            "gridcolor": "white",
            "gridwidth": 2,
            "linecolor": "white",
            "showbackground": true,
            "ticks": "",
            "zerolinecolor": "white"
           },
           "zaxis": {
            "backgroundcolor": "#E5ECF6",
            "gridcolor": "white",
            "gridwidth": 2,
            "linecolor": "white",
            "showbackground": true,
            "ticks": "",
            "zerolinecolor": "white"
           }
          },
          "shapedefaults": {
           "line": {
            "color": "#2a3f5f"
           }
          },
          "ternary": {
           "aaxis": {
            "gridcolor": "white",
            "linecolor": "white",
            "ticks": ""
           },
           "baxis": {
            "gridcolor": "white",
            "linecolor": "white",
            "ticks": ""
           },
           "bgcolor": "#E5ECF6",
           "caxis": {
            "gridcolor": "white",
            "linecolor": "white",
            "ticks": ""
           }
          },
          "title": {
           "x": 0.05
          },
          "xaxis": {
           "automargin": true,
           "gridcolor": "white",
           "linecolor": "white",
           "ticks": "",
           "title": {
            "standoff": 15
           },
           "zerolinecolor": "white",
           "zerolinewidth": 2
          },
          "yaxis": {
           "automargin": true,
           "gridcolor": "white",
           "linecolor": "white",
           "ticks": "",
           "title": {
            "standoff": 15
           },
           "zerolinecolor": "white",
           "zerolinewidth": 2
          }
         }
        },
        "title": {
         "text": "UMAP – Personality Trait Embeddings (2D) by Trait"
        },
        "width": 1200,
        "xaxis": {
         "anchor": "y",
         "domain": [
          0,
          0.2888888888888889
         ],
         "title": {
          "text": "UMAP-1"
         }
        },
        "xaxis2": {
         "anchor": "y2",
         "domain": [
          0.35555555555555557,
          0.6444444444444445
         ],
         "title": {
          "text": "UMAP-1"
         }
        },
        "xaxis3": {
         "anchor": "y3",
         "domain": [
          0.7111111111111111,
          1
         ],
         "title": {
          "text": "UMAP-1"
         }
        },
        "xaxis4": {
         "anchor": "y4",
         "domain": [
          0,
          0.2888888888888889
         ],
         "title": {
          "text": "UMAP-1"
         }
        },
        "xaxis5": {
         "anchor": "y5",
         "domain": [
          0.35555555555555557,
          0.6444444444444445
         ],
         "title": {
          "text": "UMAP-1"
         }
        },
        "xaxis6": {
         "anchor": "y6",
         "domain": [
          0.7111111111111111,
          1
         ]
        },
        "yaxis": {
         "anchor": "x",
         "domain": [
          0.625,
          1
         ],
         "title": {
          "text": "UMAP-2"
         }
        },
        "yaxis2": {
         "anchor": "x2",
         "domain": [
          0.625,
          1
         ],
         "title": {
          "text": "UMAP-2"
         }
        },
        "yaxis3": {
         "anchor": "x3",
         "domain": [
          0.625,
          1
         ],
         "title": {
          "text": "UMAP-2"
         }
        },
        "yaxis4": {
         "anchor": "x4",
         "domain": [
          0,
          0.375
         ],
         "title": {
          "text": "UMAP-2"
         }
        },
        "yaxis5": {
         "anchor": "x5",
         "domain": [
          0,
          0.375
         ],
         "title": {
          "text": "UMAP-2"
         }
        },
        "yaxis6": {
         "anchor": "x6",
         "domain": [
          0,
          0.375
         ]
        }
       }
      }
     },
     "metadata": {},
     "output_type": "display_data"
    }
   ],
   "source": [
    "# UMAP 2D for each personality trait embedding across users\n",
    "# Assumes:\n",
    "# - `population.get_users_with_embeddings()` returns iterable of user objects\n",
    "# - Each user may have trait embeddings like `conscientiousness_embedding` (1D vector)\n",
    "# - Optional boolean flag `user.special` to highlight certain users\n",
    "\n",
    "from umap import UMAP\n",
    "from sklearn.preprocessing import StandardScaler\n",
    "import numpy as np\n",
    "import plotly.graph_objects as go\n",
    "from plotly.subplots import make_subplots\n",
    "\n",
    "traits = [\n",
    "    \"conscientiousness\",\n",
    "    \"openness\",\n",
    "    \"agreeableness\",\n",
    "    \"neuroticism\",\n",
    "    \"extraversion\",\n",
    "]\n",
    "\n",
    "def collect_trait_data(trait: str):\n",
    "    attr = f\"{trait}_embedding\"\n",
    "    rows = [\n",
    "        (u.name, bool(getattr(u, \"special\", False)), getattr(u, attr))\n",
    "        for u in population.get_users_with_embeddings()\n",
    "        if getattr(u, attr, None) is not None\n",
    "    ]\n",
    "    if not rows:\n",
    "        return [], [], None\n",
    "    names, specials, embs = zip(*rows)\n",
    "    X = np.vstack(embs)\n",
    "    return list(names), np.array(specials, dtype=bool), X\n",
    "\n",
    "def umap_2d(X: np.ndarray, metric: str = \"manhattan\", n_neighbors: int = 10, min_dist: float = 0.15):\n",
    "    Xs = StandardScaler().fit_transform(X)\n",
    "    reducer = UMAP(\n",
    "        n_components=2,\n",
    "        n_neighbors=n_neighbors,\n",
    "        min_dist=min_dist,\n",
    "        metric=metric,\n",
    "        random_state=42,\n",
    "    )\n",
    "    return reducer.fit_transform(Xs)\n",
    "\n",
    "# Build a subplot grid for all traits (2 rows x 3 cols)\n",
    "rows, cols = 2, 3\n",
    "fig = make_subplots(\n",
    "    rows=rows, cols=cols,\n",
    "    subplot_titles=[t.title() for t in traits] + ([\"\"] * (rows*cols - len(traits)))\n",
    ")\n",
    "\n",
    "for idx, trait in enumerate(traits):\n",
    "    r = idx // cols + 1\n",
    "    c = idx % cols + 1\n",
    "\n",
    "    names, specials, X = collect_trait_data(trait)\n",
    "    if len(names) < 3:\n",
    "        fig.add_annotation(\n",
    "            text=f\"Need ≥3 users for {trait.title()}, got {len(names)}\",\n",
    "            row=r, col=c, showarrow=False\n",
    "        )\n",
    "        continue\n",
    "\n",
    "    X2 = umap_2d(X, metric=\"manhattan\", n_neighbors=10, min_dist=0.15)\n",
    "\n",
    "    reg_idx = np.where(~specials)[0]\n",
    "    spc_idx = np.where(specials)[0]\n",
    "\n",
    "    if len(reg_idx):\n",
    "        fig.add_trace(\n",
    "            go.Scatter(\n",
    "                x=X2[reg_idx, 0], y=X2[reg_idx, 1],\n",
    "                mode=\"markers\",\n",
    "                marker=dict(size=6, opacity=0.75, color=\"royalblue\"),\n",
    "                name=f\"{trait}-users\",\n",
    "                hovertext=[names[i] for i in reg_idx],\n",
    "                hovertemplate=\"<b>%{hovertext}</b><extra></extra>\"\n",
    "            ),\n",
    "            row=r, col=c\n",
    "        )\n",
    "\n",
    "    if len(spc_idx):\n",
    "        fig.add_trace(\n",
    "            go.Scatter(\n",
    "                x=X2[spc_idx, 0], y=X2[spc_idx, 1],\n",
    "                mode=\"markers\",\n",
    "                marker=dict(size=9, symbol=\"diamond\", color=\"crimson\", line=dict(width=2)),\n",
    "                name=f\"{trait}-special\",\n",
    "                hovertext=[names[i] for i in spc_idx],\n",
    "                hovertemplate=\"<b>%{hovertext}</b><extra></extra>\"\n",
    "            ),\n",
    "            row=r, col=c\n",
    "        )\n",
    "\n",
    "    fig.update_xaxes(title_text=\"UMAP-1\", row=r, col=c)\n",
    "    fig.update_yaxes(title_text=\"UMAP-2\", row=r, col=c)\n",
    "\n",
    "fig.update_layout(\n",
    "    title=\"UMAP – Personality Trait Embeddings (2D) by Trait\",\n",
    "    width=1200, height=800,\n",
    "    showlegend=False,\n",
    "    hovermode=\"closest\",\n",
    "    margin=dict(l=40, r=20, t=60, b=40)\n",
    ")\n",
    "\n",
    "fig.show()"
   ]
  },
  {
   "cell_type": "code",
   "execution_count": null,
   "metadata": {},
   "outputs": [],
   "source": []
  }
 ],
 "metadata": {
  "kernelspec": {
   "display_name": "ml",
   "language": "python",
   "name": "python3"
  },
  "language_info": {
   "codemirror_mode": {
    "name": "ipython",
    "version": 3
   },
   "file_extension": ".py",
   "mimetype": "text/x-python",
   "name": "python",
   "nbconvert_exporter": "python",
   "pygments_lexer": "ipython3",
   "version": "3.12.0"
  }
 },
 "nbformat": 4,
 "nbformat_minor": 4
}
