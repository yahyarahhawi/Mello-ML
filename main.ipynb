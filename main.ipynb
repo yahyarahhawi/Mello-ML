{
 "cells": [
  {
   "cell_type": "markdown",
   "metadata": {},
   "source": [
    "# Mello ML - Fresh Unified Personality System\n",
    "\n",
    "This notebook demonstrates the complete pipeline:\n",
    "- **Unified personality approach**: Cultural data informs personality traits\n",
    "- **768D embeddings**: Interests + 5 personality traits\n",
    "- **50 archetypes**: Diverse synthetic user generation\n",
    "- **Real user support**: Load from JSON files\n",
    "- **2D visualization**: PCA and UMAP plotting"
   ]
  },
  {
   "cell_type": "markdown",
   "metadata": {},
   "source": [
    "## 📦 Imports and Setup"
   ]
  },
  {
   "cell_type": "code",
   "execution_count": 1,
   "metadata": {},
   "outputs": [
    {
     "name": "stderr",
     "output_type": "stream",
     "text": [
      "/Users/yahyarahhawi/miniforge3/envs/ml/lib/python3.12/site-packages/tqdm/auto.py:21: TqdmWarning: IProgress not found. Please update jupyter and ipywidgets. See https://ipywidgets.readthedocs.io/en/stable/user_install.html\n",
      "  from .autonotebook import tqdm as notebook_tqdm\n"
     ]
    },
    {
     "name": "stdout",
     "output_type": "stream",
     "text": [
      "🚀 Initializing Mello ML Components...\n",
      "✅ Components initialized:\n",
      "   📝 ProfileGenerator: google/gemini-2.5-flash\n",
      "   🔢 EmbeddingGenerator: EmbeddingGenerator(model=text-embedding-004, dims=768, requests=0)\n",
      "   📊 Architecture: 768D interests + 5×768D traits = 4608D combined\n",
      "   🎭 Archetypes available: 50\n",
      "   📏 Similarity metric: Euclidean Distance (L2 norm, normalized, 0=different, 1=identical)\n",
      "   🎨 Visualization: Interactive Plotly interface\n"
     ]
    }
   ],
   "source": [
    "%load_ext autoreload\n",
    "%autoreload 2\n",
    "# Interactive Plotly visualizations\n",
    "import warnings\n",
    "warnings.filterwarnings('ignore', category=UserWarning)\n",
    "\n",
    "# Core imports - Plotly for interactive visualization\n",
    "import numpy as np\n",
    "import plotly.graph_objects as go\n",
    "import plotly.express as px\n",
    "from plotly.subplots import make_subplots\n",
    "import logging\n",
    "from IPython.display import display, HTML\n",
    "\n",
    "# Fresh system components\n",
    "from user import User\n",
    "from profile_generator import ProfileGenerator\n",
    "from embedding_generator import EmbeddingGenerator\n",
    "from population import Population\n",
    "from visualizer import Visualizer\n",
    "\n",
    "# Configure logging\n",
    "logging.basicConfig(level=logging.WARNING)  # Reduce noise\n",
    "\n",
    "# Initialize components\n",
    "print(\"🚀 Initializing Mello ML Components...\")\n",
    "profile_generator = ProfileGenerator()\n",
    "embedding_generator = EmbeddingGenerator()\n",
    "population = Population(\"Mello Campus Population\")\n",
    "visualizer = Visualizer()\n",
    "\n",
    "print(f\"✅ Components initialized:\")\n",
    "print(f\"   📝 ProfileGenerator: {profile_generator.model}\")\n",
    "print(f\"   🔢 EmbeddingGenerator: {embedding_generator}\")\n",
    "print(f\"   📊 Architecture: 768D interests + 5×768D traits = 4608D combined\")\n",
    "print(f\"   🎭 Archetypes available: {len(profile_generator.archetypes)}\")\n",
    "print(f\"   📏 Similarity metric: Euclidean Distance (L2 norm, normalized, 0=different, 1=identical)\")\n",
    "print(f\"   🎨 Visualization: Interactive Plotly interface\")"
   ]
  },
  {
   "cell_type": "markdown",
   "metadata": {},
   "source": [
    "## 🎭 Generate 50 Synthetic Users\n",
    "\n",
    "Creates diverse synthetic users using 50 personality archetypes with unified personality profiling."
   ]
  },
  {
   "cell_type": "code",
   "execution_count": null,
   "metadata": {},
   "outputs": [
    {
     "data": {
      "text/plain": [
       "42"
      ]
     },
     "execution_count": 12,
     "metadata": {},
     "output_type": "execute_result"
    }
   ],
   "source": []
  },
  {
   "cell_type": "code",
   "execution_count": 13,
   "metadata": {},
   "outputs": [
    {
     "name": "stdout",
     "output_type": "stream",
     "text": [
      "🎭 Generating 50 synthetic users with unified personality approach...\n",
      "This may take several minutes due to API calls...\n",
      "\n",
      "   Generating user 1/200... ✅ James Vargas\n",
      "classYear: 2026\n",
      "major: Computer Science\n",
      "bio: Future-proofing the present, one line of code at a time. I'm fascinated by the intersection of technology and society, especially how our digital creations are reshaping what it means to be human. When I'm not coding, you can usually find me lost in a cyberpunk novel or researching the latest advancements in AI.\n",
      "interests: Cyberpunk literature, Artificial Intelligence, Ethical Hacking, Virtual Reality, Sci-Fi films, Software Engineering, Neuromorphic Computing (tech geek drawn to cyberpunk a...)\n",
      "   Generating user 2/200... ✅ Beth Kelly\n",
      "classYear: 2026\n",
      "major: Film Production & Studies\n",
      "bio: Constantly chasing the next visual or sonic inspiration. I'm fascinated by how stories can be told without words, and the raw emotion found in a perfectly imperfect melody. Currently trying to figure out how to project films onto clouds.\n",
      "interests: experimental cinema, indie music, analog photography, sound design, obscure documentaries, graphic novels, vintage synthesizers (creative arts student into exp...)\n",
      "   Generating user 3/200... ✅ Cheryl Glass\n",
      "classYear: 2026\n",
      "major: Communications \n",
      "bio: Obsessed with all things pop culture and always know the latest tea! You can usually find me scrolling through TikTok, planning my next concert outfit, or debating the best Marvel movie. Let's make some memories and maybe a viral video or two!\n",
      "interests: Celebrity gossip, TikTok trends, Reality TV, Concerts, Fashion, Social media, Coffee shops (social butterfly who loves cel...)\n",
      "   Generating user 4/200... ✅ Amber Bradley\n",
      "classYear: 2025\n",
      "major: Political Science with a minor in Journalism\n",
      "bio: I believe in the power of collective action and amplifying marginalized voices. My goal is to challenge the status quo and contribute to a more just and equitable world, one protest and deeply researched article at a time. The future is unwritten, but we can shape it.\n",
      "interests: civil rights, environmental justice, grassroots organizing, investigative journalism, documentary filmmaking, intersectional feminism, public speaking (passionate activist engaged wi...)\n",
      "   Generating user 5/200... ✅ Helen Gomez\n",
      "classYear: 2026\n",
      "major: English Literature\n",
      "bio: Honestly, give me a well-worn paperback and a cozy blanket over anything newfangled. There's something so comforting in stories that have stood the test of time, and I love exploring the enduring truths they hold. Maybe I'm old-fashioned, but classic tales just have a magic that modern things sometimes lack.\n",
      "interests: classic novels, vintage movies, knitting, baking, folk music, antique shopping, historical dramas (nostalgic traditionalist prefe...)\n",
      "   Generating user 6/200... ✅ Chelsea Bird\n",
      "classYear: 2026\n",
      "major: Communications\n",
      "bio: OMG, it's me, Chelsea! I'm basically living for the next viral moment and all things pop culture. Catch me scrolling TikTok, debating celebrity conspiracies, and planning my next bestie brunch. Let's make some memories and maybe go Insta official? 😉\n",
      "interests: Celebrity gossip, TikTok trends, Reality TV, Concerts, Fashion, Social media, Brunch (social butterfly who loves cel...)\n",
      "   Generating user 7/200... ✅ Alexander Tucker\n",
      "classYear: 2025\n",
      "major: Electrical Engineering\n",
      "bio: I'm here to build things that work. I like getting my hands dirty with projects, whether it's optimizing a circuit or figuring out a more efficient way to get things done. Practicality over theory, any day.\n",
      "interests: robotics, automation, renewable energy, cybersecurity, competitive programming, home DIY, strategy games (grounded pragmatist preferring...)\n",
      "   Generating user 8/200... ✅ Robert Hill\n",
      "classYear: 2025\n",
      "major: Classical Studies\n",
      "bio: I find solace and profound truth in the enduring legacy of ancient civilizations. There's a certain elegance to the wisdom passed down through millennia, a testament to human ingenuity and artistic spirit that transcends fleeting trends. My studies are not just academic pursuits, but a journey into the heart of what makes us human.\n",
      "interests: Roman history, Greek philosophy, Renaissance art, classical music, literary criticism, archaeology, historical fiction (timeless classicist who values...)\n",
      "   Generating user 9/200... "
     ]
    },
    {
     "name": "stderr",
     "output_type": "stream",
     "text": [
      "WARNING:profile_generator:Failed to parse JSON response: Expecting ',' delimiter: line 15 column 6 (char 548)\n"
     ]
    },
    {
     "name": "stdout",
     "output_type": "stream",
     "text": [
      "✅ Donna Miller\n",
      "classYear: 2025\n",
      "major: Philosophy\n",
      "bio: I find beauty in the unadorned. Life's grand narratives often hide in the quiet hum of everyday moments, and I seek to understand them. Give me a good book, a quiet corner, and meaningful conversation over anything else.\n",
      "interests: existentialism, acoustic guitar, indie folk, hiking, ethical consumption, journaling, classic literature (minimalist who prefers simple,...)\n",
      "   Generating user 10/200... ✅ Alyssa Roberts\n",
      "classYear: 2026\n",
      "major: Anthropology\n",
      "bio: You never know what's around the next corner, and that's the best part! I'm always down for a spontaneous road trip, exploring new places, or just seeing where the day takes me. Let's make some unforgettable memories.\n",
      "interests: urban exploration, thrift store diving, hiking unknown trails, independent film, open mic nights, trying new foods, stargazing (spontaneous adventurer open to...)\n",
      "\n",
      "📈 Progress: 52/10 users completed\n",
      "\n",
      "   Generating user 11/200... ✅ Tammy Henderson\n",
      "classYear: 2025\n",
      "major: Business Administration (with a focus on Operations Management)\n",
      "bio: I’m here to learn what actually works in the real world, not just theory. My goal is to build a practical skillset that will make me a valuable asset wherever I end up. I prefer to spend my time on things that have a tangible outcome.\n",
      "interests: optimizing processes, personal finance, hiking, independent films, cooking, volunteer work, home improvement projects (grounded pragmatist preferring...)\n",
      "   Generating user 12/200... ✅ Linda Perez\n",
      "classYear: 2026\n",
      "major: Comparative Literature\n",
      "bio: My sanctuary is found nestled between the pages of an ancient tome, dissecting the human condition through the lens of history's greatest minds. I find solace in quiet contemplation and the intricate dance of philosophical debate, though often from a safe, observant distance.\n",
      "interests: Classic literature, existential philosophy, ancient history, etymology, quiet cafes, historical linguistics, thoughtful discussions (bookworm introvert who loves c...)\n",
      "   Generating user 13/200... ✅ Nicole Fisher\n",
      "classYear: 2025\n",
      "major: Sports Management\n",
      "bio: Hey! I'm a huge sports fanatic, always cheering on my favorite teams. When I'm not watching a game, you can usually find me curled up with a good biography or rewatching my favorite sports movie for the tenth time. I love learning about the journeys of influential figures, especially in the athletic world.\n",
      "interests: basketball, historical biographies, sports movies, hiking, cooking, fantasy football, podcasts (sports fan who enjoys biograph...)\n",
      "   Generating user 14/200... ✅ Robert Campbell\n",
      "classYear: 2026\n",
      "major: English Literature\n",
      "bio: Hi! I'm a total hopeless romantic, always on the lookout for the next great love story to get lost in. Life's too short not to believe in happy endings, right?\n",
      "interests: reading romance novels, watching rom-coms, journaling, exploring local coffee shops, creative writing, volunteering at the animal shelter (romantic optimist who enjoys l...)\n",
      "   Generating user 15/200... ✅ Jennifer Cummings\n",
      "classYear: 2026\n",
      "major: Screenwriting\n",
      "bio: I’m pretty sure my spirit animal is a well-timed punchline. Always on the hunt for the next great stand-up special or a truly cringeworthy meme. If you can make me snort-laugh in public, you’ve basically won my heart.\n",
      "interests: stand-up comedy, satirical news, improv shows, sketch comedy, meme culture, irony, dark humor (comedy enthusiast who gravitat...)\n",
      "   Generating user 16/200... ✅ Russell Gross\n",
      "classYear: 2026\n",
      "major: Philosophy\n",
      "bio: I find beauty in the unadorned truth, in stories that resonate deep within the human experience, and melodies that speak without words. Life’s complexity often hides simple, profound insights, and I'm always seeking to uncover them.\n",
      "interests: existential literature, acoustic guitar, hiking, independent film, meditation, thoughtful conversations, folk music (minimalist who prefers simple,...)\n",
      "   Generating user 17/200... ✅ Krystal Mckenzie\n",
      "classYear: 2026\n",
      "major: English Literature\n",
      "bio: Dreaming in happily-ever-afters and convinced true love is out there, probably waiting for me at a coffee shop with a bookshelf. I'm a firm believer in the power of a good romantic comedy and the magic of a perfectly crafted love story. Always looking for the beauty in the everyday and the potential for a grand adventure.\n",
      "interests: reading romance novels, watching rom-coms, journaling, exploring cute cafes, listening to indie pop, creative writing, stargazing (romantic optimist who enjoys l...)\n",
      "   Generating user 18/200... ✅ Jessica Acevedo\n",
      "classYear: 2026\n",
      "major: Art History and Literature (double major)\n",
      "bio: I find my truest self when I'm lost in the beauty of a canvas or the rhythm of a perfectly crafted sentence. My heart aches for understanding, and I believe art is the most profound language we have to express the inexpressible. I'm always looking for those quiet moments that resonate deeply within the soul.\n",
      "interests: painting, poetry, classical music, art museums, old books, indie films, tea ceremonies (sensitive artist attracted to ...)\n",
      "   Generating user 19/200... ✅ Eliza \"Sunshine\" Vance\n",
      "classYear: 2026\n",
      "major: Undeclared (exploring all options!)\n",
      "bio: Life's an unwritten adventure, and I'm here for all the spontaneous detours! You'll never find me with a rigid plan, but you'll always find me with a smile and an open mind, ready to embrace whatever surprises the day throws my way. Let's make some unforgettable memories, even if we don't know what they are yet!\n",
      "interests: road trips, stargazing, exploring new cafes, unexpected concerts, antique shopping, volunteering, learning random facts (spontaneous adventurer open to...)\n",
      "   Generating user 20/200... ✅ Sarah Jenkins\n",
      "classYear: 2026\n",
      "major: English Literature\n",
      "bio: Dreaming of a love story straight out of a rom-com, I'm just a girl, standing in front of a college, asking for a happily ever after. I believe in the power of good vibes, heartfelt moments, and that perfect song that just *gets* you. Let's find some magic together!\n",
      "interests: romantic comedies, baking, journaling, indie pop music, walking in botanical gardens, collecting vintage postcards (romantic optimist who enjoys l...)\n",
      "\n",
      "📈 Progress: 62/20 users completed\n",
      "\n",
      "   Generating user 21/200... ✅ Kristen Alvarez\n",
      "classYear: 2026\n",
      "major: Sociology and Peace & Conflict Studies (double major)\n",
      "bio: I believe in the boundless potential of the human spirit and am passionate about exploring how communities can flourish. My goal is to contribute to a world where everyone has the opportunity to thrive and discover their own remarkable capabilities. I'm always looking for stories that illuminate the best of humanity!\n",
      "interests: social justice, community building, personal development, narrative storytelling, ethical technology, global cooperation, interfaith dialogue (optimistic humanist interested...)\n",
      "   Generating user 22/200... ✅ Heather Luna\n",
      "classYear: 2026\n",
      "major: Computer Science and Philosophy (double major)\n",
      "bio: I’m fascinated by systems and the logic that underpins everything, from code to human behavior. You can often find me untangling complex problems, whether it's debugging a program or debating ethical paradoxes. I believe the universe is just one big, beautiful puzzle waiting to be solved.\n",
      "interests: cryptography, escape rooms, true crime documentaries, classic whodunits, chess, cybersecurity, artificial intelligence ethics (analytical thinker who enjoys ...)\n",
      "   Generating user 23/200... "
     ]
    },
    {
     "name": "stderr",
     "output_type": "stream",
     "text": [
      "WARNING:profile_generator:Failed to parse JSON response: Invalid control character at: line 20 column 219 (char 943)\n"
     ]
    },
    {
     "name": "stdout",
     "output_type": "stream",
     "text": [
      "✅ Dr. Jordan Shannon\n",
      "classYear: 2025\n",
      "major: Philosophy and Political Science\n",
      "bio: I believe in the boundless potential of humanity and the power of collective imagination to build a more just and beautiful world. My days are spent exploring audacious ideas and finding inspiration in the stories of those who dare to dream. Every sunrise is an invitation to contribute to the tapestry of a brighter future.\n",
      "interests: utopian literature, social justice, sustainable communities, ethical AI, philosophical debates, intentional living, documentary filmmaking (dreamy idealist drawn to utopi...)\n",
      "   Generating user 24/200... ✅ Dustin Mullen\n",
      "classYear: 2026\n",
      "major: Comparative Literature\n",
      "bio: My natural habitat is a quiet corner of the library, preferably with a well-worn copy of Montaigne or an obscure Russian novel. I find the exploration of human thought across centuries to be the most compelling adventure one can embark on, and I often lose myself in the intricate dance of ideas within classic texts.\n",
      "interests: Existentialism, Russian Literature, Literary Theory, Ancient Philosophy, Calligraphy, Independent Bookstores, Classical Music (bookworm introvert who loves c...)\n",
      "   Generating user 25/200... ✅ Beverly Love\n",
      "classYear: 2025\n",
      "major: Business Administration (Concentration in Operations Management)\n",
      "bio: I'm all about getting things done efficiently and seeing tangible results. No time for fluff; I prefer to dive into what's practical and directly applicable. My goal is to build a solid foundation that will serve me well in the real world.\n",
      "interests: project management, supply chain logistics, personal finance, hiking, independent film, cooking practical meals, DIY home improvement (grounded pragmatist preferring...)\n",
      "   Generating user 26/200... ✅ William Foster\n",
      "classYear: 2025\n",
      "major: Electrical Engineering\n",
      "bio: I'm here to build things that work, reliably and efficiently. You won't find me chasing fads or impractical theories; I'm all about concrete solutions and the satisfaction of a job well done. Let's talk about what's real and what makes sense.\n",
      "interests: circuit design, home improvement, practical mechanics, hiking, financial planning, coffee, local news (practical realist who prefers ...)\n",
      "   Generating user 27/200... ✅ Jerry Stanley\n",
      "classYear: 2026\n",
      "major: Computer Science\n",
      "bio: The universe is vast and full of untold stories waiting to be discovered, both real and imagined. I spend my days coding realities and my nights dreaming of starships and the complex moral dilemmas of a future we haven't quite outrun yet. Hopefully, one day, I'll be building the tech that takes us there.\n",
      "interests: space exploration, AI ethics, cyberpunk literature, retrofuturism, independent game development, astronomy, dystopian films (sci-fi enthusiast fascinated b...)\n",
      "   Generating user 28/200... ✅ Joshua Hatfield\n",
      "classYear: 2025\n",
      "major: Political Science and Sociology (double major)\n",
      "bio: I believe in speaking truth to power and advocating for a more just and equitable world. Driven by critical thought and a passion for social change, I'm always looking for ways to engage, learn, and amplify marginalized voices. Let's dismantle oppressive systems, one conversation, one protest, one policy at a time.\n",
      "interests: political theory, intersectional feminism, grassroots organizing, documentary film, community gardens, critical race theory, ethical consumption (passionate activist engaged wi...)\n",
      "   Generating user 29/200... ✅ Nicholas Williams\n",
      "classYear: 2026\n",
      "major: Philosophy\n",
      "bio: The world's a stage, and most people are reading the wrong script. I'm here to write my own, filled with dissonance and inconvenient truths. I'd rather provoke thought than conform to expectations.\n",
      "interests: DIY zines, experimental noise music, existentialist literature, urban exploration, screen printing, independent film, critical theory (rebel nonconformist attracted ...)\n",
      "   Generating user 30/200... ✅ Michelle Rogers\n",
      "classYear: 2026\n",
      "major: Classics and Philosophy (Double Major)\n",
      "bio: My relentless pursuit of knowledge is fueled by a desire to understand the fundamental truths that underpin our existence. I find solace and profound insight in the wisdom of antiquity, believing that the enduring questions posed by classical thinkers remain as relevant today as ever. Every academic endeavor is an opportunity to delve deeper into intellectual challenges and hone my analytical prowess.\n",
      "interests: Ancient Greek, Latin, Epistemology, Metaphysics, History of Philosophy, Literary Criticism, Public Speaking (academic perfectionist focused...)\n",
      "\n",
      "📈 Progress: 72/30 users completed\n",
      "\n",
      "   Generating user 31/200... ✅ Elara Vance\n",
      "classYear: 2026\n",
      "major: Philosophy and Political Science (with a minor in Creative Writing)\n",
      "bio: My heart beats for a world reimagined – a place where empathy guides policy and innovation sparks true liberation. I believe in the power of collective vision, and I'm constantly seeking out new ideas that challenge the status quo and inspire a more just and beautiful future.\n",
      "interests: utopian literature, social justice, speculative fiction, sustainable living, existential philosophy, poetry, community organizing (dreamy idealist drawn to utopi...)\n",
      "   Generating user 32/200... ✅ Daniel Porter\n",
      "classYear: 2025\n",
      "major: Urban Studies and Media Studies (double major)\n",
      "bio: I'm all about the pulse of the city – from the quiet hum of early mornings to the late-night buzz. My camera is practically an extension of my hand, always ready to capture the fleeting moments that make urban life so captivating. I'm endlessly fascinated by how culture manifests in concrete jungles and the stories people tell through their spaces.\n",
      "interests: Street photography, independent film, contemporary art, urban planning, live music, vintage streetwear, coffee shop hopping (urban dweller fascinated by ci...)\n",
      "   Generating user 33/200... ✅ Maya Rodriguez\n",
      "classYear: 2025\n",
      "major: Fine Arts - Emphasis in New Media\n",
      "bio: Obsessed with pushing the boundaries of visual narrative. I explore how emergent technologies can be used to craft immersive and emotionally resonant stories, often blurring the lines between reality and the digital. My work is a playground for light, sound, and interactive experiences.\n",
      "interests: augmented reality, virtual reality, sound design, interactive installations, experimental film, digital painting, glitch art (art student passionate about v...)\n",
      "   Generating user 34/200... ✅ Angela Scott\n",
      "classYear: 2025\n",
      "major: Mechanical Engineering\n",
      "bio: If it doesn't make my heart pound, I'm probably bored. I live for the rush and am always looking for the next big adventure, whether it's building something fast or testing my limits. Let's make some noise and push boundaries!\n",
      "interests: skydiving, rock climbing, competitive racing (cars/bikes), whitewater rafting, parkour, extreme sports photography, engineering high-performance vehicles (adrenaline junkie who seeks in...)\n",
      "   Generating user 35/200... "
     ]
    },
    {
     "name": "stderr",
     "output_type": "stream",
     "text": [
      "WARNING:profile_generator:Failed to parse JSON response: Expecting property name enclosed in double quotes: line 10 column 1 (char 341)\n"
     ]
    },
    {
     "name": "stdout",
     "output_type": "stream",
     "text": [
      "✅ Jennifer Ray\n",
      "classYear: 2026\n",
      "major: Digital Media Arts\n",
      "bio: My sketchbook is basically a portal to another dimension, and I'm always looking for a new medium to bend to my will. Whether it's coding a generative art piece or building a sculpture out of found objects, I love the thrill of making something completely new. There are no rules, just endless possibilities.\n",
      "interests: generative art, avant-garde film, experimental music, street art, performance art, graphic design, interactive installations (curious experimenter always tr...)\n",
      "   Generating user 36/200... ✅ Edward Dominguez\n",
      "classYear: 2026\n",
      "major: Philosophy, Politics, and Economics (PPE)\n",
      "bio: I believe a brighter, more equitable world isn't just a dream – it's an achievable goal if we work together with purpose and compassion. My passions lie in exploring radical solutions for social justice and imagining how we can build systems that truly nurture human potential. The future is ours to sculpt, and I'm here to contribute to something beautiful.\n",
      "interests: utopian studies, social justice, speculative fiction, sustainable design, community organizing, ethical philosophy, inspirational speeches (dreamy idealist drawn to utopi...)\n",
      "   Generating user 37/200... ✅ Maurice Nichols\n",
      "classYear: 2025\n",
      "major: Psychology\n",
      "bio: I'm endlessly fascinated by the whys and hows of human behavior, especially what drives people to do the things they do. Give me a complex character in a book or on screen, and I'll spend hours dissecting their motives and their inner world. I believe stories are the most powerful way to understand ourselves and others.\n",
      "interests: character analysis, narrative theory, classic literature, true crime documentaries, independent film, journaling, urban exploration (psychology student drawn to ch...)\n",
      "   Generating user 38/200... ✅ Christopher Jones\n",
      "classYear: 2025\n",
      "major: History\n",
      "bio: There’s nothing quite like sinking into a well-researched historical novel or getting lost in a richly crafted period drama. I'm endlessly fascinated by the lives and societies of the past, and I believe understanding history is key to understanding our present.\n",
      "interests: Historical fiction, Period dramas, Ancient civilizations, Mythology, Genealogy, Museums, Documentaries (history buff interested in his...)\n",
      "   Generating user 39/200... ✅ Evelyn Thorne\n",
      "classYear: 2026\n",
      "major: English Literature & Philosophy\n",
      "bio: The shadows whisper secrets I'm eager to unearth. I'm drawn to the crumbling grandeur of forgotten narratives and the unsettling depths of the human psyche. Expect me to be brooding in a quiet corner of the library, probably with a copy of something darkly existential.\n",
      "interests: Victorian Gothic literature, film noir, psychology of cults, existential philosophy, true crime podcasts, black coffee, abandoned places, classical music (Paganini especially) (dark aesthete fascinated by go...)\n",
      "   Generating user 40/200... ✅ Dawn Howard\n",
      "classYear: 2025\n",
      "major: English Literature\n",
      "bio: There's nothing quite like curling up with a classic, is there? I find comfort in stories that have endured through generations, the kind my grandparents probably loved too. Call me old-fashioned, but some things are just timeless for a reason.\n",
      "interests: classic novels, vintage films, knitting, historical fashion, letter writing, baking bread, antique shopping (nostalgic traditionalist prefe...)\n",
      "\n",
      "📈 Progress: 82/40 users completed\n",
      "\n",
      "   Generating user 41/200... ✅ Jennifer Mercado\n",
      "classYear: 2026\n",
      "major: Art History\n",
      "bio: I find beauty in the quiet details and the narratives hidden within them. My focus is on understanding the evolution of artistic expression that speaks volumes without needing to shout. I'm always looking for the nuanced brushstroke or the forgotten architectural element.\n",
      "interests: Renaissance art, historical fashion, classical music, urban sketching, antique books, independent film, botanical illustration (quiet observer interested in s...)\n",
      "   Generating user 42/200... ✅ Amelia Hayes\n",
      "classYear: 2026\n",
      "major: Computer Science and Philosophy (double major)\n",
      "bio: I thrive on dissecting complex problems and uncovering hidden connections. There's nothing quite like the satisfaction of a logical breakthrough, whether it's debugging a tricky piece of code or piecing together a philosophical argument. I'm always looking for my next intellectual challenge.\n",
      "interests: cryptography, escape rooms, forensic science, existential philosophy, board games, ethical AI, historical mysteries (analytical thinker who enjoys ...)\n",
      "   Generating user 43/200... ✅ Ethan Vance\n",
      "classYear: 2026\n",
      "major: Astrophysics and Computer Science (double major)\n",
      "bio: Humanity's future lies out there, among the stars – or perhaps, in the code we write here on Earth. I spend my days unravelling the universe's biggest mysteries and tinkering with tech that might one day make us an interstellar species. Dystopian narratives aren't just entertainment for me; they're cautionary tales for the civilizations we're striving to become.\n",
      "interests: space exploration, AI ethics, exoplanetary science, cyberpunk literature, virtual reality, indie game development, speculative fiction writing (sci-fi enthusiast fascinated b...)\n",
      "   Generating user 44/200... ✅ Elara Meadowlight (legally John Rogers)\n",
      "classYear: 2026\n",
      "major: Music Theory and Composition\n",
      "bio: My heart beats to the rhythm of ancient forests and the clash of arcane spells. While physics and calculus may occupy my weekdays, my soul truly soars when lost in tales of dragons, elves, and the grand orchestral scores that bring those worlds to life. If you need me, I'm probably crafting the next epic soundtrack for a battle that only exists in my head.\n",
      "interests: tabletop role-playing games, orchestral film scores, world-building, fantasy novels, mythology, digital art, long walks in nature (imagining adventures) (fantasy escapist who prefers m...)\n",
      "   Generating user 45/200... ✅ Edward Stephens II\n",
      "classYear: 2026\n",
      "major: Philosophy and Classical Languages (Double Major)\n",
      "bio: As a student of the enduring human spirit, I delight in dissecting foundational texts and exploring the profound questions that have shaped civilization. My academic pursuit is not merely about grades, but about the rigorous cultivation of intellect and a deeper understanding of truth. I believe the greatest insights are found at the intersection of ancient wisdom and contemporary thought.\n",
      "interests: Ancient Greek, Latin, philosophical debate, classical music, literary theory, epigraphy, etymology (academic perfectionist focused...)\n",
      "   Generating user 46/200... ✅ Alice Chen\n",
      "classYear: 2026\n",
      "major: English Literature\n",
      "bio: My joy comes from the simple narratives that uncover deep truths. I believe a well-placed pause speaks louder than a thousand words, and true beauty lies in the unadorned.\n",
      "interests: reading, journaling, hiking, playing acoustic guitar, indie films, small coffee shops, nature walks (minimalist who prefers simple,...)\n",
      "   Generating user 47/200... ✅ Brenda Santos\n",
      "classYear: 2026\n",
      "major: Communications\n",
      "bio: Heyyyy! 👋 Your resident pop culture expert and trendsetter here! If it's on TikTok, in a celeb's story, or gonna be the next big thing, I'm already there. Let's spill some tea and make some memories! ✨\n",
      "interests: Celebrity Gossip, TikTok Trends, Reality TV, Concerts, Fashion Hauls, Brunch, Social Media (social butterfly who loves cel...)\n",
      "   Generating user 48/200... ✅ Stella Maris\n",
      "classYear: 2025\n",
      "major: Theatre and Performance Studies\n",
      "bio: Hey everyone! I'm Stella, and honestly, the world's my stage. I live for bringing stories to life, whether it's through a searing monologue or an unforgettable improv sketch. If you see me belting out show tunes in the quad, just join in!\n",
      "interests: acting, musical theatre, improv comedy, directing, screenwriting, costume design, dance, karaoke (extroverted performer drawn to...)\n",
      "   Generating user 49/200... ✅ Joshua Parker\n",
      "classYear: 2026\n",
      "major: Computer Science\n",
      "bio: I'm always looking for the next problem to solve. Whether it's debugging a complex program or unraveling a good whodunit, I thrive on the challenge of piecing together clues and finding the logical solution. My ideal weekend involves a new puzzle and a good book.\n",
      "interests: escape rooms, cryptography, classic detective novels, cybersecurity, board games, logic puzzles, coding challenges (analytical thinker who enjoys ...)\n",
      "   Generating user 50/200... "
     ]
    },
    {
     "name": "stderr",
     "output_type": "stream",
     "text": [
      "WARNING:profile_generator:Failed to parse JSON response: Invalid control character at: line 10 column 41 (char 193)\n"
     ]
    },
    {
     "name": "stdout",
     "output_type": "stream",
     "text": [
      "✅ Eleanor Vance\n",
      "classYear: 2026\n",
      "major: Art History\n",
      "bio: I find beauty in the quiet details, often overlooked. My greatest joy comes from contemplating how art, in its many subtle forms, reflects the human experience across time. \n",
      "interests: Renaissance portraiture, chiaroscuro lighting, independent film, ambient music, antique bookstores, urban sketching, black and white photography (quiet observer interested in s...)\n",
      "\n",
      "📈 Progress: 92/50 users completed\n",
      "\n",
      "   Generating user 51/200... ✅ Spencer White\n",
      "classYear: 2026\n",
      "major: Interdisciplinary Arts & Technology\n",
      "bio: I'm constantly on the hunt for the next creative rabbit hole to dive down, whether it's coding a generative art piece or learning to bind custom books. The intersection of emerging tech and timeless artistic expression is where I really thrive. If it involves a new medium or a wild idea, count me in!\n",
      "interests: generative art, experimental music production, letterpress printing, interactive installations, speculative fiction, digital fabrication, performance art (curious experimenter always tr...)\n",
      "   Generating user 52/200... ✅ Kimberly Parrish\n",
      "classYear: 2026\n",
      "major: Psychology (with a minor in Film Studies)\n",
      "bio: I'm fascinated by the \"why\" behind human actions, especially in fictional worlds. Give me a morally grey character grappling with their identity and some complex narrative structure, and I'm hooked. I believe stories are the ultimate psychological experiments.\n",
      "interests: character development, narrative analysis, indie film, classic literature, ethical dilemmas, screenwriting, true crime podcasts (psychology student drawn to ch...)\n",
      "   Generating user 53/200... ✅ Ryan Carey\n",
      "classYear: 2025\n",
      "major: Classics and Philosophy (double major)\n",
      "bio: My pursuit of knowledge is driven by an unyielding desire to master the great intellectual traditions of Western thought. I find profound beauty and enduring wisdom in the rigorous study of ancient texts and the timeless philosophical questions they raise. Every challenge is an opportunity to deepen my understanding and refine my intellectual discipline.\n",
      "interests: Ancient Greek epics, Latin poetry, Stoic philosophy, Socratic method, etymology, literary analysis, competitive debate, classical music, museum curation (academic perfectionist focused...)\n",
      "   Generating user 54/200... ✅ Yesenia Whitney\n",
      "classYear: 2026\n",
      "major: Sociology and Communications (dual major)\n",
      "bio: I believe in the inherent goodness of people and am passionate about exploring how we can build more compassionate and equitable communities. My greatest joy comes from hearing and sharing stories that illuminate human resilience and our boundless capacity for positive change. I'm excited to learn, grow, and contribute to a world where everyone can thrive.\n",
      "interests: community building, ethical technology, social entrepreneurship, documentary filmmaking, global development, human rights, positive psychology (optimistic humanist interested...)\n",
      "   Generating user 55/200... ✅ Brent Contreras\n",
      "classYear: 2026\n",
      "major: Computer Science and Digital Arts (Dual Major)\n",
      "bio: I'm always looking for the next big thing, whether it's a revolutionary AI or a hidden gem of a cyberpunk novel. My passion lies at the intersection of technology and creativity, where code can evoke emotion and digital worlds feel tactile. I thrive on pushing boundaries and imagining the possibilities of a technologically advanced (and sometimes chaotic) future.\n",
      "interests: Artificial Intelligence, Cyberpunk Literature, VR/AR Development, Sci-Fi Worldbuilding, Indie Game Design, Ethical Hacking, Synthesizer Music (tech geek drawn to cyberpunk a...)\n",
      "   Generating user 56/200... ✅ Raymond Martin\n",
      "classYear: 2026\n",
      "major: Philosophy and Political Science\n",
      "bio: I believe in the power of collective imagination to build a more just and beautiful world. My heart aches for true equality and radical empathy, and I spend my days dreaming of how we can manifest these ideals. There's a better future waiting, and I'm dedicated to finding the path to it.\n",
      "interests: utopian literature, social justice movements, ethical philosophy, spoken word poetry, contemplative practices, sustainable living, inspirational documentaries (dreamy idealist drawn to utopi...)\n",
      "   Generating user 57/200... ✅ Cindy Ramirez\n",
      "classYear: 2025\n",
      "major: Sports Management\n",
      "bio: Hey! I'm a huge sports fanatic, living and breathing for game day. When I'm not cheering on my favorite teams, you can find me curled up with a good biography or lost in an epic sports movie. I'm always down to talk stats, strategies, or inspiring underdog stories!\n",
      "interests: Basketball, Biographies, Football, Sports Movies, Leadership, Fitness, History (sports fan who enjoys biograph...)\n",
      "   Generating user 58/200... ✅ Elizabeth Webb\n",
      "classYear: 2026\n",
      "major: Sociology and Peace & Conflict Studies (double major)\n",
      "bio: I'm just incredibly excited to be here, learning and growing! I believe in the boundless potential of every individual and am on a quest to understand how we can support each other in reaching for our brightest futures. My goal is to contribute to a world where everyone has the opportunity to thrive.\n",
      "interests: community organizing, documentary filmmaking, ethical technology, positive psychology, global literature, social entrepreneurship, nature walks (optimistic humanist interested...)\n",
      "   Generating user 59/200... "
     ]
    },
    {
     "name": "stderr",
     "output_type": "stream",
     "text": [
      "WARNING:profile_generator:Failed to parse JSON response: Expecting property name enclosed in double quotes: line 7 column 1 (char 2598)\n",
      "ERROR:profile_generator:Failed to parse JSON from personality response: ```json\n",
      "{\n",
      "  \"Openness\": \"This individual exhibits a moderate degree of openness, demonstrating a selective curiosity for new experiences. While comfortable exploring novel artistic expressions, music ...\n",
      "ERROR:profile_generator:Failed to generate personality profiles for Roxy \"Rox\" Malone\n",
      "classYear: 2026\n",
      "major: Comparative Literature (with a focus on underground press)\n",
      "bio: Corporate conformity is a disease, and I'm the cure. You can find me lurking in forgotten corners of the city, notebook in hand, sketching the shadows of modern decay. If it's mainstream, I'm out; if it's got grit and a story to tell, I'm all in.\n",
      "interests: Zine making, experimental music, street art, anarcho-punk history, found poetry, avant-garde cinema, urban exploration\n"
     ]
    },
    {
     "name": "stdout",
     "output_type": "stream",
     "text": [
      "❌ Failed profiles\n",
      "   Generating user 60/200... ✅ Mitchell Navarro\n",
      "classYear: 2025\n",
      "major: Urban Studies and Media Production\n",
      "bio: My city is my muse—the concrete jungle fuels my creativity and keeps me on my toes. I'm all about capturing the pulse of urban life through film and sound, exploring how our contemporary culture shapes and is shaped by the places we inhabit. When I'm not in class, you'll probably find me at a pop-up gallery or hunting for the best street art.\n",
      "interests: indie film, street art, electronic music, urban exploration, contemporary art, pop-up events, documentary photography (urban dweller fascinated by ci...)\n",
      "\n",
      "📈 Progress: 101/60 users completed\n",
      "\n",
      "   Generating user 61/200... ✅ Denise Robinson\n",
      "classYear: 2025\n",
      "major: Sociology and Ethnic Studies (double major)\n",
      "bio: I'm passionate about amplifying marginalized voices and working towards a more equitable world. Every day presents an opportunity to learn, challenge the status quo, and build bridges through honest dialogue and collective action. Let's connect and make a difference!\n",
      "interests: social justice, intersectionality, community organizing, documentary filmmaking, spoken word poetry, restorative justice, diverse literature (social activist interested in ...)\n",
      "   Generating user 62/200... ✅ Larry Rivers\n",
      "classYear: 2025\n",
      "major: Electrical Engineering\n",
      "bio: I thrive on order and precision, believing that a well-crafted plan is the foundation for any successful endeavor. My approach to life, like my preferred stories, favors clear progressions and satisfying conclusions. I'm always seeking to understand how things work, and more importantly, how to make them work better.\n",
      "interests:电路设计, project management, classical literature, strategic board games, crime procedural dramas, hiking, cybersecurity (methodical planner who enjoys ...)\n",
      "   Generating user 63/200... ✅ Richard Sims\n",
      "classYear: 2026\n",
      "major: Environmental Science\n",
      "bio: Hey there! I'm Richard, and you'll most likely find me\n",
      "outdoors exploring. I'm passionate about understanding and protecting our planet, and\n",
      "I'm always up for an adventure, whether it's a challenging hike or a peaceful\n",
      "afternoon spent birdwatching. Let's make a positive impact on the world, one\n",
      "sustainable step at a time!\n",
      "interests: hiking, national parks, wildlife photography, sustainable living, camping, kayaking, trail running (nature lover interested in env...)\n",
      "   Generating user 64/200... ✅ Tammy Mckee\n",
      "classYear: 2025\n",
      "major: Sociology and Critical Race & Ethnic Studies (double major)\n",
      "bio: I'm a passionate advocate for equity and believe in the power of collective action to create meaningful change. I'm always looking for ways to amplify marginalized voices and challenge systemic injustices. Let's connect and build a more just world together!\n",
      "interests: intersectional feminism, community organizing, documentary filmmaking, spoken word poetry, restorative justice, ethical fashion, grassroots movements (social activist interested in ...)\n",
      "   Generating user 65/200... ✅ Amanda Padilla\n",
      "classYear: 2026\n",
      "major: Theatre and Performance Studies\n",
      "bio: Hey y'all, Amanda here! You can usually find me causing a joyous ruckus, whether I'm on stage or just, you know, being me. I'm always looking for my next big creative adventure and love bringing stories to life – especially the ones that make you gasp!\n",
      "interests: acting, improv comedy, musical theatre, stage combat, playwriting, costume design, spontaneous dance parties (extroverted performer drawn to...)\n",
      "   Generating user 66/200... ✅ Dominique Turner\n",
      "classYear: 2025\n",
      "major: Music Composition\n",
      "bio: Lost in the symphonies of fictional worlds, I spend my days dreaming of epic quests and powerful magic. If I'm not composing, I'm probably re-reading a high fantasy series or getting lost in video game soundtracks. Life's better with dragons and a good orchestral score.\n",
      "interests: fantasy novels, video game music, Dungeons & Dragons, world-building, epic soundtracks, character design, mythical creatures (fantasy escapist who prefers m...)\n",
      "   Generating user 67/200... ✅ Caroline Thompson\n",
      "classYear: 2026\n",
      "major: Comparative Literature\n",
      "bio: Lost in the labyrinth of my own imagination, I find solace and adventure within the pages of books and the endless possibilities of fantasy. Reality is overrated; I'd much rather be fighting dragons or navigating enchanted forests. If you need me, I'll be in another world.\n",
      "interests: fantasy novels, speculative fiction, Dungeons & Dragons, creative writing, anime, cosplay, world-building (escapist dreamer seeking fanta...)\n",
      "   Generating user 68/200... ✅ Sarah Chen\n",
      "classYear: 2025\n",
      "major: Philosophy and Cognitive Science\n",
      "bio: I'm currently wrestling with the big questions, finding solace and new perspectives in meditation and the wisdom traditions. My journey is about understanding consciousness – both my own and the universal kind – and how we create meaning in this wild ride of life. Always open to a deep conversation about anything from existentialism to the latest neuroscience discoveries.\n",
      "interests: meditation, existential philosophy, neuroscience, yoga, hiking, lucid dreaming, ethical veganism (spiritual seeker exploring med...)\n",
      "   Generating user 69/200... ✅ Cheryl Erickson\n",
      "classYear: 2026\n",
      "major: Sports Management\n",
      "bio: As a huge Yankees and Knicks fan, most of my free time revolves around sports. I'm always down to catch a game, whether it's live or on TV. When I'm not cheering, I love diving into books about athletes or watching inspiring sports movies.\n",
      "interests: baseball, basketball, biographies, sports movies, volunteering, fitness, podcasts (sports fan who enjoys biograph...)\n",
      "   Generating user 70/200... ✅ Anya Sharma\n",
      "classYear: 2025\n",
      "major: Sociology and Political Science (double major)\n",
      "bio: I'm passionate about amplifying marginalized voices and working towards a more equitable world. I believe that real change happens when we listen to diverse perspectives and actively challenge systemic injustices. Let's create a future where everyone can thrive!\n",
      "interests: social justice, intersectional feminism, community organizing, ethical consumption, documentary filmmaking, spoken word poetry, global human rights (social activist interested in ...)\n",
      "\n",
      "📈 Progress: 111/70 users completed\n",
      "\n",
      "   Generating user 71/200... ✅ Debbie Combs\n",
      "classYear: 2026\n",
      "major: English Literature\n",
      "bio: There's nothing quite like curling up with a classic, a cup of tea, and a good old-fashioned story. I believe the best tales are the ones that have stood the test of time, and I love discovering new layers in familiar narratives. I'm always up for a conversation about the enduring power of literature and the comfort of tradition.\n",
      "interests: Victorian novels, Broadway musicals, classical music, knitting, antique markets, handwritten letters, historical dramas (nostalgic traditionalist prefe...)\n",
      "   Generating user 72/200... ✅ Andrew Franco\n",
      "classYear: 2026\n",
      "major: Digital Media Arts\n",
      "bio: Hey, I’m Andrew! I'm constantly diving into new artistic mediums, whether it's coding a generative art piece, trying out abstract photography, or even getting into experimental sound design. College is the perfect playground for me to mash up technology and creativity in ways I haven't even dreamed of yet.\n",
      "interests: generative art, experimental photography, interactive installations, electronic music production, graphic novel creation, virtual reality experiences, projection mapping (curious experimenter always tr...)\n",
      "   Generating user 73/200... ✅ Holly Robbins\n",
      "classYear: 2026\n",
      "major: Business Administration (Entrepreneurship Focus)\n",
      "bio: I'm all about turning ideas into reality, whether it's my next big venture or a new way to optimize my time. I believe in the power of continuous learning and always seek out new perspectives to fuel my growth. Let's connect if you're also passionate about building, learning, and making an impact!\n",
      "interests: entrepreneurship, business strategy, motivational podcasts, leadership, personal development, financial literacy, networking (entrepreneur interested in bus...)\n",
      "   Generating user 74/200... ✅ Kimberly Brady\n",
      "classYear: 2025\n",
      "major: Fine Arts (Concentration in New Media Art)\n",
      "bio: I’m all about pushing boundaries and seeing how far I can bend traditional artistic forms. My passion lies in visual storytelling, especially through interactive and immersive experiences – think less canvas, more code. I believe art should be a conversation, and I want to invite everyone into mine.\n",
      "interests: digital fabrication, VJing, augmented reality, experimental film, installation art, glitche art, sound design (art student passionate about v...)\n",
      "   Generating user 75/200... "
     ]
    },
    {
     "name": "stderr",
     "output_type": "stream",
     "text": [
      "WARNING:profile_generator:Failed to parse JSON response: Expecting value: line 13 column 3 (char 865)\n"
     ]
    },
    {
     "name": "stdout",
     "output_type": "stream",
     "text": [
      "✅ William Frey\n",
      "classYear: 2026\n",
      "major: Sociology and Political Science\n",
      "bio: I believe in the power of collective action to create a more equitable world. My passion lies in amplifying marginalized voices and challenging systemic injustices through education and advocacy. I'm always looking for new ways to engage in meaningful dialogue and translate empathy into tangible change.\n",
      "interests: social justice, intersectionality, community organizing, documentary filmmaking, spoken word poetry, podcasting, international relations (social activist interested in ...)\n",
      "   Generating user 76/200... "
     ]
    },
    {
     "name": "stderr",
     "output_type": "stream",
     "text": [
      "WARNING:profile_generator:Failed to parse JSON response: Expecting ':' delimiter: line 16 column 1 (char 945)\n"
     ]
    },
    {
     "name": "stdout",
     "output_type": "stream",
     "text": [
      "✅ Andrew \"Aethelred\" Sterling\n",
      "classYear: 2026\n",
      "major: Computer Science & Digital Media Studies (Dual Major)\n",
      "bio: My brain runs on lines of code and the gritty aesthetics of neo-Tokyo. I’m endlessly fascinated by the bleeding edge of tech and how it’s shaping our future, for better or for worse. When I’m not debugging or concepting, you can probably find me lost in a cyberpunk novel or tinkering with some bizarre new gadget.\n",
      "interests: Cyberpunk fiction, AI ethics, generative art, open-source software, retro-futurism, transhumanism, modular synthesizers (tech geek drawn to cyberpunk a...)\n",
      "   Generating user 77/200... ✅ Sheila Clark\n",
      "classYear: 2025\n",
      "major: Business Administration (Concentration in Operations Management)\n",
      "bio: I'm not here to write a thesis, I'm here to build something that works. Give me the problem, and I'll find the most efficient way to solve it. My brain is wired for practical applications, not theoretical debates.\n",
      "interests: process improvement, organizational efficiency, project management, financial literacy, well-researched consumer goods, functional design, hiking (grounded pragmatist preferring...)\n",
      "   Generating user 78/200... "
     ]
    },
    {
     "name": "stderr",
     "output_type": "stream",
     "text": [
      "WARNING:profile_generator:Failed to parse JSON response: Expecting ',' delimiter: line 21 column 6 (char 1643)\n"
     ]
    },
    {
     "name": "stdout",
     "output_type": "stream",
     "text": [
      "✅ Samuel Morrison\n",
      "classYear: 2025\n",
      "major: Environmental Science\n",
      "bio: Hey there! I'm Sam, and there's nothing I love more than exploring the great outdoors. If I'm not in class, you can probably find me hiking a new trail, trying to identify local flora, or planning my next backpacking trip. I'm passionate about protecting our planet and learning how we can live more sustainably.\n",
      "interests: hiking, backpacking, birdwatching, environmental conservation, camping, nature photography, sustainable living (nature lover interested in env...)\n",
      "   Generating user 79/200... ✅ Ryan Lee\n",
      "classYear: 2025\n",
      "major: Theatre Arts\n",
      "bio: Hey y'all, Ryan here! If you need me, I'm probably on stage, rehearsing a monologue, or brainstorming my next big performance art piece. Life's a stage, and I'm just here for the dramatic entrance (and exit, of course!).\n",
      "interests: acting, directing, musical theatre, improv comedy, film analysis, costume design, playwriting (extroverted performer drawn to...)\n",
      "   Generating user 80/200... ✅ Jeffrey Rojas\n",
      "classYear: 2026\n",
      "major: English Literature\n",
      "bio: Dreaming of a love story as epic as the ones in my favorite novels. I believe in happy endings and the magic of connection. You can usually find me lost in a good book or rewatching a rom-com for the tenth time.\n",
      "interests: reading romance novels, watching romantic comedies, journaling, picnics, starry night walks, baking, indie pop music (romantic optimist who enjoys l...)\n",
      "\n",
      "📈 Progress: 121/80 users completed\n",
      "\n",
      "   Generating user 81/200... ✅ Russell Curtis\n",
      "classYear: 2026\n",
      "major: Urban Studies\n",
      "bio: Seriously, the city is my classroom. I love dissecting neighborhood trends, finding the best hidden gems, and generally embracing the chaos and creativity of urban life. My dream is to work in city planning or cultural development, helping shape the future of dynamic metropolises.\n",
      "interests: street art, indie film, underground music, avant-garde theater, public transportation, urban photography, local food scenes (urban dweller fascinated by ci...)\n",
      "   Generating user 82/200... ✅ Katherine Hall\n",
      "classYear: 2026\n",
      "major: Sports Management\n",
      "bio: Hey, I'm Katherine! I'm a huge sports fanatic, especially when it comes to basketball and track & field. When I'm not cheering on my favorite teams, you can usually find me with my nose in a good book, especially biographies, or curled up watching a classic sports movie.\n",
      "interests: sports, biographies, sports movies, volunteering, running, playing basketball, hiking (sports fan who enjoys biograph...)\n",
      "   Generating user 83/200... ✅ Jacob Smith\n",
      "classYear: 2026\n",
      "major: Sports Management\n",
      "bio: Hey, I'm Jacob! You can usually find me glued to a Lakers game or re-watching \"Remember the Titans\" for the hundredth time. When I'm not cheering on my teams, I love diving into a good biography, especially about athletes or historical figures who overcame the odds.\n",
      "interests: Basketball, Football, Sports documentaries, Reading biographies, Leadership, History, Fitness (sports fan who enjoys biograph...)\n",
      "   Generating user 84/200... ✅ Katie Collier\n",
      "classYear: 2026\n",
      "major: Philosophy\n",
      "bio: I'm always looking for deeper meaning and understanding. My journey involves exploring ancient wisdom traditions, modern philosophical concepts, and the transformative power of meditation to better understand consciousness. I believe growth comes from within and through thoughtful inquiry.\n",
      "interests: meditation, existentialism, Eastern philosophy, mindfulness, human consciousness, nature walks, ethical veganism (spiritual seeker exploring med...)\n",
      "   Generating user 85/200... ✅ James Lamb\n",
      "classYear: 2025\n",
      "major: Film Studies and Media Production\n",
      "bio: Obsessed with pushing cinematic boundaries and crafting narratives that linger. My camera is an extension of my soul, always searching for the unconventional. When I'm not on set, you'll find me lost in the raw energy of underground music scenes.\n",
      "interests: experimental cinema, indie music, film scoring, screenwriting, photography, analog synthesizers, graphic design (creative arts student into exp...)\n",
      "   Generating user 86/200... ✅ Darlene Lawrence\n",
      "classYear: 2025\n",
      "major: Film & Digital Media\n",
      "bio: I'm obsessed with finding new ways to tell stories, especially through animation and interactive experiences. My brain is basically 90% caffeine and 10% abstract concepts. Always looking for my next creative rabbit hole.\n",
      "interests: experimental animation, interactive art, virtual reality, sound design, street photography, graphic novels, abstract expressionism (art student passionate about v...)\n",
      "   Generating user 87/200... ✅ Luna Skye Hawthorne\n",
      "classYear: 2026\n",
      "major: Art History, minor in Creative Writing\n",
      "bio: Chasing stardust and good vibes. I believe art is revolutionary, and every street corner holds a story waiting to be told. You can usually find me with a sketchbook, a cup of herbal tea, and a head full of dreams.\n",
      "interests: vintage finds, poetry slams, indie music, nature walks, painting, upcycling, journaling (free spirit attracted to bohem...)\n",
      "   Generating user 88/200... "
     ]
    },
    {
     "name": "stderr",
     "output_type": "stream",
     "text": [
      "WARNING:profile_generator:Failed to parse JSON response: Expecting value: line 13 column 3 (char 718)\n"
     ]
    },
    {
     "name": "stdout",
     "output_type": "stream",
     "text": [
      "✅ Erik Peterson\n",
      "classYear: 2025\n",
      "major: Comparative Literature\n",
      "bio: Shadows hold more truth than light ever could. I seek beauty in decay, solace in the macabre, and understanding in the convoluted depths of the human psyche. Don't bother me with your trivialities.\n",
      "interests: gothic literature, film noir, existential philosophy, true crime podcasts, cemeteries, dark academia fashion, psychological thrillers (dark aesthete fascinated by go...)\n",
      "   Generating user 89/200... ✅ Lisa Mitchell\n",
      "classYear: 2025\n",
      "major: Computer Science\n",
      "bio: I thrive on bringing order to complexity, whether it's optimizing algorithms or meticulously planning my semester. My ideal narrative involves clear goals, logical steps, and a satisfying, well-defined conclusion. I believe thorough preparation is the key to both academic and personal success.\n",
      "interests: algorithmic puzzles, detailed itinerary planning, classic mystery novels, project management, financial planning, competitive strategy games, organized hiking trips (methodical planner who enjoys ...)\n",
      "   Generating user 90/200... ✅ Luna Seraphina Willow\n",
      "classYear: 2026\n",
      "major: Fine Arts (with a focus on Mixed Media and Performance)\n",
      "bio: I'm just a drifter on the cosmic currents, seeking beauty in the ephemeral and truth in the unconventional. You'll probably find me with paint on my hands, a sketchpad in my bag, and a wild idea brewing. Life's too short for beige; let's splash some vibrant colors on it!\n",
      "interests: abstract painting, street art, poetry slams, vintage fashion, experimental music, independent film, foraging for natural pigments (free spirit attracted to bohem...)\n",
      "\n",
      "📈 Progress: 131/90 users completed\n",
      "\n",
      "   Generating user 91/200... ✅ Aurora Vance\n",
      "classYear: 2026\n",
      "major: Film & Digital Media (Experimental)\n",
      "bio: I’m all about pushing boundaries and finding new ways to tell stories through visuals. Currently obsessed with glitch art, interactive installations, and anything that messes with traditional narrative structures. My biggest goal is to make art that sparks conversations and challenges perceptions.\n",
      "interests: Experimental film, interactive art, digital glitch art, visual storytelling, darkroom photography, sound design, independent game development (art student passionate about v...)\n",
      "   Generating user 92/200... ✅ Jason Mckinney\n",
      "classYear: 2026\n",
      "major: Physics\n",
      "bio: I'm driven by a desire to understand the fundamental laws that govern our universe. My passion lies in dissecting complex problems into their core components and seeking elegant solutions based on empirical data. I believe that rigorous inquiry and verifiable evidence are the cornerstones of true knowledge.\n",
      "interests: quantum mechanics, astrophysics, experimental design, scientific ethics, programming, debate, mountaineering (logical scientist interested i...)\n",
      "   Generating user 93/200... ✅ Jamie Gonzales\n",
      "classYear: 2026\n",
      "major: Forensic Psychology\n",
      "bio: If there's a locked-room mystery or a cold case true crime docuseries, you better believe I'm already on it. My idea of a perfect Friday night involves dim lights, a chilling thriller, and me trying to piece together the clues before the detective does. Sometimes I worry I've read too many crime novels, but then another one draws me in.\n",
      "interests: true crime podcasts, psychological thrillers, escape rooms, analyzing character motives, classic detective novels, cybersecurity, cryptography (mystery lover obsessed with cr...)\n",
      "   Generating user 94/200... ✅ Tiffany Moody\n",
      "classYear: 2026\n",
      "major: Global Studies\n",
      "bio: Hey! I'm Tiffany, originally from Singapore, and loving my time studying abroad! I’m always down for trying new things, whether it's a hole-in-the-wall restaurant or a philosophical discussion over coffee. I thrive on connecting with people from all walks of life.\n",
      "interests: international cinema, trying new cuisines, exploring museums, hiking, learning new languages, indie music, volunteering (international student with div...)\n",
      "   Generating user 95/200... ✅ Maria Vazquez\n",
      "classYear: 2025\n",
      "major: Business Administration (with a concentration in Supply Chain Management)\n",
      "bio: I'm not here to just get a degree; I'm here to build skills that matter. I believe in learning by doing and finding practical solutions to real-world problems. My goal is to make a tangible impact, not just theoretical arguments.\n",
      "interests: optimizing processes, budgeting, personal finance, hiking, cooking, practical technology, community volunteering (grounded pragmatist preferring...)\n",
      "   Generating user 96/200... ✅ Carlos Torres\n",
      "classYear: 2026\n",
      "major: Philosophy\n",
      "bio: Lost in thought, I often find myself pondering the vastness of the universe and our fleeting place within it. I seek to understand not just 'what is,' but 'why' and 'what could be.' My journey is one of continuous questioning and the quiet pursuit of deeper truths.\n",
      "interests: existentialism, ancient Greek philosophy, abstract art, long walks, classical music, stargazing, ethical dilemmas (introspective philosopher cont...)\n",
      "   Generating user 97/200... ✅ Justin Miller\n",
      "classYear: 2026\n",
      "major: Comparative Literature\n",
      "bio: My natural habitat is a quiet corner of the library, preferably with a well-worn copy of *Paradise Lost* or something equally dense. I find solace and endless fascination in the profound questions posed by the great thinkers, and I'm always eager to unravel the intricate layers of a beautifully crafted narrative. If you can quote Nietzsche or have strong opinions on the merits of existentialism, we'll probably get along.\n",
      "interests: classical literature, ancient philosophy, etymology, literary criticism, long walks, independent films, historical research (bookworm introvert who loves c...)\n",
      "   Generating user 98/200... ✅ Jose Ellison\n",
      "classYear: 2026\n",
      "major: Theatre Arts - Performance\n",
      "bio: Hey everyone! I'm Jose, and I'm basically a walking, talking musical. If there's a stage, I'm on it, and if there's an improv scene happening, you can bet I'm there. I love bringing stories to life and making people laugh, cry, or just think for a bit. Catch me in the next campus production!\n",
      "interests: acting, improv comedy, musical theatre, directing, playwriting, performance art, film studies (extroverted performer drawn to...)\n",
      "   Generating user 99/200... ✅ Blake Lawrence\n",
      "classYear: 2025\n",
      "major: Art History and Global Studies\n",
      "bio: I'm constantly seeking out new perspectives and expressions through art. Whether it's ancient folklore or contemporary street art, I believe every piece tells a vital story about our shared human experience. My goal is to bridge cultural divides through a deeper understanding and appreciation of diverse artistic traditions.\n",
      "interests: museum hopping, international cinema, ethnographic art, literary fiction, learning new languages, ethical travel, independent music (cultural curator who appreciat...)\n",
      "   Generating user 100/200... ✅ Christopher Travis\n",
      "classYear: 2026\n",
      "major: Sociology and Peace Studies (double major)\n",
      "bio: I'm captivated by the incredible resilience and capacity for good in humanity. My goal is to understand how we can create more equitable and joyful societies, and then roll up my sleeves to help make it happen. I genuinely believe in our collective ability to build a brighter future, one uplifting story at a time.\n",
      "interests: community organizing, ethical technology, narrative storytelling, social entrepreneurship, mindfulness, sustainable living, interfaith dialogue (optimistic humanist interested...)\n",
      "\n",
      "📈 Progress: 141/100 users completed\n",
      "\n",
      "   Generating user 101/200... ✅ Kenneth Escobar\n",
      "classYear: 2026\n",
      "major: Urban Studies and Media Studies (Dual Degree)\n",
      "bio: I’m all about soaking in the pulse of the city, from underground art shows to the latest pop-up. Digital media is my canvas for capturing and sharing the ever-evolving urban narrative. Constantly looking for what's next and how it shapes our lives.\n",
      "interests: Street photography, independent film, contemporary art, urban exploration, electronic music, digital culture, public transportation (urban dweller fascinated by ci...)\n",
      "   Generating user 102/200... ✅ Sarah Shaffer\n",
      "classYear: 2025\n",
      "major: Marketing\n",
      "bio: Obsessed with all things pop culture! You can usually find me scrolling through TikTok, catching the latest Netflix drop, or raving about a new indie artist. I love being in the know and sharing the hype with my friends.\n",
      "interests: TikTok trends, K-pop, new music releases, reality TV, social media, fashion blogs, online shopping (trend follower who stays curre...)\n",
      "   Generating user 103/200... ✅ Jesse Holland\n",
      "classYear: 2026\n",
      "major: Communications\n",
      "bio: Hey, what's up?! I'm Jesse, your go-to for all things pop culture and the latest trends. When I'm not scrolling TikTok for the hottest dances or dissecting celebrity drama, you can probably find me planning our next epic group hangout. Let's make some memories (and maybe go viral).\n",
      "interests: Celebrity gossip, TikTok trends, Reality TV, Concerts, Social media, Fashion, Brunch (social butterfly who loves cel...)\n",
      "   Generating user 104/200... ✅ Anne Peterson\n",
      "classYear: 2026\n",
      "major: English Literature\n",
      "bio: There’s just something so comforting about a well-worn book and a story that truly makes you feel. I love finding the universal truths in classic tales and seeing how they still resonate today. Give me a rainy day, a cup of tea, and a good narrative, and I'm set.\n",
      "interests: classic novels, vintage movies, historical dramas, calligraphy, antique fairs, baking bread, folk music (nostalgic traditionalist prefe...)\n",
      "   Generating user 105/200... ✅ Elara Vance\n",
      "classYear: 2026\n",
      "major: Art History and Studio Art (dual major)\n",
      "bio: I find beauty in the forgotten corners of the world, in the hushed whispers of old paintings, and the vibrant hum of a new canvas. My art is where my heart truly lives, a way to explore the tender complexities of human emotion and the subtle magic of existence. I believe that true connection happens when we dare to be vulnerable and share the depths of our souls.\n",
      "interests: painting, poetry, museum hopping, indie folk music, journaling, stargazing, nature walks (sensitive artist attracted to ...)\n",
      "   Generating user 106/200... "
     ]
    },
    {
     "name": "stderr",
     "output_type": "stream",
     "text": [
      "WARNING:profile_generator:Failed to parse JSON response: Expecting ':' delimiter: line 16 column 1 (char 1002)\n"
     ]
    },
    {
     "name": "stdout",
     "output_type": "stream",
     "text": [
      "✅ Michael Watson\n",
      "classYear: 2026\n",
      "major: Classics\n",
      "bio: I find true solace and profound understanding in the narratives and artistry of antiquity. The enduring wisdom of the Greeks and Romans continues to illuminate the human condition, offering timeless insights that resonate as powerfully today as they did millennia ago. My studies are a journey through the foundations of Western thought and aesthetics, revealing beauty and truth that transcend ephemeral trends.\n",
      "interests: Roman history, Greek tragedy, classical architecture, ancient philosophy, Latin poetry, historical linguistics, epigraphy (timeless classicist who values...)\n",
      "   Generating user 107/200... ✅ Linda Garcia\n",
      "classYear: 2026\n",
      "major: Philosophy, Politics, and Economics (PPE)\n",
      "bio: I believe in the power of human ingenuity to build a more just and beautiful world. My heart beats for collective flourishing and exploring pathways to a future where everyone can thrive. I'm always seeking out new ideas and inspirations that push the boundaries of what's possible, because the future is ours to create!\n",
      "interests: utopian literature, social justice initiatives, sustainable living, contemplative practices, ethical AI, community building, documentary filmmaking (dreamy idealist drawn to utopi...)\n",
      "   Generating user 108/200... ✅ Andrea Davis\n",
      "classYear: 2026\n",
      "major: Environmental Science\n",
      "bio: Hey there! I'm Andrea, and you'll most likely find me exploring a new hiking trail or trying to identify every tree in sight. I'm passionate about protecting our planet and spent my last summer volunteering at a national park. Let's talk about conservation, the best camping spots, or anything that gets us outdoors!\n",
      "interests: hiking, wildlife photography, river kayaking, sustainable living, plant identification, trail running, camping (nature lover interested in env...)\n",
      "   Generating user 109/200... ✅ Thomas Webster\n",
      "classYear: 2025\n",
      "major: History\n",
      "bio: Ever since I was a kid, the past has fascinated me more than the present. You can usually find me lost in a good historical fiction novel or binging a new period drama series. I'm always looking for ways to connect with history, whether it's through a book, a film, or visiting an old battlefield.\n",
      "interests: historical fiction, period dramas, ancient civilizations, medieval history, historical documentaries, museum visits, historical reenactment (history buff interested in his...)\n",
      "   Generating user 110/200... ✅ Lilith Thorne\n",
      "classYear: 2026\n",
      "major: English Literature (with a focus on Gothic & Victorian Studies)\n",
      "bio: They say the past is a foreign country; I'm here to decipher its macabre missives. My mind is a labyrinth of shadows and whispers, seeking beauty in the decay and truth in the disquiet. I find solace in the stark realities of human nature and the dark corners of the soul.\n",
      "interests: Victorian literature, true crime documentaries, existential philosophy, historical cemeteries, film noir, psychology of cults, antique collecting (dark aesthete fascinated by go...)\n",
      "\n",
      "📈 Progress: 151/110 users completed\n",
      "\n",
      "   Generating user 111/200... ✅ Jennifer Wolfe\n",
      "classYear: 2025\n",
      "major: Sociology and Political Science\n",
      "bio: I'm passionate about amplifying underrepresented voices and advocating for systemic change. My goal is to use my education to challenge injustice and build more equitable communities for everyone. Let's connect and make a difference!\n",
      "interests: social justice, intersectionality, community organizing, public policy, human rights, documentary filmmaking, grassroots movements (social activist interested in ...)\n",
      "   Generating user 112/200... ✅ Linda Richardson\n",
      "classYear: 2025\n",
      "major: Physics\n",
      "bio: My curiosity is driven by a desire to understand the fundamental laws governing our universe. I seek truth through observation, experimentation, and rigorous analysis, always prioritizing data over dogma. My ideal narrative is one built on demonstrable facts and logical deductions.\n",
      "interests: Quantum Mechanics, Data Science, Astronomy, Philosophy of Science, Alpine Hiking, Classical Music, Debate (logical scientist interested i...)\n",
      "   Generating user 113/200... ✅ Jerry Rogers II\n",
      "classYear: 2026\n",
      "major: Marketing\n",
      "bio: Obsessed with all things Marvel and can quote every line from \"Dune.\" If it's trending on TikTok or breaking box office records, you bet I'm there. My life goal is to be the guy who knows everyone and what they're watching.\n",
      "interests: Marvel Cinematic Universe, TikTok trends, blockbuster movies, pop music charts, celebrity gossip, video game releases, Netflix binges (pop culture fanatic who follow...)\n",
      "   Generating user 114/200... ✅ Jill Nolan\n",
      "classYear: 2025\n",
      "major: English (Creative Writing Focus)\n",
      "bio: I’m basically powered by iced coffee and a deep, unyielding love for well-placed sarcasm. If it makes me laugh, I’m in. My superpower is finding the absurd in the everyday.\n",
      "interests: stand-up comedy, satirical news, writing sketch comedy, improv, reading memoirs, indie films, podcast binge-listening (comedy enthusiast who gravitat...)\n",
      "   Generating user 115/200... ✅ William Morrison\n",
      "classYear: 2026\n",
      "major: Sociology and Peace Studies\n",
      "bio: Hello! I'm William, and I believe in the incredible power of people to effect positive change. I'm fascinated by what brings us together and how we can best support each other in reaching our highest potential. My goal is to contribute to a world where everyone has the opportunity to thrive.\n",
      "interests: community organizing, restorative justice, documentary filmmaking, ethical AI, social entrepreneurship, mindfulness, speculative fiction (optimistic humanist interested...)\n",
      "   Generating user 116/200... "
     ]
    },
    {
     "name": "stderr",
     "output_type": "stream",
     "text": [
      "WARNING:profile_generator:Failed to parse JSON response: Expecting ',' delimiter: line 8 column 3 (char 129)\n"
     ]
    },
    {
     "name": "stdout",
     "output_type": "stream",
     "text": [
      "✅ Andrew Johnson\n",
      "classYear: 2025\n",
      "major: Theatre Arts\n",
      "bio: Hey there! I'm an absolute force of nature on and off the stage. Give me a spotlight, a dramatic monologue, or a good old-fashioned improv challenge, and I'm in my element. I love pushing boundaries and making people feel something!\n",
      "interests: acting, improv comedy, film noir, musical theatre, screenwriting, dramatic literature, fashion design (extroverted performer drawn to...)\n",
      "   Generating user 117/200... ✅ Jamie Woodward\n",
      "classYear: 2026\n",
      "major: Classics\n",
      "bio: Erudition is not merely a pursuit of knowledge, but a dedicated journey into the foundational texts and timeless questions that define our humanity. I am drawn to the profound wisdom embedded in ancient languages and philosophies, believing that true intellectual rigor lies in understanding the past to illuminate the present. My academic life is a devoted exploration of these classical landscapes.\n",
      "interests: Ancient Greek, Latin, Roman history, Hellenistic philosophy, etymology, literary criticism, historical linguistics (academic perfectionist focused...)\n",
      "   Generating user 118/200... ✅ Clara Ellison\n",
      "classYear: 2026\n",
      "major: Philosophy\n",
      "bio: I find beauty in the quiet hum of existence, in stories that unfold slowly and leave you contemplating long after. My ideal days involve sunshine, a good book, and the gentle strum of a guitar. I believe less truly is more, especially when it comes to clutter and unnecessary noise.\n",
      "interests: existentialist literature, acoustic guitar, stargazing, ethical consumerism, hiking, journaling, independent film (minimalist who prefers simple,...)\n",
      "   Generating user 119/200... ✅ John Bishop\n",
      "classYear: 2026\n",
      "major: Sports Management\n",
      "bio: As a lifelong sports enthusiast, I'm always down to talk about the latest game or classic rivalries. I'm fascinated by the stories behind the athletes and teams, especially the journeys and leadership that shaped them. Outside of classes, you'll probably find me cheering on my favorite teams or catching up on the latest sports doc.\n",
      "interests: Sports history, Biographies, Documentaries, Football, Basketball, Sports movies, Leadership studies (sports fan who enjoys biograph...)\n",
      "   Generating user 120/200... ✅ Maya Rodriguez\n",
      "classYear: 2025\n",
      "major: Sociology with a Minor in Ethnic Studies\n",
      "bio: I'm passionate about amplifying marginalized voices and fostering inclusive communities. My goal is to challenge systemic injustices and work towards a more equitable world for everyone. Let's collaborate and inspire change!\n",
      "interests: social justice, intersectional feminism, community organizing, ethical consumption, documentary films, spoken word poetry, cultural exchange (social activist interested in ...)\n",
      "\n",
      "📈 Progress: 161/120 users completed\n",
      "\n",
      "   Generating user 121/200... ✅ Devin Harris\n",
      "classYear: 2026\n",
      "major: English Literature\n",
      "bio: I’ve always been fascinated by people’s stories, the good and the bad, the beautiful and the heartbreaking. There’s so much to learn from human experience, and I just want to understand it all. Sometimes it feels like my heart has too many feelings, but maybe that's where the best stories come from.\n",
      "interests: reading literary fiction, watching character-driven movies, volunteering at a local animal shelter, journaling, listening to true crime podcasts, visiting art museums, spending time in nature (emotional empath drawn to hear...)\n",
      "   Generating user 122/200... "
     ]
    },
    {
     "name": "stderr",
     "output_type": "stream",
     "text": [
      "WARNING:profile_generator:Failed to parse JSON response: Invalid control character at: line 9 column 39 (char 185)\n"
     ]
    },
    {
     "name": "stdout",
     "output_type": "stream",
     "text": [
      "✅ Sarah Chen\n",
      "classYear: 2025\n",
      "major: Forensic Psychology\n",
      "bio: Give me a good whodunit and a rainy night, and I'm set. I'm endlessly fascinated by the human mind, especially the darker corners, and how it all plays out in the pursuit of justice. My ideal weekend involves a true crime podcast marathon and trying to figure out the killer before the detective does.\n",
      "interests: true crime podcasts, psychological thrillers, cold case documentaries, investigative journalism, criminology, film noir, escape rooms (mystery lover obsessed with cr...)\n",
      "   Generating user 123/200... ✅ Rebecca Sanchez\n",
      "classYear: 2026\n",
      "major: Conflict Resolution\n",
      "bio: I believe that understanding each other is the first step towards a more peaceful world. I love finding common ground and helping people connect. Let's make some good things happen, together!\n",
      "interests: mediation, community gardening, painting, hiking, baking, reading, mindful breathing (peaceful mediator preferring h...)\n",
      "   Generating user 124/200... ✅ Cameron Avery\n",
      "classYear: 2026\n",
      "major: English Literature and Philosophy\n",
      "bio: The shadows whisper forgotten tales, and I find myself drawn to their mysteries. My prose is often as dark as my coffee, exploring the intricacies of the human psyche and the unsettling beauty of the macabre. Here to dissect the classics and perhaps write my own damnation.\n",
      "interests: Gothic literature, film noir, existential philosophy, psychological thrillers, antique collecting, atmospheric music, historical criminology (dark aesthete fascinated by go...)\n",
      "   Generating user 125/200... ✅ Laura Graham\n",
      "classYear: 2025\n",
      "major: English Literature\n",
      "bio: There's nothing quite like curling up with a classic, or getting lost in a story that feels like coming home. I'm a firm believer that the best tales are the ones that have stood the test of time, and I love exploring the enduring truths within them. You'll often find me with my nose in a book, probably one published before I was born.\n",
      "interests: classic literature, historical fiction, black and white movies, knitting, folk music, letter writing, visiting antique shops (nostalgic traditionalist prefe...)\n",
      "   Generating user 126/200... ✅ Elara Vance\n",
      "classYear: 2026\n",
      "major: Astrophysics and Computer Science (Double Major)\n",
      "bio: My mind lives somewhere between the stars and the lines of code that make our world tick. I'm endlessly curious about humanity's future, even if it's a bit grim, and I spend a lot of time thinking about how we'll get to the next frontier – both technologically and existentially.\n",
      "interests: space exploration, AI ethics, dystopian literature, retrofuturism, quantum physics, independent film, astrophotography (sci-fi enthusiast fascinated b...)\n",
      "   Generating user 127/200... ✅ Sarah Chen\n",
      "classYear: 2025\n",
      "major: International Relations\n",
      "bio: Always searching for the next big adventure, whether it's exploring a new continent or conquering a challenging hike. My ideal night involves a captivating travel memoir and an action-packed movie that gets my heart racing. Life's too short for anything less than extraordinary!\n",
      "interests: Backpacking, Global Cuisine, Action Movies, Photography, Travel Writing, Learning New Languages, Rock Climbing (adventure seeker who loves tra...)\n",
      "   Generating user 128/200... ✅ Elara Vance\n",
      "classYear: 2026\n",
      "major: Digital Media & Interdisciplinary Arts\n",
      "bio: My brain is basically a giant, chaotic mood board constantly buzzing with new ideas. I love diving headfirst into uncharted creative territory, whether it's coding a generative art piece or learning to bind books from unconventional materials. The best part is seeing what happens when you mix things up and break a few rules.\n",
      "interests: generative art, experimental music, zine making, performance art, upcycled fashion, interactive installations, speculative design (curious experimenter always tr...)\n",
      "   Generating user 129/200... ✅ Kristina Marshall\n",
      "classYear: 2026\n",
      "major: Film Studies & Media Arts\n",
      "bio: Obsessed with the fringes of cinema and sound. I spend my nights editing experimental shorts in my dorm room, fueled by obscure documentaries and the latest indie releases. My goal is to make films that challenge perception and make you feel something profoundly unsettling, in the best way possible.\n",
      "interests: experimental film, indie music, analog photography, sound design, abstract art, vintage synthesizers, film theory (creative arts student into exp...)\n",
      "   Generating user 130/200... ✅ Larry Rodriguez\n",
      "classYear: 2026\n",
      "major: Philosophy\n",
      "bio: I find myself perpetually drawn to the deeper questions, the 'why' behind everything. Life feels like an intricate tapestry, and I'm constantly seeking to understand the threads, the patterns, and the ultimate weaver. My peace often comes from quiet contemplation, whether under a starry sky or buried in a classic text.\n",
      "interests: existentialism, moral philosophy, metaphysics, classical literature, indie folk music, stargazing, mindful walking (introspective philosopher cont...)\n",
      "\n",
      "📈 Progress: 171/130 users completed\n",
      "\n",
      "   Generating user 131/200... ✅ Robert Harrell\n",
      "classYear: 2025\n",
      "major: Comparative Literature\n",
      "bio: The world presents itself as a labyrinth, and I, a solitary cartographer, mapping its shadows and hidden passages. I delve into the grotesque beauty of the human psyche, preferring the company of haunted novels to the cacophony of the living. Perhaps one day, I'll find a corner where the light doesn't dare to tread.\n",
      "interests: gothic literature, existential philosophy, film noir, vintage true crime, dark academia, psychological thrillers, urban exploration (dark aesthete fascinated by go...)\n",
      "   Generating user 132/200... ✅ Albert Hunt\n",
      "classYear: 2026\n",
      "major: Sports Management\n",
      "bio: Big fan of anything competitive, especially when it comes to Boston sports teams. I'm usually at the gym or catching up on the latest sports documentaries. History and good storytelling really draw me in, so I'm always looking for a great read or film.\n",
      "interests: Boston sports, basketball, football, sports documentaries, biographies, historical non-fiction, weightlifting (sports fan who enjoys biograph...)\n",
      "   Generating user 133/200... ✅ Clara Bellewood\n",
      "classYear: 2026\n",
      "major: English Literature\n",
      "bio: Lost in a world of ink and celluloid, I'm always on the hunt for forgotten tales and melodies. Give me a rainy day, a worn paperback, and a crackling vinyl record, and I'm in paradise. Hoping to find others who appreciate the beauty of eras gone by!\n",
      "interests: classic films, vintage novels, jazz music, vinyl collecting, antique shops, silent films, old Hollywood history (retro enthusiast who loves vin...)\n",
      "   Generating user 134/200... ✅ Chloe Nguyen\n",
      "classYear: 2026\n",
      "major: Marketing\n",
      "bio: Obsessed with all things pop culture! If it's trending on TikTok or breaking box office records, I'm probably talking about it. My life goals include seeing every Marvel movie on opening night and perfecting my \"What Was I Made For?\" karaoke rendition.\n",
      "interests: TikTok trends, Marvel movies, reality TV, pop music, movie premieres, celebrity gossip, Netflix binge-watching (pop culture fanatic who follow...)\n",
      "   Generating user 135/200... ✅ Adam Woodard\n",
      "classYear: 2026\n",
      "major: Comparative Literature\n",
      "bio: I find beauty in the quiet whispers of the world, in art that dares to be vulnerable, and in the profound connections we forge with stories. I'm often lost in thought, sketching out feelings or finding solace in the written word. My greatest hope is to understand and convey the emotional landscape of humanity through creative expression.\n",
      "interests: poetry, classical music, art history, indie films, nature walks, journaling, philosophical discussions (sensitive artist attracted to ...)\n",
      "   Generating user 136/200... ✅ Akari Tanaka\n",
      "classYear: 2025\n",
      "major: International Relations and East Asian Studies\n",
      "bio: Konnichiwa! I'm Akari, originally from Tokyo, but I've lived in Singapore and London too. I'm fascinated by how different cultures connect and express themselves, especially through food and music. Always looking for new experiences and exciting conversations.\n",
      "interests: Global cuisines, Indie cinema, Learning new languages, K-Pop dance, Traveling off the beaten path, Philosophy podcasts, Calligraphy (international student with div...)\n",
      "   Generating user 137/200... ✅ Jennifer Butler\n",
      "classYear: 2026\n",
      "major: Global Studies and Digital Media\n",
      "bio: As an international student from Singapore, I'm passionate about diverse cultures and how technology bridges communities. I love exploring new places and finding the hidden gems in every city. Always looking for new experiences and good conversations!\n",
      "interests: travel, photography, indie films, exploring diverse cuisines, K-pop, digital art, learning new languages (international student with div...)\n",
      "   Generating user 138/200... ✅ Amelia Vance\n",
      "classYear: 2026\n",
      "major: English Literature\n",
      "bio: I'm just a big ball of feelings, honestly. Give me a good cry over a beautifully written character's struggles any day. I'm always looking for stories that make me feel deeply and understand the human condition a little better.\n",
      "interests: screenwriting, historical dramas, independent films, journaling, poetry, classic novels, animal welfare (emotional empath drawn to hear...)\n",
      "   Generating user 139/200... ✅ Sabrina George\n",
      "classYear: 2025\n",
      "major: Business Administration (Concentration in Strategy & Leadership)\n",
      "bio: I’m driven by impact and fascinated by the architects of change. My goal isn't just to succeed, but to define what success looks like on my own terms, learning from those who've navigated complex hierarchies and built empires. I believe true power lies in understanding the levers and knowing how to pull them.\n",
      "interests: corporate strategy, leadership biographies, venture capital, negotiation tactics, organizational psychology, public speaking, luxury branding (ambitious climber interested i...)\n",
      "   Generating user 140/200... ✅ Lyra Meadowsweet\n",
      "classYear: 2026\n",
      "major: Sociology and Peace Studies (Joint Major)\n",
      "bio: I believe in the boundless potential of humanity to create a world overflowing with kindness, justice, and interconnectedness. My studies are a path to understanding how we can collaboratively build those beautiful futures, one dream, one conversation, one act of compassion at a time. I'm always seeking inspiration and ways to contribute to the collective good.\n",
      "interests: utopian literature, community organizing, ethical consumption, inspirational TED talks, long walks in nature, social justice, sustainable living (dreamy idealist drawn to utopi...)\n",
      "\n",
      "📈 Progress: 181/140 users completed\n",
      "\n",
      "   Generating user 141/200... ✅ Helena Vance\n",
      "classYear: 2025\n",
      "major: Computer Science\n",
      "bio: I thrive on bringing order to complex systems, whether it's optimizing algorithms or meticulously planning my week. I enjoy seeing projects through from conception to a clear, functional conclusion. My goal is always to find the most efficient and logical path forward.\n",
      "interests: structured programming, database design, project management, mystery novels, organizational systems, logic puzzles, efficient travel planning (methodical planner who enjoys ...)\n",
      "   Generating user 142/200... "
     ]
    },
    {
     "name": "stderr",
     "output_type": "stream",
     "text": [
      "WARNING:profile_generator:Failed to parse JSON response: Expecting ',' delimiter: line 8 column 4 (char 117)\n"
     ]
    },
    {
     "name": "stdout",
     "output_type": "stream",
     "text": [
      "✅ Victoria Martinez\n",
      "classYear: 2026\n",
      "major: Marketing\n",
      "bio: Hey, I'm Victoria! Always scrolling to see what's new and what's next. From the latest TikTok dances to the hottest drops, I'm probably already obsessed and planning my next move. Gotta stay ahead of the curve, right?\n",
      "interests: TikTok trends, pop music, sustainable fashion, niche beauty brands, social media strategy, indie films, cafe hopping (trend follower who stays curre...)\n",
      "   Generating user 143/200... ✅ Mindy Lee\n",
      "classYear: 2026\n",
      "major: Communications\n",
      "bio: \"Obsessed with all things #PopCulture! You can usually find me scrolling TikTok for the latest trends or binge-watching the newest Netflix sensation. Let's spill some tea and make some memories!\"\n",
      "interests: celebrity gossip, TikTok trends, reality TV, social media, fashion, pop music, influencer culture (social butterfly who loves cel...)\n",
      "   Generating user 144/200... ✅ Carla Williams\n",
      "classYear: 2025\n",
      "major: Classical Studies\n",
      "bio: As a student of the enduring wisdom of the past, I find immense satisfaction in unraveling the complexities of ancient civilizations. My pursuit isn't merely academic; it's a deep dive into the very foundations of human creativity and thought that continue to resonate today. I believe the greatest works of art and literature possess a timeless quality that transcends passing trends.\n",
      "interests: Roman history, Greek philosophy, Latin literature, ancient architecture, classical music, art history, museum visits (timeless classicist who values...)\n",
      "   Generating user 145/200... ✅ Robert Ochoa\n",
      "classYear: 2025\n",
      "major: Business Administration\n",
      "bio: I’m here to get a solid education that will actually help me build a good life. I appreciate straightforward information and practical skills I can apply. Not too big on abstract theories or things that don't have a clear purpose.\n",
      "interests: financial literacy, personal investing, practical skills workshops, current events, home improvement, hiking, cooking (grounded pragmatist preferring...)\n",
      "   Generating user 146/200... ✅ Cesar Yoder\n",
      "classYear: 2026\n",
      "major: Computer Science\n",
      "bio: My mind lives somewhere between the stars and data streams, constantly pondering the future of humanity and what happens when AI gains sentience. I spend my nights building simulations and my days debating the ethical implications of emerging tech. If it involves a spaceship, a rogue AI, or a crumbling society, I'm hooked.\n",
      "interests: Astrophysics, Ethical AI, Cyberpunk Literature, Classic Sci-Fi Films, Indie Video Games, Space Exploration, Virtual Reality (sci-fi enthusiast fascinated b...)\n",
      "   Generating user 147/200... ✅ Kelly Nash\n",
      "classYear: 2025\n",
      "major: Electrical Engineering\n",
      "bio: I thrive on bringing order to complex systems, whether it's optimizing circuits or planning out my academic calendar. I believe every problem has a logical solution, and I enjoy the process of meticulously finding it. My ideal weekend involves a well-organized project and a good book with a definitive ending.\n",
      "interests: circuit design, project management, classical literature, detailed itineraries, puzzle-solving, historical documentaries, organizational systems (methodical planner who enjoys ...)\n",
      "   Generating user 148/200... ✅ Crystal Hall\n",
      "classYear: 2025\n",
      "major: Forensic Psychology\n",
      "bio: If there's a mystery, I'm already ten steps ahead, piecing together the clues. My ideal weekend involves a true-crime documentary marathon, a stack of psychological thrillers, and a mug of black coffee. I'm always looking for my next chilling read or a puzzle to solve.\n",
      "interests: true crime documentaries, psychological thrillers, crime novels, cold case investigations, escape rooms, analyzing criminal psychology, cryptic crosswords (mystery lover obsessed with cr...)\n",
      "   Generating user 149/200... "
     ]
    },
    {
     "name": "stderr",
     "output_type": "stream",
     "text": [
      "WARNING:profile_generator:Failed to parse JSON response: Invalid control character at: line 12 column 14 (char 562)\n"
     ]
    },
    {
     "name": "stdout",
     "output_type": "stream",
     "text": [
      "✅ Maya Angelou\n",
      "classYear: 2025\n",
      "major: Sociology\n",
      "bio: I'm passionate about amplifying marginalized voices and challenging systemic inequalities. My goal is to use my voice and education to advocate for a more just and equitable world for everyone. Let's build a better future, together!\n",
      "interests: social justice, intersectionality, community organizing, poetry, documentary filmmaking, global human rights, spoken word (social activist interested in ...)\n",
      "   Generating user 150/200... ✅ Ashley Austin\n",
      "classYear: 2026\n",
      "major: Philosophy\n",
      "bio: The world is loud, but I'm listening to the whispers. I'm here to challenge the narratives, not just learn them. If it doesn't make you think, really *think*, what's the point?\n",
      "interests: zine-making, experimental music, urban exploration, radical literature, street art, DIY ethics (rebel nonconformist attracted ...)\n",
      "\n",
      "📈 Progress: 191/150 users completed\n",
      "\n",
      "   Generating user 151/200... ✅ Tiffany Goodman\n",
      "classYear: 2025\n",
      "major: Communication Studies\n",
      "bio: I'm all about finding common ground and fostering positive connections. I believe meaningful conversations can solve almost anything, and I love helping people understand each other better. My goal is to create more harmony, one interaction at a time.\n",
      "interests: active listening, restorative justice, community organizing, non-violent communication, collaborative problem-solving, hiking, cozy mystery novels (peaceful mediator preferring h...)\n",
      "   Generating user 152/200... ✅ Kimberly Morales\n",
      "classYear: 2025\n",
      "major: Astrophysics\n",
      "bio: Just trying to figure out if we're alone in the universe, or if we're just waiting for the next tech-bro to create a real-life dystopia. Obsessed with black holes, AI ethics, and whether replicants dream of electric sheep. Probably overthinking everything, always.\n",
      "interests: space exploration, artificial intelligence, cyberpunk, post-apocalyptic literature, exoplanets, virtual reality, transhumanism (sci-fi enthusiast fascinated b...)\n",
      "   Generating user 153/200... ✅ Amanda Christensen\n",
      "classYear: 2026\n",
      "major: Comparative Literature and Philosophy\n",
      "bio: My natural habitat is a quiet corner in the library, preferably with a well-worn copy of a 19th-century novel or a dense philosophical text. I find immense joy in unraveling complex ideas and exploring the human condition through literature. Always open to a thoughtful discussion, though I prefer listening to pontificating.\n",
      "interests: Victorian novels, existentialist philosophy, classical music, art history, quiet cafes, critical theory, literary criticism (bookworm introvert who loves c...)\n",
      "   Generating user 154/200... ✅ Heather Barnes\n",
      "classYear: 2026\n",
      "major: Conflict Analysis and Resolution\n",
      "bio: I believe in finding common ground and fostering understanding. My passion is creating spaces where everyone feels heard and respected, and I love helping others navigate disagreements with empathy. I genuinely enjoy the process of bringing people together.\n",
      "interests: mediation, community building, non-violent communication, collaborative art projects, hiking, reading diverse perspectives, making friendship bracelets (peaceful mediator preferring h...)\n",
      "   Generating user 155/200... ✅ Luna \"Hex\" Blackwood\n",
      "classYear: 2026\n",
      "major: Comparative Literature and Critical Theory\n",
      "bio: College is just another institution, man, but at least here I can deconstruct it from the inside out. Don't talk to me about career paths; I'm busy dissecting societal norms and planning my next guerrilla art installation. The world needs more chaos, more beauty, more truth – and less beige.\n",
      "interests: Zine making, performance art, obscure anarchist literature, urban exploration, experimental music, anti-capitalist theory, spoken word poetry (rebel nonconformist attracted ...)\n",
      "   Generating user 156/200... ✅ Christine Long\n",
      "classYear: 2025\n",
      "major: Psychology\n",
      "bio: I'm fascinated by the \"why\" behind human behavior, particularly in how characters are built and evolve in stories. You can usually find me analyzing motivations in films or getting lost in a dense novel. I'm hoping to use my understanding of the human mind to craft compelling narratives myself one day.\n",
      "interests: character analysis, narrative theory, classic literature, indie films, screenwriting, ethical dilemmas, psychology studies, existentialism (psychology student drawn to ch...)\n",
      "   Generating user 157/200... ✅ Angela Martinez\n",
      "classYear: 2026\n",
      "major: Sociology and Peace & Conflict Studies (double major)\n",
      "bio: I believe in the boundless potential of humanity to create a better world, founded on compassion, understanding, and collective well-being. My journey is to explore how we can bridge divides and build societies where every individual can flourish. Let's dream big together!\n",
      "interests: utopian literature, community organizing, ethical AI, sustainable living, existential philosophy, contemplative practices, social justice art (dreamy idealist drawn to utopi...)\n",
      "   Generating user 158/200... "
     ]
    },
    {
     "name": "stderr",
     "output_type": "stream",
     "text": [
      "WARNING:profile_generator:Failed to parse JSON response: Invalid control character at: line 3 column 97 (char 264)\n"
     ]
    },
    {
     "name": "stdout",
     "output_type": "stream",
     "text": [
      "✅ Anya Petrova\n",
      "classYear: 2025\n",
      "major: International Relations and East Asian Studies\n",
      "bio: Originally from Sofia, Bulgaria, I'm passionate about exploring global communities and understanding different perspectives. When I'm not buried in my textbooks, you'll probably find me trying out a new recipe from a different country or debating current events. I love a good adventure and finding beauty in unexpected places!\n",
      "interests: global cinema, hiking, trying new cuisines, foreign language podcasts, historical fiction, indie music, art museums (international student with div...)\n",
      "   Generating user 159/200... ✅ Lindsey Gray\n",
      "classYear: 2026\n",
      "major: Music Composition\n",
      "bio: My real life isn't quite as magical as the worlds I explore in my head, but I'm working on it! My greatest joy is creating the soundtracks to epic adventures, both real and imagined. I dream of one day scoring a sweeping fantasy film.\n",
      "interests: fantasy novels, orchestral music, Dungeons & Dragons, video game soundtracks, world-building, mythological creatures, epic poetry (fantasy escapist who prefers m...)\n",
      "   Generating user 160/200... ✅ Elara Vance\n",
      "classYear: 2026\n",
      "major: Art History and Museum Studies\n",
      "bio: I find solace and truth in the quiet language of art, believing that every brushstroke holds a whisper of the human soul. My heart beats in rhythm with the beauty I encounter, always seeking the deeper narratives woven into the fabric of existence. I yearn to create and connect through the profound emotions that art evokes, hoping to leave a gentle ripple of understanding in the world.\n",
      "interests: painting, poetry, classical music, art galleries, vintage photography, nature walks, existential philosophy (sensitive artist attracted to ...)\n",
      "\n",
      "📈 Progress: 201/160 users completed\n",
      "\n",
      "   Generating user 161/200... ✅ Jeremy Kennedy\n",
      "classYear: 2026\n",
      "major: Film Studies with a concentration in Experimental Media\n",
      "bio: My camcorder and I are constantly seeking out the beauty in the mundane and the weird in the wonderful. I spend most of my free time either lost in a film score or planning my next short. If it's got a fuzzy cinematic grain and a DIY spirit, I'm probably obsessed.\n",
      "interests: experimental film, indie music, analog photography, zine making, thrift store finds, synthesizer worship, urban exploration (creative arts student into exp...)\n",
      "   Generating user 162/200... ✅ Larry Wilson\n",
      "classYear: 2026\n",
      "major: History\n",
      "bio: Ever since I got my hands on a copy of *A Tale of Two Cities*, I've been hooked on stories that transport me to a different time. I love digging into the past, whether it's through dusty old textbooks or a beautifully shot period drama. My dream is to one day work in a museum, surrounded by the echoes of history.\n",
      "interests: historical fiction, period dramas, historical non-fiction, world history, documentary films, museum visits, historical reenactment (history buff interested in his...)\n",
      "   Generating user 163/200... ✅ Richard Yang\n",
      "classYear: 2025\n",
      "major: Mechanical Engineering\n",
      "bio: Give me a challenge, and I'll not only meet it, I'll probably jump off something high while doing it. I live for that rush of adrenaline, whether it's on a mountainside or pushing the limits of what's possible in the lab. If it's safe, it's probably boring.\n",
      "interests: skydiving, whitewater rafting, rock climbing, competitive robotics, backcountry skiing, parkour, extreme sports photography (adrenaline junkie who seeks in...)\n",
      "   Generating user 164/200... ✅ Carrie Taylor\n",
      "classYear: 2026\n",
      "major: Comparative Literature\n",
      "bio: I believe the best stories are found in the messiness of human experience – the heartbreak, the quiet triumphs, the unbearable beauty. I find myself drawn to narratives that aren't afraid to explore the depths of emotion, and often, I end up needing a good cry after. I guess I'm just wired to feel things deeply.\n",
      "interests: indie films, memoirs, antique shopping, poetry, psychological thrillers, rainy day walks, journaling (emotional empath drawn to hear...)\n",
      "   Generating user 165/200... ✅ Laura Wall\n",
      "classYear: 2026\n",
      "major: Communications\n",
      "bio: OMG, hey! So excited to be here and meet literally everyone. You'll probably find me scrolling TikTok for the latest celeb gossip or planning my next big night out. Always down for a good time and some amazing pics!\n",
      "interests: Celebrity News, TikTok Trends, Pop Culture, Fashion, Social Events, Photography, Pop Music (social butterfly who loves cel...)\n",
      "   Generating user 166/200... ✅ Terri Murphy\n",
      "classYear: 2026\n",
      "major: Computer Science with a minor in Philosophy\n",
      "bio: The universe is vast and full of uncharted territories, both cosmic and existential. I'm driven by a desire to understand the algorithms that govern our world and the philosophies that define our potential futures, however bleak or brilliant. My laptop is practically an extension of my brain as I explore new tech, build simulations, and craft stories that push the boundaries of what's possible.\n",
      "interests: space exploration, artificial intelligence, cyberpunk literature, astrophotography, ethical hacking, dystopian sociology, virtual reality gaming (sci-fi enthusiast fascinated b...)\n",
      "   Generating user 167/200... ✅ Anya Sharma\n",
      "classYear: 2025\n",
      "major: Global Studies and Digital Media\n",
      "bio: As an international student from India, I'm always eager to explore new cultures and share my own. I love how technology connects us, and I'm fascinated by its role in global communication. When I'm not studying, you can find me trying out new recipes or planning my next adventure.\n",
      "interests: traveling, international cuisine, documentary filmmaking, learning new languages, ethical technology, indie music, hiking (international student with div...)\n",
      "   Generating user 168/200... ✅ Maya Rodriguez\n",
      "classYear: 2025\n",
      "major: Political Science and Sociology (double major)\n",
      "bio: \"I'm here to challenge the status quo and amplify marginalized voices. My passion lies in dissecting systemic injustices and advocating for tangible change, not just through discourse, but through direct action. Let's make some noise and build a more equitable world.\"\n",
      "interests: social justice, intersectional feminism, grassroots organizing, documentary filmmaking, political theory, protest art, environmental activism (passionate activist engaged wi...)\n",
      "   Generating user 169/200... ✅ Maya Rodriguez\n",
      "classYear: 2026\n",
      "major: Communications \n",
      "bio: Obsessed with all things pop culture! If it's trending on TikTok or a celebrity is spilling tea, I'm already there. Catch me live-tweeting awards shows and dissecting the latest Netflix drops with my besties. Let's make some memories and maybe go viral!\n",
      "interests: Celebrity gossip, pop culture analysis, TikTok trends, social media, reality TV, fashion, concert-going (social butterfly who loves cel...)\n",
      "   Generating user 170/200... ✅ Elena Rossi\n",
      "classYear: 2025\n",
      "major: Psychology\n",
      "bio: I've always been fascinated by human behavior, particularly what drives the choices we make and the stories we tell ourselves. There's something incredibly rich in exploring the depths of personality, both real and fictional. When I'm not buried in my textbooks, I'm usually lost in a good book or dissecting a complex film.\n",
      "interests: character analysis, narrative theory, psychological thrillers, screenwriting, literary fiction, human motivation, film studies (psychology student drawn to ch...)\n",
      "\n",
      "📈 Progress: 211/170 users completed\n",
      "\n",
      "   Generating user 171/200... ✅ Shirley Henderson\n",
      "classYear: 2025\n",
      "major: Marketing\n",
      "bio: Obsessed with all things Marvel and can quote every line from \"Mean Girls.\" My Spotify Wrapped is basically a playlist of Top 40 hits and TikTok-famous songs. Always down for a movie night, especially if it's the latest blockbuster everyone's talking about!\n",
      "interests: Marvel movies, TikTok trends, pop music, rom-coms, Buzzfeed quizzes, celebrity gossip, Netflix binging (pop culture fanatic who follow...)\n",
      "   Generating user 172/200... ✅ Dennis Wallace\n",
      "classYear: 2026\n",
      "major: Interdisciplinary Arts & Technology\n",
      "bio: Right now, I'm super into generative AI art and how it blurs the lines between code and creativity. I love getting my hands dirty with new tech and seeing how far I can push the boundaries of traditional artistic expression. If it lets me experiment and learn something new, count me in!\n",
      "interests: digital fabrication, experimental music, interactive installations, speculative design, creative coding, performance art, virtual reality experiences (curious experimenter always tr...)\n",
      "   Generating user 173/200... ✅ Miguel Johnston\n",
      "classYear: 2026\n",
      "major: Comparative Literature and Philosophy (double major)\n",
      "bio: My mind often wanders through the dimly lit corridors of history's forgotten archives and the labyrinthine depths of the human psyche. I find beauty in the shadows, truth in uncomfortable silences, and inspiration in the macabre. This world is a perpetual mystery, and I intend to dissect every dark corner of it.\n",
      "interests: gothic architecture, existentialist philosophy, film noir, psychological thrillers, antique book collecting, urban exploration, classic horror literature (dark aesthete fascinated by go...)\n",
      "   Generating user 174/200... ✅ Madison Brooks\n",
      "classYear: 2025\n",
      "major: Psychology (with a minor in Film Studies)\n",
      "bio: I'm endlessly fascinated by the inner workings of people's minds – what drives us, what breaks us, and all the nuanced shades in between. You can usually find me dissecting character arcs in obscure indie films or getting lost in a really good psychological thriller. I believe stories are the best way to understand ourselves.\n",
      "interests: character analysis, narrative theory, classic cinema, human behavior, existential philosophy, true crime podcasts, journaling (psychology student drawn to ch...)\n",
      "   Generating user 175/200... ✅ Sean Stone\n",
      "classYear: 2025\n",
      "major: Global Studies\n",
      "bio: As a citizen of the world, I'm constantly seeking new perspectives and stories. I love connecting with people from all walks of life and discovering the beauty in our differences. Let's make some memories and broaden our horizons together!\n",
      "interests: International cinema, hiking, trying new cuisines, learning languages, live music, travel photography, volunteering (international student with div...)\n",
      "   Generating user 176/200... ✅ Brian Acosta\n",
      "classYear: 2025\n",
      "major: Physics\n",
      "bio: I approach the world with a critical eye, seeking to understand its underlying principles through observation and rigorous analysis. Factual accuracy and evidence-based reasoning are paramount in my pursuit of knowledge. I find immense satisfaction in dissecting complex problems and arriving at elegant solutions supported by undeniable data.\n",
      "interests: quantum mechanics, astrophotography, computational modeling, scientific ethics, data visualization, historical scientific breakthroughs, logic puzzles (logical scientist interested i...)\n",
      "   Generating user 177/200... ✅ Lawrence Avila\n",
      "classYear: 2026\n",
      "major: undeclared (leaning towards something interdisciplinary like Urban Studies or Experiential Learning)\n",
      "bio: Life's too short for a rigid itinerary! I'm here for the unexpected detours, the spontaneous road trips, and the joy of stumbling upon something new and amazing. If you're down for an adventure with no fixed destination, let's connect!\n",
      "interests: backpacking, urban exploration, street art, experimental cooking, live music (especially obscure bands), late-night talks, finding hidden coffee shops (spontaneous adventurer open to...)\n",
      "   Generating user 178/200... ✅ Elara Meadowlight\n",
      "classYear: 2026\n",
      "major: Comparative Literature\n",
      "bio: Real life is just so… predictable. I prefer to spend my time wandering through forgotten realms and navigating the intricate webs of magical societies. If I'm not lost in a book, I'm probably crafting my own tales or dreaming up new worlds to explore.\n",
      "interests: Fantasy novels, world-building, Dungeons & Dragons, creative writing, stargazing, anime, historical cosplay (escapist dreamer seeking fanta...)\n",
      "   Generating user 179/200... ✅ Stephen Bryant\n",
      "classYear: 2026\n",
      "major: Urban Studies and Media Studies (double major)\n",
      "bio: Bustling sidewalks and hidden murals are my muse. There's an undeniable energy to city life, and I'm obsessed with understanding how it shapes us and how we shape it back. My camera is practically an extension of my hand, always ready to capture the next fleeting moment of urban poetry.\n",
      "interests: Street photography, public art, independent film, music festivals, urban planning, contemporary architecture, digital media trends (urban dweller fascinated by ci...)\n",
      "   Generating user 180/200... ✅ Olivia Chang\n",
      "classYear: 2025\n",
      "major: Theatre Arts with a concentration in Performance\n",
      "bio: Hey everyone! I'm Olivia, and if I'm not on stage, I'm probably humming a show tune or planning my next big role. I love bringing stories to life and connecting with people through the magic of performance. Let's make some drama (the good kind, of course)!\n",
      "interests: acting, musical theatre, directing, improv comedy, attending concerts, Broadway shows, character development, screenwriting (extroverted performer drawn to...)\n",
      "\n",
      "📈 Progress: 221/180 users completed\n",
      "\n",
      "   Generating user 181/200... ✅ Eric Thompson\n",
      "classYear: 2026\n",
      "major: Communications\n",
      "bio: Heyyy! 👋 Your resident pop culture expert and trendsetter here! Always down for a Starbucks run, a TikTok dance party, or a deep dive into the latest celeb drama. Let's make some memories and maybe even go viral! 😉\n",
      "interests: Celebrity Gossip, TikTok Trends, Fashion, Pop Music, Social Media, Reality TV, Concerts (social butterfly who loves cel...)\n",
      "   Generating user 182/200... ✅ Linda Lee\n",
      "classYear: 2025\n",
      "major: Psychology\n",
      "bio: I'm endlessly fascinated by what makes people tick – their motivations, fears, and the stories they tell themselves. My dream is to use my understanding of human behavior to craft narratives that truly resonate. Analyzing character arcs in novels and films is a personal obsession of mine.\n",
      "interests: character analysis, narrative theory, classic literature, film studies, moral philosophy, psychology of art, screenwriting (psychology student drawn to ch...)\n",
      "   Generating user 183/200... ✅ Angela Ortiz\n",
      "classYear: 2026\n",
      "major: Philosophy\n",
      "bio: Officially, I'm a philosophy major, but unofficially, I'm excavating the forgotten corners of existence. This university is a gilded cage, and I'm looking for the cracks in the foundation. Most days you'll find me questioning everything, especially the \"rules.\"\n",
      "interests: experimental film, zine making, anarchist theory, urban exploration, punk show photography, obscure poetry, analog synths (rebel nonconformist attracted ...)\n",
      "   Generating user 184/200... ✅ William Carpenter\n",
      "classYear: 2025\n",
      "major: Classical Studies\n",
      "bio: I find profound beauty and truth in the enduring achievements of antiquity, believing that the echoes of Sophocles and the philosophies of Plato still resonate with timeless relevance today. My academic pursuits are driven by a desire to understand the building blocks of Western civilization and to appreciate the artistry that has inspired generations. I am dedicated to a life of rigorous inquiry and aesthetic appreciation.\n",
      "interests: Roman history, Greek tragedy, classical architecture, ancient philosophy, Latin translation, museum curation, historical linguistics (timeless classicist who values...)\n",
      "   Generating user 185/200... ✅ Kari Clark\n",
      "classYear: 2026\n",
      "major: Music Composition\n",
      "bio: My comfort zone is a fantastical land, dragons soaring overhead, a mystical soundtrack swelling around me. Reality is... fine, I guess, but give me an epic quest any day. I'm probably listening to something cinematic right now.\n",
      "interests: fantasy novels, orchestral soundtracks, Dungeons & Dragons, world-building, concept art, opera, video game scores (fantasy escapist who prefers m...)\n",
      "   Generating user 186/200... ✅ Ella Sanchez\n",
      "classYear: 2026\n",
      "major: Environmental Science\n",
      "bio: Future conservationist with a passion for protecting our planet's wild spaces. You can often find me hiking a new trail, identifying flora and fauna, or planning my next camping trip. I believe that understanding nature is the first step to preserving it.\n",
      "interests: Hiking, Backpacking, Birdwatching, Camping, Sustainable Living, Wildlife Photography, Trail Running (nature lover interested in env...)\n",
      "   Generating user 187/200... ✅ Jennifer Glover\n",
      "classYear: 2026\n",
      "major: Communications\n",
      "bio: OMG, it’s Jen G! You can usually find me scrolling through TikTok for the latest celeb tea or planning my next big night out. Life's too short to be boring, so let's make some memories and maybe go viral doing it.\n",
      "interests: Pop culture, Red carpet fashion, Reality TV, Concerts, Social media trends, Celebrity gossip, Branded content (social butterfly who loves cel...)\n",
      "   Generating user 188/200... ✅ Luna Maeve\n",
      "classYear: 2026\n",
      "major: Fine Arts (focus in Mixed Media & Performance Art)\n",
      "bio: My soul yearns for connection, creation, and a splash of cosmic dust. I believe art isn't just something you do, but something you *are*. You can usually find me with paint on my hands and stars in my eyes, seeking beauty in the unconventional and magic in the mundane.\n",
      "interests: Experimental painting, Spoken word poetry, Vintage clothing thrifting, Tarot reading, Folk music, Independent film, Ethical foraging (free spirit attracted to bohem...)\n",
      "   Generating user 189/200... ✅ Lori Butler\n",
      "classYear: 2026\n",
      "major: Anthropology\n",
      "bio: You'll find me wherever the wind takes me, usually with a camera in hand and an open mind. Life's too short for plans, let's see what amazing things we can stumble upon today! Always up for a spontaneous road trip, a weird museum, or just exploring a new corner of campus.\n",
      "interests: urban exploration, thrift store diving, street art, documentary films, foraging, sketching, people watching (spontaneous adventurer open to...)\n",
      "   Generating user 190/200... ✅ Liam Vance\n",
      "classYear: 2026\n",
      "major: Computer Science with a specialization in Artificial Intelligence\n",
      "bio: I thrive on dissecting complex problems and uncovering hidden patterns. There's nothing more satisfying than when the pieces of a puzzle click into place, especially if that puzzle involves a good mystery or a challenging algorithm. I'm always looking for the next logical labyrinth to explore.\n",
      "interests: cryptography, escape rooms, true crime documentaries, historical ciphers, board games (strategy), ethical hacking, quantum mechanics (conceptual) (analytical thinker who enjoys ...)\n",
      "\n",
      "📈 Progress: 231/190 users completed\n",
      "\n",
      "   Generating user 191/200... "
     ]
    },
    {
     "name": "stderr",
     "output_type": "stream",
     "text": [
      "WARNING:profile_generator:Failed to parse JSON response: Invalid control character at: line 5 column 10 (char 119)\n"
     ]
    },
    {
     "name": "stdout",
     "output_type": "stream",
     "text": [
      "✅ Luna Everhart\n",
      "classYear: 2026\n",
      "major: Comparative Literature\n",
      "bio: My head is almost constantly in the clouds, or more accurately, in another world. I find solace and excitement within the pages of a fantasy novel or the intricate lore of an RPG. Reality is… fine, but the possibilities of the imaginary are boundless.\n",
      "interests: Fantasy novels, Worldbuilding, Role-playing games (RPGs), Digital art, Mythology, Creative writing, Stargazing (escapist dreamer seeking fanta...)\n",
      "   Generating user 192/200... ✅ Anna Price\n",
      "classYear: 2025\n",
      "major: English Literature\n",
      "bio: There's nothing quite like a well-worn classic or a story that has stood the test of time. I love delving into tales that explore universal themes and relying on familiar narratives for comfort and insight. Sometimes, the oldest stories are the newest to us.\n",
      "interests: classic novels, black-and-white movies, folk music, historical fiction, letter writing, baking, antique shops (nostalgic traditionalist prefe...)\n",
      "   Generating user 193/200... ✅ Julie Fischer\n",
      "classYear: 2026\n",
      "major: Music Composition\n",
      "bio: My real life is pretty mundane, but in my head, I'm a powerful sorceress questing across enchanted lands. I spend most of my time conjuring epic orchestral pieces in my dorm, hoping one day they'll be the soundtrack to a legendary saga. If you need me, I'm probably lost in a world of dragons and ancient prophecies.\n",
      "interests: fantasy novels, orchestral music, video game soundtracks, Dungeons & Dragons, world-building, mythological creatures, epic poems (fantasy escapist who prefers m...)\n",
      "   Generating user 194/200... ✅ Chloe Davis\n",
      "classYear: 2026\n",
      "major: Media Studies\n",
      "bio: OMG, it's me, your resident pop culture expert! If it's trending on TikTok or breaking box office records, you know I'm already obsessed. Let's talk theories for the latest Marvel movie or dissect the best celebrity outfits from the Met Gala!\n",
      "interests: TikTok trends, Marvel movies, reality TV, celebrity gossip, pop music, blockbuster films, streaming binges (pop culture fanatic who follow...)\n",
      "   Generating user 195/200... ✅ Glen Harris\n",
      "classYear: 2026\n",
      "major: Undeclared (exploring all options!)\n",
      "bio: Life's too short for a set itinerary! You'll probably find me wherever the wind blows, whether that's road-tripping to a national park on a whim or trying a new, bizarre food truck. I thrive on unexpected moments and believe the best stories come from saying \"yes\" to the unknown.\n",
      "interests: spontaneous road trips, urban exploration, obscure music festivals, trying weird new foods, stargazing, hiking unfamiliar trails, impromptu dance parties (spontaneous adventurer open to...)\n",
      "   Generating user 196/200... ✅ Anya Sharma\n",
      "classYear: 2026\n",
      "major: Global Studies and Digital Media\n",
      "bio: Hey everyone! I'm Anya, originally from New Delhi, India. I'm passionate about exploring new cultures and ideas, and you'll often find me trying to connect the dots between global trends and local narratives. Let's grab some chai or coffee and talk about anything and everything!\n",
      "interests: International cinema, travel photography, fusion cuisine, historical fiction, ethical fashion, live music, spoken word poetry (international student with div...)\n",
      "   Generating user 197/200... ✅ Dylan Phillips\n",
      "classYear: 2026\n",
      "major: Sociology and Peace & Conflict Studies (double major)\n",
      "bio: Hi! My name is Dylan, and I'm fascinated by the incredible things humans can achieve when we work together. I truly believe in the power of empathy and collaboration to tackle big challenges, and I'm always looking for stories that inspire me. Let's make the world a better, brighter place for everyone!\n",
      "interests: human rights, community organizing, ethical leadership, social innovation, documentary filmmaking, uplifting literature, interfaith dialogue (optimistic humanist interested...)\n",
      "   Generating user 198/200... "
     ]
    },
    {
     "name": "stderr",
     "output_type": "stream",
     "text": [
      "WARNING:profile_generator:Failed to parse JSON response: Expecting property name enclosed in double quotes: line 7 column 1 (char 2927)\n",
      "ERROR:profile_generator:Failed to parse JSON from personality response: ```json\n",
      "{\n",
      "  \"Openness\": \"This individual demonstrates a moderate degree of openness, exhibiting a comfortable balance between novelty and familiarity. While they readily explore new music genres, sugg...\n",
      "ERROR:profile_generator:Failed to generate personality profiles for Deanna Sanders\n",
      "classYear: 2026\n",
      "major: Sociology and Communications\n",
      "bio: I truly believe in the incredible power of human connection and the boundless potential within each of us. My passion lies in understanding how people thrive and collaborating to build a more empathic and flourishing world for everyone. I'm always on the lookout for stories that highlight resilience, innovation, and the beautiful ways people lift each other up.\n",
      "interests: community organizing, documentary filmmaking, ethical AI, global social movements, interfaith dialogue, creative writing, sustainable living\n"
     ]
    },
    {
     "name": "stdout",
     "output_type": "stream",
     "text": [
      "❌ Failed profiles\n",
      "   Generating user 199/200... ✅ Ricardo Warren\n",
      "classYear: 2025\n",
      "major: Film & Digital Media\n",
      "bio: I’m always chasing the next visual story, whether it’s through my own lens or in a hidden gem at a microcinema. My goal is to make films that challenge perception and leave you thinking long after the credits roll. If a song doesn't make me feel something visceral, it’s not for me.\n",
      "interests: experimental cinema, analog photography, indie music, synthwave, obscure film festivals, screenwriting, DIY zines (creative arts student into exp...)\n",
      "   Generating user 200/200... ✅ Deborah Johnson\n",
      "classYear: 2026\n",
      "major: Philosophy, Politics, and Economics (PPE)\n",
      "bio: My heart beats for a better world! I love exploring radical ideas for social change and finding inspiration in the stories of those who dared to dream big. The future is ours to build, and I believe we can create something truly beautiful.\n",
      "interests: utopian literature, social justice, sustainable living, contemplative practices, documentary filmmaking, speculative fiction, community organizing (dreamy idealist drawn to utopi...)\n",
      "\n",
      "📈 Progress: 240/200 users completed\n",
      "\n",
      "\n",
      "🎉 Synthetic user generation complete!\n",
      "✅ Successfully generated: 240/200 users\n",
      "📊 Success rate: 120.0%\n",
      "👥 Population size: 240 users\n"
     ]
    }
   ],
   "source": [
    "print(\"🎭 Generating 50 synthetic users with unified personality approach...\")\n",
    "print(\"This may take several minutes due to API calls...\")\n",
    "print()\n",
    "\n",
    "\n",
    "synthetic_users_generated = len(population.users)\n",
    "target_count = 158 + synthetic_users_generated\n",
    "\n",
    "for i in range(target_count):\n",
    "    print(f\"   Generating user {i+1}/{target_count}...\", end=\" \")\n",
    "    \n",
    "    try:\n",
    "        # Generate synthetic user data\n",
    "        user_data = profile_generator.generate_synthetic_user_data()\n",
    "        \n",
    "        if user_data:\n",
    "            # Create user from generated data\n",
    "            user = User.from_json_data(user_data)\n",
    "            \n",
    "            # Generate unified profiles (interests + personality)\n",
    "            profiles_success = profile_generator.generate_complete_profiles(user)\n",
    "            \n",
    "            if profiles_success:\n",
    "                # Generate embeddings (768D each)\n",
    "                embeddings_success = embedding_generator.embed_user_complete(user)\n",
    "                \n",
    "                if embeddings_success:\n",
    "                    population.add_user(user)\n",
    "                    synthetic_users_generated += 1\n",
    "                    archetype = user_data.get('metadata', {}).get('archetype', 'Unknown')\n",
    "                    print(f\"✅ {user.name} ({archetype[:30]}...)\")\n",
    "                else:\n",
    "                    print(f\"❌ Failed embeddings\")\n",
    "            else:\n",
    "                print(f\"❌ Failed profiles\")\n",
    "        else:\n",
    "            print(f\"❌ Failed data generation\")\n",
    "    \n",
    "    except Exception as e:\n",
    "        print(f\"❌ Error: {e}\")\n",
    "    \n",
    "    # Progress update every 10 users\n",
    "    if (i + 1) % 10 == 0:\n",
    "        print(f\"\\n📈 Progress: {synthetic_users_generated}/{i + 1} users completed\\n\")\n",
    "\n",
    "print(f\"\\n🎉 Synthetic user generation complete!\")\n",
    "print(f\"✅ Successfully generated: {synthetic_users_generated}/{target_count} users\")\n",
    "print(f\"📊 Success rate: {synthetic_users_generated/target_count*100:.1f}%\")\n",
    "print(f\"👥 Population size: {len(population)} users\")"
   ]
  },
  {
   "cell_type": "markdown",
   "metadata": {},
   "source": [
    "## 👤 Load Real User\n",
    "\n",
    "Loads a real user from JSON file and processes through the same pipeline."
   ]
  },
  {
   "cell_type": "code",
   "execution_count": 3,
   "metadata": {},
   "outputs": [
    {
     "name": "stdout",
     "output_type": "stream",
     "text": [
      "👤 Loading real user from: yahya_profile.json\n",
      "✅ Loaded user: Yahya Rahhawi\n",
      "   Major: Computer science, Philosophy\n",
      "   Bio: I like philosophy, A.I, volleyball, soccer, watching movies and TV shows, and photography...\n",
      "   Interests: philosophy, sports, computer science, machine learning, reading\n",
      "\n",
      "🔄 Processing Yahya Rahhawi through unified pipeline...\n",
      "   1. Generating unified interests profile from cultural preferences...\n",
      "   ✅ Generated unified profiles\n",
      "   📖 Interests profile: This individual is a profoundly introspective and intellectually driven person, deeply engaged with fundamental questions of existence, morality, and ...\n",
      "   🧠 Personality traits: ['Openness', 'Conscientiousness', 'Extraversion', 'Agreeableness', 'Neuroticism']\n",
      "   2. Generating 768D embeddings...\n",
      "   ✅ Generated embeddings (6 × 768D)\n",
      "   🔢 Combined embedding shape: (4608,)\n",
      "   ✅ Added to population\n",
      "\n",
      "👥 Final population: 42 users\n",
      "📊 Users with embeddings: 42\n"
     ]
    }
   ],
   "source": [
    "# Load real user from JSON file\n",
    "real_user_path = \"yahya_profile.json\"\n",
    "\n",
    "print(f\"👤 Loading real user from: {real_user_path}\")\n",
    "\n",
    "try:\n",
    "    # Load user from JSON\n",
    "    real_user = User.from_json_file(real_user_path)\n",
    "    real_user.special = True  # Mark as special for visualization\n",
    "    \n",
    "    print(f\"✅ Loaded user: {real_user.name}\")\n",
    "    print(f\"   Major: {real_user.profile_data.get('major', 'Unknown')}\")\n",
    "    print(f\"   Bio: {real_user.profile_data.get('bio', 'No bio')[:100]}...\")\n",
    "    print(f\"   Interests: {', '.join(real_user.profile_data.get('interests', [])[:5])}\")\n",
    "    \n",
    "    # Generate unified personality profile from cultural data\n",
    "    print(f\"\\n🔄 Processing {real_user.name} through unified pipeline...\")\n",
    "    print(f\"   1. Generating unified interests profile from cultural preferences...\")\n",
    "    \n",
    "    profiles_success = profile_generator.generate_complete_profiles(real_user)\n",
    "    \n",
    "    if profiles_success:\n",
    "        print(f\"   ✅ Generated unified profiles\")\n",
    "        \n",
    "        # Show profile preview\n",
    "        if real_user.interests_profile:\n",
    "            print(f\"   📖 Interests profile: {real_user.interests_profile[:150]}...\")\n",
    "        \n",
    "        if real_user.personality_profiles:\n",
    "            print(f\"   🧠 Personality traits: {list(real_user.personality_profiles.keys())}\")\n",
    "        \n",
    "        # Generate embeddings\n",
    "        print(f\"   2. Generating 768D embeddings...\")\n",
    "        embeddings_success = embedding_generator.embed_user_complete(real_user)\n",
    "        \n",
    "        if embeddings_success:\n",
    "            print(f\"   ✅ Generated embeddings (6 × 768D)\")\n",
    "            \n",
    "            # Verify embedding dimensions\n",
    "            combined = real_user.get_combined_embedding()\n",
    "            if combined is not None:\n",
    "                print(f\"   🔢 Combined embedding shape: {combined.shape}\")\n",
    "            \n",
    "            # Add to population\n",
    "            population.add_user(real_user)\n",
    "            print(f\"   ✅ Added to population\")\n",
    "            \n",
    "        else:\n",
    "            print(f\"   ❌ Failed to generate embeddings\")\n",
    "    else:\n",
    "        print(f\"   ❌ Failed to generate profiles\")\n",
    "\n",
    "except FileNotFoundError:\n",
    "    print(f\"❌ File not found: {real_user_path}\")\n",
    "    print(f\"   Please ensure the JSON file exists in the correct location\")\n",
    "except Exception as e:\n",
    "    print(f\"❌ Error loading real user: {e}\")\n",
    "\n",
    "print(f\"\\n👥 Final population: {len(population)} users\")\n",
    "print(f\"📊 Users with embeddings: {len(population.get_users_with_embeddings())}\")"
   ]
  },
  {
   "cell_type": "code",
   "execution_count": 17,
   "metadata": {},
   "outputs": [],
   "source": [
    "population = Population()\n",
    "population = population.load_from_json(\"mello_population.json\")"
   ]
  },
  {
   "cell_type": "markdown",
   "metadata": {},
   "source": [
    "## 📊 Population Statistics\n",
    "\n",
    "Analyze the generated population and embedding quality."
   ]
  },
  {
   "cell_type": "code",
   "execution_count": 18,
   "metadata": {},
   "outputs": [
    {
     "name": "stdout",
     "output_type": "stream",
     "text": [
      "📊 Population Statistics\n",
      "==============================\n",
      "Total Users: 240\n",
      "Users with Profiles: 240\n",
      "Users with Embeddings: 240\n",
      "\n",
      "🔢 Embedding Dimensions:\n",
      "   interests_dims: 768D\n",
      "   trait_dims:\n",
      "     Openness: 768D\n",
      "     Conscientiousness: 768D\n",
      "     Extraversion: 768D\n",
      "     Agreeableness: 768D\n",
      "     Neuroticism: 768D\n",
      "   combined_dims: 4608D\n",
      "\n",
      "⭐ Special Users: 1\n",
      "   Yahya Rahhawi - Computer science, Philosophy\n",
      "\n",
      "🎯 Embedding Modes Available:\n",
      "   combined: 240 users, 4608D\n",
      "   interests: 240 users, 768D\n",
      "   Openness: 240 users, 768D\n",
      "   Conscientiousness: 240 users, 768D\n",
      "   Extraversion: 240 users, 768D\n",
      "   Agreeableness: 240 users, 768D\n",
      "   Neuroticism: 240 users, 768D\n"
     ]
    }
   ],
   "source": [
    "# Get population statistics\n",
    "stats = population.get_statistics()\n",
    "\n",
    "print(\"📊 Population Statistics\")\n",
    "print(\"=\" * 30)\n",
    "#print(f\"Population Name: {stats['population_name']}\")\n",
    "print(f\"Total Users: {stats['total_users']}\")\n",
    "print(f\"Users with Profiles: {stats['users_with_profiles']}\")\n",
    "print(f\"Users with Embeddings: {stats['users_with_embeddings']}\")\n",
    "\n",
    "if stats['embedding_stats']:\n",
    "    print(f\"\\n🔢 Embedding Dimensions:\")\n",
    "    for key, value in stats['embedding_stats'].items():\n",
    "        if isinstance(value, int):\n",
    "            print(f\"   {key}: {value}D\")\n",
    "        elif isinstance(value, dict):\n",
    "            print(f\"   {key}:\")\n",
    "            for trait, dims in value.items():\n",
    "                print(f\"     {trait}: {dims}D\")\n",
    "\n",
    "# Find special users\n",
    "special_users = [user for user in population.users if user.special]\n",
    "print(f\"\\n⭐ Special Users: {len(special_users)}\")\n",
    "for user in special_users:\n",
    "    print(f\"   {user.name} - {user.profile_data.get('major', 'Unknown major')}\")\n",
    "\n",
    "# Embedding summary\n",
    "embedding_summary = visualizer.create_embedding_summary(population)\n",
    "print(f\"\\n🎯 Embedding Modes Available:\")\n",
    "for mode, info in embedding_summary['embedding_modes'].items():\n",
    "    if 'users_count' in info and info['users_count'] > 0:\n",
    "        print(f\"   {mode}: {info['users_count']} users, {info.get('dimensions', '?')}D\")"
   ]
  },
  {
   "cell_type": "markdown",
   "metadata": {},
   "source": [
    "## 🔍 Similarity Analysis\n",
    "\n",
    "Test similarity search with the real user (if loaded)."
   ]
  },
  {
   "cell_type": "code",
   "execution_count": 19,
   "metadata": {},
   "outputs": [
    {
     "name": "stdout",
     "output_type": "stream",
     "text": [
      "🔍 Similarity Analysis for Yahya Rahhawi\n",
      "==================================================\n",
      "\n",
      "🎯 Most Similar Users (Combined Embeddings):\n",
      "   1. Jennifer Mercado: 0.995 (quiet observer interested in subtle, und...)\n",
      "   2. Justin Miller: 0.995 (bookworm introvert who loves classic lit...)\n",
      "   3. Jennifer Butler: 0.995 (international student with diverse cultu...)\n",
      "   4. Amanda Reynolds: 0.995 (emotional empath drawn to heart-wrenchin...)\n",
      "   5. Amanda Christensen: 0.995 (bookworm introvert who loves classic lit...)\n",
      "\n",
      "📚 Most Similar Users (Interests Only):\n",
      "   1. Carlos Torres: 0.991 (introspective philosopher contemplating ...)\n",
      "   2. Justin Miller: 0.990 (bookworm introvert who loves classic lit...)\n",
      "   3. Linda Perez: 0.990 (bookworm introvert who loves classic lit...)\n",
      "   4. Amanda Christensen: 0.990 (bookworm introvert who loves classic lit...)\n",
      "   5. Dustin Mullen: 0.990 (bookworm introvert who loves classic lit...)\n",
      "\n",
      "🧠 Trait-Specific Most Similar Users:\n",
      "   Openness: Clara Bellewood (0.991)\n",
      "   Conscientiousness: Jennifer Butler (0.988)\n",
      "   Extraversion: Michael Watson (0.992)\n",
      "   Agreeableness: Alexander Tucker (0.991)\n",
      "   Neuroticism: Christopher Jones (0.989)\n"
     ]
    }
   ],
   "source": [
    "# Find the real user for similarity testing\n",
    "real_user = None\n",
    "for user in population.users:\n",
    "    if user.special:\n",
    "        real_user = user\n",
    "        break\n",
    "\n",
    "if real_user and len(population.get_users_with_embeddings()) >= 5:\n",
    "    print(f\"🔍 Similarity Analysis for {real_user.name}\")\n",
    "    print(\"=\" * 50)\n",
    "    \n",
    "    # Combined similarity (all embeddings)\n",
    "    print(f\"\\n🎯 Most Similar Users (Combined Embeddings):\")\n",
    "    similar_combined = population.find_similar_users(real_user, mode='combined', top_k=5)\n",
    "    \n",
    "    for i, (similar_user, score) in enumerate(similar_combined, 1):\n",
    "        archetype = similar_user.metadata.get('original_data', {}).get('metadata', {}).get('archetype', 'Unknown')\n",
    "        print(f\"   {i}. {similar_user.name}: {score:.3f} ({archetype[:40]}...)\")\n",
    "    \n",
    "    # Interests similarity\n",
    "    print(f\"\\n📚 Most Similar Users (Interests Only):\")\n",
    "    similar_interests = population.find_similar_users(real_user, mode='interests', top_k=5)\n",
    "    \n",
    "    for i, (similar_user, score) in enumerate(similar_interests, 1):\n",
    "        archetype = similar_user.metadata.get('original_data', {}).get('metadata', {}).get('archetype', 'Unknown')\n",
    "        print(f\"   {i}. {similar_user.name}: {score:.3f} ({archetype[:40]}...)\")\n",
    "    \n",
    "    # Trait-specific similarities\n",
    "    print(f\"\\n🧠 Trait-Specific Most Similar Users:\")\n",
    "    traits = ['Openness', 'Conscientiousness', 'Extraversion', 'Agreeableness', 'Neuroticism']\n",
    "    \n",
    "    for trait in traits:\n",
    "        try:\n",
    "            similar_trait = population.find_similar_users(real_user, mode=trait, top_k=1)\n",
    "            if similar_trait:\n",
    "                most_similar, score = similar_trait[0]\n",
    "                print(f\"   {trait}: {most_similar.name} ({score:.3f})\")\n",
    "        except Exception as e:\n",
    "            print(f\"   {trait}: Error - {str(e)[:50]}...\")\n",
    "\n",
    "else:\n",
    "    print(f\"⚠️  Cannot perform similarity analysis:\")\n",
    "    if not real_user:\n",
    "        print(f\"   - No real user loaded (special=True)\")\n",
    "    if len(population.get_users_with_embeddings()) < 5:\n",
    "        print(f\"   - Need at least 5 users with embeddings (have {len(population.get_users_with_embeddings())})\")"
   ]
  },
  {
   "cell_type": "code",
   "execution_count": 20,
   "metadata": {},
   "outputs": [
    {
     "name": "stdout",
     "output_type": "stream",
     "text": [
      "📊 Interactive Plotly Population Visualization\n",
      "Users with embeddings: 240\n",
      "Similarity metric: Euclidean Distance (L2 norm, normalized)\n",
      "\n",
      "📚 Creating Plotly PCA - Interests Embeddings (768D → 2D):\n"
     ]
    },
    {
     "data": {
      "application/vnd.plotly.v1+json": {
       "config": {
        "plotlyServerURL": "https://plot.ly"
       },
       "data": [
        {
         "hovertemplate": "<b>%{hovertext}</b><extra></extra>",
         "hovertext": [
          "William Castaneda",
          "Michelle \"MJ\" Jones",
          "Jamie Chen",
          "Raymond Ortiz",
          "Sarah Chen",
          "Susan West",
          "Daniel Mercer",
          "Brian Thornton",
          "Heather Jimenez",
          "Emily Parsons",
          "Beth Clarke",
          "Gina Villanueva",
          "Olivia Chen",
          "Olivia Chen",
          "Carl Snow",
          "Anya Sharma",
          "Nicholas Russo",
          "Mary Ball",
          "Chloe Nguyen",
          "Erin Thomas",
          "Micheal Roy",
          "Stacy Anderson",
          "Elena Rodriguez",
          "Billy Morales",
          "Kevin Green",
          "Timothy Stewart",
          "Lena Petrova",
          "Wren Kestrel",
          "Eliza Vance",
          "Benjamin Jones",
          "Elizabeth Williams",
          "Tommy Barker",
          "Sandra Kemp",
          "Allison Brown",
          "Selena Garcia",
          "Bryan Chambers",
          "Amanda Reynolds",
          "Jeffrey Horn",
          "Ace Rodriguez",
          "Daniel Williams",
          "Kimberly King",
          "James Vargas",
          "Beth Kelly",
          "Cheryl Glass",
          "Amber Bradley",
          "Helen Gomez",
          "Chelsea Bird",
          "Alexander Tucker",
          "Robert Hill",
          "Donna Miller",
          "Alyssa Roberts",
          "Tammy Henderson",
          "Linda Perez",
          "Nicole Fisher",
          "Robert Campbell",
          "Jennifer Cummings",
          "Russell Gross",
          "Krystal Mckenzie",
          "Jessica Acevedo",
          "Eliza \"Sunshine\" Vance",
          "Sarah Jenkins",
          "Kristen Alvarez",
          "Heather Luna",
          "Dr. Jordan Shannon",
          "Dustin Mullen",
          "Beverly Love",
          "William Foster",
          "Jerry Stanley",
          "Joshua Hatfield",
          "Nicholas Williams",
          "Michelle Rogers",
          "Elara Vance",
          "Daniel Porter",
          "Maya Rodriguez",
          "Angela Scott",
          "Jennifer Ray",
          "Edward Dominguez",
          "Maurice Nichols",
          "Christopher Jones",
          "Evelyn Thorne",
          "Dawn Howard",
          "Jennifer Mercado",
          "Amelia Hayes",
          "Ethan Vance",
          "Elara Meadowlight (legally John Rogers)",
          "Edward Stephens II",
          "Alice Chen",
          "Brenda Santos",
          "Stella Maris",
          "Joshua Parker",
          "Eleanor Vance",
          "Spencer White",
          "Kimberly Parrish",
          "Ryan Carey",
          "Yesenia Whitney",
          "Brent Contreras",
          "Raymond Martin",
          "Cindy Ramirez",
          "Elizabeth Webb",
          "Mitchell Navarro",
          "Denise Robinson",
          "Larry Rivers",
          "Richard Sims",
          "Tammy Mckee",
          "Amanda Padilla",
          "Dominique Turner",
          "Caroline Thompson",
          "Sarah Chen",
          "Cheryl Erickson",
          "Anya Sharma",
          "Debbie Combs",
          "Andrew Franco",
          "Holly Robbins",
          "Kimberly Brady",
          "William Frey",
          "Andrew \"Aethelred\" Sterling",
          "Sheila Clark",
          "Samuel Morrison",
          "Ryan Lee",
          "Jeffrey Rojas",
          "Russell Curtis",
          "Katherine Hall",
          "Jacob Smith",
          "Katie Collier",
          "James Lamb",
          "Darlene Lawrence",
          "Luna Skye Hawthorne",
          "Erik Peterson",
          "Lisa Mitchell",
          "Luna Seraphina Willow",
          "Aurora Vance",
          "Jason Mckinney",
          "Jamie Gonzales",
          "Tiffany Moody",
          "Maria Vazquez",
          "Carlos Torres",
          "Justin Miller",
          "Jose Ellison",
          "Blake Lawrence",
          "Christopher Travis",
          "Kenneth Escobar",
          "Sarah Shaffer",
          "Jesse Holland",
          "Anne Peterson",
          "Elara Vance",
          "Michael Watson",
          "Linda Garcia",
          "Andrea Davis",
          "Thomas Webster",
          "Lilith Thorne",
          "Jennifer Wolfe",
          "Linda Richardson",
          "Jerry Rogers II",
          "Jill Nolan",
          "William Morrison",
          "Andrew Johnson",
          "Jamie Woodward",
          "Clara Ellison",
          "John Bishop",
          "Maya Rodriguez",
          "Devin Harris",
          "Sarah Chen",
          "Rebecca Sanchez",
          "Cameron Avery",
          "Laura Graham",
          "Elara Vance",
          "Sarah Chen",
          "Elara Vance",
          "Kristina Marshall",
          "Larry Rodriguez",
          "Robert Harrell",
          "Albert Hunt",
          "Clara Bellewood",
          "Chloe Nguyen",
          "Adam Woodard",
          "Akari Tanaka",
          "Jennifer Butler",
          "Amelia Vance",
          "Sabrina George",
          "Lyra Meadowsweet",
          "Helena Vance",
          "Victoria Martinez",
          "Mindy Lee",
          "Carla Williams",
          "Robert Ochoa",
          "Cesar Yoder",
          "Kelly Nash",
          "Crystal Hall",
          "Maya Angelou",
          "Ashley Austin",
          "Tiffany Goodman",
          "Kimberly Morales",
          "Amanda Christensen",
          "Heather Barnes",
          "Luna \"Hex\" Blackwood",
          "Christine Long",
          "Angela Martinez",
          "Anya Petrova",
          "Lindsey Gray",
          "Elara Vance",
          "Jeremy Kennedy",
          "Larry Wilson",
          "Richard Yang",
          "Carrie Taylor",
          "Laura Wall",
          "Terri Murphy",
          "Anya Sharma",
          "Maya Rodriguez",
          "Maya Rodriguez",
          "Elena Rossi",
          "Shirley Henderson",
          "Dennis Wallace",
          "Miguel Johnston",
          "Madison Brooks",
          "Sean Stone",
          "Brian Acosta",
          "Lawrence Avila",
          "Elara Meadowlight",
          "Stephen Bryant",
          "Olivia Chang",
          "Eric Thompson",
          "Linda Lee",
          "Angela Ortiz",
          "William Carpenter",
          "Kari Clark",
          "Ella Sanchez",
          "Jennifer Glover",
          "Luna Maeve",
          "Lori Butler",
          "Liam Vance",
          "Luna Everhart",
          "Anna Price",
          "Julie Fischer",
          "Chloe Davis",
          "Glen Harris",
          "Anya Sharma",
          "Dylan Phillips",
          "Ricardo Warren",
          "Deborah Johnson"
         ],
         "marker": {
          "color": "lightblue",
          "line": {
           "color": "darkblue",
           "width": 1
          },
          "opacity": 0.7,
          "size": 8
         },
         "mode": "markers",
         "name": "Users (239)",
         "type": "scatter",
         "x": {
          "bdata": "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",
          "dtype": "f8"
         },
         "y": {
          "bdata": "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",
          "dtype": "f8"
         }
        },
        {
         "hovertemplate": "<b>%{hovertext}</b><extra></extra>",
         "hovertext": [
          "Yahya Rahhawi"
         ],
         "marker": {
          "color": "red",
          "line": {
           "color": "darkred",
           "width": 2
          },
          "opacity": 0.9,
          "size": 15,
          "symbol": "star"
         },
         "mode": "markers",
         "name": "Special Users (1)",
         "type": "scatter",
         "x": {
          "bdata": "yIIXCimvFMA=",
          "dtype": "f8"
         },
         "y": {
          "bdata": "42UDrXPWG0A=",
          "dtype": "f8"
         }
        }
       ],
       "layout": {
        "annotations": [
         {
          "bgcolor": "rgba(255,255,255,0.8)",
          "bordercolor": "rgba(0,0,0,0.5)",
          "borderwidth": 1,
          "font": {
           "size": 12
          },
          "showarrow": false,
          "text": "Total variance explained: 21.7%<br>Similarity metric: Euclidean Distance",
          "x": 0.02,
          "xanchor": "left",
          "xref": "paper",
          "y": 0.98,
          "yanchor": "top",
          "yref": "paper"
         }
        ],
        "height": 640,
        "hovermode": "closest",
        "showlegend": true,
        "template": {
         "data": {
          "bar": [
           {
            "error_x": {
             "color": "#2a3f5f"
            },
            "error_y": {
             "color": "#2a3f5f"
            },
            "marker": {
             "line": {
              "color": "#E5ECF6",
              "width": 0.5
             },
             "pattern": {
              "fillmode": "overlay",
              "size": 10,
              "solidity": 0.2
             }
            },
            "type": "bar"
           }
          ],
          "barpolar": [
           {
            "marker": {
             "line": {
              "color": "#E5ECF6",
              "width": 0.5
             },
             "pattern": {
              "fillmode": "overlay",
              "size": 10,
              "solidity": 0.2
             }
            },
            "type": "barpolar"
           }
          ],
          "carpet": [
           {
            "aaxis": {
             "endlinecolor": "#2a3f5f",
             "gridcolor": "white",
             "linecolor": "white",
             "minorgridcolor": "white",
             "startlinecolor": "#2a3f5f"
            },
            "baxis": {
             "endlinecolor": "#2a3f5f",
             "gridcolor": "white",
             "linecolor": "white",
             "minorgridcolor": "white",
             "startlinecolor": "#2a3f5f"
            },
            "type": "carpet"
           }
          ],
          "choropleth": [
           {
            "colorbar": {
             "outlinewidth": 0,
             "ticks": ""
            },
            "type": "choropleth"
           }
          ],
          "contour": [
           {
            "colorbar": {
             "outlinewidth": 0,
             "ticks": ""
            },
            "colorscale": [
             [
              0,
              "#0d0887"
             ],
             [
              0.1111111111111111,
              "#46039f"
             ],
             [
              0.2222222222222222,
              "#7201a8"
             ],
             [
              0.3333333333333333,
              "#9c179e"
             ],
             [
              0.4444444444444444,
              "#bd3786"
             ],
             [
              0.5555555555555556,
              "#d8576b"
             ],
             [
              0.6666666666666666,
              "#ed7953"
             ],
             [
              0.7777777777777778,
              "#fb9f3a"
             ],
             [
              0.8888888888888888,
              "#fdca26"
             ],
             [
              1,
              "#f0f921"
             ]
            ],
            "type": "contour"
           }
          ],
          "contourcarpet": [
           {
            "colorbar": {
             "outlinewidth": 0,
             "ticks": ""
            },
            "type": "contourcarpet"
           }
          ],
          "heatmap": [
           {
            "colorbar": {
             "outlinewidth": 0,
             "ticks": ""
            },
            "colorscale": [
             [
              0,
              "#0d0887"
             ],
             [
              0.1111111111111111,
              "#46039f"
             ],
             [
              0.2222222222222222,
              "#7201a8"
             ],
             [
              0.3333333333333333,
              "#9c179e"
             ],
             [
              0.4444444444444444,
              "#bd3786"
             ],
             [
              0.5555555555555556,
              "#d8576b"
             ],
             [
              0.6666666666666666,
              "#ed7953"
             ],
             [
              0.7777777777777778,
              "#fb9f3a"
             ],
             [
              0.8888888888888888,
              "#fdca26"
             ],
             [
              1,
              "#f0f921"
             ]
            ],
            "type": "heatmap"
           }
          ],
          "histogram": [
           {
            "marker": {
             "pattern": {
              "fillmode": "overlay",
              "size": 10,
              "solidity": 0.2
             }
            },
            "type": "histogram"
           }
          ],
          "histogram2d": [
           {
            "colorbar": {
             "outlinewidth": 0,
             "ticks": ""
            },
            "colorscale": [
             [
              0,
              "#0d0887"
             ],
             [
              0.1111111111111111,
              "#46039f"
             ],
             [
              0.2222222222222222,
              "#7201a8"
             ],
             [
              0.3333333333333333,
              "#9c179e"
             ],
             [
              0.4444444444444444,
              "#bd3786"
             ],
             [
              0.5555555555555556,
              "#d8576b"
             ],
             [
              0.6666666666666666,
              "#ed7953"
             ],
             [
              0.7777777777777778,
              "#fb9f3a"
             ],
             [
              0.8888888888888888,
              "#fdca26"
             ],
             [
              1,
              "#f0f921"
             ]
            ],
            "type": "histogram2d"
           }
          ],
          "histogram2dcontour": [
           {
            "colorbar": {
             "outlinewidth": 0,
             "ticks": ""
            },
            "colorscale": [
             [
              0,
              "#0d0887"
             ],
             [
              0.1111111111111111,
              "#46039f"
             ],
             [
              0.2222222222222222,
              "#7201a8"
             ],
             [
              0.3333333333333333,
              "#9c179e"
             ],
             [
              0.4444444444444444,
              "#bd3786"
             ],
             [
              0.5555555555555556,
              "#d8576b"
             ],
             [
              0.6666666666666666,
              "#ed7953"
             ],
             [
              0.7777777777777778,
              "#fb9f3a"
             ],
             [
              0.8888888888888888,
              "#fdca26"
             ],
             [
              1,
              "#f0f921"
             ]
            ],
            "type": "histogram2dcontour"
           }
          ],
          "mesh3d": [
           {
            "colorbar": {
             "outlinewidth": 0,
             "ticks": ""
            },
            "type": "mesh3d"
           }
          ],
          "parcoords": [
           {
            "line": {
             "colorbar": {
              "outlinewidth": 0,
              "ticks": ""
             }
            },
            "type": "parcoords"
           }
          ],
          "pie": [
           {
            "automargin": true,
            "type": "pie"
           }
          ],
          "scatter": [
           {
            "fillpattern": {
             "fillmode": "overlay",
             "size": 10,
             "solidity": 0.2
            },
            "type": "scatter"
           }
          ],
          "scatter3d": [
           {
            "line": {
             "colorbar": {
              "outlinewidth": 0,
              "ticks": ""
             }
            },
            "marker": {
             "colorbar": {
              "outlinewidth": 0,
              "ticks": ""
             }
            },
            "type": "scatter3d"
           }
          ],
          "scattercarpet": [
           {
            "marker": {
             "colorbar": {
              "outlinewidth": 0,
              "ticks": ""
             }
            },
            "type": "scattercarpet"
           }
          ],
          "scattergeo": [
           {
            "marker": {
             "colorbar": {
              "outlinewidth": 0,
              "ticks": ""
             }
            },
            "type": "scattergeo"
           }
          ],
          "scattergl": [
           {
            "marker": {
             "colorbar": {
              "outlinewidth": 0,
              "ticks": ""
             }
            },
            "type": "scattergl"
           }
          ],
          "scattermap": [
           {
            "marker": {
             "colorbar": {
              "outlinewidth": 0,
              "ticks": ""
             }
            },
            "type": "scattermap"
           }
          ],
          "scattermapbox": [
           {
            "marker": {
             "colorbar": {
              "outlinewidth": 0,
              "ticks": ""
             }
            },
            "type": "scattermapbox"
           }
          ],
          "scatterpolar": [
           {
            "marker": {
             "colorbar": {
              "outlinewidth": 0,
              "ticks": ""
             }
            },
            "type": "scatterpolar"
           }
          ],
          "scatterpolargl": [
           {
            "marker": {
             "colorbar": {
              "outlinewidth": 0,
              "ticks": ""
             }
            },
            "type": "scatterpolargl"
           }
          ],
          "scatterternary": [
           {
            "marker": {
             "colorbar": {
              "outlinewidth": 0,
              "ticks": ""
             }
            },
            "type": "scatterternary"
           }
          ],
          "surface": [
           {
            "colorbar": {
             "outlinewidth": 0,
             "ticks": ""
            },
            "colorscale": [
             [
              0,
              "#0d0887"
             ],
             [
              0.1111111111111111,
              "#46039f"
             ],
             [
              0.2222222222222222,
              "#7201a8"
             ],
             [
              0.3333333333333333,
              "#9c179e"
             ],
             [
              0.4444444444444444,
              "#bd3786"
             ],
             [
              0.5555555555555556,
              "#d8576b"
             ],
             [
              0.6666666666666666,
              "#ed7953"
             ],
             [
              0.7777777777777778,
              "#fb9f3a"
             ],
             [
              0.8888888888888888,
              "#fdca26"
             ],
             [
              1,
              "#f0f921"
             ]
            ],
            "type": "surface"
           }
          ],
          "table": [
           {
            "cells": {
             "fill": {
              "color": "#EBF0F8"
             },
             "line": {
              "color": "white"
             }
            },
            "header": {
             "fill": {
              "color": "#C8D4E3"
             },
             "line": {
              "color": "white"
             }
            },
            "type": "table"
           }
          ]
         },
         "layout": {
          "annotationdefaults": {
           "arrowcolor": "#2a3f5f",
           "arrowhead": 0,
           "arrowwidth": 1
          },
          "autotypenumbers": "strict",
          "coloraxis": {
           "colorbar": {
            "outlinewidth": 0,
            "ticks": ""
           }
          },
          "colorscale": {
           "diverging": [
            [
             0,
             "#8e0152"
            ],
            [
             0.1,
             "#c51b7d"
            ],
            [
             0.2,
             "#de77ae"
            ],
            [
             0.3,
             "#f1b6da"
            ],
            [
             0.4,
             "#fde0ef"
            ],
            [
             0.5,
             "#f7f7f7"
            ],
            [
             0.6,
             "#e6f5d0"
            ],
            [
             0.7,
             "#b8e186"
            ],
            [
             0.8,
             "#7fbc41"
            ],
            [
             0.9,
             "#4d9221"
            ],
            [
             1,
             "#276419"
            ]
           ],
           "sequential": [
            [
             0,
             "#0d0887"
            ],
            [
             0.1111111111111111,
             "#46039f"
            ],
            [
             0.2222222222222222,
             "#7201a8"
            ],
            [
             0.3333333333333333,
             "#9c179e"
            ],
            [
             0.4444444444444444,
             "#bd3786"
            ],
            [
             0.5555555555555556,
             "#d8576b"
            ],
            [
             0.6666666666666666,
             "#ed7953"
            ],
            [
             0.7777777777777778,
             "#fb9f3a"
            ],
            [
             0.8888888888888888,
             "#fdca26"
            ],
            [
             1,
             "#f0f921"
            ]
           ],
           "sequentialminus": [
            [
             0,
             "#0d0887"
            ],
            [
             0.1111111111111111,
             "#46039f"
            ],
            [
             0.2222222222222222,
             "#7201a8"
            ],
            [
             0.3333333333333333,
             "#9c179e"
            ],
            [
             0.4444444444444444,
             "#bd3786"
            ],
            [
             0.5555555555555556,
             "#d8576b"
            ],
            [
             0.6666666666666666,
             "#ed7953"
            ],
            [
             0.7777777777777778,
             "#fb9f3a"
            ],
            [
             0.8888888888888888,
             "#fdca26"
            ],
            [
             1,
             "#f0f921"
            ]
           ]
          },
          "colorway": [
           "#636efa",
           "#EF553B",
           "#00cc96",
           "#ab63fa",
           "#FFA15A",
           "#19d3f3",
           "#FF6692",
           "#B6E880",
           "#FF97FF",
           "#FECB52"
          ],
          "font": {
           "color": "#2a3f5f"
          },
          "geo": {
           "bgcolor": "white",
           "lakecolor": "white",
           "landcolor": "#E5ECF6",
           "showlakes": true,
           "showland": true,
           "subunitcolor": "white"
          },
          "hoverlabel": {
           "align": "left"
          },
          "hovermode": "closest",
          "mapbox": {
           "style": "light"
          },
          "paper_bgcolor": "white",
          "plot_bgcolor": "#E5ECF6",
          "polar": {
           "angularaxis": {
            "gridcolor": "white",
            "linecolor": "white",
            "ticks": ""
           },
           "bgcolor": "#E5ECF6",
           "radialaxis": {
            "gridcolor": "white",
            "linecolor": "white",
            "ticks": ""
           }
          },
          "scene": {
           "xaxis": {
            "backgroundcolor": "#E5ECF6",
            "gridcolor": "white",
            "gridwidth": 2,
            "linecolor": "white",
            "showbackground": true,
            "ticks": "",
            "zerolinecolor": "white"
           },
           "yaxis": {
            "backgroundcolor": "#E5ECF6",
            "gridcolor": "white",
            "gridwidth": 2,
            "linecolor": "white",
            "showbackground": true,
            "ticks": "",
            "zerolinecolor": "white"
           },
           "zaxis": {
            "backgroundcolor": "#E5ECF6",
            "gridcolor": "white",
            "gridwidth": 2,
            "linecolor": "white",
            "showbackground": true,
            "ticks": "",
            "zerolinecolor": "white"
           }
          },
          "shapedefaults": {
           "line": {
            "color": "#2a3f5f"
           }
          },
          "ternary": {
           "aaxis": {
            "gridcolor": "white",
            "linecolor": "white",
            "ticks": ""
           },
           "baxis": {
            "gridcolor": "white",
            "linecolor": "white",
            "ticks": ""
           },
           "bgcolor": "#E5ECF6",
           "caxis": {
            "gridcolor": "white",
            "linecolor": "white",
            "ticks": ""
           }
          },
          "title": {
           "x": 0.05
          },
          "xaxis": {
           "automargin": true,
           "gridcolor": "white",
           "linecolor": "white",
           "ticks": "",
           "title": {
            "standoff": 15
           },
           "zerolinecolor": "white",
           "zerolinewidth": 2
          },
          "yaxis": {
           "automargin": true,
           "gridcolor": "white",
           "linecolor": "white",
           "ticks": "",
           "title": {
            "standoff": 15
           },
           "zerolinecolor": "white",
           "zerolinewidth": 2
          }
         }
        },
        "title": {
         "text": "PCA Visualization - Interests Embeddings<br>Mello Campus Population (240 users)"
        },
        "width": 960,
        "xaxis": {
         "title": {
          "text": "PC1 (11.4% variance)"
         }
        },
        "yaxis": {
         "title": {
          "text": "PC2 (10.4% variance)"
         }
        }
       }
      }
     },
     "metadata": {},
     "output_type": "display_data"
    },
    {
     "name": "stdout",
     "output_type": "stream",
     "text": [
      "✅ Plotly interests PCA complete\n",
      "\n",
      "🧠 Creating Plotly PCA - Combined Personality Traits (3840D → 2D):\n"
     ]
    },
    {
     "data": {
      "application/vnd.plotly.v1+json": {
       "config": {
        "plotlyServerURL": "https://plot.ly"
       },
       "data": [
        {
         "hovertemplate": "<b>%{hovertext}</b><extra></extra>",
         "hovertext": [
          "William Castaneda",
          "Michelle \"MJ\" Jones",
          "Jamie Chen",
          "Raymond Ortiz",
          "Sarah Chen",
          "Susan West",
          "Daniel Mercer",
          "Brian Thornton",
          "Heather Jimenez",
          "Emily Parsons",
          "Beth Clarke",
          "Gina Villanueva",
          "Olivia Chen",
          "Olivia Chen",
          "Carl Snow",
          "Anya Sharma",
          "Nicholas Russo",
          "Mary Ball",
          "Chloe Nguyen",
          "Erin Thomas",
          "Micheal Roy",
          "Stacy Anderson",
          "Elena Rodriguez",
          "Billy Morales",
          "Kevin Green",
          "Timothy Stewart",
          "Lena Petrova",
          "Wren Kestrel",
          "Eliza Vance",
          "Benjamin Jones",
          "Elizabeth Williams",
          "Tommy Barker",
          "Sandra Kemp",
          "Allison Brown",
          "Selena Garcia",
          "Bryan Chambers",
          "Amanda Reynolds",
          "Jeffrey Horn",
          "Ace Rodriguez",
          "Daniel Williams",
          "Kimberly King",
          "James Vargas",
          "Beth Kelly",
          "Cheryl Glass",
          "Amber Bradley",
          "Helen Gomez",
          "Chelsea Bird",
          "Alexander Tucker",
          "Robert Hill",
          "Donna Miller",
          "Alyssa Roberts",
          "Tammy Henderson",
          "Linda Perez",
          "Nicole Fisher",
          "Robert Campbell",
          "Jennifer Cummings",
          "Russell Gross",
          "Krystal Mckenzie",
          "Jessica Acevedo",
          "Eliza \"Sunshine\" Vance",
          "Sarah Jenkins",
          "Kristen Alvarez",
          "Heather Luna",
          "Dr. Jordan Shannon",
          "Dustin Mullen",
          "Beverly Love",
          "William Foster",
          "Jerry Stanley",
          "Joshua Hatfield",
          "Nicholas Williams",
          "Michelle Rogers",
          "Elara Vance",
          "Daniel Porter",
          "Maya Rodriguez",
          "Angela Scott",
          "Jennifer Ray",
          "Edward Dominguez",
          "Maurice Nichols",
          "Christopher Jones",
          "Evelyn Thorne",
          "Dawn Howard",
          "Jennifer Mercado",
          "Amelia Hayes",
          "Ethan Vance",
          "Elara Meadowlight (legally John Rogers)",
          "Edward Stephens II",
          "Alice Chen",
          "Brenda Santos",
          "Stella Maris",
          "Joshua Parker",
          "Eleanor Vance",
          "Spencer White",
          "Kimberly Parrish",
          "Ryan Carey",
          "Yesenia Whitney",
          "Brent Contreras",
          "Raymond Martin",
          "Cindy Ramirez",
          "Elizabeth Webb",
          "Mitchell Navarro",
          "Denise Robinson",
          "Larry Rivers",
          "Richard Sims",
          "Tammy Mckee",
          "Amanda Padilla",
          "Dominique Turner",
          "Caroline Thompson",
          "Sarah Chen",
          "Cheryl Erickson",
          "Anya Sharma",
          "Debbie Combs",
          "Andrew Franco",
          "Holly Robbins",
          "Kimberly Brady",
          "William Frey",
          "Andrew \"Aethelred\" Sterling",
          "Sheila Clark",
          "Samuel Morrison",
          "Ryan Lee",
          "Jeffrey Rojas",
          "Russell Curtis",
          "Katherine Hall",
          "Jacob Smith",
          "Katie Collier",
          "James Lamb",
          "Darlene Lawrence",
          "Luna Skye Hawthorne",
          "Erik Peterson",
          "Lisa Mitchell",
          "Luna Seraphina Willow",
          "Aurora Vance",
          "Jason Mckinney",
          "Jamie Gonzales",
          "Tiffany Moody",
          "Maria Vazquez",
          "Carlos Torres",
          "Justin Miller",
          "Jose Ellison",
          "Blake Lawrence",
          "Christopher Travis",
          "Kenneth Escobar",
          "Sarah Shaffer",
          "Jesse Holland",
          "Anne Peterson",
          "Elara Vance",
          "Michael Watson",
          "Linda Garcia",
          "Andrea Davis",
          "Thomas Webster",
          "Lilith Thorne",
          "Jennifer Wolfe",
          "Linda Richardson",
          "Jerry Rogers II",
          "Jill Nolan",
          "William Morrison",
          "Andrew Johnson",
          "Jamie Woodward",
          "Clara Ellison",
          "John Bishop",
          "Maya Rodriguez",
          "Devin Harris",
          "Sarah Chen",
          "Rebecca Sanchez",
          "Cameron Avery",
          "Laura Graham",
          "Elara Vance",
          "Sarah Chen",
          "Elara Vance",
          "Kristina Marshall",
          "Larry Rodriguez",
          "Robert Harrell",
          "Albert Hunt",
          "Clara Bellewood",
          "Chloe Nguyen",
          "Adam Woodard",
          "Akari Tanaka",
          "Jennifer Butler",
          "Amelia Vance",
          "Sabrina George",
          "Lyra Meadowsweet",
          "Helena Vance",
          "Victoria Martinez",
          "Mindy Lee",
          "Carla Williams",
          "Robert Ochoa",
          "Cesar Yoder",
          "Kelly Nash",
          "Crystal Hall",
          "Maya Angelou",
          "Ashley Austin",
          "Tiffany Goodman",
          "Kimberly Morales",
          "Amanda Christensen",
          "Heather Barnes",
          "Luna \"Hex\" Blackwood",
          "Christine Long",
          "Angela Martinez",
          "Anya Petrova",
          "Lindsey Gray",
          "Elara Vance",
          "Jeremy Kennedy",
          "Larry Wilson",
          "Richard Yang",
          "Carrie Taylor",
          "Laura Wall",
          "Terri Murphy",
          "Anya Sharma",
          "Maya Rodriguez",
          "Maya Rodriguez",
          "Elena Rossi",
          "Shirley Henderson",
          "Dennis Wallace",
          "Miguel Johnston",
          "Madison Brooks",
          "Sean Stone",
          "Brian Acosta",
          "Lawrence Avila",
          "Elara Meadowlight",
          "Stephen Bryant",
          "Olivia Chang",
          "Eric Thompson",
          "Linda Lee",
          "Angela Ortiz",
          "William Carpenter",
          "Kari Clark",
          "Ella Sanchez",
          "Jennifer Glover",
          "Luna Maeve",
          "Lori Butler",
          "Liam Vance",
          "Luna Everhart",
          "Anna Price",
          "Julie Fischer",
          "Chloe Davis",
          "Glen Harris",
          "Anya Sharma",
          "Dylan Phillips",
          "Ricardo Warren",
          "Deborah Johnson"
         ],
         "marker": {
          "color": "lightgreen",
          "line": {
           "color": "darkgreen",
           "width": 1
          },
          "opacity": 0.7,
          "size": 8
         },
         "mode": "markers",
         "name": "Users (239)",
         "type": "scatter",
         "x": {
          "bdata": "bp1M/MmjCEBM6uBp8zAqwPK5+FsfZh7Ar0Cowwl2AEDkRiHeD0oZwA1+oPLyAjNAZkj2c6qGOEDAOro1pFknwOx1kG/NChDAwFwutFiAM8DWmSDuh4UpQBuk9b9XICVAuX/Jd/J/MkDxMUzLWSYrwHZ+puCD7CHAWUL6u/SOEcDar18sm2gAQIYCqlH82xfA9ibsxLV+LEAQJi6NPKgCQG4qqNYlzBJA60hPdfCFFsC4e1D6jegKwOIZvXW7BwHAs84xtIDML8COztHs7S8rwOhZAvP4FixAupsZ6q8VKMCGLZlgVvUBQIF5srrULBDAIDpyK2AkLcAuF7+Sb7cqwCBmlWD6zjDAsoNGzUfOKEAJIUsB4yYcQK4/hC86ywDAzNcshYYIxz9mC0pIUUr4v4PURzHv2RLA+6ZiOzHJM8Dp86BPfLI/QCflSrvv2uy/dneH4IztG8CqKjD8YlELwBhu/ScZtfA/5edBDSK9LsAeA0nMSno3wAB5WvVCQB9AoLapgA0jKsC8COKxWRIyQBZToJ6ZVyfAdfAMxiJtL0CPd5T2ujEnwJ4rqtbPoi1ApxxbYfkaB0B5PkLKFwcgwCSXRFpDBy3AcO4DcXSc9j9Zn28GTgsrwJ7aM4a7ZS7A+J0UIzaUIEBs2ErMzSsMwGtqdQpNKMe/TzEcF2RoOkB7nBQWh5A8QH4c5guKjf8/na76w2f0E8BIIsq3obckwEzBbvzM5iXA/FjjxHV2LcBFc8Es88EWQL9Xdhq+xhhANLEXige6K8AU6V5X5oEywCxTSwkypDZAXzk8iBAIMMChwoZpDCARQLWBx8cOEzDAt3C4TcOtKkDOIka9AAI6QMst7E5dlxLAC9tJmYdABkBz48Ga2uEYwCHor+9iGjVAo2+8vKT4FMABfCcJv8QSwMwy/sYLRSxABfxinERxJ8Dxl5aZyNojwD0ue6Ad8hzA5w4p9gqVEUB2i0ufzywdwCB06aaM3BfA3iMJ6rWEOEAnUDG+Lzn4P7CAG/7l6iDA8OGTTACTM0CmyDAxg5siQDefBoV8vBHAAr8DhvCLG8Dw9B3dCRopwHTPqxqZdwXAUe1+yyroM0AEED9R2IYlwBIlNf/bNjPAWlQxM0TTGcCM2ToAFuzhv7KnCOAQUTNATmcMAuYJDkAcioCKgzQowNzo4MoYOOU/6reswPqjIcDCFd+UdbE0QHz+sdxi+ThAYO4sCahNJ8DNd3PPpC47QByDhPlJLRBAbOXSr/OmP0CxHAy9UlYgwDLdtmjjbybAaz+R783uN0C1Zgp4/cwxQPYUSgc6nCtA+Js4Zdrb5D8OQL5WNPInwOpcil/Xnfu/Nl7/XRO+IMCGHBLU+DEzQNFaMmTO+jdAHhJNJjewKMDiehNG2WsdwIw0Z4rGDgXAq8FStNcmOkDARuHOrekwwFj8S5cT+zlAn8dCZONJM0ADuW1C/7UJwDEpOjTJyCjAup6hPQkCJsAD/GqFqUf8P/i/Q+1+lhXAG74/OdOTEcC0tz7DTaQwwHMdxvk24yFAj3RXiMahI8DjgfugkrICwDxHOZsTRR9Ajc3ZjGO8F8BHea7wqJIrQGbY3K+5jhLA72gqnhttLcAK434ARHElwGDUfRWm7CtACF6Z/I6pIcCO9wp0S10OwLWK1fOczzLASctERO0SPECfRlapw0sPwHASXZpolvu/xg/hfrmeHsArDA2ZzV/IP4guT/KQnjBAzD19sBuvG8A+VBSjtK0ewPo5Z7J8RSPAFvgkCFntPUDd88IbK88QQKjE13kd+C3AVVoBL0pVJcCOWFTbh0k7QDaQC4TnXz1ARO7ODpf0N0DjmLoQ0PAwQE169P2DXDDAVaMvUPmfJMCppXcD3rMRwM0H8+Wb0iBACIjC73BZFkBuSFaZzCD6v3qzkGruhyJAN5CXdqb4IcBSQW+5DYEnwN7vQQjlPCTASBYnCkDnJsDdiXjMIbwgQCmSBEFo2ifAfE6cKJuVMEByz6mG3ikhwFnY+sG8Kx3AKPQywNpHLsBUmddWXhIgwE7Gts9+oCRAzrFo1vUt7z9N0aIukXkZwJENhYv4uB3AolpehZHZBUAGElymBDwqQEM0FbNVtxTAP6ZzXG6N9r/1jibjjSUjwAuLoAU+RBfAQHYsnsdUO0Dpmssp/T4gwFu0NfrY1RJAm1uGTY3iIMBNs3dqF1AmQOF/QpD4xijA553WcQRwIMBeK/583OsnwDVgiX/mBdi/6x31BeLwEsCPFLRZwTviP2zGY0dJAzNAns9dMM+nL8As2eoxv6MqwJ00L73MeijA9J2lTiczMsCL4oIDw1Y5QBEh+XnUMj9A4d2jfE+8K8DJE2TWS/0dwHDl2apJNxjA1DHpbAF5K8DdEOpFna8ywHI320H3lh9AK9SP9NsgQUCah7cQvp0xwMlYTmMmcgxAI9pqYq+eEcAO9qnRRN8lwFV61zRpbjFATrhhz0NOHcB+akM7EWcawNNa4dfEUSXAb+x9vS6FLcARchSXzE8owAefu3fFbuA/f8bTOZU/L0CkoXtQR+8oQA==",
          "dtype": "f8"
         },
         "y": {
          "bdata": "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",
          "dtype": "f8"
         }
        },
        {
         "hovertemplate": "<b>%{hovertext}</b><extra></extra>",
         "hovertext": [
          "Yahya Rahhawi"
         ],
         "marker": {
          "color": "red",
          "line": {
           "color": "darkred",
           "width": 2
          },
          "opacity": 0.9,
          "size": 15,
          "symbol": "star"
         },
         "mode": "markers",
         "name": "Special Users (1)",
         "type": "scatter",
         "x": {
          "bdata": "IQRHYitqM0A=",
          "dtype": "f8"
         },
         "y": {
          "bdata": "ZIDsY7wxM0A=",
          "dtype": "f8"
         }
        }
       ],
       "layout": {
        "annotations": [
         {
          "bgcolor": "rgba(255,255,255,0.8)",
          "bordercolor": "rgba(0,0,0,0.5)",
          "borderwidth": 1,
          "font": {
           "size": 12
          },
          "showarrow": false,
          "text": "Total variance explained: 8.4%<br>Similarity metric: Euclidean Distance<br>Dimensions: 5 traits × 768D = 3840D",
          "x": 0.02,
          "xanchor": "left",
          "xref": "paper",
          "y": 0.98,
          "yanchor": "top",
          "yref": "paper"
         }
        ],
        "height": 640,
        "hovermode": "closest",
        "showlegend": true,
        "template": {
         "data": {
          "bar": [
           {
            "error_x": {
             "color": "#2a3f5f"
            },
            "error_y": {
             "color": "#2a3f5f"
            },
            "marker": {
             "line": {
              "color": "#E5ECF6",
              "width": 0.5
             },
             "pattern": {
              "fillmode": "overlay",
              "size": 10,
              "solidity": 0.2
             }
            },
            "type": "bar"
           }
          ],
          "barpolar": [
           {
            "marker": {
             "line": {
              "color": "#E5ECF6",
              "width": 0.5
             },
             "pattern": {
              "fillmode": "overlay",
              "size": 10,
              "solidity": 0.2
             }
            },
            "type": "barpolar"
           }
          ],
          "carpet": [
           {
            "aaxis": {
             "endlinecolor": "#2a3f5f",
             "gridcolor": "white",
             "linecolor": "white",
             "minorgridcolor": "white",
             "startlinecolor": "#2a3f5f"
            },
            "baxis": {
             "endlinecolor": "#2a3f5f",
             "gridcolor": "white",
             "linecolor": "white",
             "minorgridcolor": "white",
             "startlinecolor": "#2a3f5f"
            },
            "type": "carpet"
           }
          ],
          "choropleth": [
           {
            "colorbar": {
             "outlinewidth": 0,
             "ticks": ""
            },
            "type": "choropleth"
           }
          ],
          "contour": [
           {
            "colorbar": {
             "outlinewidth": 0,
             "ticks": ""
            },
            "colorscale": [
             [
              0,
              "#0d0887"
             ],
             [
              0.1111111111111111,
              "#46039f"
             ],
             [
              0.2222222222222222,
              "#7201a8"
             ],
             [
              0.3333333333333333,
              "#9c179e"
             ],
             [
              0.4444444444444444,
              "#bd3786"
             ],
             [
              0.5555555555555556,
              "#d8576b"
             ],
             [
              0.6666666666666666,
              "#ed7953"
             ],
             [
              0.7777777777777778,
              "#fb9f3a"
             ],
             [
              0.8888888888888888,
              "#fdca26"
             ],
             [
              1,
              "#f0f921"
             ]
            ],
            "type": "contour"
           }
          ],
          "contourcarpet": [
           {
            "colorbar": {
             "outlinewidth": 0,
             "ticks": ""
            },
            "type": "contourcarpet"
           }
          ],
          "heatmap": [
           {
            "colorbar": {
             "outlinewidth": 0,
             "ticks": ""
            },
            "colorscale": [
             [
              0,
              "#0d0887"
             ],
             [
              0.1111111111111111,
              "#46039f"
             ],
             [
              0.2222222222222222,
              "#7201a8"
             ],
             [
              0.3333333333333333,
              "#9c179e"
             ],
             [
              0.4444444444444444,
              "#bd3786"
             ],
             [
              0.5555555555555556,
              "#d8576b"
             ],
             [
              0.6666666666666666,
              "#ed7953"
             ],
             [
              0.7777777777777778,
              "#fb9f3a"
             ],
             [
              0.8888888888888888,
              "#fdca26"
             ],
             [
              1,
              "#f0f921"
             ]
            ],
            "type": "heatmap"
           }
          ],
          "histogram": [
           {
            "marker": {
             "pattern": {
              "fillmode": "overlay",
              "size": 10,
              "solidity": 0.2
             }
            },
            "type": "histogram"
           }
          ],
          "histogram2d": [
           {
            "colorbar": {
             "outlinewidth": 0,
             "ticks": ""
            },
            "colorscale": [
             [
              0,
              "#0d0887"
             ],
             [
              0.1111111111111111,
              "#46039f"
             ],
             [
              0.2222222222222222,
              "#7201a8"
             ],
             [
              0.3333333333333333,
              "#9c179e"
             ],
             [
              0.4444444444444444,
              "#bd3786"
             ],
             [
              0.5555555555555556,
              "#d8576b"
             ],
             [
              0.6666666666666666,
              "#ed7953"
             ],
             [
              0.7777777777777778,
              "#fb9f3a"
             ],
             [
              0.8888888888888888,
              "#fdca26"
             ],
             [
              1,
              "#f0f921"
             ]
            ],
            "type": "histogram2d"
           }
          ],
          "histogram2dcontour": [
           {
            "colorbar": {
             "outlinewidth": 0,
             "ticks": ""
            },
            "colorscale": [
             [
              0,
              "#0d0887"
             ],
             [
              0.1111111111111111,
              "#46039f"
             ],
             [
              0.2222222222222222,
              "#7201a8"
             ],
             [
              0.3333333333333333,
              "#9c179e"
             ],
             [
              0.4444444444444444,
              "#bd3786"
             ],
             [
              0.5555555555555556,
              "#d8576b"
             ],
             [
              0.6666666666666666,
              "#ed7953"
             ],
             [
              0.7777777777777778,
              "#fb9f3a"
             ],
             [
              0.8888888888888888,
              "#fdca26"
             ],
             [
              1,
              "#f0f921"
             ]
            ],
            "type": "histogram2dcontour"
           }
          ],
          "mesh3d": [
           {
            "colorbar": {
             "outlinewidth": 0,
             "ticks": ""
            },
            "type": "mesh3d"
           }
          ],
          "parcoords": [
           {
            "line": {
             "colorbar": {
              "outlinewidth": 0,
              "ticks": ""
             }
            },
            "type": "parcoords"
           }
          ],
          "pie": [
           {
            "automargin": true,
            "type": "pie"
           }
          ],
          "scatter": [
           {
            "fillpattern": {
             "fillmode": "overlay",
             "size": 10,
             "solidity": 0.2
            },
            "type": "scatter"
           }
          ],
          "scatter3d": [
           {
            "line": {
             "colorbar": {
              "outlinewidth": 0,
              "ticks": ""
             }
            },
            "marker": {
             "colorbar": {
              "outlinewidth": 0,
              "ticks": ""
             }
            },
            "type": "scatter3d"
           }
          ],
          "scattercarpet": [
           {
            "marker": {
             "colorbar": {
              "outlinewidth": 0,
              "ticks": ""
             }
            },
            "type": "scattercarpet"
           }
          ],
          "scattergeo": [
           {
            "marker": {
             "colorbar": {
              "outlinewidth": 0,
              "ticks": ""
             }
            },
            "type": "scattergeo"
           }
          ],
          "scattergl": [
           {
            "marker": {
             "colorbar": {
              "outlinewidth": 0,
              "ticks": ""
             }
            },
            "type": "scattergl"
           }
          ],
          "scattermap": [
           {
            "marker": {
             "colorbar": {
              "outlinewidth": 0,
              "ticks": ""
             }
            },
            "type": "scattermap"
           }
          ],
          "scattermapbox": [
           {
            "marker": {
             "colorbar": {
              "outlinewidth": 0,
              "ticks": ""
             }
            },
            "type": "scattermapbox"
           }
          ],
          "scatterpolar": [
           {
            "marker": {
             "colorbar": {
              "outlinewidth": 0,
              "ticks": ""
             }
            },
            "type": "scatterpolar"
           }
          ],
          "scatterpolargl": [
           {
            "marker": {
             "colorbar": {
              "outlinewidth": 0,
              "ticks": ""
             }
            },
            "type": "scatterpolargl"
           }
          ],
          "scatterternary": [
           {
            "marker": {
             "colorbar": {
              "outlinewidth": 0,
              "ticks": ""
             }
            },
            "type": "scatterternary"
           }
          ],
          "surface": [
           {
            "colorbar": {
             "outlinewidth": 0,
             "ticks": ""
            },
            "colorscale": [
             [
              0,
              "#0d0887"
             ],
             [
              0.1111111111111111,
              "#46039f"
             ],
             [
              0.2222222222222222,
              "#7201a8"
             ],
             [
              0.3333333333333333,
              "#9c179e"
             ],
             [
              0.4444444444444444,
              "#bd3786"
             ],
             [
              0.5555555555555556,
              "#d8576b"
             ],
             [
              0.6666666666666666,
              "#ed7953"
             ],
             [
              0.7777777777777778,
              "#fb9f3a"
             ],
             [
              0.8888888888888888,
              "#fdca26"
             ],
             [
              1,
              "#f0f921"
             ]
            ],
            "type": "surface"
           }
          ],
          "table": [
           {
            "cells": {
             "fill": {
              "color": "#EBF0F8"
             },
             "line": {
              "color": "white"
             }
            },
            "header": {
             "fill": {
              "color": "#C8D4E3"
             },
             "line": {
              "color": "white"
             }
            },
            "type": "table"
           }
          ]
         },
         "layout": {
          "annotationdefaults": {
           "arrowcolor": "#2a3f5f",
           "arrowhead": 0,
           "arrowwidth": 1
          },
          "autotypenumbers": "strict",
          "coloraxis": {
           "colorbar": {
            "outlinewidth": 0,
            "ticks": ""
           }
          },
          "colorscale": {
           "diverging": [
            [
             0,
             "#8e0152"
            ],
            [
             0.1,
             "#c51b7d"
            ],
            [
             0.2,
             "#de77ae"
            ],
            [
             0.3,
             "#f1b6da"
            ],
            [
             0.4,
             "#fde0ef"
            ],
            [
             0.5,
             "#f7f7f7"
            ],
            [
             0.6,
             "#e6f5d0"
            ],
            [
             0.7,
             "#b8e186"
            ],
            [
             0.8,
             "#7fbc41"
            ],
            [
             0.9,
             "#4d9221"
            ],
            [
             1,
             "#276419"
            ]
           ],
           "sequential": [
            [
             0,
             "#0d0887"
            ],
            [
             0.1111111111111111,
             "#46039f"
            ],
            [
             0.2222222222222222,
             "#7201a8"
            ],
            [
             0.3333333333333333,
             "#9c179e"
            ],
            [
             0.4444444444444444,
             "#bd3786"
            ],
            [
             0.5555555555555556,
             "#d8576b"
            ],
            [
             0.6666666666666666,
             "#ed7953"
            ],
            [
             0.7777777777777778,
             "#fb9f3a"
            ],
            [
             0.8888888888888888,
             "#fdca26"
            ],
            [
             1,
             "#f0f921"
            ]
           ],
           "sequentialminus": [
            [
             0,
             "#0d0887"
            ],
            [
             0.1111111111111111,
             "#46039f"
            ],
            [
             0.2222222222222222,
             "#7201a8"
            ],
            [
             0.3333333333333333,
             "#9c179e"
            ],
            [
             0.4444444444444444,
             "#bd3786"
            ],
            [
             0.5555555555555556,
             "#d8576b"
            ],
            [
             0.6666666666666666,
             "#ed7953"
            ],
            [
             0.7777777777777778,
             "#fb9f3a"
            ],
            [
             0.8888888888888888,
             "#fdca26"
            ],
            [
             1,
             "#f0f921"
            ]
           ]
          },
          "colorway": [
           "#636efa",
           "#EF553B",
           "#00cc96",
           "#ab63fa",
           "#FFA15A",
           "#19d3f3",
           "#FF6692",
           "#B6E880",
           "#FF97FF",
           "#FECB52"
          ],
          "font": {
           "color": "#2a3f5f"
          },
          "geo": {
           "bgcolor": "white",
           "lakecolor": "white",
           "landcolor": "#E5ECF6",
           "showlakes": true,
           "showland": true,
           "subunitcolor": "white"
          },
          "hoverlabel": {
           "align": "left"
          },
          "hovermode": "closest",
          "mapbox": {
           "style": "light"
          },
          "paper_bgcolor": "white",
          "plot_bgcolor": "#E5ECF6",
          "polar": {
           "angularaxis": {
            "gridcolor": "white",
            "linecolor": "white",
            "ticks": ""
           },
           "bgcolor": "#E5ECF6",
           "radialaxis": {
            "gridcolor": "white",
            "linecolor": "white",
            "ticks": ""
           }
          },
          "scene": {
           "xaxis": {
            "backgroundcolor": "#E5ECF6",
            "gridcolor": "white",
            "gridwidth": 2,
            "linecolor": "white",
            "showbackground": true,
            "ticks": "",
            "zerolinecolor": "white"
           },
           "yaxis": {
            "backgroundcolor": "#E5ECF6",
            "gridcolor": "white",
            "gridwidth": 2,
            "linecolor": "white",
            "showbackground": true,
            "ticks": "",
            "zerolinecolor": "white"
           },
           "zaxis": {
            "backgroundcolor": "#E5ECF6",
            "gridcolor": "white",
            "gridwidth": 2,
            "linecolor": "white",
            "showbackground": true,
            "ticks": "",
            "zerolinecolor": "white"
           }
          },
          "shapedefaults": {
           "line": {
            "color": "#2a3f5f"
           }
          },
          "ternary": {
           "aaxis": {
            "gridcolor": "white",
            "linecolor": "white",
            "ticks": ""
           },
           "baxis": {
            "gridcolor": "white",
            "linecolor": "white",
            "ticks": ""
           },
           "bgcolor": "#E5ECF6",
           "caxis": {
            "gridcolor": "white",
            "linecolor": "white",
            "ticks": ""
           }
          },
          "title": {
           "x": 0.05
          },
          "xaxis": {
           "automargin": true,
           "gridcolor": "white",
           "linecolor": "white",
           "ticks": "",
           "title": {
            "standoff": 15
           },
           "zerolinecolor": "white",
           "zerolinewidth": 2
          },
          "yaxis": {
           "automargin": true,
           "gridcolor": "white",
           "linecolor": "white",
           "ticks": "",
           "title": {
            "standoff": 15
           },
           "zerolinecolor": "white",
           "zerolinewidth": 2
          }
         }
        },
        "title": {
         "text": "PCA Visualization - Personality Traits Embeddings<br>Mello Campus Population (240 users)"
        },
        "width": 960,
        "xaxis": {
         "title": {
          "text": "PC1 (4.7% variance)"
         }
        },
        "yaxis": {
         "title": {
          "text": "PC2 (3.7% variance)"
         }
        }
       }
      }
     },
     "metadata": {},
     "output_type": "display_data"
    },
    {
     "name": "stdout",
     "output_type": "stream",
     "text": [
      "✅ Plotly personality traits PCA complete\n",
      "\n",
      "📖 Visualization Guide:\n",
      "   📚 Interests PCA: Cultural preferences embeddings (books, movies, music)\n",
      "   🧠 Personality PCA: Big 5 personality traits embeddings (Openness, Conscientiousness, etc.)\n",
      "   ⭐ Red stars: Real users (special)\n",
      "   🔵 Blue/Green dots: Synthetic users\n",
      "   📏 Similarity: Euclidean distance (1.0 = identical, 0.0 = different)\n",
      "   🎨 Interactive: Hover for names, zoom, pan to explore\n"
     ]
    }
   ],
   "source": [
    "# Interactive Plotly Visualizations\n",
    "users_with_embeddings = population.get_users_with_embeddings()\n",
    "\n",
    "print(f\"📊 Interactive Plotly Population Visualization\")\n",
    "print(f\"Users with embeddings: {len(users_with_embeddings)}\")\n",
    "print(f\"Similarity metric: Euclidean Distance (L2 norm, normalized)\")\n",
    "print()\n",
    "\n",
    "if len(users_with_embeddings) >= 3:\n",
    "    \n",
    "    # 📚 Plotly PCA Visualization - Interests Only\n",
    "    print(f\"📚 Creating Plotly PCA - Interests Embeddings (768D → 2D):\")\n",
    "    try:\n",
    "        fig_interests = visualizer.plot_population_pca(\n",
    "            population, \n",
    "            mode='interests', \n",
    "            highlight_special=True, \n",
    "            figsize=(12, 8)\n",
    "        )\n",
    "        fig_interests.show()\n",
    "        print(f\"✅ Plotly interests PCA complete\")\n",
    "        \n",
    "    except Exception as e:\n",
    "        print(f\"❌ Interests PCA failed: {e}\")\n",
    "    \n",
    "    print()\n",
    "    \n",
    "    # 🧠 Plotly PCA Visualization - Combined Personality Traits\n",
    "    print(f\"🧠 Creating Plotly PCA - Combined Personality Traits (3840D → 2D):\")\n",
    "    try:\n",
    "        # Get combined personality embedding (all 5 traits)\n",
    "        from sklearn.decomposition import PCA\n",
    "        from sklearn.preprocessing import StandardScaler\n",
    "        import plotly.graph_objects as go\n",
    "        import numpy as np\n",
    "        \n",
    "        # Get users with complete personality embeddings\n",
    "        personality_users = []\n",
    "        personality_embeddings = []\n",
    "        \n",
    "        for user in users_with_embeddings:\n",
    "            trait_embeddings = []\n",
    "            has_all_traits = True\n",
    "            \n",
    "            for trait in ['Openness', 'Conscientiousness', 'Extraversion', 'Agreeableness', 'Neuroticism']:\n",
    "                trait_emb = getattr(user, f'{trait.lower()}_embedding', None)\n",
    "                if trait_emb is not None:\n",
    "                    trait_embeddings.append(trait_emb)\n",
    "                else:\n",
    "                    has_all_traits = False\n",
    "                    break\n",
    "            \n",
    "            if has_all_traits:\n",
    "                personality_users.append(user)\n",
    "                combined_personality = np.concatenate(trait_embeddings)\n",
    "                personality_embeddings.append(combined_personality)\n",
    "        \n",
    "        if len(personality_embeddings) >= 3:\n",
    "            personality_matrix = np.array(personality_embeddings)\n",
    "            \n",
    "            # Apply PCA to personality embeddings\n",
    "            scaler = StandardScaler()\n",
    "            embeddings_scaled = scaler.fit_transform(personality_matrix)\n",
    "            pca = PCA(n_components=2)\n",
    "            embeddings_2d = pca.fit_transform(embeddings_scaled)\n",
    "            \n",
    "            # Create Plotly figure for personality\n",
    "            fig_personality = go.Figure()\n",
    "            \n",
    "            # Separate special and regular users\n",
    "            special_indices = []\n",
    "            regular_indices = []\n",
    "            \n",
    "            for i, user in enumerate(personality_users):\n",
    "                if user.special:\n",
    "                    special_indices.append(i)\n",
    "                else:\n",
    "                    regular_indices.append(i)\n",
    "            \n",
    "            # Plot regular users\n",
    "            if regular_indices:\n",
    "                regular_coords = embeddings_2d[regular_indices]\n",
    "                regular_names = [personality_users[i].name for i in regular_indices]\n",
    "                \n",
    "                fig_personality.add_trace(go.Scatter(\n",
    "                    x=regular_coords[:, 0],\n",
    "                    y=regular_coords[:, 1],\n",
    "                    mode='markers',\n",
    "                    marker=dict(size=8, color='lightgreen', opacity=0.7, line=dict(width=1, color='darkgreen')),\n",
    "                    name=f'Users ({len(regular_indices)})',\n",
    "                    hovertext=regular_names,\n",
    "                    hovertemplate='<b>%{hovertext}</b><extra></extra>'\n",
    "                ))\n",
    "            \n",
    "            # Plot special users\n",
    "            if special_indices:\n",
    "                special_coords = embeddings_2d[special_indices]\n",
    "                special_names = [personality_users[i].name for i in special_indices]\n",
    "                \n",
    "                fig_personality.add_trace(go.Scatter(\n",
    "                    x=special_coords[:, 0],\n",
    "                    y=special_coords[:, 1],\n",
    "                    mode='markers',\n",
    "                    marker=dict(size=15, color='red', opacity=0.9, symbol='star', line=dict(width=2, color='darkred')),\n",
    "                    name=f'Special Users ({len(special_indices)})',\n",
    "                    hovertext=special_names,\n",
    "                    hovertemplate='<b>%{hovertext}</b><extra></extra>'\n",
    "                ))\n",
    "            \n",
    "            # Update layout\n",
    "            total_variance = pca.explained_variance_ratio_[:2].sum()\n",
    "            fig_personality.update_layout(\n",
    "                title=f'PCA Visualization - Personality Traits Embeddings<br>{population.name} ({len(personality_users)} users)',\n",
    "                xaxis_title=f'PC1 ({pca.explained_variance_ratio_[0]:.1%} variance)',\n",
    "                yaxis_title=f'PC2 ({pca.explained_variance_ratio_[1]:.1%} variance)',\n",
    "                hovermode='closest',\n",
    "                showlegend=True,\n",
    "                width=960,\n",
    "                height=640,\n",
    "                annotations=[\n",
    "                    dict(\n",
    "                        text=f'Total variance explained: {total_variance:.1%}<br>Similarity metric: Euclidean Distance<br>Dimensions: 5 traits × 768D = 3840D',\n",
    "                        xref=\"paper\", yref=\"paper\",\n",
    "                        x=0.02, y=0.98, xanchor='left', yanchor='top',\n",
    "                        showarrow=False,\n",
    "                        font=dict(size=12),\n",
    "                        bgcolor=\"rgba(255,255,255,0.8)\",\n",
    "                        bordercolor=\"rgba(0,0,0,0.5)\",\n",
    "                        borderwidth=1\n",
    "                    )\n",
    "                ]\n",
    "            )\n",
    "            \n",
    "            fig_personality.show()\n",
    "            print(f\"✅ Plotly personality traits PCA complete\")\n",
    "        else:\n",
    "            print(f\"❌ Need at least 3 users with complete personality embeddings, got {len(personality_embeddings)}\")\n",
    "        \n",
    "    except Exception as e:\n",
    "        print(f\"❌ Personality PCA failed: {e}\")\n",
    "\n",
    "else:\n",
    "    print(f\"⚠️  Need at least 3 users with embeddings for visualization\")\n",
    "    print(f\"   Current: {len(users_with_embeddings)} users\")\n",
    "    print(f\"   Generate more synthetic users in the previous cell\")\n",
    "\n",
    "print(f\"\\n📖 Visualization Guide:\")\n",
    "print(f\"   📚 Interests PCA: Cultural preferences embeddings (books, movies, music)\")\n",
    "print(f\"   🧠 Personality PCA: Big 5 personality traits embeddings (Openness, Conscientiousness, etc.)\")\n",
    "print(f\"   ⭐ Red stars: Real users (special)\")\n",
    "print(f\"   🔵 Blue/Green dots: Synthetic users\")\n",
    "print(f\"   📏 Similarity: Euclidean distance (1.0 = identical, 0.0 = different)\")\n",
    "print(f\"   🎨 Interactive: Hover for names, zoom, pan to explore\")"
   ]
  },
  {
   "cell_type": "markdown",
   "metadata": {},
   "source": [
    "## 💾 Save Population\n",
    "\n",
    "Save the complete population for future use."
   ]
  },
  {
   "cell_type": "code",
   "execution_count": 14,
   "metadata": {},
   "outputs": [
    {
     "name": "stdout",
     "output_type": "stream",
     "text": [
      "💾 Saving population to mello_population.json...\n",
      "✅ Population saved successfully\n",
      "   File size: 29,533,547 bytes (28.2 MB)\n",
      "   Users saved: 240\n",
      "   Users with embeddings: 240\n",
      "\n",
      "🎉 Notebook complete!\n",
      "📊 Final Statistics:\n",
      "   Population: 240 users\n",
      "   Architecture: 768D interests + 5×768D traits\n",
      "   Approach: Unified personality profiling\n",
      "   Embeddings: 240 users ready\n"
     ]
    }
   ],
   "source": [
    "# Save population to JSON\n",
    "save_path = \"mello_population.json\"\n",
    "\n",
    "print(f\"💾 Saving population to {save_path}...\")\n",
    "\n",
    "try:\n",
    "    population.save_to_json(save_path)\n",
    "    print(f\"✅ Population saved successfully\")\n",
    "    \n",
    "    # Show file info\n",
    "    import os\n",
    "    file_size = os.path.getsize(save_path)\n",
    "    print(f\"   File size: {file_size:,} bytes ({file_size/1024/1024:.1f} MB)\")\n",
    "    print(f\"   Users saved: {len(population)}\")\n",
    "    print(f\"   Users with embeddings: {len(population.get_users_with_embeddings())}\")\n",
    "    \n",
    "except Exception as e:\n",
    "    print(f\"❌ Failed to save population: {e}\")\n",
    "\n",
    "print(f\"\\n🎉 Notebook complete!\")\n",
    "print(f\"📊 Final Statistics:\")\n",
    "print(f\"   Population: {len(population)} users\")\n",
    "print(f\"   Architecture: 768D interests + 5×768D traits\")\n",
    "print(f\"   Approach: Unified personality profiling\")\n",
    "print(f\"   Embeddings: {len(population.get_users_with_embeddings())} users ready\")"
   ]
  },
  {
   "cell_type": "code",
   "execution_count": null,
   "metadata": {},
   "outputs": [
    {
     "data": {
      "text/plain": [
       "'Elara Vance'"
      ]
     },
     "execution_count": 25,
     "metadata": {},
     "output_type": "execute_result"
    }
   ],
   "source": []
  },
  {
   "cell_type": "code",
   "execution_count": null,
   "metadata": {},
   "outputs": [],
   "source": []
  }
 ],
 "metadata": {
  "kernelspec": {
   "display_name": "Python 3",
   "language": "python",
   "name": "python3"
  },
  "language_info": {
   "codemirror_mode": {
    "name": "ipython",
    "version": 3
   },
   "file_extension": ".py",
   "mimetype": "text/x-python",
   "name": "python",
   "nbconvert_exporter": "python",
   "pygments_lexer": "ipython3",
   "version": "3.8.5"
  }
 },
 "nbformat": 4,
 "nbformat_minor": 4
}
